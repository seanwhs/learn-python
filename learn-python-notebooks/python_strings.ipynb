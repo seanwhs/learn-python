{
 "cells": [
  {
   "cell_type": "markdown",
   "metadata": {},
   "source": [
    "# Strings  \n",
    "~ Strings in python are surrounded by either single quotation marks, or double quotation marks. \n",
    "\n",
    "~ 'hello' is the same as \"hello\".   \n",
    "\n",
    "~ You can display a string literal with the print() function:"
   ]
  },
  {
   "cell_type": "code",
   "execution_count": 5,
   "metadata": {},
   "outputs": [
    {
     "name": "stdout",
     "output_type": "stream",
     "text": [
      "Python Strings\n",
      "Python Strings\n"
     ]
    }
   ],
   "source": [
    "print(\"Python Strings\")\n",
    "print('Python Strings')"
   ]
  },
  {
   "cell_type": "markdown",
   "metadata": {},
   "source": [
    "## Quotes Inside Quotes     \n",
    "\n",
    "~ You can use quotes inside a string, as long as they don't match the quotes surrounding the string:\n",
    "\n"
   ]
  },
  {
   "cell_type": "code",
   "execution_count": 4,
   "metadata": {},
   "outputs": [
    {
     "name": "stdout",
     "output_type": "stream",
     "text": [
      "Isn't this Cool!!!\n",
      "My name is 'Sean'\n",
      "My name is \"Sean\"\n"
     ]
    }
   ],
   "source": [
    "print(\"Isn't this Cool!!!\")\n",
    "print(\"My name is 'Sean'\")\n",
    "print('My name is \"Sean\"')"
   ]
  },
  {
   "cell_type": "markdown",
   "metadata": {},
   "source": [
    "## Assign String to a Variable      \n",
    "~ Assigning a string to a variable is done with the variable name followed by an equal sign and the string:\n"
   ]
  },
  {
   "cell_type": "code",
   "execution_count": 6,
   "metadata": {},
   "outputs": [
    {
     "name": "stdout",
     "output_type": "stream",
     "text": [
      "Hi There\n"
     ]
    }
   ],
   "source": [
    "a = \"Hi There\"\n",
    "print(a)"
   ]
  },
  {
   "cell_type": "markdown",
   "metadata": {},
   "source": [
    "## Multiline Strings\n",
    "\n",
    "~ You can assign a multiline string to a variable by using three quotes:"
   ]
  },
  {
   "cell_type": "code",
   "execution_count": 7,
   "metadata": {},
   "outputs": [
    {
     "name": "stdout",
     "output_type": "stream",
     "text": [
      "  \n",
      "Strings in python are surrounded by either single quotation marks, or double quotation marks. \n",
      "'hello' is the same as \"hello\".   \n",
      "You can display a string literal with the print() function:\n",
      "You can use quotes inside a string, as long as they don't match the quotes surrounding the string:\n",
      "Assigning a string to a variable is done with the variable name followed by an equal sign and the string:\n",
      "You can assign a multiline string to a variable by using three quotes:\n",
      "\n"
     ]
    }
   ],
   "source": [
    "python_strings = '''  \n",
    "Strings in python are surrounded by either single quotation marks, or double quotation marks. \n",
    "'hello' is the same as \"hello\".   \n",
    "You can display a string literal with the print() function:\n",
    "You can use quotes inside a string, as long as they don't match the quotes surrounding the string:\n",
    "Assigning a string to a variable is done with the variable name followed by an equal sign and the string:\n",
    "You can assign a multiline string to a variable by using three quotes:\n",
    "'''\n",
    "\n",
    "print(python_strings)"
   ]
  },
  {
   "cell_type": "markdown",
   "metadata": {},
   "source": [
    "## Strings are Arrays   \n",
    "~ Like many other popular programming languages, strings in Python are arrays of bytes representing unicode characters.     \n",
    "\n",
    "~ However, Python does not have a character data type, a single character is simply a string with a length of 1.        \n",
    "\n",
    "~ Square brackets can be used to access elements of the string."
   ]
  },
  {
   "cell_type": "code",
   "execution_count": 9,
   "metadata": {},
   "outputs": [
    {
     "name": "stdout",
     "output_type": "stream",
     "text": [
      "q\n"
     ]
    }
   ],
   "source": [
    "# Get the character at position 1 (remember that the first character has the position 0):\n",
    "\n",
    "a = \"Square brackets can be used to access elements of the string\"\n",
    "print(a[1])"
   ]
  },
  {
   "cell_type": "markdown",
   "metadata": {},
   "source": [
    "# Looping Through a String\n",
    "\n",
    "~ Since strings are arrays, we can loop through the characters in a string, with a for loop."
   ]
  },
  {
   "cell_type": "code",
   "execution_count": 10,
   "metadata": {},
   "outputs": [
    {
     "name": "stdout",
     "output_type": "stream",
     "text": [
      "S\n",
      "q\n",
      "u\n",
      "a\n",
      "r\n",
      "e\n"
     ]
    }
   ],
   "source": [
    "# Loop through the letters in the word \"Square\":\n",
    "\n",
    "\n",
    "for x in \"Square\":\n",
    "  print(x)"
   ]
  },
  {
   "cell_type": "markdown",
   "metadata": {},
   "source": [
    "## String Length    \n",
    "\n",
    "~ To get the length of a string, use the len() function.\n",
    "\n"
   ]
  },
  {
   "cell_type": "code",
   "execution_count": 11,
   "metadata": {},
   "outputs": [
    {
     "name": "stdout",
     "output_type": "stream",
     "text": [
      "13\n"
     ]
    }
   ],
   "source": [
    "a = \"String Length\"\n",
    "print(len(a))"
   ]
  },
  {
   "cell_type": "markdown",
   "metadata": {},
   "source": [
    "## Check String     \n",
    "~ To check if a certain phrase or character is present in a string, we can use the keyword in.  "
   ]
  },
  {
   "cell_type": "code",
   "execution_count": 12,
   "metadata": {},
   "outputs": [
    {
     "name": "stdout",
     "output_type": "stream",
     "text": [
      "True\n"
     ]
    }
   ],
   "source": [
    "# Check if \"free\" is present in the following text:\n",
    "foss = \"Free as in free beer\"\n",
    "print(\"free\" in foss)\n"
   ]
  },
  {
   "cell_type": "code",
   "execution_count": 14,
   "metadata": {},
   "outputs": [
    {
     "name": "stdout",
     "output_type": "stream",
     "text": [
      "Yes, 'free' is present in 'foss'.\n"
     ]
    }
   ],
   "source": [
    "# Print only if \"free\" is present:\n",
    "\n",
    "foss = \"Free as in free beer\"\n",
    "if \"free\" in foss:\n",
    "  print(\"Yes, 'free' is present in 'foss'.\")"
   ]
  },
  {
   "cell_type": "code",
   "execution_count": 15,
   "metadata": {},
   "outputs": [
    {
     "name": "stdout",
     "output_type": "stream",
     "text": [
      "No, 'expensive' is NOT present in 'foss'.\n"
     ]
    }
   ],
   "source": [
    "# To check if a certain phrase or character is NOT present in a string, we can use the keyword not in.\n",
    "\n",
    "foss = \"Free as in free beer\"\n",
    "if \"expensive\" not in foss:\n",
    "  print(\"No, 'expensive' is NOT present in 'foss'.\")"
   ]
  },
  {
   "cell_type": "markdown",
   "metadata": {},
   "source": [
    "## Slicing  \n",
    "~ You can return a range of characters by using the slice syntax. \n",
    "\n",
    "~ Specify the start index and the end index, separated by a colon, to return a part of the string."
   ]
  },
  {
   "cell_type": "code",
   "execution_count": 20,
   "metadata": {},
   "outputs": [
    {
     "name": "stdout",
     "output_type": "stream",
     "text": [
      "can\n",
      "I can\n",
      "can and I will\n"
     ]
    }
   ],
   "source": [
    "# Get the characters from position 2 to position 5 (not included)\n",
    "msg = \"I can and I will\"\n",
    "print(msg[2:5])\n",
    "\n",
    "# By leaving out the start index, the range will start at the first character\n",
    "msg = \"I can and I will\"\n",
    "print(msg[:5])          # Get the characters from the start to position 5 (not included)\n",
    "\n",
    "\n",
    "# By leaving out the end index, the range will go to the end\n",
    "msg = \"I can and I will\"\n",
    "print(msg[2:])          # Get the characters from position 2, and all the way to the end\n"
   ]
  },
  {
   "cell_type": "markdown",
   "metadata": {},
   "source": [
    "## Negative Indexing\n",
    "\n",
    "~ Use negative indexes to start the slice from the end of the string"
   ]
  },
  {
   "cell_type": "code",
   "execution_count": 22,
   "metadata": {},
   "outputs": [
    {
     "name": "stdout",
     "output_type": "stream",
     "text": [
      "will\n"
     ]
    }
   ],
   "source": [
    "# Get the characters:\n",
    "#   From: \"w\" in \"will!\" (position -5)\n",
    "#   To, but not included: \"!\" in \"will!\" (position -2)\n",
    "\n",
    "msg = \"I can and I will!\"\n",
    "print(msg[-5:-1])"
   ]
  },
  {
   "cell_type": "markdown",
   "metadata": {},
   "source": [
    "## Modify Strings       \n",
    "Python has a set of built-in methods that you can use on strings."
   ]
  },
  {
   "cell_type": "code",
   "execution_count": 1,
   "metadata": {},
   "outputs": [
    {
     "name": "stdout",
     "output_type": "stream",
     "text": [
      "I CAN AND I WILL!\n"
     ]
    }
   ],
   "source": [
    "# The upper() method returns the string in upper case:\n",
    "\n",
    "msg = \"I can and I will!\"\n",
    "print(msg.upper())"
   ]
  },
  {
   "cell_type": "code",
   "execution_count": 2,
   "metadata": {},
   "outputs": [
    {
     "name": "stdout",
     "output_type": "stream",
     "text": [
      "i can and i will!\n"
     ]
    }
   ],
   "source": [
    "# The lower() method returns the string in lower case:\n",
    "\n",
    "msg = \"I can and I will!\"\n",
    "print(msg.lower())"
   ]
  },
  {
   "cell_type": "code",
   "execution_count": 5,
   "metadata": {},
   "outputs": [
    {
     "name": "stdout",
     "output_type": "stream",
     "text": [
      "   I     can     and I will!   \n",
      "I     can     and I will!\n"
     ]
    }
   ],
   "source": [
    "# The strip() method removes any whitespace from the beginning or the end:\n",
    "\n",
    "msg = \"   I     can     and I will!   \"\n",
    "print(msg)\n",
    "print(msg.strip())"
   ]
  },
  {
   "cell_type": "code",
   "execution_count": 6,
   "metadata": {},
   "outputs": [
    {
     "name": "stdout",
     "output_type": "stream",
     "text": [
      "I can and I most certainly will!\n"
     ]
    }
   ],
   "source": [
    "# The replace() method replaces a string with another string:\n",
    "\n",
    "msg = \"I can and I will!\"\n",
    "print(msg.replace(\"will\", \"most certainly will\"))"
   ]
  },
  {
   "cell_type": "code",
   "execution_count": 7,
   "metadata": {},
   "outputs": [
    {
     "name": "stdout",
     "output_type": "stream",
     "text": [
      "['I can and I will', ' watch me!']\n"
     ]
    }
   ],
   "source": [
    "# The split() method splits the string into substrings if it finds instances of the separator:\n",
    "\n",
    "msg = \"I can and I will, watch me!\"\n",
    "print(msg.split(\",\"))       # retuens ['I can and I will', ' watch me!']\n"
   ]
  },
  {
   "cell_type": "markdown",
   "metadata": {},
   "source": [
    "## String Concatenation     \n",
    "\n",
    "To concatenate, or combine, two strings you can use the + operator.\n",
    "\n",
    "\n"
   ]
  },
  {
   "cell_type": "code",
   "execution_count": 10,
   "metadata": {},
   "outputs": [
    {
     "name": "stdout",
     "output_type": "stream",
     "text": [
      "I can and I will. Watch me!\n"
     ]
    }
   ],
   "source": [
    "msg1 = \"I can and I will.\"\n",
    "msg2 = \"Watch me!\"\n",
    "print(msg1 + \" \" + msg2)"
   ]
  },
  {
   "cell_type": "markdown",
   "metadata": {},
   "source": [
    "## F-Strings\n",
    "\n",
    "~ F-String was introduced in Python 3.6, and is now the preferred way of formatting strings.\n",
    "\n",
    "~ To specify a string as an f-string, simply put an f in front of the string literal\n",
    "\n",
    "~ Add curly brackets {} as placeholders for variables and other operations.\n",
    "\n",
    "~ A placeholder can contain variables, operations, functions, and modifiers to format the value.\n",
    "dd"
   ]
  },
  {
   "cell_type": "code",
   "execution_count": 15,
   "metadata": {},
   "outputs": [
    {
     "name": "stdout",
     "output_type": "stream",
     "text": [
      "An Apple costs $0.755 each\n"
     ]
    }
   ],
   "source": [
    "# Add placeholders for fruit and price variables:\n",
    "\n",
    "fruit = \"Apple\"\n",
    "price = 0.755\n",
    "print(f\"An {fruit} costs ${price} each\")"
   ]
  },
  {
   "cell_type": "markdown",
   "metadata": {},
   "source": [
    "## Modifiers        \n",
    "~ A placeholder can include a modifier to format the value.\n",
    "\n",
    "~ A modifier is included by adding a colon : followed by a legal formatting type, like .2f which means fixed point number with 2 decimals:"
   ]
  },
  {
   "cell_type": "code",
   "execution_count": 16,
   "metadata": {},
   "outputs": [
    {
     "name": "stdout",
     "output_type": "stream",
     "text": [
      "An Apple costs $0.75 each\n"
     ]
    }
   ],
   "source": [
    "# Display the price with 2 decimals:\n",
    "\n",
    "fruit = \"Apple\"\n",
    "price = 0.75\n",
    "print(f\"An {fruit} costs ${price:.2f} each\")"
   ]
  },
  {
   "cell_type": "code",
   "execution_count": 18,
   "metadata": {},
   "outputs": [
    {
     "name": "stdout",
     "output_type": "stream",
     "text": [
      "25 Apple costs $18.75 each\n"
     ]
    }
   ],
   "source": [
    "# A placeholder can contain Python code, like math operations:\n",
    "\n",
    "fruit = \"Apple\"\n",
    "qty = 25\n",
    "price = 0.75\n",
    "print(f\"{qty} {fruit} costs ${(qty*price):.2f} each\")"
   ]
  },
  {
   "cell_type": "markdown",
   "metadata": {},
   "source": [
    "## Escape Characters        \n",
    "~ To insert characters that are illegal in a string, use an escape character.\n",
    "\n",
    "~ An escape character is a backslash \\ followed by the character you want to insert.\n",
    "\n",
    "~ An example of an illegal character is a double quote inside a string that is surrounded by double quotes:"
   ]
  },
  {
   "cell_type": "code",
   "execution_count": 19,
   "metadata": {},
   "outputs": [
    {
     "name": "stdout",
     "output_type": "stream",
     "text": [
      "An \"Apple\" A Day Keeps the \"Doctor\" Away\n"
     ]
    }
   ],
   "source": [
    "escape = \"An \\\"Apple\\\" A Day Keeps the \\\"Doctor\\\" Away\"\n",
    "print(escape)"
   ]
  },
  {
   "cell_type": "markdown",
   "metadata": {},
   "source": [
    "## Escape Characters        \n",
    "\n",
    "| Code | Result             |\n",
    "|------|---------------------|\n",
    "| \\'   | Single Quote        |\n",
    "| \\\\   | Backslash           |\n",
    "| \\n   | New Line            |\n",
    "| \\r   | Carriage Return     |\n",
    "| \\t   | Tab                 |\n",
    "| \\b   | Backspace           |\n",
    "| \\f   | Form Feed           |\n",
    "| \\ooo | Octal value         |\n",
    "| \\xhh | Hex value           |\n"
   ]
  },
  {
   "cell_type": "markdown",
   "metadata": {},
   "source": [
    "## String Methods\n",
    "\n",
    "| Method        | Description                                                                          |\n",
    "|---------------|--------------------------------------------------------------------------------------|\n",
    "| capitalize()  | Converts the first character to upper case                                           |\n",
    "| casefold()    | Converts string into lower case                                                      |\n",
    "| center()      | Returns a centered string                                                            |\n",
    "| count()       | Returns the number of times a specified value occurs in a string                     |\n",
    "| encode()      | Returns an encoded version of the string                                             |\n",
    "| endswith()    | Returns true if the string ends with the specified value                             |\n",
    "| expandtabs()  | Sets the tab size of the string                                                      |\n",
    "| find()        | Searches the string for a specified value and returns the position of where it was found |\n",
    "| format()      | Formats specified values in a string                                                 |\n",
    "| format_map()  | Formats specified values in a string                                                 |\n",
    "| index()       | Searches the string for a specified value and returns the position of where it was found |\n",
    "| isalnum()     | Returns True if all characters in the string are alphanumeric                        |\n",
    "| isalpha()     | Returns True if all characters in the string are in the alphabet                     |\n",
    "| isascii()     | Returns True if all characters in the string are ascii characters                    |\n",
    "| isdecimal()   | Returns True if all characters in the string are decimals                            |\n",
    "| isdigit()     | Returns True if all characters in the string are digits                              |\n",
    "| isidentifier()| Returns True if the string is an identifier                                          |\n",
    "| islower()     | Returns True if all characters in the string are lower case                          |\n",
    "| isnumeric()   | Returns True if all characters in the string are numeric                             |\n",
    "| isprintable() | Returns True if all characters in the string are printable                           |\n",
    "| isspace()     | Returns True if all characters in the string are whitespaces                         |\n",
    "| istitle()     | Returns True if the string follows the rules of a title                              |\n",
    "| isupper()     | Returns True if all characters in the string are upper case                          |\n",
    "| join()        | Joins the elements of an iterable to the end of the string                           |\n",
    "| ljust()       | Returns a left justified version of the string                                       |\n",
    "| lower()       | Converts a string into lower case                                                    |\n",
    "| lstrip()      | Returns a left trim version of the string                                            |\n",
    "| maketrans()   | Returns a translation table to be used in translations                               |\n",
    "| partition()   | Returns a tuple where the string is parted into three parts                          |\n",
    "| replace()     | Returns a string where a specified value is replaced with a specified value          |\n",
    "| rfind()       | Searches the string for a specified value and returns the last position of where it was found |\n",
    "| rindex()      | Searches the string for a specified value and returns the last position of where it was found |\n",
    "| rjust()       | Returns a right justified version of the string                                      |\n",
    "| rpartition()  | Returns a tuple where the string is parted into three parts                          |\n",
    "| rsplit()      | Splits the string at the specified separator, and returns a list                     |\n",
    "| rstrip()      | Returns a right trim version of the string                                           |\n",
    "| split()       | Splits the string at the specified separator, and returns a list                     |\n",
    "| splitlines()  | Splits the string at line breaks and returns a list                                  |\n",
    "| startswith()  | Returns true if the string starts with the specified value                           |\n",
    "| strip()       | Returns a trimmed version of the string                                              |\n",
    "| swapcase()    | Swaps cases, lower case becomes upper case and vice versa                            |\n",
    "| title()       | Converts the first character of each word to upper case                              |\n",
    "| translate()   | Returns a translated string                                                          |\n",
    "| upper()       | Converts a string into upper case                                                    |\n",
    "| zfill()       | Fills the string with a specified number of 0 values at the beginning                |\n"
   ]
  }
 ],
 "metadata": {
  "kernelspec": {
   "display_name": "Python 3",
   "language": "python",
   "name": "python3"
  },
  "language_info": {
   "codemirror_mode": {
    "name": "ipython",
    "version": 3
   },
   "file_extension": ".py",
   "mimetype": "text/x-python",
   "name": "python",
   "nbconvert_exporter": "python",
   "pygments_lexer": "ipython3",
   "version": "3.12.4"
  }
 },
 "nbformat": 4,
 "nbformat_minor": 2
}
