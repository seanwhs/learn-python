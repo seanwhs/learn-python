{
 "cells": [
  {
   "cell_type": "markdown",
   "metadata": {},
   "source": [
    "## Built-in Data Types\n",
    "\n",
    "~ In programming, data type is an important concept.    \n",
    "~ Variables can store data of different types, and different types can do different things.     \n",
    "~ Python has the following data types built-in by default, in these categories:     \n",
    "\n",
    "        ~ Text Type:\t    str     \n",
    "        ~ Numeric Types:    int, float, complex     \n",
    "        ~ Sequence Types:   list, tuple, range      \n",
    "        ~ Mapping Type:\t    dict        \n",
    "        ~ Set Types:\t    set, frozenset      \n",
    "        ~ Boolean Type:\t    bool        \n",
    "        ~ Binary Types:\t    bytes, bytearray, memoryview        \n",
    "        ~ None Type:\t    NoneType        "
   ]
  },
  {
   "cell_type": "markdown",
   "metadata": {},
   "source": [
    "## Getting the Data Type\n",
    "\n",
    "You can get the data type of any object by using the type() function:"
   ]
  },
  {
   "cell_type": "code",
   "execution_count": 1,
   "metadata": {},
   "outputs": [
    {
     "name": "stdout",
     "output_type": "stream",
     "text": [
      "<class 'int'> <class 'str'>\n"
     ]
    }
   ],
   "source": [
    "x = 5\n",
    "y = \"Apple\"\n",
    "print(type(x), type(y))"
   ]
  },
  {
   "cell_type": "markdown",
   "metadata": {},
   "source": [
    "## Setting the Data Type\n",
    "\n",
    "In Python, the data type is set when you assign a value to a variable:\n",
    "\n"
   ]
  },
  {
   "cell_type": "code",
   "execution_count": 6,
   "metadata": {},
   "outputs": [
    {
     "name": "stdout",
     "output_type": "stream",
     "text": [
      "a has value Hi There and is of type <class 'str'>\n",
      "b has value 300 and is of type <class 'int'>\n",
      "c has value 45.5 and is of type <class 'float'>\n",
      "d has value 1j and is of type <class 'complex'>\n",
      "e has value ['shirts', 'pants', 'socks'] and is of type <class 'list'>\n",
      "f has value ('male', 'married', 'manager') and is of type <class 'tuple'>\n",
      "g has value range(0, 10) and is of type <class 'range'>\n",
      "h has value {'name': 'Sean', 'age': 56} and is of type <class 'dict'>\n",
      "i has value {'longan', 'chiku', 'lychee'} and is of type <class 'set'>\n",
      "j has value frozenset({'bus', 'ship', 'plane'}) and is of type <class 'frozenset'>\n",
      "k has value True and is of type <class 'bool'>\n",
      "l has value b'Byte' and is of type <class 'bytes'>\n",
      "m has value bytearray(b'\\x00\\x00') and is of type <class 'bytearray'>\n",
      "n has value <memory at 0x0000022D48A66080> and is of type <class 'memoryview'>\n",
      "o has value None and is of type <class 'NoneType'>\n"
     ]
    }
   ],
   "source": [
    "# Variable declaration and assignment\n",
    "a = \"Hi There\"\t                            # string\n",
    "b = 300\t                                    # int\n",
    "c = 45.5\t                                # float\n",
    "d = 1j\t                                    # complex\n",
    "e = [\"shirts\", \"pants\", \"socks\"]\t        # list\n",
    "f = (\"male\", \"married\", \"manager\")\t        # tuple\n",
    "g = range(10)\t                            # range\n",
    "h = {\"name\" : \"Sean\", \"age\" : 56}\t        # dict\n",
    "i = {\"chiku\", \"longan\", \"lychee\"}\t        # set\n",
    "j = frozenset({\"plane\", \"ship\", \"bus\"})\t    # frozenset\n",
    "k = True\t                                # bool\n",
    "l = b\"Byte\"\t                                # bytes\n",
    "m = bytearray(2)\t                        # bytearray\n",
    "n = memoryview(bytes(5))\t                # memoryview\n",
    "o = None\t                                # NoneType\n",
    "\n",
    "# Display value and type \n",
    "print(f\"a has value {a} and is of type {type(a)}\")\n",
    "print(f\"b has value {b} and is of type {type(b)}\")\n",
    "print(f\"c has value {c} and is of type {type(c)}\")\n",
    "print(f\"d has value {d} and is of type {type(d)}\")\n",
    "print(f\"e has value {e} and is of type {type(e)}\")\n",
    "print(f\"f has value {f} and is of type {type(f)}\")\n",
    "print(f\"g has value {g} and is of type {type(g)}\")\n",
    "print(f\"h has value {h} and is of type {type(h)}\")\n",
    "print(f\"i has value {i} and is of type {type(i)}\")\n",
    "print(f\"j has value {j} and is of type {type(j)}\")\n",
    "print(f\"k has value {k} and is of type {type(k)}\")\n",
    "print(f\"l has value {l} and is of type {type(l)}\")\n",
    "print(f\"m has value {m} and is of type {type(m)}\")\n",
    "print(f\"n has value {n} and is of type {type(n)}\")\n",
    "print(f\"o has value {o} and is of type {type(o)}\")"
   ]
  },
  {
   "cell_type": "markdown",
   "metadata": {},
   "source": [
    "## Setting the Specific Data Type\n",
    "\n",
    "If you want to specify the data type, you can use the following constructor functions:\n",
    "\n"
   ]
  },
  {
   "cell_type": "code",
   "execution_count": 8,
   "metadata": {},
   "outputs": [
    {
     "name": "stdout",
     "output_type": "stream",
     "text": [
      "a has value Hi There and is of type <class 'str'>\n",
      "b has value 300 and is of type <class 'int'>\n",
      "c has value 45.5 and is of type <class 'float'>\n",
      "d has value 1j and is of type <class 'complex'>\n",
      "e has value ['shirts', 'pants', 'socks'] and is of type <class 'list'>\n",
      "f has value ('male', 'married', 'manager') and is of type <class 'tuple'>\n",
      "g has value range(0, 10) and is of type <class 'range'>\n",
      "h has value {'name': 'Sean', 'age': 56} and is of type <class 'dict'>\n",
      "i has value {'longan', 'chiku', 'lychee'} and is of type <class 'set'>\n",
      "j has value frozenset({'bus', 'ship', 'plane'}) and is of type <class 'frozenset'>\n",
      "k has value True and is of type <class 'bool'>\n",
      "l has value b'\\x00\\x00\\x00\\x00\\x00' and is of type <class 'bytes'>\n",
      "m has value bytearray(b'\\x00\\x00') and is of type <class 'bytearray'>\n",
      "n has value <memory at 0x0000022D48A67940> and is of type <class 'memoryview'>\n",
      "o has value None and is of type <class 'NoneType'>\n"
     ]
    }
   ],
   "source": [
    "# Set Data Type\n",
    "a = str(\"Hi There\")\t                            # string\n",
    "b = int(300)\t                                # int\n",
    "c = float(45.5)\t                                # float\n",
    "d = complex(1j)\t                                # complex\n",
    "e = list((\"shirts\", \"pants\", \"socks\"))\t        # list\n",
    "f = tuple((\"male\", \"married\", \"manager\"))\t    # tuple\n",
    "g = range(10)\t                                # range\n",
    "h = dict(name=\"Sean\", age=56)\t                # dict\n",
    "i = set((\"chiku\", \"longan\", \"lychee\"))\t        # set\n",
    "j = frozenset((\"plane\", \"ship\", \"bus\"))\t        # frozenset\n",
    "k = bool(5)\t                                    # bool\n",
    "l = bytes(5)                                    # bytes\n",
    "m = bytearray(2)\t                            # bytearray\n",
    "n = memoryview(bytes(5))\t                    # memoryview\n",
    "o = None\t                                    # NoneType\n",
    "\n",
    "\n",
    "# Display value and type \n",
    "print(f\"a has value {a} and is of type {type(a)}\")\n",
    "print(f\"b has value {b} and is of type {type(b)}\")\n",
    "print(f\"c has value {c} and is of type {type(c)}\")\n",
    "print(f\"d has value {d} and is of type {type(d)}\")\n",
    "print(f\"e has value {e} and is of type {type(e)}\")\n",
    "print(f\"f has value {f} and is of type {type(f)}\")\n",
    "print(f\"g has value {g} and is of type {type(g)}\")\n",
    "print(f\"h has value {h} and is of type {type(h)}\")\n",
    "print(f\"i has value {i} and is of type {type(i)}\")\n",
    "print(f\"j has value {j} and is of type {type(j)}\")\n",
    "print(f\"k has value {k} and is of type {type(k)}\")\n",
    "print(f\"l has value {l} and is of type {type(l)}\")\n",
    "print(f\"m has value {m} and is of type {type(m)}\")\n",
    "print(f\"n has value {n} and is of type {type(n)}\")\n",
    "print(f\"o has value {o} and is of type {type(o)}\")"
   ]
  },
  {
   "cell_type": "code",
   "execution_count": null,
   "metadata": {},
   "outputs": [],
   "source": []
  }
 ],
 "metadata": {
  "kernelspec": {
   "display_name": "Python 3",
   "language": "python",
   "name": "python3"
  },
  "language_info": {
   "codemirror_mode": {
    "name": "ipython",
    "version": 3
   },
   "file_extension": ".py",
   "mimetype": "text/x-python",
   "name": "python",
   "nbconvert_exporter": "python",
   "pygments_lexer": "ipython3",
   "version": "3.12.4"
  }
 },
 "nbformat": 4,
 "nbformat_minor": 2
}
