{
 "cells": [
  {
   "cell_type": "markdown",
   "metadata": {},
   "source": [
    "## Tuple        \n",
    "\n",
    "~ Tuples are used to store multiple items in a single variable.     \n",
    "\n",
    "~ Tuple is one of 4 built-in data types in Python used to store collections of data, the other 3 are List, Set, and Dictionary, all with different qualities and usage.       \n",
    "\n",
    "~ A tuple is a collection which is ordered and unchangeable.      \n",
    "\n",
    "~ Tuples are written with round brackets.\n",
    "\n",
    "## Tuple Items     \n",
    "~ Tuple items are ordered, unchangeable, and allow duplicate values.  \n",
    "\n",
    "~ Tuple items are indexed, the first item has index [0], the second item has index [1] etc.       \n",
    "\n",
    "## Ordered      \n",
    "~ When we say that tuples are ordered, it means that the items have a defined order, and that order will not change.      \n",
    "\n",
    "## Unchangeable        \n",
    "~ Tuples are unchangeable, meaning that we cannot change, add or remove items after the tuple has been created.     \n",
    "\n",
    "## Allow Duplicates        \n",
    "~ Since tuples are indexed, they can have items with the same value.      \n"
   ]
  },
  {
   "cell_type": "code",
   "execution_count": 1,
   "metadata": {},
   "outputs": [
    {
     "name": "stdout",
     "output_type": "stream",
     "text": [
      "(1, 2, 3, 1, 2, 3)\n"
     ]
    }
   ],
   "source": [
    "MyTuple = (1,2,3,1,2,3)\n",
    "print(MyTuple)"
   ]
  },
  {
   "cell_type": "markdown",
   "metadata": {},
   "source": [
    "## Tuple Length        \n",
    "~ To determine how many items a tuple has, use the len() function"
   ]
  },
  {
   "cell_type": "code",
   "execution_count": 2,
   "metadata": {},
   "outputs": [
    {
     "name": "stdout",
     "output_type": "stream",
     "text": [
      "6\n"
     ]
    }
   ],
   "source": [
    "MyTuple = (1,2,3,1,2,3)\n",
    "print(len(MyTuple))"
   ]
  },
  {
   "cell_type": "markdown",
   "metadata": {},
   "source": [
    "# Create Tuple With One Item  \n",
    "~ To create a tuple with only one item, you have to add a comma after the item, otherwise Python will not recognize it as a tuple."
   ]
  },
  {
   "cell_type": "code",
   "execution_count": 7,
   "metadata": {},
   "outputs": [
    {
     "name": "stdout",
     "output_type": "stream",
     "text": [
      "1\n",
      "(1,)\n"
     ]
    }
   ],
   "source": [
    "not_Tuple = (1)\n",
    "print(not_Tuple)\n",
    "oneElement=(1,)\n",
    "print(oneElement)"
   ]
  },
  {
   "cell_type": "markdown",
   "metadata": {},
   "source": [
    "## Data Types\n",
    "~ Tuple items can be of any data type       \n",
    "~ A tuple can contain different data types      \n",
    "~ From Python's perspective, tuples are defined as objects with the data type 'tuple'\n",
    "\n",
    "\n",
    "\n"
   ]
  },
  {
   "cell_type": "code",
   "execution_count": 11,
   "metadata": {},
   "outputs": [
    {
     "name": "stdout",
     "output_type": "stream",
     "text": [
      "(1, 2, 3) ('One', 'Two', 'Three') (True, False, True)\n",
      "(1, 'Sean', True)\n",
      "<class 'tuple'>\n"
     ]
    }
   ],
   "source": [
    "intTuple = (1,2,3)\n",
    "stringTuple = (\"One\", \"Two\", \"Three\")\n",
    "boolTuple = (True, False, True)\n",
    "print(intTuple, stringTuple, boolTuple)\n",
    "\n",
    "mixedTypes=(1,\"Sean\",True)\n",
    "print(mixedTypes)\n",
    "\n",
    "print(type(intTuple))"
   ]
  },
  {
   "cell_type": "markdown",
   "metadata": {},
   "source": [
    "## The tuple() Constructor     \n",
    "~ It is also possible to use the tuple() constructor to make a tuple."
   ]
  },
  {
   "cell_type": "code",
   "execution_count": 12,
   "metadata": {},
   "outputs": [
    {
     "name": "stdout",
     "output_type": "stream",
     "text": [
      "(1, 'Sean', True, 12.35)\n"
     ]
    }
   ],
   "source": [
    "newTuple = tuple((1,\"Sean\",True, 12.35)) # Note the double round-brackets\n",
    "print(newTuple)"
   ]
  },
  {
   "cell_type": "markdown",
   "metadata": {},
   "source": [
    "## Access Tuple Items\n",
    "~ You can access tuple items by referring to the index number, inside square brackets."
   ]
  },
  {
   "cell_type": "code",
   "execution_count": 1,
   "metadata": {},
   "outputs": [
    {
     "name": "stdout",
     "output_type": "stream",
     "text": [
      "Two\n"
     ]
    }
   ],
   "source": [
    "myTuple = (\"One\", \"Two\", \"Three\")\n",
    "print(myTuple[1])\n"
   ]
  },
  {
   "cell_type": "markdown",
   "metadata": {},
   "source": [
    "## Negative Indexing\n",
    "~ Negative indexing means start from the end.     \n",
    "\n",
    "~ -1 refers to the last item, -2 refers to the second last item etc."
   ]
  },
  {
   "cell_type": "code",
   "execution_count": 2,
   "metadata": {},
   "outputs": [
    {
     "name": "stdout",
     "output_type": "stream",
     "text": [
      "Three\n",
      "Two\n"
     ]
    }
   ],
   "source": [
    "myTuple = (\"One\", \"Two\", \"Three\")\n",
    "print(myTuple[-1])\n",
    "print(myTuple[-2])"
   ]
  },
  {
   "cell_type": "markdown",
   "metadata": {},
   "source": [
    "## Range of Indexes\n",
    "~ You can specify a range of indexes by specifying where to start and where to end the range.     \n",
    "\n",
    "~ When specifying a range, the return value will be a new tuple with the specified items."
   ]
  },
  {
   "cell_type": "code",
   "execution_count": 3,
   "metadata": {},
   "outputs": [
    {
     "name": "stdout",
     "output_type": "stream",
     "text": [
      "(5, 6)\n"
     ]
    }
   ],
   "source": [
    "myTuple = (1,2,3,4,5,6,7,8,9)\n",
    "print(myTuple[4:6]) "
   ]
  },
  {
   "cell_type": "markdown",
   "metadata": {},
   "source": [
    "\n",
    "By leaving out the start value, the range will start at the first item:\n",
    "\n"
   ]
  },
  {
   "cell_type": "code",
   "execution_count": 4,
   "metadata": {
    "vscode": {
     "languageId": "perl"
    }
   },
   "outputs": [
    {
     "name": "stdout",
     "output_type": "stream",
     "text": [
      "(1, 2, 3, 4, 5, 6)\n"
     ]
    }
   ],
   "source": [
    "myTuple = (1,2,3,4,5,6,7,8,9)\n",
    "print(myTuple[:6])"
   ]
  },
  {
   "cell_type": "markdown",
   "metadata": {
    "vscode": {
     "languageId": "perl"
    }
   },
   "source": [
    "By leaving out the end value, the range will go on to the end of the tuple:\n",
    "\n"
   ]
  },
  {
   "cell_type": "code",
   "execution_count": 5,
   "metadata": {},
   "outputs": [
    {
     "name": "stdout",
     "output_type": "stream",
     "text": [
      "(5, 6, 7, 8, 9)\n"
     ]
    }
   ],
   "source": [
    "myTuple = (1,2,3,4,5,6,7,8,9)\n",
    "print(myTuple[4:])"
   ]
  },
  {
   "cell_type": "markdown",
   "metadata": {},
   "source": [
    "## Range of Negative Indexes\n",
    "~ Specify negative indexes if you want to start the search from the end of the tuple."
   ]
  },
  {
   "cell_type": "code",
   "execution_count": 6,
   "metadata": {},
   "outputs": [
    {
     "name": "stdout",
     "output_type": "stream",
     "text": [
      "(6, 7, 8)\n"
     ]
    }
   ],
   "source": [
    "# This example returns the items from index -4 (included) to index -1 (excluded)\n",
    "\n",
    "myTuple = (1,2,3,4,5,6,7,8,9)\n",
    "print(myTuple[-4:-1])"
   ]
  },
  {
   "cell_type": "markdown",
   "metadata": {},
   "source": [
    "## Check if Item Exists\n",
    "~ To determine if a specified item is present in a tuple use the in keyword."
   ]
  },
  {
   "cell_type": "code",
   "execution_count": 10,
   "metadata": {},
   "outputs": [
    {
     "name": "stdout",
     "output_type": "stream",
     "text": [
      "True\n",
      "Yes, 'Sean' is in newTuple\n"
     ]
    }
   ],
   "source": [
    "newTuple = tuple((1,\"Sean\",True, 12.35)) \n",
    "print(\"Sean\" in newTuple)\n",
    "if \"Sean\" in newTuple:\n",
    "    print (\"Yes, 'Sean' is in newTuple\")"
   ]
  },
  {
   "cell_type": "markdown",
   "metadata": {},
   "source": [
    "## Change Tuple Values      \n",
    "~ Once a tuple is created, you cannot change its values. Tuples are unchangeable, or immutable as it also is called.        \n",
    "\n",
    "~ But there is a workaround. You can convert the tuple into a list, change the list, and convert the list back into a tuple.    "
   ]
  },
  {
   "cell_type": "code",
   "execution_count": 12,
   "metadata": {},
   "outputs": [
    {
     "name": "stdout",
     "output_type": "stream",
     "text": [
      "Original Tuple is ('Sean', 'Sam', 'Samantha')\n",
      "Tuple converted to list is ['Sean', 'Sam', 'Samantha']\n",
      "Modified List is ['Andy', 'Sam', 'Samantha']\n",
      "List converted to Tuple is ('Andy', 'Sam', 'Samantha')\n"
     ]
    }
   ],
   "source": [
    "myTuple = (\"Sean\", \"Sam\", \"Samantha\")\n",
    "print(f\"Original Tuple is {myTuple}\")\n",
    "myList = list(myTuple)\n",
    "print(f\"Tuple converted to list is {myList}\")\n",
    "myList[0]=\"Andy\"\n",
    "print(f\"Modified List is {myList}\")\n",
    "myTuple= tuple(myList)\n",
    "print(f\"List converted to Tuple is {myTuple}\")\n"
   ]
  },
  {
   "cell_type": "markdown",
   "metadata": {},
   "source": [
    "## Add Items\n",
    "~ Since tuples are immutable, they do not have a built-in append() method, but there are other ways to add items to a tuple."
   ]
  },
  {
   "cell_type": "markdown",
   "metadata": {},
   "source": [
    "1. Convert into a list: Just like the workaround for changing a tuple, you can convert it into a list, add your item(s), and convert it back into a tuple."
   ]
  },
  {
   "cell_type": "code",
   "execution_count": 13,
   "metadata": {},
   "outputs": [
    {
     "name": "stdout",
     "output_type": "stream",
     "text": [
      "Original Tuple ('Sean', 'Sam', 'Samantha')\n",
      "Original Tuple ('Sean', 'Sam', 'Samantha', 'St Bernard')\n"
     ]
    }
   ],
   "source": [
    "myTuple = (\"Sean\", \"Sam\", \"Samantha\")\n",
    "print(f\"Original Tuple {myTuple}\")\n",
    "myList = list(myTuple)\n",
    "myList.append(\"St Bernard\")\n",
    "myTuple=tuple(myList)\n",
    "print(f\"Original Tuple {myTuple}\")"
   ]
  },
  {
   "cell_type": "markdown",
   "metadata": {},
   "source": [
    "2. Add tuple to a tuple. You are allowed to add tuples to tuples, so if you want to add one item, (or many), create a new tuple with the item(s), and add it to the existing tuple:\n",
    "\n"
   ]
  },
  {
   "cell_type": "code",
   "execution_count": 14,
   "metadata": {},
   "outputs": [
    {
     "name": "stdout",
     "output_type": "stream",
     "text": [
      "('Sean', 'Sam', 'Samantha', 'Mary', 'Martha')\n"
     ]
    }
   ],
   "source": [
    "myTuple = (\"Sean\", \"Sam\", \"Samantha\")\n",
    "yourTuple=(\"Mary\", \"Martha\")\n",
    "myTuple += yourTuple\n",
    "print(myTuple)"
   ]
  },
  {
   "cell_type": "markdown",
   "metadata": {},
   "source": [
    "## Remove Items\n",
    "\n",
    "~ Tuples are unchangeable, so you cannot remove items from it, but you can use the same workaround as we used for changing and adding tuple items:"
   ]
  },
  {
   "cell_type": "code",
   "execution_count": 15,
   "metadata": {},
   "outputs": [
    {
     "name": "stdout",
     "output_type": "stream",
     "text": [
      "('Sean', 'Samantha')\n"
     ]
    }
   ],
   "source": [
    "# Convert the tuple into a list, remove \"Sam\", and convert it back into a tuple:\n",
    "\n",
    "myTuple = (\"Sean\", \"Sam\", \"Samantha\")\n",
    "myList = list(myTuple)\n",
    "myList.remove(\"Sam\")\n",
    "myTuple = tuple(myList)\n",
    "print(myTuple)"
   ]
  },
  {
   "cell_type": "markdown",
   "metadata": {},
   "source": [
    "~ Or you can delete the tuple completely      \n",
    "\n",
    "~ The del keyword can delete the tuple completely:\n",
    "\n"
   ]
  },
  {
   "cell_type": "code",
   "execution_count": 16,
   "metadata": {},
   "outputs": [
    {
     "ename": "NameError",
     "evalue": "name 'myTuple' is not defined",
     "output_type": "error",
     "traceback": [
      "\u001b[1;31m---------------------------------------------------------------------------\u001b[0m",
      "\u001b[1;31mNameError\u001b[0m                                 Traceback (most recent call last)",
      "Cell \u001b[1;32mIn[16], line 3\u001b[0m\n\u001b[0;32m      1\u001b[0m myTuple \u001b[38;5;241m=\u001b[39m (\u001b[38;5;124m\"\u001b[39m\u001b[38;5;124mSean\u001b[39m\u001b[38;5;124m\"\u001b[39m, \u001b[38;5;124m\"\u001b[39m\u001b[38;5;124mSam\u001b[39m\u001b[38;5;124m\"\u001b[39m, \u001b[38;5;124m\"\u001b[39m\u001b[38;5;124mSamantha\u001b[39m\u001b[38;5;124m\"\u001b[39m)\n\u001b[0;32m      2\u001b[0m \u001b[38;5;28;01mdel\u001b[39;00m myTuple\n\u001b[1;32m----> 3\u001b[0m \u001b[38;5;28mprint\u001b[39m(\u001b[43mmyTuple\u001b[49m)  \u001b[38;5;66;03m#this will raise an error because the tuple no longer exists\u001b[39;00m\n",
      "\u001b[1;31mNameError\u001b[0m: name 'myTuple' is not defined"
     ]
    }
   ],
   "source": [
    "myTuple = (\"Sean\", \"Sam\", \"Samantha\")\n",
    "del myTuple\n",
    "print(myTuple)  #this will raise an error because the tuple no longer exists"
   ]
  },
  {
   "cell_type": "markdown",
   "metadata": {},
   "source": [
    "## Unpacking a Tuple       \n",
    "~ When we create a tuple, we normally assign values to it. This is called \"packing\" a tuple.    \n",
    "~ But, in Python, we are also allowed to extract the values back into variables. This is called \"unpacking\"."
   ]
  },
  {
   "cell_type": "code",
   "execution_count": 1,
   "metadata": {},
   "outputs": [
    {
     "name": "stdout",
     "output_type": "stream",
     "text": [
      "Sean\n",
      "Sam\n",
      "Samantha\n"
     ]
    }
   ],
   "source": [
    "myTuple = (\"Sean\", \"Sam\", \"Samantha\") # Packing a tuple\n",
    "(a,b,c) = myTuple # Unpacking a tuple\n",
    "print(a)\n",
    "print(b)\n",
    "print(c)\n",
    " "
   ]
  },
  {
   "cell_type": "markdown",
   "metadata": {},
   "source": [
    "## Using Asterisk*     \n",
    "~ If the number of variables is less than the number of values, you can add an * to the variable name and the values will be assigned to the variable as a list:"
   ]
  },
  {
   "cell_type": "code",
   "execution_count": 2,
   "metadata": {},
   "outputs": [
    {
     "name": "stdout",
     "output_type": "stream",
     "text": [
      "Sean\n",
      "Sam\n",
      "['Samantha', 'Sally']\n"
     ]
    }
   ],
   "source": [
    "# Assign the rest of the values as a list called \"c\":\n",
    "myTuple = (\"Sean\", \"Sam\", \"Samantha\", \"Sally\")\n",
    "(a, b, *c) = myTuple\n",
    "print(a) \n",
    "print(b) \n",
    "print(c) "
   ]
  },
  {
   "cell_type": "markdown",
   "metadata": {},
   "source": [
    "If the asterisk is added to another variable name than the last, Python will assign values to the variable until the number of values left matches the number of variables left.\n",
    "\n"
   ]
  },
  {
   "cell_type": "code",
   "execution_count": 3,
   "metadata": {},
   "outputs": [
    {
     "name": "stdout",
     "output_type": "stream",
     "text": [
      "Sean\n",
      "['Sam', 'Samantha']\n",
      "Sally\n"
     ]
    }
   ],
   "source": [
    "# Assign the rest of the values as a list called \"b\":\n",
    "myTuple = (\"Sean\", \"Sam\", \"Samantha\", \"Sally\")\n",
    "(a, *b, c) = myTuple\n",
    "print(a) \n",
    "print(b) \n",
    "print(c) "
   ]
  },
  {
   "cell_type": "markdown",
   "metadata": {},
   "source": [
    "## Loop Through a Tuple        \n",
    "~ You can loop through the tuple items by using a for loop."
   ]
  },
  {
   "cell_type": "code",
   "execution_count": 4,
   "metadata": {},
   "outputs": [
    {
     "name": "stdout",
     "output_type": "stream",
     "text": [
      "Sean\n",
      "Sam\n",
      "Samantha\n",
      "Sally\n"
     ]
    }
   ],
   "source": [
    "# Iterate through the items and print the values:\n",
    "myTuple = (\"Sean\", \"Sam\", \"Samantha\", \"Sally\")\n",
    "for item in myTuple:\n",
    "    print(item)"
   ]
  },
  {
   "cell_type": "markdown",
   "metadata": {},
   "source": [
    "## Loop Through the Index Numbers       \n",
    "~ You can also loop through the tuple items by referring to their index number.     \n",
    "\n",
    "~ Use the range() and len() functions to create a suitable iterable."
   ]
  },
  {
   "cell_type": "code",
   "execution_count": 7,
   "metadata": {},
   "outputs": [
    {
     "name": "stdout",
     "output_type": "stream",
     "text": [
      "Sean\n",
      "Sam\n",
      "Samantha\n",
      "Sally\n"
     ]
    }
   ],
   "source": [
    "# Print all items by referring to their index number.\n",
    "myTuple = (\"Sean\", \"Sam\", \"Samantha\", \"Sally\")\n",
    "for item in range(len(myTuple)):\n",
    "    print(myTuple[item])"
   ]
  },
  {
   "cell_type": "markdown",
   "metadata": {},
   "source": [
    "## Using a While Loop       \n",
    "~ You can loop through the tuple items by using a while loop.       \n",
    "\n",
    "~ Use the len() function to determine the length of the tuple, then start at 0 and loop your way through the tuple items by referring to their indexes.       \n",
    "\n",
    "~ Remember to increase the index by 1 after each iteration."
   ]
  },
  {
   "cell_type": "code",
   "execution_count": 8,
   "metadata": {},
   "outputs": [
    {
     "name": "stdout",
     "output_type": "stream",
     "text": [
      "Sean\n",
      "Sam\n",
      "Samantha\n",
      "Sally\n"
     ]
    }
   ],
   "source": [
    "# Print all items, using a while loop to go through all the index numbers:\n",
    "myTuple = (\"Sean\", \"Sam\", \"Samantha\", \"Sally\")\n",
    "i = 0\n",
    "while i < len(myTuple):\n",
    "    print(myTuple[i])\n",
    "    i+=1 \n"
   ]
  },
  {
   "cell_type": "markdown",
   "metadata": {},
   "source": [
    "## Join Two Tuples     \n",
    "~ To join two or more tuples you can use the + operator."
   ]
  },
  {
   "cell_type": "code",
   "execution_count": 9,
   "metadata": {},
   "outputs": [
    {
     "name": "stdout",
     "output_type": "stream",
     "text": [
      "('Sean', 'Sam', 'Samantha', 'Sally', 'Andy', 'Amy', 'Ashiok')\n"
     ]
    }
   ],
   "source": [
    "# Join two tuples.\n",
    "myTuple = (\"Sean\", \"Sam\", \"Samantha\", \"Sally\")\n",
    "yourTuple = (\"Andy\", \"Amy\", \"Ashiok\")\n",
    "myTuple += yourTuple\n",
    "print(myTuple)"
   ]
  },
  {
   "cell_type": "markdown",
   "metadata": {},
   "source": [
    "## Multiply Tuples      \n",
    "~ If you want to multiply the content of a tuple a given number of times, you can use the * operator:"
   ]
  },
  {
   "cell_type": "code",
   "execution_count": 10,
   "metadata": {},
   "outputs": [
    {
     "name": "stdout",
     "output_type": "stream",
     "text": [
      "('Sean', 'Sam', 'Samantha', 'Sally', 'Sean', 'Sam', 'Samantha', 'Sally')\n"
     ]
    }
   ],
   "source": [
    "# Multiply the fruits tuple by 2.\n",
    "myTuple = (\"Sean\", \"Sam\", \"Samantha\", \"Sally\")\n",
    "myTuple *= 2\n",
    "print(myTuple)\n"
   ]
  },
  {
   "cell_type": "markdown",
   "metadata": {},
   "source": [
    "## Tuple Methods\n",
    "\n",
    "Python has two built-in methods that you can use on tuples.\n",
    "\n",
    "| Method  | Description                                                                     |\n",
    "|---------|---------------------------------------------------------------------------------|\n",
    "| count() | Returns the number of times a specified value occurs in a tuple                 |\n",
    "| index() | Searches the tuple for a specified value and returns the position of where it was found |\n",
    "\n"
   ]
  },
  {
   "cell_type": "code",
   "execution_count": 13,
   "metadata": {},
   "outputs": [
    {
     "name": "stdout",
     "output_type": "stream",
     "text": [
      "3\n"
     ]
    }
   ],
   "source": [
    "# Returns the number of times \"Sean\" occurs in tuple\n",
    "myTuple = (\"Sean\", \"Sam\", \"Samantha\", \"Sean\", \"Sally\", \"Sean\")\n",
    "count = myTuple.count(\"Sean\")\n",
    "print(count)"
   ]
  },
  {
   "cell_type": "code",
   "execution_count": 15,
   "metadata": {},
   "outputs": [
    {
     "name": "stdout",
     "output_type": "stream",
     "text": [
      "1\n"
     ]
    }
   ],
   "source": [
    "myTuple = (\"Sean\", \"Sam\", \"Samantha\", \"Sean\", \"Sally\", \"Sean\")\n",
    "index = myTuple.index(\"Sam\")\n",
    "print(index)"
   ]
  }
 ],
 "metadata": {
  "kernelspec": {
   "display_name": "Python 3",
   "language": "python",
   "name": "python3"
  },
  "language_info": {
   "codemirror_mode": {
    "name": "ipython",
    "version": 3
   },
   "file_extension": ".py",
   "mimetype": "text/x-python",
   "name": "python",
   "nbconvert_exporter": "python",
   "pygments_lexer": "ipython3",
   "version": "3.12.4"
  }
 },
 "nbformat": 4,
 "nbformat_minor": 2
}
