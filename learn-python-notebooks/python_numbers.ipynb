{
 "cells": [
  {
   "cell_type": "markdown",
   "metadata": {},
   "source": [
    "## Python Numbers\n",
    "\n",
    "~ There are three numeric types in Python:  \n",
    "\n",
    "        ~ int   \n",
    "        ~ float     \n",
    "        ~ complex   \n",
    "\n",
    "~ Variables of numeric types are created when you assign a value to them:"
   ]
  },
  {
   "cell_type": "code",
   "execution_count": 4,
   "metadata": {},
   "outputs": [
    {
     "name": "stdout",
     "output_type": "stream",
     "text": [
      "<class 'int'>\n",
      "<class 'float'>\n",
      "<class 'complex'>\n"
     ]
    }
   ],
   "source": [
    "x = 1    # int\n",
    "y = 2.8  # float\n",
    "z = 1j   # complex\n",
    "\n",
    "print(type(x))\n",
    "print(type(y))\n",
    "print(type(z))"
   ]
  },
  {
   "cell_type": "markdown",
   "metadata": {},
   "source": [
    "## Int\n",
    "\n",
    "~ Int, or integer, is a whole number, positive or negative, without decimals, of unlimited length.\n"
   ]
  },
  {
   "cell_type": "code",
   "execution_count": 5,
   "metadata": {},
   "outputs": [
    {
     "name": "stdout",
     "output_type": "stream",
     "text": [
      "<class 'int'>\n",
      "<class 'int'>\n",
      "<class 'int'>\n"
     ]
    }
   ],
   "source": [
    "x = 1\n",
    "y = 35656222554887711\n",
    "z = -3255522\n",
    "\n",
    "print(type(x))\n",
    "print(type(y))\n",
    "print(type(z))"
   ]
  },
  {
   "cell_type": "markdown",
   "metadata": {},
   "source": [
    "## Float    \n",
    "\n",
    "~ Float, or \"floating point number\" is a number, positive or negative, containing one or more decimals. \n",
    "~ Float can also be scientific numbers with an \"e\" to indicate the power of 10.\n"
   ]
  },
  {
   "cell_type": "code",
   "execution_count": 42,
   "metadata": {},
   "outputs": [
    {
     "name": "stdout",
     "output_type": "stream",
     "text": [
      "a is of type <class 'float'> and has value 2.25\n",
      "b is of type <class 'float'> and has value 3.0\n",
      "c is of type <class 'float'> and has value -40.45 \n",
      "\n",
      "d is of type <class 'float'> and has value 15000\n",
      "e is of type <class 'float'> and has value 50000\n",
      "f is of type <class 'float'> and has value -364999999999999969865180748886382275085124236348902997842491933393214972025689328549962378187416535040\n"
     ]
    }
   ],
   "source": [
    "from decimal import Decimal\n",
    "a = 2.25\n",
    "b = 3.0\n",
    "c = -40.45\n",
    "d = 15e3\n",
    "e = 5E4\n",
    "f = -36.5e100\n",
    "\n",
    "print(f\"a is of type {type(a)} and has value {a}\")\n",
    "print(f\"b is of type {type(b)} and has value {b}\")\n",
    "print(f\"c is of type {type(c)} and has value {c} \\n\")\n",
    "print(f\"d is of type {type(d)} and has value {Decimal(d)}\")\n",
    "print(f\"e is of type {type(e)} and has value {Decimal(e)}\")\n",
    "print(f\"f is of type {type(f)} and has value {Decimal(f)}\")\n"
   ]
  },
  {
   "cell_type": "markdown",
   "metadata": {},
   "source": [
    "## Complex  \n",
    "\n",
    "~ Complex numbers are written with a \"j\" as the imaginary part: "
   ]
  },
  {
   "cell_type": "code",
   "execution_count": 16,
   "metadata": {},
   "outputs": [
    {
     "name": "stdout",
     "output_type": "stream",
     "text": [
      "<class 'complex'>\n",
      "<class 'complex'>\n",
      "<class 'complex'>\n"
     ]
    }
   ],
   "source": [
    "x = 3+5j\n",
    "y = 5j\n",
    "z = -5j\n",
    "\n",
    "print(type(x))\n",
    "print(type(y))\n",
    "print(type(z))"
   ]
  },
  {
   "cell_type": "markdown",
   "metadata": {},
   "source": [
    "## Type Conversion\n",
    "\n",
    "~ You can convert from one type to another with the int(), float(), and complex() methods:"
   ]
  },
  {
   "cell_type": "code",
   "execution_count": 41,
   "metadata": {},
   "outputs": [
    {
     "name": "stdout",
     "output_type": "stream",
     "text": [
      "a is of type <class 'float'> and has value 1.0\n",
      "b is of type <class 'int'> and has value 2\n",
      "c is of type <class 'complex'> and has value (1+0j) \n",
      "\n",
      "z is of type <class 'complex'> and has value 1j\n"
     ]
    }
   ],
   "source": [
    "x = 1    # int\n",
    "y = 2.8  # float\n",
    "z = 1j   # complex\n",
    "\n",
    "#convert from int to float:\n",
    "a = float(x)\n",
    "\n",
    "#convert from float to int:\n",
    "b = int(y)\n",
    "\n",
    "#convert from int to complex:\n",
    "c = complex(x)\n",
    "\n",
    "print(f\"a is of type {type(a)} and has value {a}\")\n",
    "print(f\"b is of type {type(b)} and has value {b}\")\n",
    "print(f\"c is of type {type(c)} and has value {c} \\n\")\n",
    "print(f\"z is of type {type(z)} and has value {z}\")"
   ]
  },
  {
   "cell_type": "markdown",
   "metadata": {},
   "source": [
    "## Random Number\n",
    "\n",
    "~ Python does not have a random() function to make a random number, but Python has a built-in module called random that can be used to make random numbers:"
   ]
  },
  {
   "cell_type": "code",
   "execution_count": 36,
   "metadata": {},
   "outputs": [
    {
     "name": "stdout",
     "output_type": "stream",
     "text": [
      "32\n"
     ]
    }
   ],
   "source": [
    "# Import the random module, and display a random number between 1 and 9:\n",
    "\n",
    "import random\n",
    "\n",
    "print(random.randrange(1, 100))"
   ]
  },
  {
   "cell_type": "markdown",
   "metadata": {},
   "source": [
    "## Python Casting   \n",
    "\n",
    "There may be times when you want to specify a type on to a variable. This can be done with casting. Python is an object-orientated language, and as such it uses classes to define data types, including its primitive types.   \n",
    "\n",
    "Casting in python is therefore done using constructor functions:    \n",
    "\n",
    "        ~ int() - constructs an integer number from an integer literal, a float literal (by removing all decimals), or a string literal (providing the string represents a whole number)    \n",
    "        ~ float() - constructs a float number from an integer literal, a float literal or a string literal (providing the string represents a float or an integer)  \n",
    "        ~ str() - constructs a string from a wide variety of data types, including strings, integer literals and float literals\n"
   ]
  },
  {
   "cell_type": "code",
   "execution_count": 40,
   "metadata": {},
   "outputs": [
    {
     "name": "stdout",
     "output_type": "stream",
     "text": [
      "a is of type <class 'int'> and has value 1\n",
      "b is of type <class 'int'> and has value 2\n",
      "c is of type <class 'int'> and has value 3 \n",
      "\n",
      "d is of type <class 'float'> and has value 1.0\n",
      "e is of type <class 'float'> and has value 2.8\n",
      "f is of type <class 'float'> and has value 3.0\n",
      "g is of type <class 'float'> and has value 4.2 \n",
      "\n",
      "h is of type <class 'str'> and has value s1\n",
      "i is of type <class 'str'> and has value 2\n",
      "j is of type <class 'str'> and has value 3.0\n"
     ]
    }
   ],
   "source": [
    "# Integers\n",
    "a = int(1)          # a will be 1\n",
    "b = int(2.8)        # b will be 2\n",
    "c = int(\"3\")        # c will be 3\n",
    "\n",
    "# Floats\n",
    "d = float(1)        # d will be 1.0\n",
    "e = float(2.8)      # e will be 2.8\n",
    "f = float(\"3\")      # f will be 3.0\n",
    "g = float(\"4.2\")    # g will be 4.2\n",
    "\n",
    "# Strings\n",
    "h = str(\"s1\")       # h will be 's1'\n",
    "i = str(2)          # i will be '2'\n",
    "j = str(3.0)        # j will be '3.0'\n",
    "\n",
    "print(f\"a is of type {type(a)} and has value {a}\")\n",
    "print(f\"b is of type {type(b)} and has value {b}\")\n",
    "print(f\"c is of type {type(c)} and has value {c} \\n\")\n",
    "print(f\"d is of type {type(d)} and has value {d}\")\n",
    "print(f\"e is of type {type(e)} and has value {e}\")\n",
    "print(f\"f is of type {type(f)} and has value {f}\")\n",
    "print(f\"g is of type {type(g)} and has value {g} \\n\")\n",
    "print(f\"h is of type {type(h)} and has value {h}\")\n",
    "print(f\"i is of type {type(i)} and has value {i}\")\n",
    "print(f\"j is of type {type(j)} and has value {j}\")"
   ]
  }
 ],
 "metadata": {
  "kernelspec": {
   "display_name": "Python 3",
   "language": "python",
   "name": "python3"
  },
  "language_info": {
   "codemirror_mode": {
    "name": "ipython",
    "version": 3
   },
   "file_extension": ".py",
   "mimetype": "text/x-python",
   "name": "python",
   "nbconvert_exporter": "python",
   "pygments_lexer": "ipython3",
   "version": "3.12.4"
  }
 },
 "nbformat": 4,
 "nbformat_minor": 2
}
