{
 "cells": [
  {
   "cell_type": "markdown",
   "metadata": {},
   "source": [
    "# Python Variables\n",
    "\n",
    "~ Variables are containers for storing data values.\n",
    "\n",
    "~ Python has no command for declaring a variable.\n",
    "\n",
    "~ A variable is created the moment you first assign a value to it.\n",
    "\n",
    "~ Variables do not need to be declared with any particular type, and can even change type after they have been set.\n",
    "\n"
   ]
  },
  {
   "cell_type": "code",
   "execution_count": 5,
   "metadata": {},
   "outputs": [
    {
     "name": "stdout",
     "output_type": "stream",
     "text": [
      "Sean\n"
     ]
    }
   ],
   "source": [
    "x = 5 # x is an interger\n",
    "x = \"Sean\" # x is now a string\n",
    "print(x)"
   ]
  },
  {
   "cell_type": "markdown",
   "metadata": {},
   "source": [
    "## Casting\n",
    "\n",
    "~ If you want to specify the data type of a variable, this can be done with casting.\n",
    "\n",
    "~ You can get the data type of a variable with the type() function.\n",
    "\n",
    "~ String variables can be declared either by using single or double quotes:\n",
    "\n"
   ]
  },
  {
   "cell_type": "markdown",
   "metadata": {},
   "source": []
  },
  {
   "cell_type": "code",
   "execution_count": 6,
   "metadata": {},
   "outputs": [
    {
     "name": "stdout",
     "output_type": "stream",
     "text": [
      "x is <class 'int'> and has value: 33\n",
      "y--double quote is <class 'str'> and has value: 33\n",
      "y--single quote is <class 'str'> and has value: 33\n",
      "z is <class 'float'> and has value: 33.0\n"
     ]
    }
   ],
   "source": [
    "\n",
    "x = int(33)\n",
    "y = str(33)\n",
    "z = float(33)\n",
    "print (f\"x is {type(x)} and has value: {x}\") \n",
    "print (f\"y--double quote is {type(y)} and has value: {y}\") \n",
    "print (f'y--single quote is {type(y)} and has value: {y}') \n",
    "print (f\"z is {type(z)} and has value: {z}\") "
   ]
  },
  {
   "cell_type": "code",
   "execution_count": 7,
   "metadata": {},
   "outputs": [
    {
     "name": "stdout",
     "output_type": "stream",
     "text": [
      "x is 3 and X is Sean\n"
     ]
    }
   ],
   "source": [
    "# Variable names are case-sensitive.\n",
    "\n",
    "x=3\n",
    "X = \"Sean\"\n",
    "print(f\"x is {x} and X is {X}\")"
   ]
  },
  {
   "cell_type": "markdown",
   "metadata": {},
   "source": [
    "## Variable Names\n",
    "\n",
    "~ A variable name must start with a letter or the underscore character\n",
    "~ A variable name cannot start with a number\n",
    "~ A variable name can only contain alpha-numeric characters and underscores (A-z, 0-9, and _ )\n",
    "~ Variable names are case-sensitive (age, Age and AGE are three different variables)\n",
    "~ A variable name cannot be any of the Python keywords.\n",
    "\n",
    "## Many Values to Multiple Variables\n",
    "\n",
    "~ Python allows you to assign values to multiple variables in one line:\n",
    "\n"
   ]
  },
  {
   "cell_type": "code",
   "execution_count": 9,
   "metadata": {},
   "outputs": [
    {
     "name": "stdout",
     "output_type": "stream",
     "text": [
      "Each Pen cost 1.2\n",
      "total price for 5 Pens is $6.0\n"
     ]
    }
   ],
   "source": [
    "qty, item, price = 5, \"Pen\", 1.2\n",
    "print(f\"Each {item} cost {price}\")\n",
    "print(f\"total price for {qty} {item}s is ${qty*price}\")"
   ]
  },
  {
   "cell_type": "markdown",
   "metadata": {},
   "source": [
    "## Unpack a Collection\n",
    "\n",
    "If you have a collection of values in a list, tuple etc. Python allows you to extract the values into variables. This is called unpacking.\n",
    "\n"
   ]
  },
  {
   "cell_type": "code",
   "execution_count": 10,
   "metadata": {},
   "outputs": [
    {
     "name": "stdout",
     "output_type": "stream",
     "text": [
      "aplle\n",
      "banana\n",
      "durian\n"
     ]
    }
   ],
   "source": [
    "fruits = [\"apple\", \"banana\", \"durian\"]\n",
    "x,y,z = fruits\n",
    "print(x)\n",
    "print(y)\n",
    "print(z)"
   ]
  },
  {
   "cell_type": "markdown",
   "metadata": {},
   "source": [
    "## Output Variables\n",
    "\n",
    "The Python print() function is often used to output variables.\n",
    "\n"
   ]
  },
  {
   "cell_type": "code",
   "execution_count": 11,
   "metadata": {},
   "outputs": [
    {
     "name": "stdout",
     "output_type": "stream",
     "text": [
      "I Love Python\n"
     ]
    }
   ],
   "source": [
    "declaration = \"I Love Python\"\n",
    "print(declaration)"
   ]
  },
  {
   "cell_type": "code",
   "execution_count": 16,
   "metadata": {},
   "outputs": [
    {
     "name": "stdout",
     "output_type": "stream",
     "text": [
      "I Love Python.\n",
      "I Love Python.\n",
      "15\n"
     ]
    }
   ],
   "source": [
    "# In the print() function, you output multiple variables, separated by a comma:\n",
    "\n",
    "x, y, z = \"I\", \"Love\", \"Python.\"\n",
    "print(x,y,z)\n",
    "\n",
    "# You can also use the + operator to output multiple variables:\n",
    "\n",
    "x, y, z = \"I \", \"Love \", \"Python.\"\n",
    "print(x+y+z)\n",
    "\n",
    "# For numbers, the + character works as a mathematical operator:\n",
    "\n",
    "num1 = 5\n",
    "num2 =10\n",
    "print(5+10)\n",
    "\n"
   ]
  },
  {
   "cell_type": "markdown",
   "metadata": {},
   "source": [
    "## Global Variables\n",
    "\n",
    "~ Variables that are created outside of a function (as in all of the examples in the previous pages) are known as global variables.\n",
    "\n",
    "~ Global variables can be used by everyone, both inside of functions and outside."
   ]
  },
  {
   "cell_type": "code",
   "execution_count": 17,
   "metadata": {},
   "outputs": [
    {
     "name": "stdout",
     "output_type": "stream",
     "text": [
      "Hello Sean inside function\n",
      "Hello Sean outside function\n"
     ]
    }
   ],
   "source": [
    "name = \"Sean\"\n",
    "\n",
    "def greet():\n",
    "    print(f\"Hello {name} inside function\")\n",
    "\n",
    "greet()\n",
    "print(f\"Hello {name} outside function\")"
   ]
  },
  {
   "cell_type": "code",
   "execution_count": 23,
   "metadata": {},
   "outputs": [
    {
     "name": "stdout",
     "output_type": "stream",
     "text": [
      "Hello Wong from within function\n",
      "Hello Sean outside of  function\n"
     ]
    }
   ],
   "source": [
    "''' \n",
    " If you create a variable with the same name inside a function, \n",
    " this variable will be local, and can only be used inside the function. \n",
    " The global variable with the same name will remain as it was, \n",
    " global and with the original value.\n",
    " '''\n",
    "\n",
    "name = \"Sean\"\n",
    "\n",
    "def greet():\n",
    "    name = \"Wong\"\n",
    "    print(f\"Hello {name} from within function\")\n",
    "\n",
    "greet()\n",
    "print(f\"Hello {name} outside of  function\")\n",
    "\n",
    "\n",
    "\n",
    "\n",
    "\n",
    "\n"
   ]
  },
  {
   "cell_type": "code",
   "execution_count": 24,
   "metadata": {},
   "outputs": [
    {
     "name": "stdout",
     "output_type": "stream",
     "text": [
      "Hello Sean within function\n",
      "Hello Sean outside function\n"
     ]
    }
   ],
   "source": [
    "# To create a global variable inside a function, you can use the global keyword.\n",
    "\n",
    "\n",
    "def greet():\n",
    "    global name\n",
    "    name = \"Sean\"\n",
    "    print(f\"Hello {name} within function\") \n",
    "\n",
    "greet()\n",
    "print(f\"Hello {name} outside function\") "
   ]
  },
  {
   "cell_type": "code",
   "execution_count": null,
   "metadata": {},
   "outputs": [],
   "source": []
  }
 ],
 "metadata": {
  "kernelspec": {
   "display_name": "Python 3",
   "language": "python",
   "name": "python3"
  },
  "language_info": {
   "codemirror_mode": {
    "name": "ipython",
    "version": 3
   },
   "file_extension": ".py",
   "mimetype": "text/x-python",
   "name": "python",
   "nbconvert_exporter": "python",
   "pygments_lexer": "ipython3",
   "version": "3.12.0"
  }
 },
 "nbformat": 4,
 "nbformat_minor": 2
}
