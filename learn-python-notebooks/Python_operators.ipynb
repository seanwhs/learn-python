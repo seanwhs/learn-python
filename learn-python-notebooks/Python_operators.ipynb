{
 "cells": [
  {
   "cell_type": "markdown",
   "metadata": {},
   "source": [
    "## Python Operators        \n",
    "~ Operators are used to perform operations on variables and values.     \n",
    "~ Python divides the operators in the following groups:\n",
    "\n",
    "            ~ Arithmetic operators      \n",
    "            ~ Assignment operators      \n",
    "            ~ Comparison operators      \n",
    "            ~ Logical operators     \n",
    "            ~ Identity operators        \n",
    "            ~ Membership operators      \n",
    "            ~ Bitwise operators     "
   ]
  },
  {
   "cell_type": "markdown",
   "metadata": {},
   "source": [
    "## Python Arithmetic Operators\n",
    "\n",
    "~ Arithmetic operators are used with numeric values to perform common mathematical operations:\n",
    "\n",
    "| Operator | Name          | Example   |\n",
    "|----------|---------------|-----------|\n",
    "| +        | Addition      | x + y     |\n",
    "| -        | Subtraction   | x - y     |\n",
    "| *        | Multiplication| x * y     |\n",
    "| /        | Division      | x / y     |\n",
    "| %        | Modulus       | x % y     |\n",
    "| **       | Exponentiation| x ** y    |\n",
    "| //       | Floor division| x // y    |\n"
   ]
  },
  {
   "cell_type": "markdown",
   "metadata": {},
   "source": [
    "## Python Assignment Operators\n",
    "\n",
    "Assignment operators are used to assign values to variables:\n",
    "\n",
    "| Operator | Example         | Same As          |\n",
    "|----------|-----------------|------------------|\n",
    "| =        | x = 5           | x = 5            |\n",
    "| +=       | x += 3          | x = x + 3        |\n",
    "| -=       | x -= 3          | x = x - 3        |\n",
    "| *=       | x *= 3          | x = x * 3        |\n",
    "| /=       | x /= 3          | x = x / 3        |\n",
    "| %=       | x %= 3          | x = x % 3        |\n",
    "| //=      | x //= 3         | x = x // 3       |\n",
    "| **=      | x **= 3         | x = x ** 3       |\n",
    "| &=       | x &= 3          | x = x & 3        |\n",
    "| |=       | x |= 3          | x = x | 3        |\n",
    "| ^=       | x ^= 3          | x = x ^ 3        |\n",
    "| >>=      | x >>= 3         | x = x >> 3       |\n",
    "| <<=      | x <<= 3         | x = x << 3       |\n",
    "| :=       | print(x := 3)   | x = 3 print(x)   |\n"
   ]
  },
  {
   "cell_type": "markdown",
   "metadata": {},
   "source": [
    "## Python Comparison Operators\n",
    "\n",
    "Comparison operators are used to compare two values:\n",
    "\n",
    "| Operator | Name                        | Example     |\n",
    "|----------|-----------------------------|-------------|\n",
    "| ==       | Equal                       | x == y      |\n",
    "| !=       | Not equal                   | x != y      |\n",
    "| >        | Greater than                | x > y       |\n",
    "| <        | Less than                   | x < y       |\n",
    "| >=       | Greater than or equal to    | x >= y      |\n",
    "| <=       | Less than or equal to       | x <= y      |\n"
   ]
  },
  {
   "cell_type": "markdown",
   "metadata": {},
   "source": [
    "## Python Logical Operators\n",
    "\n",
    "Logical operators are used to combine conditional statements:\n",
    "\n",
    "| Operator | Description                                    | Example                        |\n",
    "|----------|------------------------------------------------|--------------------------------|\n",
    "| and      | Returns True if both statements are true       | x < 5 and x < 10               |\n",
    "| or       | Returns True if one of the statements is true  | x < 5 or x < 4                 |\n",
    "| not      | Reverse the result, returns False if the result is true | not(x < 5 and x < 10) |\n"
   ]
  },
  {
   "cell_type": "markdown",
   "metadata": {},
   "source": [
    "## Python Identity Operators\n",
    "\n",
    "Identity operators are used to compare the objects, not if they are equal, but if they are actually the same object, with the same memory location:\n",
    "\n",
    "| Operator | Description                                       | Example    |\n",
    "|----------|---------------------------------------------------|------------|\n",
    "| is       | Returns True if both variables are the same object| x is y     |\n",
    "| is not   | Returns True if both variables are not the same object | x is not y |\n"
   ]
  },
  {
   "cell_type": "markdown",
   "metadata": {},
   "source": [
    "## Python Membership Operators\n",
    "\n",
    "Membership operators are used to test if a sequence is presented in an object:\n",
    "\n",
    "| Operator | Description                                                       | Example    |\n",
    "|----------|-------------------------------------------------------------------|------------|\n",
    "| in       | Returns True if a sequence with the specified value is present in the object | x in y     |\n",
    "| not in   | Returns True if a sequence with the specified value is not present in the object | x not in y |\n"
   ]
  },
  {
   "cell_type": "markdown",
   "metadata": {},
   "source": [
    "## Python Bitwise Operators\n",
    "\n",
    "Bitwise operators are used to compare (binary) numbers:\n",
    "\n",
    "| Operator | Name                   | Description                                                                                   | Example |\n",
    "|----------|------------------------|-----------------------------------------------------------------------------------------------|---------|\n",
    "| &        | AND                    | Sets each bit to 1 if both bits are 1                                                         | x & y   |\n",
    "| |        | OR                     | Sets each bit to 1 if one of two bits is 1                                                    | x \\| y  |\n",
    "| ^        | XOR                    | Sets each bit to 1 if only one of two bits is 1                                               | x ^ y   |\n",
    "| ~        | NOT                    | Inverts all the bits                                                                          | ~x      |\n",
    "| <<       | Zero fill left shift   | Shift left by pushing zeros in from the right and let the leftmost bits fall off              | x << 2  |\n",
    "| >>       | Signed right shift     | Shift right by pushing copies of the leftmost bit in from the left, and let the rightmost bits fall off | x >> 2  |\n"
   ]
  },
  {
   "cell_type": "code",
   "execution_count": 8,
   "metadata": {},
   "outputs": [
    {
     "name": "stdout",
     "output_type": "stream",
     "text": [
      "2\n"
     ]
    },
    {
     "data": {
      "text/plain": [
       "\"\\nThe >> operator moves each bit the specified number of times to the right. Empty holes at the left are filled with 0's.\\n\\nIf you move each bit 2 times to the right, 8 becomes 2:\\n 8 = 0000000000001000\\nbecomes\\n 2 = 0000000000000010\\n\\nDecimal numbers and their binary values:\\n 0 = 0000000000000000\\n 1 = 0000000000000001\\n 2 = 0000000000000010\\n 3 = 0000000000000011\\n 4 = 0000000000000100\\n 5 = 0000000000000101\\n 6 = 0000000000000110\\n 7 = 0000000000000111\\n 8 = 0000000000001000\\n 9 = 0000000000001001\\n10 = 0000000000001010\\n11 = 0000000000001011\\n12 = 0000000000001100\\n\""
      ]
     },
     "execution_count": 8,
     "metadata": {},
     "output_type": "execute_result"
    }
   ],
   "source": [
    "print(8 >> 2)   # returns 2\n",
    "\n",
    "\n",
    "\n",
    "\"\"\"\n",
    "The >> operator moves each bit the specified number of times to the right. Empty holes at the left are filled with 0's.\n",
    "\n",
    "If you move each bit 2 times to the right, 8 becomes 2:\n",
    " 8 = 0000000000001000\n",
    "becomes\n",
    " 2 = 0000000000000010\n",
    "\n",
    "Decimal numbers and their binary values:\n",
    " 0 = 0000000000000000\n",
    " 1 = 0000000000000001\n",
    " 2 = 0000000000000010\n",
    " 3 = 0000000000000011\n",
    " 4 = 0000000000000100\n",
    " 5 = 0000000000000101\n",
    " 6 = 0000000000000110\n",
    " 7 = 0000000000000111\n",
    " 8 = 0000000000001000\n",
    " 9 = 0000000000001001\n",
    "10 = 0000000000001010\n",
    "11 = 0000000000001011\n",
    "12 = 0000000000001100\n",
    "\"\"\"\n",
    "\n"
   ]
  },
  {
   "cell_type": "markdown",
   "metadata": {},
   "source": [
    "## Operator Precedence\n",
    "Operator precedence describes the order in which operations are performed."
   ]
  },
  {
   "cell_type": "code",
   "execution_count": 3,
   "metadata": {},
   "outputs": [
    {
     "name": "stdout",
     "output_type": "stream",
     "text": [
      "0\n"
     ]
    }
   ],
   "source": [
    "# Parentheses has the highest precedence, meaning that expressions inside parentheses must be evaluated first:\n",
    "print((6 + 3) - (6 + 3))\n"
   ]
  },
  {
   "cell_type": "code",
   "execution_count": 5,
   "metadata": {},
   "outputs": [
    {
     "name": "stdout",
     "output_type": "stream",
     "text": [
      "115\n"
     ]
    }
   ],
   "source": [
    "# Multiplication * has higher precedence than addition +, and therefor multiplications are evaluated before additions:\n",
    "\n",
    "print(100 + 5 * 3)\n"
   ]
  },
  {
   "cell_type": "markdown",
   "metadata": {},
   "source": [
    "## The precedence order is described in the table below, starting with the highest precedence at the top:\n",
    "\n",
    "| Operator                                      | Description                               |\n",
    "|-----------------------------------------------|-------------------------------------------|\n",
    "| ()                                            | Parentheses                               |\n",
    "| **                                            | Exponentiation                            |\n",
    "| +x  -x  ~x                                    | Unary plus, unary minus, and bitwise NOT  |\n",
    "| *  /  //  %                                   | Multiplication, division, floor division, and modulus |\n",
    "| +  -                                          | Addition and subtraction                  |\n",
    "| <<  >>                                        | Bitwise left and right shifts             |\n",
    "| &                                             | Bitwise AND                               |\n",
    "| ^                                             | Bitwise XOR                               |\n",
    "| \\|                                            | Bitwise OR                                |\n",
    "| ==  !=  >  >=  <  <=  is  is not  in  not in  | Comparisons, identity, and membership operators |\n",
    "| not                                           | Logical NOT                               |\n",
    "| and                                           | AND                                       |\n",
    "| or                                            | OR                                        |\n",
    "\n"
   ]
  },
  {
   "cell_type": "code",
   "execution_count": 6,
   "metadata": {},
   "outputs": [
    {
     "name": "stdout",
     "output_type": "stream",
     "text": [
      "5\n"
     ]
    }
   ],
   "source": [
    "# Addition + and subtraction - has the same precedence, and therefor we evaluate the expression from left to right:\n",
    "\n",
    "print(5 + 4 - 7 + 3)\n"
   ]
  }
 ],
 "metadata": {
  "kernelspec": {
   "display_name": "Python 3",
   "language": "python",
   "name": "python3"
  },
  "language_info": {
   "codemirror_mode": {
    "name": "ipython",
    "version": 3
   },
   "file_extension": ".py",
   "mimetype": "text/x-python",
   "name": "python",
   "nbconvert_exporter": "python",
   "pygments_lexer": "ipython3",
   "version": "3.12.4"
  }
 },
 "nbformat": 4,
 "nbformat_minor": 2
}
