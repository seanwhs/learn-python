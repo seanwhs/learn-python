{
 "cells": [
  {
   "cell_type": "markdown",
   "metadata": {},
   "source": [
    "## Python Collections (Arrays)  \n",
    "~ There are four collection data types in the Python programming language:  \n",
    "\n",
    "            ~ List is a collection which is ordered and changeable. Allows duplicate members.   \n",
    "            ~ Tuple is a collection which is ordered and unchangeable. Allows duplicate members.        \n",
    "            ~ Set is a collection which is unordered, unchangeable*, and unindexed. No duplicate members.       \n",
    "            ~ Dictionary is a collection which is ordered** and changeable. No duplicate members."
   ]
  },
  {
   "cell_type": "markdown",
   "metadata": {},
   "source": [
    "# List    \n",
    "~ Lists are used to store multiple items in a single variable.  \n",
    "\n",
    "~ Lists are one of 4 built-in data types in Python used to store collections of data, the other 3 are Tuple, Set, and Dictionary, all with different qualities and usage.   \n",
    "\n",
    "~ Lists are created using square brackets:"
   ]
  },
  {
   "cell_type": "code",
   "execution_count": 1,
   "metadata": {},
   "outputs": [
    {
     "name": "stdout",
     "output_type": "stream",
     "text": [
      "['apple', 1.45, 'fruit']\n"
     ]
    }
   ],
   "source": [
    "products = [\"apple\", 1.45, \"fruit\"]\n",
    "print(products)"
   ]
  },
  {
   "cell_type": "markdown",
   "metadata": {},
   "source": [
    "## List Items  \n",
    "~ List items are ordered, changeable, and allow duplicate values.   \n",
    "\n",
    "~ List items are indexed, the first item has index [0], the second item has index [1] etc.  \n",
    "\n",
    "## Ordered \n",
    "~ When we say that lists are ordered, it means that the items have a defined order, and that order will not change. \n",
    "\n",
    "~ If you add new items to a list, the new items will be placed at the end of the list.\n",
    "\n",
    "## Changeable       \n",
    "~ The list is changeable, meaning that we can change, add, and remove items in a list after it has been created.        \n",
    "\n",
    "## Allow Duplicates     \n",
    "~ Since lists are indexed, lists can have items with the same value:"
   ]
  },
  {
   "cell_type": "code",
   "execution_count": 2,
   "metadata": {},
   "outputs": [
    {
     "name": "stdout",
     "output_type": "stream",
     "text": [
      "['apple', 'orange', 'pear', 'longan', 'apple']\n"
     ]
    }
   ],
   "source": [
    "# Lists allow duplicate values:\n",
    "\n",
    "fruits = [\"apple\", \"orange\", \"pear\", \"longan\", \"apple\"]\n",
    "print(fruits)"
   ]
  },
  {
   "cell_type": "markdown",
   "metadata": {},
   "source": [
    "## List Length\n",
    "~ To determine how many items a list has, use the len() function:"
   ]
  },
  {
   "cell_type": "code",
   "execution_count": 4,
   "metadata": {},
   "outputs": [
    {
     "name": "stdout",
     "output_type": "stream",
     "text": [
      "fruits is a list of length 5 \n"
     ]
    }
   ],
   "source": [
    "fruits = [\"apple\", \"orange\", \"pear\", \"longan\", \"apple\"]\n",
    "print(f\"fruits is a list of length {len(fruits)} \")"
   ]
  },
  {
   "cell_type": "markdown",
   "metadata": {},
   "source": [
    "## List Items - Data Types\n",
    "\n",
    "A list can contain different data types:\n",
    "\n"
   ]
  },
  {
   "cell_type": "code",
   "execution_count": 6,
   "metadata": {},
   "outputs": [
    {
     "name": "stdout",
     "output_type": "stream",
     "text": [
      "['Sean', 'Male', 56, True]\n"
     ]
    }
   ],
   "source": [
    "employee = [\"Sean\", \"Male\", 56, True]\n",
    "print(employee)"
   ]
  },
  {
   "cell_type": "code",
   "execution_count": 7,
   "metadata": {},
   "outputs": [
    {
     "name": "stdout",
     "output_type": "stream",
     "text": [
      "<class 'list'>\n"
     ]
    }
   ],
   "source": [
    "# From Python's perspective, lists are defined as objects with the data type 'list': <class 'list'>\n",
    "\n",
    "employee = [\"Sean\", \"Male\", 56, True]\n",
    "print(type(employee))"
   ]
  },
  {
   "cell_type": "markdown",
   "metadata": {},
   "source": [
    "## The list() Constructor\n",
    "~ It is also possible to use the list() constructor when creating a new list."
   ]
  },
  {
   "cell_type": "code",
   "execution_count": 8,
   "metadata": {},
   "outputs": [
    {
     "name": "stdout",
     "output_type": "stream",
     "text": [
      "['square', 'rectangle', 'triangle', 'circle', 'oval', 'polygon']\n",
      "<class 'list'>\n"
     ]
    }
   ],
   "source": [
    "shapes = list((\"square\", \"rectangle\", \"triangle\", \"circle\", \"oval\", \"polygon\"))\n",
    "print(shapes)\n",
    "print(type(shapes))"
   ]
  },
  {
   "cell_type": "markdown",
   "metadata": {},
   "source": [
    "## Access List Items           \n",
    "~ List items are indexed and you can access them by referring to the index number:"
   ]
  },
  {
   "cell_type": "code",
   "execution_count": 11,
   "metadata": {},
   "outputs": [
    {
     "name": "stdout",
     "output_type": "stream",
     "text": [
      "rectangle\n"
     ]
    }
   ],
   "source": [
    "shapes = list((\"square\", \"rectangle\", \"triangle\", \"circle\", \"oval\", \"polygon\"))\n",
    "print(shapes[1])"
   ]
  },
  {
   "cell_type": "markdown",
   "metadata": {},
   "source": [
    "## Negative Indexing       \n",
    "~ Negative indexing means start from the end        \n",
    "\n",
    "~ -1 refers to the last item, -2 refers to the second last item etc."
   ]
  },
  {
   "cell_type": "code",
   "execution_count": 13,
   "metadata": {},
   "outputs": [
    {
     "name": "stdout",
     "output_type": "stream",
     "text": [
      "polygon\n"
     ]
    }
   ],
   "source": [
    "shapes = list((\"square\", \"rectangle\", \"triangle\", \"circle\", \"oval\", \"polygon\"))\n",
    "print(shapes[-1])"
   ]
  },
  {
   "cell_type": "markdown",
   "metadata": {},
   "source": [
    "## Range of Indexes        \n",
    "~ You can specify a range of indexes by specifying where to start and where to end the range.       \n",
    "\n",
    "~ When specifying a range, the return value will be a new list with the specified items."
   ]
  },
  {
   "cell_type": "code",
   "execution_count": 15,
   "metadata": {},
   "outputs": [
    {
     "name": "stdout",
     "output_type": "stream",
     "text": [
      "['triangle', 'circle', 'oval']\n"
     ]
    }
   ],
   "source": [
    "# The search will start at index 2 (included) and end at index 5 (not included).\n",
    "shapes = list((\"square\", \"rectangle\", \"triangle\", \"circle\", \"oval\", \"polygon\"))\n",
    "print(shapes[2:5])"
   ]
  },
  {
   "cell_type": "code",
   "execution_count": 16,
   "metadata": {},
   "outputs": [
    {
     "name": "stdout",
     "output_type": "stream",
     "text": [
      "['square', 'rectangle', 'triangle', 'circle']\n"
     ]
    }
   ],
   "source": [
    "# This example returns the items from the beginning to, but NOT including, \"oval\":\n",
    "\n",
    "shapes = list((\"square\", \"rectangle\", \"triangle\", \"circle\", \"oval\", \"polygon\"))\n",
    "print(shapes[:4])"
   ]
  },
  {
   "cell_type": "code",
   "execution_count": 17,
   "metadata": {},
   "outputs": [
    {
     "name": "stdout",
     "output_type": "stream",
     "text": [
      "['triangle', 'circle', 'oval', 'polygon']\n"
     ]
    }
   ],
   "source": [
    "# By leaving out the end value, the range will go on to the end of the list:\n",
    "\n",
    "shapes = list((\"square\", \"rectangle\", \"triangle\", \"circle\", \"oval\", \"polygon\"))\n",
    "print(shapes[2:])"
   ]
  },
  {
   "cell_type": "markdown",
   "metadata": {},
   "source": [
    "## Range of Negative Indexes       \n",
    "~ Specify negative indexes if you want to start the search from the end of the list:"
   ]
  },
  {
   "cell_type": "code",
   "execution_count": 19,
   "metadata": {},
   "outputs": [
    {
     "name": "stdout",
     "output_type": "stream",
     "text": [
      "['triangle', 'circle', 'oval']\n"
     ]
    }
   ],
   "source": [
    "# returns the items from \"triangle\" (-4) to, but NOT including \"polygon\" (-1):\n",
    "shapes = list((\"square\", \"rectangle\", \"triangle\", \"circle\", \"oval\", \"polygon\"))\n",
    "print(shapes[-4:-1])"
   ]
  },
  {
   "cell_type": "markdown",
   "metadata": {},
   "source": [
    "## Check if Item Exists      \n",
    "~ To determine if a specified item is present in a list use the in keyword:"
   ]
  },
  {
   "cell_type": "code",
   "execution_count": 20,
   "metadata": {},
   "outputs": [
    {
     "name": "stdout",
     "output_type": "stream",
     "text": [
      "Yes, circle is in shapes\n"
     ]
    }
   ],
   "source": [
    "shapes = list((\"square\", \"rectangle\", \"triangle\", \"circle\", \"oval\", \"polygon\"))\n",
    "if \"circle\" in shapes:\n",
    "    print(\"Yes, circle is in shapes\")\n",
    "else:\n",
    "    print(\"No, circle is NOT in shapes\")"
   ]
  },
  {
   "cell_type": "markdown",
   "metadata": {},
   "source": [
    "## Change Item Value       \n",
    "~ To change the value of a specific item, refer to the index number:"
   ]
  },
  {
   "cell_type": "code",
   "execution_count": 21,
   "metadata": {},
   "outputs": [
    {
     "name": "stdout",
     "output_type": "stream",
     "text": [
      "['square', 'rectangle', 'triangle', 'circle', 'oval', 'ellipse']\n"
     ]
    }
   ],
   "source": [
    "shapes = list((\"square\", \"rectangle\", \"triangle\", \"circle\", \"oval\", \"polygon\"))\n",
    "shapes[-1] = \"ellipse\"\n",
    "print(shapes)"
   ]
  },
  {
   "cell_type": "markdown",
   "metadata": {},
   "source": [
    "## Change a Range of Item Values       \n",
    "~ To change the value of items within a specific range, define a list with the new values, and refer to the range of index numbers where you want to insert the new values:"
   ]
  },
  {
   "cell_type": "code",
   "execution_count": 22,
   "metadata": {},
   "outputs": [
    {
     "name": "stdout",
     "output_type": "stream",
     "text": [
      "['bubble', 'star', 'triangle', 'circle', 'oval', 'polygon']\n"
     ]
    }
   ],
   "source": [
    "shapes = list((\"square\", \"rectangle\", \"triangle\", \"circle\", \"oval\", \"polygon\"))\n",
    "shapes[0:2]=[\"bubble\", \"star\"]\n",
    "print(shapes)"
   ]
  },
  {
   "cell_type": "markdown",
   "metadata": {},
   "source": [
    "If you insert more items than you replace, the new items will be inserted where you specified, and the remaining items will move accordingly:\n",
    "\n"
   ]
  },
  {
   "cell_type": "code",
   "execution_count": 24,
   "metadata": {},
   "outputs": [
    {
     "name": "stdout",
     "output_type": "stream",
     "text": [
      "['scissors', 'paper', 'stone']\n",
      "['scissors', 'rock', 'cloth', 'stone']\n"
     ]
    }
   ],
   "source": [
    "# Change the second value by replacing it with two new values:\n",
    "\n",
    "items = [\"scissors\", \"paper\", \"stone\"]\n",
    "print(items)\n",
    "items[1:2]=[\"rock\", \"cloth\"]\n",
    "print(items)"
   ]
  },
  {
   "cell_type": "markdown",
   "metadata": {},
   "source": [
    "If you insert less items than you replace, the new items will be inserted where you specified, and the remaining items will move accordingly:\n",
    "\n"
   ]
  },
  {
   "cell_type": "code",
   "execution_count": 26,
   "metadata": {},
   "outputs": [
    {
     "name": "stdout",
     "output_type": "stream",
     "text": [
      "['scissors', 'rock']\n"
     ]
    }
   ],
   "source": [
    "# Change the second and third value by replacing it with one value:\n",
    "items = [\"scissors\", \"paper\", \"stone\"]\n",
    "items[1:3] = [\"rock\"]\n",
    "print(items)"
   ]
  },
  {
   "cell_type": "markdown",
   "metadata": {},
   "source": [
    "To insert a new list item, without replacing any of the existing values, we can use the insert() method.\n",
    "\n",
    "The insert() method inserts an item at the specified index:"
   ]
  },
  {
   "cell_type": "code",
   "execution_count": 28,
   "metadata": {},
   "outputs": [
    {
     "name": "stdout",
     "output_type": "stream",
     "text": [
      "['scissors', 'paper', 'rock', 'stone']\n"
     ]
    }
   ],
   "source": [
    "# Insert \"rock\" as the third item:\n",
    "items = [\"scissors\", \"paper\", \"stone\"]\n",
    "items.insert(2, \"rock\")\n",
    "print(items)"
   ]
  },
  {
   "cell_type": "markdown",
   "metadata": {},
   "source": [
    "## Append Items            \n",
    "~ To add an item to the end of the list, use the append() method:"
   ]
  },
  {
   "cell_type": "code",
   "execution_count": 29,
   "metadata": {},
   "outputs": [
    {
     "name": "stdout",
     "output_type": "stream",
     "text": [
      "['scissors', 'paper', 'stone', 'rock']\n"
     ]
    }
   ],
   "source": [
    "items = [\"scissors\", \"paper\", \"stone\"]\n",
    "items.append(\"rock\")\n",
    "print(items)"
   ]
  },
  {
   "cell_type": "markdown",
   "metadata": {},
   "source": [
    "## Insert Items        \n",
    "~ To insert a list item at a specified index, use the insert() method.      \n",
    "\n",
    "~ The insert() method inserts an item at the specified index:"
   ]
  },
  {
   "cell_type": "code",
   "execution_count": 30,
   "metadata": {},
   "outputs": [
    {
     "name": "stdout",
     "output_type": "stream",
     "text": [
      "['scissors', 'rock', 'paper', 'stone']\n"
     ]
    }
   ],
   "source": [
    "# Insert an item as the second position:\n",
    "items = [\"scissors\", \"paper\", \"stone\"]\n",
    "items.insert(1, \"rock\")\n",
    "print(items)"
   ]
  },
  {
   "cell_type": "markdown",
   "metadata": {},
   "source": [
    "## Extend List     \n",
    "~ To append elements from another list to the current list, use the extend() method."
   ]
  },
  {
   "cell_type": "code",
   "execution_count": 32,
   "metadata": {},
   "outputs": [
    {
     "name": "stdout",
     "output_type": "stream",
     "text": [
      "['coke', 'coffe', 'beer']\n",
      "['coke', 'coffe', 'beer', 'noodles', 'rice', 'bread']\n"
     ]
    }
   ],
   "source": [
    "drinks = [\"coke\", \"coffe\", \"beer\"]\n",
    "print(drinks)\n",
    "meals = [\"noodles\", \"rice\", \"bread\"]\n",
    "drinks.extend(meals)\n",
    "print(drinks)"
   ]
  },
  {
   "cell_type": "markdown",
   "metadata": {},
   "source": [
    "## Add Any Iterable        \n",
    "~ The extend() method does not have to append lists, you can add any iterable object (tuples, sets, dictionaries etc.)."
   ]
  },
  {
   "cell_type": "code",
   "execution_count": 33,
   "metadata": {},
   "outputs": [
    {
     "name": "stdout",
     "output_type": "stream",
     "text": [
      "['coke', 'coffe', 'beer']\n",
      "['coke', 'coffe', 'beer', 'noodles', 'rice', 'bread']\n"
     ]
    }
   ],
   "source": [
    "list = [\"coke\", \"coffe\", \"beer\"]\n",
    "print(list)\n",
    "tuple = [\"noodles\", \"rice\", \"bread\"]\n",
    "list.extend(tuple)\n",
    "print(list)\n"
   ]
  },
  {
   "cell_type": "markdown",
   "metadata": {},
   "source": [
    "## Remove Specified Item           \n",
    "~ The remove() method removes the specified item."
   ]
  },
  {
   "cell_type": "code",
   "execution_count": 34,
   "metadata": {},
   "outputs": [
    {
     "name": "stdout",
     "output_type": "stream",
     "text": [
      "['coke', 'coffe', 'beer']\n",
      "['coffe', 'beer']\n"
     ]
    }
   ],
   "source": [
    "drinks = [\"coke\", \"coffe\", \"beer\"]\n",
    "print(drinks)\n",
    "drinks.remove(\"coke\")\n",
    "print(drinks)"
   ]
  },
  {
   "cell_type": "markdown",
   "metadata": {},
   "source": [
    "If there are more than one item with the specified value, the remove() method removes the first occurrence:\n",
    "\n"
   ]
  },
  {
   "cell_type": "code",
   "execution_count": 36,
   "metadata": {},
   "outputs": [
    {
     "name": "stdout",
     "output_type": "stream",
     "text": [
      "['coke', 'coffee', 'beer', 'coke', 'pepsi', 'coke']\n",
      "['coffee', 'beer', 'coke', 'pepsi', 'coke']\n"
     ]
    }
   ],
   "source": [
    "drinks = [\"coke\", \"coffee\", \"beer\", \"coke\", \"pepsi\", \"coke\"]\n",
    "print(drinks)\n",
    "drinks.remove(\"coke\")\n",
    "print(drinks)"
   ]
  },
  {
   "cell_type": "markdown",
   "metadata": {},
   "source": [
    "## Remove Specified Index      \n",
    "~ The pop() method removes the specified index."
   ]
  },
  {
   "cell_type": "code",
   "execution_count": 39,
   "metadata": {},
   "outputs": [
    {
     "name": "stdout",
     "output_type": "stream",
     "text": [
      "['coke', 'coffee', 'beer']\n",
      "['coke', 'beer']\n"
     ]
    }
   ],
   "source": [
    "# Remove the second item:\n",
    "drinks = [\"coke\", \"coffee\", \"beer\"]\n",
    "print(drinks)\n",
    "drinks.pop(1)\n",
    "print(drinks)"
   ]
  },
  {
   "cell_type": "markdown",
   "metadata": {},
   "source": [
    "If you do not specify the index, the pop() method removes the last item.\n",
    "\n"
   ]
  },
  {
   "cell_type": "code",
   "execution_count": 40,
   "metadata": {},
   "outputs": [
    {
     "name": "stdout",
     "output_type": "stream",
     "text": [
      "['coke', 'coffee', 'beer']\n",
      "['coke', 'coffee']\n"
     ]
    }
   ],
   "source": [
    "# Remove the last item:\n",
    "drinks = [\"coke\", \"coffee\", \"beer\"]\n",
    "print(drinks)\n",
    "drinks.pop()\n",
    "print(drinks)"
   ]
  },
  {
   "cell_type": "markdown",
   "metadata": {},
   "source": [
    "The del keyword also removes the specified index:\n",
    "\n"
   ]
  },
  {
   "cell_type": "code",
   "execution_count": 43,
   "metadata": {},
   "outputs": [
    {
     "name": "stdout",
     "output_type": "stream",
     "text": [
      "['coke', 'coffee', 'beer']\n",
      "['coffee', 'beer']\n"
     ]
    }
   ],
   "source": [
    "# Remove the first item:\n",
    "drinks = [\"coke\", \"coffee\", \"beer\"]\n",
    "print(drinks)\n",
    "del drinks[0]\n",
    "print(drinks)"
   ]
  },
  {
   "cell_type": "markdown",
   "metadata": {},
   "source": [
    "The del keyword can also delete the list completely.\n",
    "\n"
   ]
  },
  {
   "cell_type": "code",
   "execution_count": 44,
   "metadata": {},
   "outputs": [
    {
     "ename": "NameError",
     "evalue": "name 'drinks' is not defined",
     "output_type": "error",
     "traceback": [
      "\u001b[1;31m---------------------------------------------------------------------------\u001b[0m",
      "\u001b[1;31mNameError\u001b[0m                                 Traceback (most recent call last)",
      "Cell \u001b[1;32mIn[44], line 3\u001b[0m\n\u001b[0;32m      1\u001b[0m drinks \u001b[38;5;241m=\u001b[39m [\u001b[38;5;124m\"\u001b[39m\u001b[38;5;124mcoke\u001b[39m\u001b[38;5;124m\"\u001b[39m, \u001b[38;5;124m\"\u001b[39m\u001b[38;5;124mcoffee\u001b[39m\u001b[38;5;124m\"\u001b[39m, \u001b[38;5;124m\"\u001b[39m\u001b[38;5;124mbeer\u001b[39m\u001b[38;5;124m\"\u001b[39m]\n\u001b[0;32m      2\u001b[0m \u001b[38;5;28;01mdel\u001b[39;00m drinks\n\u001b[1;32m----> 3\u001b[0m \u001b[38;5;28mprint\u001b[39m(\u001b[43mdrinks\u001b[49m)\n",
      "\u001b[1;31mNameError\u001b[0m: name 'drinks' is not defined"
     ]
    }
   ],
   "source": [
    "drinks = [\"coke\", \"coffee\", \"beer\"]\n",
    "del drinks\n",
    "print(drinks)   # NameError: name 'drinks' is not defined"
   ]
  },
  {
   "cell_type": "markdown",
   "metadata": {},
   "source": [
    "## Clear the List          \n",
    "~ The clear() method empties the list.          \n",
    "\n",
    "~ The list still remains, but it has no content."
   ]
  },
  {
   "cell_type": "code",
   "execution_count": 45,
   "metadata": {},
   "outputs": [
    {
     "name": "stdout",
     "output_type": "stream",
     "text": [
      "['coke', 'coffee', 'beer']\n",
      "[]\n"
     ]
    }
   ],
   "source": [
    "drinks = [\"coke\", \"coffee\", \"beer\"]\n",
    "print(drinks)\n",
    "drinks.clear()\n",
    "print(drinks)"
   ]
  },
  {
   "cell_type": "markdown",
   "metadata": {},
   "source": [
    "## Loop Through a List     \n",
    "~ You can loop through the list items by using a for loop:"
   ]
  },
  {
   "cell_type": "code",
   "execution_count": 46,
   "metadata": {},
   "outputs": [
    {
     "name": "stdout",
     "output_type": "stream",
     "text": [
      "coke\n",
      "coffee\n",
      "beer\n"
     ]
    }
   ],
   "source": [
    "# Print all items in the list, one by one:\n",
    "drinks = [\"coke\", \"coffee\", \"beer\"]\n",
    "for drink in drinks:\n",
    "    print(drink)"
   ]
  },
  {
   "cell_type": "markdown",
   "metadata": {},
   "source": [
    "## Loop Through the Index Numbers          \n",
    "~ You can also loop through the list items by referring to their index number.      \n",
    "\n",
    "~ Use the range() and len() functions to create a suitable iterable."
   ]
  },
  {
   "cell_type": "code",
   "execution_count": 52,
   "metadata": {},
   "outputs": [
    {
     "name": "stdout",
     "output_type": "stream",
     "text": [
      "index 0 points to coke\n",
      "index 1 points to coffee\n",
      "index 2 points to beer\n"
     ]
    }
   ],
   "source": [
    "\n",
    "drinks = [\"coke\", \"coffee\", \"beer\"]\n",
    "for i in range(len(drinks)):\n",
    "    print(f\"index {i} points to {drinks[i]}\")"
   ]
  },
  {
   "cell_type": "markdown",
   "metadata": {},
   "source": [
    "## Using a While Loop          \n",
    "~ You can loop through the list items by using a while loop.        \n",
    "\n",
    "~ Use the len() function to determine the length of the list, then start at 0 and loop your way through the list items by referring to their indexes.     \n",
    "\n",
    "~ Remember to increase the index by 1 after each iteration."
   ]
  },
  {
   "cell_type": "code",
   "execution_count": 55,
   "metadata": {},
   "outputs": [
    {
     "name": "stdout",
     "output_type": "stream",
     "text": [
      "coke\n",
      "coffee\n",
      "beer\n"
     ]
    }
   ],
   "source": [
    "drinks = [\"coke\", \"coffee\", \"beer\"]\n",
    "i =0\n",
    "while i < len(drinks):\n",
    "    print(drinks[i])\n",
    "    i += 1"
   ]
  },
  {
   "cell_type": "markdown",
   "metadata": {},
   "source": [
    "## Looping Using List Comprehension        \n",
    "~ List Comprehension offers the shortest syntax for looping through lists:"
   ]
  },
  {
   "cell_type": "code",
   "execution_count": 59,
   "metadata": {},
   "outputs": [
    {
     "name": "stdout",
     "output_type": "stream",
     "text": [
      "coke\n",
      "coffee\n",
      "beer\n"
     ]
    },
    {
     "data": {
      "text/plain": [
       "[None, None, None]"
      ]
     },
     "execution_count": 59,
     "metadata": {},
     "output_type": "execute_result"
    }
   ],
   "source": [
    "drinks = [\"coke\", \"coffee\", \"beer\"]\n",
    "[print(x) for x in drinks]"
   ]
  },
  {
   "cell_type": "markdown",
   "metadata": {},
   "source": [
    "~ List comprehension offers a shorter syntax when you want to create a new list based on the values of an existing list.\n",
    "\n",
    "~ Example:      \n",
    "\n",
    "~ Based on a list of drinks, you want a new list, containing only drinks with the letter \"o\" in the name.       \n",
    "\n",
    "~ Without list comprehension you will have to write a for statement with a conditional test inside:"
   ]
  },
  {
   "cell_type": "code",
   "execution_count": 61,
   "metadata": {},
   "outputs": [
    {
     "name": "stdout",
     "output_type": "stream",
     "text": [
      "[]\n",
      "['coke', 'coffee']\n"
     ]
    }
   ],
   "source": [
    "drinks = [\"coke\", \"coffee\", \"beer\"]\n",
    "o_drinks =[]\n",
    "print(o_drinks)\n",
    "for drink in drinks:\n",
    "    if \"o\" in drink:\n",
    "        o_drinks.append(drink)\n",
    "print(o_drinks)"
   ]
  },
  {
   "cell_type": "markdown",
   "metadata": {},
   "source": [
    "With list comprehension you can do all that with only one line of code:\n",
    "\n"
   ]
  },
  {
   "cell_type": "code",
   "execution_count": 2,
   "metadata": {},
   "outputs": [
    {
     "name": "stdout",
     "output_type": "stream",
     "text": [
      "['coke', 'coffee']\n"
     ]
    }
   ],
   "source": [
    "drinks = [\"coke\", \"coffee\", \"beer\"]\n",
    "o_drinks = [drink for drink in drinks if \"o\" in drink]\n",
    "print(o_drinks)"
   ]
  },
  {
   "cell_type": "code",
   "execution_count": 6,
   "metadata": {},
   "outputs": [
    {
     "data": {
      "text/plain": [
       "[2, 4, 6, 8]"
      ]
     },
     "execution_count": 6,
     "metadata": {},
     "output_type": "execute_result"
    }
   ],
   "source": [
    "# Another example of list comprehension\n",
    "numbers = [1,2,3,4]\n",
    "[2*item for item in numbers]"
   ]
  },
  {
   "cell_type": "code",
   "execution_count": 5,
   "metadata": {},
   "outputs": [
    {
     "data": {
      "text/plain": [
       "['APPLE', 'ORANGE', 'MANGO', 'BANANA']"
      ]
     },
     "execution_count": 5,
     "metadata": {},
     "output_type": "execute_result"
    }
   ],
   "source": [
    "# More examples of list comprehension\n",
    "fruits = [\"apple\", \"orange\", \"mango\", \"banana\"]\n",
    "[item.upper() for item in fruits]"
   ]
  },
  {
   "cell_type": "markdown",
   "metadata": {},
   "source": [
    "## The Syntax\n",
    "\n",
    "    newlist = [expression for item in iterable if condition == True]\n",
    "    \n",
    "~ The return value is a new list, leaving the old list unchanged.       \n",
    "\n",
    "## Condition       \n",
    "~ The condition is like a filter that only accepts the items that valuate to True."
   ]
  },
  {
   "cell_type": "code",
   "execution_count": 63,
   "metadata": {},
   "outputs": [
    {
     "name": "stdout",
     "output_type": "stream",
     "text": [
      "['coke', 'beer']\n"
     ]
    }
   ],
   "source": [
    "# only accept items that are NOT coffee \n",
    "drinks = [\"coke\", \"coffee\", \"beer\"]\n",
    "accepted = [drink for drink in drinks if drink != \"coffee\"]\n",
    "print(accepted)\n"
   ]
  },
  {
   "cell_type": "markdown",
   "metadata": {},
   "source": [
    "~ The condition if x != \"coffe\"  will return True for all elements other than \"coffee\", making the new list contain all drinks except \"coffee\".           \n",
    "\n",
    "~ The condition is optional and can be omitted:"
   ]
  },
  {
   "cell_type": "code",
   "execution_count": 64,
   "metadata": {},
   "outputs": [
    {
     "name": "stdout",
     "output_type": "stream",
     "text": [
      "['coke', 'coffee', 'beer']\n"
     ]
    }
   ],
   "source": [
    "# With no if statement:\n",
    "drinks = [\"coke\", \"coffee\", \"beer\"]\n",
    "accepted = [drink for drink in drinks]\n",
    "print(accepted)"
   ]
  },
  {
   "cell_type": "markdown",
   "metadata": {},
   "source": [
    "## List Comprehension with Filters        "
   ]
  },
  {
   "cell_type": "code",
   "execution_count": 8,
   "metadata": {},
   "outputs": [
    {
     "name": "stdout",
     "output_type": "stream",
     "text": [
      "[0, 1, 2, 3, 4, 5, 6, 7, 8, 9, 10, 11, 12, 13, 14, 15, 16, 17, 18, 19, 20, 21, 22, 23, 24, 25, 26, 27, 28, 29, 30, 31, 32, 33, 34, 35, 36, 37, 38, 39, 40, 41, 42, 43, 44, 45, 46, 47, 48, 49, 50, 51, 52, 53, 54, 55, 56, 57, 58, 59, 60, 61, 62, 63, 64, 65, 66, 67, 68, 69, 70, 71, 72, 73, 74, 75, 76, 77, 78, 79, 80, 81, 82, 83, 84, 85, 86, 87, 88, 89, 90, 91, 92, 93, 94, 95, 96, 97, 98, 99]\n",
      "[0, 10, 20, 30, 40, 50, 60, 70, 80, 90]\n"
     ]
    }
   ],
   "source": [
    "myList = list(range(100))\n",
    "print(myList)\n",
    "filtered = [item for item in myList if item % 10 == 0]\n",
    "print(filtered)"
   ]
  },
  {
   "cell_type": "markdown",
   "metadata": {},
   "source": [
    "## List Comprehension with Functions"
   ]
  },
  {
   "cell_type": "code",
   "execution_count": 13,
   "metadata": {},
   "outputs": [
    {
     "name": "stdout",
     "output_type": "stream",
     "text": [
      "['My', 'name', 'is', 'Sean.', 'I', 'love', 'python']\n",
      "['my', 'name', 'is', 'sean', 'i', 'love', 'python']\n",
      "['name', 'sean', 'love', 'python']\n"
     ]
    }
   ],
   "source": [
    "myString = \"My name is Sean. I love python\"\n",
    "words=myString.split()\n",
    "print(words)\n",
    "\n",
    "def cleanWord(word):\n",
    "    return word.replace(\".\",\"\").lower()\n",
    "\n",
    "clean_words = [cleanWord(word) for word in myString.split()]\n",
    "print(clean_words)\n",
    "\n",
    "clean_and_filter = [cleanWord(word) for word in myString.split() if len(cleanWord(word)) > 3]\n",
    "print(clean_and_filter)"
   ]
  },
  {
   "cell_type": "markdown",
   "metadata": {},
   "source": [
    "## Iterable        \n",
    "~ The iterable can be any iterable object, like a list, tuple, set etc."
   ]
  },
  {
   "cell_type": "code",
   "execution_count": 66,
   "metadata": {},
   "outputs": [
    {
     "name": "stdout",
     "output_type": "stream",
     "text": [
      "[0, 1, 2, 3, 4, 5, 6, 7, 8, 9, 10, 11, 12, 13, 14, 15, 16, 17, 18, 19]\n"
     ]
    }
   ],
   "source": [
    "# You can use the range() function to create an iterable:\n",
    "newly_minted = [x for x in range(20)]\n",
    "print(newly_minted)"
   ]
  },
  {
   "cell_type": "markdown",
   "metadata": {},
   "source": [
    "Same example, but with a condition:\n",
    "\n"
   ]
  },
  {
   "cell_type": "code",
   "execution_count": 69,
   "metadata": {},
   "outputs": [
    {
     "name": "stdout",
     "output_type": "stream",
     "text": [
      "[7, 8, 9, 10, 11, 12, 13, 14, 15, 16, 17, 18, 19]\n"
     ]
    }
   ],
   "source": [
    "## Accept only numbers lower than 5:\n",
    "greater_than_6 = [x for x in range(20) if x > 6]\n",
    "print(greater_than_6)"
   ]
  },
  {
   "cell_type": "markdown",
   "metadata": {},
   "source": [
    "## Expression      \n",
    "~ The expression is the current item in the iteration, but it is also the outcome, which you can manipulate before it ends up like a list item in the new list:"
   ]
  },
  {
   "cell_type": "code",
   "execution_count": 70,
   "metadata": {},
   "outputs": [
    {
     "name": "stdout",
     "output_type": "stream",
     "text": [
      "['COKE', 'COFFEE', 'BEER']\n"
     ]
    }
   ],
   "source": [
    "# Set the values in the new list to upper case:\n",
    "drinks = [\"coke\", \"coffee\", \"beer\"]\n",
    "accepted = [drink.upper() for drink in drinks]\n",
    "print(accepted)"
   ]
  },
  {
   "cell_type": "markdown",
   "metadata": {},
   "source": [
    "You can set the outcome to whatever you like:\n",
    "\n"
   ]
  },
  {
   "cell_type": "code",
   "execution_count": 73,
   "metadata": {},
   "outputs": [
    {
     "name": "stdout",
     "output_type": "stream",
     "text": [
      "['Kopi O Kosong', 'Kopi O Kosong', 'Kopi O Kosong']\n"
     ]
    }
   ],
   "source": [
    "# Set all values in the new list to 'Kopi O Kosong':\n",
    "drinks = [\"coke\", \"coffee\", \"beer\"]\n",
    "accepted = [\"Kopi O Kosong\" for drink in drinks]\n",
    "print(accepted)"
   ]
  },
  {
   "cell_type": "markdown",
   "metadata": {},
   "source": [
    "The expression can also contain conditions, not like a filter, but as a way to manipulate the outcome:\n",
    "\n"
   ]
  },
  {
   "cell_type": "code",
   "execution_count": 75,
   "metadata": {},
   "outputs": [
    {
     "name": "stdout",
     "output_type": "stream",
     "text": [
      "['coke', 'Healthy Drink', 'beer']\n"
     ]
    }
   ],
   "source": [
    "\n",
    "# Return \"Healthy Drink\" instead of \"coffee\":\n",
    "drinks = [\"coke\", \"coffee\", \"beer\"]\n",
    "accepted = [drink if drink != \"coffee\" else \"Healthy Drink\" for drink in drinks]\n",
    "print(accepted)"
   ]
  },
  {
   "cell_type": "markdown",
   "metadata": {},
   "source": [
    "## Sort List Alphanumerically      \n",
    "~ List objects have a sort() method that will sort the list alphanumerically, ascending, by default:"
   ]
  },
  {
   "cell_type": "code",
   "execution_count": 4,
   "metadata": {},
   "outputs": [
    {
     "name": "stdout",
     "output_type": "stream",
     "text": [
      "['circle', 'oval', 'polygon', 'rectangle', 'square', 'triangle']\n"
     ]
    }
   ],
   "source": [
    "\n",
    "# Sort the list alphabetically:\n",
    "shapes = list((\"square\", \"rectangle\", \"triangle\", \"circle\", \"oval\", \"polygon\"))\n",
    "shapes.sort()\n",
    "print(shapes)"
   ]
  },
  {
   "cell_type": "code",
   "execution_count": 8,
   "metadata": {},
   "outputs": [
    {
     "name": "stdout",
     "output_type": "stream",
     "text": [
      "[1, 4, 5, 7, 8, 9, 10, 12, 22, 54, 111]\n"
     ]
    }
   ],
   "source": [
    "# Sort the list numerically (in place):\n",
    "numbers = [10,4,5,1,7,22,12,54,8,9,111]\n",
    "numbers.sort()\n",
    "print(numbers)\n"
   ]
  },
  {
   "cell_type": "code",
   "execution_count": 11,
   "metadata": {},
   "outputs": [
    {
     "name": "stdout",
     "output_type": "stream",
     "text": [
      "[1, 4, 5, 7, 8, 9, 10, 12, 22, 54, 111]\n",
      "[10, 4, 5, 1, 7, 22, 12, 54, 8, 9, 111]\n"
     ]
    }
   ],
   "source": [
    "# sorted function, which returns a new sorted list without modifying the original list\n",
    "numbers = [10,4,5,1,7,22,12,54,8,9,111]\n",
    "print(sorted(numbers))\n",
    "print(numbers)"
   ]
  },
  {
   "cell_type": "code",
   "execution_count": 13,
   "metadata": {},
   "outputs": [
    {
     "name": "stdout",
     "output_type": "stream",
     "text": [
      "[111, 54, 22, 12, 10, 9, 8, 7, 5, 4, 1]\n"
     ]
    }
   ],
   "source": [
    "# sort descending\n",
    "numbers = [10,4,5,1,7,22,12,54,8,9,111]\n",
    "numbers.sort(reverse=True)\n",
    "print(numbers)"
   ]
  },
  {
   "cell_type": "code",
   "execution_count": 14,
   "metadata": {},
   "outputs": [
    {
     "name": "stdout",
     "output_type": "stream",
     "text": [
      "[111, 54, 22, 12, 10, 9, 8, 7, 5, 4, 1]\n",
      "[10, 4, 5, 1, 7, 22, 12, 54, 8, 9, 111]\n"
     ]
    }
   ],
   "source": [
    "# sort descending without modifying original list\n",
    "numbers = [10,4,5,1,7,22,12,54,8,9,111]\n",
    "print(sorted(numbers, reverse=True))\n",
    "print(numbers)"
   ]
  },
  {
   "cell_type": "markdown",
   "metadata": {},
   "source": [
    "## Customize Sort Function         \n",
    "~ You can also customize your own function by using the keyword argument key = function.        \n",
    "\n",
    "~ The function will return a number that will be used to sort the list (the lowest number first):"
   ]
  },
  {
   "cell_type": "code",
   "execution_count": 17,
   "metadata": {},
   "outputs": [
    {
     "name": "stdout",
     "output_type": "stream",
     "text": [
      "[50, 49, 54, 22, 12, 10, 9, 8, 7, 5, 4, 1, 111]\n"
     ]
    }
   ],
   "source": [
    "# Sort the list based on how close the number is to 50:\n",
    "def myfunc(n):\n",
    "  return abs(n - 50)\n",
    "\n",
    "numbers = [10,4,5,49,1,7, 50,22,12,54,8,9,111]\n",
    "numbers.sort(key = myfunc)\n",
    "print(numbers)"
   ]
  },
  {
   "cell_type": "code",
   "execution_count": 19,
   "metadata": {},
   "outputs": [
    {
     "name": "stdout",
     "output_type": "stream",
     "text": [
      "[50, 49, 54, 22, 12, 10, 9, 8, 7, 5, 4, 1, 111]\n",
      "[10, 4, 5, 49, 1, 7, 50, 22, 12, 54, 8, 9, 111]\n"
     ]
    }
   ],
   "source": [
    "# Sort the list based on how close the number is to 50 without modifying original list\n",
    "def myfunc(n):\n",
    "  return abs(n - 50)\n",
    "\n",
    "numbers = [10,4,5,49,1,7, 50,22,12,54,8,9,111]\n",
    "print(sorted(numbers, key = myfunc))\n",
    "print(numbers)"
   ]
  },
  {
   "cell_type": "markdown",
   "metadata": {},
   "source": [
    "## Case Insensitive Sort           \n",
    "~ By default the sort() method is case sensitive, resulting in all capital letters being sorted before lower case letters:"
   ]
  },
  {
   "cell_type": "code",
   "execution_count": 20,
   "metadata": {},
   "outputs": [
    {
     "name": "stdout",
     "output_type": "stream",
     "text": [
      "['Polygon', 'Triangle', 'circle', 'oval', 'rectangle', 'square']\n"
     ]
    }
   ],
   "source": [
    "# Case sensitive sorting can give an unexpected result:\n",
    "shapes = list((\"square\", \"rectangle\", \"Triangle\", \"circle\", \"oval\", \"Polygon\"))\n",
    "shapes.sort()\n",
    "print(shapes)"
   ]
  },
  {
   "cell_type": "markdown",
   "metadata": {},
   "source": [
    "Luckily we can use built-in functions as key functions when sorting a list.\n",
    "\n",
    "So if you want a case-insensitive sort function, use str.lower as a key function:"
   ]
  },
  {
   "cell_type": "code",
   "execution_count": 21,
   "metadata": {},
   "outputs": [
    {
     "name": "stdout",
     "output_type": "stream",
     "text": [
      "['circle', 'oval', 'Polygon', 'rectangle', 'square', 'Triangle']\n"
     ]
    }
   ],
   "source": [
    "# Perform a case-insensitive sort of the list:\n",
    "shapes = list((\"square\", \"rectangle\", \"Triangle\", \"circle\", \"oval\", \"Polygon\"))\n",
    "shapes.sort(key = str.lower)\n",
    "print(shapes)"
   ]
  },
  {
   "cell_type": "code",
   "execution_count": 22,
   "metadata": {},
   "outputs": [
    {
     "name": "stdout",
     "output_type": "stream",
     "text": [
      "['circle', 'oval', 'Polygon', 'rectangle', 'square', 'Triangle']\n"
     ]
    }
   ],
   "source": [
    "# Perform a case-insensitive sort of the list without modifying original list\n",
    "shapes = list((\"square\", \"rectangle\", \"Triangle\", \"circle\", \"oval\", \"Polygon\"))\n",
    "print(sorted(shapes, key=str.lower))"
   ]
  },
  {
   "cell_type": "markdown",
   "metadata": {},
   "source": [
    "## Reverse Order       \n",
    "~ What if you want to reverse the order of a list, regardless of the alphabet?        \n",
    "\n",
    "~ The reverse() method reverses the current sorting order of the elements."
   ]
  },
  {
   "cell_type": "code",
   "execution_count": 24,
   "metadata": {},
   "outputs": [
    {
     "name": "stdout",
     "output_type": "stream",
     "text": [
      "['Polygon', 'oval', 'circle', 'Triangle', 'rectangle', 'square']\n"
     ]
    }
   ],
   "source": [
    "# Reverse the order of the list items:\n",
    "shapes = list((\"square\", \"rectangle\", \"Triangle\", \"circle\", \"oval\", \"Polygon\"))\n",
    "shapes.reverse()\n",
    "print(shapes)"
   ]
  },
  {
   "cell_type": "markdown",
   "metadata": {},
   "source": [
    "## Copy a List     \n",
    "~ You cannot copy a list simply by typing list2 = list1, because: list2 will only be a reference to list1, and changes made in list1 will automatically also be made in list2.        \n",
    "\n",
    "~ There are ways to make a copy, one way is to use the built-in List method copy().       "
   ]
  },
  {
   "cell_type": "code",
   "execution_count": 28,
   "metadata": {},
   "outputs": [
    {
     "name": "stdout",
     "output_type": "stream",
     "text": [
      "1. ['square', 'rectangle', 'Triangle', 'circle', 'oval', 'Polygon']\n",
      "2. ['square', 'rectangle', 'Triangle', 'circle', 'oval', 'Polygon', 'hexagon']\n",
      "3. ['square', 'rectangle', 'Triangle', 'circle', 'oval', 'Polygon']\n"
     ]
    }
   ],
   "source": [
    "shapes = list((\"square\", \"rectangle\", \"Triangle\", \"circle\", \"oval\", \"Polygon\"))\n",
    "new_shapes = shapes.copy()\n",
    "print(\"1.\", new_shapes)\n",
    "new_shapes.append(\"hexagon\")\n",
    "print(\"2.\", new_shapes)\n",
    "print(\"3.\", shapes)"
   ]
  },
  {
   "cell_type": "markdown",
   "metadata": {},
   "source": [
    "Another way to make a copy is to use the built-in method list()."
   ]
  },
  {
   "cell_type": "code",
   "execution_count": 29,
   "metadata": {},
   "outputs": [
    {
     "name": "stdout",
     "output_type": "stream",
     "text": [
      "['square', 'rectangle', 'Triangle', 'circle', 'oval', 'Polygon']\n"
     ]
    }
   ],
   "source": [
    "# Make a copy of a list with the list() method:\n",
    "shapes = [\"square\", \"rectangle\", \"Triangle\", \"circle\", \"oval\", \"Polygon\"]\n",
    "new_shapes = list(shapes)\n",
    "print(new_shapes)\n"
   ]
  },
  {
   "cell_type": "markdown",
   "metadata": {},
   "source": [
    "## Join Two Lists      \n",
    "~ There are several ways to join, or concatenate, two or more lists in Python.        \n",
    "\n",
    "~ One of the easiest ways are by using the + operator."
   ]
  },
  {
   "cell_type": "code",
   "execution_count": 31,
   "metadata": {},
   "outputs": [
    {
     "name": "stdout",
     "output_type": "stream",
     "text": [
      "[10, 20, 30, 'Sean', 'Sam', 'Samantha']\n"
     ]
    }
   ],
   "source": [
    "list1 = [10,20,30]\n",
    "list2 = [\"Sean\", \"Sam\", \"Samantha\"]\n",
    "print(list1 + list2)         "
   ]
  },
  {
   "cell_type": "markdown",
   "metadata": {},
   "source": [
    "Another way to join two lists is by appending all the items from list2 into list1, one by one:\n",
    "\n"
   ]
  },
  {
   "cell_type": "code",
   "execution_count": 32,
   "metadata": {},
   "outputs": [
    {
     "name": "stdout",
     "output_type": "stream",
     "text": [
      "['Sean', 'Sam', 'Samantha', 10, 20, 30]\n"
     ]
    }
   ],
   "source": [
    "list1 = [10,20,30]\n",
    "list2 = [\"Sean\", \"Sam\", \"Samantha\"]\n",
    "\n",
    "for item in list1:\n",
    "    list2.append(item)\n",
    "\n",
    "print(list2)"
   ]
  },
  {
   "cell_type": "markdown",
   "metadata": {},
   "source": [
    "Or you can use the extend() method, where the purpose is to add elements from one list to another list:\n",
    "\n"
   ]
  },
  {
   "cell_type": "code",
   "execution_count": 34,
   "metadata": {},
   "outputs": [
    {
     "name": "stdout",
     "output_type": "stream",
     "text": [
      "['Sean', 'Sam', 'Samantha', 10, 20, 30]\n"
     ]
    }
   ],
   "source": [
    "list1 = [10,20,30]\n",
    "list2 = [\"Sean\", \"Sam\", \"Samantha\"]\n",
    "\n",
    "list2.extend(list1)\n",
    "print(list2)"
   ]
  },
  {
   "cell_type": "markdown",
   "metadata": {},
   "source": [
    "## List Methods        \n",
    "\n",
    "Python has a set of built-in methods that you can use on lists.     \n",
    "\n",
    "| Method     | Description                                                      |\n",
    "|------------|------------------------------------------------------------------|\n",
    "| append()   | Adds an element at the end of the list                           |\n",
    "| clear()    | Removes all the elements from the list                           |\n",
    "| copy()     | Returns a copy of the list                                       |\n",
    "| count()    | Returns the number of elements with the specified value          |\n",
    "| extend()   | Add the elements of a list (or any iterable), to the end of the current list |\n",
    "| index()    | Returns the index of the first element with the specified value  |\n",
    "| insert()   | Adds an element at the specified position                        |\n",
    "| pop()      | Removes the element at the specified position                    |\n",
    "| remove()   | Removes the item with the specified value                        |\n",
    "| reverse()  | Reverses the order of the list                                   |\n",
    "| sort()     | Sorts the list                                                   |\n"
   ]
  }
 ],
 "metadata": {
  "kernelspec": {
   "display_name": "Python 3",
   "language": "python",
   "name": "python3"
  },
  "language_info": {
   "codemirror_mode": {
    "name": "ipython",
    "version": 3
   },
   "file_extension": ".py",
   "mimetype": "text/x-python",
   "name": "python",
   "nbconvert_exporter": "python",
   "pygments_lexer": "ipython3",
   "version": "3.12.4"
  }
 },
 "nbformat": 4,
 "nbformat_minor": 2
}
