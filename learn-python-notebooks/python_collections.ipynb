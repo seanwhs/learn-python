{
 "cells": [
  {
   "cell_type": "markdown",
   "metadata": {},
   "source": [
    "## Python Collections (Arrays)\n",
    "~~ There are four collection data types in the Python programming language:     \n",
    "\n",
    "        ~~ List is a collection which is ordered and changeable. Allows duplicate members.      \n",
    "        ~~ Tuple is a collection which is ordered and unchangeable. Allows duplicate members.       \n",
    "        ~~ Set is a collection which is unordered, unchangeable*, and unindexed. No duplicate members.      \n",
    "        ~~ Dictionary is a collection which is ordered** and changeable. No duplicate members.      \n",
    "\n",
    "*Set items are unchangeable, but you can remove and/or add items whenever you like.     \n",
    "\n",
    "**As of Python version 3.7, dictionaries are ordered. In Python 3.6 and earlier, dictionaries are unordered.        \n",
    "\n",
    "~~ When choosing a collection type, it is useful to understand the properties of that type. Choosing the right type for a particular data set could mean retention of meaning, and, it could mean an increase in efficiency or security."
   ]
  }
 ],
 "metadata": {
  "language_info": {
   "name": "python"
  }
 },
 "nbformat": 4,
 "nbformat_minor": 2
}
