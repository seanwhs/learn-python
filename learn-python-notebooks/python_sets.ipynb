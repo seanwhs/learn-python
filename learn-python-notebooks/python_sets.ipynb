{
 "cells": [
  {
   "cell_type": "markdown",
   "metadata": {},
   "source": [
    "## Set     \n",
    "~ Sets are used to store multiple items in a single variable.     \n",
    "\n",
    "~ Set is one of 4 built-in data types in Python used to store collections of data, the other 3 are List, Tuple, and Dictionary, all with different qualities and usage.       \n",
    "\n",
    "~ A set is a collection which is unordered, unchangeable*, and unindexed.     \n",
    "\n",
    "* Note: Set items are unchangeable, but you can remove items and add new items.     \n",
    "\n",
    "~ Sets are written with curly brackets."
   ]
  },
  {
   "cell_type": "code",
   "execution_count": 1,
   "metadata": {},
   "outputs": [
    {
     "name": "stdout",
     "output_type": "stream",
     "text": [
      "{1, 2, 3, 4, 5}\n"
     ]
    }
   ],
   "source": [
    "# Create a Set:\n",
    "\n",
    "mySet = {1,2,3,4,5}\n",
    "print(mySet)"
   ]
  },
  {
   "cell_type": "markdown",
   "metadata": {},
   "source": [
    "## Set Items       \n",
    "~ Set items are unordered, unchangeable, and do not allow duplicate values.       \n",
    "* Note: Sets are unordered, so you cannot be sure in which order the items will appear.\n",
    "\n",
    "\n",
    "## Unordered       \n",
    "~ Unordered means that the items in a set do not have a defined order.        \n",
    "\n",
    "~ Set items can appear in a different order every time you use them, and cannot be referred to by index or key.       \n",
    "\n",
    "## Unchangeable        \n",
    "~ Set items are unchangeable, meaning that we cannot change the items after the set has been created.     \n",
    "\n",
    "~ Once a set is created, you cannot change its items, but you can remove items and add new items.     \n",
    "\n",
    "## Duplicates Not Allowed      \n",
    "~ Sets cannot have two items with the same value.     "
   ]
  },
  {
   "cell_type": "code",
   "execution_count": 3,
   "metadata": {},
   "outputs": [
    {
     "name": "stdout",
     "output_type": "stream",
     "text": [
      "{1, 2, 3, 4, 5}\n"
     ]
    }
   ],
   "source": [
    "# Duplicate values will be ignored:\n",
    "mySet = {1, 2, 3, 4, 5, 1, 2 ,3 ,4 ,5}\n",
    "print(mySet)\n"
   ]
  },
  {
   "cell_type": "code",
   "execution_count": 12,
   "metadata": {},
   "outputs": [
    {
     "name": "stdout",
     "output_type": "stream",
     "text": [
      "{1, 'One', 'two'}\n",
      "{'Hi', 'Bye', True}\n"
     ]
    }
   ],
   "source": [
    "# Note: The values True and 1 are considered the same value in sets, and are treated as duplicates:\n",
    "\n",
    "mySet = {\"One\", \"two\", 1, 1, True}\n",
    "anotherSet = {\"Hi\", \"Bye\", True, 1}\n",
    "print(mySet)\n",
    "print(anotherSet)"
   ]
  },
  {
   "cell_type": "code",
   "execution_count": 13,
   "metadata": {},
   "outputs": [
    {
     "name": "stdout",
     "output_type": "stream",
     "text": [
      "{0, 1, 'One', 'two'}\n",
      "{False, 'Hi', 'Bye'}\n"
     ]
    }
   ],
   "source": [
    "# False and 0 is considered the same value:\n",
    "mySet = {\"One\", \"two\", 0, 1, False}\n",
    "anotherSet = {\"Hi\", \"Bye\", False, 0}\n",
    "print(mySet)\n",
    "print(anotherSet)\n"
   ]
  },
  {
   "cell_type": "markdown",
   "metadata": {},
   "source": [
    "## Access Items        \n",
    "~ You cannot access items in a set by referring to an index or a key.     \n",
    "\n",
    "~ But you can loop through the set items using a for loop, or ask if a specified value is present in a set, by using the in keyword."
   ]
  },
  {
   "cell_type": "code",
   "execution_count": 14,
   "metadata": {},
   "outputs": [
    {
     "name": "stdout",
     "output_type": "stream",
     "text": [
      "One\n",
      "Three\n",
      "Two\n"
     ]
    }
   ],
   "source": [
    "# Loop through the set, and print the values:\n",
    "\n",
    "mySet = {\"One\", \"Two\", \"Three\"}\n",
    "for item in mySet:\n",
    "    print(item)"
   ]
  },
  {
   "cell_type": "code",
   "execution_count": 17,
   "metadata": {},
   "outputs": [
    {
     "name": "stdout",
     "output_type": "stream",
     "text": [
      "True\n",
      "False\n",
      "Yes, 'Three' can be found in mySet\n"
     ]
    }
   ],
   "source": [
    "# Check if \"Two\" is in set\n",
    "mySet = {\"One\", \"Two\", \"Three\"}\n",
    "print(\"Two\" in mySet)\n",
    "print(\"two\" in mySet)\n",
    "\n",
    "if \"Three\" in mySet:\n",
    "    print(\"Yes, 'Three' can be found in mySet\")"
   ]
  },
  {
   "cell_type": "markdown",
   "metadata": {},
   "source": [
    "## Change Items\n",
    "~ Once a set is created, you cannot change its items, but you can add new items.\n",
    "\n",
    "## Add Items\n",
    "~ Once a set is created, you cannot change its items, but you can add new items.        \n",
    "\n",
    "~ To add one item to a set use the add() method."
   ]
  },
  {
   "cell_type": "code",
   "execution_count": 18,
   "metadata": {},
   "outputs": [
    {
     "name": "stdout",
     "output_type": "stream",
     "text": [
      "{'Four', 'One', 'Three', 'Two'}\n"
     ]
    }
   ],
   "source": [
    "mySet = {\"One\", \"Two\", \"Three\"}\n",
    "mySet.add(\"Four\")\n",
    "print(mySet)"
   ]
  },
  {
   "cell_type": "markdown",
   "metadata": {},
   "source": [
    "## Add Sets\n",
    "~ To add items from another set into the current set, use the update() method."
   ]
  },
  {
   "cell_type": "code",
   "execution_count": 19,
   "metadata": {},
   "outputs": [
    {
     "name": "stdout",
     "output_type": "stream",
     "text": [
      "{'One', 'Four', 'Five', 'Three', 'Six', 'Two'}\n"
     ]
    }
   ],
   "source": [
    "mySet = {\"One\", \"Two\", \"Three\"}\n",
    "yourSet = {\"Four\", \"Five\", \"Six\"}\n",
    "mySet.update(yourSet)\n",
    "print(mySet)"
   ]
  },
  {
   "cell_type": "markdown",
   "metadata": {},
   "source": [
    "## Add Any Iterable\n",
    "~ The object in the update() method does not have to be a set, it can be any iterable object (tuples, lists, dictionaries etc.)."
   ]
  },
  {
   "cell_type": "code",
   "execution_count": 20,
   "metadata": {},
   "outputs": [
    {
     "name": "stdout",
     "output_type": "stream",
     "text": [
      "{1, 2, 3, 'Two', 'One', 'Three'}\n",
      "{1, 2, 3, 'Tuple', 'Set', 'Two', 'Dictionary', 'One', 'Three', 'List'}\n"
     ]
    }
   ],
   "source": [
    "mySet = {\"One\", \"Two\", \"Three\"}\n",
    "myList = [1,2,3]\n",
    "myTuple = (\"List\", \"Tuple\", \"Set\", \"Dictionary\")\n",
    "\n",
    "mySet.update(myList)\n",
    "print(mySet)\n",
    "mySet.update(myTuple)\n",
    "print(mySet)"
   ]
  },
  {
   "cell_type": "markdown",
   "metadata": {},
   "source": [
    "## Remove Item\n",
    "~ To remove an item in a set, use the remove(), or the discard() method.        \n",
    "~ Note: If the item to remove does not exist, remove() will raise an error.\n",
    "\n"
   ]
  },
  {
   "cell_type": "code",
   "execution_count": 23,
   "metadata": {},
   "outputs": [
    {
     "name": "stdout",
     "output_type": "stream",
     "text": [
      "{'One', 'Two'}\n"
     ]
    },
    {
     "ename": "KeyError",
     "evalue": "'Three'",
     "output_type": "error",
     "traceback": [
      "\u001b[1;31m---------------------------------------------------------------------------\u001b[0m",
      "\u001b[1;31mKeyError\u001b[0m                                  Traceback (most recent call last)",
      "Cell \u001b[1;32mIn[23], line 4\u001b[0m\n\u001b[0;32m      2\u001b[0m mySet\u001b[38;5;241m.\u001b[39mremove(\u001b[38;5;124m\"\u001b[39m\u001b[38;5;124mThree\u001b[39m\u001b[38;5;124m\"\u001b[39m)\n\u001b[0;32m      3\u001b[0m \u001b[38;5;28mprint\u001b[39m(mySet)\n\u001b[1;32m----> 4\u001b[0m \u001b[43mmySet\u001b[49m\u001b[38;5;241;43m.\u001b[39;49m\u001b[43mremove\u001b[49m\u001b[43m(\u001b[49m\u001b[38;5;124;43m\"\u001b[39;49m\u001b[38;5;124;43mThree\u001b[39;49m\u001b[38;5;124;43m\"\u001b[39;49m\u001b[43m)\u001b[49m\n\u001b[0;32m      5\u001b[0m \u001b[38;5;28mprint\u001b[39m(mySet)\n",
      "\u001b[1;31mKeyError\u001b[0m: 'Three'"
     ]
    }
   ],
   "source": [
    "mySet = {\"One\", \"Two\", \"Three\"}\n",
    "mySet.remove(\"Three\")\n",
    "print(mySet)\n",
    "mySet.remove(\"Three\")\n",
    "print(mySet)\n"
   ]
  },
  {
   "cell_type": "code",
   "execution_count": 24,
   "metadata": {},
   "outputs": [
    {
     "name": "stdout",
     "output_type": "stream",
     "text": [
      "{'One', 'Two'}\n",
      "{'One', 'Two'}\n"
     ]
    }
   ],
   "source": [
    "# Note: If the item to remove does not exist, remove() will raise an error.\n",
    "mySet = {\"One\", \"Two\", \"Three\"}\n",
    "mySet.discard(\"Three\")\n",
    "print(mySet)\n",
    "mySet.discard(\"Three\")\n",
    "print(mySet)\n"
   ]
  },
  {
   "cell_type": "markdown",
   "metadata": {},
   "source": [
    "~ You can also use the pop() method to remove an item, but this method will remove a random item, so you cannot be sure what item that gets removed.        \n",
    "\n",
    "~ The return value of the pop() method is the removed item.     \n",
    "\n",
    "~ Note: Sets are unordered, so when using the pop() method, you do not know which item that gets removed."
   ]
  },
  {
   "cell_type": "code",
   "execution_count": 25,
   "metadata": {},
   "outputs": [
    {
     "name": "stdout",
     "output_type": "stream",
     "text": [
      "One\n",
      "{'Three', 'Two'}\n"
     ]
    }
   ],
   "source": [
    "mySet = {\"One\", \"Two\", \"Three\"}\n",
    "popped = mySet.pop()\n",
    "print(popped)\n",
    "print(mySet)"
   ]
  },
  {
   "cell_type": "markdown",
   "metadata": {},
   "source": [
    "The clear() method empties the set:\n",
    "\n"
   ]
  },
  {
   "cell_type": "code",
   "execution_count": 26,
   "metadata": {},
   "outputs": [
    {
     "name": "stdout",
     "output_type": "stream",
     "text": [
      "{'One', 'Three', 'Two'}\n",
      "set()\n"
     ]
    }
   ],
   "source": [
    "mySet = {\"One\", \"Two\", \"Three\"}\n",
    "print(mySet)\n",
    "mySet.clear()\n",
    "print(mySet)"
   ]
  },
  {
   "cell_type": "markdown",
   "metadata": {},
   "source": [
    "The del keyword will delete the set completely:\n",
    "\n"
   ]
  },
  {
   "cell_type": "code",
   "execution_count": 30,
   "metadata": {},
   "outputs": [
    {
     "name": "stdout",
     "output_type": "stream",
     "text": [
      "{'One', 'Three', 'Two'}\n"
     ]
    },
    {
     "ename": "NameError",
     "evalue": "name 'mySet' is not defined",
     "output_type": "error",
     "traceback": [
      "\u001b[1;31m---------------------------------------------------------------------------\u001b[0m",
      "\u001b[1;31mNameError\u001b[0m                                 Traceback (most recent call last)",
      "Cell \u001b[1;32mIn[30], line 4\u001b[0m\n\u001b[0;32m      2\u001b[0m \u001b[38;5;28mprint\u001b[39m(mySet)\n\u001b[0;32m      3\u001b[0m \u001b[38;5;28;01mdel\u001b[39;00m mySet\n\u001b[1;32m----> 4\u001b[0m \u001b[38;5;28mprint\u001b[39m(\u001b[43mmySet\u001b[49m)\n",
      "\u001b[1;31mNameError\u001b[0m: name 'mySet' is not defined"
     ]
    }
   ],
   "source": [
    "mySet = {\"One\", \"Two\", \"Three\"}\n",
    "print(mySet)\n",
    "del mySet\n",
    "print(mySet)"
   ]
  },
  {
   "cell_type": "markdown",
   "metadata": {},
   "source": [
    "## Loop Items\n",
    "~ You can loop through the set items by using a for loop:"
   ]
  },
  {
   "cell_type": "code",
   "execution_count": 31,
   "metadata": {},
   "outputs": [
    {
     "name": "stdout",
     "output_type": "stream",
     "text": [
      "One\n",
      "Three\n",
      "Two\n"
     ]
    }
   ],
   "source": [
    "mySet = {\"One\", \"Two\", \"Three\"}\n",
    "for item in mySet:\n",
    "    print(item)"
   ]
  },
  {
   "cell_type": "markdown",
   "metadata": {},
   "source": [
    "## Join Sets        \n",
    "~ There are several ways to join two or more sets in Python.        \n",
    "\n",
    "~ The union() and update() methods joins all items from both sets.      \n",
    "\n",
    "~ The intersection() method keeps ONLY the duplicates.      \n",
    "\n",
    "~ The difference() method keeps the items from the first set that are not in the other set(s).      \n",
    "\n",
    "~ The symmetric_difference() method keeps all items EXCEPT the duplicates."
   ]
  },
  {
   "cell_type": "markdown",
   "metadata": {},
   "source": [
    "## Union\n",
    "~ The union() method returns a new set with all items from both sets."
   ]
  },
  {
   "cell_type": "code",
   "execution_count": 32,
   "metadata": {},
   "outputs": [
    {
     "name": "stdout",
     "output_type": "stream",
     "text": [
      "{'4', '1', '5', '3', '2'}\n"
     ]
    }
   ],
   "source": [
    "mySet={\"1\",\"2\",\"3\"}\n",
    "yourSet={\"1\", \"4\", \"5\"}\n",
    "unionSet=mySet.union(yourSet)\n",
    "print(unionSet)"
   ]
  },
  {
   "cell_type": "markdown",
   "metadata": {},
   "source": [
    "You can use the | operator instead of the union() method, and you will get the same result.\n",
    "\n"
   ]
  },
  {
   "cell_type": "code",
   "execution_count": 33,
   "metadata": {},
   "outputs": [
    {
     "name": "stdout",
     "output_type": "stream",
     "text": [
      "{'4', '1', '5', '3', '2'}\n"
     ]
    }
   ],
   "source": [
    "mySet={\"1\",\"2\",\"3\"}\n",
    "yourSet={\"1\", \"4\", \"5\"}\n",
    "unionSet=mySet | (yourSet)\n",
    "print(unionSet)"
   ]
  },
  {
   "cell_type": "markdown",
   "metadata": {},
   "source": [
    "## Join Multiple Sets       \n",
    "~ All the joining methods and operators can be used to join multiple sets.      \n",
    "\n",
    "~ When using a method, just add more sets in the parentheses, separated by commas:"
   ]
  },
  {
   "cell_type": "code",
   "execution_count": 34,
   "metadata": {},
   "outputs": [
    {
     "name": "stdout",
     "output_type": "stream",
     "text": [
      "{'Apple', 'Four', 'Plane', 'Bird', '2', 'Two', 'Orange', 'One', '4', '1', '5', 'Superman', '3', 'Pear', 'Three'}\n"
     ]
    }
   ],
   "source": [
    "# Join multiple sets with the union() method:\n",
    "\n",
    "mySet = {\"1\",\"2\",\"3\"}\n",
    "yourSet = {\"1\", \"4\", \"5\"}\n",
    "hisSet = {\"One\", \"Two\", \"Three\", \"Four\"}\n",
    "herSet = {\"Apple\", \"Orange\", \"Pear\"}\n",
    "theirSet = {\"Plane\", \"Bird\", \"Superman\"}\n",
    "unionSet=mySet.union(yourSet, hisSet, herSet, theirSet)\n",
    "print(unionSet)"
   ]
  },
  {
   "cell_type": "code",
   "execution_count": 35,
   "metadata": {},
   "outputs": [
    {
     "name": "stdout",
     "output_type": "stream",
     "text": [
      "{'Apple', 'Four', 'Plane', 'Bird', '2', 'Two', 'Orange', 'One', '4', '1', '5', 'Superman', '3', 'Pear', 'Three'}\n"
     ]
    }
   ],
   "source": [
    "# Join multiple sets using | operator:\n",
    "\n",
    "mySet = {\"1\",\"2\",\"3\"}\n",
    "yourSet = {\"1\", \"4\", \"5\"}\n",
    "hisSet = {\"One\", \"Two\", \"Three\", \"Four\"}\n",
    "herSet = {\"Apple\", \"Orange\", \"Pear\"}\n",
    "theirSet = {\"Plane\", \"Bird\", \"Superman\"}\n",
    "unionSet = mySet | yourSet | hisSet | herSet | theirSet\n",
    "print(unionSet)"
   ]
  },
  {
   "cell_type": "markdown",
   "metadata": {},
   "source": [
    "## Join a Set and a Tuple      \n",
    "~ The union() method allows you to join a set with other data types, like lists or tuples.        \n",
    "\n",
    "~ The result will be a set.       \n",
    "\n",
    "* Note: The  | operator only allows you to join sets with sets, and not with other data types like you can with the  union() method.\n",
    "\n"
   ]
  },
  {
   "cell_type": "code",
   "execution_count": 37,
   "metadata": {},
   "outputs": [
    {
     "name": "stdout",
     "output_type": "stream",
     "text": [
      "{'Apple', '2', 'Two', 'Orange', 'One', '1', '3', 'Pear', 'Three'}\n"
     ]
    }
   ],
   "source": [
    "mySet = {\"1\",\"2\",\"3\"}\n",
    "myList = [\"One\", \"Two\", \"Three\"]\n",
    "myTuple =(\"Apple\", \"Orange\", \"Pear\")\n",
    "\n",
    "unionSet = mySet.union(myList, myTuple)\n",
    "print(unionSet)"
   ]
  },
  {
   "cell_type": "markdown",
   "metadata": {},
   "source": [
    "## Update       \n",
    "~ The update() method inserts all items from one set into another.      \n",
    "\n",
    "~ The update() changes the original set, and does not return a new set."
   ]
  },
  {
   "cell_type": "code",
   "execution_count": 38,
   "metadata": {},
   "outputs": [
    {
     "name": "stdout",
     "output_type": "stream",
     "text": [
      "{'Apple', 'Four', '2', 'Two', 'Orange', 'One', '4', '1', '5', '3', 'Pear', 'Three'}\n"
     ]
    }
   ],
   "source": [
    "mySet = {\"1\",\"2\",\"3\"}\n",
    "yourSet = {\"1\", \"4\", \"5\"}\n",
    "hisSet = {\"One\", \"Two\", \"Three\", \"Four\"}\n",
    "herSet = {\"Apple\", \"Orange\", \"Pear\"}\n",
    "\n",
    "mySet.update(yourSet, hisSet, herSet)\n",
    "print(mySet) # changes the original set, and does not return a new set."
   ]
  },
  {
   "cell_type": "markdown",
   "metadata": {},
   "source": [
    "## Intersection        \n",
    "~ Keep ONLY the duplicates        \n",
    "\n",
    "~ The intersection() method will return a new set, that only contains the items that are present in both sets."
   ]
  },
  {
   "cell_type": "code",
   "execution_count": 40,
   "metadata": {},
   "outputs": [
    {
     "name": "stdout",
     "output_type": "stream",
     "text": [
      "{'1'}\n"
     ]
    }
   ],
   "source": [
    "# Join mySet and yourSet, but keep only the duplicates:\n",
    "mySet = {\"1\",\"2\",\"3\"}\n",
    "yourSet = {\"1\", \"4\", \"5\"}\n",
    "myList = [\"1\",\"two\"]\n",
    "\n",
    "interset = mySet.intersection(yourSet, myList)\n",
    "print(interset)"
   ]
  },
  {
   "cell_type": "markdown",
   "metadata": {},
   "source": [
    "~ You can use the & operator instead of the intersection() method, and you will get the same result.        \n",
    "\n",
    "~ Note: The & operator only allows you to join sets with sets, and not with other data types like you can with the intersection() method.       \n",
    "\n"
   ]
  },
  {
   "cell_type": "code",
   "execution_count": 41,
   "metadata": {},
   "outputs": [
    {
     "name": "stdout",
     "output_type": "stream",
     "text": [
      "{'1'}\n"
     ]
    }
   ],
   "source": [
    "# Use & to join two sets:\n",
    "\n",
    "mySet = {\"1\",\"2\",\"3\"}\n",
    "yourSet = {\"1\", \"4\", \"5\"}\n",
    "\n",
    "interset = mySet & yourSet\n",
    "print(interset)"
   ]
  },
  {
   "cell_type": "markdown",
   "metadata": {},
   "source": [
    "The intersection_update() method will also keep ONLY the duplicates, but it will change the original set instead of returning a new set.\n",
    "\n"
   ]
  },
  {
   "cell_type": "code",
   "execution_count": 42,
   "metadata": {},
   "outputs": [
    {
     "name": "stdout",
     "output_type": "stream",
     "text": [
      "{'1'}\n"
     ]
    }
   ],
   "source": [
    "# Use & to join two sets:\n",
    "\n",
    "mySet = {\"1\",\"2\",\"3\"}\n",
    "yourSet = {\"1\", \"4\", \"5\"}\n",
    "\n",
    "mySet.intersection_update(yourSet)\n",
    "print(mySet)"
   ]
  },
  {
   "cell_type": "markdown",
   "metadata": {},
   "source": [
    "The values True and 1 are considered the same value. The same goes for False and 0.\n",
    "\n"
   ]
  },
  {
   "cell_type": "code",
   "execution_count": 46,
   "metadata": {},
   "outputs": [
    {
     "name": "stdout",
     "output_type": "stream",
     "text": [
      "{False, 1}\n"
     ]
    }
   ],
   "source": [
    "mySet = {\"Two\",\"3\", True, 0, 0} # Strings and characters are truesy\n",
    "yourSet = {\"4\", \"5\", False, 1, 1}\n",
    "\n",
    "interSet = mySet.intersection(yourSet)\n",
    "print(interSet)"
   ]
  },
  {
   "cell_type": "code",
   "execution_count": 54,
   "metadata": {},
   "outputs": [
    {
     "name": "stdout",
     "output_type": "stream",
     "text": [
      "True\n"
     ]
    }
   ],
   "source": [
    "# Strings and characters are Truesy\n",
    "if \"Two\":\n",
    "    print(\"True\")\n",
    "else:\n",
    "    print(\"False\")"
   ]
  },
  {
   "cell_type": "markdown",
   "metadata": {},
   "source": [
    "## Difference       \n",
    "~ The difference() method will return a new set that will contain only the items from the first set that are not present in the other set.      "
   ]
  },
  {
   "cell_type": "code",
   "execution_count": 59,
   "metadata": {},
   "outputs": [
    {
     "name": "stdout",
     "output_type": "stream",
     "text": [
      "{'3', '2', '8'}\n",
      "{'8'}\n"
     ]
    }
   ],
   "source": [
    "mySet = {\"1\",\"2\",\"3\", \"8\"}\n",
    "yourSet = {\"1\", \"4\", \"5\"}\n",
    "myList = [\"2\", \"3\", \"6\"]\n",
    "\n",
    "diffSet1 = mySet.difference(yourSet)\n",
    "diffSet2 = mySet.difference(yourSet, myList)\n",
    "print(diffSet1)   \n",
    "print(diffSet2)   "
   ]
  },
  {
   "cell_type": "markdown",
   "metadata": {},
   "source": [
    "~ Use - to join two sets:\n",
    "\n",
    "~ Note: The - operator only allows you to join sets with sets, and not with other data types like you can with the difference() method.     \n",
    "\n"
   ]
  },
  {
   "cell_type": "code",
   "execution_count": 60,
   "metadata": {},
   "outputs": [
    {
     "name": "stdout",
     "output_type": "stream",
     "text": [
      "{'3', '2', '8'}\n"
     ]
    }
   ],
   "source": [
    "mySet = {\"1\",\"2\",\"3\", \"8\"}\n",
    "yourSet = {\"1\", \"4\", \"5\"}\n",
    "\n",
    "diffSet = mySet - yourSet\n",
    "print(diffSet)"
   ]
  },
  {
   "cell_type": "markdown",
   "metadata": {},
   "source": [
    "The difference_update() method will also keep the items from the first set that are not in the other set, but it will change the original set instead of returning a new set.\n",
    "\n"
   ]
  },
  {
   "cell_type": "code",
   "execution_count": 65,
   "metadata": {},
   "outputs": [
    {
     "name": "stdout",
     "output_type": "stream",
     "text": [
      "{'3', '2', '8'}\n"
     ]
    }
   ],
   "source": [
    "# Use the difference_update() method to keep the items that are not present in both sets:\n",
    "\n",
    "mySet = {\"1\",\"2\",\"3\", \"8\"}\n",
    "yourSet = {\"1\", \"4\", \"5\"}\n",
    "\n",
    "mySet.difference_update(yourSet)\n",
    "print(mySet)"
   ]
  },
  {
   "cell_type": "code",
   "execution_count": 66,
   "metadata": {},
   "outputs": [
    {
     "name": "stdout",
     "output_type": "stream",
     "text": [
      "{'3', '2', '8'}\n"
     ]
    }
   ],
   "source": [
    "# Use a list instead\n",
    "\n",
    "mySet = {\"1\",\"2\",\"3\", \"8\"}\n",
    "myList = [\"1\", \"4\", \"5\"]\n",
    "\n",
    "mySet.difference_update(myList)\n",
    "print(mySet)"
   ]
  },
  {
   "cell_type": "markdown",
   "metadata": {},
   "source": [
    "## Symmetric Differences\n",
    "~ The symmetric_difference() method will keep only the elements that are NOT present in both sets."
   ]
  },
  {
   "cell_type": "code",
   "execution_count": 67,
   "metadata": {},
   "outputs": [
    {
     "name": "stdout",
     "output_type": "stream",
     "text": [
      "{'2', '4', '8', '5', '3'}\n"
     ]
    }
   ],
   "source": [
    "mySet = {\"1\",\"2\",\"3\", \"8\"}\n",
    "yourSet = {\"1\", \"4\", \"5\"}\n",
    "\n",
    "symDiffSet = mySet.symmetric_difference(yourSet)\n",
    "print(symDiffSet)"
   ]
  },
  {
   "cell_type": "code",
   "execution_count": 68,
   "metadata": {},
   "outputs": [
    {
     "name": "stdout",
     "output_type": "stream",
     "text": [
      "{'2', '4', '8', '5', '3'}\n"
     ]
    }
   ],
   "source": [
    "# Use a list instead\n",
    "\n",
    "mySet = {\"1\",\"2\",\"3\", \"8\"}\n",
    "myList = [\"1\", \"4\", \"5\"]\n",
    "\n",
    "symDiffSet = mySet.symmetric_difference(myList)\n",
    "print(symDiffSet)"
   ]
  },
  {
   "cell_type": "markdown",
   "metadata": {},
   "source": [
    "~ You can use the ^ operator instead of the symmetric_difference() method, and you will get the same result.\n",
    "\n",
    "~ Note: The ^ operator only allows you to join sets with sets, and not with other data types like you can with the symmetric_difference() method.\n",
    "\n"
   ]
  },
  {
   "cell_type": "code",
   "execution_count": 69,
   "metadata": {},
   "outputs": [
    {
     "name": "stdout",
     "output_type": "stream",
     "text": [
      "{'2', '4', '8', '5', '3'}\n"
     ]
    }
   ],
   "source": [
    "mySet = {\"1\",\"2\",\"3\", \"8\"}\n",
    "yourSet = {\"1\", \"4\", \"5\"}\n",
    "\n",
    "symDiffSet = mySet ^ yourSet\n",
    "print(symDiffSet)"
   ]
  },
  {
   "cell_type": "markdown",
   "metadata": {},
   "source": [
    "The symmetric_difference_update() method will also keep all but the duplicates, but it will change the original set instead of returning a new set.\n",
    "\n"
   ]
  },
  {
   "cell_type": "code",
   "execution_count": 70,
   "metadata": {},
   "outputs": [
    {
     "name": "stdout",
     "output_type": "stream",
     "text": [
      "{'2', '4', '8', '5', '3'}\n"
     ]
    }
   ],
   "source": [
    "# Use the symmetric_difference_update() method to keep the items that are not present in both sets:\n",
    "\n",
    "mySet = {\"1\",\"2\",\"3\", \"8\"}\n",
    "yourSet = {\"1\", \"4\", \"5\"}\n",
    "\n",
    "mySet.symmetric_difference_update(yourSet)\n",
    "print(mySet)"
   ]
  },
  {
   "cell_type": "code",
   "execution_count": 71,
   "metadata": {},
   "outputs": [
    {
     "name": "stdout",
     "output_type": "stream",
     "text": [
      "{'2', '4', '8', '5', '3'}\n"
     ]
    }
   ],
   "source": [
    "# Use a list instead\n",
    "\n",
    "mySet = {\"1\",\"2\",\"3\", \"8\"}\n",
    "myList = [\"1\", \"4\", \"5\"]\n",
    "\n",
    "mySet.symmetric_difference_update(myList)\n",
    "print(mySet)"
   ]
  },
  {
   "cell_type": "markdown",
   "metadata": {},
   "source": [
    "## Set Methods\n",
    "\n",
    "Python has a set of built-in methods that you can use on sets.\n",
    "\n",
    "| Method                       | Shortcut | Description                                                                |\n",
    "|------------------------------|----------|----------------------------------------------------------------------------|\n",
    "| add()                        |          | Adds an element to the set                                                 |\n",
    "| clear()                      |          | Removes all the elements from the set                                      |\n",
    "| copy()                       |          | Returns a copy of the set                                                  |\n",
    "| difference()                 | -        | Returns a set containing the difference between two or more sets           |\n",
    "| difference_update()          | -=       | Removes the items in this set that are also included in another, specified set |\n",
    "| discard()                    |          | Remove the specified item                                                  |\n",
    "| intersection()               | &        | Returns a set, that is the intersection of two other sets                  |\n",
    "| intersection_update()        | &=       | Removes the items in this set that are not present in other, specified set(s) |\n",
    "| isdisjoint()                 |          | Returns whether two sets have an intersection or not                       |\n",
    "| issubset()                   | <=       | Returns whether another set contains this set or not                       |\n",
    "|                                <        | Returns whether all items in this set are present in other, specified set(s) |\n",
    "| issuperset()                 | >=       | Returns whether this set contains another set or not                       |\n",
    "|                                >        | Returns whether all items in other, specified set(s) are present in this set |\n",
    "| pop()                        |          | Removes an element from the set                                            |\n",
    "| remove()                     |          | Removes the specified element                                              |\n",
    "| symmetric_difference()       | ^        | Returns a set with the symmetric differences of two sets                   |\n",
    "| symmetric_difference_update()| ^=       | Inserts the symmetric differences from this set and another                |\n",
    "| union()                      | |        | Return a set containing the union of sets                                  |\n",
    "| update()                     | |=       | Update the set with the union of this set and others                       |\n",
    "\n"
   ]
  }
 ],
 "metadata": {
  "kernelspec": {
   "display_name": "Python 3",
   "language": "python",
   "name": "python3"
  },
  "language_info": {
   "codemirror_mode": {
    "name": "ipython",
    "version": 3
   },
   "file_extension": ".py",
   "mimetype": "text/x-python",
   "name": "python",
   "nbconvert_exporter": "python",
   "pygments_lexer": "ipython3",
   "version": "3.12.4"
  }
 },
 "nbformat": 4,
 "nbformat_minor": 2
}
