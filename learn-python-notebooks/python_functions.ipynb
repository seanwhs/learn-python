{
  "cells": [
    {
      "cell_type": "markdown",
      "metadata": {
        "id": "KsaoZblRQHWA"
      },
      "source": [
        "\n",
        "### **What is a Function?**\n",
        "\n",
        "A function is a block of organised, reusable code used to perform a single action which allows you to reuse the same code multiple times without having to rewrite the same logic.\n",
        "\n",
        "### **Why Use Functions?**\n",
        "\n",
        "- **Reusability:** Write once, use multiple times. Once a function is defined, it can be used over and over in your program.\n",
        "- **Organization:** Functions help break our program into smaller chunks. This makes the code easier to manage, debug, and understand.\n",
        "- **Modularity:** Functions allow you to separate your code into distinct parts and reuse it when needed\n",
        "\n",
        "### **Defining a Function**\n",
        "\n",
        "In Python, a function is defined using the `def` keyword. Here is a simple example:\n",
        "\n",
        "```python\n",
        "def greet(name):\n",
        "    return(f\"Hello {name}!\")\n",
        "  \n",
        "greet(\"Alice\")\n",
        "```\n",
        "### **Passing multiple arguments**\n",
        "```python\n",
        "def greet(fname, lname):\n",
        "  return \"Hello {fname} {lname}, its nice to see you today!\"\n",
        "greet(\"Alice\", \"Tan\")\n"
      ]
    },
    {
      "cell_type": "markdown",
      "metadata": {
        "id": "uLMWOEkjQEu9"
      },
      "source": [
        "## **Functions**\n",
        "\n",
        "---\n"
      ]
    },
    {
      "cell_type": "code",
      "execution_count": 1,
      "metadata": {
        "id": "5yKmVkmpRsto"
      },
      "outputs": [
        {
          "name": "stdout",
          "output_type": "stream",
          "text": [
            "Hello Alice\n"
          ]
        }
      ],
      "source": [
        "def greet(name):\n",
        "  return(f\"Hello {name}\")\n",
        "print(greet(\"Alice\"))"
      ]
    },
    {
      "cell_type": "code",
      "execution_count": null,
      "metadata": {
        "id": "LNRPDc02SE2N"
      },
      "outputs": [],
      "source": [
        "def greet(fname, lname):\n",
        "  return(f\"Hello {fname} {lname}, its nice to see you here today\")\n",
        "print(greet(\"Alice\", \"Tan\"))"
      ]
    },
    {
      "cell_type": "markdown",
      "metadata": {
        "id": "KQCAN51gSVuE"
      },
      "source": [
        "**Write a function which squares the argument passed into it**\n"
      ]
    },
    {
      "cell_type": "code",
      "execution_count": null,
      "metadata": {
        "id": "hMA6duXzScfF"
      },
      "outputs": [],
      "source": [
        "def square(x):\n",
        "  return x * x\n",
        "print(square(2))"
      ]
    },
    {
      "cell_type": "markdown",
      "metadata": {
        "id": "9In-9XVxSlgU"
      },
      "source": [
        "**Write a function which takes in two arguments, `num1` and `num2`.**\n",
        "\n",
        "**In the function, first print the type of `num1` and `num2` before returning the product of the 2 numbers**"
      ]
    },
    {
      "cell_type": "code",
      "execution_count": null,
      "metadata": {
        "id": "-OhMJEC3TBL_"
      },
      "outputs": [],
      "source": [
        "def product(num1, num2):\n",
        "  print(type(num1))\n",
        "  print(type(num2))\n",
        "  return(num1 * num2)\n",
        "print(product(25, 2))"
      ]
    },
    {
      "cell_type": "markdown",
      "metadata": {
        "id": "HadWnKUorPyt"
      },
      "source": [
        "## **PY-1: Lambda Function**"
      ]
    },
    {
      "cell_type": "markdown",
      "metadata": {
        "id": "GI1ta_tOUKI5"
      },
      "source": [
        "\n",
        "* **Short-lived and Anonymous**: Often used where they are created, lambda functions are anonymous, meaning they do not have a name.\n",
        "* **Single Expression**: Unlike a normal function, they contain only one expression.\n",
        "* **Versatile**: Can be used wherever function objects are required."
      ]
    },
    {
      "cell_type": "markdown",
      "metadata": {
        "id": "D6sqCub3rhRE"
      },
      "source": [
        "Lambda functions are typically used in situations where you need a small, simple function for a short period of time and don't want to define a full-fledged named function using `def`. They are commonly used with functions like `map()`, `filter()`, and `sorted()`, which expect a function as an argument.\n",
        "\n",
        "`lambda arguments: expression`\n"
      ]
    },
    {
      "cell_type": "code",
      "execution_count": null,
      "metadata": {
        "id": "4JVaYYXmUhEp"
      },
      "outputs": [],
      "source": [
        "add_ten = lambda x: x + 10\n",
        "print(add_ten(45))\n",
        "multiplication = lambda x,y: x * y\n",
        "print(multiplication(20,4))"
      ]
    },
    {
      "cell_type": "markdown",
      "metadata": {
        "id": "1A1TJnS4U1rh"
      },
      "source": [
        "## **PY-2: Filter Function**"
      ]
    },
    {
      "cell_type": "markdown",
      "metadata": {
        "id": "lNLxG289Veq5"
      },
      "source": [
        "**What is the `filter` Function?**\n",
        "\n",
        "The `filter` function in Python allows us to filter elements from an iterable (like a list) based on a function that specifies the filtering criteria.\n",
        "\n",
        "In simpler terms, `filter` helps us to select elements from an iterable that meet certain conditions.\n",
        "\n",
        "**Syntax of `filter`**\n",
        "\n",
        "The basic syntax of the `filter` function is:\n",
        "\n",
        "```python\n",
        "filter(function, iterable)\n",
        "```\n"
      ]
    },
    {
      "cell_type": "code",
      "execution_count": null,
      "metadata": {
        "id": "j0iaPmQLrTHs"
      },
      "outputs": [],
      "source": [
        "numbers = [1,2,3,4,5,6,7,8,9]\n",
        "even_numbers = filter(lambda x: x % 2 == 0, numbers)\n",
        "print(list(even_numbers))"
      ]
    },
    {
      "cell_type": "code",
      "execution_count": null,
      "metadata": {
        "id": "ULRQwOGXCN0q"
      },
      "outputs": [],
      "source": [
        "numbers = [1,2,3,4,5,6,7,8,9]\n",
        "odd_numbers = filter(lambda x: x % 2 == 1, numbers)\n",
        "print(list(odd_numbers))"
      ]
    },
    {
      "cell_type": "markdown",
      "metadata": {
        "id": "8tqgy7VhnTws"
      },
      "source": [
        "## **PY-3: Map Function**"
      ]
    },
    {
      "cell_type": "markdown",
      "metadata": {
        "id": "z50Ic85fTyWK"
      },
      "source": [
        "`map()` applies a function to all the items in an input list. Here is an example of using a lambda function with map():\n",
        "\n",
        "\n",
        "Syntax: `map(function, iterable)`\n",
        "\n",
        "\n",
        "```python\n",
        "numbers = [1, 2, 3, 4]\n",
        "squared = map(lambda x: x**2, numbers)\n",
        "print(list(squared))\n",
        "```\n",
        "Output: `[1, 4, 9, 16]`"
      ]
    },
    {
      "cell_type": "code",
      "execution_count": null,
      "metadata": {
        "colab": {
          "base_uri": "https://localhost:8080/"
        },
        "id": "IlYg4qkFEEPW",
        "outputId": "4e76ac01-4e0f-4b14-ad14-02ae32ce24fb"
      },
      "outputs": [
        {
          "name": "stdout",
          "output_type": "stream",
          "text": [
            "[40000, 289, 6889]\n"
          ]
        }
      ],
      "source": [
        "numbers = [200, 17, 83]\n",
        "squared = map(lambda x: x ** 2, numbers)\n",
        "print(list(squared))"
      ]
    },
    {
      "cell_type": "code",
      "execution_count": null,
      "metadata": {
        "colab": {
          "base_uri": "https://localhost:8080/"
        },
        "id": "cbfpT6AYnNt8",
        "outputId": "e25a5835-7194-4f6c-b712-6da8ce6b0c03"
      },
      "outputs": [
        {
          "name": "stdout",
          "output_type": "stream",
          "text": [
            "[5, 6, 6]\n"
          ]
        }
      ],
      "source": [
        "#Use the map function to find the length of every single element in the list given below\n",
        "fruits = ['apple', 'banana', 'cherry']\n",
        "length_of_fruit = map(lambda x: len(x), fruits)\n",
        "print(list(length_of_fruit))"
      ]
    },
    {
      "cell_type": "markdown",
      "metadata": {
        "id": "NRI-hooVn2T0"
      },
      "source": [
        "## **PY-4: Zip Function**"
      ]
    },
    {
      "cell_type": "markdown",
      "metadata": {
        "id": "j-9dMXFYxOf2"
      },
      "source": [
        "### **What is the `zip` Function?**\n",
        "\n",
        "The `zip` function in Python takes two or more iterables (like lists, tuples, etc.) and aggregates them into a single iterable. The name 'zip' is quite fitting, as it zips together corresponding elements from each of the iterables into tuples.\n",
        "\n",
        "## **Syntax of `zip`**\n",
        "\n",
        "The basic syntax of the `zip` function is: `zip(iterator1, iterator2)`\n",
        "\n",
        "```python\n",
        "ids = [1,2,3]\n",
        "names = ['jack', 'johnathan', 'kelly']\n",
        "print(list(zip(ids, names)))\n",
        "```\n",
        "Output: `[(1, 'jack'), (2, 'johnathan'), (3, 'kelly')]`"
      ]
    },
    {
      "cell_type": "code",
      "execution_count": 2,
      "metadata": {
        "colab": {
          "base_uri": "https://localhost:8080/"
        },
        "id": "H3lrYfrgn48s",
        "outputId": "25088e9a-bdff-429f-ee5d-48ae1024f2ee"
      },
      "outputs": [
        {
          "name": "stdout",
          "output_type": "stream",
          "text": [
            "[(1, 'bubble tea', 2.15), (2, 'green tea', 1.3), (3, 'red tea', 3.25), (4, 'milo', 2.45)]\n"
          ]
        }
      ],
      "source": [
        "ids = [1,2,3,4,5,6,7]\n",
        "drinks = ['bubble tea', 'green tea', 'red tea', 'milo']\n",
        "price = (2.15, 1.30, 3.25, 2.45)\n",
        "print(list(zip(ids, drinks, price)))"
      ]
    },
    {
      "cell_type": "code",
      "execution_count": 3,
      "metadata": {
        "colab": {
          "base_uri": "https://localhost:8080/"
        },
        "id": "GoIPKa53oNcd",
        "outputId": "6a0c2a29-037a-445a-f479-82b988712d11"
      },
      "outputs": [
        {
          "name": "stdout",
          "output_type": "stream",
          "text": [
            "[(1, 'Alice', 'F'), (2, 'Benjamin', 'M'), (3, 'Charles', 'M')]\n"
          ]
        }
      ],
      "source": [
        "# Use the Zip function and combine the student names, gender and index numbers\n",
        "student_names = [\"Alice\", \"Benjamin\", \"Charles\"]\n",
        "index_numbers = [1,2,3]\n",
        "gender = (\"F\", \"M\", \"M\")\n",
        "print(list(zip(index_numbers, student_names, gender)))"
      ]
    },
    {
      "cell_type": "code",
      "execution_count": null,
      "metadata": {},
      "outputs": [],
      "source": []
    }
  ],
  "metadata": {
    "colab": {
      "provenance": []
    },
    "kernelspec": {
      "display_name": "Python 3",
      "name": "python3"
    },
    "language_info": {
      "codemirror_mode": {
        "name": "ipython",
        "version": 3
      },
      "file_extension": ".py",
      "mimetype": "text/x-python",
      "name": "python",
      "nbconvert_exporter": "python",
      "pygments_lexer": "ipython3",
      "version": "3.12.4"
    }
  },
  "nbformat": 4,
  "nbformat_minor": 0
}
