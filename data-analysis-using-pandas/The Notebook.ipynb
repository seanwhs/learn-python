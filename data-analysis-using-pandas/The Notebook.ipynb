{
 "cells": [
  {
   "cell_type": "markdown",
   "id": "6aa1b08c",
   "metadata": {},
   "source": [
    "# WELCOME TO THE NOTEBOOK\n",
    "---"
   ]
  },
  {
   "cell_type": "markdown",
   "id": "c6c1cd41",
   "metadata": {},
   "source": [
    "Importing Modules"
   ]
  },
  {
   "cell_type": "code",
   "execution_count": 31,
   "id": "724e1cac",
   "metadata": {},
   "outputs": [],
   "source": [
    "import pandas as pd "
   ]
  },
  {
   "cell_type": "markdown",
   "id": "83a2df24",
   "metadata": {},
   "source": [
    "Loading the data"
   ]
  },
  {
   "cell_type": "code",
   "execution_count": 32,
   "id": "ac943b8a",
   "metadata": {},
   "outputs": [
    {
     "data": {
      "text/html": [
       "<div>\n",
       "<style scoped>\n",
       "    .dataframe tbody tr th:only-of-type {\n",
       "        vertical-align: middle;\n",
       "    }\n",
       "\n",
       "    .dataframe tbody tr th {\n",
       "        vertical-align: top;\n",
       "    }\n",
       "\n",
       "    .dataframe thead th {\n",
       "        text-align: right;\n",
       "    }\n",
       "</style>\n",
       "<table border=\"1\" class=\"dataframe\">\n",
       "  <thead>\n",
       "    <tr style=\"text-align: right;\">\n",
       "      <th></th>\n",
       "      <th>color</th>\n",
       "      <th>director_name</th>\n",
       "      <th>num_critic_for_reviews</th>\n",
       "      <th>duration</th>\n",
       "      <th>gross</th>\n",
       "      <th>genres</th>\n",
       "      <th>star_name</th>\n",
       "      <th>movie_title</th>\n",
       "      <th>movie_imdb_link</th>\n",
       "      <th>language</th>\n",
       "      <th>country</th>\n",
       "      <th>budget</th>\n",
       "      <th>title_year</th>\n",
       "      <th>imdb_score</th>\n",
       "    </tr>\n",
       "  </thead>\n",
       "  <tbody>\n",
       "    <tr>\n",
       "      <th>0</th>\n",
       "      <td>Color</td>\n",
       "      <td>James Cameron</td>\n",
       "      <td>723.0</td>\n",
       "      <td>178.0</td>\n",
       "      <td>760505847.0</td>\n",
       "      <td>Action|Adventure|Fantasy|Sci-Fi</td>\n",
       "      <td>CCH Pounder</td>\n",
       "      <td>Avatar</td>\n",
       "      <td>http://www.imdb.com/title/tt0499549/?ref_=fn_t...</td>\n",
       "      <td>English</td>\n",
       "      <td>USA</td>\n",
       "      <td>237000000.0</td>\n",
       "      <td>2009.0</td>\n",
       "      <td>7.9</td>\n",
       "    </tr>\n",
       "    <tr>\n",
       "      <th>1</th>\n",
       "      <td>Color</td>\n",
       "      <td>Gore Verbinski</td>\n",
       "      <td>302.0</td>\n",
       "      <td>169.0</td>\n",
       "      <td>309404152.0</td>\n",
       "      <td>Action|Adventure|Fantasy</td>\n",
       "      <td>Johnny Depp</td>\n",
       "      <td>Pirates of the Caribbean: At World's End</td>\n",
       "      <td>http://www.imdb.com/title/tt0449088/?ref_=fn_t...</td>\n",
       "      <td>English</td>\n",
       "      <td>USA</td>\n",
       "      <td>300000000.0</td>\n",
       "      <td>2007.0</td>\n",
       "      <td>7.1</td>\n",
       "    </tr>\n",
       "    <tr>\n",
       "      <th>2</th>\n",
       "      <td>Color</td>\n",
       "      <td>Sam Mendes</td>\n",
       "      <td>602.0</td>\n",
       "      <td>148.0</td>\n",
       "      <td>200074175.0</td>\n",
       "      <td>Action|Adventure|Thriller</td>\n",
       "      <td>Christoph Waltz</td>\n",
       "      <td>Spectre</td>\n",
       "      <td>http://www.imdb.com/title/tt2379713/?ref_=fn_t...</td>\n",
       "      <td>English</td>\n",
       "      <td>UK</td>\n",
       "      <td>245000000.0</td>\n",
       "      <td>2015.0</td>\n",
       "      <td>6.8</td>\n",
       "    </tr>\n",
       "    <tr>\n",
       "      <th>3</th>\n",
       "      <td>Color</td>\n",
       "      <td>Christopher Nolan</td>\n",
       "      <td>813.0</td>\n",
       "      <td>164.0</td>\n",
       "      <td>448130642.0</td>\n",
       "      <td>Action|Thriller</td>\n",
       "      <td>Tom Hardy</td>\n",
       "      <td>The Dark Knight Rises</td>\n",
       "      <td>http://www.imdb.com/title/tt1345836/?ref_=fn_t...</td>\n",
       "      <td>English</td>\n",
       "      <td>USA</td>\n",
       "      <td>250000000.0</td>\n",
       "      <td>2012.0</td>\n",
       "      <td>8.5</td>\n",
       "    </tr>\n",
       "    <tr>\n",
       "      <th>4</th>\n",
       "      <td>NaN</td>\n",
       "      <td>Doug Walker</td>\n",
       "      <td>NaN</td>\n",
       "      <td>NaN</td>\n",
       "      <td>NaN</td>\n",
       "      <td>Documentary</td>\n",
       "      <td>Doug Walker</td>\n",
       "      <td>Star Wars: Episode VII - The Force Awakens</td>\n",
       "      <td>http://www.imdb.com/title/tt5289954/?ref_=fn_t...</td>\n",
       "      <td>NaN</td>\n",
       "      <td>NaN</td>\n",
       "      <td>NaN</td>\n",
       "      <td>NaN</td>\n",
       "      <td>7.1</td>\n",
       "    </tr>\n",
       "  </tbody>\n",
       "</table>\n",
       "</div>"
      ],
      "text/plain": [
       "   color      director_name  num_critic_for_reviews  duration        gross  \\\n",
       "0  Color      James Cameron                   723.0     178.0  760505847.0   \n",
       "1  Color     Gore Verbinski                   302.0     169.0  309404152.0   \n",
       "2  Color         Sam Mendes                   602.0     148.0  200074175.0   \n",
       "3  Color  Christopher Nolan                   813.0     164.0  448130642.0   \n",
       "4    NaN        Doug Walker                     NaN       NaN          NaN   \n",
       "\n",
       "                            genres        star_name  \\\n",
       "0  Action|Adventure|Fantasy|Sci-Fi      CCH Pounder   \n",
       "1         Action|Adventure|Fantasy      Johnny Depp   \n",
       "2        Action|Adventure|Thriller  Christoph Waltz   \n",
       "3                  Action|Thriller        Tom Hardy   \n",
       "4                      Documentary      Doug Walker   \n",
       "\n",
       "                                  movie_title  \\\n",
       "0                                      Avatar   \n",
       "1    Pirates of the Caribbean: At World's End   \n",
       "2                                     Spectre   \n",
       "3                       The Dark Knight Rises   \n",
       "4  Star Wars: Episode VII - The Force Awakens   \n",
       "\n",
       "                                     movie_imdb_link language country  \\\n",
       "0  http://www.imdb.com/title/tt0499549/?ref_=fn_t...  English     USA   \n",
       "1  http://www.imdb.com/title/tt0449088/?ref_=fn_t...  English     USA   \n",
       "2  http://www.imdb.com/title/tt2379713/?ref_=fn_t...  English      UK   \n",
       "3  http://www.imdb.com/title/tt1345836/?ref_=fn_t...  English     USA   \n",
       "4  http://www.imdb.com/title/tt5289954/?ref_=fn_t...      NaN     NaN   \n",
       "\n",
       "        budget  title_year  imdb_score  \n",
       "0  237000000.0      2009.0         7.9  \n",
       "1  300000000.0      2007.0         7.1  \n",
       "2  245000000.0      2015.0         6.8  \n",
       "3  250000000.0      2012.0         8.5  \n",
       "4          NaN         NaN         7.1  "
      ]
     },
     "execution_count": 32,
     "metadata": {},
     "output_type": "execute_result"
    }
   ],
   "source": [
    "data= pd.read_json('movies_dataset.json')\n",
    "data.head()"
   ]
  },
  {
   "cell_type": "markdown",
   "id": "3def3e5e",
   "metadata": {},
   "source": [
    "Check the dataframe shape (#rows and #columns)"
   ]
  },
  {
   "cell_type": "code",
   "execution_count": 33,
   "id": "4cdd648b",
   "metadata": {},
   "outputs": [
    {
     "data": {
      "text/plain": [
       "(5043, 14)"
      ]
     },
     "execution_count": 33,
     "metadata": {},
     "output_type": "execute_result"
    }
   ],
   "source": [
    "data.shape"
   ]
  },
  {
   "cell_type": "markdown",
   "id": "a826028a",
   "metadata": {},
   "source": [
    "Let's check the data types of the columns"
   ]
  },
  {
   "cell_type": "code",
   "execution_count": 34,
   "id": "a312e2ad",
   "metadata": {},
   "outputs": [
    {
     "data": {
      "text/plain": [
       "color                      object\n",
       "director_name              object\n",
       "num_critic_for_reviews    float64\n",
       "duration                  float64\n",
       "gross                     float64\n",
       "genres                     object\n",
       "star_name                  object\n",
       "movie_title                object\n",
       "movie_imdb_link            object\n",
       "language                   object\n",
       "country                    object\n",
       "budget                    float64\n",
       "title_year                float64\n",
       "imdb_score                float64\n",
       "dtype: object"
      ]
     },
     "execution_count": 34,
     "metadata": {},
     "output_type": "execute_result"
    }
   ],
   "source": [
    "data.dtypes"
   ]
  },
  {
   "cell_type": "markdown",
   "id": "8b0c0912",
   "metadata": {},
   "source": [
    "Column Selection"
   ]
  },
  {
   "cell_type": "code",
   "execution_count": 35,
   "id": "57e0fd68",
   "metadata": {},
   "outputs": [
    {
     "data": {
      "text/plain": [
       "0                                           Avatar\n",
       "1         Pirates of the Caribbean: At World's End\n",
       "2                                          Spectre\n",
       "3                            The Dark Knight Rises\n",
       "4       Star Wars: Episode VII - The Force Awakens\n",
       "                           ...                    \n",
       "5038                       Signed Sealed Delivered\n",
       "5039                                 The Following\n",
       "5040                          A Plague So Pleasant\n",
       "5041                              Shanghai Calling\n",
       "5042                             My Date with Drew\n",
       "Name: movie_title, Length: 5043, dtype: object"
      ]
     },
     "execution_count": 35,
     "metadata": {},
     "output_type": "execute_result"
    }
   ],
   "source": [
    "# data.movie_title\n",
    "data['movie_title']"
   ]
  },
  {
   "cell_type": "markdown",
   "id": "147a91b3",
   "metadata": {},
   "source": [
    "---"
   ]
  },
  {
   "cell_type": "markdown",
   "id": "7a4888bb",
   "metadata": {},
   "source": [
    "## Data Preparation\n",
    "Remove some columns:    \n",
    "   \n",
    "   - `movie_imdb_link`\n",
    "   - `num_critic_for_reviews`\n",
    "   - `genres`"
   ]
  },
  {
   "cell_type": "code",
   "execution_count": 36,
   "id": "957ef771",
   "metadata": {},
   "outputs": [
    {
     "data": {
      "text/html": [
       "<div>\n",
       "<style scoped>\n",
       "    .dataframe tbody tr th:only-of-type {\n",
       "        vertical-align: middle;\n",
       "    }\n",
       "\n",
       "    .dataframe tbody tr th {\n",
       "        vertical-align: top;\n",
       "    }\n",
       "\n",
       "    .dataframe thead th {\n",
       "        text-align: right;\n",
       "    }\n",
       "</style>\n",
       "<table border=\"1\" class=\"dataframe\">\n",
       "  <thead>\n",
       "    <tr style=\"text-align: right;\">\n",
       "      <th></th>\n",
       "      <th>color</th>\n",
       "      <th>director_name</th>\n",
       "      <th>duration</th>\n",
       "      <th>gross</th>\n",
       "      <th>star_name</th>\n",
       "      <th>movie_title</th>\n",
       "      <th>language</th>\n",
       "      <th>country</th>\n",
       "      <th>budget</th>\n",
       "      <th>title_year</th>\n",
       "      <th>imdb_score</th>\n",
       "    </tr>\n",
       "  </thead>\n",
       "  <tbody>\n",
       "    <tr>\n",
       "      <th>0</th>\n",
       "      <td>Color</td>\n",
       "      <td>James Cameron</td>\n",
       "      <td>178.0</td>\n",
       "      <td>760505847.0</td>\n",
       "      <td>CCH Pounder</td>\n",
       "      <td>Avatar</td>\n",
       "      <td>English</td>\n",
       "      <td>USA</td>\n",
       "      <td>237000000.0</td>\n",
       "      <td>2009.0</td>\n",
       "      <td>7.9</td>\n",
       "    </tr>\n",
       "    <tr>\n",
       "      <th>1</th>\n",
       "      <td>Color</td>\n",
       "      <td>Gore Verbinski</td>\n",
       "      <td>169.0</td>\n",
       "      <td>309404152.0</td>\n",
       "      <td>Johnny Depp</td>\n",
       "      <td>Pirates of the Caribbean: At World's End</td>\n",
       "      <td>English</td>\n",
       "      <td>USA</td>\n",
       "      <td>300000000.0</td>\n",
       "      <td>2007.0</td>\n",
       "      <td>7.1</td>\n",
       "    </tr>\n",
       "    <tr>\n",
       "      <th>2</th>\n",
       "      <td>Color</td>\n",
       "      <td>Sam Mendes</td>\n",
       "      <td>148.0</td>\n",
       "      <td>200074175.0</td>\n",
       "      <td>Christoph Waltz</td>\n",
       "      <td>Spectre</td>\n",
       "      <td>English</td>\n",
       "      <td>UK</td>\n",
       "      <td>245000000.0</td>\n",
       "      <td>2015.0</td>\n",
       "      <td>6.8</td>\n",
       "    </tr>\n",
       "    <tr>\n",
       "      <th>3</th>\n",
       "      <td>Color</td>\n",
       "      <td>Christopher Nolan</td>\n",
       "      <td>164.0</td>\n",
       "      <td>448130642.0</td>\n",
       "      <td>Tom Hardy</td>\n",
       "      <td>The Dark Knight Rises</td>\n",
       "      <td>English</td>\n",
       "      <td>USA</td>\n",
       "      <td>250000000.0</td>\n",
       "      <td>2012.0</td>\n",
       "      <td>8.5</td>\n",
       "    </tr>\n",
       "    <tr>\n",
       "      <th>4</th>\n",
       "      <td>NaN</td>\n",
       "      <td>Doug Walker</td>\n",
       "      <td>NaN</td>\n",
       "      <td>NaN</td>\n",
       "      <td>Doug Walker</td>\n",
       "      <td>Star Wars: Episode VII - The Force Awakens</td>\n",
       "      <td>NaN</td>\n",
       "      <td>NaN</td>\n",
       "      <td>NaN</td>\n",
       "      <td>NaN</td>\n",
       "      <td>7.1</td>\n",
       "    </tr>\n",
       "    <tr>\n",
       "      <th>...</th>\n",
       "      <td>...</td>\n",
       "      <td>...</td>\n",
       "      <td>...</td>\n",
       "      <td>...</td>\n",
       "      <td>...</td>\n",
       "      <td>...</td>\n",
       "      <td>...</td>\n",
       "      <td>...</td>\n",
       "      <td>...</td>\n",
       "      <td>...</td>\n",
       "      <td>...</td>\n",
       "    </tr>\n",
       "    <tr>\n",
       "      <th>5038</th>\n",
       "      <td>Color</td>\n",
       "      <td>Scott Smith</td>\n",
       "      <td>87.0</td>\n",
       "      <td>NaN</td>\n",
       "      <td>Eric Mabius</td>\n",
       "      <td>Signed Sealed Delivered</td>\n",
       "      <td>English</td>\n",
       "      <td>Canada</td>\n",
       "      <td>NaN</td>\n",
       "      <td>2013.0</td>\n",
       "      <td>7.7</td>\n",
       "    </tr>\n",
       "    <tr>\n",
       "      <th>5039</th>\n",
       "      <td>Color</td>\n",
       "      <td>NaN</td>\n",
       "      <td>43.0</td>\n",
       "      <td>NaN</td>\n",
       "      <td>Natalie Zea</td>\n",
       "      <td>The Following</td>\n",
       "      <td>English</td>\n",
       "      <td>USA</td>\n",
       "      <td>NaN</td>\n",
       "      <td>NaN</td>\n",
       "      <td>7.5</td>\n",
       "    </tr>\n",
       "    <tr>\n",
       "      <th>5040</th>\n",
       "      <td>Color</td>\n",
       "      <td>Benjamin Roberds</td>\n",
       "      <td>76.0</td>\n",
       "      <td>NaN</td>\n",
       "      <td>Eva Boehnke</td>\n",
       "      <td>A Plague So Pleasant</td>\n",
       "      <td>English</td>\n",
       "      <td>USA</td>\n",
       "      <td>1400.0</td>\n",
       "      <td>2013.0</td>\n",
       "      <td>6.3</td>\n",
       "    </tr>\n",
       "    <tr>\n",
       "      <th>5041</th>\n",
       "      <td>Color</td>\n",
       "      <td>Daniel Hsia</td>\n",
       "      <td>100.0</td>\n",
       "      <td>10443.0</td>\n",
       "      <td>Alan Ruck</td>\n",
       "      <td>Shanghai Calling</td>\n",
       "      <td>English</td>\n",
       "      <td>USA</td>\n",
       "      <td>NaN</td>\n",
       "      <td>2012.0</td>\n",
       "      <td>6.3</td>\n",
       "    </tr>\n",
       "    <tr>\n",
       "      <th>5042</th>\n",
       "      <td>Color</td>\n",
       "      <td>Jon Gunn</td>\n",
       "      <td>90.0</td>\n",
       "      <td>85222.0</td>\n",
       "      <td>John August</td>\n",
       "      <td>My Date with Drew</td>\n",
       "      <td>English</td>\n",
       "      <td>USA</td>\n",
       "      <td>1100.0</td>\n",
       "      <td>2004.0</td>\n",
       "      <td>6.6</td>\n",
       "    </tr>\n",
       "  </tbody>\n",
       "</table>\n",
       "<p>5043 rows × 11 columns</p>\n",
       "</div>"
      ],
      "text/plain": [
       "      color      director_name  duration        gross        star_name  \\\n",
       "0     Color      James Cameron     178.0  760505847.0      CCH Pounder   \n",
       "1     Color     Gore Verbinski     169.0  309404152.0      Johnny Depp   \n",
       "2     Color         Sam Mendes     148.0  200074175.0  Christoph Waltz   \n",
       "3     Color  Christopher Nolan     164.0  448130642.0        Tom Hardy   \n",
       "4       NaN        Doug Walker       NaN          NaN      Doug Walker   \n",
       "...     ...                ...       ...          ...              ...   \n",
       "5038  Color        Scott Smith      87.0          NaN      Eric Mabius   \n",
       "5039  Color                NaN      43.0          NaN      Natalie Zea   \n",
       "5040  Color   Benjamin Roberds      76.0          NaN      Eva Boehnke   \n",
       "5041  Color        Daniel Hsia     100.0      10443.0        Alan Ruck   \n",
       "5042  Color           Jon Gunn      90.0      85222.0      John August   \n",
       "\n",
       "                                     movie_title language country  \\\n",
       "0                                         Avatar  English     USA   \n",
       "1       Pirates of the Caribbean: At World's End  English     USA   \n",
       "2                                        Spectre  English      UK   \n",
       "3                          The Dark Knight Rises  English     USA   \n",
       "4     Star Wars: Episode VII - The Force Awakens      NaN     NaN   \n",
       "...                                          ...      ...     ...   \n",
       "5038                     Signed Sealed Delivered  English  Canada   \n",
       "5039                               The Following  English     USA   \n",
       "5040                        A Plague So Pleasant  English     USA   \n",
       "5041                            Shanghai Calling  English     USA   \n",
       "5042                           My Date with Drew  English     USA   \n",
       "\n",
       "           budget  title_year  imdb_score  \n",
       "0     237000000.0      2009.0         7.9  \n",
       "1     300000000.0      2007.0         7.1  \n",
       "2     245000000.0      2015.0         6.8  \n",
       "3     250000000.0      2012.0         8.5  \n",
       "4             NaN         NaN         7.1  \n",
       "...           ...         ...         ...  \n",
       "5038          NaN      2013.0         7.7  \n",
       "5039          NaN         NaN         7.5  \n",
       "5040       1400.0      2013.0         6.3  \n",
       "5041          NaN      2012.0         6.3  \n",
       "5042       1100.0      2004.0         6.6  \n",
       "\n",
       "[5043 rows x 11 columns]"
      ]
     },
     "execution_count": 36,
     "metadata": {},
     "output_type": "execute_result"
    }
   ],
   "source": [
    "data.drop(columns=['movie_imdb_link', 'num_critic_for_reviews', 'genres'], axis='columns', inplace=True)\n",
    "data\n"
   ]
  },
  {
   "cell_type": "markdown",
   "id": "8e7474fb",
   "metadata": {},
   "source": [
    "Exercise: Remove the rest of the columns \n"
   ]
  },
  {
   "cell_type": "code",
   "execution_count": null,
   "id": "8b35f061",
   "metadata": {},
   "outputs": [],
   "source": []
  },
  {
   "cell_type": "markdown",
   "id": "8511aeb2",
   "metadata": {},
   "source": [
    "Let's check the shape again"
   ]
  },
  {
   "cell_type": "code",
   "execution_count": 37,
   "id": "fc57f3a1",
   "metadata": {},
   "outputs": [
    {
     "data": {
      "text/plain": [
       "(5043, 11)"
      ]
     },
     "execution_count": 37,
     "metadata": {},
     "output_type": "execute_result"
    }
   ],
   "source": [
    "data.shape"
   ]
  },
  {
   "cell_type": "markdown",
   "id": "ac630773",
   "metadata": {},
   "source": [
    "Let's convert the dtype of `title_year` column to integer"
   ]
  },
  {
   "cell_type": "code",
   "execution_count": 38,
   "id": "5b07f9a3",
   "metadata": {},
   "outputs": [
    {
     "data": {
      "text/plain": [
       "color             object\n",
       "director_name     object\n",
       "duration         float64\n",
       "gross            float64\n",
       "star_name         object\n",
       "movie_title       object\n",
       "language          object\n",
       "country           object\n",
       "budget           float64\n",
       "title_year         int64\n",
       "imdb_score       float64\n",
       "dtype: object"
      ]
     },
     "execution_count": 38,
     "metadata": {},
     "output_type": "execute_result"
    }
   ],
   "source": [
    "data.dropna(subset=['title_year'], inplace=True)\n",
    "data['title_year'] = data['title_year'].astype(int)\n",
    "data.dtypes"
   ]
  },
  {
   "cell_type": "markdown",
   "id": "14942cce",
   "metadata": {},
   "source": [
    "Let's check the dataframe again"
   ]
  },
  {
   "cell_type": "code",
   "execution_count": 39,
   "id": "5cc1ab82",
   "metadata": {},
   "outputs": [
    {
     "data": {
      "text/html": [
       "<div>\n",
       "<style scoped>\n",
       "    .dataframe tbody tr th:only-of-type {\n",
       "        vertical-align: middle;\n",
       "    }\n",
       "\n",
       "    .dataframe tbody tr th {\n",
       "        vertical-align: top;\n",
       "    }\n",
       "\n",
       "    .dataframe thead th {\n",
       "        text-align: right;\n",
       "    }\n",
       "</style>\n",
       "<table border=\"1\" class=\"dataframe\">\n",
       "  <thead>\n",
       "    <tr style=\"text-align: right;\">\n",
       "      <th></th>\n",
       "      <th>color</th>\n",
       "      <th>director_name</th>\n",
       "      <th>duration</th>\n",
       "      <th>gross</th>\n",
       "      <th>star_name</th>\n",
       "      <th>movie_title</th>\n",
       "      <th>language</th>\n",
       "      <th>country</th>\n",
       "      <th>budget</th>\n",
       "      <th>title_year</th>\n",
       "      <th>imdb_score</th>\n",
       "    </tr>\n",
       "  </thead>\n",
       "  <tbody>\n",
       "    <tr>\n",
       "      <th>0</th>\n",
       "      <td>Color</td>\n",
       "      <td>James Cameron</td>\n",
       "      <td>178.0</td>\n",
       "      <td>760505847.0</td>\n",
       "      <td>CCH Pounder</td>\n",
       "      <td>Avatar</td>\n",
       "      <td>English</td>\n",
       "      <td>USA</td>\n",
       "      <td>237000000.0</td>\n",
       "      <td>2009</td>\n",
       "      <td>7.9</td>\n",
       "    </tr>\n",
       "    <tr>\n",
       "      <th>1</th>\n",
       "      <td>Color</td>\n",
       "      <td>Gore Verbinski</td>\n",
       "      <td>169.0</td>\n",
       "      <td>309404152.0</td>\n",
       "      <td>Johnny Depp</td>\n",
       "      <td>Pirates of the Caribbean: At World's End</td>\n",
       "      <td>English</td>\n",
       "      <td>USA</td>\n",
       "      <td>300000000.0</td>\n",
       "      <td>2007</td>\n",
       "      <td>7.1</td>\n",
       "    </tr>\n",
       "    <tr>\n",
       "      <th>2</th>\n",
       "      <td>Color</td>\n",
       "      <td>Sam Mendes</td>\n",
       "      <td>148.0</td>\n",
       "      <td>200074175.0</td>\n",
       "      <td>Christoph Waltz</td>\n",
       "      <td>Spectre</td>\n",
       "      <td>English</td>\n",
       "      <td>UK</td>\n",
       "      <td>245000000.0</td>\n",
       "      <td>2015</td>\n",
       "      <td>6.8</td>\n",
       "    </tr>\n",
       "  </tbody>\n",
       "</table>\n",
       "</div>"
      ],
      "text/plain": [
       "   color   director_name  duration        gross        star_name  \\\n",
       "0  Color   James Cameron     178.0  760505847.0      CCH Pounder   \n",
       "1  Color  Gore Verbinski     169.0  309404152.0      Johnny Depp   \n",
       "2  Color      Sam Mendes     148.0  200074175.0  Christoph Waltz   \n",
       "\n",
       "                                movie_title language country       budget  \\\n",
       "0                                    Avatar  English     USA  237000000.0   \n",
       "1  Pirates of the Caribbean: At World's End  English     USA  300000000.0   \n",
       "2                                   Spectre  English      UK  245000000.0   \n",
       "\n",
       "   title_year  imdb_score  \n",
       "0        2009         7.9  \n",
       "1        2007         7.1  \n",
       "2        2015         6.8  "
      ]
     },
     "execution_count": 39,
     "metadata": {},
     "output_type": "execute_result"
    }
   ],
   "source": [
    "data.head(3)"
   ]
  },
  {
   "cell_type": "markdown",
   "id": "b0179a75",
   "metadata": {},
   "source": [
    "Renaming some columns: \n",
    "- changing `gross` to `movie_income`"
   ]
  },
  {
   "cell_type": "code",
   "execution_count": 40,
   "id": "0b1251d7",
   "metadata": {},
   "outputs": [
    {
     "data": {
      "text/html": [
       "<div>\n",
       "<style scoped>\n",
       "    .dataframe tbody tr th:only-of-type {\n",
       "        vertical-align: middle;\n",
       "    }\n",
       "\n",
       "    .dataframe tbody tr th {\n",
       "        vertical-align: top;\n",
       "    }\n",
       "\n",
       "    .dataframe thead th {\n",
       "        text-align: right;\n",
       "    }\n",
       "</style>\n",
       "<table border=\"1\" class=\"dataframe\">\n",
       "  <thead>\n",
       "    <tr style=\"text-align: right;\">\n",
       "      <th></th>\n",
       "      <th>color</th>\n",
       "      <th>director_name</th>\n",
       "      <th>duration</th>\n",
       "      <th>movie_income</th>\n",
       "      <th>star_name</th>\n",
       "      <th>movie_title</th>\n",
       "      <th>language</th>\n",
       "      <th>country</th>\n",
       "      <th>budget</th>\n",
       "      <th>title_year</th>\n",
       "      <th>imdb_score</th>\n",
       "    </tr>\n",
       "  </thead>\n",
       "  <tbody>\n",
       "    <tr>\n",
       "      <th>0</th>\n",
       "      <td>Color</td>\n",
       "      <td>James Cameron</td>\n",
       "      <td>178.0</td>\n",
       "      <td>760505847.0</td>\n",
       "      <td>CCH Pounder</td>\n",
       "      <td>Avatar</td>\n",
       "      <td>English</td>\n",
       "      <td>USA</td>\n",
       "      <td>237000000.0</td>\n",
       "      <td>2009</td>\n",
       "      <td>7.9</td>\n",
       "    </tr>\n",
       "    <tr>\n",
       "      <th>1</th>\n",
       "      <td>Color</td>\n",
       "      <td>Gore Verbinski</td>\n",
       "      <td>169.0</td>\n",
       "      <td>309404152.0</td>\n",
       "      <td>Johnny Depp</td>\n",
       "      <td>Pirates of the Caribbean: At World's End</td>\n",
       "      <td>English</td>\n",
       "      <td>USA</td>\n",
       "      <td>300000000.0</td>\n",
       "      <td>2007</td>\n",
       "      <td>7.1</td>\n",
       "    </tr>\n",
       "    <tr>\n",
       "      <th>2</th>\n",
       "      <td>Color</td>\n",
       "      <td>Sam Mendes</td>\n",
       "      <td>148.0</td>\n",
       "      <td>200074175.0</td>\n",
       "      <td>Christoph Waltz</td>\n",
       "      <td>Spectre</td>\n",
       "      <td>English</td>\n",
       "      <td>UK</td>\n",
       "      <td>245000000.0</td>\n",
       "      <td>2015</td>\n",
       "      <td>6.8</td>\n",
       "    </tr>\n",
       "  </tbody>\n",
       "</table>\n",
       "</div>"
      ],
      "text/plain": [
       "   color   director_name  duration  movie_income        star_name  \\\n",
       "0  Color   James Cameron     178.0   760505847.0      CCH Pounder   \n",
       "1  Color  Gore Verbinski     169.0   309404152.0      Johnny Depp   \n",
       "2  Color      Sam Mendes     148.0   200074175.0  Christoph Waltz   \n",
       "\n",
       "                                movie_title language country       budget  \\\n",
       "0                                    Avatar  English     USA  237000000.0   \n",
       "1  Pirates of the Caribbean: At World's End  English     USA  300000000.0   \n",
       "2                                   Spectre  English      UK  245000000.0   \n",
       "\n",
       "   title_year  imdb_score  \n",
       "0        2009         7.9  \n",
       "1        2007         7.1  \n",
       "2        2015         6.8  "
      ]
     },
     "execution_count": 40,
     "metadata": {},
     "output_type": "execute_result"
    }
   ],
   "source": [
    "rename_dictionary = {'gross':'movie_income'}\n",
    "data.rename(columns=rename_dictionary, inplace=True)\n",
    "data.head(3)"
   ]
  },
  {
   "cell_type": "markdown",
   "id": "4878bdf7",
   "metadata": {},
   "source": [
    "Exercise: Rename the `budget` column to `movie_budget`"
   ]
  },
  {
   "cell_type": "code",
   "execution_count": 41,
   "id": "fedc0c98",
   "metadata": {},
   "outputs": [
    {
     "data": {
      "text/html": [
       "<div>\n",
       "<style scoped>\n",
       "    .dataframe tbody tr th:only-of-type {\n",
       "        vertical-align: middle;\n",
       "    }\n",
       "\n",
       "    .dataframe tbody tr th {\n",
       "        vertical-align: top;\n",
       "    }\n",
       "\n",
       "    .dataframe thead th {\n",
       "        text-align: right;\n",
       "    }\n",
       "</style>\n",
       "<table border=\"1\" class=\"dataframe\">\n",
       "  <thead>\n",
       "    <tr style=\"text-align: right;\">\n",
       "      <th></th>\n",
       "      <th>color</th>\n",
       "      <th>director_name</th>\n",
       "      <th>duration</th>\n",
       "      <th>movie_income</th>\n",
       "      <th>star_name</th>\n",
       "      <th>movie_title</th>\n",
       "      <th>language</th>\n",
       "      <th>country</th>\n",
       "      <th>movie_budget</th>\n",
       "      <th>title_year</th>\n",
       "      <th>imdb_score</th>\n",
       "    </tr>\n",
       "  </thead>\n",
       "  <tbody>\n",
       "    <tr>\n",
       "      <th>0</th>\n",
       "      <td>Color</td>\n",
       "      <td>James Cameron</td>\n",
       "      <td>178.0</td>\n",
       "      <td>760505847.0</td>\n",
       "      <td>CCH Pounder</td>\n",
       "      <td>Avatar</td>\n",
       "      <td>English</td>\n",
       "      <td>USA</td>\n",
       "      <td>237000000.0</td>\n",
       "      <td>2009</td>\n",
       "      <td>7.9</td>\n",
       "    </tr>\n",
       "    <tr>\n",
       "      <th>1</th>\n",
       "      <td>Color</td>\n",
       "      <td>Gore Verbinski</td>\n",
       "      <td>169.0</td>\n",
       "      <td>309404152.0</td>\n",
       "      <td>Johnny Depp</td>\n",
       "      <td>Pirates of the Caribbean: At World's End</td>\n",
       "      <td>English</td>\n",
       "      <td>USA</td>\n",
       "      <td>300000000.0</td>\n",
       "      <td>2007</td>\n",
       "      <td>7.1</td>\n",
       "    </tr>\n",
       "    <tr>\n",
       "      <th>2</th>\n",
       "      <td>Color</td>\n",
       "      <td>Sam Mendes</td>\n",
       "      <td>148.0</td>\n",
       "      <td>200074175.0</td>\n",
       "      <td>Christoph Waltz</td>\n",
       "      <td>Spectre</td>\n",
       "      <td>English</td>\n",
       "      <td>UK</td>\n",
       "      <td>245000000.0</td>\n",
       "      <td>2015</td>\n",
       "      <td>6.8</td>\n",
       "    </tr>\n",
       "  </tbody>\n",
       "</table>\n",
       "</div>"
      ],
      "text/plain": [
       "   color   director_name  duration  movie_income        star_name  \\\n",
       "0  Color   James Cameron     178.0   760505847.0      CCH Pounder   \n",
       "1  Color  Gore Verbinski     169.0   309404152.0      Johnny Depp   \n",
       "2  Color      Sam Mendes     148.0   200074175.0  Christoph Waltz   \n",
       "\n",
       "                                movie_title language country  movie_budget  \\\n",
       "0                                    Avatar  English     USA   237000000.0   \n",
       "1  Pirates of the Caribbean: At World's End  English     USA   300000000.0   \n",
       "2                                   Spectre  English      UK   245000000.0   \n",
       "\n",
       "   title_year  imdb_score  \n",
       "0        2009         7.9  \n",
       "1        2007         7.1  \n",
       "2        2015         6.8  "
      ]
     },
     "execution_count": 41,
     "metadata": {},
     "output_type": "execute_result"
    }
   ],
   "source": [
    "ren_dict = {'budget':'movie_budget'}\n",
    "data.rename(columns=ren_dict, inplace=True)\n",
    "data.head(3)"
   ]
  },
  {
   "cell_type": "markdown",
   "id": "0c66b460",
   "metadata": {},
   "source": [
    "---\n",
    "### Data Analysis \n",
    "\n",
    "\n",
    "Let's checkout the distribution of `duration` column using a histogram.\n"
   ]
  },
  {
   "cell_type": "code",
   "execution_count": 42,
   "id": "05e40217",
   "metadata": {},
   "outputs": [
    {
     "data": {
      "text/html": [
       "<div>\n",
       "<style scoped>\n",
       "    .dataframe tbody tr th:only-of-type {\n",
       "        vertical-align: middle;\n",
       "    }\n",
       "\n",
       "    .dataframe tbody tr th {\n",
       "        vertical-align: top;\n",
       "    }\n",
       "\n",
       "    .dataframe thead th {\n",
       "        text-align: right;\n",
       "    }\n",
       "</style>\n",
       "<table border=\"1\" class=\"dataframe\">\n",
       "  <thead>\n",
       "    <tr style=\"text-align: right;\">\n",
       "      <th></th>\n",
       "      <th>color</th>\n",
       "      <th>director_name</th>\n",
       "      <th>duration</th>\n",
       "      <th>movie_income</th>\n",
       "      <th>star_name</th>\n",
       "      <th>movie_title</th>\n",
       "      <th>language</th>\n",
       "      <th>country</th>\n",
       "      <th>movie_budget</th>\n",
       "      <th>title_year</th>\n",
       "      <th>imdb_score</th>\n",
       "    </tr>\n",
       "  </thead>\n",
       "  <tbody>\n",
       "    <tr>\n",
       "      <th>0</th>\n",
       "      <td>Color</td>\n",
       "      <td>James Cameron</td>\n",
       "      <td>178.0</td>\n",
       "      <td>760505847.0</td>\n",
       "      <td>CCH Pounder</td>\n",
       "      <td>Avatar</td>\n",
       "      <td>English</td>\n",
       "      <td>USA</td>\n",
       "      <td>237000000.0</td>\n",
       "      <td>2009</td>\n",
       "      <td>7.9</td>\n",
       "    </tr>\n",
       "    <tr>\n",
       "      <th>1</th>\n",
       "      <td>Color</td>\n",
       "      <td>Gore Verbinski</td>\n",
       "      <td>169.0</td>\n",
       "      <td>309404152.0</td>\n",
       "      <td>Johnny Depp</td>\n",
       "      <td>Pirates of the Caribbean: At World's End</td>\n",
       "      <td>English</td>\n",
       "      <td>USA</td>\n",
       "      <td>300000000.0</td>\n",
       "      <td>2007</td>\n",
       "      <td>7.1</td>\n",
       "    </tr>\n",
       "    <tr>\n",
       "      <th>2</th>\n",
       "      <td>Color</td>\n",
       "      <td>Sam Mendes</td>\n",
       "      <td>148.0</td>\n",
       "      <td>200074175.0</td>\n",
       "      <td>Christoph Waltz</td>\n",
       "      <td>Spectre</td>\n",
       "      <td>English</td>\n",
       "      <td>UK</td>\n",
       "      <td>245000000.0</td>\n",
       "      <td>2015</td>\n",
       "      <td>6.8</td>\n",
       "    </tr>\n",
       "  </tbody>\n",
       "</table>\n",
       "</div>"
      ],
      "text/plain": [
       "   color   director_name  duration  movie_income        star_name  \\\n",
       "0  Color   James Cameron     178.0   760505847.0      CCH Pounder   \n",
       "1  Color  Gore Verbinski     169.0   309404152.0      Johnny Depp   \n",
       "2  Color      Sam Mendes     148.0   200074175.0  Christoph Waltz   \n",
       "\n",
       "                                movie_title language country  movie_budget  \\\n",
       "0                                    Avatar  English     USA   237000000.0   \n",
       "1  Pirates of the Caribbean: At World's End  English     USA   300000000.0   \n",
       "2                                   Spectre  English      UK   245000000.0   \n",
       "\n",
       "   title_year  imdb_score  \n",
       "0        2009         7.9  \n",
       "1        2007         7.1  \n",
       "2        2015         6.8  "
      ]
     },
     "execution_count": 42,
     "metadata": {},
     "output_type": "execute_result"
    }
   ],
   "source": [
    "data.head(3)"
   ]
  },
  {
   "cell_type": "code",
   "execution_count": 43,
   "id": "9ebb3c1a",
   "metadata": {},
   "outputs": [
    {
     "data": {
      "text/plain": [
       "Text(0.5, 1.0, 'Movie Duration Histogram')"
      ]
     },
     "execution_count": 43,
     "metadata": {},
     "output_type": "execute_result"
    },
    {
     "data": {
      "image/png": "[encoded data removed]",
      "text/plain": [
       "<Figure size 800x600 with 1 Axes>"
      ]
     },
     "metadata": {},
     "output_type": "display_data"
    }
   ],
   "source": [
    "var = data.duration.hist(bins=50, figsize=(8,6))\n",
    "var.set_xlabel('Movie Duration')\n",
    "var.set_ylabel('Count')\n",
    "var.set_title('Movie Duration Histogram')"
   ]
  },
  {
   "cell_type": "markdown",
   "id": "40962db2",
   "metadata": {},
   "source": [
    "Exercise: Create a hitogram to see the distribution of `imdb_score` column"
   ]
  },
  {
   "cell_type": "code",
   "execution_count": 44,
   "id": "8ca4b4c3",
   "metadata": {},
   "outputs": [
    {
     "data": {
      "text/plain": [
       "Text(0.5, 1.0, 'IMDB Score Histogram')"
      ]
     },
     "execution_count": 44,
     "metadata": {},
     "output_type": "execute_result"
    },
    {
     "data": {
      "image/png": "[encoded data removed]",
      "text/plain": [
       "<Figure size 800x600 with 1 Axes>"
      ]
     },
     "metadata": {},
     "output_type": "display_data"
    }
   ],
   "source": [
    "var = data.imdb_score.hist(bins=20, figsize=(8,6))\n",
    "var.set_xlabel('IMDB Score')\n",
    "var.set_ylabel('Count')\n",
    "var.set_title('IMDB Score Histogram')"
   ]
  },
  {
   "cell_type": "markdown",
   "id": "19b8d5f3",
   "metadata": {},
   "source": [
    "Let's check how many movies have the `imdb_score` less than `4`."
   ]
  },
  {
   "cell_type": "code",
   "execution_count": 45,
   "id": "132d4d05",
   "metadata": {},
   "outputs": [
    {
     "data": {
      "text/html": [
       "<div>\n",
       "<style scoped>\n",
       "    .dataframe tbody tr th:only-of-type {\n",
       "        vertical-align: middle;\n",
       "    }\n",
       "\n",
       "    .dataframe tbody tr th {\n",
       "        vertical-align: top;\n",
       "    }\n",
       "\n",
       "    .dataframe thead th {\n",
       "        text-align: right;\n",
       "    }\n",
       "</style>\n",
       "<table border=\"1\" class=\"dataframe\">\n",
       "  <thead>\n",
       "    <tr style=\"text-align: right;\">\n",
       "      <th></th>\n",
       "      <th>color</th>\n",
       "      <th>director_name</th>\n",
       "      <th>duration</th>\n",
       "      <th>movie_income</th>\n",
       "      <th>star_name</th>\n",
       "      <th>movie_title</th>\n",
       "      <th>language</th>\n",
       "      <th>country</th>\n",
       "      <th>movie_budget</th>\n",
       "      <th>title_year</th>\n",
       "      <th>imdb_score</th>\n",
       "    </tr>\n",
       "  </thead>\n",
       "  <tbody>\n",
       "    <tr>\n",
       "      <th>217</th>\n",
       "      <td>Color</td>\n",
       "      <td>Joel Schumacher</td>\n",
       "      <td>125.0</td>\n",
       "      <td>107285004.0</td>\n",
       "      <td>Michael Gough</td>\n",
       "      <td>Batman &amp; Robin</td>\n",
       "      <td>English</td>\n",
       "      <td>USA</td>\n",
       "      <td>125000000.0</td>\n",
       "      <td>1997</td>\n",
       "      <td>3.7</td>\n",
       "    </tr>\n",
       "    <tr>\n",
       "      <th>267</th>\n",
       "      <td>Color</td>\n",
       "      <td>Jan de Bont</td>\n",
       "      <td>121.0</td>\n",
       "      <td>48068396.0</td>\n",
       "      <td>Jason Patric</td>\n",
       "      <td>Speed 2: Cruise Control</td>\n",
       "      <td>English</td>\n",
       "      <td>USA</td>\n",
       "      <td>160000000.0</td>\n",
       "      <td>1997</td>\n",
       "      <td>3.7</td>\n",
       "    </tr>\n",
       "    <tr>\n",
       "      <th>273</th>\n",
       "      <td>Color</td>\n",
       "      <td>Bo Welch</td>\n",
       "      <td>82.0</td>\n",
       "      <td>100446895.0</td>\n",
       "      <td>Sean Hayes</td>\n",
       "      <td>The Cat in the Hat</td>\n",
       "      <td>English</td>\n",
       "      <td>USA</td>\n",
       "      <td>109000000.0</td>\n",
       "      <td>2003</td>\n",
       "      <td>3.8</td>\n",
       "    </tr>\n",
       "    <tr>\n",
       "      <th>313</th>\n",
       "      <td>Color</td>\n",
       "      <td>Pitof</td>\n",
       "      <td>87.0</td>\n",
       "      <td>40198710.0</td>\n",
       "      <td>Frances Conroy</td>\n",
       "      <td>Catwoman</td>\n",
       "      <td>English</td>\n",
       "      <td>USA</td>\n",
       "      <td>100000000.0</td>\n",
       "      <td>2004</td>\n",
       "      <td>3.3</td>\n",
       "    </tr>\n",
       "    <tr>\n",
       "      <th>319</th>\n",
       "      <td>Color</td>\n",
       "      <td>Lawrence Guterman</td>\n",
       "      <td>94.0</td>\n",
       "      <td>17010646.0</td>\n",
       "      <td>Jamie Kennedy</td>\n",
       "      <td>Son of the Mask</td>\n",
       "      <td>English</td>\n",
       "      <td>USA</td>\n",
       "      <td>84000000.0</td>\n",
       "      <td>2005</td>\n",
       "      <td>2.2</td>\n",
       "    </tr>\n",
       "    <tr>\n",
       "      <th>...</th>\n",
       "      <td>...</td>\n",
       "      <td>...</td>\n",
       "      <td>...</td>\n",
       "      <td>...</td>\n",
       "      <td>...</td>\n",
       "      <td>...</td>\n",
       "      <td>...</td>\n",
       "      <td>...</td>\n",
       "      <td>...</td>\n",
       "      <td>...</td>\n",
       "      <td>...</td>\n",
       "    </tr>\n",
       "    <tr>\n",
       "      <th>4988</th>\n",
       "      <td>Color</td>\n",
       "      <td>Terron R. Parsons</td>\n",
       "      <td>93.0</td>\n",
       "      <td>NaN</td>\n",
       "      <td>Richard Tyson</td>\n",
       "      <td>Hayride</td>\n",
       "      <td>English</td>\n",
       "      <td>USA</td>\n",
       "      <td>60000.0</td>\n",
       "      <td>2012</td>\n",
       "      <td>3.4</td>\n",
       "    </tr>\n",
       "    <tr>\n",
       "      <th>5000</th>\n",
       "      <td>Color</td>\n",
       "      <td>Travis Legge</td>\n",
       "      <td>83.0</td>\n",
       "      <td>NaN</td>\n",
       "      <td>Elissa Dowling</td>\n",
       "      <td>Raymond Did It</td>\n",
       "      <td>English</td>\n",
       "      <td>USA</td>\n",
       "      <td>40000.0</td>\n",
       "      <td>2011</td>\n",
       "      <td>3.2</td>\n",
       "    </tr>\n",
       "    <tr>\n",
       "      <th>5002</th>\n",
       "      <td>Color</td>\n",
       "      <td>Collin Joseph Neal</td>\n",
       "      <td>75.0</td>\n",
       "      <td>NaN</td>\n",
       "      <td>Julianne Gabert</td>\n",
       "      <td>Run, Hide, Die</td>\n",
       "      <td>English</td>\n",
       "      <td>USA</td>\n",
       "      <td>50000.0</td>\n",
       "      <td>2012</td>\n",
       "      <td>3.7</td>\n",
       "    </tr>\n",
       "    <tr>\n",
       "      <th>5017</th>\n",
       "      <td>Color</td>\n",
       "      <td>Travis Legge</td>\n",
       "      <td>90.0</td>\n",
       "      <td>NaN</td>\n",
       "      <td>Kristen Seavey</td>\n",
       "      <td>Dry Spell</td>\n",
       "      <td>English</td>\n",
       "      <td>USA</td>\n",
       "      <td>22000.0</td>\n",
       "      <td>2013</td>\n",
       "      <td>3.3</td>\n",
       "    </tr>\n",
       "    <tr>\n",
       "      <th>5020</th>\n",
       "      <td>NaN</td>\n",
       "      <td>Brandon Landers</td>\n",
       "      <td>143.0</td>\n",
       "      <td>NaN</td>\n",
       "      <td>Robbie Barnes</td>\n",
       "      <td>The Ridges</td>\n",
       "      <td>English</td>\n",
       "      <td>USA</td>\n",
       "      <td>17350.0</td>\n",
       "      <td>2011</td>\n",
       "      <td>3.0</td>\n",
       "    </tr>\n",
       "  </tbody>\n",
       "</table>\n",
       "<p>153 rows × 11 columns</p>\n",
       "</div>"
      ],
      "text/plain": [
       "      color       director_name  duration  movie_income        star_name  \\\n",
       "217   Color     Joel Schumacher     125.0   107285004.0    Michael Gough   \n",
       "267   Color         Jan de Bont     121.0    48068396.0     Jason Patric   \n",
       "273   Color            Bo Welch      82.0   100446895.0       Sean Hayes   \n",
       "313   Color               Pitof      87.0    40198710.0   Frances Conroy   \n",
       "319   Color   Lawrence Guterman      94.0    17010646.0    Jamie Kennedy   \n",
       "...     ...                 ...       ...           ...              ...   \n",
       "4988  Color   Terron R. Parsons      93.0           NaN    Richard Tyson   \n",
       "5000  Color        Travis Legge      83.0           NaN   Elissa Dowling   \n",
       "5002  Color  Collin Joseph Neal      75.0           NaN  Julianne Gabert   \n",
       "5017  Color        Travis Legge      90.0           NaN   Kristen Seavey   \n",
       "5020    NaN     Brandon Landers     143.0           NaN    Robbie Barnes   \n",
       "\n",
       "                  movie_title language country  movie_budget  title_year  \\\n",
       "217            Batman & Robin  English     USA   125000000.0        1997   \n",
       "267   Speed 2: Cruise Control  English     USA   160000000.0        1997   \n",
       "273        The Cat in the Hat  English     USA   109000000.0        2003   \n",
       "313                  Catwoman  English     USA   100000000.0        2004   \n",
       "319           Son of the Mask  English     USA    84000000.0        2005   \n",
       "...                       ...      ...     ...           ...         ...   \n",
       "4988                  Hayride  English     USA       60000.0        2012   \n",
       "5000           Raymond Did It  English     USA       40000.0        2011   \n",
       "5002           Run, Hide, Die  English     USA       50000.0        2012   \n",
       "5017                Dry Spell  English     USA       22000.0        2013   \n",
       "5020               The Ridges  English     USA       17350.0        2011   \n",
       "\n",
       "      imdb_score  \n",
       "217          3.7  \n",
       "267          3.7  \n",
       "273          3.8  \n",
       "313          3.3  \n",
       "319          2.2  \n",
       "...          ...  \n",
       "4988         3.4  \n",
       "5000         3.2  \n",
       "5002         3.7  \n",
       "5017         3.3  \n",
       "5020         3.0  \n",
       "\n",
       "[153 rows x 11 columns]"
      ]
     },
     "execution_count": 45,
     "metadata": {},
     "output_type": "execute_result"
    }
   ],
   "source": [
    "data.imdb_score < 4\n",
    "low_score_movies = data[data.imdb_score < 4]\n",
    "low_score_movies"
   ]
  },
  {
   "cell_type": "code",
   "execution_count": 46,
   "id": "742b9cd4",
   "metadata": {},
   "outputs": [
    {
     "data": {
      "text/plain": [
       "(153, 11)"
      ]
     },
     "execution_count": 46,
     "metadata": {},
     "output_type": "execute_result"
    }
   ],
   "source": [
    "low_score_movies.shape"
   ]
  },
  {
   "cell_type": "markdown",
   "id": "a2555046",
   "metadata": {},
   "source": [
    "Exercise: Use a histogram to visualize the distribution of movie IMdb score in that are produced in `USA`."
   ]
  },
  {
   "cell_type": "code",
   "execution_count": 47,
   "id": "71c11257",
   "metadata": {},
   "outputs": [
    {
     "data": {
      "text/plain": [
       "<Axes: >"
      ]
     },
     "execution_count": 47,
     "metadata": {},
     "output_type": "execute_result"
    },
    {
     "data": {
      "image/png": "[encoded data removed]",
      "text/plain": [
       "<Figure size 800x600 with 1 Axes>"
      ]
     },
     "metadata": {},
     "output_type": "display_data"
    }
   ],
   "source": [
    "country_specified = data[data.country=='UK']\n",
    "country_specified.imdb_score.hist(bins=25, figsize=(8,6), grid=False)"
   ]
  },
  {
   "cell_type": "markdown",
   "id": "d0fa3333",
   "metadata": {},
   "source": [
    "---\n",
    "### Let's answer to some analytical questions \n",
    "    \n",
    "Question 1 - In which year we have the `highest` and `lowest` number of movies?"
   ]
  },
  {
   "cell_type": "markdown",
   "id": "5c493909",
   "metadata": {},
   "source": [
    "Now finding out number of movies per year"
   ]
  },
  {
   "cell_type": "code",
   "execution_count": 48,
   "id": "5f3bbfc4",
   "metadata": {},
   "outputs": [
    {
     "name": "stdout",
     "output_type": "stream",
     "text": [
      "Movies per year:: title_year\n",
      "1916      1\n",
      "1920      1\n",
      "1925      1\n",
      "1927      1\n",
      "1929      2\n",
      "       ... \n",
      "2012    221\n",
      "2013    237\n",
      "2014    252\n",
      "2015    226\n",
      "2016    106\n",
      "Length: 91, dtype: int64\n",
      "-------------------------------------\n",
      "Max Movies:: 260 in Year:: 2009\n",
      "Min Movies:: 1 in Year:: 1916\n"
     ]
    }
   ],
   "source": [
    "movies_per_year = data.groupby('title_year').size()\n",
    "\n",
    "max_movies = movies_per_year.max()\n",
    "year_max_movies = movies_per_year.idxmax()\n",
    "\n",
    "min_movies = movies_per_year.min()\n",
    "year_min_movies = movies_per_year.idxmin()\n",
    "\n",
    "print(f'Movies per year:: {movies_per_year}')\n",
    "print('-------------------------------------')\n",
    "print(f'Max Movies:: {max_movies} in Year:: {year_max_movies}')\n",
    "print(f'Min Movies:: {min_movies} in Year:: {year_min_movies}')"
   ]
  },
  {
   "cell_type": "markdown",
   "id": "e1dbb7a4",
   "metadata": {},
   "source": [
    "Let's create a line chart to show the result"
   ]
  },
  {
   "cell_type": "code",
   "execution_count": 49,
   "id": "37de30cd",
   "metadata": {},
   "outputs": [
    {
     "data": {
      "text/plain": [
       "Text(0.5, 1.0, 'Number Of Movies Produced By Year')"
      ]
     },
     "execution_count": 49,
     "metadata": {},
     "output_type": "execute_result"
    },
    {
     "data": {
      "image/png": "[encoded data removed]",
      "text/plain": [
       "<Figure size 800x600 with 1 Axes>"
      ]
     },
     "metadata": {},
     "output_type": "display_data"
    }
   ],
   "source": [
    "var = movies_per_year.plot(figsize=(8,6))\n",
    "var.set_xlabel('Year')\n",
    "var.set_ylabel('Number of Movies Produced')\n",
    "var.set_title('Number Of Movies Produced By Year')"
   ]
  },
  {
   "cell_type": "markdown",
   "id": "1b126d48",
   "metadata": {},
   "source": [
    "Question 2 - In which year we have `minimum` and `maximum` average `imdb_score` ? "
   ]
  },
  {
   "cell_type": "markdown",
   "id": "e4d514ed",
   "metadata": {},
   "source": [
    "Finding average imdb score per year "
   ]
  },
  {
   "cell_type": "code",
   "execution_count": 50,
   "id": "40deadad",
   "metadata": {},
   "outputs": [
    {
     "name": "stdout",
     "output_type": "stream",
     "text": [
      "Average IMDB Score By Year:: title_year\n",
      "1916    8.000000\n",
      "1920    4.800000\n",
      "1925    8.300000\n",
      "1927    8.300000\n",
      "1929    7.150000\n",
      "          ...   \n",
      "2012    6.266516\n",
      "2013    6.369620\n",
      "2014    6.228175\n",
      "2015    6.033628\n",
      "2016    6.399057\n",
      "Name: imdb_score, Length: 91, dtype: float64\n",
      "--------------------------------------\n",
      "Max IMDB Score:: 8.55 in Year:: 1957\n",
      "MIn IMDB Score:: 4.8 in Year:: 1920\n"
     ]
    }
   ],
   "source": [
    "avg = data.groupby('title_year')['imdb_score'].mean()\n",
    "max = data.groupby('title_year')['imdb_score'].mean().max()\n",
    "yr_max = data.groupby('title_year')['imdb_score'].mean().idxmax()\n",
    "min = data.groupby('title_year')['imdb_score'].mean().min()\n",
    "yr_min = data.groupby('title_year')['imdb_score'].mean().idxmin()\n",
    "\n",
    "print(f'Average IMDB Score By Year:: {avg}')\n",
    "print('--------------------------------------')\n",
    "print(f'Max IMDB Score:: {max} in Year:: {yr_max}')\n",
    "print(f'MIn IMDB Score:: {min} in Year:: {yr_min}')"
   ]
  },
  {
   "cell_type": "markdown",
   "id": "910dc407",
   "metadata": {},
   "source": [
    "Let's Use a barchart to visualize the result"
   ]
  },
  {
   "cell_type": "code",
   "execution_count": 51,
   "id": "6460f189",
   "metadata": {},
   "outputs": [
    {
     "data": {
      "text/plain": [
       "Text(0.5, 1.0, 'Average IMDB Score by Year')"
      ]
     },
     "execution_count": 51,
     "metadata": {},
     "output_type": "execute_result"
    },
    {
     "data": {
      "image/png": "[encoded data removed]",
      "text/plain": [
       "<Figure size 2000x800 with 1 Axes>"
      ]
     },
     "metadata": {},
     "output_type": "display_data"
    }
   ],
   "source": [
    "var = avg.plot.bar(figsize=(20,8))\n",
    "var.set_xlabel('Year')\n",
    "var.set_ylabel('Average IMDB Score')\n",
    "var.set_title('Average IMDB Score by Year')"
   ]
  },
  {
   "cell_type": "markdown",
   "id": "81b18097",
   "metadata": {},
   "source": [
    "Exercise: \n",
    "Question 3 - In which year we have the `minimum` and `maximum` spent movie budget?\n",
    "\n",
    "`hint: use a line chart to visualize your results.` "
   ]
  },
  {
   "cell_type": "code",
   "execution_count": 52,
   "id": "e2fe2f8c",
   "metadata": {},
   "outputs": [
    {
     "name": "stdout",
     "output_type": "stream",
     "text": [
      "Budget per Year:: title_year\n",
      "1916    3.859070e+05\n",
      "1920    1.000000e+05\n",
      "1925    2.450000e+05\n",
      "1927    6.000000e+06\n",
      "1929    3.790000e+05\n",
      "            ...     \n",
      "2012    8.146368e+09\n",
      "2013    8.631557e+09\n",
      "2014    8.089608e+09\n",
      "2015    7.889754e+09\n",
      "2016    5.267775e+09\n",
      "Name: movie_budget, Length: 91, dtype: float64\n",
      "-----------------------------------\n",
      "Max Budget:: 20019582000.0 in Year:: 2006\n",
      "Min Budget:: 100000.0 in Year:: 1920\n"
     ]
    },
    {
     "data": {
      "text/plain": [
       "<Axes: xlabel='title_year'>"
      ]
     },
     "execution_count": 52,
     "metadata": {},
     "output_type": "execute_result"
    },
    {
     "data": {
      "image/png": "[encoded data removed]",
      "text/plain": [
       "<Figure size 640x480 with 1 Axes>"
      ]
     },
     "metadata": {},
     "output_type": "display_data"
    }
   ],
   "source": [
    "# Group by 'title_year' and calculate max and min budgets\n",
    "grouped_budget = data.groupby('title_year')['movie_budget'].sum()\n",
    "overall_max_budget = grouped_budget.max()\n",
    "yr_overall_max_budget = grouped_budget.idxmax()\n",
    "overall_min_budget = grouped_budget.min()\n",
    "yr_overall_min_budget = grouped_budget.idxmin()\n",
    "\n",
    "print(f'Budget per Year:: {grouped_budget}')\n",
    "print('-----------------------------------')\n",
    "print(f'Max Budget:: {overall_max_budget} in Year:: {yr_overall_max_budget}')\n",
    "print(f'Min Budget:: {overall_min_budget} in Year:: {yr_overall_min_budget}')\n",
    "grouped_budget.plot()"
   ]
  },
  {
   "cell_type": "code",
   "execution_count": 53,
   "id": "78723ded",
   "metadata": {},
   "outputs": [
    {
     "name": "stdout",
     "output_type": "stream",
     "text": [
      "Budget per Year:: title_year\n",
      "1916    3.859070e+05\n",
      "1920    1.000000e+05\n",
      "1925    2.450000e+05\n",
      "1927    6.000000e+06\n",
      "1929    3.790000e+05\n",
      "            ...     \n",
      "2012    8.146368e+09\n",
      "2013    8.631557e+09\n",
      "2014    8.089608e+09\n",
      "2015    7.889754e+09\n",
      "2016    5.267775e+09\n",
      "Name: movie_budget, Length: 91, dtype: float64\n",
      "-----------------------------------\n",
      "Max Budget:: 20019582000.0 in Year:: 2006\n",
      "Min Budget:: 100000.0 in Year:: 1920\n"
     ]
    },
    {
     "data": {
      "text/plain": [
       "<Axes: xlabel='title_year'>"
      ]
     },
     "execution_count": 53,
     "metadata": {},
     "output_type": "execute_result"
    },
    {
     "data": {
      "image/png": "[encoded data removed]",
      "text/plain": [
       "<Figure size 2000x800 with 1 Axes>"
      ]
     },
     "metadata": {},
     "output_type": "display_data"
    }
   ],
   "source": [
    "# Group by 'title_year' and calculate max and min budgets\n",
    "grouped_budget = data.groupby('title_year')['movie_budget'].sum()\n",
    "overall_max_budget = grouped_budget.max()\n",
    "yr_overall_max_budget = grouped_budget.idxmax()\n",
    "overall_min_budget = grouped_budget.min()\n",
    "yr_overall_min_budget = grouped_budget.idxmin()\n",
    "\n",
    "print(f'Budget per Year:: {grouped_budget}')\n",
    "print('-----------------------------------')\n",
    "print(f'Max Budget:: {overall_max_budget} in Year:: {yr_overall_max_budget}')\n",
    "print(f'Min Budget:: {overall_min_budget} in Year:: {yr_overall_min_budget}')\n",
    "\n",
    "grouped_budget.plot.bar(figsize=(20,8))"
   ]
  },
  {
   "cell_type": "markdown",
   "id": "3ef37072",
   "metadata": {},
   "source": [
    "Question 4 - Is there any relationship between IMdb score of a movie and the movie income?\n",
    "\n",
    "To approaches to solve this question:\n",
    "- Visual Correlation Analysis \n",
    "- Generating the Correlation Matirx"
   ]
  },
  {
   "cell_type": "code",
   "execution_count": 55,
   "id": "2b6d8450",
   "metadata": {},
   "outputs": [
    {
     "data": {
      "text/html": [
       "<div>\n",
       "<style scoped>\n",
       "    .dataframe tbody tr th:only-of-type {\n",
       "        vertical-align: middle;\n",
       "    }\n",
       "\n",
       "    .dataframe tbody tr th {\n",
       "        vertical-align: top;\n",
       "    }\n",
       "\n",
       "    .dataframe thead th {\n",
       "        text-align: right;\n",
       "    }\n",
       "</style>\n",
       "<table border=\"1\" class=\"dataframe\">\n",
       "  <thead>\n",
       "    <tr style=\"text-align: right;\">\n",
       "      <th></th>\n",
       "      <th>imdb_score</th>\n",
       "      <th>movie_income</th>\n",
       "    </tr>\n",
       "  </thead>\n",
       "  <tbody>\n",
       "    <tr>\n",
       "      <th>0</th>\n",
       "      <td>7.9</td>\n",
       "      <td>760505847.0</td>\n",
       "    </tr>\n",
       "    <tr>\n",
       "      <th>1</th>\n",
       "      <td>7.1</td>\n",
       "      <td>309404152.0</td>\n",
       "    </tr>\n",
       "    <tr>\n",
       "      <th>2</th>\n",
       "      <td>6.8</td>\n",
       "      <td>200074175.0</td>\n",
       "    </tr>\n",
       "    <tr>\n",
       "      <th>3</th>\n",
       "      <td>8.5</td>\n",
       "      <td>448130642.0</td>\n",
       "    </tr>\n",
       "    <tr>\n",
       "      <th>5</th>\n",
       "      <td>6.6</td>\n",
       "      <td>73058679.0</td>\n",
       "    </tr>\n",
       "    <tr>\n",
       "      <th>...</th>\n",
       "      <td>...</td>\n",
       "      <td>...</td>\n",
       "    </tr>\n",
       "    <tr>\n",
       "      <th>5037</th>\n",
       "      <td>6.4</td>\n",
       "      <td>4584.0</td>\n",
       "    </tr>\n",
       "    <tr>\n",
       "      <th>5038</th>\n",
       "      <td>7.7</td>\n",
       "      <td>NaN</td>\n",
       "    </tr>\n",
       "    <tr>\n",
       "      <th>5040</th>\n",
       "      <td>6.3</td>\n",
       "      <td>NaN</td>\n",
       "    </tr>\n",
       "    <tr>\n",
       "      <th>5041</th>\n",
       "      <td>6.3</td>\n",
       "      <td>10443.0</td>\n",
       "    </tr>\n",
       "    <tr>\n",
       "      <th>5042</th>\n",
       "      <td>6.6</td>\n",
       "      <td>85222.0</td>\n",
       "    </tr>\n",
       "  </tbody>\n",
       "</table>\n",
       "<p>4935 rows × 2 columns</p>\n",
       "</div>"
      ],
      "text/plain": [
       "      imdb_score  movie_income\n",
       "0            7.9   760505847.0\n",
       "1            7.1   309404152.0\n",
       "2            6.8   200074175.0\n",
       "3            8.5   448130642.0\n",
       "5            6.6    73058679.0\n",
       "...          ...           ...\n",
       "5037         6.4        4584.0\n",
       "5038         7.7           NaN\n",
       "5040         6.3           NaN\n",
       "5041         6.3       10443.0\n",
       "5042         6.6       85222.0\n",
       "\n",
       "[4935 rows x 2 columns]"
      ]
     },
     "execution_count": 55,
     "metadata": {},
     "output_type": "execute_result"
    }
   ],
   "source": [
    "df = data[['imdb_score', 'movie_income']]\n",
    "df"
   ]
  },
  {
   "cell_type": "markdown",
   "id": "1019bced",
   "metadata": {},
   "source": [
    "Let's drop the rows with `non` values"
   ]
  },
  {
   "cell_type": "code",
   "execution_count": 58,
   "id": "fb2e5f89",
   "metadata": {},
   "outputs": [
    {
     "name": "stderr",
     "output_type": "stream",
     "text": [
      "C:\\Users\\Sean\\AppData\\Local\\Temp\\ipykernel_17780\\955798070.py:1: SettingWithCopyWarning: \n",
      "A value is trying to be set on a copy of a slice from a DataFrame\n",
      "\n",
      "See the caveats in the documentation: https://pandas.pydata.org/pandas-docs/stable/user_guide/indexing.html#returning-a-view-versus-a-copy\n",
      "  df.dropna(inplace=True)\n"
     ]
    },
    {
     "data": {
      "text/html": [
       "<div>\n",
       "<style scoped>\n",
       "    .dataframe tbody tr th:only-of-type {\n",
       "        vertical-align: middle;\n",
       "    }\n",
       "\n",
       "    .dataframe tbody tr th {\n",
       "        vertical-align: top;\n",
       "    }\n",
       "\n",
       "    .dataframe thead th {\n",
       "        text-align: right;\n",
       "    }\n",
       "</style>\n",
       "<table border=\"1\" class=\"dataframe\">\n",
       "  <thead>\n",
       "    <tr style=\"text-align: right;\">\n",
       "      <th></th>\n",
       "      <th>imdb_score</th>\n",
       "      <th>movie_income</th>\n",
       "    </tr>\n",
       "  </thead>\n",
       "  <tbody>\n",
       "    <tr>\n",
       "      <th>0</th>\n",
       "      <td>7.9</td>\n",
       "      <td>760505847.0</td>\n",
       "    </tr>\n",
       "    <tr>\n",
       "      <th>1</th>\n",
       "      <td>7.1</td>\n",
       "      <td>309404152.0</td>\n",
       "    </tr>\n",
       "    <tr>\n",
       "      <th>2</th>\n",
       "      <td>6.8</td>\n",
       "      <td>200074175.0</td>\n",
       "    </tr>\n",
       "    <tr>\n",
       "      <th>3</th>\n",
       "      <td>8.5</td>\n",
       "      <td>448130642.0</td>\n",
       "    </tr>\n",
       "    <tr>\n",
       "      <th>5</th>\n",
       "      <td>6.6</td>\n",
       "      <td>73058679.0</td>\n",
       "    </tr>\n",
       "    <tr>\n",
       "      <th>...</th>\n",
       "      <td>...</td>\n",
       "      <td>...</td>\n",
       "    </tr>\n",
       "    <tr>\n",
       "      <th>5034</th>\n",
       "      <td>6.3</td>\n",
       "      <td>70071.0</td>\n",
       "    </tr>\n",
       "    <tr>\n",
       "      <th>5035</th>\n",
       "      <td>6.9</td>\n",
       "      <td>2040920.0</td>\n",
       "    </tr>\n",
       "    <tr>\n",
       "      <th>5037</th>\n",
       "      <td>6.4</td>\n",
       "      <td>4584.0</td>\n",
       "    </tr>\n",
       "    <tr>\n",
       "      <th>5041</th>\n",
       "      <td>6.3</td>\n",
       "      <td>10443.0</td>\n",
       "    </tr>\n",
       "    <tr>\n",
       "      <th>5042</th>\n",
       "      <td>6.6</td>\n",
       "      <td>85222.0</td>\n",
       "    </tr>\n",
       "  </tbody>\n",
       "</table>\n",
       "<p>4156 rows × 2 columns</p>\n",
       "</div>"
      ],
      "text/plain": [
       "      imdb_score  movie_income\n",
       "0            7.9   760505847.0\n",
       "1            7.1   309404152.0\n",
       "2            6.8   200074175.0\n",
       "3            8.5   448130642.0\n",
       "5            6.6    73058679.0\n",
       "...          ...           ...\n",
       "5034         6.3       70071.0\n",
       "5035         6.9     2040920.0\n",
       "5037         6.4        4584.0\n",
       "5041         6.3       10443.0\n",
       "5042         6.6       85222.0\n",
       "\n",
       "[4156 rows x 2 columns]"
      ]
     },
     "execution_count": 58,
     "metadata": {},
     "output_type": "execute_result"
    }
   ],
   "source": [
    "df.dropna(inplace=True)\n",
    "df"
   ]
  },
  {
   "cell_type": "markdown",
   "id": "4eb7644a",
   "metadata": {},
   "source": [
    "Let's create a scatter plot to see the data"
   ]
  },
  {
   "cell_type": "code",
   "execution_count": 60,
   "id": "fd2df675",
   "metadata": {},
   "outputs": [
    {
     "data": {
      "text/plain": [
       "<Axes: xlabel='movie_income', ylabel='imdb_score'>"
      ]
     },
     "execution_count": 60,
     "metadata": {},
     "output_type": "execute_result"
    },
    {
     "data": {
      "image/png": "[encoded data removed]",
      "text/plain": [
       "<Figure size 1000x1000 with 1 Axes>"
      ]
     },
     "metadata": {},
     "output_type": "display_data"
    }
   ],
   "source": [
    "df.plot.scatter(x='movie_income', y='imdb_score', figsize=(10,10))"
   ]
  },
  {
   "cell_type": "markdown",
   "id": "30a708c3",
   "metadata": {},
   "source": [
    "Let's generate the correlation matrix"
   ]
  },
  {
   "cell_type": "code",
   "execution_count": 61,
   "id": "a87a4b8e",
   "metadata": {},
   "outputs": [
    {
     "data": {
      "text/html": [
       "<div>\n",
       "<style scoped>\n",
       "    .dataframe tbody tr th:only-of-type {\n",
       "        vertical-align: middle;\n",
       "    }\n",
       "\n",
       "    .dataframe tbody tr th {\n",
       "        vertical-align: top;\n",
       "    }\n",
       "\n",
       "    .dataframe thead th {\n",
       "        text-align: right;\n",
       "    }\n",
       "</style>\n",
       "<table border=\"1\" class=\"dataframe\">\n",
       "  <thead>\n",
       "    <tr style=\"text-align: right;\">\n",
       "      <th></th>\n",
       "      <th>imdb_score</th>\n",
       "      <th>movie_income</th>\n",
       "    </tr>\n",
       "  </thead>\n",
       "  <tbody>\n",
       "    <tr>\n",
       "      <th>imdb_score</th>\n",
       "      <td>1.000000</td>\n",
       "      <td>0.199432</td>\n",
       "    </tr>\n",
       "    <tr>\n",
       "      <th>movie_income</th>\n",
       "      <td>0.199432</td>\n",
       "      <td>1.000000</td>\n",
       "    </tr>\n",
       "  </tbody>\n",
       "</table>\n",
       "</div>"
      ],
      "text/plain": [
       "              imdb_score  movie_income\n",
       "imdb_score      1.000000      0.199432\n",
       "movie_income    0.199432      1.000000"
      ]
     },
     "execution_count": 61,
     "metadata": {},
     "output_type": "execute_result"
    }
   ],
   "source": [
    "df.corr()"
   ]
  }
 ],
 "metadata": {
  "kernelspec": {
   "display_name": "Python 3 (ipykernel)",
   "language": "python",
   "name": "python3"
  },
  "language_info": {
   "codemirror_mode": {
    "name": "ipython",
    "version": 3
   },
   "file_extension": ".py",
   "mimetype": "text/x-python",
   "name": "python",
   "nbconvert_exporter": "python",
   "pygments_lexer": "ipython3",
   "version": "3.12.4"
  }
 },
 "nbformat": 4,
 "nbformat_minor": 5
}
