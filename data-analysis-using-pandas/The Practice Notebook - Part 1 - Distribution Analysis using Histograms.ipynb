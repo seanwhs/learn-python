{
 "cells": [
  {
   "cell_type": "markdown",
   "id": "bd1c3cd3",
   "metadata": {},
   "source": [
    "# Welcome To The Practice Notebook \n",
    "---"
   ]
  },
  {
   "cell_type": "markdown",
   "id": "26b59aa6",
   "metadata": {},
   "source": [
    "Importing the pandas library"
   ]
  },
  {
   "cell_type": "code",
   "execution_count": null,
   "id": "9961c391",
   "metadata": {},
   "outputs": [],
   "source": [
    "import pandas as pd "
   ]
  },
  {
   "cell_type": "markdown",
   "id": "2548a6df",
   "metadata": {},
   "source": [
    "Import the json Imdb Dataset"
   ]
  },
  {
   "cell_type": "code",
   "execution_count": null,
   "id": "7ee32f66",
   "metadata": {},
   "outputs": [],
   "source": [
    "# Your code goes here\n"
   ]
  },
  {
   "cell_type": "markdown",
   "id": "9b72abfd",
   "metadata": {},
   "source": [
    "Answer to the following Analytical questions: \n",
    "\n",
    "Question 1: Use Histograms to compare the disribution of movie `imdb_score` column related to movies produced in `France` and `Canada`. \n",
    "\n",
    "While creating the histgoram:\n",
    "- Set the number of bins to 20 \n",
    "- Set the xAxis Label \n",
    "- Set the yAxis Label\n",
    "- Remove the grid lines\n"
   ]
  },
  {
   "cell_type": "code",
   "execution_count": null,
   "id": "ad4c6911",
   "metadata": {},
   "outputs": [],
   "source": [
    "# Create the histogram for Canada here \n"
   ]
  },
  {
   "cell_type": "code",
   "execution_count": null,
   "id": "3c385215",
   "metadata": {},
   "outputs": [],
   "source": [
    "# Create the histogram for France here \n"
   ]
  },
  {
   "cell_type": "markdown",
   "id": "c7a770a6",
   "metadata": {},
   "source": [
    "Question 2: Create a histogram to check the distribution of `imdb_score` spent to produce Black&White movies.\n",
    "\n",
    "While creating the histgoram:\n",
    "- Set the number of bins to 10 \n",
    "- Set the xAxis Label \n",
    "- Set the yAxis Label\n",
    "- Remove the grid lines\n"
   ]
  },
  {
   "cell_type": "code",
   "execution_count": null,
   "id": "f8f04117",
   "metadata": {},
   "outputs": [],
   "source": [
    "#To go back to the tree, click on the Jupyter icon\n"
   ]
  }
 ],
 "metadata": {
  "kernelspec": {
   "display_name": "Python 3 (ipykernel)",
   "language": "python",
   "name": "python3"
  },
  "language_info": {
   "codemirror_mode": {
    "name": "ipython",
    "version": 3
   },
   "file_extension": ".py",
   "mimetype": "text/x-python",
   "name": "python",
   "nbconvert_exporter": "python",
   "pygments_lexer": "ipython3",
   "version": "3.10.6"
  }
 },
 "nbformat": 4,
 "nbformat_minor": 5
}
