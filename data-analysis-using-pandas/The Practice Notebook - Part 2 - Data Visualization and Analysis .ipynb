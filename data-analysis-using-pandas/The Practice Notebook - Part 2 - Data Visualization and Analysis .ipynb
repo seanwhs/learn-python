{
 "cells": [
  {
   "cell_type": "markdown",
   "id": "bd1c3cd3",
   "metadata": {},
   "source": [
    "# Welcome To The Practice Notebook \n",
    "---"
   ]
  },
  {
   "cell_type": "markdown",
   "id": "26b59aa6",
   "metadata": {},
   "source": [
    "Importing the pandas library"
   ]
  },
  {
   "cell_type": "code",
   "execution_count": 1,
   "id": "9961c391",
   "metadata": {},
   "outputs": [],
   "source": [
    "import pandas as pd "
   ]
  },
  {
   "cell_type": "markdown",
   "id": "2548a6df",
   "metadata": {},
   "source": [
    "Import the json Imdb Dataset"
   ]
  },
  {
   "cell_type": "code",
   "execution_count": 11,
   "id": "7ee32f66",
   "metadata": {},
   "outputs": [],
   "source": [
    "# Your code goes here"
   ]
  },
  {
   "cell_type": "markdown",
   "id": "9b72abfd",
   "metadata": {},
   "source": [
    "Answer to the following Analytical questions: \n",
    "\n",
    "Question 1: Which country has gained the highest average IMdb Score according to our data? <br>\n",
    "Use a bar chart to visualize your results"
   ]
  },
  {
   "cell_type": "code",
   "execution_count": null,
   "id": "ad4c6911",
   "metadata": {},
   "outputs": [],
   "source": [
    "# Write your code here"
   ]
  },
  {
   "cell_type": "markdown",
   "id": "29856d8e",
   "metadata": {},
   "source": [
    "Question 2: How many `colored` and `Black&White` movies do we have in our dataset?"
   ]
  },
  {
   "cell_type": "code",
   "execution_count": 5,
   "id": "c9bd492e",
   "metadata": {},
   "outputs": [],
   "source": [
    "# Write your code here"
   ]
  },
  {
   "cell_type": "markdown",
   "id": "874f8fbb",
   "metadata": {},
   "source": [
    "Question 3: Which movies of `Christopher Nolan` has the highest IMdb Score? <br>\n",
    "Use a barchart to visualize the results"
   ]
  },
  {
   "cell_type": "code",
   "execution_count": 10,
   "id": "785210ec",
   "metadata": {},
   "outputs": [],
   "source": [
    "# Write your code here"
   ]
  },
  {
   "cell_type": "markdown",
   "id": "9c23baec",
   "metadata": {},
   "source": [
    "Question 4: Use a line chart to visualize how many movies have been produced in `USA` from `2010` to `2015`. "
   ]
  },
  {
   "cell_type": "code",
   "execution_count": null,
   "id": "043f1478",
   "metadata": {},
   "outputs": [],
   "source": [
    "# Write your code here"
   ]
  },
  {
   "cell_type": "code",
   "execution_count": null,
   "id": "3c385215",
   "metadata": {},
   "outputs": [],
   "source": []
  }
 ],
 "metadata": {
  "kernelspec": {
   "display_name": "Python 3 (ipykernel)",
   "language": "python",
   "name": "python3"
  },
  "language_info": {
   "codemirror_mode": {
    "name": "ipython",
    "version": 3
   },
   "file_extension": ".py",
   "mimetype": "text/x-python",
   "name": "python",
   "nbconvert_exporter": "python",
   "pygments_lexer": "ipython3",
   "version": "3.10.6"
  }
 },
 "nbformat": 4,
 "nbformat_minor": 5
}
