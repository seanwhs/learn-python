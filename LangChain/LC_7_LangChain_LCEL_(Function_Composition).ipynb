{
  "nbformat": 4,
  "nbformat_minor": 0,
  "metadata": {
    "colab": {
      "provenance": []
    },
    "kernelspec": {
      "name": "python3",
      "display_name": "Python 3"
    },
    "language_info": {
      "name": "python"
    }
  },
  "cells": [
    {
      "cell_type": "markdown",
      "source": [
        "## LC-7: LangChain Expression Language (LCEL)"
      ],
      "metadata": {
        "id": "4fx84sRyFL80"
      }
    },
    {
      "cell_type": "markdown",
      "source": [
        "## **Set-Up**\n",
        "\n",
        "---"
      ],
      "metadata": {
        "id": "OcOdmC09DwPY"
      }
    },
    {
      "cell_type": "code",
      "execution_count": null,
      "metadata": {
        "id": "TKNJPkovDRj_",
        "colab": {
          "base_uri": "https://localhost:8080/"
        },
        "outputId": "45d17064-b61e-473b-80b5-43bc3dd86a78"
      },
      "outputs": [
        {
          "output_type": "stream",
          "name": "stdout",
          "text": [
            "\u001b[2K     \u001b[90m━━━━━━━━━━━━━━━━━━━━━━━━━━━━━━━━━━━━━━━━\u001b[0m \u001b[32m268.3/268.3 kB\u001b[0m \u001b[31m2.2 MB/s\u001b[0m eta \u001b[36m0:00:00\u001b[0m\n",
            "\u001b[2K     \u001b[90m━━━━━━━━━━━━━━━━━━━━━━━━━━━━━━━━━━━━━━━━\u001b[0m \u001b[32m814.5/814.5 kB\u001b[0m \u001b[31m12.2 MB/s\u001b[0m eta \u001b[36m0:00:00\u001b[0m\n",
            "\u001b[2K     \u001b[90m━━━━━━━━━━━━━━━━━━━━━━━━━━━━━━━━━━━━━━━━\u001b[0m \u001b[32m75.6/75.6 kB\u001b[0m \u001b[31m4.2 MB/s\u001b[0m eta \u001b[36m0:00:00\u001b[0m\n",
            "\u001b[2K     \u001b[90m━━━━━━━━━━━━━━━━━━━━━━━━━━━━━━━━━━━━━━━━\u001b[0m \u001b[32m1.9/1.9 MB\u001b[0m \u001b[31m20.9 MB/s\u001b[0m eta \u001b[36m0:00:00\u001b[0m\n",
            "\u001b[2K     \u001b[90m━━━━━━━━━━━━━━━━━━━━━━━━━━━━━━━━━━━━━━━━\u001b[0m \u001b[32m278.4/278.4 kB\u001b[0m \u001b[31m10.0 MB/s\u001b[0m eta \u001b[36m0:00:00\u001b[0m\n",
            "\u001b[2K     \u001b[90m━━━━━━━━━━━━━━━━━━━━━━━━━━━━━━━━━━━━━━━━\u001b[0m \u001b[32m104.2/104.2 kB\u001b[0m \u001b[31m3.9 MB/s\u001b[0m eta \u001b[36m0:00:00\u001b[0m\n",
            "\u001b[2K     \u001b[90m━━━━━━━━━━━━━━━━━━━━━━━━━━━━━━━━━━━━━━━━\u001b[0m \u001b[32m1.8/1.8 MB\u001b[0m \u001b[31m20.6 MB/s\u001b[0m eta \u001b[36m0:00:00\u001b[0m\n",
            "\u001b[2K     \u001b[90m━━━━━━━━━━━━━━━━━━━━━━━━━━━━━━━━━━━━━━━━\u001b[0m \u001b[32m49.4/49.4 kB\u001b[0m \u001b[31m1.5 MB/s\u001b[0m eta \u001b[36m0:00:00\u001b[0m\n",
            "\u001b[2K     \u001b[90m━━━━━━━━━━━━━━━━━━━━━━━━━━━━━━━━━━━━━━━━\u001b[0m \u001b[32m77.9/77.9 kB\u001b[0m \u001b[31m2.1 MB/s\u001b[0m eta \u001b[36m0:00:00\u001b[0m\n",
            "\u001b[2K     \u001b[90m━━━━━━━━━━━━━━━━━━━━━━━━━━━━━━━━━━━━━━━━\u001b[0m \u001b[32m58.3/58.3 kB\u001b[0m \u001b[31m3.4 MB/s\u001b[0m eta \u001b[36m0:00:00\u001b[0m\n",
            "\u001b[2K     \u001b[90m━━━━━━━━━━━━━━━━━━━━━━━━━━━━━━━━━━━━━━━━\u001b[0m \u001b[32m53.0/53.0 kB\u001b[0m \u001b[31m1.8 MB/s\u001b[0m eta \u001b[36m0:00:00\u001b[0m\n",
            "\u001b[2K     \u001b[90m━━━━━━━━━━━━━━━━━━━━━━━━━━━━━━━━━━━━━━━━\u001b[0m \u001b[32m144.8/144.8 kB\u001b[0m \u001b[31m2.5 MB/s\u001b[0m eta \u001b[36m0:00:00\u001b[0m\n",
            "\u001b[?25h"
          ]
        }
      ],
      "source": [
        "!pip install -q openai langchain langchain_openai"
      ]
    },
    {
      "cell_type": "code",
      "source": [
        "from google.colab import userdata"
      ],
      "metadata": {
        "id": "ZUkEsBLwGhF3"
      },
      "execution_count": null,
      "outputs": []
    },
    {
      "cell_type": "markdown",
      "source": [
        "## **What is Function Composition?**\n",
        "\n",
        "---"
      ],
      "metadata": {
        "id": "02YMWpsuD3jM"
      }
    },
    {
      "cell_type": "markdown",
      "source": [
        "Function composition is a concept in programming and mathematics whereby we combine two or more functions to form a new function.\n",
        "\n",
        "In the function `fg(x)`, the output of `g(x)` is passed as input for the function `f`\n",
        "\n",
        "Let us take a look at an example of function compositon:"
      ],
      "metadata": {
        "id": "kzPzT3WoD9AQ"
      }
    },
    {
      "cell_type": "code",
      "source": [
        "# Function that doubles a given input\n",
        "def double(x):\n",
        "  return x * 2\n",
        "# Function that increments a given input\n",
        "def increment(x):\n",
        "  return x + 1"
      ],
      "metadata": {
        "id": "JcBejr50D8H0"
      },
      "execution_count": null,
      "outputs": []
    },
    {
      "cell_type": "markdown",
      "source": [
        "Now, we can easily double a number and increment it:"
      ],
      "metadata": {
        "id": "9gDx8SrJFAgA"
      }
    },
    {
      "cell_type": "markdown",
      "source": [
        "The expression `double(3)` is evaluated to be 6 and then its passed to the increment function to add one to the value"
      ],
      "metadata": {
        "id": "xE6iVdCWFQUy"
      }
    },
    {
      "cell_type": "code",
      "source": [
        "result = increment(double(3))\n",
        "print(result)"
      ],
      "metadata": {
        "colab": {
          "base_uri": "https://localhost:8080/"
        },
        "id": "boqh1I7cFJw8",
        "outputId": "2caeaeae-a7f4-443c-f165-59d7e5b20736"
      },
      "execution_count": null,
      "outputs": [
        {
          "output_type": "stream",
          "name": "stdout",
          "text": [
            "7\n"
          ]
        }
      ]
    },
    {
      "cell_type": "markdown",
      "source": [
        "## **Function Composition in Langchain**\n",
        "\n",
        "---"
      ],
      "metadata": {
        "id": "3aCQAoCEF2Jv"
      }
    },
    {
      "cell_type": "markdown",
      "source": [
        "**Prompt Template + LLM**"
      ],
      "metadata": {
        "id": "9FoC-I9qHv6E"
      }
    },
    {
      "cell_type": "code",
      "source": [
        "from langchain_core.prompts import ChatPromptTemplate\n",
        "from langchain_openai import ChatOpenAI\n",
        "\n",
        "# Create a Template\n",
        "prompt = ChatPromptTemplate.from_template(\"You are working in the neighbourhood store in Singapore and need to promote this {product}\")\n",
        "# Initialise a connection with the model\n",
        "model = ChatOpenAI(openai_api_key = userdata.get(\"OPENAI_API_KEY\"))\n",
        "# Create a Chain with Function Composition\n",
        "chain = prompt | model"
      ],
      "metadata": {
        "id": "zhEwgOXdF7qe"
      },
      "execution_count": null,
      "outputs": []
    },
    {
      "cell_type": "code",
      "source": [
        "from langchain_core.prompts import PromptTemplate\n",
        "from langchain_openai import OpenAI\n",
        "# Create a Prompt Template\n",
        "prompt = PromptTemplate(template = 'You are working in the neighbourhood store in Singapore and need to promote this {product}', input_variables = ['product'])\n",
        "# Initialise a connection with the model\n",
        "llm = OpenAI(openai_api_key = userdata.get(\"OPENAI_API_KEY\"))\n",
        "# Create a chain with Function Composition\n",
        "chain = prompt | llm"
      ],
      "metadata": {
        "id": "RIzllhL5nCU6"
      },
      "execution_count": null,
      "outputs": []
    },
    {
      "cell_type": "code",
      "source": [
        "# Using the Chain\n",
        "print(chain.invoke({\"product\": \"Sim Cards\"}))"
      ],
      "metadata": {
        "colab": {
          "base_uri": "https://localhost:8080/"
        },
        "id": "9Ei_B781G-mN",
        "outputId": "406c8552-12ea-4ea0-8b6e-f5783276acc1"
      },
      "execution_count": null,
      "outputs": [
        {
          "output_type": "stream",
          "name": "stdout",
          "text": [
            "\n",
            "\n",
            "We have the perfect solution for all your communication needs - Sim Cards! As the neighborhood store in Singapore, we understand the importance of staying connected with your loved ones and business associates. That's why we are excited to offer you the best Sim Cards on the market.\n",
            "\n",
            "Our Sim Cards are highly affordable and come with a wide range of features and benefits that will make your life easier. Whether you are a local resident or a tourist visiting Singapore, our Sim Cards will provide you with the best network coverage and seamless connectivity.\n",
            "\n",
            "Here are some of the reasons why you should choose our Sim Cards:\n",
            "\n",
            "1. Affordable prices: Our Sim Cards are priced competitively, making them accessible to everyone. You can choose from a variety of plans that suit your budget and communication needs.\n",
            "\n",
            "2. Reliable network coverage: We understand the frustration of dropped calls and poor network coverage. That's why we have partnered with the leading network providers in Singapore to ensure that you get the best connectivity wherever you go.\n",
            "\n",
            "3. Easy to use: Our Sim Cards are easy to use and can be activated within minutes. You don't have to go through complicated procedures or wait in long queues. Simply pop in the Sim Card and start using it right away.\n",
            "\n",
            "4. Wide range of plans: We offer a variety of\n"
          ]
        }
      ]
    },
    {
      "cell_type": "markdown",
      "source": [
        "**Prompt Template + LLM + StrOutputParser**"
      ],
      "metadata": {
        "id": "x1Fj1BSrHzsD"
      }
    },
    {
      "cell_type": "code",
      "source": [
        "from langchain_core.output_parsers import StrOutputParser\n",
        "chain = prompt | llm | StrOutputParser()"
      ],
      "metadata": {
        "id": "m4eBMo-yH6wG"
      },
      "execution_count": null,
      "outputs": []
    },
    {
      "cell_type": "code",
      "source": [
        "# Output is easier to read with the StrOutputParser()\n",
        "print(chain.invoke({\"product\": \"Sim Cards\"}))"
      ],
      "metadata": {
        "id": "l3SPY8u7IHw6",
        "colab": {
          "base_uri": "https://localhost:8080/"
        },
        "outputId": "f265477a-c7de-41e4-ca06-95cd04424d8a"
      },
      "execution_count": null,
      "outputs": [
        {
          "output_type": "stream",
          "name": "stdout",
          "text": [
            "\n",
            "\n",
            "\n",
            "Attention all residents of Singapore! Are you tired of overpaying for your mobile phone plans? Look no further because our neighbourhood store has got you covered with our affordable Sim Cards!\n",
            "\n",
            "With our Sim Cards, you can enjoy unlimited talk time and data at unbeatable prices. Stay connected with your loved ones without breaking the bank. Whether you are a heavy data user or just need a reliable phone plan for everyday use, we have a Sim Card that fits your needs.\n",
            "\n",
            "But wait, there's more! With our Sim Cards, you can also enjoy exclusive discounts and promotions from our partner merchants. From dining to shopping, our Sim Cards bring you more value for your money.\n",
            "\n",
            "Don't miss out on this amazing deal! Visit our neighbourhood store today and grab your Sim Card. Our friendly staff will be more than happy to assist you in finding the best plan for you. Hurry, limited stocks available!\n",
            "\n",
            "Spread the word to your family and friends and share the savings. Let's all stay connected without breaking the bank with our affordable Sim Cards from our neighbourhood store. See you soon!\n"
          ]
        }
      ]
    },
    {
      "cell_type": "markdown",
      "source": [
        "**RunnableParallel to take care of creating the prompt input dictionary**\n",
        "\n",
        "---\n",
        "\n"
      ],
      "metadata": {
        "id": "8sqTsqoZKday"
      }
    },
    {
      "cell_type": "code",
      "source": [
        "from langchain_core.runnables import RunnableParallel, RunnablePassthrough\n",
        "chain = {\"product\": RunnablePassthrough()} | prompt | llm | StrOutputParser()\n",
        "print(chain.invoke(\"Sim Cards\"))"
      ],
      "metadata": {
        "colab": {
          "base_uri": "https://localhost:8080/"
        },
        "id": "zHX-W2xAND8H",
        "outputId": "72a524db-0d58-48ee-ca05-83936f2ca681"
      },
      "execution_count": null,
      "outputs": [
        {
          "output_type": "stream",
          "name": "stdout",
          "text": [
            "\n",
            "\n",
            "As a store employee, it is my duty to promote the products and services offered by our store. One of our most popular products is the Sim Cards, which provide our customers with affordable and reliable cellular services. Here are some ways I can promote the Sim Cards in our neighbourhood store in Singapore:\n",
            "\n",
            "1. Display the Sim Cards prominently: The Sim Cards should be displayed in a prominent and easily accessible location in the store. This will catch the attention of customers and make it convenient for them to purchase.\n",
            "\n",
            "2. Offer attractive deals and discounts: Everyone loves a good deal, so offering discounts or special promotions on our Sim Cards can attract more customers. This can be in the form of bundle deals or discounts on data plans.\n",
            "\n",
            "3. Educate customers about the benefits: Many customers may not be aware of the benefits of using a Sim Card. As a store employee, I can educate them about the convenience and cost-effectiveness of using a Sim Card for their cellular needs.\n",
            "\n",
            "4. Provide hands-on demonstrations: Sometimes, customers may be hesitant to purchase a Sim Card if they are not familiar with how it works. Providing hands-on demonstrations can help address their concerns and show them how easy it is to use a Sim Card.\n",
            "\n",
            "5. Collaborate with local businesses: Collaborating with\n"
          ]
        }
      ]
    }
  ]
}