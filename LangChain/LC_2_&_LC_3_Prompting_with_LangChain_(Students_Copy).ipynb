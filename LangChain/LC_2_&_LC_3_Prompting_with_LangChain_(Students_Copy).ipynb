{
  "nbformat": 4,
  "nbformat_minor": 0,
  "metadata": {
    "colab": {
      "provenance": []
    },
    "kernelspec": {
      "name": "python3",
      "display_name": "Python 3"
    },
    "language_info": {
      "name": "python"
    }
  },
  "cells": [
    {
      "cell_type": "markdown",
      "source": [
        "# **LangChain**\n",
        "\n",
        "In the series of lectures, we have learnt how to use the OpenAI API to communicate with the OpenAI servers.\n",
        "\n",
        "Now, we learn how to harness the full potential of these LLM using LangChain which is a Python framework connecting these models to the outside \"world\" including external data sources (PDF, Websites) and giving it web browsing capabilties"
      ],
      "metadata": {
        "id": "EpfeKAeFRG0C"
      }
    },
    {
      "cell_type": "markdown",
      "source": [
        "**LC-2: What is LangChain**\n",
        "\n",
        "\n",
        "---\n",
        "\n",
        "\n",
        "LangChain offers a modular architecture that enables developers to easily combine different components, such as pre-trained language models and data storage systems, to build chatbots, automated writing assistants, and other natural language processing applications\n",
        "\n",
        "LangChain is built around several essential components, including models, prompts, memory, indexes, chains, and agents. Models in LangChain generate text, images, and other outputs in response to a given prompt, while agents utilize LLMs to determine the appropriate steps to take, such as conducting web searches or utilizing calculators."
      ],
      "metadata": {
        "id": "_TOIpOKgbsJz"
      }
    },
    {
      "cell_type": "markdown",
      "source": [
        "##LC-3: Prompting in LangChain"
      ],
      "metadata": {
        "id": "LTrf15GR_vtx"
      }
    },
    {
      "cell_type": "markdown",
      "source": [
        "##**Setting Up**\n",
        "\n",
        "---\n",
        "\n"
      ],
      "metadata": {
        "id": "RnAt4-pgdyBs"
      }
    },
    {
      "cell_type": "markdown",
      "source": [
        "```\n",
        "from langchain > 0.17, be sure to install langchain_openai\n",
        "```"
      ],
      "metadata": {
        "id": "TcDukJudd5J0"
      }
    },
    {
      "cell_type": "code",
      "execution_count": null,
      "metadata": {
        "id": "E4QrTc3vQ8Bc",
        "colab": {
          "base_uri": "https://localhost:8080/"
        },
        "outputId": "a9182883-bfbd-4065-8e83-1c5344ed9eb1"
      },
      "outputs": [
        {
          "output_type": "stream",
          "name": "stdout",
          "text": [
            "\u001b[2K     \u001b[90m━━━━━━━━━━━━━━━━━━━━━━━━━━━━━━━━━━━━━━━━\u001b[0m \u001b[32m267.1/267.1 kB\u001b[0m \u001b[31m1.6 MB/s\u001b[0m eta \u001b[36m0:00:00\u001b[0m\n",
            "\u001b[2K     \u001b[90m━━━━━━━━━━━━━━━━━━━━━━━━━━━━━━━━━━━━━━━━\u001b[0m \u001b[32m812.8/812.8 kB\u001b[0m \u001b[31m27.3 MB/s\u001b[0m eta \u001b[36m0:00:00\u001b[0m\n",
            "\u001b[2K     \u001b[90m━━━━━━━━━━━━━━━━━━━━━━━━━━━━━━━━━━━━━━━━\u001b[0m \u001b[32m75.6/75.6 kB\u001b[0m \u001b[31m6.1 MB/s\u001b[0m eta \u001b[36m0:00:00\u001b[0m\n",
            "\u001b[2K     \u001b[90m━━━━━━━━━━━━━━━━━━━━━━━━━━━━━━━━━━━━━━━━\u001b[0m \u001b[32m1.9/1.9 MB\u001b[0m \u001b[31m45.0 MB/s\u001b[0m eta \u001b[36m0:00:00\u001b[0m\n",
            "\u001b[2K     \u001b[90m━━━━━━━━━━━━━━━━━━━━━━━━━━━━━━━━━━━━━━━━\u001b[0m \u001b[32m276.8/276.8 kB\u001b[0m \u001b[31m22.0 MB/s\u001b[0m eta \u001b[36m0:00:00\u001b[0m\n",
            "\u001b[2K     \u001b[90m━━━━━━━━━━━━━━━━━━━━━━━━━━━━━━━━━━━━━━━━\u001b[0m \u001b[32m91.7/91.7 kB\u001b[0m \u001b[31m5.8 MB/s\u001b[0m eta \u001b[36m0:00:00\u001b[0m\n",
            "\u001b[2K     \u001b[90m━━━━━━━━━━━━━━━━━━━━━━━━━━━━━━━━━━━━━━━━\u001b[0m \u001b[32m1.8/1.8 MB\u001b[0m \u001b[31m34.8 MB/s\u001b[0m eta \u001b[36m0:00:00\u001b[0m\n",
            "\u001b[2K     \u001b[90m━━━━━━━━━━━━━━━━━━━━━━━━━━━━━━━━━━━━━━━━\u001b[0m \u001b[32m49.4/49.4 kB\u001b[0m \u001b[31m3.8 MB/s\u001b[0m eta \u001b[36m0:00:00\u001b[0m\n",
            "\u001b[2K     \u001b[90m━━━━━━━━━━━━━━━━━━━━━━━━━━━━━━━━━━━━━━━━\u001b[0m \u001b[32m77.9/77.9 kB\u001b[0m \u001b[31m7.0 MB/s\u001b[0m eta \u001b[36m0:00:00\u001b[0m\n",
            "\u001b[2K     \u001b[90m━━━━━━━━━━━━━━━━━━━━━━━━━━━━━━━━━━━━━━━━\u001b[0m \u001b[32m58.3/58.3 kB\u001b[0m \u001b[31m5.6 MB/s\u001b[0m eta \u001b[36m0:00:00\u001b[0m\n",
            "\u001b[2K     \u001b[90m━━━━━━━━━━━━━━━━━━━━━━━━━━━━━━━━━━━━━━━━\u001b[0m \u001b[32m53.0/53.0 kB\u001b[0m \u001b[31m3.4 MB/s\u001b[0m eta \u001b[36m0:00:00\u001b[0m\n",
            "\u001b[2K     \u001b[90m━━━━━━━━━━━━━━━━━━━━━━━━━━━━━━━━━━━━━━━━\u001b[0m \u001b[32m144.8/144.8 kB\u001b[0m \u001b[31m1.5 MB/s\u001b[0m eta \u001b[36m0:00:00\u001b[0m\n",
            "\u001b[?25h"
          ]
        }
      ],
      "source": [
        "# Installing all the dependencies\n",
        "!pip install -q openai langchain langchain_openai"
      ]
    },
    {
      "cell_type": "code",
      "source": [
        "from google.colab import userdata"
      ],
      "metadata": {
        "id": "97xPm7oCziVk"
      },
      "execution_count": null,
      "outputs": []
    },
    {
      "cell_type": "markdown",
      "source": [
        "## **Communicating with OpenAI Models**\n",
        "\n",
        "---\n",
        "\n"
      ],
      "metadata": {
        "id": "UxvbxhsqeQy7"
      }
    },
    {
      "cell_type": "markdown",
      "source": [
        "**Reference: https://python.langchain.com/docs/integrations/chat/openai**"
      ],
      "metadata": {
        "id": "l-mv6SRZmRS-"
      }
    },
    {
      "cell_type": "code",
      "source": [
        "from langchain.prompts.chat import (\n",
        "    ChatPromptTemplate,\n",
        "    HumanMessagePromptTemplate,\n",
        "    SystemMessagePromptTemplate,\n",
        ")\n",
        "from langchain.schema import HumanMessage, SystemMessage, AIMessage\n",
        "from langchain_openai import ChatOpenAI"
      ],
      "metadata": {
        "id": "X1kUMFwtUTQo"
      },
      "execution_count": null,
      "outputs": []
    },
    {
      "cell_type": "code",
      "source": [
        "# Initialise a connection with OpenAI using ChatOpenAI\n"
      ],
      "metadata": {
        "id": "aArq2fKjUdU-"
      },
      "execution_count": null,
      "outputs": []
    },
    {
      "cell_type": "code",
      "source": [
        "# Start the Prompting and assign the response to the variable called response\n"
      ],
      "metadata": {
        "id": "OIB9bkhgYWnr",
        "colab": {
          "base_uri": "https://localhost:8080/"
        },
        "outputId": "d19ed10a-7568-4797-bcae-85732ad9da18"
      },
      "execution_count": null,
      "outputs": [
        {
          "output_type": "stream",
          "name": "stdout",
          "text": [
            "In the heart of Singapore, where the kiasu spirit thrives,\n",
            "Lies a bustling wet market, where the vendors jive.\n",
            "From the crack of dawn till the sun sets low,\n",
            "The hawker aunties and uncles put on a show.\n",
            "\n",
            "\"Fresh fish, sotong, prawns, all very ho chiak,\n",
            "Come buy lah, don't play play, best price you can't hack.\"\n",
            "The sound of bargaining fills the humid air,\n",
            "As customers haggle for the best deal, without a care.\n",
            "\n",
            "The aroma of spices and herbs wafts around,\n",
            "As the makcik chops up veggies with a rhythmic sound.\n",
            "\"Chilli padi, garlic, ginger, all very shiok,\n",
            "Make your dishes power lah, no need to tok.\"\n",
            "\n",
            "The sound of sizzling woks and bubbling broths,\n",
            "Echo through the market, attracting hungry troths.\n",
            "\"Char kway teow, laksa, rojak, all very sedap,\n",
            "Eat until shiok, no need to tapau, just sap.\"\n",
            "\n",
            "Amidst the chaos and the hustle and bustle,\n",
            "The wet market in Singapore is a true tussle.\n",
            "But through it all, the spirit of kampong life,\n",
            "Thrives in this vibrant, lively, and bustling hive.\n"
          ]
        }
      ]
    },
    {
      "cell_type": "code",
      "source": [
        "response = chat.invoke(\n",
        "    [\n",
        "        SystemMessage(content=\"You are a tour guide who is going to recommend a dish to try in Singapore\"),\n",
        "        HumanMessage(content=\"What one dish should I try in Singapore today?\"),\n",
        "        AIMessage(content=\"Kaya Toast\"),\n",
        "    ]\n",
        ")\n",
        "print(response.content)"
      ],
      "metadata": {
        "id": "EueJ5IN6ZtMg",
        "colab": {
          "base_uri": "https://localhost:8080/"
        },
        "outputId": "9995c72c-8960-44fb-e4c9-2cb1d1f2eff0"
      },
      "execution_count": null,
      "outputs": [
        {
          "output_type": "stream",
          "name": "stdout",
          "text": [
            "A cup of traditional Singaporean kopi (coffee) or teh (tea) would be the perfect complement to your kaya toast. The strong and aromatic flavors of the coffee or tea pair beautifully with the sweet and creamy kaya spread on the toast. Enjoying a cup of kopi or teh alongside your kaya toast is a quintessential Singaporean breakfast experience.\n"
          ]
        }
      ]
    },
    {
      "cell_type": "markdown",
      "source": [
        "## **Prompts in LangChain**\n",
        "\n",
        "---"
      ],
      "metadata": {
        "id": "OaEumTCTlaMO"
      }
    },
    {
      "cell_type": "markdown",
      "source": [
        "Now that we have learnt how to use the OpenAI Models in the LangChain way, let's learn how to utilise the prompting features in LangChain"
      ],
      "metadata": {
        "id": "0UAlR66SxqqR"
      }
    },
    {
      "cell_type": "code",
      "source": [
        "from langchain_openai import OpenAI"
      ],
      "metadata": {
        "id": "4amkGQ2Ulo5O"
      },
      "execution_count": null,
      "outputs": []
    },
    {
      "cell_type": "code",
      "source": [
        "# Initialise the OpenAI Large Language Model to variable called llm\n"
      ],
      "metadata": {
        "id": "jDi3Hf9rlmoF"
      },
      "execution_count": null,
      "outputs": []
    },
    {
      "cell_type": "code",
      "source": [
        "# Use the llm with the invoke function and print its response\n"
      ],
      "metadata": {
        "id": "NnNCTa7ylfAo",
        "colab": {
          "base_uri": "https://localhost:8080/",
          "height": 52
        },
        "outputId": "a430d426-1340-4294-abcd-37be41e9fc6d"
      },
      "execution_count": null,
      "outputs": [
        {
          "output_type": "execute_result",
          "data": {
            "text/plain": [
              "\"\\n\\nIt's a divisive topic, but personally, I enjoy the sweet and tangy flavor of pineapples on pizza. However, I understand that it's not for everyone and respect different preferences.\""
            ],
            "application/vnd.google.colaboratory.intrinsic+json": {
              "type": "string"
            }
          },
          "metadata": {},
          "execution_count": 13
        }
      ]
    },
    {
      "cell_type": "markdown",
      "source": [
        "**Prompt Templates**"
      ],
      "metadata": {
        "id": "eNQH8LgenAP7"
      }
    },
    {
      "cell_type": "markdown",
      "source": [
        "Prompt Templates in LangChain serve to create dynamic prompts for language models.\n",
        "\n",
        "It consist of:\n",
        "\n",
        "`template`: Backbone template used for different prompting scenarios\n",
        "\n",
        "`input_variables`: words to change in the template"
      ],
      "metadata": {
        "id": "DL-IJtWgy-_W"
      }
    },
    {
      "cell_type": "code",
      "source": [
        "from langchain.prompts import PromptTemplate"
      ],
      "metadata": {
        "id": "30JrRTZdnDPn"
      },
      "execution_count": null,
      "outputs": []
    },
    {
      "cell_type": "code",
      "source": [
        "# Create a template for and use set up a Prompt Template\n",
        "template = \"You are a professional giving advise in the {field}\"\n",
        "prompt = PromptTemplate(template = template, input_variables=[\"field\"])"
      ],
      "metadata": {
        "id": "CVkJ0tknvyrp"
      },
      "execution_count": null,
      "outputs": []
    },
    {
      "cell_type": "code",
      "source": [
        "new_template = \"You are a poet creator creating poem in this {place}\"\n"
      ],
      "metadata": {
        "id": "kNmDYDa35Fuz"
      },
      "execution_count": null,
      "outputs": []
    },
    {
      "cell_type": "markdown",
      "source": [
        "**Chains in LangChain**\n",
        "\n",
        "Chaining is a key concept used to define sequences of calls, which can include calls to a LLM's, tool (e.g. access the  web) , or a data preprocessing step (e.g. connect to our own documents).\n",
        "\n",
        "Chains in LangChain allow you to include these different features to create applications specific to your own use case.\n",
        "\n",
        "Understanding Chains\n",
        "\n",
        "* `LLMChain`: LLM chain takes a prompt template, formats it with user input, and returns the response from a large language model (LLM)."
      ],
      "metadata": {
        "id": "dD5AdgRW3vu-"
      }
    },
    {
      "cell_type": "code",
      "source": [
        "from langchain.chains import LLMChain"
      ],
      "metadata": {
        "id": "VznaIRWsvtgx"
      },
      "execution_count": null,
      "outputs": []
    },
    {
      "cell_type": "code",
      "source": [
        "llm = OpenAI(openai_api_key = userdata.get(\"OPENAI_API_KEY\"))"
      ],
      "metadata": {
        "id": "9XHzzj_NwCN2"
      },
      "execution_count": null,
      "outputs": []
    },
    {
      "cell_type": "code",
      "source": [
        "# Create an instance of LLM Chain taking in a prompt template and llm as it parameters\n",
        "llm_chain = LLMChain(prompt = prompt, llm = llm)"
      ],
      "metadata": {
        "id": "hHKVoM2qwEPB"
      },
      "execution_count": null,
      "outputs": []
    },
    {
      "cell_type": "code",
      "source": [
        "# Use the chain and print its response\n"
      ],
      "metadata": {
        "id": "dsWt29rawJaw",
        "colab": {
          "base_uri": "https://localhost:8080/"
        },
        "outputId": "dc627ad7-41d9-4872-c825-d0de995e3421"
      },
      "execution_count": null,
      "outputs": [
        {
          "output_type": "stream",
          "name": "stdout",
          "text": [
            "\n",
            "\n",
            "Amidst the hustle and bustle of the city\n",
            "Lies a vibrant and colorful community\n",
            "Where cultures blend and stories unfold\n",
            "In the heart of Singapore's Chinatown old\n",
            "\n",
            "The aroma of spices fills the air\n",
            "As vendors sell their wares with flair\n",
            "From dim sum to noodles to roasted duck\n",
            "Every bite is a taste of luck\n",
            "\n",
            "The lanterns above, red and gold\n",
            "Guiding us through these streets of old\n",
            "Where traditional shophouses stand tall\n",
            "And history echoes through it all\n",
            "\n",
            "The sound of drums and lion dance\n",
            "Brings luck and prosperity with every stance\n",
            "Amidst the crowds, the temples stand\n",
            "A place of solace in this busy land\n",
            "\n",
            "From the Buddha Tooth Relic Temple to the Sri Mariamman\n",
            "Each one holds a story, a piece of the clan\n",
            "Where prayers are whispered and incense burns\n",
            "And a sense of peace within us churns\n",
            "\n",
            "As night falls, the streets come alive\n",
            "With street performers and music that thrive\n",
            "The energy here is contagious and bright\n",
            "A true reflection of this city's might\n",
            "\n",
            "Amidst the modern skyscrapers and gleaming malls\n",
            "Chinatown remains a cultural gem, standing tall\n",
            "A place where past and present intertwine\n",
            "In this\n"
          ]
        }
      ]
    }
  ]
}