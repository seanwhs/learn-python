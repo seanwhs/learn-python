{
 "cells": [
  {
   "cell_type": "code",
   "execution_count": 1,
   "metadata": {},
   "outputs": [],
   "source": [
    "import numpy as np"
   ]
  },
  {
   "cell_type": "code",
   "execution_count": 3,
   "metadata": {},
   "outputs": [
    {
     "name": "stdout",
     "output_type": "stream",
     "text": [
      "[0 0 0 1]\n",
      "[0 1 1 1]\n",
      "[0 1 1 0]\n",
      "[255 254 255 254]\n"
     ]
    }
   ],
   "source": [
    "x = np.array([0, 1, 0, 1], np.uint8)\n",
    "y = np.array([0, 0, 1, 1], np.uint8)\n",
    "\n",
    "print(np.bitwise_and(x, y))\n",
    "print(np.bitwise_or(x, y))\n",
    "print(np.bitwise_xor(x, y))\n",
    "print(np.bitwise_not(x))"
   ]
  },
  {
   "cell_type": "code",
   "execution_count": 4,
   "metadata": {},
   "outputs": [
    {
     "data": {
      "text/plain": [
       "array([2, 4, 5, 5, 2, 4, 8, 7, 1, 3])"
      ]
     },
     "execution_count": 4,
     "metadata": {},
     "output_type": "execute_result"
    }
   ],
   "source": [
    "x = np.random.randint( low = 0, high = 9, size = 10 )\n",
    "x"
   ]
  },
  {
   "cell_type": "code",
   "execution_count": 5,
   "metadata": {},
   "outputs": [
    {
     "data": {
      "text/plain": [
       "array([[0.49057516, 0.14961487, 0.6973665 ],\n",
       "       [0.22814399, 0.43431675, 0.6211095 ],\n",
       "       [0.25335465, 0.61728774, 0.21234068]])"
      ]
     },
     "execution_count": 5,
     "metadata": {},
     "output_type": "execute_result"
    }
   ],
   "source": [
    "x = np.random.rand(3, 3)\n",
    "x"
   ]
  },
  {
   "cell_type": "code",
   "execution_count": 6,
   "metadata": {},
   "outputs": [
    {
     "data": {
      "text/plain": [
       "array([[0.93240677, 0.61761159, 0.26479094, ..., 0.12273103, 0.36482046,\n",
       "        0.73640916],\n",
       "       [0.96100332, 0.75901093, 0.90206298, ..., 0.92841883, 0.59323272,\n",
       "        0.27948827],\n",
       "       [0.91910026, 0.22816148, 0.71076503, ..., 0.24223247, 0.66810472,\n",
       "        0.57630375],\n",
       "       ...,\n",
       "       [0.47006924, 0.00742056, 0.87758324, ..., 0.77672237, 0.64833003,\n",
       "        0.36744957],\n",
       "       [0.19210458, 0.46801781, 0.64517326, ..., 0.77662456, 0.9566732 ,\n",
       "        0.75818291],\n",
       "       [0.63754803, 0.00337392, 0.37584052, ..., 0.5826088 , 0.61616659,\n",
       "        0.61546871]])"
      ]
     },
     "execution_count": 6,
     "metadata": {},
     "output_type": "execute_result"
    }
   ],
   "source": [
    "x = np.random.rand(100, 100)\n",
    "x"
   ]
  },
  {
   "cell_type": "code",
   "execution_count": 7,
   "metadata": {},
   "outputs": [
    {
     "data": {
      "text/plain": [
       "(100, 100)"
      ]
     },
     "execution_count": 7,
     "metadata": {},
     "output_type": "execute_result"
    }
   ],
   "source": [
    "x.shape"
   ]
  },
  {
   "cell_type": "code",
   "execution_count": 8,
   "metadata": {},
   "outputs": [
    {
     "data": {
      "text/plain": [
       "(5, 5, 5)"
      ]
     },
     "execution_count": 8,
     "metadata": {},
     "output_type": "execute_result"
    }
   ],
   "source": [
    "x = np.random.rand(5, 5, 5)\n",
    "x.shape"
   ]
  },
  {
   "cell_type": "code",
   "execution_count": 9,
   "metadata": {},
   "outputs": [
    {
     "data": {
      "text/plain": [
       "array([[[0.14761206, 0.3210426 , 0.9530574 , 0.50490507, 0.14041287],\n",
       "        [0.64161894, 0.23258414, 0.10413331, 0.85171914, 0.12945882],\n",
       "        [0.3861122 , 0.61259226, 0.1702914 , 0.15460448, 0.06794291],\n",
       "        [0.62913523, 0.88175586, 0.05929762, 0.48821379, 0.02134197],\n",
       "        [0.28009306, 0.96661295, 0.25518584, 0.84626432, 0.09020379]],\n",
       "\n",
       "       [[0.92461414, 0.67820662, 0.26376146, 0.36943004, 0.37258462],\n",
       "        [0.88912395, 0.57133179, 0.96182999, 0.32102698, 0.97686475],\n",
       "        [0.46027824, 0.78410888, 0.85038369, 0.6197107 , 0.40664024],\n",
       "        [0.02516661, 0.11668024, 0.92744596, 0.41097013, 0.07878203],\n",
       "        [0.20206186, 0.76778445, 0.16195373, 0.90296524, 0.53408874]],\n",
       "\n",
       "       [[0.17571356, 0.29379613, 0.80862533, 0.96145606, 0.6900998 ],\n",
       "        [0.00198376, 0.07183378, 0.08882742, 0.58719604, 0.53353094],\n",
       "        [0.69623007, 0.63220248, 0.04574714, 0.1092979 , 0.18120184],\n",
       "        [0.36093292, 0.87199195, 0.30257104, 0.25464192, 0.2147597 ],\n",
       "        [0.99947819, 0.76900771, 0.88368413, 0.79319366, 0.20190681]],\n",
       "\n",
       "       [[0.21217403, 0.36029617, 0.51830263, 0.01588453, 0.1505578 ],\n",
       "        [0.56678142, 0.26850957, 0.06071446, 0.55702444, 0.030794  ],\n",
       "        [0.09639599, 0.13713622, 0.4411983 , 0.74978299, 0.05154552],\n",
       "        [0.0896086 , 0.75174469, 0.13149479, 0.83873026, 0.25970826],\n",
       "        [0.19726901, 0.15124107, 0.86122244, 0.78970548, 0.52858879]],\n",
       "\n",
       "       [[0.77679244, 0.19574606, 0.24431838, 0.05828254, 0.74025718],\n",
       "        [0.09422967, 0.95441449, 0.50455292, 0.87659187, 0.28807056],\n",
       "        [0.14073904, 0.06241519, 0.88792925, 0.76410368, 0.38282696],\n",
       "        [0.47978806, 0.54604555, 0.6597287 , 0.47804704, 0.511933  ],\n",
       "        [0.52201002, 0.62899617, 0.18418466, 0.51180142, 0.47369832]]])"
      ]
     },
     "execution_count": 9,
     "metadata": {},
     "output_type": "execute_result"
    }
   ],
   "source": [
    "x"
   ]
  },
  {
   "cell_type": "code",
   "execution_count": 10,
   "metadata": {},
   "outputs": [
    {
     "data": {
      "text/plain": [
       "array([5, 7, 3, 6, 6, 1, 9, 0, 2, 0])"
      ]
     },
     "execution_count": 10,
     "metadata": {},
     "output_type": "execute_result"
    }
   ],
   "source": [
    "x = np.random.randint( low = 0, high = 10, size = 10 )\n",
    "x"
   ]
  },
  {
   "cell_type": "code",
   "execution_count": 11,
   "metadata": {},
   "outputs": [
    {
     "data": {
      "text/plain": [
       "4.0"
      ]
     },
     "execution_count": 11,
     "metadata": {},
     "output_type": "execute_result"
    }
   ],
   "source": [
    "np.median(x)"
   ]
  },
  {
   "cell_type": "code",
   "execution_count": 12,
   "metadata": {},
   "outputs": [
    {
     "data": {
      "text/plain": [
       "3.9"
      ]
     },
     "execution_count": 12,
     "metadata": {},
     "output_type": "execute_result"
    }
   ],
   "source": [
    "np.average(x)"
   ]
  },
  {
   "cell_type": "code",
   "execution_count": 13,
   "metadata": {},
   "outputs": [
    {
     "data": {
      "text/plain": [
       "3.9"
      ]
     },
     "execution_count": 13,
     "metadata": {},
     "output_type": "execute_result"
    }
   ],
   "source": [
    "np.mean(x)"
   ]
  },
  {
   "cell_type": "code",
   "execution_count": null,
   "metadata": {},
   "outputs": [],
   "source": [
    "np.median(x)"
   ]
  }
 ],
 "metadata": {
  "kernelspec": {
   "display_name": "Python 3",
   "language": "python",
   "name": "python3"
  },
  "language_info": {
   "codemirror_mode": {
    "name": "ipython",
    "version": 3
   },
   "file_extension": ".py",
   "mimetype": "text/x-python",
   "name": "python",
   "nbconvert_exporter": "python",
   "pygments_lexer": "ipython3",
   "version": "3.8.3"
  }
 },
 "nbformat": 4,
 "nbformat_minor": 2
}
