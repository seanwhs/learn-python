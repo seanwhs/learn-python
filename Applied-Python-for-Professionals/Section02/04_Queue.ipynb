{
 "cells": [
  {
   "cell_type": "code",
   "execution_count": null,
   "id": "aea56e11",
   "metadata": {},
   "outputs": [],
   "source": [
    "queue = []\n",
    "\n",
    "queue.append('a')\n",
    "\n",
    "print(queue)"
   ]
  },
  {
   "cell_type": "code",
   "execution_count": null,
   "id": "c5e87d5e",
   "metadata": {},
   "outputs": [],
   "source": [
    "queue.append('b')\n",
    "queue.append('c')"
   ]
  },
  {
   "cell_type": "code",
   "execution_count": null,
   "id": "9a7f8644",
   "metadata": {},
   "outputs": [],
   "source": [
    "print(queue)"
   ]
  },
  {
   "cell_type": "code",
   "execution_count": null,
   "id": "2aebf344",
   "metadata": {},
   "outputs": [],
   "source": [
    "print(queue.pop(0))"
   ]
  },
  {
   "cell_type": "code",
   "execution_count": null,
   "id": "ac716937",
   "metadata": {},
   "outputs": [],
   "source": [
    "print(queue)"
   ]
  },
  {
   "cell_type": "code",
   "execution_count": null,
   "id": "d564ff41",
   "metadata": {},
   "outputs": [],
   "source": [
    "print(queue.pop(0))"
   ]
  },
  {
   "cell_type": "code",
   "execution_count": null,
   "id": "21aecb9d",
   "metadata": {},
   "outputs": [],
   "source": [
    "print(queue.pop(0))"
   ]
  },
  {
   "cell_type": "code",
   "execution_count": null,
   "id": "7ba1d624",
   "metadata": {},
   "outputs": [],
   "source": [
    "print(queue)"
   ]
  },
  {
   "cell_type": "code",
   "execution_count": null,
   "id": "b57b6f9a",
   "metadata": {},
   "outputs": [],
   "source": [
    "print(queue.pop(0))"
   ]
  },
  {
   "cell_type": "code",
   "execution_count": 1,
   "id": "ed47a958",
   "metadata": {},
   "outputs": [],
   "source": [
    "from queue import Queue"
   ]
  },
  {
   "cell_type": "code",
   "execution_count": 2,
   "id": "b5f2288f",
   "metadata": {},
   "outputs": [],
   "source": [
    "q = Queue(maxsize=3)"
   ]
  },
  {
   "cell_type": "code",
   "execution_count": 3,
   "id": "cddb7800",
   "metadata": {},
   "outputs": [
    {
     "data": {
      "text/plain": [
       "0"
      ]
     },
     "execution_count": 3,
     "metadata": {},
     "output_type": "execute_result"
    }
   ],
   "source": [
    "q.qsize()"
   ]
  },
  {
   "cell_type": "code",
   "execution_count": 4,
   "id": "4cb53c0a",
   "metadata": {},
   "outputs": [],
   "source": [
    "q.put('a')\n",
    "q.put('b')\n",
    "q.put('c')"
   ]
  },
  {
   "cell_type": "code",
   "execution_count": 5,
   "id": "7d9446eb",
   "metadata": {},
   "outputs": [
    {
     "name": "stdout",
     "output_type": "stream",
     "text": [
      "<queue.Queue object at 0x00000268C54421C0>\n"
     ]
    }
   ],
   "source": [
    "print(q)"
   ]
  },
  {
   "cell_type": "code",
   "execution_count": 6,
   "id": "deeeb374",
   "metadata": {},
   "outputs": [
    {
     "name": "stdout",
     "output_type": "stream",
     "text": [
      "True\n"
     ]
    }
   ],
   "source": [
    "print(q.full())"
   ]
  },
  {
   "cell_type": "code",
   "execution_count": 7,
   "id": "5600e2c3",
   "metadata": {},
   "outputs": [
    {
     "name": "stdout",
     "output_type": "stream",
     "text": [
      "a\n"
     ]
    }
   ],
   "source": [
    "print(q.get())"
   ]
  },
  {
   "cell_type": "code",
   "execution_count": 8,
   "id": "2ba43829",
   "metadata": {},
   "outputs": [
    {
     "name": "stdout",
     "output_type": "stream",
     "text": [
      "b\n"
     ]
    }
   ],
   "source": [
    "print(q.get())"
   ]
  },
  {
   "cell_type": "code",
   "execution_count": 9,
   "id": "786fafc6",
   "metadata": {},
   "outputs": [
    {
     "name": "stdout",
     "output_type": "stream",
     "text": [
      "c\n"
     ]
    }
   ],
   "source": [
    "print(q.get())"
   ]
  },
  {
   "cell_type": "code",
   "execution_count": 10,
   "id": "9d626c52",
   "metadata": {},
   "outputs": [
    {
     "name": "stdout",
     "output_type": "stream",
     "text": [
      "True\n"
     ]
    }
   ],
   "source": [
    "print(q.empty())"
   ]
  },
  {
   "cell_type": "code",
   "execution_count": 11,
   "id": "c21b9b9c",
   "metadata": {},
   "outputs": [],
   "source": [
    "q.put(1)"
   ]
  },
  {
   "cell_type": "code",
   "execution_count": 12,
   "id": "42e6f4cb",
   "metadata": {},
   "outputs": [
    {
     "name": "stdout",
     "output_type": "stream",
     "text": [
      "False\n",
      "False\n"
     ]
    }
   ],
   "source": [
    "print(q.empty())\n",
    "print(q.full())"
   ]
  },
  {
   "cell_type": "code",
   "execution_count": null,
   "id": "fed3bf02",
   "metadata": {},
   "outputs": [],
   "source": []
  }
 ],
 "metadata": {
  "kernelspec": {
   "display_name": "Python 3",
   "language": "python",
   "name": "python3"
  },
  "language_info": {
   "codemirror_mode": {
    "name": "ipython",
    "version": 3
   },
   "file_extension": ".py",
   "mimetype": "text/x-python",
   "name": "python",
   "nbconvert_exporter": "python",
   "pygments_lexer": "ipython3",
   "version": "3.9.4"
  }
 },
 "nbformat": 4,
 "nbformat_minor": 5
}
