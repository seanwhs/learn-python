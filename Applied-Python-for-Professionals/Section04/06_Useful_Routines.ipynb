{
 "cells": [
  {
   "cell_type": "code",
   "execution_count": 1,
   "id": "2fab2a05",
   "metadata": {},
   "outputs": [],
   "source": [
    "from scipy import signal\n",
    "import numpy as np"
   ]
  },
  {
   "cell_type": "code",
   "execution_count": 2,
   "id": "f1aa6434",
   "metadata": {},
   "outputs": [],
   "source": [
    "a = b = np.arange(25).reshape((5, 5))"
   ]
  },
  {
   "cell_type": "code",
   "execution_count": 3,
   "id": "9c6df79d",
   "metadata": {},
   "outputs": [
    {
     "data": {
      "text/plain": [
       "array([[   0,    0,    1,    4,   10,   20,   25,   24,   16],\n",
       "       [   0,   10,   32,   68,  120,  140,  140,  118,   72],\n",
       "       [  25,   80,  168,  292,  455,  460,  420,  332,  193],\n",
       "       [ 100,  260,  484,  776, 1140, 1080,  940,  716,  404],\n",
       "       [ 250,  600, 1055, 1620, 2300, 2100, 1775, 1320,  730],\n",
       "       [ 500, 1100, 1804, 2616, 3540, 3080, 2500, 1796,  964],\n",
       "       [ 625, 1340, 2148, 3052, 4055, 3460, 2760, 1952, 1033],\n",
       "       [ 600, 1270, 2012, 2828, 3720, 3140, 2480, 1738,  912],\n",
       "       [ 400,  840, 1321, 1844, 2410, 2020, 1585, 1104,  576]])"
      ]
     },
     "execution_count": 3,
     "metadata": {},
     "output_type": "execute_result"
    }
   ],
   "source": [
    "signal.convolve2d(a, b)"
   ]
  },
  {
   "cell_type": "code",
   "execution_count": 4,
   "id": "4771cc4e",
   "metadata": {},
   "outputs": [
    {
     "data": {
      "text/plain": [
       "array([[   0,   24,   71,  140,  230,  220,  191,  144,   80],\n",
       "       [ 120,  278,  472,  700,  960,  820,  652,  458,  240],\n",
       "       [ 335,  712, 1128, 1580, 2065, 1700, 1308,  892,  455],\n",
       "       [ 620, 1276, 1964, 2680, 3420, 2760, 2084, 1396,  700],\n",
       "       [ 950, 1920, 2905, 3900, 4900, 3900, 2905, 1920,  950],\n",
       "       [ 700, 1396, 2084, 2760, 3420, 2680, 1964, 1276,  620],\n",
       "       [ 455,  892, 1308, 1700, 2065, 1580, 1128,  712,  335],\n",
       "       [ 240,  458,  652,  820,  960,  700,  472,  278,  120],\n",
       "       [  80,  144,  191,  220,  230,  140,   71,   24,    0]])"
      ]
     },
     "execution_count": 4,
     "metadata": {},
     "output_type": "execute_result"
    }
   ],
   "source": [
    "signal.correlate2d(a, b)"
   ]
  },
  {
   "cell_type": "code",
   "execution_count": 5,
   "id": "8557c4a3",
   "metadata": {},
   "outputs": [],
   "source": [
    "a = b = np.arange(125).reshape((5, 5, 5))"
   ]
  },
  {
   "cell_type": "code",
   "execution_count": 6,
   "id": "fc731c74",
   "metadata": {},
   "outputs": [
    {
     "data": {
      "text/plain": [
       "array([[[     0,      0,      1,      4,     10,     20,     25,     24,\n",
       "             16],\n",
       "        [     0,     10,     32,     68,    120,    140,    140,    118,\n",
       "             72],\n",
       "        [    25,     80,    168,    292,    455,    460,    420,    332,\n",
       "            193],\n",
       "        [   100,    260,    484,    776,   1140,   1080,    940,    716,\n",
       "            404],\n",
       "        [   250,    600,   1055,   1620,   2300,   2100,   1775,   1320,\n",
       "            730],\n",
       "        [   500,   1100,   1804,   2616,   3540,   3080,   2500,   1796,\n",
       "            964],\n",
       "        [   625,   1340,   2148,   3052,   4055,   3460,   2760,   1952,\n",
       "           1033],\n",
       "        [   600,   1270,   2012,   2828,   3720,   3140,   2480,   1738,\n",
       "            912],\n",
       "        [   400,    840,   1321,   1844,   2410,   2020,   1585,   1104,\n",
       "            576]],\n",
       "\n",
       "       [[     0,     50,    152,    308,    520,    540,    500,    398,\n",
       "            232],\n",
       "        [   250,    620,   1114,   1736,   2490,   2280,   1930,   1436,\n",
       "            794],\n",
       "        [   800,   1810,   3036,   4484,   6160,   5420,   4440,   3214,\n",
       "           1736],\n",
       "        [  1700,   3720,   6068,   8752,  11780,  10160,   8180,   5832,\n",
       "           3108],\n",
       "        [  3000,   6450,  10360,  14740,  19600,  16700,  13300,   9390,\n",
       "           4960],\n",
       "        [  3500,   7400,  11708,  16432,  21580,  18160,  14300,   9992,\n",
       "           5228],\n",
       "        [  3500,   7330,  11496,  16004,  20860,  17420,  13620,   9454,\n",
       "           4916],\n",
       "        [  2950,   6140,   9574,  13256,  17190,  14280,  11110,   7676,\n",
       "           3974],\n",
       "        [  1800,   3730,   5792,   7988,  10320,   8540,   6620,   4558,\n",
       "           2352]],\n",
       "\n",
       "       [[   625,   1400,   2328,   3412,   4655,   4060,   3300,   2372,\n",
       "           1273],\n",
       "        [  2000,   4330,   6996,  10004,  13360,  11420,   9120,   6454,\n",
       "           3416],\n",
       "        [  4200,   8940,  14229,  20076,  26490,  22380,  17685,  12396,\n",
       "           6504],\n",
       "        [  7300,  15380,  24252,  33928,  44420,  37240,  29220,  20348,\n",
       "          10612],\n",
       "        [ 11375,  23800,  37290,  51860,  67525,  56300,  43950,  30460,\n",
       "          15815],\n",
       "        [ 11500,  23900,  37212,  51448,  66620,  55240,  42900,  29588,\n",
       "          15292],\n",
       "        [ 10500,  21720,  33669,  46356,  59790,  49380,  38205,  26256,\n",
       "          13524],\n",
       "        [  8300,  17110,  26436,  36284,  46660,  38420,  29640,  20314,\n",
       "          10436],\n",
       "        [  4825,   9920,  15288,  20932,  26855,  22060,  16980,  11612,\n",
       "           5953]],\n",
       "\n",
       "       [[  2500,   5300,   8404,  11816,  15540,  13080,  10300,   7196,\n",
       "           3764],\n",
       "        [  6500,  13640,  21428,  29872,  38980,  32560,  25460,  17672,\n",
       "           9188],\n",
       "        [ 12100,  25220,  39372,  54568,  70820,  58840,  45780,  31628,\n",
       "          16372],\n",
       "        [ 19400,  40240,  62536,  86304, 111560,  92320,  71560,  49264,\n",
       "          25416],\n",
       "        [ 28500,  58900,  91220, 125480, 161700, 133400, 103100,  70780,\n",
       "          36420],\n",
       "        [ 27000,  55600,  85816, 117664, 151160, 124320,  95800,  65584,\n",
       "          33656],\n",
       "        [ 23500,  48260,  74292, 101608, 130220, 106840,  82140,  56108,\n",
       "          28732],\n",
       "        [ 17900,  36680,  56348,  76912,  98380,  80560,  61820,  42152,\n",
       "          21548],\n",
       "        [ 10100,  20660,  31684,  43176,  55140,  45080,  34540,  23516,\n",
       "          12004]],\n",
       "\n",
       "       [[  6250,  13000,  20255,  28020,  36300,  30100,  23375,  16120,\n",
       "           8330],\n",
       "        [ 15000,  31050,  48160,  66340,  85600,  70700,  54700,  37590,\n",
       "          19360],\n",
       "        [ 26375,  54400,  84090, 115460, 148525, 122300,  94350,  64660,\n",
       "          33215],\n",
       "        [ 40500,  83300, 128420, 175880, 225700, 185400, 142700,  97580,\n",
       "          50020],\n",
       "        [ 57500, 118000, 181525, 248100, 317750, 260500, 200125, 136600,\n",
       "          69900],\n",
       "        [ 52500, 107500, 165020, 225080, 287700, 235400, 180500, 122980,\n",
       "          62820],\n",
       "        [ 44375,  90700, 138990, 189260, 241525, 197300, 151050, 102760,\n",
       "          52415],\n",
       "        [ 33000,  67350, 103060, 140140, 178600, 145700, 111400,  75690,\n",
       "          38560],\n",
       "        [ 18250,  37200,  56855,  77220,  98300,  80100,  61175,  41520,\n",
       "          21130]],\n",
       "\n",
       "       [[ 12500,  25500,  39004,  53016,  67540,  55080,  42100,  28596,\n",
       "          14564],\n",
       "        [ 27500,  56040,  85628, 116272, 147980, 120560,  92060,  62472,\n",
       "          31788],\n",
       "        [ 45100,  91820, 140172, 190168, 241820, 196840, 150180, 101828,\n",
       "          51772],\n",
       "        [ 65400, 133040, 202936, 275104, 349560, 284320, 216760, 146864,\n",
       "          74616],\n",
       "        [ 88500, 179900, 274220, 371480, 471700, 383400, 292100, 197780,\n",
       "         100420],\n",
       "        [ 77000, 156400, 238216, 322464, 409160, 332320, 253000, 171184,\n",
       "          86856],\n",
       "        [ 62500, 126860, 193092, 261208, 331220, 268840, 204540, 138308,\n",
       "          70132],\n",
       "        [ 44900,  91080, 138548, 187312, 237380, 192560, 146420,  98952,\n",
       "          50148],\n",
       "        [ 24100,  48860,  74284, 100376, 127140, 103080,  78340,  52916,\n",
       "          26804]],\n",
       "\n",
       "       [[ 15625,  31700,  48228,  65212,  82655,  67060,  51000,  34472,\n",
       "          17473],\n",
       "        [ 33500,  67930, 103296, 139604, 176860, 143420, 109020,  73654,\n",
       "          37316],\n",
       "        [ 53700, 108840, 165429, 223476, 282990, 229380, 174285, 117696,\n",
       "          59604],\n",
       "        [ 76300, 154580, 234852, 317128, 401420, 325240, 247020, 166748,\n",
       "          84412],\n",
       "        [101375, 205300, 311790, 420860, 532525, 431300, 327450, 220960,\n",
       "         111815],\n",
       "        [ 86500, 175100, 265812, 358648, 453620, 367240, 278700, 187988,\n",
       "          95092],\n",
       "        [ 69000, 139620, 211869, 285756, 361290, 292380, 221805, 149556,\n",
       "          75624],\n",
       "        [ 48800,  98710, 149736, 201884, 255160, 206420, 156540, 105514,\n",
       "          53336],\n",
       "        [ 25825,  52220,  79188, 106732, 134855, 109060,  82680,  55712,\n",
       "          28153]],\n",
       "\n",
       "       [[ 15000,  30350,  46052,  62108,  78520,  63540,  48200,  32498,\n",
       "          16432],\n",
       "        [ 31750,  64220,  97414, 131336, 165990, 134280, 101830,  68636,\n",
       "          34694],\n",
       "        [ 50300, 101710, 154236, 207884, 262660, 212420, 161040, 108514,\n",
       "          54836],\n",
       "        [ 70700, 142920, 216668, 291952, 368780, 298160, 225980, 152232,\n",
       "          76908],\n",
       "        [ 93000, 187950, 284860, 383740, 484600, 391700, 296800, 199890,\n",
       "         100960],\n",
       "        [ 78500, 158600, 240308, 323632, 408580, 330160, 250100, 168392,\n",
       "          85028],\n",
       "        [ 62000, 125230, 189696, 255404, 322360, 260420, 197220, 132754,\n",
       "          67016],\n",
       "        [ 43450,  87740, 132874, 178856, 225690, 182280, 138010,  92876,\n",
       "          46874],\n",
       "        [ 22800,  46030,  69692,  93788, 118320,  95540,  72320,  48658,\n",
       "          24552]],\n",
       "\n",
       "       [[ 10000,  20200,  30601,  41204,  52010,  42020,  31825,  21424,\n",
       "          10816],\n",
       "        [ 21000,  42410,  64232,  86468, 109120,  88140,  66740,  44918,\n",
       "          22672],\n",
       "        [ 33025,  66680, 100968, 135892, 171455, 138460, 104820,  70532,\n",
       "          35593],\n",
       "        [ 46100,  93060, 140884, 189576, 239140, 193080, 146140,  98316,\n",
       "          49604],\n",
       "        [ 60250, 121600, 184055, 247620, 312300, 252100, 190775, 128320,\n",
       "          64730],\n",
       "        [ 50500, 101900, 154204, 207416, 261540, 211080, 159700, 107396,\n",
       "          54164],\n",
       "        [ 39625,  79940, 120948, 162652, 205055, 165460, 125160,  84152,\n",
       "          42433],\n",
       "        [ 27600,  55670,  84212, 113228, 142720, 115140,  87080,  58538,\n",
       "          29512],\n",
       "        [ 14400,  29040,  43921,  59044,  74410,  60020,  45385,  30504,\n",
       "          15376]]])"
      ]
     },
     "execution_count": 6,
     "metadata": {},
     "output_type": "execute_result"
    }
   ],
   "source": [
    "signal.convolve(a, b)"
   ]
  },
  {
   "cell_type": "code",
   "execution_count": 7,
   "id": "d8046720",
   "metadata": {},
   "outputs": [
    {
     "data": {
      "text/plain": [
       "array([[[     0,    124,    371,    740,   1230,   1220,   1091,    844,\n",
       "            480],\n",
       "        [   620,   1478,   2572,   3900,   5460,   4820,   3952,   2858,\n",
       "           1540],\n",
       "        [  1835,   4012,   6528,   9380,  12565,  10700,   8508,   5992,\n",
       "           3155],\n",
       "        [  3620,   7676,  12164,  17080,  22420,  18760,  14684,  10196,\n",
       "           5300],\n",
       "        [  5950,  12420,  19405,  26900,  34900,  28900,  22405,  15420,\n",
       "           7950],\n",
       "        [  5700,  11796,  18284,  25160,  32420,  26680,  20564,  14076,\n",
       "           7220],\n",
       "        [  4955,  10192,  15708,  21500,  27565,  22580,  17328,  11812,\n",
       "           6035],\n",
       "        [  3740,   7658,  11752,  16020,  20460,  16700,  12772,   8678,\n",
       "           4420],\n",
       "        [  2080,   4244,   6491,   8820,  11230,   9140,   6971,   4724,\n",
       "           2400]],\n",
       "\n",
       "       [[  3100,   6398,   9892,  13580,  17460,  14340,  11032,   7538,\n",
       "           3860],\n",
       "        [  7190,  14756,  22694,  31000,  39670,  32440,  24854,  16916,\n",
       "           8630],\n",
       "        [ 12220,  24974,  38256,  52060,  66380,  54100,  41316,  28034,\n",
       "          14260],\n",
       "        [ 18140,  36952,  56428,  76560,  97340,  79120,  60268,  40792,\n",
       "          20700],\n",
       "        [ 24900,  50590,  77060, 104300, 132300, 107300,  81560,  55090,\n",
       "          27900],\n",
       "        [ 21300,  43192,  65668,  88720, 112340,  90960,  69028,  46552,\n",
       "          23540],\n",
       "        [ 16960,  34334,  52116,  70300,  88880,  71860,  54456,  36674,\n",
       "          18520],\n",
       "        [ 11930,  24116,  36554,  49240,  62170,  50200,  37994,  25556,\n",
       "          12890],\n",
       "        [  6260,  12638,  19132,  25740,  32460,  26180,  19792,  13298,\n",
       "           6700]],\n",
       "\n",
       "       [[  8675,  17572,  26688,  36020,  45565,  36860,  27948,  18832,\n",
       "           9515],\n",
       "        [ 18460,  37334,  56616,  76300,  96380,  77860,  58956,  39674,\n",
       "          20020],\n",
       "        [ 29280,  59136,  89559, 120540, 152070, 122700,  92799,  62376,\n",
       "          31440],\n",
       "        [ 41060,  82828, 125292, 168440, 212260, 171080, 129252,  86788,\n",
       "          43700],\n",
       "        [ 53725, 108260, 163590, 219700, 276575, 222700, 168090, 112760,\n",
       "          56725],\n",
       "        [ 44300,  89188, 134652, 180680, 227260, 182840, 137892,  92428,\n",
       "          46460],\n",
       "        [ 34140,  68676, 103599, 138900, 174570, 140340, 105759,  70836,\n",
       "          35580],\n",
       "        [ 23320,  46874,  70656,  94660, 118880,  95500,  71916,  48134,\n",
       "          24160],\n",
       "        [ 11915,  23932,  36048,  48260,  60565,  48620,  36588,  24472,\n",
       "          12275]],\n",
       "\n",
       "       [[ 16100,  32396,  48884,  65560,  82420,  66280,  49964,  33476,\n",
       "          16820],\n",
       "        [ 33180,  66712, 100588, 134800, 169340, 136080, 102508,  68632,\n",
       "          34460],\n",
       "        [ 51140, 102748, 154812, 207320, 260260, 209000, 157332, 105268,\n",
       "          52820],\n",
       "        [ 69880, 140304, 211256, 282720, 354680, 284640, 214136, 143184,\n",
       "          71800],\n",
       "        [ 89300, 179180, 269620, 360600, 452100, 362600, 272620, 182180,\n",
       "          91300],\n",
       "        [ 72200, 144784, 217736, 291040, 364680, 292320, 219656, 146704,\n",
       "          73480],\n",
       "        [ 54620, 109468, 164532, 219800, 275260, 220520, 165612, 110548,\n",
       "          55340],\n",
       "        [ 36660,  73432, 110308, 147280, 184340, 147600, 110788,  73912,\n",
       "          36980],\n",
       "        [ 18420,  36876,  55364,  73880,  92420,  73960,  55484,  36996,\n",
       "          18500]],\n",
       "\n",
       "       [[ 24750,  49620,  74605,  99700, 124900, 100100,  75205,  50220,\n",
       "          25150],\n",
       "        [ 50100, 100390, 150860, 201500, 252300, 202100, 151760, 101290,\n",
       "          50700],\n",
       "        [ 75925, 152060, 228390, 304900, 381575, 305500, 229290, 152960,\n",
       "          76525],\n",
       "        [102100, 204380, 306820, 409400, 512100, 409800, 307420, 204980,\n",
       "         102500],\n",
       "        [128500, 257100, 385775, 514500, 643250, 514500, 385775, 257100,\n",
       "         128500],\n",
       "        [102500, 204980, 307420, 409800, 512100, 409400, 306820, 204380,\n",
       "         102100],\n",
       "        [ 76525, 152960, 229290, 305500, 381575, 304900, 228390, 152060,\n",
       "          75925],\n",
       "        [ 50700, 101290, 151760, 202100, 252300, 201500, 150860, 100390,\n",
       "          50100],\n",
       "        [ 25150,  50220,  75205, 100100, 124900,  99700,  74605,  49620,\n",
       "          24750]],\n",
       "\n",
       "       [[ 18500,  36996,  55484,  73960,  92420,  73880,  55364,  36876,\n",
       "          18420],\n",
       "        [ 36980,  73912, 110788, 147600, 184340, 147280, 110308,  73432,\n",
       "          36660],\n",
       "        [ 55340, 110548, 165612, 220520, 275260, 219800, 164532, 109468,\n",
       "          54620],\n",
       "        [ 73480, 146704, 219656, 292320, 364680, 291040, 217736, 144784,\n",
       "          72200],\n",
       "        [ 91300, 182180, 272620, 362600, 452100, 360600, 269620, 179180,\n",
       "          89300],\n",
       "        [ 71800, 143184, 214136, 284640, 354680, 282720, 211256, 140304,\n",
       "          69880],\n",
       "        [ 52820, 105268, 157332, 209000, 260260, 207320, 154812, 102748,\n",
       "          51140],\n",
       "        [ 34460,  68632, 102508, 136080, 169340, 134800, 100588,  66712,\n",
       "          33180],\n",
       "        [ 16820,  33476,  49964,  66280,  82420,  65560,  48884,  32396,\n",
       "          16100]],\n",
       "\n",
       "       [[ 12275,  24472,  36588,  48620,  60565,  48260,  36048,  23932,\n",
       "          11915],\n",
       "        [ 24160,  48134,  71916,  95500, 118880,  94660,  70656,  46874,\n",
       "          23320],\n",
       "        [ 35580,  70836, 105759, 140340, 174570, 138900, 103599,  68676,\n",
       "          34140],\n",
       "        [ 46460,  92428, 137892, 182840, 227260, 180680, 134652,  89188,\n",
       "          44300],\n",
       "        [ 56725, 112760, 168090, 222700, 276575, 219700, 163590, 108260,\n",
       "          53725],\n",
       "        [ 43700,  86788, 129252, 171080, 212260, 168440, 125292,  82828,\n",
       "          41060],\n",
       "        [ 31440,  62376,  92799, 122700, 152070, 120540,  89559,  59136,\n",
       "          29280],\n",
       "        [ 20020,  39674,  58956,  77860,  96380,  76300,  56616,  37334,\n",
       "          18460],\n",
       "        [  9515,  18832,  27948,  36860,  45565,  36020,  26688,  17572,\n",
       "           8675]],\n",
       "\n",
       "       [[  6700,  13298,  19792,  26180,  32460,  25740,  19132,  12638,\n",
       "           6260],\n",
       "        [ 12890,  25556,  37994,  50200,  62170,  49240,  36554,  24116,\n",
       "          11930],\n",
       "        [ 18520,  36674,  54456,  71860,  88880,  70300,  52116,  34334,\n",
       "          16960],\n",
       "        [ 23540,  46552,  69028,  90960, 112340,  88720,  65668,  43192,\n",
       "          21300],\n",
       "        [ 27900,  55090,  81560, 107300, 132300, 104300,  77060,  50590,\n",
       "          24900],\n",
       "        [ 20700,  40792,  60268,  79120,  97340,  76560,  56428,  36952,\n",
       "          18140],\n",
       "        [ 14260,  28034,  41316,  54100,  66380,  52060,  38256,  24974,\n",
       "          12220],\n",
       "        [  8630,  16916,  24854,  32440,  39670,  31000,  22694,  14756,\n",
       "           7190],\n",
       "        [  3860,   7538,  11032,  14340,  17460,  13580,   9892,   6398,\n",
       "           3100]],\n",
       "\n",
       "       [[  2400,   4724,   6971,   9140,  11230,   8820,   6491,   4244,\n",
       "           2080],\n",
       "        [  4420,   8678,  12772,  16700,  20460,  16020,  11752,   7658,\n",
       "           3740],\n",
       "        [  6035,  11812,  17328,  22580,  27565,  21500,  15708,  10192,\n",
       "           4955],\n",
       "        [  7220,  14076,  20564,  26680,  32420,  25160,  18284,  11796,\n",
       "           5700],\n",
       "        [  7950,  15420,  22405,  28900,  34900,  26900,  19405,  12420,\n",
       "           5950],\n",
       "        [  5300,  10196,  14684,  18760,  22420,  17080,  12164,   7676,\n",
       "           3620],\n",
       "        [  3155,   5992,   8508,  10700,  12565,   9380,   6528,   4012,\n",
       "           1835],\n",
       "        [  1540,   2858,   3952,   4820,   5460,   3900,   2572,   1478,\n",
       "            620],\n",
       "        [   480,    844,   1091,   1220,   1230,    740,    371,    124,\n",
       "              0]]])"
      ]
     },
     "execution_count": 7,
     "metadata": {},
     "output_type": "execute_result"
    }
   ],
   "source": [
    "signal.correlate(a, b)"
   ]
  },
  {
   "cell_type": "code",
   "execution_count": 8,
   "id": "cdeef03c",
   "metadata": {},
   "outputs": [],
   "source": [
    "from scipy import integrate"
   ]
  },
  {
   "cell_type": "code",
   "execution_count": 9,
   "id": "3651598a",
   "metadata": {},
   "outputs": [],
   "source": [
    "x3 = lambda x: x**3"
   ]
  },
  {
   "cell_type": "code",
   "execution_count": 10,
   "id": "55843e72",
   "metadata": {},
   "outputs": [
    {
     "data": {
      "text/plain": [
       "(20.249999999999996, 2.2482016248659415e-13)"
      ]
     },
     "execution_count": 10,
     "metadata": {},
     "output_type": "execute_result"
    }
   ],
   "source": [
    "integrate.quad(x3, 0, 3)"
   ]
  },
  {
   "cell_type": "code",
   "execution_count": 11,
   "id": "5f57b116",
   "metadata": {},
   "outputs": [],
   "source": [
    "a = np.arange(9).reshape((3, 3))"
   ]
  },
  {
   "cell_type": "code",
   "execution_count": 12,
   "id": "9e1f130e",
   "metadata": {},
   "outputs": [
    {
     "data": {
      "text/plain": [
       "array([ 6.,  8., 10.])"
      ]
     },
     "execution_count": 12,
     "metadata": {},
     "output_type": "execute_result"
    }
   ],
   "source": [
    "integrate.trapz(a, axis=0)"
   ]
  },
  {
   "cell_type": "code",
   "execution_count": 13,
   "id": "6896611b",
   "metadata": {},
   "outputs": [
    {
     "data": {
      "text/plain": [
       "array([ 2.,  8., 14.])"
      ]
     },
     "execution_count": 13,
     "metadata": {},
     "output_type": "execute_result"
    }
   ],
   "source": [
    "integrate.trapz(a, axis=1)"
   ]
  },
  {
   "cell_type": "code",
   "execution_count": 14,
   "id": "1ac6c5ae",
   "metadata": {},
   "outputs": [
    {
     "data": {
      "text/plain": [
       "array([ 2.,  8., 14.])"
      ]
     },
     "execution_count": 14,
     "metadata": {},
     "output_type": "execute_result"
    }
   ],
   "source": [
    "integrate.trapz(a, axis=-1)"
   ]
  },
  {
   "cell_type": "code",
   "execution_count": 15,
   "id": "a7e30f21",
   "metadata": {},
   "outputs": [
    {
     "data": {
      "text/plain": [
       "array([ 6.,  8., 10.])"
      ]
     },
     "execution_count": 15,
     "metadata": {},
     "output_type": "execute_result"
    }
   ],
   "source": [
    "integrate.trapz(a, axis=-2)"
   ]
  },
  {
   "cell_type": "code",
   "execution_count": 16,
   "id": "e8e54eca",
   "metadata": {},
   "outputs": [
    {
     "data": {
      "text/plain": [
       "array([[ 1.5,  2.5,  3.5],\n",
       "       [ 6. ,  8. , 10. ]])"
      ]
     },
     "execution_count": 16,
     "metadata": {},
     "output_type": "execute_result"
    }
   ],
   "source": [
    "integrate.cumtrapz(a, axis=0)"
   ]
  },
  {
   "cell_type": "code",
   "execution_count": 17,
   "id": "aaca22b7",
   "metadata": {},
   "outputs": [
    {
     "data": {
      "text/plain": [
       "array([[ 0.5,  2. ],\n",
       "       [ 3.5,  8. ],\n",
       "       [ 6.5, 14. ]])"
      ]
     },
     "execution_count": 17,
     "metadata": {},
     "output_type": "execute_result"
    }
   ],
   "source": [
    "integrate.cumtrapz(a, axis=1)"
   ]
  },
  {
   "cell_type": "code",
   "execution_count": 18,
   "id": "a131285b",
   "metadata": {},
   "outputs": [
    {
     "data": {
      "text/plain": [
       "array([[ 0.5,  2. ],\n",
       "       [ 3.5,  8. ],\n",
       "       [ 6.5, 14. ]])"
      ]
     },
     "execution_count": 18,
     "metadata": {},
     "output_type": "execute_result"
    }
   ],
   "source": [
    "integrate.cumtrapz(a, axis=-1)"
   ]
  },
  {
   "cell_type": "code",
   "execution_count": 19,
   "id": "a8b6529e",
   "metadata": {},
   "outputs": [
    {
     "data": {
      "text/plain": [
       "array([ 6.,  8., 10.])"
      ]
     },
     "execution_count": 19,
     "metadata": {},
     "output_type": "execute_result"
    }
   ],
   "source": [
    "integrate.simps(a, axis = 0)"
   ]
  },
  {
   "cell_type": "code",
   "execution_count": 20,
   "id": "3e86742c",
   "metadata": {},
   "outputs": [
    {
     "data": {
      "text/plain": [
       "array([ 2.,  8., 14.])"
      ]
     },
     "execution_count": 20,
     "metadata": {},
     "output_type": "execute_result"
    }
   ],
   "source": [
    "integrate.simps(a, axis = 1)"
   ]
  },
  {
   "cell_type": "code",
   "execution_count": 21,
   "id": "f738dc25",
   "metadata": {},
   "outputs": [
    {
     "data": {
      "text/plain": [
       "array([ 2.,  8., 14.])"
      ]
     },
     "execution_count": 21,
     "metadata": {},
     "output_type": "execute_result"
    }
   ],
   "source": [
    "integrate.simps(a, axis = -1)"
   ]
  },
  {
   "cell_type": "code",
   "execution_count": 22,
   "id": "a483e133",
   "metadata": {},
   "outputs": [],
   "source": [
    "%matplotlib inline\n",
    "from scipy import interpolate\n",
    "import matplotlib.pyplot as plt"
   ]
  },
  {
   "cell_type": "code",
   "execution_count": 23,
   "id": "ea5e7fe6",
   "metadata": {},
   "outputs": [
    {
     "name": "stdout",
     "output_type": "stream",
     "text": [
      "[ 0.  5. 10.] [ 0.96017029 -0.6020119   0.0044257 ]\n"
     ]
    }
   ],
   "source": [
    "x = np.linspace(0, 10, 3)\n",
    "y = np.cos(x**1/2 + 6)\n",
    "print(x, y)"
   ]
  },
  {
   "cell_type": "code",
   "execution_count": 24,
   "id": "00cd3541",
   "metadata": {},
   "outputs": [
    {
     "data": {
      "image/png": "[encoded data removed]",
      "text/plain": [
       "<Figure size 432x288 with 1 Axes>"
      ]
     },
     "metadata": {
      "needs_background": "light"
     },
     "output_type": "display_data"
    }
   ],
   "source": [
    "plt.plot(x, y, 'o-')\n",
    "plt.show()"
   ]
  },
  {
   "cell_type": "code",
   "execution_count": 27,
   "id": "ea3b22c7",
   "metadata": {},
   "outputs": [],
   "source": [
    "f1 = interpolate.interp1d(x, y, kind = 'linear')\n",
    "\n",
    "f2 = interpolate.interp1d(x, y, kind = 'nearest')"
   ]
  },
  {
   "cell_type": "code",
   "execution_count": 28,
   "id": "a02bdeb2",
   "metadata": {},
   "outputs": [
    {
     "data": {
      "image/png": "[encoded data removed]",
      "text/plain": [
       "<Figure size 432x288 with 1 Axes>"
      ]
     },
     "metadata": {
      "needs_background": "light"
     },
     "output_type": "display_data"
    }
   ],
   "source": [
    "xnew = np.linspace(0, 10, 30)\n",
    "plt.plot(x, y, 'o')\n",
    "plt.plot(xnew, f1(xnew), '-')\n",
    "plt.plot(xnew, f2(xnew), ':')\n",
    "labels=['Original', 'Linear', 'Nearest']\n",
    "plt.legend(labels, loc='best')\n",
    "plt.show()"
   ]
  },
  {
   "cell_type": "code",
   "execution_count": null,
   "id": "c1e307ea",
   "metadata": {},
   "outputs": [],
   "source": []
  }
 ],
 "metadata": {
  "kernelspec": {
   "display_name": "Python 3",
   "language": "python",
   "name": "python3"
  },
  "language_info": {
   "codemirror_mode": {
    "name": "ipython",
    "version": 3
   },
   "file_extension": ".py",
   "mimetype": "text/x-python",
   "name": "python",
   "nbconvert_exporter": "python",
   "pygments_lexer": "ipython3",
   "version": "3.9.4"
  }
 },
 "nbformat": 4,
 "nbformat_minor": 5
}
