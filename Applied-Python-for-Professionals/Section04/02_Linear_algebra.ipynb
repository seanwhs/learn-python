{
 "cells": [
  {
   "cell_type": "code",
   "execution_count": 2,
   "id": "5b1d5d10",
   "metadata": {},
   "outputs": [],
   "source": [
    "import numpy as np\n",
    "import scipy.linalg"
   ]
  },
  {
   "cell_type": "code",
   "execution_count": 3,
   "id": "5800ce0b",
   "metadata": {},
   "outputs": [
    {
     "data": {
      "text/plain": [
       "array([[0, 2, 3],\n",
       "       [4, 5, 6],\n",
       "       [7, 8, 9]])"
      ]
     },
     "execution_count": 3,
     "metadata": {},
     "output_type": "execute_result"
    }
   ],
   "source": [
    "x = np.array([[0, 2, 3],\n",
    "             [4, 5, 6],\n",
    "             [7, 8, 9]])\n",
    "x"
   ]
  },
  {
   "cell_type": "code",
   "execution_count": 4,
   "id": "931e5d79",
   "metadata": {},
   "outputs": [
    {
     "data": {
      "text/plain": [
       "array([[-1.        ,  2.        , -1.        ],\n",
       "       [ 2.        , -7.        ,  4.        ],\n",
       "       [-1.        ,  4.66666667, -2.66666667]])"
      ]
     },
     "execution_count": 4,
     "metadata": {},
     "output_type": "execute_result"
    }
   ],
   "source": [
    "scipy.linalg.inv(x)"
   ]
  },
  {
   "cell_type": "code",
   "execution_count": 5,
   "id": "3953f970",
   "metadata": {},
   "outputs": [
    {
     "data": {
      "text/plain": [
       "array([2., 1., 3.])"
      ]
     },
     "execution_count": 5,
     "metadata": {},
     "output_type": "execute_result"
    }
   ],
   "source": [
    "# ax = b\n",
    "\n",
    "a = np.array([[2, 1, -3], [4, -2, 1], [3, 5, -2]])\n",
    "b = np.array([-4, 9, 5])\n",
    "\n",
    "scipy.linalg.solve(a, b)"
   ]
  },
  {
   "cell_type": "code",
   "execution_count": 6,
   "id": "ddd5fe18",
   "metadata": {},
   "outputs": [],
   "source": [
    "a = np.array([[0, 2, 3],\n",
    "             [4, 5, 6],\n",
    "             [7, 8, 9]])"
   ]
  },
  {
   "cell_type": "code",
   "execution_count": 7,
   "id": "1f8a0b29",
   "metadata": {},
   "outputs": [
    {
     "data": {
      "text/plain": [
       "3.0"
      ]
     },
     "execution_count": 7,
     "metadata": {},
     "output_type": "execute_result"
    }
   ],
   "source": [
    "scipy.linalg.det(a)"
   ]
  },
  {
   "cell_type": "code",
   "execution_count": 8,
   "id": "c6a59b80",
   "metadata": {},
   "outputs": [
    {
     "data": {
      "text/plain": [
       "16.852299546352718"
      ]
     },
     "execution_count": 8,
     "metadata": {},
     "output_type": "execute_result"
    }
   ],
   "source": [
    "scipy.linalg.norm(a)"
   ]
  },
  {
   "cell_type": "code",
   "execution_count": 9,
   "id": "e241cdc2",
   "metadata": {},
   "outputs": [
    {
     "name": "stdout",
     "output_type": "stream",
     "text": [
      "[[ 0  1  2  3  4  5]\n",
      " [ 6  7  8  9 10 11]\n",
      " [12 13 14 15 16 17]\n",
      " [18 19 20 21 22 23]\n",
      " [24 25 26 27 28 29]\n",
      " [30 31 32 33 34 35]]\n"
     ]
    }
   ],
   "source": [
    "a = np.arange(36).reshape((6, 6))\n",
    "print(a)"
   ]
  },
  {
   "cell_type": "code",
   "execution_count": 10,
   "id": "7760b19d",
   "metadata": {},
   "outputs": [
    {
     "data": {
      "text/plain": [
       "array([[ 0,  0,  0,  0,  0,  0],\n",
       "       [ 6,  7,  0,  0,  0,  0],\n",
       "       [12, 13, 14,  0,  0,  0],\n",
       "       [18, 19, 20, 21,  0,  0],\n",
       "       [24, 25, 26, 27, 28,  0],\n",
       "       [30, 31, 32, 33, 34, 35]])"
      ]
     },
     "execution_count": 10,
     "metadata": {},
     "output_type": "execute_result"
    }
   ],
   "source": [
    "scipy.linalg.tril(a, k=0)"
   ]
  },
  {
   "cell_type": "code",
   "execution_count": 11,
   "id": "eeba826c",
   "metadata": {},
   "outputs": [
    {
     "data": {
      "text/plain": [
       "array([[ 0,  0,  0,  0,  0,  0],\n",
       "       [ 6,  0,  0,  0,  0,  0],\n",
       "       [12, 13,  0,  0,  0,  0],\n",
       "       [18, 19, 20,  0,  0,  0],\n",
       "       [24, 25, 26, 27,  0,  0],\n",
       "       [30, 31, 32, 33, 34,  0]])"
      ]
     },
     "execution_count": 11,
     "metadata": {},
     "output_type": "execute_result"
    }
   ],
   "source": [
    "scipy.linalg.tril(a, k=-1)"
   ]
  },
  {
   "cell_type": "code",
   "execution_count": 12,
   "id": "3f450c04",
   "metadata": {},
   "outputs": [
    {
     "data": {
      "text/plain": [
       "array([[ 0,  1,  0,  0,  0,  0],\n",
       "       [ 6,  7,  8,  0,  0,  0],\n",
       "       [12, 13, 14, 15,  0,  0],\n",
       "       [18, 19, 20, 21, 22,  0],\n",
       "       [24, 25, 26, 27, 28, 29],\n",
       "       [30, 31, 32, 33, 34, 35]])"
      ]
     },
     "execution_count": 12,
     "metadata": {},
     "output_type": "execute_result"
    }
   ],
   "source": [
    "scipy.linalg.tril(a, k=1)"
   ]
  },
  {
   "cell_type": "code",
   "execution_count": 13,
   "id": "6e41f90d",
   "metadata": {},
   "outputs": [
    {
     "data": {
      "text/plain": [
       "array([[ 0,  1,  2,  0,  0,  0],\n",
       "       [ 6,  7,  8,  9,  0,  0],\n",
       "       [12, 13, 14, 15, 16,  0],\n",
       "       [18, 19, 20, 21, 22, 23],\n",
       "       [24, 25, 26, 27, 28, 29],\n",
       "       [30, 31, 32, 33, 34, 35]])"
      ]
     },
     "execution_count": 13,
     "metadata": {},
     "output_type": "execute_result"
    }
   ],
   "source": [
    "scipy.linalg.tril(a, k=2)"
   ]
  },
  {
   "cell_type": "code",
   "execution_count": 14,
   "id": "6f5c4245",
   "metadata": {},
   "outputs": [
    {
     "data": {
      "text/plain": [
       "array([[ 0,  0,  0,  0,  0,  0],\n",
       "       [ 0,  0,  0,  0,  0,  0],\n",
       "       [12,  0,  0,  0,  0,  0],\n",
       "       [18, 19,  0,  0,  0,  0],\n",
       "       [24, 25, 26,  0,  0,  0],\n",
       "       [30, 31, 32, 33,  0,  0]])"
      ]
     },
     "execution_count": 14,
     "metadata": {},
     "output_type": "execute_result"
    }
   ],
   "source": [
    "scipy.linalg.tril(a, k=-2)"
   ]
  },
  {
   "cell_type": "code",
   "execution_count": 15,
   "id": "75ba9f28",
   "metadata": {},
   "outputs": [
    {
     "data": {
      "text/plain": [
       "array([[ 0,  1,  2,  3,  4,  5],\n",
       "       [ 0,  7,  8,  9, 10, 11],\n",
       "       [ 0,  0, 14, 15, 16, 17],\n",
       "       [ 0,  0,  0, 21, 22, 23],\n",
       "       [ 0,  0,  0,  0, 28, 29],\n",
       "       [ 0,  0,  0,  0,  0, 35]])"
      ]
     },
     "execution_count": 15,
     "metadata": {},
     "output_type": "execute_result"
    }
   ],
   "source": [
    "scipy.linalg.triu(a, k=0)"
   ]
  },
  {
   "cell_type": "code",
   "execution_count": 16,
   "id": "8dbee17a",
   "metadata": {},
   "outputs": [
    {
     "data": {
      "text/plain": [
       "array([[ 0,  1,  2,  3,  4,  5],\n",
       "       [ 6,  7,  8,  9, 10, 11],\n",
       "       [ 0, 13, 14, 15, 16, 17],\n",
       "       [ 0,  0, 20, 21, 22, 23],\n",
       "       [ 0,  0,  0, 27, 28, 29],\n",
       "       [ 0,  0,  0,  0, 34, 35]])"
      ]
     },
     "execution_count": 16,
     "metadata": {},
     "output_type": "execute_result"
    }
   ],
   "source": [
    "scipy.linalg.triu(a, k=-1)"
   ]
  },
  {
   "cell_type": "code",
   "execution_count": 17,
   "id": "b4b8d395",
   "metadata": {},
   "outputs": [
    {
     "data": {
      "text/plain": [
       "array([[ 0,  1,  2,  3,  4,  5],\n",
       "       [ 0,  0,  8,  9, 10, 11],\n",
       "       [ 0,  0,  0, 15, 16, 17],\n",
       "       [ 0,  0,  0,  0, 22, 23],\n",
       "       [ 0,  0,  0,  0,  0, 29],\n",
       "       [ 0,  0,  0,  0,  0,  0]])"
      ]
     },
     "execution_count": 17,
     "metadata": {},
     "output_type": "execute_result"
    }
   ],
   "source": [
    "scipy.linalg.triu(a, k=1)"
   ]
  },
  {
   "cell_type": "code",
   "execution_count": 18,
   "id": "736c0c44",
   "metadata": {},
   "outputs": [
    {
     "data": {
      "text/plain": [
       "array([[ 0,  0,  2,  3,  4,  5],\n",
       "       [ 0,  0,  0,  9, 10, 11],\n",
       "       [ 0,  0,  0,  0, 16, 17],\n",
       "       [ 0,  0,  0,  0,  0, 23],\n",
       "       [ 0,  0,  0,  0,  0,  0],\n",
       "       [ 0,  0,  0,  0,  0,  0]])"
      ]
     },
     "execution_count": 18,
     "metadata": {},
     "output_type": "execute_result"
    }
   ],
   "source": [
    "scipy.linalg.triu(a, k=2)"
   ]
  },
  {
   "cell_type": "code",
   "execution_count": 19,
   "id": "882f0467",
   "metadata": {},
   "outputs": [
    {
     "data": {
      "text/plain": [
       "array([[ 0,  1,  2,  3,  4,  5],\n",
       "       [ 6,  7,  8,  9, 10, 11],\n",
       "       [12, 13, 14, 15, 16, 17],\n",
       "       [ 0, 19, 20, 21, 22, 23],\n",
       "       [ 0,  0, 26, 27, 28, 29],\n",
       "       [ 0,  0,  0, 33, 34, 35]])"
      ]
     },
     "execution_count": 19,
     "metadata": {},
     "output_type": "execute_result"
    }
   ],
   "source": [
    "scipy.linalg.triu(a, k=-2)"
   ]
  },
  {
   "cell_type": "code",
   "execution_count": 20,
   "id": "4e551fd3",
   "metadata": {},
   "outputs": [
    {
     "name": "stdout",
     "output_type": "stream",
     "text": [
      "[[ 0  1  2  3  4  5  6]\n",
      " [ 7  8  9 10 11 12 13]\n",
      " [14 15 16 17 18 19 20]\n",
      " [21 22 23 24 25 26 27]\n",
      " [28 29 30 31 32 33 34]\n",
      " [35 36 37 38 39 40 41]\n",
      " [42 43 44 45 46 47 48]]\n"
     ]
    }
   ],
   "source": [
    "a = np.arange(49).reshape((7, 7))\n",
    "print(a)"
   ]
  },
  {
   "cell_type": "code",
   "execution_count": 21,
   "id": "84c59fb0",
   "metadata": {},
   "outputs": [],
   "source": [
    "p, l, u = scipy.linalg.lu(a)"
   ]
  },
  {
   "cell_type": "code",
   "execution_count": 22,
   "id": "0e529a2c",
   "metadata": {},
   "outputs": [
    {
     "data": {
      "text/plain": [
       "(array([[0., 1., 0., 0., 0., 0., 0.],\n",
       "        [0., 0., 0., 0., 0., 0., 1.],\n",
       "        [0., 0., 0., 1., 0., 0., 0.],\n",
       "        [0., 0., 0., 0., 0., 1., 0.],\n",
       "        [0., 0., 0., 0., 1., 0., 0.],\n",
       "        [0., 0., 1., 0., 0., 0., 0.],\n",
       "        [1., 0., 0., 0., 0., 0., 0.]]),\n",
       " array([[ 1.        ,  0.        ,  0.        ,  0.        ,  0.        ,\n",
       "          0.        ,  0.        ],\n",
       "        [ 0.        ,  1.        ,  0.        ,  0.        ,  0.        ,\n",
       "          0.        ,  0.        ],\n",
       "        [ 0.83333333,  0.16666667,  1.        ,  0.        ,  0.        ,\n",
       "          0.        ,  0.        ],\n",
       "        [ 0.33333333,  0.66666667, -0.        ,  1.        ,  0.        ,\n",
       "          0.        ,  0.        ],\n",
       "        [ 0.66666667,  0.33333333,  0.5       , -0.        ,  1.        ,\n",
       "          0.        ,  0.        ],\n",
       "        [ 0.5       ,  0.5       , -0.        , -0.        ,  0.        ,\n",
       "          1.        ,  0.        ],\n",
       "        [ 0.16666667,  0.83333333, -0.        ,  0.5       ,  0.        ,\n",
       "          0.        ,  1.        ]]),\n",
       " array([[ 4.20000000e+01,  4.30000000e+01,  4.40000000e+01,\n",
       "          4.50000000e+01,  4.60000000e+01,  4.70000000e+01,\n",
       "          4.80000000e+01],\n",
       "        [ 0.00000000e+00,  1.00000000e+00,  2.00000000e+00,\n",
       "          3.00000000e+00,  4.00000000e+00,  5.00000000e+00,\n",
       "          6.00000000e+00],\n",
       "        [ 0.00000000e+00,  0.00000000e+00, -7.10542736e-15,\n",
       "         -1.42108547e-14, -1.42108547e-14, -2.13162821e-14,\n",
       "         -2.84217094e-14],\n",
       "        [ 0.00000000e+00,  0.00000000e+00,  0.00000000e+00,\n",
       "         -3.55271368e-15, -3.55271368e-15, -7.10542736e-15,\n",
       "         -7.10542736e-15],\n",
       "        [ 0.00000000e+00,  0.00000000e+00,  0.00000000e+00,\n",
       "          0.00000000e+00,  0.00000000e+00,  0.00000000e+00,\n",
       "          0.00000000e+00],\n",
       "        [ 0.00000000e+00,  0.00000000e+00,  0.00000000e+00,\n",
       "          0.00000000e+00,  0.00000000e+00,  0.00000000e+00,\n",
       "          0.00000000e+00],\n",
       "        [ 0.00000000e+00,  0.00000000e+00,  0.00000000e+00,\n",
       "          0.00000000e+00,  0.00000000e+00,  0.00000000e+00,\n",
       "          0.00000000e+00]]))"
      ]
     },
     "execution_count": 22,
     "metadata": {},
     "output_type": "execute_result"
    }
   ],
   "source": [
    "p, l , u"
   ]
  },
  {
   "cell_type": "code",
   "execution_count": 23,
   "id": "5487c1ac",
   "metadata": {},
   "outputs": [
    {
     "name": "stdout",
     "output_type": "stream",
     "text": [
      "[[ 0.         -0.68138514  0.7034235   0.15227561 -0.09167099  0.0963191\n",
      "  -0.0063927 ]\n",
      " [-0.10482848 -0.52414242 -0.48427589 -0.40522285 -0.50386494  0.00634396\n",
      "   0.2482678 ]\n",
      " [-0.20965697 -0.36689969 -0.31703763  0.2717978   0.70337963 -0.0145756\n",
      "   0.38998245]\n",
      " [-0.31448545 -0.20965697 -0.27902687  0.12409903  0.06804535  0.37081658\n",
      "  -0.78851201]\n",
      " [-0.41931393 -0.05241424  0.0061139   0.19082455 -0.12838264 -0.85279117\n",
      "  -0.20308201]\n",
      " [-0.52414242  0.10482848  0.29384177 -0.72867679  0.30846128  0.04180058\n",
      "   0.00878746]\n",
      " [-0.6289709   0.26207121  0.07696122  0.39490265 -0.35596771  0.35208654\n",
      "   0.35094901]]\n",
      "[[-6.67757441e+01 -6.89771423e+01 -7.11785404e+01 -7.33799386e+01\n",
      "  -7.55813367e+01 -7.77827349e+01 -7.99841330e+01]\n",
      " [ 0.00000000e+00 -1.46759877e+00 -2.93519754e+00 -4.40279631e+00\n",
      "  -5.87039509e+00 -7.33799386e+00 -8.80559263e+00]\n",
      " [ 0.00000000e+00  0.00000000e+00 -1.40810719e-14 -1.41519712e-14\n",
      "  -1.38648185e-14 -1.78984593e-14 -3.25441134e-14]\n",
      " [ 0.00000000e+00  0.00000000e+00  0.00000000e+00 -4.52236077e-16\n",
      "   5.03557283e-15  6.48561431e-15  6.57409347e-15]\n",
      " [ 0.00000000e+00  0.00000000e+00  0.00000000e+00  0.00000000e+00\n",
      "  -2.65299627e-15 -1.23305623e-15 -1.70588267e-15]\n",
      " [ 0.00000000e+00  0.00000000e+00  0.00000000e+00  0.00000000e+00\n",
      "   0.00000000e+00 -6.66303941e-15 -6.40276253e-15]\n",
      " [ 0.00000000e+00  0.00000000e+00  0.00000000e+00  0.00000000e+00\n",
      "   0.00000000e+00  0.00000000e+00  4.13576595e-16]]\n"
     ]
    }
   ],
   "source": [
    "q, r = scipy.linalg.qr(a)\n",
    "\n",
    "print(q)\n",
    "print(r)"
   ]
  },
  {
   "cell_type": "code",
   "execution_count": 24,
   "id": "29aebb0d",
   "metadata": {},
   "outputs": [
    {
     "name": "stdout",
     "output_type": "stream",
     "text": [
      "[[ 0.64667944 -0.40847006 -0.29647146 -0.13026372 -0.34323166  0.42541397\n",
      "   0.10634349]\n",
      " [-0.17875381  0.04309409 -0.04516696  0.75923529 -0.62135877  0.00273194\n",
      "   0.04021822]\n",
      " [ 0.08629973  0.08387462 -0.7467347   0.37180664  0.47291523 -0.01148303\n",
      "  -0.25667848]\n",
      " [ 0.0066011   0.64694125 -0.41697884 -0.31164168 -0.27767573 -0.11612098\n",
      "   0.46887488]\n",
      " [-0.27942056  0.34642877 -0.00301966 -0.16844964 -0.12954247  0.72089199\n",
      "  -0.48688844]\n",
      " [ 0.58316944  0.39437358  0.20557772  0.01678185 -0.17201401 -0.36080987\n",
      "  -0.54960574]\n",
      " [-0.35241895 -0.36080987 -0.3692008  -0.37759173 -0.38598265 -0.39437358\n",
      "  -0.40276451]]\n",
      "[[-3.75728037e-16 -1.57274508e-15 -3.88273251e-15 -1.97152794e-14\n",
      "  -4.84878887e-14 -4.93386523e+00 -8.16437223e+00]\n",
      " [ 0.00000000e+00 -1.58913113e-15 -3.47757424e-15 -1.51646467e-14\n",
      "  -4.13028546e-14 -4.11155436e+00 -2.66663668e+01]\n",
      " [ 0.00000000e+00  0.00000000e+00 -6.27217539e-15 -8.13909151e-15\n",
      "  -3.50919077e-14 -3.28924349e+00 -4.51683615e+01]\n",
      " [ 0.00000000e+00  0.00000000e+00  0.00000000e+00 -8.66002004e-15\n",
      "  -2.12942242e-14 -2.46693262e+00 -6.36703561e+01]\n",
      " [ 0.00000000e+00  0.00000000e+00  0.00000000e+00  0.00000000e+00\n",
      "  -1.80996482e-14 -1.64462174e+00 -8.21723507e+01]\n",
      " [ 0.00000000e+00  0.00000000e+00  0.00000000e+00  0.00000000e+00\n",
      "   0.00000000e+00 -8.22310872e-01 -1.00674345e+02]\n",
      " [ 0.00000000e+00  0.00000000e+00  0.00000000e+00  0.00000000e+00\n",
      "   0.00000000e+00  0.00000000e+00 -1.19176340e+02]]\n"
     ]
    }
   ],
   "source": [
    "r, q = scipy.linalg.rq(a)\n",
    "\n",
    "print(q)\n",
    "print(r)"
   ]
  },
  {
   "cell_type": "code",
   "execution_count": null,
   "id": "57346e90",
   "metadata": {},
   "outputs": [],
   "source": []
  }
 ],
 "metadata": {
  "kernelspec": {
   "display_name": "Python 3",
   "language": "python",
   "name": "python3"
  },
  "language_info": {
   "codemirror_mode": {
    "name": "ipython",
    "version": 3
   },
   "file_extension": ".py",
   "mimetype": "text/x-python",
   "name": "python",
   "nbconvert_exporter": "python",
   "pygments_lexer": "ipython3",
   "version": "3.9.4"
  }
 },
 "nbformat": 4,
 "nbformat_minor": 5
}
