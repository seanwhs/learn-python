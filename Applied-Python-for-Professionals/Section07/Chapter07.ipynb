{
 "cells": [
  {
   "cell_type": "code",
   "execution_count": 1,
   "id": "79bc1976",
   "metadata": {},
   "outputs": [
    {
     "name": "stdout",
     "output_type": "stream",
     "text": [
      "Using matplotlib backend: TkAgg\n"
     ]
    }
   ],
   "source": [
    "%matplotlib\n",
    "import matplotlib as mpl\n",
    "from mpl_toolkits.mplot3d import Axes3D\n",
    "import numpy as np\n",
    "import matplotlib.pyplot as plt\n",
    "\n",
    "mpl.rcParams['legend.fontsize'] = 10\n",
    "\n",
    "fig = plt.figure()\n",
    "ax =fig.add_subplot(111, projection='3d')\n",
    "theta = np.linspace ( -4 * np.pi, 4 * np.pi, 100)\n",
    "z = np.linspace(-2, 2, 100)\n",
    "r = z**2 + 1\n",
    "x = r * np.sin(theta)\n",
    "y = r * np.cos(theta)\n",
    "ax.plot(x, y, z, label='parametric curve')\n",
    "ax.legend()\n",
    "plt.show()"
   ]
  },
  {
   "cell_type": "code",
   "execution_count": 2,
   "id": "523ca8db",
   "metadata": {},
   "outputs": [],
   "source": [
    "from mpl_toolkits.mplot3d import axes3d\n",
    "\n",
    "fig = plt.figure()\n",
    "ax =fig.add_subplot(111, projection='3d')\n",
    "\n",
    "X, Y, Z = axes3d.get_test_data(0.1)\n",
    "\n",
    "ax.plot_wireframe(X, Y, Z,\n",
    "                 rstride=10,\n",
    "                 cstride=10)\n",
    "\n",
    "plt.show()"
   ]
  },
  {
   "cell_type": "code",
   "execution_count": 3,
   "id": "c6208360",
   "metadata": {},
   "outputs": [],
   "source": [
    "fig = plt.figure()\n",
    "ax =fig.add_subplot(111, projection='3d')\n",
    "\n",
    "X, Y, Z = axes3d.get_test_data(0.1)\n",
    "\n",
    "ax.plot_surface(X, Y, Z,\n",
    "                 rstride=10,\n",
    "                 cstride=10)\n",
    "\n",
    "plt.show()"
   ]
  },
  {
   "cell_type": "code",
   "execution_count": 4,
   "id": "d71006cf",
   "metadata": {},
   "outputs": [],
   "source": [
    "from matplotlib import cm\n",
    "from matplotlib.ticker import LinearLocator, FormatStrFormatter\n",
    "\n",
    "fig = plt.figure()\n",
    "ax =fig.add_subplot(111, projection='3d')\n",
    "\n",
    "# own Data\n",
    "X = np.arange(-5, 5, 0.25)\n",
    "Y = np.arange(-5, 5, 0.25)\n",
    "X, Y = np.meshgrid(X, Y)\n",
    "R = np.sqrt(X**2 + Y**2)\n",
    "Z = np.sin(R)\n",
    "\n",
    "surf = ax.plot_surface(X, Y, Z, cmap=cm.coolwarm,\n",
    "                      linewidth=0, antialiased=False)\n",
    "\n",
    "ax.set_zlim(-1.01, 1.01)\n",
    "ax.zaxis.set_major_locator(LinearLocator(10))\n",
    "ax.zaxis.set_major_formatter(FormatStrFormatter('%.02f'))\n",
    "\n",
    "fig.colorbar(surf, shrink=0.5, aspect=5)\n",
    "\n",
    "plt.show()"
   ]
  },
  {
   "cell_type": "markdown",
   "id": "80b8288a",
   "metadata": {},
   "source": [
    "# Contour"
   ]
  },
  {
   "cell_type": "code",
   "execution_count": null,
   "id": "f2335fba",
   "metadata": {},
   "outputs": [],
   "source": [
    "fig = plt.figure()\n",
    "ax =fig.add_subplot(111, projection='3d')\n",
    "\n",
    "X, Y, Z = axes3d.get_test_data(0.05)\n",
    "\n",
    "cset = ax.contour(X, Y, Z, cmap=cm.coolwarm)\n",
    "ax.clabel(cset, fontsize=9, inline=1)\n",
    "\n",
    "plt.show()"
   ]
  },
  {
   "cell_type": "code",
   "execution_count": null,
   "id": "8148d113",
   "metadata": {},
   "outputs": [],
   "source": [
    "fig = plt.figure()\n",
    "ax =fig.add_subplot(111, projection='3d')\n",
    "\n",
    "X, Y, Z = axes3d.get_test_data(0.05)\n",
    "\n",
    "ax.plot_surface(X, Y, Z,\n",
    "                rstride=8,\n",
    "                cstride=8,\n",
    "                alpha=0.3)\n",
    "\n",
    "cset = ax.contour(X, Y, Z, zdir='z',\n",
    "                  cmap=cm.coolwarm,\n",
    "                  offset=-100)\n",
    "cset = ax.contour(X, Y, Z, zdir='x',\n",
    "                  cmap=cm.coolwarm,\n",
    "                  offset=-40)\n",
    "cset = ax.contour(X, Y, Z, zdir='y',\n",
    "                  cmap=cm.coolwarm,\n",
    "                  offset=40)\n",
    "\n",
    "\n",
    "ax.set_xlabel('X')\n",
    "ax.set_ylabel('Y')\n",
    "ax.set_zlabel('Z')\n",
    "\n",
    "ax.set_xlim(-40, 40)\n",
    "ax.set_ylim(-40, 40)\n",
    "ax.set_zlim(-100, 100)\n",
    "\n",
    "plt.show()"
   ]
  },
  {
   "cell_type": "code",
   "execution_count": null,
   "id": "ea30212d",
   "metadata": {},
   "outputs": [],
   "source": [
    "fig = plt.figure()\n",
    "ax =fig.add_subplot(111, projection='3d')\n",
    "\n",
    "X, Y, Z = axes3d.get_test_data(0.05)\n",
    "\n",
    "cset = ax.contour(X, Y, Z, cmap=cm.coolwarm, extend3d=True)\n",
    "\n",
    "ax.clabel(cset, fontsize=9, inline=1)\n",
    "\n",
    "plt.show()"
   ]
  },
  {
   "cell_type": "code",
   "execution_count": 6,
   "id": "a71170a5",
   "metadata": {},
   "outputs": [],
   "source": [
    "fig = plt.figure()\n",
    "ax =fig.add_subplot(111, projection='3d')\n",
    "\n",
    "for c, z in zip(['r', 'g', 'b', 'k'],\n",
    "               [30, 20, 10, 0]):\n",
    "    xs = np.arange(20)\n",
    "    ys = np.random.rand(20)\n",
    "    \n",
    "    cs = [c] * len(xs)\n",
    "    ax.bar(xs, ys, zs=z, zdir='y',\n",
    "          color=cs, alpha=0.8)\n",
    "\n",
    "plt.show()"
   ]
  },
  {
   "cell_type": "code",
   "execution_count": 7,
   "id": "d983561b",
   "metadata": {},
   "outputs": [],
   "source": [
    "fig = plt.figure()\n",
    "ax = fig.add_subplot(111, projection='3d')\n",
    "\n",
    "x, y, z = np.meshgrid(np.arange(-0.8, 1, 0.2),\n",
    "                     np.arange(-0.8, 1, 0.2),\n",
    "                     np.arange(-0.8, 1, 0.8))\n",
    "\n",
    "u = np.sin(np.pi * x ) * np.cos(np.pi * y ) * np.cos(np.pi * z)\n",
    "v = -np.sin(np.pi * x ) * np.sin(np.pi * y ) * np.cos(np.pi * z)\n",
    "w = (np.sqrt(2.0 / 3.0)*np.cos(np.pi*x) * np.cos(np.pi * y ) * np.sin(np.pi * z))\n",
    "\n",
    "ax.quiver(x, y , z, u, v, w, length=0.1, normalize=True)\n",
    "\n",
    "plt.show()"
   ]
  },
  {
   "cell_type": "code",
   "execution_count": null,
   "id": "f964ec2d",
   "metadata": {},
   "outputs": [],
   "source": []
  }
 ],
 "metadata": {
  "kernelspec": {
   "display_name": "Python 3",
   "language": "python",
   "name": "python3"
  },
  "language_info": {
   "codemirror_mode": {
    "name": "ipython",
    "version": 3
   },
   "file_extension": ".py",
   "mimetype": "text/x-python",
   "name": "python",
   "nbconvert_exporter": "python",
   "pygments_lexer": "ipython3",
   "version": "3.9.4"
  }
 },
 "nbformat": 4,
 "nbformat_minor": 5
}
