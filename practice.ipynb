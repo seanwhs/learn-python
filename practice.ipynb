{
 "cells": [
  {
   "cell_type": "code",
   "execution_count": 2,
   "metadata": {},
   "outputs": [
    {
     "name": "stdout",
     "output_type": "stream",
     "text": [
      "d:\\Users\\Sean\\AppData\\Local\\Programs\\Python\\Python312\\python312.zip\n",
      "d:\\Users\\Sean\\AppData\\Local\\Programs\\Python\\Python312\\DLLs\n",
      "d:\\Users\\Sean\\AppData\\Local\\Programs\\Python\\Python312\\Lib\n",
      "d:\\Users\\Sean\\AppData\\Local\\Programs\\Python\\Python312\n",
      "\n",
      "C:\\Users\\Sean\\AppData\\Roaming\\Python\\Python312\\site-packages\n",
      "C:\\Users\\Sean\\AppData\\Roaming\\Python\\Python312\\site-packages\\win32\n",
      "C:\\Users\\Sean\\AppData\\Roaming\\Python\\Python312\\site-packages\\win32\\lib\n",
      "C:\\Users\\Sean\\AppData\\Roaming\\Python\\Python312\\site-packages\\Pythonwin\n",
      "d:\\Users\\Sean\\AppData\\Local\\Programs\\Python\\Python312\\Lib\\site-packages\n"
     ]
    }
   ],
   "source": [
    "import sys\n",
    "\n",
    "paths = sys.path\n",
    "\n",
    "for path in paths:\n",
    "    print(path)\n"
   ]
  },
  {
   "cell_type": "code",
   "execution_count": null,
   "metadata": {},
   "outputs": [],
   "source": []
  }
 ],
 "metadata": {
  "kernelspec": {
   "display_name": "Python 3",
   "language": "python",
   "name": "python3"
  },
  "language_info": {
   "codemirror_mode": {
    "name": "ipython",
    "version": 3
   },
   "file_extension": ".py",
   "mimetype": "text/x-python",
   "name": "python",
   "nbconvert_exporter": "python",
   "pygments_lexer": "ipython3",
   "version": "3.12.4"
  }
 },
 "nbformat": 4,
 "nbformat_minor": 2
}
