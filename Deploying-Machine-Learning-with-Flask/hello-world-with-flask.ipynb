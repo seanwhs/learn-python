{
 "cells": [
  {
   "cell_type": "markdown",
   "metadata": {},
   "source": [
    "\"\"\"\n",
    "# Introduction\n",
    "\n",
    "This script sets up a basic web application using Flask and Werkzeug. \n",
    "\n",
    "## Overview\n",
    "\n",
    "- **Flask**: A web framework that simplifies building web applications in Python.\n",
    "- **Werkzeug**: A library that provides low-level utilities for HTTP request/response handling, URL routing, and debugging. It powers Flask's web server capabilities.\n",
    "\n",
    "## Key Components\n",
    "\n",
    "1. **Import Modules**: Necessary modules from Werkzeug and Flask are imported.\n",
    "2. **Create Application**: A Flask app instance is created.\n",
    "3. **Define Routes**: Two routes are defined:\n",
    "   - `'/'`: Returns \"Hello World!\".\n",
    "   - `'/werkzeug'`: Provides an explanation of Werkzeug.\n",
    "4. **Run Server**: If the script is executed directly, it starts a development server on `localhost` at port `9000`.\n",
    "\n",
    "This setup allows you to test a simple Flask application and learn about Werkzeug's role in web development.\n",
    "\"\"\""
   ]
  },
  {
   "cell_type": "code",
   "execution_count": 1,
   "metadata": {},
   "outputs": [
    {
     "name": "stderr",
     "output_type": "stream",
     "text": [
      "WARNING: This is a development server. Do not use it in a production deployment. Use a production WSGI server instead.\n",
      " * Running on http://localhost:9000\n",
      "Press CTRL+C to quit\n",
      "127.0.0.1 - - [13/Aug/2024 06:21:37] \"GET / HTTP/1.1\" 200 -\n",
      "127.0.0.1 - - [13/Aug/2024 06:21:50] \"GET /wekzeug HTTP/1.1\" 404 -\n",
      "127.0.0.1 - - [13/Aug/2024 06:21:56] \"GET / HTTP/1.1\" 200 -\n",
      "127.0.0.1 - - [13/Aug/2024 06:22:03] \"GET /werkzeug HTTP/1.1\" 200 -\n"
     ]
    }
   ],
   "source": [
    "# Import necessary modules from Werkzeug and Flask\n",
    "from werkzeug.wrappers import Request, Response\n",
    "from flask import Flask\n",
    "\n",
    "# Create a Flask application instance\n",
    "app = Flask(__name__)\n",
    "\n",
    "# Define a route for the root URL ('/')\n",
    "@app.route('/')\n",
    "def hello():\n",
    "    # Return a simple \"Hello World!\" response\n",
    "    return \"Hello World!\"\n",
    "\n",
    "# Check if this script is being run directly (not imported as a module)\n",
    "\n",
    "@app.route(\"/werkzeug\")\n",
    "def werkzeug():\n",
    "    return \"\"\" \n",
    "        <p> Werkzeug is a Python library that provides tools for building web applications. </p> \n",
    "        <p> It handles low-level tasks such as HTTP request and response processing, URL routing, and debugging. </p> \n",
    "        <p> It is used by Flask for its web server functionality but can also be used independently for creating and managing WSGI applications. </p>\n",
    "    \"\"\"\n",
    "if __name__ == '__main__':\n",
    "    # Import the run_simple function from Werkzeug's serving module\n",
    "    from werkzeug.serving import run_simple\n",
    "    \n",
    "    # Start the Flask application with Werkzeug's WSGI server\n",
    "    # The application will be served on localhost and port 9000\n",
    "    run_simple('localhost', 9000, app)\n"
   ]
  },
  {
   "cell_type": "markdown",
   "metadata": {},
   "source": [
    "* Werkzeug is a Python library that provides tools for building web applications. \n",
    "* It handles low-level tasks such as HTTP request and response processing, URL routing, and debugging. \n",
    "* It is used by Flask for its web server functionality but can also be used independently for creating and managing WSGI applications."
   ]
  },
  {
   "cell_type": "code",
   "execution_count": 2,
   "metadata": {},
   "outputs": [],
   "source": [
    "from tensorflow.keras.models import Sequential\n",
    "from tensorflow.keras.layers import Dense, Activation\n",
    "from tensorflow.keras.callbacks import EarlyStopping\n",
    "from sklearn.model_selection import train_test_split\n",
    "from sklearn import metrics\n",
    "import pandas as pd\n",
    "import numpy as np\n",
    "import io\n",
    "import os\n",
    "import requests"
   ]
  },
  {
   "cell_type": "code",
   "execution_count": 3,
   "metadata": {},
   "outputs": [
    {
     "data": {
      "text/html": [
       "<div>\n",
       "<style scoped>\n",
       "    .dataframe tbody tr th:only-of-type {\n",
       "        vertical-align: middle;\n",
       "    }\n",
       "\n",
       "    .dataframe tbody tr th {\n",
       "        vertical-align: top;\n",
       "    }\n",
       "\n",
       "    .dataframe thead th {\n",
       "        text-align: right;\n",
       "    }\n",
       "</style>\n",
       "<table border=\"1\" class=\"dataframe\">\n",
       "  <thead>\n",
       "    <tr style=\"text-align: right;\">\n",
       "      <th></th>\n",
       "      <th>mpg</th>\n",
       "      <th>cylinders</th>\n",
       "      <th>displacement</th>\n",
       "      <th>horsepower</th>\n",
       "      <th>weight</th>\n",
       "      <th>acceleration</th>\n",
       "      <th>year</th>\n",
       "      <th>origin</th>\n",
       "      <th>name</th>\n",
       "    </tr>\n",
       "  </thead>\n",
       "  <tbody>\n",
       "    <tr>\n",
       "      <th>0</th>\n",
       "      <td>18.0</td>\n",
       "      <td>8</td>\n",
       "      <td>307.0</td>\n",
       "      <td>130.0</td>\n",
       "      <td>3504</td>\n",
       "      <td>12.0</td>\n",
       "      <td>70</td>\n",
       "      <td>1</td>\n",
       "      <td>chevrolet chevelle malibu</td>\n",
       "    </tr>\n",
       "    <tr>\n",
       "      <th>1</th>\n",
       "      <td>15.0</td>\n",
       "      <td>8</td>\n",
       "      <td>350.0</td>\n",
       "      <td>165.0</td>\n",
       "      <td>3693</td>\n",
       "      <td>11.5</td>\n",
       "      <td>70</td>\n",
       "      <td>1</td>\n",
       "      <td>buick skylark 320</td>\n",
       "    </tr>\n",
       "    <tr>\n",
       "      <th>2</th>\n",
       "      <td>18.0</td>\n",
       "      <td>8</td>\n",
       "      <td>318.0</td>\n",
       "      <td>150.0</td>\n",
       "      <td>3436</td>\n",
       "      <td>11.0</td>\n",
       "      <td>70</td>\n",
       "      <td>1</td>\n",
       "      <td>plymouth satellite</td>\n",
       "    </tr>\n",
       "    <tr>\n",
       "      <th>3</th>\n",
       "      <td>16.0</td>\n",
       "      <td>8</td>\n",
       "      <td>304.0</td>\n",
       "      <td>150.0</td>\n",
       "      <td>3433</td>\n",
       "      <td>12.0</td>\n",
       "      <td>70</td>\n",
       "      <td>1</td>\n",
       "      <td>amc rebel sst</td>\n",
       "    </tr>\n",
       "    <tr>\n",
       "      <th>4</th>\n",
       "      <td>17.0</td>\n",
       "      <td>8</td>\n",
       "      <td>302.0</td>\n",
       "      <td>140.0</td>\n",
       "      <td>3449</td>\n",
       "      <td>10.5</td>\n",
       "      <td>70</td>\n",
       "      <td>1</td>\n",
       "      <td>ford torino</td>\n",
       "    </tr>\n",
       "  </tbody>\n",
       "</table>\n",
       "</div>"
      ],
      "text/plain": [
       "    mpg  cylinders  displacement  horsepower  weight  acceleration  year  \\\n",
       "0  18.0          8         307.0       130.0    3504          12.0    70   \n",
       "1  15.0          8         350.0       165.0    3693          11.5    70   \n",
       "2  18.0          8         318.0       150.0    3436          11.0    70   \n",
       "3  16.0          8         304.0       150.0    3433          12.0    70   \n",
       "4  17.0          8         302.0       140.0    3449          10.5    70   \n",
       "\n",
       "   origin                       name  \n",
       "0       1  chevrolet chevelle malibu  \n",
       "1       1          buick skylark 320  \n",
       "2       1         plymouth satellite  \n",
       "3       1              amc rebel sst  \n",
       "4       1                ford torino  "
      ]
     },
     "execution_count": 3,
     "metadata": {},
     "output_type": "execute_result"
    }
   ],
   "source": [
    "df = pd.read_csv('auto-mpg.csv', na_values=['NA','?'])\n",
    "df.head()"
   ]
  },
  {
   "cell_type": "code",
   "execution_count": 4,
   "metadata": {},
   "outputs": [
    {
     "data": {
      "text/plain": [
       "mpg             0\n",
       "cylinders       0\n",
       "displacement    0\n",
       "horsepower      6\n",
       "weight          0\n",
       "acceleration    0\n",
       "year            0\n",
       "origin          0\n",
       "name            0\n",
       "dtype: int64"
      ]
     },
     "execution_count": 4,
     "metadata": {},
     "output_type": "execute_result"
    }
   ],
   "source": [
    "df.isna().sum()"
   ]
  },
  {
   "cell_type": "code",
   "execution_count": 5,
   "metadata": {},
   "outputs": [
    {
     "data": {
      "text/html": [
       "<div>\n",
       "<style scoped>\n",
       "    .dataframe tbody tr th:only-of-type {\n",
       "        vertical-align: middle;\n",
       "    }\n",
       "\n",
       "    .dataframe tbody tr th {\n",
       "        vertical-align: top;\n",
       "    }\n",
       "\n",
       "    .dataframe thead th {\n",
       "        text-align: right;\n",
       "    }\n",
       "</style>\n",
       "<table border=\"1\" class=\"dataframe\">\n",
       "  <thead>\n",
       "    <tr style=\"text-align: right;\">\n",
       "      <th></th>\n",
       "      <th>mpg</th>\n",
       "      <th>cylinders</th>\n",
       "      <th>displacement</th>\n",
       "      <th>horsepower</th>\n",
       "      <th>weight</th>\n",
       "      <th>acceleration</th>\n",
       "      <th>year</th>\n",
       "      <th>origin</th>\n",
       "      <th>name</th>\n",
       "    </tr>\n",
       "  </thead>\n",
       "  <tbody>\n",
       "    <tr>\n",
       "      <th>32</th>\n",
       "      <td>25.0</td>\n",
       "      <td>4</td>\n",
       "      <td>98.0</td>\n",
       "      <td>NaN</td>\n",
       "      <td>2046</td>\n",
       "      <td>19.0</td>\n",
       "      <td>71</td>\n",
       "      <td>1</td>\n",
       "      <td>ford pinto</td>\n",
       "    </tr>\n",
       "    <tr>\n",
       "      <th>126</th>\n",
       "      <td>21.0</td>\n",
       "      <td>6</td>\n",
       "      <td>200.0</td>\n",
       "      <td>NaN</td>\n",
       "      <td>2875</td>\n",
       "      <td>17.0</td>\n",
       "      <td>74</td>\n",
       "      <td>1</td>\n",
       "      <td>ford maverick</td>\n",
       "    </tr>\n",
       "    <tr>\n",
       "      <th>330</th>\n",
       "      <td>40.9</td>\n",
       "      <td>4</td>\n",
       "      <td>85.0</td>\n",
       "      <td>NaN</td>\n",
       "      <td>1835</td>\n",
       "      <td>17.3</td>\n",
       "      <td>80</td>\n",
       "      <td>2</td>\n",
       "      <td>renault lecar deluxe</td>\n",
       "    </tr>\n",
       "    <tr>\n",
       "      <th>336</th>\n",
       "      <td>23.6</td>\n",
       "      <td>4</td>\n",
       "      <td>140.0</td>\n",
       "      <td>NaN</td>\n",
       "      <td>2905</td>\n",
       "      <td>14.3</td>\n",
       "      <td>80</td>\n",
       "      <td>1</td>\n",
       "      <td>ford mustang cobra</td>\n",
       "    </tr>\n",
       "    <tr>\n",
       "      <th>354</th>\n",
       "      <td>34.5</td>\n",
       "      <td>4</td>\n",
       "      <td>100.0</td>\n",
       "      <td>NaN</td>\n",
       "      <td>2320</td>\n",
       "      <td>15.8</td>\n",
       "      <td>81</td>\n",
       "      <td>2</td>\n",
       "      <td>renault 18i</td>\n",
       "    </tr>\n",
       "    <tr>\n",
       "      <th>374</th>\n",
       "      <td>23.0</td>\n",
       "      <td>4</td>\n",
       "      <td>151.0</td>\n",
       "      <td>NaN</td>\n",
       "      <td>3035</td>\n",
       "      <td>20.5</td>\n",
       "      <td>82</td>\n",
       "      <td>1</td>\n",
       "      <td>amc concord dl</td>\n",
       "    </tr>\n",
       "  </tbody>\n",
       "</table>\n",
       "</div>"
      ],
      "text/plain": [
       "      mpg  cylinders  displacement  horsepower  weight  acceleration  year  \\\n",
       "32   25.0          4          98.0         NaN    2046          19.0    71   \n",
       "126  21.0          6         200.0         NaN    2875          17.0    74   \n",
       "330  40.9          4          85.0         NaN    1835          17.3    80   \n",
       "336  23.6          4         140.0         NaN    2905          14.3    80   \n",
       "354  34.5          4         100.0         NaN    2320          15.8    81   \n",
       "374  23.0          4         151.0         NaN    3035          20.5    82   \n",
       "\n",
       "     origin                  name  \n",
       "32        1            ford pinto  \n",
       "126       1         ford maverick  \n",
       "330       2  renault lecar deluxe  \n",
       "336       1    ford mustang cobra  \n",
       "354       2           renault 18i  \n",
       "374       1        amc concord dl  "
      ]
     },
     "execution_count": 5,
     "metadata": {},
     "output_type": "execute_result"
    }
   ],
   "source": [
    "df.loc[df['horsepower'].isna()]"
   ]
  },
  {
   "cell_type": "code",
   "execution_count": 6,
   "metadata": {},
   "outputs": [
    {
     "data": {
      "text/plain": [
       "mpg                      21.0\n",
       "cylinders                   6\n",
       "displacement            200.0\n",
       "horsepower                NaN\n",
       "weight                   2875\n",
       "acceleration             17.0\n",
       "year                       74\n",
       "origin                      1\n",
       "name            ford maverick\n",
       "Name: 126, dtype: object"
      ]
     },
     "execution_count": 6,
     "metadata": {},
     "output_type": "execute_result"
    }
   ],
   "source": [
    "df.iloc[126]"
   ]
  },
  {
   "cell_type": "code",
   "execution_count": 7,
   "metadata": {},
   "outputs": [
    {
     "name": "stdout",
     "output_type": "stream",
     "text": [
      "Median Horsepower is:: 93.5\n"
     ]
    }
   ],
   "source": [
    "hp_median = df['horsepower'].median()\n",
    "print(f'Median Horsepower is:: {hp_median}')"
   ]
  },
  {
   "cell_type": "code",
   "execution_count": 8,
   "metadata": {},
   "outputs": [],
   "source": [
    "df['horsepower'] = df['horsepower'].fillna(df['horsepower'].median())"
   ]
  },
  {
   "cell_type": "code",
   "execution_count": 9,
   "metadata": {},
   "outputs": [
    {
     "data": {
      "text/plain": [
       "0"
      ]
     },
     "execution_count": 9,
     "metadata": {},
     "output_type": "execute_result"
    }
   ],
   "source": [
    "df['horsepower'].isna().sum()"
   ]
  },
  {
   "cell_type": "code",
   "execution_count": 10,
   "metadata": {},
   "outputs": [
    {
     "data": {
      "text/plain": [
       "mpg                      21.0\n",
       "cylinders                   6\n",
       "displacement            200.0\n",
       "horsepower               93.5\n",
       "weight                   2875\n",
       "acceleration             17.0\n",
       "year                       74\n",
       "origin                      1\n",
       "name            ford maverick\n",
       "Name: 126, dtype: object"
      ]
     },
     "execution_count": 10,
     "metadata": {},
     "output_type": "execute_result"
    }
   ],
   "source": [
    "df.iloc[126]"
   ]
  },
  {
   "cell_type": "code",
   "execution_count": 11,
   "metadata": {},
   "outputs": [
    {
     "data": {
      "text/plain": [
       "Index(['mpg', 'cylinders', 'displacement', 'horsepower', 'weight',\n",
       "       'acceleration', 'year', 'origin', 'name'],\n",
       "      dtype='object')"
      ]
     },
     "execution_count": 11,
     "metadata": {},
     "output_type": "execute_result"
    }
   ],
   "source": [
    "df.columns"
   ]
  },
  {
   "cell_type": "code",
   "execution_count": 12,
   "metadata": {},
   "outputs": [
    {
     "name": "stdout",
     "output_type": "stream",
     "text": [
      "Type of X:: <class 'numpy.ndarray'>.  Type of y::<class 'numpy.ndarray'>\n"
     ]
    }
   ],
   "source": [
    "X = df[['cylinders', 'displacement', 'horsepower', 'weight',\n",
    "       'acceleration', 'year', 'origin']].values # convert features to numpy array\n",
    "y = df['mpg'].values # convert target to numpy array\n",
    "print(f'Type of X:: {type(X)}.  Type of y::{type(y)}')"
   ]
  },
  {
   "cell_type": "code",
   "execution_count": 13,
   "metadata": {},
   "outputs": [],
   "source": [
    "X_train, X_test, y_train, y_test = train_test_split(X, y, test_size=0.25, random_state=111)"
   ]
  },
  {
   "cell_type": "code",
   "execution_count": 14,
   "metadata": {},
   "outputs": [
    {
     "data": {
      "text/plain": [
       "(298, 7)"
      ]
     },
     "execution_count": 14,
     "metadata": {},
     "output_type": "execute_result"
    }
   ],
   "source": [
    "X_train.shape"
   ]
  },
  {
   "cell_type": "code",
   "execution_count": 15,
   "metadata": {},
   "outputs": [
    {
     "name": "stderr",
     "output_type": "stream",
     "text": [
      "d:\\Users\\Sean\\AppData\\Local\\Programs\\Python\\Python312\\Lib\\site-packages\\keras\\src\\layers\\core\\dense.py:87: UserWarning: Do not pass an `input_shape`/`input_dim` argument to a layer. When using Sequential models, prefer using an `Input(shape)` object as the first layer in the model instead.\n",
      "  super().__init__(activity_regularizer=activity_regularizer, **kwargs)\n"
     ]
    },
    {
     "name": "stdout",
     "output_type": "stream",
     "text": [
      "Epoch 1/1000\n",
      "10/10 - 1s - 98ms/step - loss: 1349.2356 - val_loss: 375.6747\n",
      "Epoch 2/1000\n",
      "10/10 - 0s - 8ms/step - loss: 350.7584 - val_loss: 174.5278\n",
      "Epoch 3/1000\n",
      "10/10 - 0s - 7ms/step - loss: 197.5396 - val_loss: 119.9026\n",
      "Epoch 4/1000\n",
      "10/10 - 0s - 7ms/step - loss: 132.5934 - val_loss: 96.9311\n",
      "Epoch 5/1000\n",
      "10/10 - 0s - 7ms/step - loss: 111.4237 - val_loss: 94.5567\n",
      "Epoch 6/1000\n",
      "10/10 - 0s - 7ms/step - loss: 90.0873 - val_loss: 101.6004\n",
      "Epoch 7/1000\n",
      "10/10 - 0s - 6ms/step - loss: 85.4185 - val_loss: 92.1277\n",
      "Epoch 8/1000\n",
      "10/10 - 0s - 7ms/step - loss: 80.4797 - val_loss: 87.3973\n",
      "Epoch 9/1000\n",
      "10/10 - 0s - 8ms/step - loss: 76.4565 - val_loss: 82.4705\n",
      "Epoch 10/1000\n",
      "10/10 - 0s - 7ms/step - loss: 73.7927 - val_loss: 78.6594\n",
      "Epoch 11/1000\n",
      "10/10 - 0s - 6ms/step - loss: 69.9569 - val_loss: 76.8666\n",
      "Epoch 12/1000\n",
      "10/10 - 0s - 7ms/step - loss: 67.9974 - val_loss: 76.9998\n",
      "Epoch 13/1000\n",
      "10/10 - 0s - 7ms/step - loss: 66.9862 - val_loss: 85.1511\n",
      "Epoch 14/1000\n",
      "10/10 - 0s - 6ms/step - loss: 72.5475 - val_loss: 78.6511\n",
      "Epoch 15/1000\n",
      "10/10 - 0s - 7ms/step - loss: 64.3861 - val_loss: 63.4715\n",
      "Epoch 16/1000\n",
      "10/10 - 0s - 6ms/step - loss: 57.1604 - val_loss: 60.8745\n",
      "Epoch 17/1000\n",
      "10/10 - 0s - 6ms/step - loss: 54.3856 - val_loss: 60.7229\n",
      "Epoch 18/1000\n",
      "10/10 - 0s - 7ms/step - loss: 52.3353 - val_loss: 55.5011\n",
      "Epoch 19/1000\n",
      "10/10 - 0s - 6ms/step - loss: 49.6335 - val_loss: 55.2707\n",
      "Epoch 20/1000\n",
      "10/10 - 0s - 7ms/step - loss: 49.2453 - val_loss: 50.9055\n",
      "Epoch 21/1000\n",
      "10/10 - 0s - 7ms/step - loss: 46.1388 - val_loss: 50.0944\n",
      "Epoch 22/1000\n",
      "10/10 - 0s - 9ms/step - loss: 45.2961 - val_loss: 46.6813\n",
      "Epoch 23/1000\n",
      "10/10 - 0s - 5ms/step - loss: 44.0872 - val_loss: 48.3388\n",
      "Epoch 24/1000\n",
      "10/10 - 0s - 7ms/step - loss: 42.4668 - val_loss: 46.0698\n",
      "Epoch 25/1000\n",
      "10/10 - 0s - 5ms/step - loss: 41.4664 - val_loss: 43.7757\n",
      "Epoch 26/1000\n",
      "10/10 - 0s - 7ms/step - loss: 38.9403 - val_loss: 42.2454\n",
      "Epoch 27/1000\n",
      "10/10 - 0s - 6ms/step - loss: 37.1824 - val_loss: 40.0585\n",
      "Epoch 28/1000\n",
      "10/10 - 0s - 5ms/step - loss: 37.2451 - val_loss: 37.3589\n",
      "Epoch 29/1000\n",
      "10/10 - 0s - 7ms/step - loss: 34.4472 - val_loss: 36.8940\n",
      "Epoch 30/1000\n",
      "10/10 - 0s - 6ms/step - loss: 32.5816 - val_loss: 40.6843\n",
      "Epoch 31/1000\n",
      "10/10 - 0s - 5ms/step - loss: 34.3778 - val_loss: 41.2457\n",
      "Epoch 32/1000\n",
      "10/10 - 0s - 7ms/step - loss: 32.2296 - val_loss: 34.7171\n",
      "Epoch 33/1000\n",
      "10/10 - 0s - 8ms/step - loss: 31.1102 - val_loss: 35.2769\n",
      "Epoch 34/1000\n",
      "10/10 - 0s - 6ms/step - loss: 31.4149 - val_loss: 32.8281\n",
      "Epoch 35/1000\n",
      "10/10 - 0s - 6ms/step - loss: 29.6024 - val_loss: 30.7528\n",
      "Epoch 36/1000\n",
      "10/10 - 0s - 7ms/step - loss: 27.7586 - val_loss: 31.1471\n",
      "Epoch 37/1000\n",
      "10/10 - 0s - 6ms/step - loss: 27.6956 - val_loss: 29.7897\n",
      "Epoch 38/1000\n",
      "10/10 - 0s - 7ms/step - loss: 26.8208 - val_loss: 28.9131\n",
      "Epoch 39/1000\n",
      "10/10 - 0s - 7ms/step - loss: 26.9255 - val_loss: 28.4213\n",
      "Epoch 40/1000\n",
      "10/10 - 0s - 7ms/step - loss: 27.2185 - val_loss: 27.9214\n",
      "Epoch 41/1000\n",
      "10/10 - 0s - 7ms/step - loss: 25.6111 - val_loss: 30.5275\n",
      "Epoch 42/1000\n",
      "10/10 - 0s - 7ms/step - loss: 25.8094 - val_loss: 27.8971\n",
      "Epoch 43/1000\n",
      "10/10 - 0s - 7ms/step - loss: 24.2915 - val_loss: 26.6814\n",
      "Epoch 44/1000\n",
      "10/10 - 0s - 6ms/step - loss: 24.6335 - val_loss: 27.0368\n",
      "Epoch 45/1000\n",
      "10/10 - 0s - 6ms/step - loss: 24.1514 - val_loss: 26.3442\n",
      "Epoch 46/1000\n",
      "10/10 - 0s - 5ms/step - loss: 23.4380 - val_loss: 25.7082\n",
      "Epoch 47/1000\n",
      "10/10 - 0s - 7ms/step - loss: 23.6911 - val_loss: 26.5653\n",
      "Epoch 48/1000\n",
      "10/10 - 0s - 7ms/step - loss: 22.9328 - val_loss: 25.4015\n",
      "Epoch 49/1000\n",
      "10/10 - 0s - 6ms/step - loss: 22.7916 - val_loss: 26.1614\n",
      "Epoch 50/1000\n",
      "10/10 - 0s - 7ms/step - loss: 23.8474 - val_loss: 28.8112\n",
      "Epoch 51/1000\n",
      "10/10 - 0s - 7ms/step - loss: 22.7722 - val_loss: 24.4511\n",
      "Epoch 52/1000\n",
      "10/10 - 0s - 7ms/step - loss: 22.8271 - val_loss: 24.2504\n",
      "Epoch 53/1000\n",
      "10/10 - 0s - 8ms/step - loss: 23.4653 - val_loss: 26.1281\n",
      "Epoch 54/1000\n",
      "10/10 - 0s - 9ms/step - loss: 22.2425 - val_loss: 23.8915\n",
      "Epoch 55/1000\n",
      "10/10 - 0s - 8ms/step - loss: 21.0127 - val_loss: 29.6434\n",
      "Epoch 56/1000\n",
      "10/10 - 0s - 7ms/step - loss: 24.5351 - val_loss: 29.0328\n",
      "Epoch 57/1000\n",
      "10/10 - 0s - 7ms/step - loss: 21.7588 - val_loss: 23.5534\n",
      "Epoch 58/1000\n",
      "10/10 - 0s - 5ms/step - loss: 22.0554 - val_loss: 23.0253\n",
      "Epoch 59/1000\n",
      "10/10 - 0s - 5ms/step - loss: 24.2543 - val_loss: 24.8178\n",
      "Epoch 60/1000\n",
      "10/10 - 0s - 7ms/step - loss: 21.0406 - val_loss: 22.8736\n",
      "Epoch 61/1000\n",
      "10/10 - 0s - 7ms/step - loss: 22.6965 - val_loss: 22.6312\n",
      "Epoch 62/1000\n",
      "10/10 - 0s - 7ms/step - loss: 21.3322 - val_loss: 22.1656\n",
      "Epoch 63/1000\n",
      "10/10 - 0s - 6ms/step - loss: 20.1820 - val_loss: 23.2570\n",
      "Epoch 64/1000\n",
      "10/10 - 0s - 5ms/step - loss: 21.1463 - val_loss: 21.8515\n",
      "Epoch 65/1000\n",
      "10/10 - 0s - 7ms/step - loss: 19.7557 - val_loss: 21.9745\n",
      "Epoch 66/1000\n",
      "10/10 - 0s - 7ms/step - loss: 20.2875 - val_loss: 23.4654\n",
      "Epoch 67/1000\n",
      "10/10 - 0s - 7ms/step - loss: 20.7070 - val_loss: 22.7519\n",
      "Epoch 68/1000\n",
      "10/10 - 0s - 10ms/step - loss: 19.9610 - val_loss: 25.9529\n",
      "Epoch 69/1000\n",
      "10/10 - 0s - 8ms/step - loss: 20.6604 - val_loss: 21.3459\n",
      "Epoch 70/1000\n",
      "10/10 - 0s - 5ms/step - loss: 20.4668 - val_loss: 21.5041\n",
      "Epoch 71/1000\n",
      "10/10 - 0s - 8ms/step - loss: 19.6895 - val_loss: 24.7096\n",
      "Epoch 72/1000\n",
      "10/10 - 0s - 6ms/step - loss: 20.0145 - val_loss: 21.7073\n",
      "Epoch 73/1000\n",
      "10/10 - 0s - 6ms/step - loss: 18.5016 - val_loss: 20.3573\n",
      "Epoch 74/1000\n",
      "10/10 - 0s - 6ms/step - loss: 18.4441 - val_loss: 20.8878\n",
      "Epoch 75/1000\n",
      "10/10 - 0s - 6ms/step - loss: 18.2618 - val_loss: 20.0227\n",
      "Epoch 76/1000\n",
      "10/10 - 0s - 5ms/step - loss: 18.1522 - val_loss: 20.0051\n",
      "Epoch 77/1000\n",
      "10/10 - 0s - 7ms/step - loss: 17.7035 - val_loss: 25.5811\n",
      "Epoch 78/1000\n",
      "10/10 - 0s - 6ms/step - loss: 19.8441 - val_loss: 19.7154\n",
      "Epoch 79/1000\n",
      "10/10 - 0s - 6ms/step - loss: 18.5014 - val_loss: 19.3705\n",
      "Epoch 80/1000\n",
      "10/10 - 0s - 6ms/step - loss: 18.3752 - val_loss: 21.8250\n",
      "Epoch 81/1000\n",
      "10/10 - 0s - 5ms/step - loss: 18.5853 - val_loss: 19.1682\n",
      "Epoch 82/1000\n",
      "10/10 - 0s - 9ms/step - loss: 18.0410 - val_loss: 19.0507\n",
      "Epoch 83/1000\n",
      "10/10 - 0s - 6ms/step - loss: 17.2945 - val_loss: 18.9092\n",
      "Epoch 84/1000\n",
      "10/10 - 0s - 5ms/step - loss: 17.3705 - val_loss: 18.9648\n",
      "Epoch 85/1000\n",
      "10/10 - 0s - 6ms/step - loss: 17.3474 - val_loss: 18.9892\n",
      "Epoch 86/1000\n",
      "10/10 - 0s - 6ms/step - loss: 17.7347 - val_loss: 20.0434\n",
      "Epoch 87/1000\n",
      "10/10 - 0s - 7ms/step - loss: 17.4380 - val_loss: 19.8611\n",
      "Epoch 88/1000\n",
      "10/10 - 0s - 6ms/step - loss: 17.1202 - val_loss: 18.7815\n",
      "Epoch 89/1000\n",
      "10/10 - 0s - 7ms/step - loss: 16.9698 - val_loss: 17.9824\n",
      "Epoch 90/1000\n",
      "10/10 - 0s - 7ms/step - loss: 16.9858 - val_loss: 19.4869\n",
      "Epoch 91/1000\n",
      "10/10 - 0s - 6ms/step - loss: 18.2944 - val_loss: 20.3777\n",
      "Epoch 92/1000\n",
      "10/10 - 0s - 7ms/step - loss: 17.1752 - val_loss: 17.8917\n",
      "Epoch 93/1000\n",
      "10/10 - 0s - 7ms/step - loss: 16.5214 - val_loss: 18.2726\n",
      "Epoch 94/1000\n",
      "10/10 - 0s - 8ms/step - loss: 17.3631 - val_loss: 17.6981\n",
      "Epoch 95/1000\n",
      "10/10 - 0s - 6ms/step - loss: 18.2078 - val_loss: 20.4518\n",
      "Epoch 96/1000\n",
      "10/10 - 0s - 7ms/step - loss: 17.1608 - val_loss: 20.6883\n",
      "Epoch 97/1000\n",
      "10/10 - 0s - 7ms/step - loss: 17.8709 - val_loss: 17.0868\n",
      "Epoch 98/1000\n",
      "10/10 - 0s - 7ms/step - loss: 15.7354 - val_loss: 21.2460\n",
      "Epoch 99/1000\n",
      "10/10 - 0s - 6ms/step - loss: 19.8299 - val_loss: 18.8372\n",
      "Epoch 100/1000\n",
      "10/10 - 0s - 7ms/step - loss: 16.5293 - val_loss: 17.2093\n",
      "Epoch 101/1000\n",
      "10/10 - 0s - 6ms/step - loss: 16.5151 - val_loss: 17.3306\n",
      "Epoch 102/1000\n",
      "10/10 - 0s - 6ms/step - loss: 18.3344 - val_loss: 16.7597\n",
      "Epoch 103/1000\n",
      "10/10 - 0s - 7ms/step - loss: 17.7513 - val_loss: 16.8829\n",
      "Epoch 104/1000\n",
      "10/10 - 0s - 6ms/step - loss: 17.0699 - val_loss: 16.3521\n",
      "Epoch 105/1000\n",
      "10/10 - 0s - 6ms/step - loss: 15.9051 - val_loss: 16.8361\n",
      "Epoch 106/1000\n",
      "10/10 - 0s - 6ms/step - loss: 17.5867 - val_loss: 21.1407\n",
      "Epoch 107/1000\n",
      "10/10 - 0s - 6ms/step - loss: 18.4803 - val_loss: 20.2025\n",
      "Epoch 108/1000\n",
      "10/10 - 0s - 6ms/step - loss: 16.5258 - val_loss: 15.9844\n",
      "Epoch 109/1000\n",
      "10/10 - 0s - 6ms/step - loss: 15.4494 - val_loss: 16.0775\n",
      "Epoch 110/1000\n",
      "10/10 - 0s - 6ms/step - loss: 15.8524 - val_loss: 22.1842\n",
      "Epoch 111/1000\n",
      "10/10 - 0s - 5ms/step - loss: 16.3787 - val_loss: 17.0140\n",
      "Epoch 112/1000\n",
      "10/10 - 0s - 7ms/step - loss: 16.7168 - val_loss: 23.5880\n",
      "Epoch 113/1000\n",
      "10/10 - 0s - 7ms/step - loss: 17.7238 - val_loss: 20.3953\n",
      "Epoch 113: early stopping\n",
      "Restoring model weights from the end of the best epoch: 108.\n"
     ]
    },
    {
     "data": {
      "text/plain": [
       "<keras.src.callbacks.history.History at 0x1f6919cde20>"
      ]
     },
     "execution_count": 15,
     "metadata": {},
     "output_type": "execute_result"
    }
   ],
   "source": [
    "from sys import monitoring\n",
    "from tabnanny import verbose\n",
    "from turtle import mode\n",
    "from wsgiref import validate\n",
    "from scipy import optimize\n",
    "\n",
    "\n",
    "model = Sequential()\n",
    "model.add(Dense(25, input_dim=X.shape[1], activation='relu')) #input dimension =7\n",
    "model.add(Dense(10, activation='relu')) \n",
    "model.add(Dense(1)) #Output Layer\n",
    "model.compile(loss='mean_squared_error', optimizer='adam') #minimize error via gradient descent\n",
    "\n",
    "monitor = EarlyStopping(monitor='val_loss', min_delta=1e-3, patience=5, verbose=1, mode='auto', restore_best_weights=True)\n",
    "\n",
    "model.fit(X_train, y_train, validation_data=(X_test, y_test), callbacks=[monitor], verbose=2, epochs=1000)"
   ]
  },
  {
   "cell_type": "code",
   "execution_count": 18,
   "metadata": {},
   "outputs": [
    {
     "name": "stdout",
     "output_type": "stream",
     "text": [
      "\u001b[1m4/4\u001b[0m \u001b[32m━━━━━━━━━━━━━━━━━━━━\u001b[0m\u001b[37m\u001b[0m \u001b[1m0s\u001b[0m 2ms/step \n",
      "Score after training is:: 3.9980475432324565\n"
     ]
    }
   ],
   "source": [
    "prediction = model.predict(X_test)\n",
    "score = np.sqrt(metrics.mean_squared_error(prediction, y_test))\n",
    "print(f'Score after training is:: {score}')"
   ]
  },
  {
   "cell_type": "code",
   "execution_count": 19,
   "metadata": {},
   "outputs": [
    {
     "data": {
      "text/plain": [
       "'D:\\\\Downloads\\\\Python Practice\\\\Deploying-Machine-Learning-with-Flask\\\\saved-model'"
      ]
     },
     "execution_count": 19,
     "metadata": {},
     "output_type": "execute_result"
    }
   ],
   "source": [
    "os.chdir(r'D:\\Downloads\\Python Practice\\Deploying-Machine-Learning-with-Flask\\saved-model')\n",
    "os.getcwd()"
   ]
  },
  {
   "cell_type": "code",
   "execution_count": 22,
   "metadata": {},
   "outputs": [
    {
     "name": "stderr",
     "output_type": "stream",
     "text": [
      "WARNING:absl:You are saving your model as an HDF5 file via `model.save()` or `keras.saving.save_model(model)`. This file format is considered legacy. We recommend using instead the native Keras format, e.g. `model.save('my_model.keras')` or `keras.saving.save_model(model, 'my_model.keras')`. \n"
     ]
    }
   ],
   "source": [
    "model.save(os.path.join(os.getcwd(), 'mpg_model.h5'))"
   ]
  },
  {
   "cell_type": "markdown",
   "metadata": {},
   "source": [
    "The .h5 file extension is associated with the HDF5 (Hierarchical Data Format version 5) format. In the context of machine learning and deep learning, .h5 files are commonly used to save and load models, especially in frameworks like TensorFlow and Keras.\n",
    "\n"
   ]
  },
  {
   "cell_type": "code",
   "execution_count": 23,
   "metadata": {},
   "outputs": [],
   "source": [
    "from tensorflow.keras.models import load_model"
   ]
  },
  {
   "cell_type": "code",
   "execution_count": 37,
   "metadata": {},
   "outputs": [
    {
     "name": "stderr",
     "output_type": "stream",
     "text": [
      "WARNING:absl:Compiled the loaded model, but the compiled metrics have yet to be built. `model.compile_metrics` will be empty until you train or evaluate the model.\n"
     ]
    },
    {
     "data": {
      "text/html": [
       "<pre style=\"white-space:pre;overflow-x:auto;line-height:normal;font-family:Menlo,'DejaVu Sans Mono',consolas,'Courier New',monospace\"><span style=\"font-weight: bold\">Model: \"sequential\"</span>\n",
       "</pre>\n"
      ],
      "text/plain": [
       "\u001b[1mModel: \"sequential\"\u001b[0m\n"
      ]
     },
     "metadata": {},
     "output_type": "display_data"
    },
    {
     "data": {
      "text/html": [
       "<pre style=\"white-space:pre;overflow-x:auto;line-height:normal;font-family:Menlo,'DejaVu Sans Mono',consolas,'Courier New',monospace\">┏━━━━━━━━━━━━━━━━━━━━━━━━━━━━━━━━━┳━━━━━━━━━━━━━━━━━━━━━━━━┳━━━━━━━━━━━━━━━┓\n",
       "┃<span style=\"font-weight: bold\"> Layer (type)                    </span>┃<span style=\"font-weight: bold\"> Output Shape           </span>┃<span style=\"font-weight: bold\">       Param # </span>┃\n",
       "┡━━━━━━━━━━━━━━━━━━━━━━━━━━━━━━━━━╇━━━━━━━━━━━━━━━━━━━━━━━━╇━━━━━━━━━━━━━━━┩\n",
       "│ dense (<span style=\"color: #0087ff; text-decoration-color: #0087ff\">Dense</span>)                   │ (<span style=\"color: #00d7ff; text-decoration-color: #00d7ff\">None</span>, <span style=\"color: #00af00; text-decoration-color: #00af00\">25</span>)             │           <span style=\"color: #00af00; text-decoration-color: #00af00\">200</span> │\n",
       "├─────────────────────────────────┼────────────────────────┼───────────────┤\n",
       "│ dense_1 (<span style=\"color: #0087ff; text-decoration-color: #0087ff\">Dense</span>)                 │ (<span style=\"color: #00d7ff; text-decoration-color: #00d7ff\">None</span>, <span style=\"color: #00af00; text-decoration-color: #00af00\">10</span>)             │           <span style=\"color: #00af00; text-decoration-color: #00af00\">260</span> │\n",
       "├─────────────────────────────────┼────────────────────────┼───────────────┤\n",
       "│ dense_2 (<span style=\"color: #0087ff; text-decoration-color: #0087ff\">Dense</span>)                 │ (<span style=\"color: #00d7ff; text-decoration-color: #00d7ff\">None</span>, <span style=\"color: #00af00; text-decoration-color: #00af00\">1</span>)              │            <span style=\"color: #00af00; text-decoration-color: #00af00\">11</span> │\n",
       "└─────────────────────────────────┴────────────────────────┴───────────────┘\n",
       "</pre>\n"
      ],
      "text/plain": [
       "┏━━━━━━━━━━━━━━━━━━━━━━━━━━━━━━━━━┳━━━━━━━━━━━━━━━━━━━━━━━━┳━━━━━━━━━━━━━━━┓\n",
       "┃\u001b[1m \u001b[0m\u001b[1mLayer (type)                   \u001b[0m\u001b[1m \u001b[0m┃\u001b[1m \u001b[0m\u001b[1mOutput Shape          \u001b[0m\u001b[1m \u001b[0m┃\u001b[1m \u001b[0m\u001b[1m      Param #\u001b[0m\u001b[1m \u001b[0m┃\n",
       "┡━━━━━━━━━━━━━━━━━━━━━━━━━━━━━━━━━╇━━━━━━━━━━━━━━━━━━━━━━━━╇━━━━━━━━━━━━━━━┩\n",
       "│ dense (\u001b[38;5;33mDense\u001b[0m)                   │ (\u001b[38;5;45mNone\u001b[0m, \u001b[38;5;34m25\u001b[0m)             │           \u001b[38;5;34m200\u001b[0m │\n",
       "├─────────────────────────────────┼────────────────────────┼───────────────┤\n",
       "│ dense_1 (\u001b[38;5;33mDense\u001b[0m)                 │ (\u001b[38;5;45mNone\u001b[0m, \u001b[38;5;34m10\u001b[0m)             │           \u001b[38;5;34m260\u001b[0m │\n",
       "├─────────────────────────────────┼────────────────────────┼───────────────┤\n",
       "│ dense_2 (\u001b[38;5;33mDense\u001b[0m)                 │ (\u001b[38;5;45mNone\u001b[0m, \u001b[38;5;34m1\u001b[0m)              │            \u001b[38;5;34m11\u001b[0m │\n",
       "└─────────────────────────────────┴────────────────────────┴───────────────┘\n"
      ]
     },
     "metadata": {},
     "output_type": "display_data"
    },
    {
     "data": {
      "text/html": [
       "<pre style=\"white-space:pre;overflow-x:auto;line-height:normal;font-family:Menlo,'DejaVu Sans Mono',consolas,'Courier New',monospace\"><span style=\"font-weight: bold\"> Total params: </span><span style=\"color: #00af00; text-decoration-color: #00af00\">473</span> (1.85 KB)\n",
       "</pre>\n"
      ],
      "text/plain": [
       "\u001b[1m Total params: \u001b[0m\u001b[38;5;34m473\u001b[0m (1.85 KB)\n"
      ]
     },
     "metadata": {},
     "output_type": "display_data"
    },
    {
     "data": {
      "text/html": [
       "<pre style=\"white-space:pre;overflow-x:auto;line-height:normal;font-family:Menlo,'DejaVu Sans Mono',consolas,'Courier New',monospace\"><span style=\"font-weight: bold\"> Trainable params: </span><span style=\"color: #00af00; text-decoration-color: #00af00\">471</span> (1.84 KB)\n",
       "</pre>\n"
      ],
      "text/plain": [
       "\u001b[1m Trainable params: \u001b[0m\u001b[38;5;34m471\u001b[0m (1.84 KB)\n"
      ]
     },
     "metadata": {},
     "output_type": "display_data"
    },
    {
     "data": {
      "text/html": [
       "<pre style=\"white-space:pre;overflow-x:auto;line-height:normal;font-family:Menlo,'DejaVu Sans Mono',consolas,'Courier New',monospace\"><span style=\"font-weight: bold\"> Non-trainable params: </span><span style=\"color: #00af00; text-decoration-color: #00af00\">0</span> (0.00 B)\n",
       "</pre>\n"
      ],
      "text/plain": [
       "\u001b[1m Non-trainable params: \u001b[0m\u001b[38;5;34m0\u001b[0m (0.00 B)\n"
      ]
     },
     "metadata": {},
     "output_type": "display_data"
    },
    {
     "data": {
      "text/html": [
       "<pre style=\"white-space:pre;overflow-x:auto;line-height:normal;font-family:Menlo,'DejaVu Sans Mono',consolas,'Courier New',monospace\"><span style=\"font-weight: bold\"> Optimizer params: </span><span style=\"color: #00af00; text-decoration-color: #00af00\">2</span> (12.00 B)\n",
       "</pre>\n"
      ],
      "text/plain": [
       "\u001b[1m Optimizer params: \u001b[0m\u001b[38;5;34m2\u001b[0m (12.00 B)\n"
      ]
     },
     "metadata": {},
     "output_type": "display_data"
    }
   ],
   "source": [
    "os.chdir(r'D:\\Downloads\\Python Practice\\Deploying-Machine-Learning-with-Flask\\saved-model')\n",
    "loaded_model = load_model(os.path.join(os.getcwd(), 'mpg_model.h5'))\n",
    "loaded_model.summary()"
   ]
  },
  {
   "cell_type": "code",
   "execution_count": 38,
   "metadata": {},
   "outputs": [
    {
     "data": {
      "text/plain": [
       "array([[0., 0., 0., 0., 0., 0., 0.]])"
      ]
     },
     "execution_count": 38,
     "metadata": {},
     "output_type": "execute_result"
    }
   ],
   "source": [
    "X_features = np.zeros((1,7)) #One row, seven columns \n",
    "X_features"
   ]
  },
  {
   "cell_type": "code",
   "execution_count": 42,
   "metadata": {},
   "outputs": [
    {
     "name": "stdout",
     "output_type": "stream",
     "text": [
      "{\n",
      "\"cylinders\":{\"min\":3, \"max\":8},\n",
      "\"displacement\":{\"min\":68.0, \"max\":455.0},\n",
      "\"horsepower\":{\"min\":46.0, \"max\":230.0},\n",
      "\"weight\":{\"min\":1613, \"max\":5140},\n",
      "\"acceleration\":{\"min\":8.0, \"max\":24.8},\n",
      "\"year\":{\"min\":70, \"max\":82},\n",
      "\"origin\":{\"min\":1, \"max\":3}\n",
      "}\n"
     ]
    }
   ],
   "source": [
    "# Defining Boundaries for input data\n",
    "cols = [x for x in df.columns if x not in ('mpg', 'name')]\n",
    "\n",
    "print(\"{\")\n",
    "for i, name in enumerate(cols):\n",
    "    print(f'\"{name}\":{{\"min\":{df[name].min()}, \"max\":{df[name].max()}}}{\",\" if i<(len(cols)-1) else \"\"}')\n",
    "print(\"}\")"
   ]
  },
  {
   "cell_type": "code",
   "execution_count": 39,
   "metadata": {},
   "outputs": [
    {
     "data": {
      "text/plain": [
       "array([[8.0e+00, 4.0e+02, 8.0e+01, 2.0e+03, 1.9e+01, 7.2e+01, 1.0e+00]])"
      ]
     },
     "execution_count": 39,
     "metadata": {},
     "output_type": "execute_result"
    }
   ],
   "source": [
    "X_features[0,0] = 8\n",
    "X_features[0,1] = 400\n",
    "X_features[0,2] = 80\n",
    "X_features[0,3] = 2000\n",
    "X_features[0,4] = 19\n",
    "X_features[0,5] = 72\n",
    "X_features[0,6] = 1\n",
    "X_features"
   ]
  },
  {
   "cell_type": "code",
   "execution_count": 40,
   "metadata": {},
   "outputs": [
    {
     "name": "stdout",
     "output_type": "stream",
     "text": [
      "\u001b[1m1/1\u001b[0m \u001b[32m━━━━━━━━━━━━━━━━━━━━\u001b[0m\u001b[37m\u001b[0m \u001b[1m0s\u001b[0m 44ms/step\n"
     ]
    },
    {
     "name": "stderr",
     "output_type": "stream",
     "text": [
      "C:\\Users\\Sean\\AppData\\Local\\Temp\\ipykernel_10776\\1459366366.py:2: DeprecationWarning: Conversion of an array with ndim > 0 to a scalar is deprecated, and will error in future. Ensure you extract a single element from your array before performing this operation. (Deprecated NumPy 1.25.)\n",
      "  float(prediction[0])\n"
     ]
    },
    {
     "data": {
      "text/plain": [
       "18.393089294433594"
      ]
     },
     "execution_count": 40,
     "metadata": {},
     "output_type": "execute_result"
    }
   ],
   "source": [
    "prediction = loaded_model.predict(X_features)\n",
    "float(prediction[0])"
   ]
  },
  {
   "cell_type": "code",
   "execution_count": null,
   "metadata": {},
   "outputs": [],
   "source": []
  }
 ],
 "metadata": {
  "kernelspec": {
   "display_name": "Python 3",
   "language": "python",
   "name": "python3"
  },
  "language_info": {
   "codemirror_mode": {
    "name": "ipython",
    "version": 3
   },
   "file_extension": ".py",
   "mimetype": "text/x-python",
   "name": "python",
   "nbconvert_exporter": "python",
   "pygments_lexer": "ipython3",
   "version": "3.12.4"
  }
 },
 "nbformat": 4,
 "nbformat_minor": 2
}
