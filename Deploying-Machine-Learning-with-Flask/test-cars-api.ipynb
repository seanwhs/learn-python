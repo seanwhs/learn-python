{
 "cells": [
  {
   "cell_type": "code",
   "execution_count": 5,
   "metadata": {},
   "outputs": [
    {
     "name": "stdout",
     "output_type": "stream",
     "text": [
      "POST Successful:: {\n",
      "  \"errors\": [],\n",
      "  \"id\": \"cc34d48d-eb9e-4833-847b-184a179e9065\",\n",
      "  \"mpg\": 17.088665008544922\n",
      "}\n",
      "\n"
     ]
    }
   ],
   "source": [
    "import requests\n",
    "json = {\n",
    "    \"cylinders\":8,\n",
    "    \"displacement\":300,\n",
    "    \"horsepower\":78,\n",
    "    \"weight\":3500,\n",
    "    \"acceleration\":20,\n",
    "    \"year\":76,\n",
    "    \"origin\":1\n",
    "}\n",
    "r= requests.post('http://localhost:5000/api', json=json)\n",
    "\n",
    "if r.status_code==200:\n",
    "    print(f'POST Successful:: {r.text}')\n",
    "else:\n",
    "    print(f'POST Failed:: {r.text}')"
   ]
  },
  {
   "cell_type": "code",
   "execution_count": 6,
   "metadata": {},
   "outputs": [
    {
     "name": "stdout",
     "output_type": "stream",
     "text": [
      "POST Successful:: {\n",
      "  \"errors\": [\n",
      "    \"Out Of Bounds:: horsepower has value of 1178. Should fall between 46.0 and 230.0\"\n",
      "  ],\n",
      "  \"id\": \"540b74db-e3ea-40c9-8428-b960d69ae21d\"\n",
      "}\n",
      "\n"
     ]
    }
   ],
   "source": [
    "import requests\n",
    "json = {\n",
    "    \"cylinders\":8,\n",
    "    \"displacement\":300,\n",
    "    \"horsepower\":1178,\n",
    "    \"weight\":3500,\n",
    "    \"acceleration\":20,\n",
    "    \"year\":76,\n",
    "    \"origin\":1\n",
    "}\n",
    "r= requests.post('http://localhost:5000/api', json=json)\n",
    "\n",
    "if r.status_code==200:\n",
    "    print(f'POST Successful:: {r.text}')\n",
    "else:\n",
    "    print(f'POST Failed:: {r.text}')"
   ]
  },
  {
   "cell_type": "code",
   "execution_count": 7,
   "metadata": {},
   "outputs": [
    {
     "name": "stdout",
     "output_type": "stream",
     "text": [
      "POST Successful:: {\n",
      "  \"errors\": [\n",
      "    \"Missing Value:: origin\"\n",
      "  ],\n",
      "  \"id\": \"4b262c05-5b59-433c-a0bc-4d862479a87c\"\n",
      "}\n",
      "\n"
     ]
    }
   ],
   "source": [
    "import requests\n",
    "json = {\n",
    "    \"cylinders\":8,\n",
    "    \"displacement\":300,\n",
    "    \"horsepower\":78,\n",
    "    \"weight\":3500,\n",
    "    \"acceleration\":20,\n",
    "    \"year\":76,\n",
    "}\n",
    "r= requests.post('http://localhost:5000/api', json=json)\n",
    "\n",
    "if r.status_code==200:\n",
    "    print(f'POST Successful:: {r.text}')\n",
    "else:\n",
    "    print(f'POST Failed:: {r.text}')"
   ]
  },
  {
   "cell_type": "code",
   "execution_count": 8,
   "metadata": {},
   "outputs": [
    {
     "name": "stdout",
     "output_type": "stream",
     "text": [
      "POST Successful:: {\n",
      "  \"errors\": [\n",
      "    \"Unexpected Field:: Hello World\",\n",
      "    \"Missing Value:: origin\"\n",
      "  ],\n",
      "  \"id\": \"74352206-f5dd-4442-85aa-a0664a142ec4\"\n",
      "}\n",
      "\n"
     ]
    }
   ],
   "source": [
    "import requests\n",
    "json = {\n",
    "    \"cylinders\":8,\n",
    "    \"displacement\":300,\n",
    "    \"horsepower\":78,\n",
    "    \"weight\":3500,\n",
    "    \"acceleration\":20,\n",
    "    \"year\":76,\n",
    "    \"Hello World\":1\n",
    "}\n",
    "r= requests.post('http://localhost:5000/api', json=json)\n",
    "\n",
    "if r.status_code==200:\n",
    "    print(f'POST Successful:: {r.text}')\n",
    "else:\n",
    "    print(f'POST Failed:: {r.text}')"
   ]
  }
 ],
 "metadata": {
  "kernelspec": {
   "display_name": "Python 3",
   "language": "python",
   "name": "python3"
  },
  "language_info": {
   "codemirror_mode": {
    "name": "ipython",
    "version": 3
   },
   "file_extension": ".py",
   "mimetype": "text/x-python",
   "name": "python",
   "nbconvert_exporter": "python",
   "pygments_lexer": "ipython3",
   "version": "3.12.4"
  }
 },
 "nbformat": 4,
 "nbformat_minor": 2
}
