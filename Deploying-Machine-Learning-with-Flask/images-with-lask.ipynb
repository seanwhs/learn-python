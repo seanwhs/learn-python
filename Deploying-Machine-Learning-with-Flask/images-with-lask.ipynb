{
 "cells": [
  {
   "cell_type": "code",
   "execution_count": 1,
   "metadata": {},
   "outputs": [],
   "source": [
    "from flask import Flask, request, jsonify, url_for, render_template\n",
    "from werkzeug.utils import secure_filename\n",
    "from PIL import Image, ImageFile\n",
    "from io import BytesIO\n",
    "from tensorflow.keras.models import load_model\n",
    "from tensorflow.keras.preprocessing import image\n",
    "from tensorflow.keras.applications import MobileNet\n",
    "from tensorflow.keras.applications.mobilenet import preprocess_input, decode_predictions\n",
    "import os\n",
    "import uuid\n",
    "import numpy as np"
   ]
  },
  {
   "cell_type": "code",
   "execution_count": 2,
   "metadata": {},
   "outputs": [],
   "source": [
    "ALLOWED_EXTENSION = set(['txt', 'pdf', 'png', 'jpg', 'jpeg', 'gif', 'webp'])\n",
    "IMAGE_HEIGHT = 224\n",
    "IMAGE_WIDTH = 224\n",
    "IMAGE_CHANNELS = 3\n",
    "os.chdir(r'D:\\Downloads\\Python Practice\\Deploying-Machine-Learning-with-Flask')"
   ]
  },
  {
   "cell_type": "code",
   "execution_count": 3,
   "metadata": {},
   "outputs": [],
   "source": [
    "def allowed_file(filename):\n",
    "    return '.' in filename and \\\n",
    "    filename.rsplit('.', 1)[1].lower() in ALLOWED_EXTENSION"
   ]
  },
  {
   "cell_type": "code",
   "execution_count": 4,
   "metadata": {},
   "outputs": [
    {
     "name": "stdout",
     "output_type": "stream",
     "text": [
      " * Serving Flask app '__main__'\n",
      " * Debug mode: on\n"
     ]
    },
    {
     "name": "stderr",
     "output_type": "stream",
     "text": [
      "WARNING: This is a development server. Do not use it in a production deployment. Use a production WSGI server instead.\n",
      " * Running on http://127.0.0.1:5000\n",
      "Press CTRL+C to quit\n"
     ]
    },
    {
     "name": "stdout",
     "output_type": "stream",
     "text": [
      "***spiderman.png\n",
      "\u001b[1m1/1\u001b[0m \u001b[32m━━━━━━━━━━━━━━━━━━━━\u001b[0m\u001b[37m\u001b[0m \u001b[1m1s\u001b[0m 727ms/step\n",
      "Downloading data from https://storage.googleapis.com/download.tensorflow.org/data/imagenet_class_index.json\n",
      "\u001b[1m35363/35363\u001b[0m \u001b[32m━━━━━━━━━━━━━━━━━━━━\u001b[0m\u001b[37m\u001b[0m \u001b[1m0s\u001b[0m 0s/step\n"
     ]
    },
    {
     "name": "stderr",
     "output_type": "stream",
     "text": [
      "127.0.0.1 - - [13/Aug/2024 18:04:28] \"POST /api/image HTTP/1.1\" 200 -\n",
      "127.0.0.1 - - [13/Aug/2024 18:04:28] \"GET /static/css/style.css HTTP/1.1\" 304 -\n"
     ]
    },
    {
     "name": "stdout",
     "output_type": "stream",
     "text": [
      "***mug.jpg\n",
      "\u001b[1m1/1\u001b[0m \u001b[32m━━━━━━━━━━━━━━━━━━━━\u001b[0m\u001b[37m\u001b[0m \u001b[1m0s\u001b[0m 68ms/step\n"
     ]
    },
    {
     "name": "stderr",
     "output_type": "stream",
     "text": [
      "127.0.0.1 - - [13/Aug/2024 18:04:37] \"POST /api/image HTTP/1.1\" 200 -\n",
      "127.0.0.1 - - [13/Aug/2024 18:04:37] \"GET /static/css/style.css HTTP/1.1\" 304 -\n"
     ]
    },
    {
     "name": "stdout",
     "output_type": "stream",
     "text": [
      "***spiderman.png\n",
      "\u001b[1m1/1\u001b[0m \u001b[32m━━━━━━━━━━━━━━━━━━━━\u001b[0m\u001b[37m\u001b[0m \u001b[1m0s\u001b[0m 70ms/step\n"
     ]
    },
    {
     "name": "stderr",
     "output_type": "stream",
     "text": [
      "127.0.0.1 - - [13/Aug/2024 18:04:43] \"POST /api/image HTTP/1.1\" 200 -\n",
      "127.0.0.1 - - [13/Aug/2024 18:04:43] \"GET /static/css/style.css HTTP/1.1\" 304 -\n"
     ]
    },
    {
     "name": "stdout",
     "output_type": "stream",
     "text": [
      "***laptop.jpg\n",
      "\u001b[1m1/1\u001b[0m \u001b[32m━━━━━━━━━━━━━━━━━━━━\u001b[0m\u001b[37m\u001b[0m \u001b[1m0s\u001b[0m 47ms/step\n"
     ]
    },
    {
     "name": "stderr",
     "output_type": "stream",
     "text": [
      "127.0.0.1 - - [13/Aug/2024 18:04:50] \"POST /api/image HTTP/1.1\" 200 -\n",
      "127.0.0.1 - - [13/Aug/2024 18:04:50] \"GET /static/css/style.css HTTP/1.1\" 304 -\n"
     ]
    },
    {
     "name": "stdout",
     "output_type": "stream",
     "text": [
      "***dog.jpg\n",
      "\u001b[1m1/1\u001b[0m \u001b[32m━━━━━━━━━━━━━━━━━━━━\u001b[0m\u001b[37m\u001b[0m \u001b[1m0s\u001b[0m 58ms/step\n"
     ]
    },
    {
     "name": "stderr",
     "output_type": "stream",
     "text": [
      "127.0.0.1 - - [13/Aug/2024 18:04:57] \"POST /api/image HTTP/1.1\" 200 -\n",
      "127.0.0.1 - - [13/Aug/2024 18:04:57] \"GET /static/css/style.css HTTP/1.1\" 304 -\n"
     ]
    },
    {
     "name": "stdout",
     "output_type": "stream",
     "text": [
      "***cat.jpg\n",
      "\u001b[1m1/1\u001b[0m \u001b[32m━━━━━━━━━━━━━━━━━━━━\u001b[0m\u001b[37m\u001b[0m \u001b[1m0s\u001b[0m 47ms/step\n"
     ]
    },
    {
     "name": "stderr",
     "output_type": "stream",
     "text": [
      "127.0.0.1 - - [13/Aug/2024 18:05:02] \"POST /api/image HTTP/1.1\" 200 -\n",
      "127.0.0.1 - - [13/Aug/2024 18:05:02] \"GET /static/css/style.css HTTP/1.1\" 304 -\n"
     ]
    },
    {
     "name": "stdout",
     "output_type": "stream",
     "text": [
      "***Hello_Kitty.jpg\n",
      "\u001b[1m1/1\u001b[0m \u001b[32m━━━━━━━━━━━━━━━━━━━━\u001b[0m\u001b[37m\u001b[0m \u001b[1m0s\u001b[0m 60ms/step\n"
     ]
    },
    {
     "name": "stderr",
     "output_type": "stream",
     "text": [
      "127.0.0.1 - - [13/Aug/2024 18:05:13] \"POST /api/image HTTP/1.1\" 200 -\n",
      "127.0.0.1 - - [13/Aug/2024 18:05:13] \"GET /static/css/style.css HTTP/1.1\" 304 -\n"
     ]
    },
    {
     "name": "stdout",
     "output_type": "stream",
     "text": [
      "***cat.jpg\n",
      "\u001b[1m1/1\u001b[0m \u001b[32m━━━━━━━━━━━━━━━━━━━━\u001b[0m\u001b[37m\u001b[0m \u001b[1m0s\u001b[0m 66ms/step\n"
     ]
    },
    {
     "name": "stderr",
     "output_type": "stream",
     "text": [
      "127.0.0.1 - - [13/Aug/2024 18:05:29] \"POST /api/image HTTP/1.1\" 200 -\n",
      "127.0.0.1 - - [13/Aug/2024 18:05:29] \"GET /static/css/style.css HTTP/1.1\" 304 -\n"
     ]
    },
    {
     "name": "stdout",
     "output_type": "stream",
     "text": [
      "***cobra.webp\n",
      "\u001b[1m1/1\u001b[0m \u001b[32m━━━━━━━━━━━━━━━━━━━━\u001b[0m\u001b[37m\u001b[0m \u001b[1m0s\u001b[0m 43ms/step\n"
     ]
    },
    {
     "name": "stderr",
     "output_type": "stream",
     "text": [
      "127.0.0.1 - - [13/Aug/2024 18:06:13] \"POST /api/image HTTP/1.1\" 200 -\n",
      "127.0.0.1 - - [13/Aug/2024 18:06:13] \"GET /static/css/style.css HTTP/1.1\" 304 -\n"
     ]
    },
    {
     "name": "stdout",
     "output_type": "stream",
     "text": [
      "***chinese-dragon.jpg\n",
      "\u001b[1m1/1\u001b[0m \u001b[32m━━━━━━━━━━━━━━━━━━━━\u001b[0m\u001b[37m\u001b[0m \u001b[1m0s\u001b[0m 49ms/step\n"
     ]
    },
    {
     "name": "stderr",
     "output_type": "stream",
     "text": [
      "127.0.0.1 - - [13/Aug/2024 18:07:24] \"POST /api/image HTTP/1.1\" 200 -\n",
      "127.0.0.1 - - [13/Aug/2024 18:07:24] \"GET /static/css/style.css HTTP/1.1\" 304 -\n"
     ]
    },
    {
     "name": "stdout",
     "output_type": "stream",
     "text": [
      "***ice-cream-cone.jpg\n",
      "\u001b[1m1/1\u001b[0m \u001b[32m━━━━━━━━━━━━━━━━━━━━\u001b[0m\u001b[37m\u001b[0m \u001b[1m0s\u001b[0m 45ms/step\n"
     ]
    },
    {
     "name": "stderr",
     "output_type": "stream",
     "text": [
      "127.0.0.1 - - [13/Aug/2024 18:08:04] \"POST /api/image HTTP/1.1\" 200 -\n",
      "127.0.0.1 - - [13/Aug/2024 18:08:04] \"GET /static/css/style.css HTTP/1.1\" 304 -\n"
     ]
    }
   ],
   "source": [
    "from fileinput import filename\n",
    "\n",
    "\n",
    "app = Flask(__name__)\n",
    "model = MobileNet(weights='imagenet', include_top=True)\n",
    "\n",
    "@app.route('/index')\n",
    "def index():\n",
    "    return render_template('ImageML.html')\n",
    "\n",
    "@app.route(\"/api/image\", methods = ['POST'])\n",
    "def upload_image():\n",
    "    if 'image' not in request.files:\n",
    "        return render_template('ImageML.html', prediction = 'No Posted Image')\n",
    "    file = request.files['image']\n",
    "\n",
    "    if file.filename == '':\n",
    "        return render_template('ImageML.html', prediction = 'No image selected')\n",
    "    \n",
    "    if file and allowed_file(file.filename):\n",
    "        filename = secure_filename(file.filename)\n",
    "        print ('***' + filename)\n",
    "        x = []\n",
    "\n",
    "        ImageFile.LOAD_TRUNCATED_IMAGES = False\n",
    "        img = Image.open(BytesIO(file.read()))\n",
    "        img.load()\n",
    "        img = img.resize((IMAGE_WIDTH, IMAGE_HEIGHT), Image.LANCZOS)\n",
    "        img = img.convert('RGB')  # Ensure image is in RGB mode\n",
    "        \n",
    "        x = image.img_to_array(img)\n",
    "        x = np.expand_dims(x, axis=0)\n",
    "        x = preprocess_input(x)\n",
    "        \n",
    "        pred = model.predict(x)\n",
    "        lst = decode_predictions(pred, top=3)\n",
    "\n",
    "        items = []\n",
    "        for item in lst[0]:\n",
    "            items.append({'name':item[1], 'prob': float(item[2])})\n",
    "\n",
    "        response = {'pred': items}\n",
    "        return  render_template('ImageML.html', prediction=f\"I'll say the image is most likely a {response}\" )\n",
    "    else:\n",
    "        return render_template('ImageML.html', prediction = 'Invalid File Extension')\n",
    "\n",
    "if __name__ == '__main__':\n",
    "    app.run(debug=True, use_reloader=False)"
   ]
  },
  {
   "cell_type": "code",
   "execution_count": null,
   "metadata": {},
   "outputs": [],
   "source": []
  }
 ],
 "metadata": {
  "kernelspec": {
   "display_name": "Python 3",
   "language": "python",
   "name": "python3"
  },
  "language_info": {
   "codemirror_mode": {
    "name": "ipython",
    "version": 3
   },
   "file_extension": ".py",
   "mimetype": "text/x-python",
   "name": "python",
   "nbconvert_exporter": "python",
   "pygments_lexer": "ipython3",
   "version": "3.12.4"
  }
 },
 "nbformat": 4,
 "nbformat_minor": 2
}
