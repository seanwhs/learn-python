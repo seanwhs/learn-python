{
 "cells": [
  {
   "cell_type": "markdown",
   "metadata": {},
   "source": [
    "# Model Evaluation with K-Fold Cross-Validation\n",
    "\n",
    "In this notebook, we will evaluate two types of regression models using K-Fold Cross-Validation on the Diabetes dataset:\n",
    "\n",
    "1. **Linear Regression**\n",
    "2. **Lasso Regression**\n",
    "\n",
    "### Objectives:\n",
    "1. **Load the Dataset**: We will use the Diabetes dataset from `scikit-learn`, which contains data related to diabetes progression.\n",
    "2. **Train and Evaluate the Models**: We will fit both Linear Regression and Lasso Regression models to the dataset and evaluate their performance.\n",
    "3. **Cross-Validation**: We will perform 10-Fold Cross-Validation to assess each model's generalization performance and compare it with the training performance.\n",
    "\n",
    "### Steps:\n",
    "1. **Import Libraries**: Import necessary libraries for data manipulation, modeling, and evaluation.\n",
    "2. **Load and Prepare Data**: Load the dataset and prepare the feature matrix and target variable.\n",
    "3. **Train the Models**: Fit both Linear Regression and Lasso Regression models to the entire dataset.\n",
    "4. **Evaluate the Models**: Compute the R² scores for both training and cross-validated predictions for each model.\n",
    "5. **Print Results**: Display the R² scores to understand each model's performance on the training data and during cross-validation."
   ]
  },
  {
   "cell_type": "code",
   "execution_count": 38,
   "metadata": {},
   "outputs": [],
   "source": [
    "# Import necessary libraries\n",
    "import numpy as np\n",
    "from sklearn.model_selection import KFold\n",
    "from sklearn.linear_model import LinearRegression, Lasso, Ridge, ElasticNet\n",
    "from sklearn.metrics import r2_score\n"
   ]
  },
  {
   "cell_type": "code",
   "execution_count": 39,
   "metadata": {},
   "outputs": [],
   "source": [
    "# Load the diabetes dataset\n",
    "from sklearn.datasets import load_diabetes\n",
    "dataset = load_diabetes()\n",
    "X = dataset.data\n",
    "y = dataset.target"
   ]
  },
  {
   "cell_type": "code",
   "execution_count": 40,
   "metadata": {},
   "outputs": [],
   "source": [
    "def evaluate_model(name, model):\n",
    "    \"\"\"\n",
    "    Fits a model, evaluates its performance on the training data and using 10-Fold cross-validation.\n",
    "    Prints the R^2 scores for both training and cross-validation.\n",
    "    \n",
    "    Parameters:\n",
    "    - name: str, name of the model\n",
    "    - model: scikit-learn model instance to evaluate\n",
    "    \"\"\"\n",
    "    # Fit the model on the entire dataset\n",
    "    model.fit(X, y)\n",
    "    \n",
    "    # Make predictions on the entire dataset\n",
    "    p = model.predict(X)\n",
    "    \n",
    "    # Calculate the R^2 score for the training data\n",
    "    r2_train = r2_score(y, p)\n",
    "\n",
    "    # Initialize K-Fold cross-validation with 10 folds\n",
    "    kf = KFold(n_splits=10, shuffle=True, random_state=111)\n",
    "    \n",
    "    # Array to store cross-validated predictions\n",
    "    p_cv = np.zeros_like(y)\n",
    "\n",
    "    # Perform K-Fold cross-validation\n",
    "    for train_index, test_index in kf.split(X):\n",
    "        # Split the data into training and test sets for this fold\n",
    "        X_train, X_test = X[train_index], X[test_index]\n",
    "        y_train, y_test = y[train_index], y[test_index]\n",
    "        \n",
    "        # Fit the model on the training data\n",
    "        model.fit(X_train, y_train)\n",
    "        \n",
    "        # Predict on the test data and store the predictions\n",
    "        p_cv[test_index] = model.predict(X_test)\n",
    "\n",
    "    # Calculate the R^2 score for the cross-validated predictions\n",
    "    r2_cv = r2_score(y, p_cv)\n",
    "    \n",
    "    # Print the results\n",
    "    print(f'Method:: {name}')  # Model name\n",
    "    print(f'Training R^2:: {r2_train:.2f}')  # R^2 score on the training data\n",
    "    print(f'10-Fold CV R^2:: {r2_cv:.2f}\\n')  # R^2 score from 10-fold cross-validation\n"
   ]
  },
  {
   "cell_type": "code",
   "execution_count": null,
   "metadata": {},
   "outputs": [],
   "source": []
  },
  {
   "cell_type": "code",
   "execution_count": 41,
   "metadata": {},
   "outputs": [
    {
     "name": "stdout",
     "output_type": "stream",
     "text": [
      "Method:: linear regression\n",
      "Training R^2:: 0.52\n",
      "10-Fold CV R^2:: 0.49\n",
      "\n",
      "Method:: lasso regression\n",
      "Training R^2:: 0.46\n",
      "10-Fold CV R^2:: 0.44\n",
      "\n",
      "Method:: ridge regression\n",
      "Training R^2:: 0.45\n",
      "10-Fold CV R^2:: 0.43\n",
      "\n",
      "Method:: elastic net\n",
      "Training R^2:: 0.02\n",
      "10-Fold CV R^2:: 0.02\n",
      "\n"
     ]
    }
   ],
   "source": [
    "# Define models to evaluate\n",
    "models = [\n",
    "    ('linear regression', LinearRegression()),\n",
    "    ('lasso regression', Lasso(alpha=0.5)),\n",
    "    ('ridge regression', Ridge(alpha=1.0)),\n",
    "    ('elastic net', ElasticNet(alpha=0.5, l1_ratio=0.5))\n",
    "]\n",
    "\n",
    "# Evaluate each model\n",
    "for name, model in models:\n",
    "    evaluate_model(name, model)"
   ]
  }
 ],
 "metadata": {
  "kernelspec": {
   "display_name": "Python 3",
   "language": "python",
   "name": "python3"
  },
  "language_info": {
   "codemirror_mode": {
    "name": "ipython",
    "version": 3
   },
   "file_extension": ".py",
   "mimetype": "text/x-python",
   "name": "python",
   "nbconvert_exporter": "python",
   "pygments_lexer": "ipython3",
   "version": "3.12.4"
  }
 },
 "nbformat": 4,
 "nbformat_minor": 2
}
