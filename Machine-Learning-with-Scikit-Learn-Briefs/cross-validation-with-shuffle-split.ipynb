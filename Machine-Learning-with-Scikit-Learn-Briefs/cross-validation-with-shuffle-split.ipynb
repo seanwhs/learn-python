{
 "cells": [
  {
   "cell_type": "markdown",
   "metadata": {},
   "source": [
    "# Data Splitting with ShuffleSplit\n",
    "\n",
    "In this notebook, we will demonstrate how to use the `ShuffleSplit` class from `scikit-learn` to create multiple train-test splits for a small dataset.\n",
    "\n",
    "### Objectives:\n",
    "1. **Define a Dataset**: Create a simple feature matrix and target vector for demonstration purposes.\n",
    "2. **Configure ShuffleSplit**: Initialize `ShuffleSplit` with specific parameters to generate multiple train-test splits.\n",
    "3. **Generate and Display Splits**: Iterate through each split and display the indices of the training and testing datasets.\n",
    "\n",
    "### Steps:\n",
    "1. **Import Libraries**: Import `numpy` for data manipulation and `ShuffleSplit` for splitting the dataset.\n",
    "2. **Initialize Dataset**: Define a small dataset with features and target values.\n",
    "3. **Set Up ShuffleSplit**: Configure `ShuffleSplit` with the number of splits, test size, and random seed.\n",
    "4. **Iterate and Print Splits**: Generate train-test splits and print the indices for each split to visualize the data distribution."
   ]
  },
  {
   "cell_type": "code",
   "execution_count": 8,
   "metadata": {},
   "outputs": [],
   "source": [
    "import numpy as np\n",
    "from sklearn.model_selection import ShuffleSplit\n"
   ]
  },
  {
   "cell_type": "code",
   "execution_count": 9,
   "metadata": {},
   "outputs": [],
   "source": [
    "# Define a small dataset with features and target values\n",
    "X = np.array([[1,2], [3,4], [5,6], [6,7]])\n",
    "y = np.array([1,2,1,2])"
   ]
  },
  {
   "cell_type": "code",
   "execution_count": 10,
   "metadata": {},
   "outputs": [
    {
     "name": "stdout",
     "output_type": "stream",
     "text": [
      "Training dataset:: [2 3 0],   Testing dataset:: [1]\n",
      "Training dataset:: [1 2 0],   Testing dataset:: [3]\n",
      "Training dataset:: [0 2 1],   Testing dataset:: [3]\n",
      "Training dataset:: [1 0 2],   Testing dataset:: [3]\n",
      "Training dataset:: [2 0 1],   Testing dataset:: [3]\n"
     ]
    }
   ],
   "source": [
    "# Initialize ShuffleSplit with 5 splits, a test size of 25%, and a random seed for reproducibility\n",
    "split_data = ShuffleSplit(n_splits=5, test_size=0.25, random_state=111)\n",
    "\n",
    "# Get the number of splits configured\n",
    "split_data.get_n_splits(X)\n",
    "\n",
    "# Iterate through each split\n",
    "for train_idx, test_idx in split_data.split(X):\n",
    "    # Print the indices for the training and testing datasets\n",
    "    print(f'Training dataset:: {train_idx},   Testing dataset:: {test_idx}')"
   ]
  },
  {
   "cell_type": "code",
   "execution_count": null,
   "metadata": {},
   "outputs": [],
   "source": []
  }
 ],
 "metadata": {
  "kernelspec": {
   "display_name": "Python 3",
   "language": "python",
   "name": "python3"
  },
  "language_info": {
   "codemirror_mode": {
    "name": "ipython",
    "version": 3
   },
   "file_extension": ".py",
   "mimetype": "text/x-python",
   "name": "python",
   "nbconvert_exporter": "python",
   "pygments_lexer": "ipython3",
   "version": "3.12.4"
  }
 },
 "nbformat": 4,
 "nbformat_minor": 2
}
