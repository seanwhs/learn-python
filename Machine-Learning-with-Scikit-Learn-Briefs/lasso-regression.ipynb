{
 "cells": [
  {
   "cell_type": "markdown",
   "metadata": {},
   "source": [
    "# Diabetes Dataset Analysis Using Lasso Regression (L1 Regularization)\n",
    "\n",
    "In this notebook, we will explore the diabetes dataset and apply Lasso regression to understand how different levels of regularization affect the model. The notebook covers the following steps:\n",
    "\n",
    "1. **Importing Libraries**: We start by importing the necessary libraries for data manipulation, model building, and evaluation.\n",
    "\n",
    "2. **Loading the Dataset**: We load the diabetes dataset from `scikit-learn`, which contains information about diabetes patients and their features.\n",
    "\n",
    "3. **Extract feature and target**: \n",
    "   - We extract the feature matrix (`X`) and the target variable (`y`).\n",
    "\n",
    "4. **Data Preprocessing**:\n",
    "   - We standardize the feature data to have a mean of 0 and a standard deviation of 1, which is essential for Lasso regression.\n",
    "\n",
    "5. **Applying Lasso Regression**:\n",
    "   - We initialize a Lasso regression model with a specific regularization parameter (`alpha`), fit the model on the standardized features, and make predictions.\n",
    "   - We calculate and display the R² score to evaluate the model’s performance.\n",
    "\n",
    "6. **Evaluating Different Alpha Values**:\n",
    "   - We experiment with different `alpha` values to observe how the regularization strength affects the model’s accuracy and the coefficients of the features.\n",
    "\n",
    "This analysis will help in understanding the impact of regularization on the model's performance and how to select appropriate regularization parameters for Lasso regression.\n"
   ]
  },
  {
   "cell_type": "code",
   "execution_count": 9,
   "metadata": {},
   "outputs": [],
   "source": [
    "# Import necessary libraries\n",
    "from sklearn.linear_model import Lasso\n",
    "from sklearn.datasets import load_diabetes\n",
    "from sklearn.preprocessing import StandardScaler"
   ]
  },
  {
   "cell_type": "code",
   "execution_count": 10,
   "metadata": {},
   "outputs": [],
   "source": [
    "# Load the diabetes dataset\n",
    "dataset = load_diabetes()\n",
    "\n",
    "# Extract features (X) and target (y) from the dataset\n",
    "X = dataset.data\n",
    "y = dataset.target"
   ]
  },
  {
   "cell_type": "code",
   "execution_count": 11,
   "metadata": {},
   "outputs": [],
   "source": [
    "# Standardize the feature data (mean = 0, standard deviation = 1)\n",
    "scaler = StandardScaler()\n",
    "X_std = scaler.fit_transform(X)"
   ]
  },
  {
   "cell_type": "code",
   "execution_count": 12,
   "metadata": {},
   "outputs": [],
   "source": [
    "# Initialize a Lasso regression model with a regularization parameter alpha set to 0.5\n",
    "# Modify alpha to 1.5, 3 to see impact in accuracy\n",
    "regr = Lasso(alpha=0.2)"
   ]
  },
  {
   "cell_type": "code",
   "execution_count": 13,
   "metadata": {},
   "outputs": [],
   "source": [
    "# Fit the Lasso model on the standardized features and target data\n",
    "model = regr.fit(X_std, y)"
   ]
  },
  {
   "cell_type": "code",
   "execution_count": 14,
   "metadata": {},
   "outputs": [
    {
     "data": {
      "text/plain": [
       "array([204.83683833,  70.17269091, 176.02237593, 163.67900005,\n",
       "       127.87595467, 105.79854573,  77.42116533, 121.73571947,\n",
       "       159.90543327, 213.39678066,  98.71681356, 101.61037546,\n",
       "       114.96987028, 163.14798515, 102.92243203, 173.86234644,\n",
       "       209.77285251, 182.38939105, 146.30023991, 122.81206413,\n",
       "       118.39798003,  89.48562254, 115.94840308, 267.72373466,\n",
       "       163.76645843, 145.47494389,  95.91515769, 177.83524482,\n",
       "       128.54624517, 184.51485165, 158.74543712,  69.91446651,\n",
       "       256.7071509 , 109.10184265,  80.32096163,  86.19713657,\n",
       "       207.00092878, 155.48217387, 241.75001547, 136.58525457,\n",
       "       152.81007989,  73.43790223, 143.7605098 ,  79.13491462,\n",
       "       218.47887615, 124.64869745, 140.61838714, 107.34830636,\n",
       "        77.22231206, 186.4418353 , 157.31479328, 168.29113863,\n",
       "       133.19045036, 156.67442764, 140.12200959,  73.7701116 ,\n",
       "       205.15326173,  80.25169477,  99.21099302, 134.88976506,\n",
       "       114.69340133, 176.47164693,  66.26190012,  99.97781344,\n",
       "       113.80644046, 185.94006171, 145.80180874, 124.41251932,\n",
       "       113.77056797, 122.73196653,  75.38651434, 234.53189473,\n",
       "       147.7443075 , 123.47269307, 150.58284939, 126.63110094,\n",
       "       190.43668043,  80.29080582, 163.9207919 ,  93.08639407,\n",
       "       173.37253923, 121.43799576,  66.2429945 , 150.78359191,\n",
       "        57.47629936, 168.47312127,  48.99851153, 151.95947502,\n",
       "        80.41708109, 104.97350792,  83.51711639, 186.74984951,\n",
       "       188.87431441,  60.9510962 , 106.76315392, 122.37227542,\n",
       "       207.06547844, 212.38248705, 123.88663959, 136.00399354,\n",
       "       167.48507388, 106.8914101 , 149.59918406, 159.11846402,\n",
       "       155.59293553, 115.07194646,  74.43228618, 157.38348208,\n",
       "       227.65559576, 143.10300577,  48.60167353, 121.88442517,\n",
       "       151.89223401, 206.8376983 , 296.19341176, 190.01723526,\n",
       "       211.86791013, 235.10321323, 163.3924404 , 148.28366552,\n",
       "       155.70127465, 197.95829452, 218.26373457, 171.84360416,\n",
       "       167.600334  , 189.84779325,  63.07669025, 108.39536376,\n",
       "        92.56304463, 207.76799863, 242.94076147,  71.03716592,\n",
       "       113.94693574,  71.40803372, 141.13503012, 236.43322247,\n",
       "        60.25861839, 232.05551931, 252.87425156, 251.42868556,\n",
       "       156.86044042, 225.74815631, 171.4900358 , 118.3818104 ,\n",
       "       176.90464888, 238.86370741, 188.9990364 , 226.32098774,\n",
       "       115.46601433, 176.02034494, 208.1665021 , 142.78348616,\n",
       "       196.17679868, 122.27084943, 150.74199232, 198.81995687,\n",
       "       145.14144839, 123.05282478,  85.55614727, 233.50481959,\n",
       "        83.39105367, 233.00912803, 143.48302201, 196.87860781,\n",
       "       143.73451682,  77.36085837,  63.30155845, 263.77587436,\n",
       "       224.57436256, 234.74301176,  53.63065057,  89.57010913,\n",
       "       223.60628563,  95.65364687, 162.89404444, 120.20664944,\n",
       "       157.45054877, 222.58362455, 101.63617596, 163.66581687,\n",
       "       176.6640207 ,  90.4764139 , 170.46438751, 156.53646183,\n",
       "       199.57228098, 185.79005881, 194.49341609,  70.465003  ,\n",
       "       153.5237063 , 114.1990029 , 192.12350917, 126.5665656 ,\n",
       "        93.65533724, 140.1193409 , 152.07016712, 169.10003386,\n",
       "        98.32275071, 188.14321708, 146.83585781, 180.67117507,\n",
       "        95.92680096,  71.28522491, 169.84852033, 195.27142886,\n",
       "       176.22494659, 226.81421328, 159.27806152, 211.6105256 ,\n",
       "       219.81897326, 170.83533292, 126.88490005, 175.58506722,\n",
       "       151.81006537,  98.3560765 ,  98.51776913, 260.7414081 ,\n",
       "       219.23892826, 220.00669026, 130.307063  , 141.39122497,\n",
       "        60.94982909, 139.95960037, 152.3494201 , 122.78935306,\n",
       "        77.54141156, 229.2903976 ,  79.33876624, 106.12238402,\n",
       "       117.02462001,  99.66682225, 168.32798163, 156.74483451,\n",
       "       156.75421061, 142.73266662, 231.25239853, 174.68869798,\n",
       "       185.52843934,  67.35695529, 186.43365675, 180.33453834,\n",
       "       232.84914115, 120.38377905,  89.38456511, 101.55181869,\n",
       "       141.19210383, 101.751347  , 120.80387143,  80.18874476,\n",
       "       233.30757027, 245.35983591, 264.53110193, 275.61387868,\n",
       "       179.39731776, 202.00162615, 264.40574535, 116.20363033,\n",
       "       265.22154581, 102.96026283, 116.20717204, 140.85086186,\n",
       "        62.24011801, 126.17545591, 261.52832986,  48.89071526,\n",
       "       127.40424546, 129.54433911,  39.23982766, 137.76845972,\n",
       "       241.76393936,  88.13887338, 189.97018374, 163.88361943,\n",
       "       146.90079908, 199.55721164, 173.78395621, 156.37018173,\n",
       "       190.30151048, 114.0529346 , 111.01214216, 117.61161142,\n",
       "       164.09273567,  94.52675003, 139.55412968,  86.71315906,\n",
       "       158.44382329, 198.75362941,  76.44330978, 147.02785891,\n",
       "        84.22129551, 191.16520764, 219.82246875, 204.96398981,\n",
       "        94.37462202, 181.43957394,  87.3909127 , 152.61491208,\n",
       "        79.0087198 , 101.4492871 , 107.3602383 , 123.55284798,\n",
       "       216.86199464, 125.3281242 , 204.85905626, 232.36258445,\n",
       "       122.65941402, 132.42640065, 128.36247855, 147.12437866,\n",
       "        89.55888276, 139.06654999, 202.90593635, 172.04371366,\n",
       "       123.16821388, 213.4186094 , 173.22188075, 109.96075577,\n",
       "       199.05135933, 171.12132409, 161.46722669, 189.11270789,\n",
       "       189.08700923, 286.20898795, 290.89280733, 228.73323317,\n",
       "       208.45369517, 218.53755577, 155.14882649, 223.2401295 ,\n",
       "       186.61638803, 102.87422237, 177.14338012, 112.79053635,\n",
       "       289.42290603, 180.45976498,  81.7930245 ,  87.41623042,\n",
       "       248.94859585, 171.77449949, 121.91426111, 146.37286644,\n",
       "       170.42119166, 184.25248618, 164.58247283, 159.06431949,\n",
       "       142.07310385, 125.26399963, 179.47813024, 103.38252524,\n",
       "       129.48887615,  96.53740698, 250.15506762,  87.63695368,\n",
       "        59.31252164, 172.12450937, 195.81517142, 132.8892716 ,\n",
       "        93.98206087, 201.27391791,  56.60470362, 172.43324735,\n",
       "       194.00641353, 121.90438158, 233.55550311, 161.78590409,\n",
       "       157.85176994, 160.34909581, 254.63344265, 256.4026521 ,\n",
       "       199.7628439 , 182.38722592,  60.59574545, 205.86975674,\n",
       "       109.48498488, 141.58683143, 125.3657798 , 178.40125869,\n",
       "       210.63588143, 167.38410506, 162.70446061, 135.37945625,\n",
       "       175.58207965,  73.25867836, 253.39317988, 114.22414623,\n",
       "       112.66430868, 139.24361685, 109.34160609,  98.43562496,\n",
       "       161.85451355,  77.18244139, 260.79933141,  57.92257002,\n",
       "        99.82360494, 100.79397095, 271.18777995, 167.1832596 ,\n",
       "        67.42968728, 180.22237031, 171.51236626, 189.18661596,\n",
       "       185.00167348,  87.67254941, 145.801662  , 251.12423239,\n",
       "       199.03427712, 280.92439528,  52.02050096, 174.61401806,\n",
       "       202.51549694, 171.51139261, 159.14500743, 152.95082058,\n",
       "       230.99053421, 121.94241192, 165.33211389, 169.25001288,\n",
       "       225.95716947, 151.2597061 ,  99.65516181,  83.03358984,\n",
       "       139.62260287, 190.46031442, 199.52705196, 150.21592287,\n",
       "       169.43650439, 109.82495485, 160.98680339, 130.66598413,\n",
       "       258.63975413, 100.9778006 , 114.2662497 , 121.48258311,\n",
       "       217.7351808 ,  61.30071951, 133.06690762, 119.95648129,\n",
       "        54.04479844, 192.25620239, 102.31631269, 123.23960714,\n",
       "       209.72966936,  50.03218134])"
      ]
     },
     "execution_count": 14,
     "metadata": {},
     "output_type": "execute_result"
    }
   ],
   "source": [
    "# Predict target values using the fitted model\n",
    "pred = regr.predict(X_std)\n",
    "\n",
    "# Display the predicted values\n",
    "pred"
   ]
  },
  {
   "cell_type": "code",
   "execution_count": 15,
   "metadata": {},
   "outputs": [
    {
     "data": {
      "text/plain": [
       "0.5163207426885066"
      ]
     },
     "execution_count": 15,
     "metadata": {},
     "output_type": "execute_result"
    }
   ],
   "source": [
    "# Calculate the R^2 score using the model's .score() method\n",
    "regr.score(X_std, y)"
   ]
  },
  {
   "cell_type": "markdown",
   "metadata": {},
   "source": [
    "## Understanding the `alpha` Parameter in Lasso Regression\n",
    "\n",
    "In Lasso regression, the `alpha` parameter controls the strength of the regularization applied to the model. \n",
    "\n",
    "- **Low `alpha`**: When `alpha` is small, the regularization effect is weak, allowing the model to fit the training data more closely. This can lead to more complex models with many non-zero coefficients but may risk overfitting.\n",
    "\n",
    "- **High `alpha`**: When `alpha` is large, the regularization effect is strong, shrinking more coefficients towards zero. This simplifies the model by effectively performing feature selection, which can help in reducing overfitting but might lead to underfitting if `alpha` is too large.\n",
    "\n",
    "By experimenting with different `alpha` values, you can balance model complexity and performance. Lower values might fit the data better but risk overfitting, while higher values create simpler models that might underfit.\n"
   ]
  },
  {
   "cell_type": "code",
   "execution_count": 16,
   "metadata": {},
   "outputs": [
    {
     "name": "stdout",
     "output_type": "stream",
     "text": [
      "Alpha: 0.01, Accuracy: 0.5177406317436763, Coefficients: [ -0.45318633 -11.38606741  24.73608567  15.40766041 -36.0524547\n",
      "  21.42406165   4.02985264   8.13661386  35.1475716    3.21328284]\n",
      "Alpha: 0.1, Accuracy: 0.5173761436545252, Coefficients: [ -0.27769342 -11.15948797  24.85518378  15.2421328  -26.44813964\n",
      "  13.72566329  -0.           7.05557447  31.57506171   3.1584765 ]\n",
      "Alpha: 1, Accuracy: 0.5132840923855555, Coefficients: [ -0.          -9.31941253  24.83127631  14.08870568  -4.83892808\n",
      "  -0.         -10.62279919   0.          24.42081057   2.56212987]\n",
      "Alpha: 2, Accuracy: 0.509385000432985, Coefficients: [ -0.          -7.56885595  24.6216624   13.17740156  -2.71641858\n",
      "  -0.         -10.0542958    0.          23.14772448   1.6908785 ]\n",
      "Alpha: 10, Accuracy: 0.45868609892214773, Coefficients: [ 0.         -0.         22.60037484  6.80123653 -0.         -0.\n",
      " -3.08803938  0.         19.58593242  0.        ]\n"
     ]
    }
   ],
   "source": [
    "# Try different alpha values\n",
    "for alpha in [0.01, 0.1, 1, 2, 10]:\n",
    "    model = Lasso(alpha=alpha)\n",
    "    model.fit(X_std, y)\n",
    "    predictions = model.predict(X_std)\n",
    "    accuracy = model.score(X_std, y)\n",
    "    print(f\"Alpha: {alpha}, Accuracy: {accuracy}, Coefficients: {model.coef_}\")"
   ]
  }
 ],
 "metadata": {
  "kernelspec": {
   "display_name": "Python 3",
   "language": "python",
   "name": "python3"
  },
  "language_info": {
   "codemirror_mode": {
    "name": "ipython",
    "version": 3
   },
   "file_extension": ".py",
   "mimetype": "text/x-python",
   "name": "python",
   "nbconvert_exporter": "python",
   "pygments_lexer": "ipython3",
   "version": "3.12.4"
  }
 },
 "nbformat": 4,
 "nbformat_minor": 2
}
