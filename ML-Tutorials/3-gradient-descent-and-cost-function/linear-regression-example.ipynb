{
 "cells": [
  {
   "cell_type": "markdown",
   "metadata": {},
   "source": [
    "## Linear Regression Example\n",
    "\n",
    "#### In this example:\n",
    "\n",
    "- We import `LinearRegression` from `sklearn.linear_model`.\n",
    "- We load the Boston housing dataset (`load_boston()`), split it into training and test sets, and then create an instance of `LinearRegression`.\n",
    "- We fit the model to the training data using `model.fit(X_train, y_train)`, which internally optimizes the model parameters (coefficients) using an efficient method (which can include variants of gradient descent).\n",
    "- We make predictions on the test set with `model.predict(X_test)`.\n",
    "- We evaluate the model's performance using mean squared error (`mean_squared_error` from `sklearn.metrics`)."
   ]
  },
  {
   "cell_type": "code",
   "execution_count": 5,
   "metadata": {},
   "outputs": [
    {
     "name": "stdout",
     "output_type": "stream",
     "text": [
      "Married               0\n",
      "Age                   0\n",
      "Years_of_education    0\n",
      "Male                  0\n",
      "Religious             0\n",
      "Sex_partners          0\n",
      "Income                6\n",
      "Drug_use              0\n",
      "Same_sex_relations    0\n",
      "dtype: int64\n",
      "Mean Squared Error: 1.25593006990914\n"
     ]
    }
   ],
   "source": [
    "import numpy as np\n",
    "from sklearn.datasets import fetch_openml\n",
    "from sklearn.model_selection import train_test_split\n",
    "from sklearn.linear_model import LinearRegression\n",
    "from sklearn.metrics import mean_squared_error\n",
    "from sklearn.impute import SimpleImputer\n",
    "\n",
    "# Load Boston housing dataset from fetch_openml\n",
    "boston = fetch_openml(data_id=506, as_frame=True)\n",
    "\n",
    "# Extract features (X) and target variable (y)\n",
    "X = boston.data\n",
    "y = boston.target\n",
    "\n",
    "# Check for NaN values in X\n",
    "print(X.isnull().sum())\n",
    "\n",
    "# Impute NaN values in X with mean (for example)\n",
    "imputer = SimpleImputer(strategy='mean')\n",
    "X_imputed = imputer.fit_transform(X)\n",
    "\n",
    "# Split data into training and test sets\n",
    "X_train, X_test, y_train, y_test = train_test_split(X_imputed, y, test_size=0.2, random_state=42)\n",
    "\n",
    "# Create a linear regression model\n",
    "model = LinearRegression()\n",
    "\n",
    "# Fit the model to the training data\n",
    "model.fit(X_train, y_train)\n",
    "\n",
    "# Predict on the test data\n",
    "y_pred = model.predict(X_test)\n",
    "\n",
    "# Evaluate model performance\n",
    "mse = mean_squared_error(y_test, y_pred)\n",
    "print(f\"Mean Squared Error: {mse}\")\n"
   ]
  },
  {
   "cell_type": "markdown",
   "metadata": {},
   "source": [
    "* The MSE computed (mean_squared_error(y_test, y_pred)) gives you a numerical measure of how well your linear regression model predicts housing prices on the test set.\n",
    "* Lower MSE indicates better predictive performance. If MSE is high, you might explore model improvements or consider if more data or better features are needed."
   ]
  },
  {
   "cell_type": "markdown",
   "metadata": {},
   "source": []
  }
 ],
 "metadata": {
  "kernelspec": {
   "display_name": "Python 3",
   "language": "python",
   "name": "python3"
  },
  "language_info": {
   "codemirror_mode": {
    "name": "ipython",
    "version": 3
   },
   "file_extension": ".py",
   "mimetype": "text/x-python",
   "name": "python",
   "nbconvert_exporter": "python",
   "pygments_lexer": "ipython3",
   "version": "3.12.4"
  }
 },
 "nbformat": 4,
 "nbformat_minor": 2
}
