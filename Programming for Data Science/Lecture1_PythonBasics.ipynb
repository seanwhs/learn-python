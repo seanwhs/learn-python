{
 "cells": [
  {
   "cell_type": "markdown",
   "id": "9a32a263",
   "metadata": {},
   "source": [
    "\n",
    "## Programming for Data Science\n",
    "\n",
    "### Lecture 1: Python Basics\n",
    "\n",
    "### Instructor: Farhad Pourkamali \n",
    "\n",
    "<a href=\"https://colab.research.google.com/github/farhad-pourkamali/CUSucceedProgrammingForDataScience/blob/main/Lecture1_PythonBasics.ipynb\" target=\"_parent\"><img src=\"https://colab.research.google.com/assets/colab-badge.svg\" alt=\"Open In Colab\"/></a>\n"
   ]
  },
  {
   "cell_type": "markdown",
   "id": "ef7ec1b9",
   "metadata": {},
   "source": [
    "### Working environment\n",
    "<hr style=\"border:2px solid gray\">\n",
    "\n",
    "* The first step in Python programming is to set up the `working environment` on your computer. This is where the use of `Anaconda` becomes particularly advantageous.\n",
    "\n",
    "* Anaconda is a comprehensive distribution platform and package manager designed to streamline the process of managing Python environments, especially in the context of data science and scientific computing.\n",
    "    * Download/install Anaconda: https://www.anaconda.com/download\n",
    "    \n",
    "    <img src=\"https://www.anaconda.com/wp-content/uploads/2023/03/Distro01.webp\" width=500>\n",
    "    \n",
    "* Anaconda incorporates a powerful package manager called Conda. Conda simplifies the installation, updating, and management of various software packages, ensuring that dependencies are handled efficiently.\n",
    "\n",
    "* Therefore, Anaconda and Conda work hand in hand: Anaconda provides a user-friendly platform with a pre-configured Python environment and essential libraries for data science, while Conda, as the underlying package manager."
   ]
  },
  {
   "cell_type": "code",
   "execution_count": 1,
   "id": "381c06fe",
   "metadata": {},
   "outputs": [
    {
     "name": "stdout",
     "output_type": "stream",
     "text": [
      "conda 23.3.1\r\n"
     ]
    }
   ],
   "source": [
    "# When you prefix a line in a Jupyter cell with !, \n",
    "# it indicates that the line should be executed as a \n",
    "# shell or terminal command rather than a Python statement\n",
    "\n",
    "# The --version flag in a command is used to retrieve the version information\n",
    "\n",
    "!conda --version"
   ]
  },
  {
   "cell_type": "code",
   "execution_count": 2,
   "id": "abd2bc21",
   "metadata": {},
   "outputs": [
    {
     "name": "stdout",
     "output_type": "stream",
     "text": [
      "Python 3.10.9\r\n"
     ]
    }
   ],
   "source": [
    "!python --version"
   ]
  },
  {
   "cell_type": "markdown",
   "id": "6f6c3fe8",
   "metadata": {},
   "source": [
    "### Four ways to run Python code\n",
    "<hr style=\"border:2px solid gray\">\n",
    "\n",
    "1. Jupyter Notebook\n",
    "    * Jupyter notebook runs using your browser.\n",
    "    * it can contain live code, rich text elements such as equations, links, images, etc.\n",
    "    * Open a Jupyter Notebook.\n",
    "    * Create a new code cell.\n",
    "    * Type or paste your Python code into the cell.\n",
    "    * Press Shift + Enter to run the cell.\n",
    "\n"
   ]
  },
  {
   "cell_type": "code",
   "execution_count": 3,
   "id": "a93dca01",
   "metadata": {},
   "outputs": [
    {
     "name": "stdout",
     "output_type": "stream",
     "text": [
      "Data Science\n"
     ]
    }
   ],
   "source": [
    "print(\"Data Science\")"
   ]
  },
  {
   "cell_type": "code",
   "execution_count": 4,
   "id": "b3ebbba4",
   "metadata": {},
   "outputs": [
    {
     "name": "stdout",
     "output_type": "stream",
     "text": [
      "8\n"
     ]
    }
   ],
   "source": [
    "# Arithmetic operations\n",
    "# + for addition, - for subtraction, * for multiplication, / for division\n",
    "# ** for exponentiation\n",
    "\n",
    "print(2 ** 3)"
   ]
  },
  {
   "cell_type": "code",
   "execution_count": 5,
   "id": "fc024e66",
   "metadata": {},
   "outputs": [
    {
     "name": "stdout",
     "output_type": "stream",
     "text": [
      "8\n"
     ]
    }
   ],
   "source": [
    "print(2 * 2 * 2)"
   ]
  },
  {
   "cell_type": "code",
   "execution_count": 6,
   "id": "627e3573",
   "metadata": {},
   "outputs": [
    {
     "name": "stdout",
     "output_type": "stream",
     "text": [
      "0.6666666666666666\n"
     ]
    }
   ],
   "source": [
    "print(2/3)"
   ]
  },
  {
   "cell_type": "code",
   "execution_count": 7,
   "id": "ff41a46a",
   "metadata": {},
   "outputs": [
    {
     "name": "stdout",
     "output_type": "stream",
     "text": [
      "5.0\n"
     ]
    }
   ],
   "source": [
    "# The \"math\" module provides a wide range of mathematical functions, \n",
    "# allowing you to perform complex mathematical operations \n",
    "# without having to implement them from scratch\n",
    "\n",
    "import math\n",
    "\n",
    "result = math.sqrt(25)\n",
    "\n",
    "print(result)"
   ]
  },
  {
   "cell_type": "code",
   "execution_count": 8,
   "id": "357c2bdb",
   "metadata": {},
   "outputs": [
    {
     "data": {
      "text/plain": [
       "1.0"
      ]
     },
     "execution_count": 8,
     "metadata": {},
     "output_type": "execute_result"
    }
   ],
   "source": [
    "# You can have a quick view of what is in the module\n",
    "# by typing the \"module name\" + . + TAB\n",
    "\n",
    "math.sin(math.pi/2) "
   ]
  },
  {
   "cell_type": "markdown",
   "id": "a8d86764",
   "metadata": {},
   "source": [
    "2. Python Script (.py file)\n",
    "\n",
    "    * Write your Python code in a text editor or an integrated development environment (IDE) such as Visual Studio Code or VS Code (https://code.visualstudio.com/). \n",
    "    * Save the file with a .py extension, for example, `myscript.py`.\n",
    "    * Open a terminal or command prompt.\n",
    "    * Navigate to the directory where your script is located using the `cd` command.\n",
    "    * Run the script using the command `python myscript.py`.\n",
    "\n",
    "3. Terminal/Command Prompt\n",
    "    * Open a terminal or command prompt.\n",
    "    * Type `python` to enter the Python interactive shell.\n",
    "    * You can now type and run Python code directly in the interactive shell.\n",
    "\n",
    "4. Cloud-based platforms like Google Colab\n",
    "    * Open Google Colab (https://colab.research.google.com/) in your web browser.\n",
    "    * Create a new notebook or open an existing one.\n",
    "    * Write or paste your Python code into a code cell."
   ]
  },
  {
   "cell_type": "markdown",
   "id": "395006c2",
   "metadata": {},
   "source": [
    "### Assignment operators\n",
    "<hr style=\"border:2px solid gray\">\n",
    "\n",
    "* Assignment operators are used to assign values to variables. Here are some common assignment operators."
   ]
  },
  {
   "cell_type": "code",
   "execution_count": 9,
   "id": "24aeecc6",
   "metadata": {},
   "outputs": [],
   "source": [
    "x = 5  # assign the value 5 to the variable x"
   ]
  },
  {
   "cell_type": "code",
   "execution_count": 10,
   "id": "d93a14ed",
   "metadata": {},
   "outputs": [
    {
     "name": "stdout",
     "output_type": "stream",
     "text": [
      "5\n"
     ]
    }
   ],
   "source": [
    "print(x)"
   ]
  },
  {
   "cell_type": "code",
   "execution_count": 11,
   "id": "33a21d18",
   "metadata": {},
   "outputs": [
    {
     "name": "stdout",
     "output_type": "stream",
     "text": [
      "13\n"
     ]
    }
   ],
   "source": [
    "y = 10\n",
    "y += 3  # equivalent to y = y + 3\n",
    "print(y)"
   ]
  },
  {
   "cell_type": "markdown",
   "id": "9e82e0d4",
   "metadata": {},
   "source": [
    "### Comparison operators\n",
    "<hr style=\"border:2px solid gray\">\n",
    "\n",
    "* Comparison operators in Python are used to compare values and return Boolean results (True or False).\n",
    "    * Equal to (`==`)\n",
    "    * Not equal to (`!=`)\n",
    "    * Greater than (`>`)\n",
    "    * Less than (`<`)\n",
    "    * Greater than or equal to (`>=`)\n",
    "    * Less than or equal to (`<=`)\n"
   ]
  },
  {
   "cell_type": "code",
   "execution_count": 12,
   "id": "7f225af9",
   "metadata": {},
   "outputs": [
    {
     "name": "stdout",
     "output_type": "stream",
     "text": [
      "True\n"
     ]
    }
   ],
   "source": [
    "x = 5\n",
    "y = 5\n",
    "print(x == y)  "
   ]
  },
  {
   "cell_type": "code",
   "execution_count": 13,
   "id": "db38ac9a",
   "metadata": {},
   "outputs": [
    {
     "data": {
      "text/plain": [
       "False"
      ]
     },
     "execution_count": 13,
     "metadata": {},
     "output_type": "execute_result"
    }
   ],
   "source": [
    "a = 8\n",
    "b = 8\n",
    "a != b  "
   ]
  },
  {
   "cell_type": "code",
   "execution_count": 14,
   "id": "08a2a16d",
   "metadata": {},
   "outputs": [
    {
     "data": {
      "text/plain": [
       "True"
      ]
     },
     "execution_count": 14,
     "metadata": {},
     "output_type": "execute_result"
    }
   ],
   "source": [
    "m = 10\n",
    "n = 7\n",
    "m > n  "
   ]
  },
  {
   "cell_type": "markdown",
   "id": "5bf302f4",
   "metadata": {},
   "source": [
    "### Logical operators\n",
    "<hr style=\"border:2px solid gray\">\n",
    "\n",
    "* Logical operators in Python are used to perform logical operations and manipulate Boolean values. The main logical operators are `and`, `or`, and `not`. \n",
    "    * The `and` operator returns True if both conditions on its left and right are True.\n",
    "    * The `or` operator returns True if at least one of the conditions on its left or right is True.\n",
    "    * The `not` operator returns the opposite Boolean value."
   ]
  },
  {
   "cell_type": "code",
   "execution_count": 15,
   "id": "474872e1",
   "metadata": {},
   "outputs": [
    {
     "data": {
      "text/plain": [
       "True"
      ]
     },
     "execution_count": 15,
     "metadata": {},
     "output_type": "execute_result"
    }
   ],
   "source": [
    "a = 8\n",
    "b = 3\n",
    "(a > 5) or (b < 2) # True \"or\" False "
   ]
  },
  {
   "cell_type": "code",
   "execution_count": 16,
   "id": "94733b13",
   "metadata": {},
   "outputs": [
    {
     "data": {
      "text/plain": [
       "False"
      ]
     },
     "execution_count": 16,
     "metadata": {},
     "output_type": "execute_result"
    }
   ],
   "source": [
    "a = 8\n",
    "b = 3\n",
    "(a > 5) and (b < 2) # True \"and\" False "
   ]
  },
  {
   "cell_type": "code",
   "execution_count": 17,
   "id": "01261405",
   "metadata": {},
   "outputs": [
    {
     "data": {
      "text/plain": [
       "False"
      ]
     },
     "execution_count": 17,
     "metadata": {},
     "output_type": "execute_result"
    }
   ],
   "source": [
    "c = True\n",
    "not c"
   ]
  },
  {
   "cell_type": "code",
   "execution_count": 18,
   "id": "6e2f29ac",
   "metadata": {},
   "outputs": [
    {
     "data": {
      "text/plain": [
       "True"
      ]
     },
     "execution_count": 18,
     "metadata": {},
     "output_type": "execute_result"
    }
   ],
   "source": [
    "# All arithmetic operations will be executed before logical operations\n",
    "\n",
    "5 + 1 > 4 + 1"
   ]
  },
  {
   "cell_type": "code",
   "execution_count": 19,
   "id": "2b2046d0",
   "metadata": {},
   "outputs": [
    {
     "data": {
      "text/plain": [
       "True"
      ]
     },
     "execution_count": 19,
     "metadata": {},
     "output_type": "execute_result"
    }
   ],
   "source": [
    "(5 + 1) > (4 + 1)"
   ]
  },
  {
   "cell_type": "markdown",
   "id": "22f5e0b1",
   "metadata": {},
   "source": [
    "### Error types \n",
    "<hr style=\"border:2px solid gray\">\n",
    "\n",
    "* Programmers should be mindful of three fundamental error types: syntax errors, runtime errors, and logical errors.\n",
    "\n",
    "    * `Syntax errors` occur when the code violates the language's grammatical rules. These errors prevent the interpreter or compiler from understanding the code structure.\n",
    "    * `Runtime errors` occur during the execution of the program. These errors are not detected by the compiler or interpreter beforehand but rather during the program's execution.\n",
    "    * `Logical errors` occur when the code is syntactically correct and runs without errors but produces incorrect results due to flawed logic."
   ]
  },
  {
   "cell_type": "code",
   "execution_count": 20,
   "id": "979013db",
   "metadata": {},
   "outputs": [
    {
     "ename": "SyntaxError",
     "evalue": "incomplete input (378176227.py, line 3)",
     "output_type": "error",
     "traceback": [
      "\u001b[0;36m  Cell \u001b[0;32mIn[20], line 3\u001b[0;36m\u001b[0m\n\u001b[0;31m    print(2 + 3\u001b[0m\n\u001b[0m               ^\u001b[0m\n\u001b[0;31mSyntaxError\u001b[0m\u001b[0;31m:\u001b[0m incomplete input\n"
     ]
    }
   ],
   "source": [
    "# Syntax Error: Missing a closing parenthesis\n",
    "\n",
    "print(2 + 3"
   ]
  },
  {
   "cell_type": "code",
   "execution_count": 21,
   "id": "2f3a0231",
   "metadata": {},
   "outputs": [
    {
     "ename": "ZeroDivisionError",
     "evalue": "division by zero",
     "output_type": "error",
     "traceback": [
      "\u001b[0;31m---------------------------------------------------------------------------\u001b[0m",
      "\u001b[0;31mZeroDivisionError\u001b[0m                         Traceback (most recent call last)",
      "Cell \u001b[0;32mIn[21], line 2\u001b[0m\n\u001b[1;32m      1\u001b[0m \u001b[38;5;66;03m# Runtime Error: Trying to divide by zero\u001b[39;00m\n\u001b[0;32m----> 2\u001b[0m result \u001b[38;5;241m=\u001b[39m \u001b[38;5;241;43m10\u001b[39;49m\u001b[43m \u001b[49m\u001b[38;5;241;43m/\u001b[39;49m\u001b[43m \u001b[49m\u001b[38;5;241;43m0\u001b[39;49m\n",
      "\u001b[0;31mZeroDivisionError\u001b[0m: division by zero"
     ]
    }
   ],
   "source": [
    "# Runtime Error: Trying to divide by zero\n",
    "result = 10 / 0 "
   ]
  },
  {
   "cell_type": "code",
   "execution_count": null,
   "id": "f2584d3d",
   "metadata": {},
   "outputs": [],
   "source": [
    "result = \"Hello\" + 123\n"
   ]
  },
  {
   "cell_type": "code",
   "execution_count": 22,
   "id": "bdf8d57b",
   "metadata": {},
   "outputs": [
    {
     "name": "stdout",
     "output_type": "stream",
     "text": [
      "9\n"
     ]
    }
   ],
   "source": [
    "# Logical Error: Incorrect formula for calculating the area of a triangle\n",
    "base = 5\n",
    "height = 4\n",
    "area = base + height  # Incorrect formula\n",
    "print(area) "
   ]
  },
  {
   "cell_type": "markdown",
   "id": "1028d11d",
   "metadata": {},
   "source": [
    "* `Type checking` in Python refers to the process of verifying and enforcing the expected types of variables and objects in your code. \n",
    "\n",
    "    * The `type()` function is used to determine the type of an object or a variable. "
   ]
  },
  {
   "cell_type": "code",
   "execution_count": 23,
   "id": "3a352aec",
   "metadata": {},
   "outputs": [
    {
     "ename": "TypeError",
     "evalue": "can only concatenate str (not \"int\") to str",
     "output_type": "error",
     "traceback": [
      "\u001b[0;31m---------------------------------------------------------------------------\u001b[0m",
      "\u001b[0;31mTypeError\u001b[0m                                 Traceback (most recent call last)",
      "Cell \u001b[0;32mIn[23], line 1\u001b[0m\n\u001b[0;32m----> 1\u001b[0m result \u001b[38;5;241m=\u001b[39m \u001b[38;5;124;43m\"\u001b[39;49m\u001b[38;5;124;43mHello\u001b[39;49m\u001b[38;5;124;43m\"\u001b[39;49m\u001b[43m \u001b[49m\u001b[38;5;241;43m+\u001b[39;49m\u001b[43m \u001b[49m\u001b[38;5;241;43m123\u001b[39;49m\n",
      "\u001b[0;31mTypeError\u001b[0m: can only concatenate str (not \"int\") to str"
     ]
    }
   ],
   "source": [
    "result = \"Hello\" + 123"
   ]
  },
  {
   "cell_type": "code",
   "execution_count": 24,
   "id": "fba76608",
   "metadata": {},
   "outputs": [
    {
     "data": {
      "text/plain": [
       "str"
      ]
     },
     "execution_count": 24,
     "metadata": {},
     "output_type": "execute_result"
    }
   ],
   "source": [
    "type(\"Hello\") "
   ]
  },
  {
   "cell_type": "code",
   "execution_count": 25,
   "id": "1de10a48",
   "metadata": {},
   "outputs": [
    {
     "data": {
      "text/plain": [
       "int"
      ]
     },
     "execution_count": 25,
     "metadata": {},
     "output_type": "execute_result"
    }
   ],
   "source": [
    "type(123)"
   ]
  },
  {
   "cell_type": "code",
   "execution_count": 26,
   "id": "bf627525",
   "metadata": {},
   "outputs": [
    {
     "data": {
      "text/plain": [
       "builtin_function_or_method"
      ]
     },
     "execution_count": 26,
     "metadata": {},
     "output_type": "execute_result"
    }
   ],
   "source": [
    "import math \n",
    "\n",
    "type(math.sin)"
   ]
  },
  {
   "cell_type": "code",
   "execution_count": 27,
   "id": "e7d10691",
   "metadata": {},
   "outputs": [
    {
     "data": {
      "text/plain": [
       "bool"
      ]
     },
     "execution_count": 27,
     "metadata": {},
     "output_type": "execute_result"
    }
   ],
   "source": [
    "type(True)"
   ]
  },
  {
   "cell_type": "code",
   "execution_count": 28,
   "id": "3c52214b",
   "metadata": {},
   "outputs": [
    {
     "ename": "NameError",
     "evalue": "name 'true' is not defined",
     "output_type": "error",
     "traceback": [
      "\u001b[0;31m---------------------------------------------------------------------------\u001b[0m",
      "\u001b[0;31mNameError\u001b[0m                                 Traceback (most recent call last)",
      "Cell \u001b[0;32mIn[28], line 1\u001b[0m\n\u001b[0;32m----> 1\u001b[0m \u001b[38;5;28mtype\u001b[39m(\u001b[43mtrue\u001b[49m)\n",
      "\u001b[0;31mNameError\u001b[0m: name 'true' is not defined"
     ]
    }
   ],
   "source": [
    "type(true) "
   ]
  },
  {
   "cell_type": "code",
   "execution_count": 29,
   "id": "d8123095",
   "metadata": {},
   "outputs": [
    {
     "data": {
      "text/plain": [
       "NoneType"
      ]
     },
     "execution_count": 29,
     "metadata": {},
     "output_type": "execute_result"
    }
   ],
   "source": [
    "# In Python, None is a special constant representing \n",
    "# the absence of a value or a null value.\n",
    "\n",
    "result = None \n",
    "\n",
    "type(result)   "
   ]
  },
  {
   "cell_type": "code",
   "execution_count": 30,
   "id": "60a0402e",
   "metadata": {},
   "outputs": [
    {
     "data": {
      "text/plain": [
       "list"
      ]
     },
     "execution_count": 30,
     "metadata": {},
     "output_type": "execute_result"
    }
   ],
   "source": [
    "type([1,2,3])"
   ]
  },
  {
   "cell_type": "markdown",
   "id": "0758c7cc",
   "metadata": {},
   "source": [
    "### HW 1"
   ]
  },
  {
   "cell_type": "markdown",
   "id": "48995b6d",
   "metadata": {},
   "source": [
    "1. Compute $\\frac{3\\times 2}{(2^3 + 4/2)}$.\n"
   ]
  },
  {
   "cell_type": "markdown",
   "id": "8a7ea4da",
   "metadata": {},
   "source": [
    "2. Compute $\\log_{10}(5) + \\log_{10}(2)$.\n",
    "\n"
   ]
  },
  {
   "cell_type": "markdown",
   "id": "d912ef06",
   "metadata": {},
   "source": [
    "3. You can use the question mark (?) to access the docstring and get information about a specific function or object. Try `math.log10?` to understand the `log10` function from the `math` module."
   ]
  },
  {
   "cell_type": "markdown",
   "id": "d8750120",
   "metadata": {},
   "source": [
    "4. A person is eligible for a discount if their age is less than 30 and they are not a student. Write a Python code to find the eligibility for a person with `age = 25` and\n",
    "`is_student = False`."
   ]
  },
  {
   "cell_type": "markdown",
   "id": "999322f2",
   "metadata": {},
   "source": [
    "5. In Python, when you add two Boolean values, True is treated as 1 and False as 0 in numeric contexts. Compute `(2 > 1) + (3 > 2)` and `(2 > 1) + (3 < 2)`."
   ]
  },
  {
   "cell_type": "markdown",
   "id": "fb262f17",
   "metadata": {},
   "source": [
    "6. Compute the area of a triangle with base 5 and height 20. "
   ]
  },
  {
   "cell_type": "markdown",
   "id": "84ade9ef",
   "metadata": {},
   "source": [
    "7. The hyperbolic sin or sinh is defined in terms of exponentials as \n",
    "\n",
    "$$\\sinh(x)=\\frac{e^x - e^{-x}}{2}.$$\n",
    "\n",
    "Compute sinh for x = 1 using `exp` from the math module. Verify that the result is indeed the hyperbolic sin using the function `sinh` in the math module."
   ]
  },
  {
   "cell_type": "markdown",
   "id": "3fc8c7e9",
   "metadata": {},
   "source": [
    "8. Identify the type of error in the following Python code snippet. How can we fix this problem?"
   ]
  },
  {
   "cell_type": "code",
   "execution_count": null,
   "id": "b9c86f69",
   "metadata": {},
   "outputs": [],
   "source": [
    "result = \"42\" / 2\n",
    "\n",
    "print(result)"
   ]
  },
  {
   "cell_type": "markdown",
   "id": "4a02af29",
   "metadata": {},
   "source": [
    "9. Write a Python code to check to see if a number stored in a variable x is between 0 and 5. Test your code using x=3 and x=10. "
   ]
  },
  {
   "cell_type": "markdown",
   "id": "c2f471c5",
   "metadata": {},
   "source": [
    "10. What would the following print? Please explain."
   ]
  },
  {
   "cell_type": "code",
   "execution_count": null,
   "id": "4eaa8908",
   "metadata": {},
   "outputs": [],
   "source": [
    "a = 6\n",
    "b = 10\n",
    "print( not ( not a == 10 or not b == 10) )"
   ]
  }
 ],
 "metadata": {
  "kernelspec": {
   "display_name": "Python 3 (ipykernel)",
   "language": "python",
   "name": "python3"
  },
  "language_info": {
   "codemirror_mode": {
    "name": "ipython",
    "version": 3
   },
   "file_extension": ".py",
   "mimetype": "text/x-python",
   "name": "python",
   "nbconvert_exporter": "python",
   "pygments_lexer": "ipython3",
   "version": "3.10.9"
  }
 },
 "nbformat": 4,
 "nbformat_minor": 5
}
