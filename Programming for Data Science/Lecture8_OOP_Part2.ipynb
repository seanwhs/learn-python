{
 "cells": [
  {
   "cell_type": "markdown",
   "id": "4367dde8",
   "metadata": {},
   "source": [
    "\n",
    "## Programming for Data Science\n",
    "\n",
    "### Lecture 8, Part 2: Object-Oriented Programming (OOP)\n",
    "\n",
    "### Instructor: Farhad Pourkamali \n",
    "\n",
    "\n",
    "[![Open In Colab](https://colab.research.google.com/assets/colab-badge.svg)](https://colab.research.google.com/github/farhad-pourkamali/CUSucceedProgrammingForDataScience/blob/main/Lecture8_OOP_Part2.ipynb)\n"
   ]
  },
  {
   "cell_type": "markdown",
   "id": "f4a913ca",
   "metadata": {},
   "source": [
    "### Introduction\n",
    "<hr style=\"border:2px solid gray\">\n",
    "\n",
    "* `Inheritance` is a mechanism in OOP that allows a new class (subclass/child class) to inherit properties and behaviors from an existing class (superclass/parent class).\n",
    "    * Promotes code reusability and establishes a relationship between classes, where the subclass can reuse, extend, or override the functionality of the superclass.\n",
    "    \n",
    "* Syntax: \n",
    "```\n",
    "class BaseClass:\n",
    "    # base class members\n",
    "\n",
    "class DerivedClass(BaseClass):\n",
    "    # derived class members\n",
    "```"
   ]
  },
  {
   "cell_type": "markdown",
   "id": "b14d26b7",
   "metadata": {},
   "source": [
    "* In this example, we have a base class `Employee` with a method `display_info`. \n",
    "\n",
    "* `class Manager(Employee)`: declares the `Manager` class, indicating that it inherits from the Employee class. \n",
    "    * This establishes an \"is-a\" relationship, implying that a manager is a type of employee.\n",
    "    \n",
    "* Constructor (`__init__`) Method:\n",
    "\n",
    "    * `def __init__(self, name, employee_id, department)`: defines the constructor method for the `Manager` class. This method is called when a new Manager object is created.\n",
    "    * `super().__init__(name, employee_id)`: calls the constructor of the superclass (`Employee`) using the `super()` function. It initializes the common attributes (name and employee_id) inherited from the base class.\n",
    "    \n",
    "    * `self.department`: initializes the specific attribute department for the Manager class.\n",
    "    \n",
    "* Overriding Method (`display_info`):\n",
    "\n",
    "    * `def display_info(self)`: defines a method named `display_info` in the Manager class, which overrides the method with the same name in the `Employee` class.\n",
    "    * `print(f\"Manager {self.employee_id}: {self.name}, Department: {self.department}\")` provides a specific implementation for displaying information about a manager. It includes the manager's ID, name, and department."
   ]
  },
  {
   "cell_type": "code",
   "execution_count": 1,
   "id": "5b8f2d64",
   "metadata": {},
   "outputs": [],
   "source": [
    "# Base class \n",
    "\n",
    "class Employee:\n",
    "    def __init__(self, name, employee_id):\n",
    "        self.name = name\n",
    "        self.employee_id = employee_id\n",
    "\n",
    "    def display_info(self):\n",
    "        print(f\"Employee {self.employee_id}: {self.name}\")\n",
    "        \n",
    "\n",
    "# Subclass\n",
    "class Manager(Employee):\n",
    "    def __init__(self, name, employee_id, department):\n",
    "        super().__init__(name, employee_id)\n",
    "        self.department = department\n",
    "\n",
    "    def display_info(self):  # Overriding the display_info method\n",
    "        print(f\"Manager {self.employee_id}: {self.name}, Department: {self.department}\")\n"
   ]
  },
  {
   "cell_type": "code",
   "execution_count": 2,
   "id": "ee51e4fb",
   "metadata": {},
   "outputs": [
    {
     "name": "stdout",
     "output_type": "stream",
     "text": [
      "Manager 101: Jane Smith, Department: IT\n"
     ]
    }
   ],
   "source": [
    "# Example usage for the Manager class:\n",
    "manager_instance = Manager(\"Jane Smith\", 101, \"IT\")\n",
    "\n",
    "manager_instance.display_info()      \n"
   ]
  },
  {
   "cell_type": "code",
   "execution_count": 3,
   "id": "8a1836ab",
   "metadata": {},
   "outputs": [
    {
     "name": "stdout",
     "output_type": "stream",
     "text": [
      "Employee 3062: John Smith\n"
     ]
    }
   ],
   "source": [
    "# Example usage for the Employee class:\n",
    "employee_instance = Employee(\"John Smith\", 3062)\n",
    "\n",
    "employee_instance.display_info()      \n"
   ]
  },
  {
   "cell_type": "code",
   "execution_count": 4,
   "id": "64c26d66",
   "metadata": {},
   "outputs": [
    {
     "ename": "TypeError",
     "evalue": "Employee.__init__() takes 3 positional arguments but 4 were given",
     "output_type": "error",
     "traceback": [
      "\u001b[0;31m---------------------------------------------------------------------------\u001b[0m",
      "\u001b[0;31mTypeError\u001b[0m                                 Traceback (most recent call last)",
      "Cell \u001b[0;32mIn[4], line 3\u001b[0m\n\u001b[1;32m      1\u001b[0m \u001b[38;5;66;03m# What if we provide the \"Department\" information the Employee class?\u001b[39;00m\n\u001b[0;32m----> 3\u001b[0m employee_instance \u001b[38;5;241m=\u001b[39m \u001b[43mEmployee\u001b[49m\u001b[43m(\u001b[49m\u001b[38;5;124;43m\"\u001b[39;49m\u001b[38;5;124;43mJohn Smith\u001b[39;49m\u001b[38;5;124;43m\"\u001b[39;49m\u001b[43m,\u001b[49m\u001b[43m \u001b[49m\u001b[38;5;241;43m3062\u001b[39;49m\u001b[43m,\u001b[49m\u001b[43m \u001b[49m\u001b[38;5;124;43m\"\u001b[39;49m\u001b[38;5;124;43mIT\u001b[39;49m\u001b[38;5;124;43m\"\u001b[39;49m\u001b[43m)\u001b[49m\n",
      "\u001b[0;31mTypeError\u001b[0m: Employee.__init__() takes 3 positional arguments but 4 were given"
     ]
    }
   ],
   "source": [
    "# What if we provide the \"Department\" information the Employee class?\n",
    "\n",
    "employee_instance = Employee(\"John Smith\", 3062, \"IT\")"
   ]
  },
  {
   "cell_type": "markdown",
   "id": "899391c7",
   "metadata": {},
   "source": [
    "* Let's add the new `assign_task` method for each instance of the `Manager` class. "
   ]
  },
  {
   "cell_type": "code",
   "execution_count": 5,
   "id": "29da345d",
   "metadata": {},
   "outputs": [],
   "source": [
    "class Manager(Employee):\n",
    "    def __init__(self, name, employee_id, department):\n",
    "        super().__init__(name, employee_id)\n",
    "        self.department = department\n",
    "\n",
    "    def display_info(self):\n",
    "        print(f\"Manager {self.employee_id}: {self.name}, Department: {self.department}\")\n",
    "\n",
    "    # New method \"assign_task\"\n",
    "    def assign_task(self, employee, task):\n",
    "        print(f\"Manager {self.employee_id} assigns '{task}' to Employee {employee.employee_id}.\")\n"
   ]
  },
  {
   "cell_type": "code",
   "execution_count": 6,
   "id": "dc0af4ce",
   "metadata": {},
   "outputs": [
    {
     "name": "stdout",
     "output_type": "stream",
     "text": [
      "Manager 101 assigns 'Code a new feature' to Employee 3062.\n"
     ]
    }
   ],
   "source": [
    "manager_instance = Manager(\"Jane Smith\", 101, \"IT\")\n",
    "\n",
    "employee_instance = Employee(\"John Smith\", 3062)\n",
    "\n",
    "manager_instance.assign_task(employee_instance, \"Code a new feature\")\n"
   ]
  },
  {
   "cell_type": "markdown",
   "id": "937b7334",
   "metadata": {},
   "source": [
    "* Recap: Constructors for the BaseClass and SubClass\n",
    "\n",
    "```\n",
    "class BaseClass:\n",
    "    def __init__(self, base_attribute):\n",
    "        self.base_attribute = base_attribute\n",
    "\n",
    "class SubClass(BaseClass):\n",
    "    def __init__(self, base_attribute, sub_attribute):\n",
    "        super(SubClass, self).__init__(base_attribute)\n",
    "        self.sub_attribute = sub_attribute\n",
    "```"
   ]
  },
  {
   "cell_type": "markdown",
   "id": "96559ad9",
   "metadata": {},
   "source": [
    "* Here's an example of a `Coordinate` class for 2D space with methods to calculate the distance to the origin and the distance between two coordinate objects."
   ]
  },
  {
   "cell_type": "code",
   "execution_count": 7,
   "id": "d9c31ebe",
   "metadata": {},
   "outputs": [
    {
     "name": "stdout",
     "output_type": "stream",
     "text": [
      "Distance to the origin for point1: 5.00\n",
      "Distance between point1 and point2: 2.83\n"
     ]
    }
   ],
   "source": [
    "import math\n",
    "\n",
    "class Coordinate:\n",
    "    def __init__(self, x, y):\n",
    "        self.x = x\n",
    "        self.y = y\n",
    "\n",
    "    def distance_to_origin(self):\n",
    "        return math.sqrt(self.x**2 + self.y**2)\n",
    "\n",
    "    def distance_between(self, other_coordinate):\n",
    "        dx = other_coordinate.x - self.x\n",
    "        dy = other_coordinate.y - self.y\n",
    "        return math.sqrt(dx**2 + dy**2)\n",
    "\n",
    "# Example usage:\n",
    "point1 = Coordinate(3, 4)\n",
    "point2 = Coordinate(1, 2)\n",
    "\n",
    "# Distance to the origin for point1\n",
    "distance_to_origin_point1 = point1.distance_to_origin()\n",
    "print(f\"Distance to the origin for point1: {distance_to_origin_point1:.2f}\")\n",
    "\n",
    "# Distance between point1 and point2\n",
    "distance_between_points = point1.distance_between(point2)\n",
    "print(f\"Distance between point1 and point2: {distance_between_points:.2f}\")\n"
   ]
  },
  {
   "cell_type": "markdown",
   "id": "9813eb71",
   "metadata": {},
   "source": [
    "* Let's create a subclass called `EnhancedCoordinate` that inherits from the `Coordinate` class and adds a new method: calculate the angle with the x-axis. "
   ]
  },
  {
   "cell_type": "code",
   "execution_count": 8,
   "id": "fab6e5f6",
   "metadata": {},
   "outputs": [],
   "source": [
    "class EnhancedCoordinate(Coordinate):\n",
    "    def __init__(self, x, y, label):\n",
    "        super().__init__(x, y)\n",
    "        self.label = label\n",
    "\n",
    "    # math.atan2 measures the counterclockwise angle in radians\n",
    "    def angle_with_x_axis(self):\n",
    "        return math.degrees(math.atan2(self.y, self.x))"
   ]
  },
  {
   "cell_type": "code",
   "execution_count": 9,
   "id": "ede23ec8",
   "metadata": {},
   "outputs": [
    {
     "name": "stdout",
     "output_type": "stream",
     "text": [
      "Distance to the origin for Point C: 2.83\n",
      "Angle with the x-axis for Point C: 45.00 degrees\n"
     ]
    }
   ],
   "source": [
    "# Example usage:\n",
    "point3 = EnhancedCoordinate(2, 2, \"Point C\")\n",
    "\n",
    "# Using inherited methods from the base class\n",
    "distance_to_origin_point3 = point3.distance_to_origin()\n",
    "print(f\"Distance to the origin for {point3.label}: {distance_to_origin_point3:.2f}\")\n",
    "\n",
    "# Using the new methods and attributes from the subclass\n",
    "angle_with_x_axis_point3 = point3.angle_with_x_axis()\n",
    "print(f\"Angle with the x-axis for {point3.label}: {angle_with_x_axis_point3:.2f} degrees\")\n",
    "\n"
   ]
  },
  {
   "cell_type": "markdown",
   "id": "649eaa76",
   "metadata": {},
   "source": [
    "* Methods in a class with names starting and ending with double underscores are known as \"magic methods\" or \"special methods\" in Python.\n",
    "\n",
    "* While the `__init__` method is responsible for initializing the object's attributes when an instance is created, the `__str__` method is responsible for providing a human-readable string representation of the object.\n",
    "\n",
    "* `__init__` Method:\n",
    "\n",
    "    * Initializes the object's attributes when an instance is created.\n",
    "    * Does not return anything (implicitly returns None).\n",
    "    \n",
    "* `__str__` Method:\n",
    "\n",
    "    * Provides a human-readable string representation of the object.\n",
    "    * Returns a string."
   ]
  },
  {
   "cell_type": "code",
   "execution_count": 10,
   "id": "fd6e1fac",
   "metadata": {},
   "outputs": [
    {
     "name": "stdout",
     "output_type": "stream",
     "text": [
      "MyClass instance with value: 42\n"
     ]
    }
   ],
   "source": [
    "class MyClass:\n",
    "    def __init__(self, value):\n",
    "        self.value = value\n",
    "\n",
    "    def __str__(self):\n",
    "        return f\"MyClass instance with value: {self.value}\"\n",
    "\n",
    "# Example usage:\n",
    "obj = MyClass(42)\n",
    "\n",
    "# __str__ is called when the object is printed or converted to a string\n",
    "print(obj)  \n"
   ]
  },
  {
   "cell_type": "code",
   "execution_count": 11,
   "id": "5de15d0e",
   "metadata": {},
   "outputs": [
    {
     "data": {
      "text/plain": [
       "'MyClass instance with value: 42'"
      ]
     },
     "execution_count": 11,
     "metadata": {},
     "output_type": "execute_result"
    }
   ],
   "source": [
    "str(obj)"
   ]
  },
  {
   "cell_type": "markdown",
   "id": "cfdbd3cd",
   "metadata": {},
   "source": [
    "* You can add an equality method, `__eq__`, to a class to define how instances of the class should be compared for equality. This method is called when you use the equality operator (`==`)."
   ]
  },
  {
   "cell_type": "code",
   "execution_count": 12,
   "id": "40c6aa01",
   "metadata": {},
   "outputs": [],
   "source": [
    "class MyClass:\n",
    "    def __init__(self, value):\n",
    "        self.value = value"
   ]
  },
  {
   "cell_type": "code",
   "execution_count": 13,
   "id": "1c230647",
   "metadata": {},
   "outputs": [
    {
     "data": {
      "text/plain": [
       "False"
      ]
     },
     "execution_count": 13,
     "metadata": {},
     "output_type": "execute_result"
    }
   ],
   "source": [
    "obj1 = MyClass(2)\n",
    "\n",
    "obj2 = MyClass(2)\n",
    "\n",
    "# False?\n",
    "obj1 == obj2"
   ]
  },
  {
   "cell_type": "code",
   "execution_count": 14,
   "id": "d386c937",
   "metadata": {},
   "outputs": [],
   "source": [
    "class MyClass:\n",
    "    def __init__(self, value):\n",
    "        self.value = value\n",
    "\n",
    "    def __eq__(self, other):\n",
    "        if isinstance(other, MyClass):\n",
    "            return self.value == other.value\n",
    "        return False"
   ]
  },
  {
   "cell_type": "code",
   "execution_count": 15,
   "id": "58700c82",
   "metadata": {},
   "outputs": [
    {
     "data": {
      "text/plain": [
       "True"
      ]
     },
     "execution_count": 15,
     "metadata": {},
     "output_type": "execute_result"
    }
   ],
   "source": [
    "obj1 = MyClass(2)\n",
    "\n",
    "obj2 = MyClass(2)\n",
    "\n",
    "# True?\n",
    "obj1 == obj2"
   ]
  },
  {
   "cell_type": "markdown",
   "id": "5f57a925",
   "metadata": {},
   "source": [
    "*  In the context of classes, `*args` and `*kwargs` are used in method definitions to allow flexibility in accepting a variable number of arguments.\n",
    "\n",
    "* `*args`:\n",
    "\n",
    "    * Stands for \"arguments.\"\n",
    "    * Allows a method to accept an arbitrary number of positional arguments.\n",
    "    * Arguments passed as `*args` are collected into a tuple within the method."
   ]
  },
  {
   "cell_type": "code",
   "execution_count": 16,
   "id": "148f8420",
   "metadata": {},
   "outputs": [
    {
     "name": "stdout",
     "output_type": "stream",
     "text": [
      "1\n",
      "2\n",
      "3\n"
     ]
    }
   ],
   "source": [
    "class Example:\n",
    "    def print_args(self, *args):\n",
    "        for arg in args:\n",
    "            print(arg)\n",
    "\n",
    "obj = Example()\n",
    "obj.print_args(1, 2, 3)\n"
   ]
  },
  {
   "cell_type": "markdown",
   "id": "5352280b",
   "metadata": {},
   "source": [
    "* `**kwargs`:\n",
    "\n",
    "    * Stands for \"keyword arguments.\"\n",
    "    * Allows a method to accept an arbitrary number of keyword arguments (key-value pairs).\n",
    "    * Arguments passed as `**kwargs` are collected into a dictionary within the method.\n"
   ]
  },
  {
   "cell_type": "code",
   "execution_count": 17,
   "id": "4dd2b72c",
   "metadata": {},
   "outputs": [
    {
     "name": "stdout",
     "output_type": "stream",
     "text": [
      "name: John\n",
      "age: 25\n",
      "city: New York\n"
     ]
    }
   ],
   "source": [
    "class Example:\n",
    "    def print_kwargs(self, **kwargs):\n",
    "        for key, value in kwargs.items():\n",
    "            print(f\"{key}: {value}\")\n",
    "\n",
    "obj = Example()\n",
    "obj.print_kwargs(name=\"John\", age=25,  city=\"New York\")"
   ]
  },
  {
   "cell_type": "markdown",
   "id": "1421f19e",
   "metadata": {},
   "source": [
    "### HW 8"
   ]
  },
  {
   "cell_type": "markdown",
   "id": "ba98827a",
   "metadata": {},
   "source": [
    "1. In the `EnhancedCoordinate` class, add a new method called `in_quadrant` that determines whether a point, represented by its x and y coordinates, is located in a specific quadrant on the Cartesian plane. The Cartesian plane is divided into four quadrants, labeled 1, 2, 3, and 4. The `in_quadrant` method should accept a number from the set $\\{1, 2, 3, 4\\}$, representing the quadrant to check, and return `True` if the point is in that quadrant and `False` otherwise."
   ]
  },
  {
   "cell_type": "code",
   "execution_count": null,
   "id": "7bfb91ab",
   "metadata": {},
   "outputs": [],
   "source": []
  },
  {
   "cell_type": "code",
   "execution_count": null,
   "id": "e844ea25",
   "metadata": {},
   "outputs": [],
   "source": [
    "# Create an instance and test your code \n",
    "point = EnhancedCoordinate(-2, 5, \"Point\")\n",
    "\n",
    "print(point.in_quadrant(1),'\\n', point.in_quadrant(2))"
   ]
  },
  {
   "cell_type": "markdown",
   "id": "8f124231",
   "metadata": {},
   "source": [
    "2. Create a class called `MathOperations` with a method `perform_operations` that accepts a variable number of arguments (`*args`). The method should perform the following operations:\n",
    "\n",
    "    * Print the sum of all the numbers passed as arguments.\n",
    "    * Print the product of all the numbers passed as arguments.\n",
    "    * Print the concatenation of all the strings passed as arguments.\n",
    "\n",
    "Additionally, create an instance of the class and demonstrate the use of the `perform_operations` method."
   ]
  },
  {
   "cell_type": "code",
   "execution_count": null,
   "id": "1138d6a0",
   "metadata": {},
   "outputs": [],
   "source": []
  },
  {
   "cell_type": "code",
   "execution_count": null,
   "id": "d7d7e365",
   "metadata": {},
   "outputs": [],
   "source": [
    "# Create an instance of MathOperations\n",
    "math_ops = MathOperations()\n",
    "\n",
    "# Demonstrate the use of perform_operations method\n",
    "math_ops.perform_operations(2, 5, 'MATH ', 4, '1376', 2)"
   ]
  },
  {
   "cell_type": "markdown",
   "id": "3021afb7",
   "metadata": {},
   "source": [
    "3. Create a Python class named `Rectangle` that represents a rectangle. This class should include the following.\n",
    "\n",
    "* Two instance attributes: `width` and `height` (both should be positive numbers).\n",
    "* A constructor (`__init__ method`) that initializes the width and height of the rectangle.\n",
    "* A method named `area` that returns the area of the rectangle.\n",
    "* A method named `perimeter` that returns the perimeter of the rectangle.\n",
    "* An `__eq__ method` to compare two Rectangle instances. Two instances of Rectangle are considered equal if their widths and heights are the same."
   ]
  },
  {
   "cell_type": "code",
   "execution_count": null,
   "id": "4b2196a6",
   "metadata": {},
   "outputs": [],
   "source": []
  },
  {
   "cell_type": "code",
   "execution_count": null,
   "id": "8b690a0b",
   "metadata": {},
   "outputs": [],
   "source": [
    "# Does your code work? \n",
    "rect1 = Rectangle(5, 10)\n",
    "rect2 = Rectangle(5, 10)\n",
    "rect3 = Rectangle(3, 4)\n",
    "\n",
    "print(rect1 == rect2)  \n",
    "print(rect1 == rect3)  \n",
    "\n",
    "print(rect1.area())  \n",
    "print(rect3.perimeter()) \n",
    "\n"
   ]
  }
 ],
 "metadata": {
  "kernelspec": {
   "display_name": "Python 3 (ipykernel)",
   "language": "python",
   "name": "python3"
  },
  "language_info": {
   "codemirror_mode": {
    "name": "ipython",
    "version": 3
   },
   "file_extension": ".py",
   "mimetype": "text/x-python",
   "name": "python",
   "nbconvert_exporter": "python",
   "pygments_lexer": "ipython3",
   "version": "3.10.9"
  }
 },
 "nbformat": 4,
 "nbformat_minor": 5
}
