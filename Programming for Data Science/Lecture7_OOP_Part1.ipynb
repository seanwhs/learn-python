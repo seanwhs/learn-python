{
 "cells": [
  {
   "cell_type": "markdown",
   "id": "4367dde8",
   "metadata": {},
   "source": [
    "\n",
    "## Programming for Data Science\n",
    "\n",
    "### Lecture 7, Part 1: Object-Oriented Programming (OOP)\n",
    "\n",
    "### Instructor: Farhad Pourkamali \n",
    "\n",
    "\n",
    "[![Open In Colab](https://colab.research.google.com/assets/colab-badge.svg)](https://colab.research.google.com/github/farhad-pourkamali/CUSucceedProgrammingForDataScience/blob/main/Lecture7_OOP_Part1.ipynb)\n"
   ]
  },
  {
   "cell_type": "markdown",
   "id": "f4a913ca",
   "metadata": {},
   "source": [
    "### Introduction\n",
    "<hr style=\"border:2px solid gray\">\n",
    "\n",
    "* Python is a versatile language that supports two programming approaches: POP and OOP.\n",
    "    * Procedure-Oriented Programming (POP)\n",
    "        * Emphasizes a step-by-step execution of procedures.\n",
    "        * Program is a set of functions that perform specific tasks.\n",
    "        * Data and functions are separate entities.\n",
    "        * Reusability is often limited. \n",
    "        \n",
    "    * Object-Oriented Programming (OOP)\n",
    "        * Emphasizes the organization of code into reusable, self-contained units called `objects`.\n",
    "        * Program is a collection of interacting `objects`.\n",
    "        * Data (known as `attributes`) and functions (known as `methods`) are encapsulated within `objects`.\n",
    "        \n",
    "* Object-Oriented Programming (OOP) Components:\n",
    "    * Class:\n",
    "        * Blueprint or template for creating objects.\n",
    "        * Defines attributes (data) and methods (functions) that objects of the class will have.\n",
    "        * Acts as a user-defined data type.\n",
    "    * Object:\n",
    "        * Instance of a class, created based on the class blueprint.\n",
    "        * Possesses unique attributes and behaviors defined by the class.\n",
    "        * Represents a specific occurrence or entity in the program.\n",
    "        \n",
    "* Class names should be in `CamelCase`, where each word begins with a capital letter.\n",
    "Example: `MyClass` and `CarModel`. "
   ]
  },
  {
   "cell_type": "markdown",
   "id": "40feba4c",
   "metadata": {},
   "source": [
    "* Let's break down the basics of Object-Oriented Programming (OOP) using a simple example of a `Student` class with `student_id`, `name`, and one `method`.\n",
    "\n",
    "    * Constructor `def __init__(self, student_id, name)`\n",
    "        * Initializes the class with attributes (student_id and name).\n",
    "        * `self` refers to the instance of the class being created.\n",
    "        \n",
    "* In Python, when defining attributes in a class, you don't use `()` because parentheses are used to call methods or functions. Attributes are essentially variables that store data within an object, and they don't require parentheses."
   ]
  },
  {
   "cell_type": "code",
   "execution_count": 1,
   "id": "fcd5e6fd",
   "metadata": {},
   "outputs": [],
   "source": [
    "class Student:\n",
    "    \n",
    "    # Class initialization method (constructor)\n",
    "    def __init__(self, student_id, name):\n",
    "        self.student_id = student_id\n",
    "        self.name = name\n",
    "\n",
    "    # Method to display student information\n",
    "    def display_info(self):\n",
    "        print(f\"Student ID: {self.student_id}\")\n",
    "        print(f\"Name: {self.name}\")"
   ]
  },
  {
   "cell_type": "code",
   "execution_count": 2,
   "id": "d3118e74",
   "metadata": {},
   "outputs": [
    {
     "name": "stdout",
     "output_type": "stream",
     "text": [
      "10372 John Doe\n"
     ]
    }
   ],
   "source": [
    "# Creating an instance of the Student class\n",
    "student1 = Student(student_id=10372, name=\"John Doe\")\n",
    "\n",
    "# Accessing attributes\n",
    "print(student1.student_id, student1.name)\n"
   ]
  },
  {
   "cell_type": "code",
   "execution_count": 3,
   "id": "043e2780",
   "metadata": {},
   "outputs": [
    {
     "name": "stdout",
     "output_type": "stream",
     "text": [
      "Student ID: 10372\n",
      "Name: John Doe\n"
     ]
    }
   ],
   "source": [
    "# Calling the method\n",
    "student1.display_info()"
   ]
  },
  {
   "cell_type": "code",
   "execution_count": 4,
   "id": "00afa22b",
   "metadata": {},
   "outputs": [
    {
     "name": "stdout",
     "output_type": "stream",
     "text": [
      "Student ID: 10463\n",
      "Name: Jane Smith\n"
     ]
    }
   ],
   "source": [
    "# Creating another instance of the Student class with a different name\n",
    "student2 = Student(student_id=10463, name=\"Jane Smith\")\n",
    "\n",
    "student2.display_info()"
   ]
  },
  {
   "cell_type": "markdown",
   "id": "b16fb37c",
   "metadata": {},
   "source": [
    "* Let's add a method named `add_courses` to the `Student` class to store a list of courses that a student has taken. Here's the modified class."
   ]
  },
  {
   "cell_type": "code",
   "execution_count": 5,
   "id": "8cea5d7a",
   "metadata": {},
   "outputs": [
    {
     "name": "stdout",
     "output_type": "stream",
     "text": [
      "Student ID: 10372\n",
      "Name: John Doe\n",
      "Courses Taken: []\n"
     ]
    }
   ],
   "source": [
    "class Student:\n",
    "    def __init__(self, student_id, name):\n",
    "        self.student_id = student_id\n",
    "        self.name = name\n",
    "        self.courses_taken = []  # Initialize an empty list for courses\n",
    "\n",
    "    # modified method \n",
    "    def display_info(self):\n",
    "        print(f\"Student ID: {self.student_id}\")\n",
    "        print(f\"Name: {self.name}\")\n",
    "        print(\"Courses Taken:\", self.courses_taken)\n",
    "\n",
    "    # new method \n",
    "    def add_courses(self, courses):\n",
    "        self.courses_taken.extend(courses)\n",
    "\n",
    "# Creating an instance of the Student class\n",
    "student1 = Student(student_id=10372, name=\"John Doe\")\n",
    "\n",
    "# Displaying information for student1\n",
    "student1.display_info()"
   ]
  },
  {
   "cell_type": "code",
   "execution_count": 6,
   "id": "c23e6807",
   "metadata": {},
   "outputs": [
    {
     "name": "stdout",
     "output_type": "stream",
     "text": [
      "Student ID: 10372\n",
      "Name: John Doe\n",
      "Courses Taken: ['Mathematics', 'History', 'Programming']\n"
     ]
    }
   ],
   "source": [
    "# Adding courses for student1\n",
    "student1.add_courses([\"Mathematics\", \"History\", \"Programming\"])\n",
    "\n",
    "# Displaying information for student1\n",
    "student1.display_info()"
   ]
  },
  {
   "cell_type": "code",
   "execution_count": 7,
   "id": "00c63e5e",
   "metadata": {},
   "outputs": [
    {
     "name": "stdout",
     "output_type": "stream",
     "text": [
      "Student ID: 10372\n",
      "Name: John Doe\n",
      "Courses Taken: ['Mathematics', 'History', 'Programming', 'Statistics']\n"
     ]
    }
   ],
   "source": [
    "# Adding more courses for student1\n",
    "student1.add_courses([\"Statistics\"])\n",
    "\n",
    "# Displaying information for student1\n",
    "student1.display_info()"
   ]
  },
  {
   "cell_type": "markdown",
   "id": "81399e15",
   "metadata": {},
   "source": [
    "* Here's a concise summary of the main syntax for defining a class in Python.\n",
    "\n",
    "```\n",
    "class ClassName:\n",
    "    def __init__(self, arguments):\n",
    "        # Constructor method to initialize object attributes\n",
    "        # self refers to the instance being created\n",
    "        # arguments are parameters passed during instance creation\n",
    "\n",
    "    def other_methods(self, arguments):\n",
    "        # Additional methods to define behaviors of the class\n",
    "        # self refers to the instance calling the method\n",
    "        # arguments are parameters specific to each method\n",
    "```"
   ]
  },
  {
   "cell_type": "markdown",
   "id": "1332a0c1",
   "metadata": {},
   "source": [
    "# Instance vs class attributes \n",
    "<hr style=\"border:2px solid gray\">\n",
    "\n",
    "* Instance Attributes:\n",
    "\n",
    "    * Belong to a specific instance of the class.\n",
    "    * Unique to each instance.\n",
    "    * Defined within the constructor method (`__init__`), using self.\n",
    "    * Modified using the instance name (self).\n",
    "    \n",
    "* Class Attributes:\n",
    "    * Belong to the class itself.\n",
    "    * Shared by all instances of the class.\n",
    "    * Defined outside of any method, typically at the top of the class.  "
   ]
  },
  {
   "cell_type": "code",
   "execution_count": 8,
   "id": "fc24dcf2",
   "metadata": {},
   "outputs": [
    {
     "name": "stdout",
     "output_type": "stream",
     "text": [
      "All circles use the value of pi: 3.141592653589793\n",
      "The area of circle1 is: 78.53981633974483\n",
      "The circumference of circle2 is: 50.26548245743669\n"
     ]
    }
   ],
   "source": [
    "import math\n",
    "\n",
    "class Circle:\n",
    "    # \"Class attribute\" representing the value of pi\n",
    "    pi = math.pi\n",
    "\n",
    "    def __init__(self, radius):\n",
    "        # \"Instance attribute\" for the radius of the circle\n",
    "        self.radius = radius\n",
    "\n",
    "    def calculate_area(self):\n",
    "        # Method to calculate the area of the circle\n",
    "        area = Circle.pi * (self.radius ** 2)\n",
    "        return area\n",
    "\n",
    "    def calculate_circumference(self):\n",
    "        # Method to calculate the circumference of the circle\n",
    "        circumference = 2 * Circle.pi * self.radius\n",
    "        return circumference\n",
    "\n",
    "# Creating instances of the Circle class\n",
    "circle1 = Circle(radius=5)\n",
    "circle2 = Circle(radius=8)\n",
    "\n",
    "# Accessing class attribute\n",
    "print(f\"All circles use the value of pi: {Circle.pi}\")\n",
    "\n",
    "# Accessing instance attributes and calling methods\n",
    "area1 = circle1.calculate_area()\n",
    "circumference2 = circle2.calculate_circumference()\n",
    "\n",
    "print(f\"The area of circle1 is: {area1}\")\n",
    "print(f\"The circumference of circle2 is: {circumference2}\")"
   ]
  },
  {
   "cell_type": "markdown",
   "id": "4b0ccabb",
   "metadata": {},
   "source": [
    "* In Python, `object.__dict__` is a dictionary that holds the `attributes` of an object. Each instance of a class has its own `__dict__` attribute, which is a dictionary containing the object's attributes and their corresponding values."
   ]
  },
  {
   "cell_type": "code",
   "execution_count": 9,
   "id": "c0d5e0e5",
   "metadata": {},
   "outputs": [
    {
     "name": "stdout",
     "output_type": "stream",
     "text": [
      "{'name': 'John', 'age': 25}\n"
     ]
    }
   ],
   "source": [
    "class Example:\n",
    "    def __init__(self, name, age):\n",
    "        self.name = name\n",
    "        self.age = age\n",
    "\n",
    "# Creating an instance of Example\n",
    "obj = Example(name=\"John\", age=25)\n",
    "\n",
    "# Accessing the __dict__ attribute\n",
    "obj_dict = obj.__dict__\n",
    "\n",
    "# Displaying the dictionary of attributes\n",
    "print(obj_dict)\n"
   ]
  },
  {
   "cell_type": "code",
   "execution_count": 10,
   "id": "76faee1d",
   "metadata": {},
   "outputs": [
    {
     "data": {
      "text/plain": [
       "dict"
      ]
     },
     "execution_count": 10,
     "metadata": {},
     "output_type": "execute_result"
    }
   ],
   "source": [
    "type(obj_dict)"
   ]
  },
  {
   "cell_type": "markdown",
   "id": "217370a2",
   "metadata": {},
   "source": [
    "* Below is a basic implementation of a `CustomArray` class that mimics some of the functionalities of a NumPy array, focusing on Python lists with the attribute 'n', representing the length, along with basic operations such as dot product and vector norm."
   ]
  },
  {
   "cell_type": "code",
   "execution_count": 11,
   "id": "67d914f2",
   "metadata": {},
   "outputs": [],
   "source": [
    "import math\n",
    "\n",
    "class CustomArray:\n",
    "    def __init__(self, data):\n",
    "        if not isinstance(data, list):\n",
    "            raise TypeError(\"Input data must be a list\")\n",
    "            \n",
    "        self.data = data\n",
    "        self.n = len(data)\n",
    "\n",
    "    def dot_product(self, other):\n",
    "        if self.n != other.n:\n",
    "            raise ValueError(\"Input arrays must have the same length\")\n",
    "            \n",
    "        return sum(x * y for x, y in zip(self.data, other.data))\n",
    "\n",
    "    def vector_norm(self):\n",
    "        return math.sqrt(sum(x**2 for x in self.data))\n"
   ]
  },
  {
   "cell_type": "code",
   "execution_count": 12,
   "id": "0223863a",
   "metadata": {},
   "outputs": [
    {
     "name": "stdout",
     "output_type": "stream",
     "text": [
      "Dot Product: 32\n",
      "Vector Norm: 3.7416573867739413\n"
     ]
    }
   ],
   "source": [
    "# Example usage:\n",
    "array1 = CustomArray([1, 2, 3])\n",
    "array2 = CustomArray([4, 5, 6])\n",
    "\n",
    "# Dot product\n",
    "result_dot_product = array1.dot_product(array2)\n",
    "print(\"Dot Product:\", result_dot_product)\n",
    "\n",
    "# Vector norm\n",
    "result_vector_norm = array1.vector_norm()\n",
    "print(\"Vector Norm:\", result_vector_norm)\n"
   ]
  },
  {
   "cell_type": "code",
   "execution_count": 13,
   "id": "61c3ba6c",
   "metadata": {},
   "outputs": [
    {
     "ename": "TypeError",
     "evalue": "Input data must be a list",
     "output_type": "error",
     "traceback": [
      "\u001b[0;31m---------------------------------------------------------------------------\u001b[0m",
      "\u001b[0;31mTypeError\u001b[0m                                 Traceback (most recent call last)",
      "Cell \u001b[0;32mIn[13], line 3\u001b[0m\n\u001b[1;32m      1\u001b[0m \u001b[38;5;66;03m# Do we get an error message?\u001b[39;00m\n\u001b[0;32m----> 3\u001b[0m array1 \u001b[38;5;241m=\u001b[39m \u001b[43mCustomArray\u001b[49m\u001b[43m(\u001b[49m\u001b[43m(\u001b[49m\u001b[38;5;241;43m1\u001b[39;49m\u001b[43m,\u001b[49m\u001b[43m \u001b[49m\u001b[38;5;241;43m2\u001b[39;49m\u001b[43m,\u001b[49m\u001b[43m \u001b[49m\u001b[38;5;241;43m3\u001b[39;49m\u001b[43m)\u001b[49m\u001b[43m)\u001b[49m\n",
      "Cell \u001b[0;32mIn[11], line 6\u001b[0m, in \u001b[0;36mCustomArray.__init__\u001b[0;34m(self, data)\u001b[0m\n\u001b[1;32m      4\u001b[0m \u001b[38;5;28;01mdef\u001b[39;00m \u001b[38;5;21m__init__\u001b[39m(\u001b[38;5;28mself\u001b[39m, data):\n\u001b[1;32m      5\u001b[0m     \u001b[38;5;28;01mif\u001b[39;00m \u001b[38;5;129;01mnot\u001b[39;00m \u001b[38;5;28misinstance\u001b[39m(data, \u001b[38;5;28mlist\u001b[39m):\n\u001b[0;32m----> 6\u001b[0m         \u001b[38;5;28;01mraise\u001b[39;00m \u001b[38;5;167;01mTypeError\u001b[39;00m(\u001b[38;5;124m\"\u001b[39m\u001b[38;5;124mInput data must be a list\u001b[39m\u001b[38;5;124m\"\u001b[39m)\n\u001b[1;32m      8\u001b[0m     \u001b[38;5;28mself\u001b[39m\u001b[38;5;241m.\u001b[39mdata \u001b[38;5;241m=\u001b[39m data\n\u001b[1;32m      9\u001b[0m     \u001b[38;5;28mself\u001b[39m\u001b[38;5;241m.\u001b[39mn \u001b[38;5;241m=\u001b[39m \u001b[38;5;28mlen\u001b[39m(data)\n",
      "\u001b[0;31mTypeError\u001b[0m: Input data must be a list"
     ]
    }
   ],
   "source": [
    "# Do we get an error message?\n",
    "\n",
    "array1 = CustomArray((1, 2, 3))"
   ]
  },
  {
   "cell_type": "code",
   "execution_count": 14,
   "id": "927a5c8d",
   "metadata": {},
   "outputs": [
    {
     "ename": "ValueError",
     "evalue": "Input arrays must have the same length",
     "output_type": "error",
     "traceback": [
      "\u001b[0;31m---------------------------------------------------------------------------\u001b[0m",
      "\u001b[0;31mValueError\u001b[0m                                Traceback (most recent call last)",
      "Cell \u001b[0;32mIn[14], line 7\u001b[0m\n\u001b[1;32m      3\u001b[0m array1 \u001b[38;5;241m=\u001b[39m CustomArray([\u001b[38;5;241m1\u001b[39m, \u001b[38;5;241m2\u001b[39m, \u001b[38;5;241m3\u001b[39m])\n\u001b[1;32m      5\u001b[0m array2 \u001b[38;5;241m=\u001b[39m CustomArray([\u001b[38;5;241m4\u001b[39m, \u001b[38;5;241m5\u001b[39m, \u001b[38;5;241m6\u001b[39m, \u001b[38;5;241m8\u001b[39m])\n\u001b[0;32m----> 7\u001b[0m \u001b[43marray1\u001b[49m\u001b[38;5;241;43m.\u001b[39;49m\u001b[43mdot_product\u001b[49m\u001b[43m(\u001b[49m\u001b[43marray2\u001b[49m\u001b[43m)\u001b[49m\n",
      "Cell \u001b[0;32mIn[11], line 13\u001b[0m, in \u001b[0;36mCustomArray.dot_product\u001b[0;34m(self, other)\u001b[0m\n\u001b[1;32m     11\u001b[0m \u001b[38;5;28;01mdef\u001b[39;00m \u001b[38;5;21mdot_product\u001b[39m(\u001b[38;5;28mself\u001b[39m, other):\n\u001b[1;32m     12\u001b[0m     \u001b[38;5;28;01mif\u001b[39;00m \u001b[38;5;28mself\u001b[39m\u001b[38;5;241m.\u001b[39mn \u001b[38;5;241m!=\u001b[39m other\u001b[38;5;241m.\u001b[39mn:\n\u001b[0;32m---> 13\u001b[0m         \u001b[38;5;28;01mraise\u001b[39;00m \u001b[38;5;167;01mValueError\u001b[39;00m(\u001b[38;5;124m\"\u001b[39m\u001b[38;5;124mInput arrays must have the same length\u001b[39m\u001b[38;5;124m\"\u001b[39m)\n\u001b[1;32m     15\u001b[0m     \u001b[38;5;28;01mreturn\u001b[39;00m \u001b[38;5;28msum\u001b[39m(x \u001b[38;5;241m*\u001b[39m y \u001b[38;5;28;01mfor\u001b[39;00m x, y \u001b[38;5;129;01min\u001b[39;00m \u001b[38;5;28mzip\u001b[39m(\u001b[38;5;28mself\u001b[39m\u001b[38;5;241m.\u001b[39mdata, other\u001b[38;5;241m.\u001b[39mdata))\n",
      "\u001b[0;31mValueError\u001b[0m: Input arrays must have the same length"
     ]
    }
   ],
   "source": [
    "# Do we get an error message?\n",
    "\n",
    "array1 = CustomArray([1, 2, 3])\n",
    "\n",
    "array2 = CustomArray([4, 5, 6, 8])\n",
    "\n",
    "array1.dot_product(array2)"
   ]
  },
  {
   "cell_type": "code",
   "execution_count": 15,
   "id": "249943b0",
   "metadata": {},
   "outputs": [
    {
     "data": {
      "text/plain": [
       "3"
      ]
     },
     "execution_count": 15,
     "metadata": {},
     "output_type": "execute_result"
    }
   ],
   "source": [
    "# instance attribute\n",
    "array1.n"
   ]
  },
  {
   "cell_type": "markdown",
   "id": "03a6401e",
   "metadata": {},
   "source": [
    "### HW 7"
   ]
  },
  {
   "cell_type": "markdown",
   "id": "2b11df3d",
   "metadata": {},
   "source": [
    "1. Add two additional methods, `pearson_correlation` and `lp_norm`, to the `CustomArray` class in this notebook. The Pearson correlation coefficient between two vectors $X$ and $Y$ is given by the formula:\n",
    "\n",
    "$$\n",
    "\\rho(X, Y) = \\frac{\\sum_{i=1}^{n}(X_i - \\bar{X})(Y_i - \\bar{Y})}{\\sqrt{\\sum_{i=1}^{n}(X_i - \\bar{X})^2 \\sum_{i=1}^{n}(Y_i - \\bar{Y})^2}}.\n",
    "$$\n",
    "\n",
    "Note that the above formula requires you to calculate the mean of both vectors or lists ($\\bar{X}$ and $\\bar{Y}$), the covariance between the two vectors (the term in the numerator), and the standard deviations of each vector (the two terms in the denominator).\n",
    "\n",
    "The Lp norm of a vector $X$ with with elements $X_i$ is defined as \n",
    "\n",
    "$$\n",
    "\\|X\\|_p = \\left( \\sum_{i=1}^{n} |X_i|^p \\right)^{\\frac{1}{p}}.\n",
    "$$\n",
    "\n",
    "After implementation, verify the functionality of your class with the provided test cases to confirm it operates as expected."
   ]
  },
  {
   "cell_type": "code",
   "execution_count": null,
   "id": "ae73a6e4",
   "metadata": {},
   "outputs": [],
   "source": [
    "import math\n",
    "\n",
    "class CustomArray:\n",
    "    def __init__(self, data):\n",
    "        if not isinstance(data, list):\n",
    "            raise TypeError(\"Input data must be a list\")\n",
    "            \n",
    "        self.data = data\n",
    "        self.n = len(data)\n",
    "\n",
    "    def dot_product(self, other):\n",
    "        if self.n != other.n:\n",
    "            raise ValueError(\"Input arrays must have the same length\")\n",
    "            \n",
    "        return sum(x * y for x, y in zip(self.data, other.data))\n",
    "\n",
    "    def vector_norm(self):\n",
    "        return math.sqrt(sum(x**2 for x in self.data))\n",
    "\n",
    "    def pearson_correlation(self, other):\n",
    "        if self.n != other.n:\n",
    "            raise ValueError(\"Vectors must have the same length for Pearson correlation\")\n",
    "\n",
    "        # Your Code \n",
    "\n",
    "    def lp_norm(self, p):\n",
    "        if p <= 0:\n",
    "            raise ValueError(\"p must be greater than 0 for Lp norm\")\n",
    "\n",
    "        # Your Code\n"
   ]
  },
  {
   "cell_type": "code",
   "execution_count": null,
   "id": "6e42153c",
   "metadata": {},
   "outputs": [],
   "source": [
    "# Test case for Pearson Correlation\n",
    "vector_x = CustomArray([1, 2, 3, 4, 5])\n",
    "vector_y = CustomArray([2, 3, 4, 5, 6])\n",
    "\n",
    "pearson_corr = CustomArray.pearson_correlation(vector_x, vector_y)\n",
    "print(f\"Pearson Correlation between X and Y: {pearson_corr}\")\n",
    "\n",
    "# Test case for Lp Norm\n",
    "vector_z = CustomArray([1, -2, 3, -4, 5])\n",
    "p = 3\n",
    "\n",
    "lp_norm_z = CustomArray.lp_norm(vector_z, p)\n",
    "print(f\"Lp Norm of Z with p={p}: {lp_norm_z}\")"
   ]
  },
  {
   "cell_type": "markdown",
   "id": "16d4d147",
   "metadata": {},
   "source": [
    "2. Let's tackle a simple data science problem: linear regression. Create a custom class named `LinearRegression` to handle linear regression analysis.\n",
    "\n",
    "* The linear regression model can be represented by the equation:\n",
    "\n",
    "$$y=\\beta_0+\\beta_1 x$$\n",
    "\n",
    "where $y$ is the dependent variable (output), $x$ is the independent variable (input), $\\beta_0$ is the intercept (y-intercept),and $\\beta_1$ is the slope (coefficient) of the independent variable.\n",
    "    \n",
    "* Coefficient Calculation: The coefficients $\\beta_0$ and $\\beta_1$ are calculated using the following formulas:\n",
    "\n",
    "$$\\beta_1 = \\frac{\\sum_{i=1}^{n}(x_i - \\bar{x})(y_i - \\bar{y})}{\\sum_{i=1}^{n}(x_i - \\bar{x})^2}\n",
    "$$\n",
    "\n",
    "$$\\beta_0= \\bar{y} - \\beta_1 \\cdot \\bar{x}\n",
    "$$\n",
    "\n",
    "where $n$ is the number of data points, $x_i$ and $y_i$ are individual data points, and $\\bar{x}$ and $\\bar{y}$ are the means of $x$ and $y$ vectors. The coefficients $\\beta_0$ and $\\beta_1$ are determined to best fit a line to the given data points. \n",
    "\n",
    "* Prediction: Once the coefficients are calculated, you can make predictions for new values of independent variable $x$ using:\n",
    "\n",
    "$$y=\\beta_0+\\beta_1 \\cdot \\text{new }x$$\n",
    "\n",
    "In the following cell, you see a template for creating the `LinearRegression` class. Add your code to the `calculate_coefficients` and `predict` methods. Once completed, run the subsequent cell to verify the correctness of your code using the example usage. \n"
   ]
  },
  {
   "cell_type": "code",
   "execution_count": null,
   "id": "dcbaed2e",
   "metadata": {},
   "outputs": [],
   "source": [
    "class LinearRegression:\n",
    "    def __init__(self, x, y):\n",
    "        if len(x) != len(y):\n",
    "            raise ValueError(\"Input arrays must have the same length\")\n",
    "            \n",
    "        self.x = x\n",
    "        self.y = y\n",
    "        self.n = len(x)\n",
    "        self.beta_0 = None\n",
    "        self.beta_1 = None\n",
    "\n",
    "    def calculate_coefficients(self):\n",
    "        if self.n == 0:\n",
    "            raise ValueError(\"Empty dataset, cannot perform linear regression\")\n",
    "        \n",
    "        # Your Code\n",
    "\n",
    "    def predict(self, new_x):\n",
    "        if self.beta_0 is None or self.beta_1 is None:\n",
    "            raise ValueError(\"Coefficients are not calculated, please run calculate_coefficients() first\")\n",
    "        \n",
    "        # Your Code \n"
   ]
  },
  {
   "cell_type": "code",
   "execution_count": null,
   "id": "6d07e8f8",
   "metadata": {},
   "outputs": [],
   "source": [
    "# Example usage:\n",
    "x_data = [1, 2, 3, 4, 5]\n",
    "\n",
    "y_data = [2*xi + 3 for xi in x_data]\n",
    "\n",
    "regression_model = LinearRegression(x_data, y_data)\n",
    "\n",
    "# Calculate coefficients\n",
    "beta_0, beta_1 = regression_model.calculate_coefficients()\n",
    "print(\"Linear Regression Coefficients: beta_0 =\", beta_0, \", beta_1 =\", beta_1)\n",
    "\n",
    "# Make predictions\n",
    "new_x_value = 6\n",
    "predicted_y = regression_model.predict(new_x_value)\n",
    "print(f\"Predicted y for x={new_x_value}: {predicted_y}\")\n"
   ]
  },
  {
   "cell_type": "markdown",
   "id": "3da1f9e2",
   "metadata": {},
   "source": [
    "3. Create a Python class named `NumpyDatasetAnalyzer` that offers basic functionalities to analyze a data set represented as a 2D Numpy array. Each row in the array represents a data record, and each column represents a different variable.\n",
    "\n",
    "Requirements:\n",
    "\n",
    "* Class Initialization: The `NumpyDatasetAnalyzer` class should initialize with a single parameter: dataset, which is a 2D Numpy array.\n",
    "\n",
    "* Calculate Mean: Implement a method `calculate_mean(column_index)` that calculates and returns the mean of a specified column in the dataset.\n",
    "\n",
    "* Calculate Median: Implement a method `calculate_median(column_index)` that calculates and returns the median of a specified column.\n",
    "\n",
    "* Find Minimum and Maximum: Implement methods `find_minimum(column_index)` and `find_maximum(column_index)` that return the minimum and maximum values of a specified column, respectively.\n",
    "\n",
    "After implementation, verify the functionality of your class with the provided test cases to confirm it operates as expected."
   ]
  },
  {
   "cell_type": "code",
   "execution_count": null,
   "id": "f0716d40",
   "metadata": {},
   "outputs": [],
   "source": [
    "import numpy as np\n",
    "\n",
    "class NumpyDatasetAnalyzer:\n",
    "    # Your code"
   ]
  },
  {
   "cell_type": "code",
   "execution_count": null,
   "id": "b09afcdd",
   "metadata": {},
   "outputs": [],
   "source": [
    "# Test case \n",
    "\n",
    "import numpy as np\n",
    "\n",
    "dataset = np.array([\n",
    "    [1, 20, 300],\n",
    "    [2, 30, 400],\n",
    "    [3, 40, 500]\n",
    "])\n",
    "\n",
    "analyzer = NumpyDatasetAnalyzer(dataset)\n",
    "mean = analyzer.calculate_mean(1)  # Mean of the second column\n",
    "median = analyzer.calculate_median(1)  # Median of the second column\n",
    "minimum = analyzer.find_minimum(2)  # Minimum of the third column\n",
    "maximum = analyzer.find_maximum(2)  # Maximum of the third column\n",
    "\n",
    "print(mean, median, minimum, maximum)"
   ]
  }
 ],
 "metadata": {
  "kernelspec": {
   "display_name": "Python 3 (ipykernel)",
   "language": "python",
   "name": "python3"
  },
  "language_info": {
   "codemirror_mode": {
    "name": "ipython",
    "version": 3
   },
   "file_extension": ".py",
   "mimetype": "text/x-python",
   "name": "python",
   "nbconvert_exporter": "python",
   "pygments_lexer": "ipython3",
   "version": "3.10.9"
  }
 },
 "nbformat": 4,
 "nbformat_minor": 5
}
