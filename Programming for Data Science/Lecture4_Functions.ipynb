{
 "cells": [
  {
   "cell_type": "markdown",
   "id": "4367dde8",
   "metadata": {},
   "source": [
    "\n",
    "## Programming for Data Science\n",
    "\n",
    "### Lecture 4: Functions\n",
    "\n",
    "### Instructor: Farhad Pourkamali \n",
    "\n",
    "\n",
    "[![Open In Colab](https://colab.research.google.com/assets/colab-badge.svg)](https://colab.research.google.com/github/farhad-pourkamali/CUSucceedProgrammingForDataScience/blob/main/Lecture4_Functions.ipynb)\n"
   ]
  },
  {
   "cell_type": "markdown",
   "id": "f4a913ca",
   "metadata": {},
   "source": [
    "### Introduction\n",
    "<hr style=\"border:2px solid gray\">\n",
    "\n",
    "* Definition: In programming, a function is a block of code that executes upon being called.\n",
    "* Input Arguments: Functions can receive input arguments provided by the user or calling entity.\n",
    "* Output Parameters: Functions produce output parameters, representing the results after completing their task.\n",
    "* Different types of functions in Python:\n",
    "    * Built-in Functions\n",
    "        * Predefined functions in Python's standard library.\n",
    "        * Examples: `print()`, `len()`, `type()`.\n",
    "    * Custom Functions\n",
    "        * User-defined functions created by the programmer.\n",
    "        * Defined using the `def` keyword.\n",
    "    * Nested Functions\n",
    "        * Functions defined within another function.\n",
    "    * Lambda Functions\n",
    "        * Anonymous functions created using the `lambda` keyword.\n",
    "        * Typically used for short, simple operations.\n",
    "\n",
    "        "
   ]
  },
  {
   "cell_type": "markdown",
   "id": "ccb0d41d",
   "metadata": {},
   "source": [
    "* The `len` function is considered a built-in function in Python because it is part of the Python standard library and is available for use without the need for explicit import statements. "
   ]
  },
  {
   "cell_type": "code",
   "execution_count": 1,
   "id": "c8bd77ac",
   "metadata": {},
   "outputs": [
    {
     "data": {
      "text/plain": [
       "list"
      ]
     },
     "execution_count": 1,
     "metadata": {},
     "output_type": "execute_result"
    }
   ],
   "source": [
    "type([1,2,3])"
   ]
  },
  {
   "cell_type": "code",
   "execution_count": 2,
   "id": "b6903698",
   "metadata": {},
   "outputs": [
    {
     "data": {
      "text/plain": [
       "4"
      ]
     },
     "execution_count": 2,
     "metadata": {},
     "output_type": "execute_result"
    }
   ],
   "source": [
    "my_arr = [1,2,3,4]\n",
    "\n",
    "len(my_arr)"
   ]
  },
  {
   "cell_type": "markdown",
   "id": "32c6af43",
   "metadata": {},
   "source": [
    "### Custom functions\n",
    "<hr style=\"border:2px solid gray\">\n",
    "\n",
    "* In Python, you can define a custom function using the `def` keyword. Here's the common syntax for defining a function:\n",
    "```\n",
    "def function_name(parameters):\n",
    "    \"\"\"\n",
    "    Docstring: Optional documentation describing the purpose of the function.\n",
    "    \"\"\"\n",
    "    \n",
    "    # Function body: Code that defines what the function does\n",
    "    # ...\n",
    "    \n",
    "    # Return statement: Optional, specifies the value to be returned\n",
    "    return result\n",
    "```"
   ]
  },
  {
   "cell_type": "code",
   "execution_count": 3,
   "id": "348c916c",
   "metadata": {},
   "outputs": [],
   "source": [
    "def add_numbers(x, y):\n",
    "    \n",
    "    \"\"\"\n",
    "    Adds two numbers and returns the result.\n",
    "    \"\"\"\n",
    "    \n",
    "    result = x + y\n",
    "    \n",
    "    return result"
   ]
  },
  {
   "cell_type": "code",
   "execution_count": 4,
   "id": "146d2ea8",
   "metadata": {},
   "outputs": [
    {
     "name": "stdout",
     "output_type": "stream",
     "text": [
      "5\n"
     ]
    }
   ],
   "source": [
    "my_result = add_numbers(2,3)\n",
    "\n",
    "print(my_result)"
   ]
  },
  {
   "cell_type": "markdown",
   "id": "9d2cb147",
   "metadata": {},
   "source": [
    "* In line with naming conventions for variables, it is recommended to use lowercase for function names. Additionally, words within function names can be separated by underscores (_) when needed to enhance readability."
   ]
  },
  {
   "cell_type": "markdown",
   "id": "ad78deda",
   "metadata": {},
   "source": [
    "* Choosing the appropriate type of docstring depends on your preference and the level of detail required for documentation. \n",
    "\n",
    "    * One-line Docstring:\n",
    "    ```\n",
    "    def my_function(arg1, arg2):\n",
    "    \n",
    "        \"\"\"Brief description of the function.\"\"\"\n",
    "        \n",
    "        # function body\n",
    "\n",
    "    ```\n",
    "    \n",
    "    * Multi-line Docstring:\n",
    "    ```\n",
    "    def my_function(arg1, arg2):\n",
    "    \n",
    "        \"\"\"\n",
    "        Detailed description of the function.\n",
    "\n",
    "        Args:\n",
    "            arg1: Description of arg1.\n",
    "            arg2: Description of arg2.\n",
    "\n",
    "        Returns:\n",
    "            Description of the return value.\n",
    "\n",
    "        Example:\n",
    "            >>> my_function(1, 2)\n",
    "    \"\"\"\n",
    "    \n",
    "    # function body\n",
    "    \n",
    "    ```"
   ]
  },
  {
   "cell_type": "markdown",
   "id": "769e4451",
   "metadata": {},
   "source": [
    "* In Python, a function can return more than one value by using a tuple, list, or another data structure to hold the multiple outputs."
   ]
  },
  {
   "cell_type": "code",
   "execution_count": 5,
   "id": "17364931",
   "metadata": {},
   "outputs": [],
   "source": [
    "def calculate_rectangle_properties(length, width):\n",
    "    \n",
    "    \"\"\"\n",
    "    Calculate the area and perimeter of a rectangle.\n",
    "\n",
    "    Args:\n",
    "        length (float): Length of the rectangle.\n",
    "        width (float): Width of the rectangle.\n",
    "\n",
    "    Returns:\n",
    "        tuple: A tuple containing the area and perimeter.\n",
    "    \"\"\"\n",
    "    \n",
    "    area = length * width\n",
    "    \n",
    "    perimeter = 2 * (length + width)\n",
    "    \n",
    "    #return the multiple result parameters in a tuple\n",
    "    \n",
    "    return area, perimeter"
   ]
  },
  {
   "cell_type": "code",
   "execution_count": 6,
   "id": "c43fdd37",
   "metadata": {},
   "outputs": [
    {
     "name": "stdout",
     "output_type": "stream",
     "text": [
      "Area: 15.0\n",
      "Perimeter: 16.0\n"
     ]
    }
   ],
   "source": [
    "length = 5.0\n",
    "\n",
    "width = 3.0\n",
    "\n",
    "result = calculate_rectangle_properties(length, width)\n",
    "\n",
    "area, perimeter = result  # Unpacking the tuple\n",
    "\n",
    "print(\"Area:\", area)\n",
    "\n",
    "print(\"Perimeter:\", perimeter)\n"
   ]
  },
  {
   "cell_type": "code",
   "execution_count": 7,
   "id": "5fb83c9b",
   "metadata": {},
   "outputs": [
    {
     "data": {
      "text/plain": [
       "tuple"
      ]
     },
     "execution_count": 7,
     "metadata": {},
     "output_type": "execute_result"
    }
   ],
   "source": [
    "type(result)"
   ]
  },
  {
   "cell_type": "markdown",
   "id": "236b71b2",
   "metadata": {},
   "source": [
    "* In Python, you can provide default values for function parameters, making those parameters optional when calling the function. \n",
    "* If a value for a parameter is not provided during the function call, the default value is used. "
   ]
  },
  {
   "cell_type": "code",
   "execution_count": 8,
   "id": "507161dd",
   "metadata": {},
   "outputs": [
    {
     "name": "stdout",
     "output_type": "stream",
     "text": [
      "Volume (default dimensions): 4.0\n",
      "Volume (custom dimensions): 24.0\n"
     ]
    }
   ],
   "source": [
    "def calculate_volume(length, width=1, height=1):\n",
    "    \"\"\"\n",
    "    Calculate the volume of a rectangular prism.\n",
    "\n",
    "    Args:\n",
    "        length (float): Length of the rectangular prism.\n",
    "        width (float, optional): Width of the rectangular prism (default is 1).\n",
    "        height (float, optional): Height of the rectangular prism (default is 1).\n",
    "\n",
    "    Returns:\n",
    "        float: The volume of the rectangular prism.\n",
    "    \"\"\"\n",
    "    volume = length * width * height\n",
    "    return volume\n",
    "\n",
    "# Example usage:\n",
    "length = 4.0\n",
    "\n",
    "# Case 1: Using default width and height\n",
    "result1 = calculate_volume(length)\n",
    "print(\"Volume (default dimensions):\", result1)\n",
    "\n",
    "# Case 2: Specifying width and height\n",
    "result2 = calculate_volume(length, width=2.0, height=3.0)\n",
    "print(\"Volume (custom dimensions):\", result2)"
   ]
  },
  {
   "cell_type": "markdown",
   "id": "7518b6c7",
   "metadata": {},
   "source": [
    "* In Python, the scope of a variable refers to the \"region of the code\" where the variable is accessible. \n",
    "    * `Local variables` are defined within a function and are only accessible within that function.\n",
    "    * `Global variables` are defined outside of any function and can be accessed throughout the entire script."
   ]
  },
  {
   "cell_type": "code",
   "execution_count": 9,
   "id": "5612d7d1",
   "metadata": {},
   "outputs": [
    {
     "name": "stdout",
     "output_type": "stream",
     "text": [
      "The value out within the function is 3\n",
      "The value out outside the function is 1\n"
     ]
    }
   ],
   "source": [
    "out = 1\n",
    "\n",
    "def add_numbers(a, b):\n",
    "    \"\"\" Understanding the scope of a variable.\"\"\"\n",
    "    \n",
    "    out = a + b\n",
    "    \n",
    "    print(f\"The value out within the function is {out}\")\n",
    "    \n",
    "    return out\n",
    "\n",
    "\n",
    "\n",
    "d = add_numbers(1, 2)\n",
    "\n",
    "print(f\"The value out outside the function is {out}\")"
   ]
  },
  {
   "cell_type": "markdown",
   "id": "ff302432",
   "metadata": {},
   "source": [
    "* When the `add_numbers` function is called, Python allocates a new memory block to store the function's variables, including `a`, `b`, and `out`. \n",
    "    * This memory block is distinct from the memory block where variables outside the function are stored."
   ]
  },
  {
   "cell_type": "code",
   "execution_count": 10,
   "id": "8eacff44",
   "metadata": {},
   "outputs": [
    {
     "ename": "NameError",
     "evalue": "name 'a' is not defined",
     "output_type": "error",
     "traceback": [
      "\u001b[0;31m---------------------------------------------------------------------------\u001b[0m",
      "\u001b[0;31mNameError\u001b[0m                                 Traceback (most recent call last)",
      "Cell \u001b[0;32mIn[10], line 3\u001b[0m\n\u001b[1;32m      1\u001b[0m \u001b[38;5;66;03m# Note that the variable \"a\" is not defined outside of the function\u001b[39;00m\n\u001b[0;32m----> 3\u001b[0m \u001b[38;5;28mprint\u001b[39m(\u001b[43ma\u001b[49m)\n",
      "\u001b[0;31mNameError\u001b[0m: name 'a' is not defined"
     ]
    }
   ],
   "source": [
    "# Note that the variable \"a\" is not defined outside of the function\n",
    "\n",
    "print(a)"
   ]
  },
  {
   "cell_type": "markdown",
   "id": "c8209690",
   "metadata": {},
   "source": [
    "### Nested functions \n",
    "<hr style=\"border:2px solid gray\">\n",
    "\n",
    "* Nested functions in Python refer to the concept of defining one function inside another.\n",
    "\n",
    "    * The inner function has access to the variables and scope of the outer function. This can be particularly useful for encapsulating functionality and maintaining a modular structure. "
   ]
  },
  {
   "cell_type": "code",
   "execution_count": 11,
   "id": "a8cb667d",
   "metadata": {},
   "outputs": [
    {
     "name": "stdout",
     "output_type": "stream",
     "text": [
      "The square of 4 is: 16\n",
      "The cube of 4 is: 64\n"
     ]
    }
   ],
   "source": [
    "def outer_function(x):\n",
    "    \"\"\"Nested function example.\"\"\"\n",
    "    \n",
    "    def square():\n",
    "        return x ** 2\n",
    "    \n",
    "    def cube():\n",
    "        return x ** 3\n",
    "    \n",
    "    result_square = square()\n",
    "    \n",
    "    result_cube = cube()\n",
    "    \n",
    "    return result_square, result_cube\n",
    "\n",
    "# Example usage:\n",
    "number = 4\n",
    "\n",
    "square_result, cube_result = outer_function(number)\n",
    "\n",
    "print(f\"The square of {number} is: {square_result}\")\n",
    "\n",
    "print(f\"The cube of {number} is: {cube_result}\")\n"
   ]
  },
  {
   "cell_type": "markdown",
   "id": "1df12cdc",
   "metadata": {},
   "source": [
    "* What do we mean by maintaining a modular structure? "
   ]
  },
  {
   "cell_type": "code",
   "execution_count": 12,
   "id": "5928b123",
   "metadata": {},
   "outputs": [
    {
     "name": "stdout",
     "output_type": "stream",
     "text": [
      "Squared Differences: (4, 25, 9)\n"
     ]
    }
   ],
   "source": [
    "def find_squared_differences_xyz(x, y, z):\n",
    "    \"\"\"\n",
    "    Given three-dimensional data points with (x, y, z) coordinates,\n",
    "    this function calculates the squared differences between (x, y), (x, z), and (y, z) coordinates.\n",
    "    \"\"\"\n",
    "    \n",
    "    # a nested function has a separate memory block from its parent function\n",
    "    def find_squared_difference(x, y):\n",
    "        \"\"\"Return the squared difference between a and b.\"\"\"\n",
    "        return (x - y) ** 2\n",
    "    \n",
    "    squared_difference_xy = find_squared_difference(x, y)\n",
    "    squared_difference_xz = find_squared_difference(x, z)\n",
    "    squared_difference_yz = find_squared_difference(y, z)\n",
    "    \n",
    "    return squared_difference_xy, squared_difference_xz, squared_difference_yz\n",
    "\n",
    "# Example usage:\n",
    "x_coord = 2\n",
    "y_coord = 4\n",
    "z_coord = 7\n",
    "\n",
    "result = find_squared_differences_xyz(x_coord, y_coord, z_coord)\n",
    "\n",
    "print(\"Squared Differences:\", result)"
   ]
  },
  {
   "cell_type": "markdown",
   "id": "c029d3c4",
   "metadata": {},
   "source": [
    "### Lambda functions \n",
    "<hr style=\"border:2px solid gray\">\n",
    "\n",
    "* Sometimes, defining a function in the conventional way is not optimal, especially for one-liners. In such cases, Python provides a concise way to create anonymous functions using the `lambda` keyword. These functions are known as lambda functions.\n",
    "\n",
    "    * Syntax of a lambda function: `lambda arguments: expression`"
   ]
  },
  {
   "cell_type": "code",
   "execution_count": 13,
   "id": "b9bf612b",
   "metadata": {},
   "outputs": [
    {
     "name": "stdout",
     "output_type": "stream",
     "text": [
      "Result from regular function: 7\n",
      "Result from lambda function: 7\n"
     ]
    }
   ],
   "source": [
    "# Regular function\n",
    "def add(x, y):\n",
    "    return x + y\n",
    "\n",
    "# Equivalent lambda function\n",
    "lambda_add = lambda x, y: x + y\n",
    "\n",
    "# Usage\n",
    "result_regular_function = add(3, 4)\n",
    "result_lambda_function = lambda_add(3, 4)\n",
    "\n",
    "print(\"Result from regular function:\", result_regular_function)\n",
    "\n",
    "print(\"Result from lambda function:\", result_lambda_function)\n"
   ]
  },
  {
   "cell_type": "markdown",
   "id": "4415094c",
   "metadata": {},
   "source": [
    "* We illustrate how a lambda function might be used in conjunction with numerical methods for root finding. Let's use the `scipy` library with its `fsolve` function to find a root.\n",
    "\n",
    "$$f(x) = ax^2 + bx + c$$\n",
    "\n",
    "* https://docs.scipy.org/doc/scipy/reference/generated/scipy.optimize.fsolve.html\n",
    "\n",
    "* Return the roots of the (non-linear) equations defined by func(x) = 0 given a starting estimate.\n",
    "\n"
   ]
  },
  {
   "cell_type": "code",
   "execution_count": 14,
   "id": "44815cba",
   "metadata": {},
   "outputs": [
    {
     "name": "stdout",
     "output_type": "stream",
     "text": [
      "The root of the polynomial is: 2.0\n"
     ]
    }
   ],
   "source": [
    "import numpy as np\n",
    "\n",
    "from scipy.optimize import fsolve\n",
    "\n",
    "\n",
    "# Define a polynomial coefficients (for example, x^2 - 4)\n",
    "coefficients = [1, 0, -4]\n",
    "\n",
    "# Define the polynomial using a lambda function\n",
    "polynomial = lambda x: coefficients[0] * (x**2) + coefficients[1] * x + coefficients[2]\n",
    "\n",
    "# Find the root of the polynomial using fsolve\n",
    "initial_guess = 5.0  # Initial guess for the root\n",
    "\n",
    "root = fsolve(polynomial, initial_guess)[0]\n",
    "\n",
    "# Print the result\n",
    "print(f\"The root of the polynomial is: {root}\")"
   ]
  },
  {
   "cell_type": "markdown",
   "id": "6a7089e4",
   "metadata": {},
   "source": [
    "### HW 4\n",
    "\n",
    "* In the following, ensure the inclusion of an appropriate docstring for each problem and demonstrate the absence of logical errors by providing a test example."
   ]
  },
  {
   "cell_type": "markdown",
   "id": "92086008",
   "metadata": {},
   "source": [
    "1. Recall that the hyperbolic sine is $\\text{sinh(x)}=\\frac{\\exp(x)-\\exp(-x)}{2}$. \n",
    "Write a Python function `custom_sinh(x)`, where the output $z$ is the hyperbolic sine computed on $x$."
   ]
  },
  {
   "cell_type": "markdown",
   "id": "e6929bdb",
   "metadata": {},
   "source": [
    "2. Create a function named `my_cylinder(r, h)` with parameters r and h representing the radius and height of a cylinder, respectively. The function should return a list `[s, v]`, where s and v denote the surface area and volume of the given cylinder. Remember that the surface area of a cylinder is calculated as $2\\pi r^2 + 2\\pi r h$\n",
    ", and the volume is given by $\\pi r^2 h$.  \n"
   ]
  },
  {
   "cell_type": "markdown",
   "id": "d8ccd562",
   "metadata": {},
   "source": [
    "3. Create a function called `within_tolerance(arr, point, tol)`. The function should output an array containing the indices in the given 1D Numpy array `arr` for which the absolute difference between each element and `point` is less than `tol`. "
   ]
  },
  {
   "cell_type": "markdown",
   "id": "7da122ae",
   "metadata": {},
   "source": [
    "4. Create a Python function `matrix_by_row_sum` to sort a given matrix in the form of a 2D Numpy array in ascending order according to the sum of its rows using lambda. To this end, you can use the built-in function `sorted()` as follows: `sorted(matrix, key=key)`. When you pass a 2D NumPy array, the `key` function is applied to each row of the matrix. The result of the key function for each row is then used as the sorting key for that row."
   ]
  },
  {
   "cell_type": "markdown",
   "id": "f19d8b51",
   "metadata": {},
   "source": [
    "5. Write a Python program that utilizes the `filter()` built-in function and a lambda function to remove `None` values from a given list. Design a function named `remove_none_values` that takes a list as input and returns a new list with all occurrences of `None` removed. The syntax for `filter` is as follows:\n",
    "\n",
    "```\n",
    "filter(function, iterable)\n",
    "```\n",
    "* function: A function that tests whether each element of an iterable satisfies a certain condition. It returns either True or False.\n",
    "* iterable: An iterable (e.g., a list, tuple, etc.) whose elements are tested by the function.\n",
    "* The filter function returns an iterator containing only the elements from the iterable for which the function returns True.\n",
    "\n",
    "What is the difference between iterable and iterator? In simpler terms, an iterable is something you can iterate over, and an iterator is the object that allows you to iterate, keeping track of the current state and providing the next value in the sequence.\n"
   ]
  },
  {
   "cell_type": "markdown",
   "id": "47b75d33",
   "metadata": {},
   "source": []
  }
 ],
 "metadata": {
  "kernelspec": {
   "display_name": "Python 3 (ipykernel)",
   "language": "python",
   "name": "python3"
  },
  "language_info": {
   "codemirror_mode": {
    "name": "ipython",
    "version": 3
   },
   "file_extension": ".py",
   "mimetype": "text/x-python",
   "name": "python",
   "nbconvert_exporter": "python",
   "pygments_lexer": "ipython3",
   "version": "3.10.9"
  }
 },
 "nbformat": 4,
 "nbformat_minor": 5
}
