{
 "cells": [
  {
   "cell_type": "markdown",
   "id": "4367dde8",
   "metadata": {},
   "source": [
    "\n",
    "## Programming for Data Science\n",
    "\n",
    "### Lecture 6: Iteration\n",
    "\n",
    "### Instructor: Farhad Pourkamali \n",
    "\n",
    "\n",
    "[![Open In Colab](https://colab.research.google.com/assets/colab-badge.svg)](https://colab.research.google.com/github/farhad-pourkamali/CUSucceedProgrammingForDataScience/blob/main/Lecture6_Iteration.ipynb)\n"
   ]
  },
  {
   "cell_type": "markdown",
   "id": "f4a913ca",
   "metadata": {},
   "source": [
    "### Introduction\n",
    "<hr style=\"border:2px solid gray\">\n",
    "\n",
    "* Iteration is a fundamental concept in programming that allows you to repeatedly execute a block of code. \n",
    "\n",
    "* In Python, there are several ways to implement iteration, including for loops, while loops, and comprehensions. \n",
    "\n",
    "* For Loops: \n",
    "    * Syntax: \n",
    "    ```\n",
    "    for variable in iterable:\n",
    "        # Code to be executed in each iteration\n",
    "    ```\n",
    "    * An `iterable` is any Python object capable of returning its members one at a time, permitting it to be iterated over in a for loop.\n",
    "    * Familiar examples of iterables include lists, tuples, and strings.\n",
    "    \n",
    "    * How does this work? Using `iterator` which keeps track of the current state of iteration, allowing you to retrieve the next element using the `next()` function."
   ]
  },
  {
   "cell_type": "code",
   "execution_count": 1,
   "id": "b54ca66e",
   "metadata": {},
   "outputs": [
    {
     "name": "stdout",
     "output_type": "stream",
     "text": [
      "1\n"
     ]
    }
   ],
   "source": [
    "# list \n",
    "iterable_object = [1, 2, 3, 4, 5] \n",
    "\n",
    "# iter() method is used to get an iterator\n",
    "iterator_object = iter(iterable_object) \n",
    "\n",
    "print(next(iterator_object))"
   ]
  },
  {
   "cell_type": "code",
   "execution_count": 2,
   "id": "d2636f99",
   "metadata": {},
   "outputs": [
    {
     "name": "stdout",
     "output_type": "stream",
     "text": [
      "2\n"
     ]
    }
   ],
   "source": [
    "print(next(iterator_object))"
   ]
  },
  {
   "cell_type": "code",
   "execution_count": 3,
   "id": "8cd41830",
   "metadata": {},
   "outputs": [
    {
     "name": "stdout",
     "output_type": "stream",
     "text": [
      "3\n"
     ]
    }
   ],
   "source": [
    "print(next(iterator_object))"
   ]
  },
  {
   "cell_type": "code",
   "execution_count": 4,
   "id": "179f1d07",
   "metadata": {},
   "outputs": [
    {
     "name": "stdout",
     "output_type": "stream",
     "text": [
      "4\n"
     ]
    }
   ],
   "source": [
    "print(next(iterator_object))"
   ]
  },
  {
   "cell_type": "code",
   "execution_count": 5,
   "id": "34f8bbce",
   "metadata": {},
   "outputs": [
    {
     "name": "stdout",
     "output_type": "stream",
     "text": [
      "5\n"
     ]
    }
   ],
   "source": [
    "print(next(iterator_object))"
   ]
  },
  {
   "cell_type": "code",
   "execution_count": 6,
   "id": "c832c718",
   "metadata": {},
   "outputs": [
    {
     "ename": "StopIteration",
     "evalue": "",
     "output_type": "error",
     "traceback": [
      "\u001b[0;31m---------------------------------------------------------------------------\u001b[0m",
      "\u001b[0;31mStopIteration\u001b[0m                             Traceback (most recent call last)",
      "Cell \u001b[0;32mIn[6], line 1\u001b[0m\n\u001b[0;32m----> 1\u001b[0m \u001b[38;5;28mprint\u001b[39m(\u001b[38;5;28;43mnext\u001b[39;49m\u001b[43m(\u001b[49m\u001b[43miterator_object\u001b[49m\u001b[43m)\u001b[49m)\n",
      "\u001b[0;31mStopIteration\u001b[0m: "
     ]
    }
   ],
   "source": [
    "print(next(iterator_object))"
   ]
  },
  {
   "cell_type": "code",
   "execution_count": 7,
   "id": "15ea73f4",
   "metadata": {},
   "outputs": [
    {
     "name": "stdout",
     "output_type": "stream",
     "text": [
      "1\n",
      "2\n",
      "3\n",
      "4\n",
      "5\n"
     ]
    }
   ],
   "source": [
    "# Example of \"for loop\" \n",
    "\n",
    "for variable in iterable_object:\n",
    "    print(variable)"
   ]
  },
  {
   "cell_type": "code",
   "execution_count": 8,
   "id": "ef871896",
   "metadata": {},
   "outputs": [
    {
     "name": "stdout",
     "output_type": "stream",
     "text": [
      "1\n",
      "2\n",
      "3\n",
      "4\n",
      "5\n"
     ]
    }
   ],
   "source": [
    "# other iterables\n",
    "import numpy as np\n",
    "\n",
    "for variable in np.arange(1, 6):\n",
    "    print(variable)"
   ]
  },
  {
   "cell_type": "markdown",
   "id": "7f23145d",
   "metadata": {},
   "source": [
    "* The factorial of a non-negative integer `n` is the product of all positive integers up to n. Here's an example of implementing factorial using a for loop in Python."
   ]
  },
  {
   "cell_type": "code",
   "execution_count": 9,
   "id": "f3fe05c3",
   "metadata": {},
   "outputs": [
    {
     "name": "stdout",
     "output_type": "stream",
     "text": [
      "The factorial of 4 is: 24\n"
     ]
    }
   ],
   "source": [
    "def factorial_with_for_loop(n):\n",
    "    \"\"\"\n",
    "    Calculate the factorial of a non-negative integer using a for loop.\n",
    "\n",
    "    Args:\n",
    "        n (int): Non-negative integer.\n",
    "\n",
    "    Returns:\n",
    "        int: Factorial of n.\n",
    "    \"\"\"\n",
    "    if n < 0:\n",
    "        return None \n",
    "    \n",
    "    result = 1\n",
    "    \n",
    "    # generate a sequence of numbers starting from 1 up to (but not including) n + 1\n",
    "    for i in range(1, n + 1):\n",
    "        result *= i\n",
    "\n",
    "    return result\n",
    "\n",
    "# Example usage:\n",
    "n = 4\n",
    "\n",
    "factorial_result = factorial_with_for_loop(n)\n",
    "\n",
    "print(f\"The factorial of {n} is: {factorial_result}\")"
   ]
  },
  {
   "cell_type": "markdown",
   "id": "98bf6cab",
   "metadata": {},
   "source": [
    "* You can iterate over all key-value pairs in a dictionary using a for loop in Python. Here's an example."
   ]
  },
  {
   "cell_type": "code",
   "execution_count": 10,
   "id": "beae268a",
   "metadata": {},
   "outputs": [
    {
     "name": "stdout",
     "output_type": "stream",
     "text": [
      "Key: a, Value: 1\n",
      "Key: b, Value: 2\n",
      "Key: c, Value: 3\n"
     ]
    }
   ],
   "source": [
    "my_dict = {'a': 1, 'b': 2, 'c': 3}\n",
    "\n",
    "# Iterate over key-value pairs using a for loop\n",
    "for key, value in my_dict.items():\n",
    "    print(f\"Key: {key}, Value: {value}\")"
   ]
  },
  {
   "cell_type": "code",
   "execution_count": 11,
   "id": "de24e078",
   "metadata": {},
   "outputs": [
    {
     "data": {
      "text/plain": [
       "dict_items([('a', 1), ('b', 2), ('c', 3)])"
      ]
     },
     "execution_count": 11,
     "metadata": {},
     "output_type": "execute_result"
    }
   ],
   "source": [
    "my_dict.items()"
   ]
  },
  {
   "cell_type": "markdown",
   "id": "8619b914",
   "metadata": {},
   "source": [
    "* The `break` keyword in Python is used to immediately exit (or break out of) the most immediate for loop that contains it.\n",
    "\n",
    "* It is often used when a certain condition is met, and you want to exit the loop early.\n",
    "\n",
    "* When break is encountered, the loop immediately exits, and the program continues with the next statement after the loop."
   ]
  },
  {
   "cell_type": "code",
   "execution_count": 12,
   "id": "c24d031c",
   "metadata": {},
   "outputs": [
    {
     "name": "stdout",
     "output_type": "stream",
     "text": [
      "1\n",
      "2\n",
      "3\n",
      "4\n",
      "Found 5! Breaking out of the loop.\n",
      "Loop completed.\n"
     ]
    }
   ],
   "source": [
    "# Example: Using break to exit a for loop early\n",
    "numbers = [1, 2, 3, 4, 5, 6, 7, 8, 9, 10]\n",
    "\n",
    "for num in numbers:\n",
    "    \n",
    "    if num == 5:\n",
    "        print(\"Found 5! Breaking out of the loop.\")\n",
    "        \n",
    "        break\n",
    "        \n",
    "    print(num)\n",
    "\n",
    "print(\"Loop completed.\")\n"
   ]
  },
  {
   "cell_type": "markdown",
   "id": "0e5b36c8",
   "metadata": {},
   "source": [
    "* If break is used in a nested loop (inside another loop), it will only exit the innermost loop that encloses it."
   ]
  },
  {
   "cell_type": "code",
   "execution_count": 13,
   "id": "dcd3e60b",
   "metadata": {},
   "outputs": [
    {
     "name": "stdout",
     "output_type": "stream",
     "text": [
      "Found a pair (3, 5) with sum 8. Breaking out of the innermost loop.\n",
      "Found a pair (4, 4) with sum 8. Breaking out of the innermost loop.\n",
      "Found a pair (5, 3) with sum 8. Breaking out of the innermost loop.\n",
      "Search completed.\n"
     ]
    }
   ],
   "source": [
    "target_sum = 8\n",
    "\n",
    "for i in range(1, 6):\n",
    "    for j in range(1, 6):\n",
    "        if i + j == target_sum:\n",
    "            print(f\"Found a pair ({i}, {j}) with sum {target_sum}. Breaking out of the innermost loop.\")\n",
    "            break\n",
    "\n",
    "print(\"Search completed.\")"
   ]
  },
  {
   "cell_type": "markdown",
   "id": "1fbf1f49",
   "metadata": {},
   "source": [
    "* While Loops:\n",
    "\n",
    "    * Syntax:\n",
    "    ```\n",
    "    while condition:\n",
    "        # Code to be executed as long as the condition is True\n",
    "    ```\n",
    "    * `Condition`: A boolean expression that determines whether the loop should continue or terminate. \n",
    "    * Suitable for situations where the number of iterations is not known beforehand.\n",
    "    \n",
    "    * Useful for implementing loops that depend on external factors or user input."
   ]
  },
  {
   "cell_type": "markdown",
   "id": "5d492028",
   "metadata": {},
   "source": [
    "* Let's consider an example of using a while loop in mathematics to find the smallest power of 2 that is greater than a given threshold."
   ]
  },
  {
   "cell_type": "code",
   "execution_count": 14,
   "id": "0adc0f00",
   "metadata": {},
   "outputs": [
    {
     "name": "stdout",
     "output_type": "stream",
     "text": [
      "The smallest power of 2 greater than 100 is 2^7 = 128\n"
     ]
    }
   ],
   "source": [
    "threshold = 100\n",
    "\n",
    "power_of_2 = 1\n",
    "\n",
    "current_value = 2\n",
    "\n",
    "while current_value <= threshold:\n",
    "    power_of_2 += 1\n",
    "    \n",
    "    current_value = 2 ** power_of_2\n",
    "\n",
    "print(f\"The smallest power of 2 greater than \\\n",
    "{threshold} is 2^{power_of_2} = {current_value}\")\n",
    "\n"
   ]
  },
  {
   "cell_type": "markdown",
   "id": "a7935cd4",
   "metadata": {},
   "source": [
    "* The `continue` keyword is used in a while loop to skip the rest of the code inside the loop for the current iteration and jump to the next iteration. Here's an example where we use continue to skip printing even numbers."
   ]
  },
  {
   "cell_type": "code",
   "execution_count": 15,
   "id": "18ea9f01",
   "metadata": {},
   "outputs": [
    {
     "name": "stdout",
     "output_type": "stream",
     "text": [
      "Current number: 1\n",
      "Current number: 3\n",
      "Current number: 5\n",
      "Current number: 7\n",
      "Current number: 9\n"
     ]
    }
   ],
   "source": [
    "i = 0\n",
    "\n",
    "while i < 10:\n",
    "    i += 1\n",
    "\n",
    "    # Skip even numbers\n",
    "    if i % 2 == 0:\n",
    "        continue\n",
    "\n",
    "    print(f\"Current number: {i}\")\n",
    "\n"
   ]
  },
  {
   "cell_type": "markdown",
   "id": "679af780",
   "metadata": {},
   "source": [
    "* Let's see the difference if we use the `break` keyword. "
   ]
  },
  {
   "cell_type": "code",
   "execution_count": 16,
   "id": "fd1e444a",
   "metadata": {},
   "outputs": [
    {
     "name": "stdout",
     "output_type": "stream",
     "text": [
      "Current number: 1\n"
     ]
    }
   ],
   "source": [
    "i = 0\n",
    "\n",
    "while i < 10:\n",
    "    i += 1\n",
    "\n",
    "    # Skip even numbers\n",
    "    if i % 2 == 0:\n",
    "        break\n",
    "\n",
    "    print(f\"Current number: {i}\")\n"
   ]
  },
  {
   "cell_type": "markdown",
   "id": "7bd7d72b",
   "metadata": {},
   "source": [
    "* List Comprehensions:\n",
    "\n",
    "    * Syntax:\n",
    "    ```\n",
    "    new_list = [expression for item in iterable if condition]\n",
    "    ```\n",
    "    * `condition`: An optional filter to include only certain elements based on a condition.\n",
    "    * Concise way to create lists based on existing iterables."
   ]
  },
  {
   "cell_type": "code",
   "execution_count": 17,
   "id": "8192c51f",
   "metadata": {},
   "outputs": [
    {
     "data": {
      "text/plain": [
       "[1, 4, 9, 16, 25]"
      ]
     },
     "execution_count": 17,
     "metadata": {},
     "output_type": "execute_result"
    }
   ],
   "source": [
    "# Without \"condition\"\n",
    "numbers = [1, 2, 3, 4, 5]\n",
    "\n",
    "squares = [x**2 for x in numbers]\n",
    "\n",
    "squares"
   ]
  },
  {
   "cell_type": "code",
   "execution_count": 18,
   "id": "9a8fb51b",
   "metadata": {},
   "outputs": [
    {
     "data": {
      "text/plain": [
       "[4, 16]"
      ]
     },
     "execution_count": 18,
     "metadata": {},
     "output_type": "execute_result"
    }
   ],
   "source": [
    "# With \"condition\"\n",
    "numbers = [1, 2, 3, 4, 5]\n",
    "\n",
    "squares = [x**2 for x in numbers if x % 2 == 0]\n",
    "\n",
    "squares"
   ]
  },
  {
   "cell_type": "markdown",
   "id": "9a12b210",
   "metadata": {},
   "source": [
    "* Recall that a prime number is a positive integer greater than 1 that has no positive divisors other than 1 and itself. Let's consider an example where we use list comprehension to generate a list of prime numbers up to a specified limit. We'll use a basic prime-checking function and a list comprehension to achieve this goal. "
   ]
  },
  {
   "cell_type": "code",
   "execution_count": 19,
   "id": "884a7f2e",
   "metadata": {},
   "outputs": [
    {
     "name": "stdout",
     "output_type": "stream",
     "text": [
      "Prime numbers up to 20: [2, 3, 5, 7, 11, 13, 17, 19]\n"
     ]
    }
   ],
   "source": [
    "def is_prime(num):\n",
    "    \"\"\"Check if a number is prime.\"\"\"\n",
    "    if num < 2:\n",
    "        return False\n",
    "    \n",
    "    for i in range(2, int(num**0.5) + 1):\n",
    "        # The modulo operation % returns the remainder when one number is divided by another\n",
    "        if num % i == 0:\n",
    "            return False\n",
    "        \n",
    "    return True\n",
    "\n",
    "# Using list comprehension to generate a list of prime numbers up to 20\n",
    "limit = 20\n",
    "\n",
    "prime_numbers = [num for num in range(2, limit + 1) if is_prime(num)]\n",
    "\n",
    "print(f\"Prime numbers up to {limit}: {prime_numbers}\")\n"
   ]
  },
  {
   "cell_type": "markdown",
   "id": "efca3274",
   "metadata": {},
   "source": [
    "* Just like list comprehension, we can create dictionary comprehensions by iterating over key-value pairs."
   ]
  },
  {
   "cell_type": "code",
   "execution_count": 20,
   "id": "adb9bf7b",
   "metadata": {},
   "outputs": [
    {
     "name": "stdout",
     "output_type": "stream",
     "text": [
      "{'a': 5, 'b': 7, 'c': 9}\n"
     ]
    }
   ],
   "source": [
    "original_dict = {'a': 1, 'b': 2, 'c': 3}\n",
    "\n",
    "# Using dictionary comprehension with a lambda function to create a new dictionary\n",
    "squared_dict = {key: (lambda x: 2*x + 3)(value) for key, value in original_dict.items()}\n",
    "\n",
    "print(squared_dict)"
   ]
  },
  {
   "cell_type": "markdown",
   "id": "84761671",
   "metadata": {},
   "source": [
    "### HW 6"
   ]
  },
  {
   "cell_type": "markdown",
   "id": "31f30c43",
   "metadata": {},
   "source": [
    "1. Create a Python function that adds elements of a given 1D NumPy array with even indices only using a for loop. Use this test case: [1, 3, 5, 7, 9, 11] "
   ]
  },
  {
   "cell_type": "code",
   "execution_count": null,
   "id": "c1099969",
   "metadata": {},
   "outputs": [],
   "source": []
  },
  {
   "cell_type": "markdown",
   "id": "1bee639b",
   "metadata": {},
   "source": [
    "2. Create a function `custom_numpy_max(x)` to return the maximum (largest) value in a 1D NumPy array x. Do not use the built-in NumPy function. Use this test case: [-2, 17, 4, 5, 3, 9, 21, -5]\n",
    "\n",
    "Hint: You can iterate through the array elements and keep track of the largest value seen so far."
   ]
  },
  {
   "cell_type": "code",
   "execution_count": null,
   "id": "4150dfdb",
   "metadata": {},
   "outputs": [],
   "source": []
  },
  {
   "cell_type": "markdown",
   "id": "716676ca",
   "metadata": {},
   "source": [
    "3. Write a Python function `sum_even_squares(n)` that takes a positive integer n as input and returns the sum of the squares of even numbers from 1 to n. The function should use a for loop to iterate through the numbers. What is the result when $n=19$?"
   ]
  },
  {
   "cell_type": "code",
   "execution_count": null,
   "id": "2f7ebb27",
   "metadata": {},
   "outputs": [],
   "source": []
  },
  {
   "cell_type": "markdown",
   "id": "3385b79b",
   "metadata": {},
   "source": [
    "4. Let $A$ be an $m \\times p$ NumPy array, and $B$ be a $p \\times n$ NumPy array. The matrix product $C$, denoted as $A B$, is defined as $C[i, j] = \\sum_{k=1}^{p} A[i, k] \\cdot B[k, j]$. Write a function `my_mat_mult(A, B)` that uses for-loops to compute $C$. You can use three nested for-loops to iterate through the indices of the matrices to perform the matrix multiplication. Verify the correctness of your `my_mat_mult` function by checking its output against the output of `np.matmul` for the following test case."
   ]
  },
  {
   "cell_type": "code",
   "execution_count": null,
   "id": "b4a434df",
   "metadata": {},
   "outputs": [],
   "source": [
    "# Define test matrices A and B\n",
    "A = np.array([[1., 2, 3], [4, 5, 6]])  \n",
    "B = np.array([[7, 8], [9, 10], [11, 12]]) "
   ]
  },
  {
   "cell_type": "code",
   "execution_count": null,
   "id": "7cc7e0e1",
   "metadata": {},
   "outputs": [],
   "source": []
  },
  {
   "cell_type": "markdown",
   "id": "932e7da9",
   "metadata": {},
   "source": [
    "5. In data science, cleaning and preprocessing data is a critical first step. Imagine you are working with a data set containing temperature readings from various sensors. However, some sensors are faulty and report extreme or invalid values. Write a Python function `clean_temperature_data(data, min_valid, max_valid)` that takes a list of temperature readings (`data`) and two thresholds (`min_valid` and `max_valid`) defining the range of valid temperatures. The function should return a new list containing only the valid temperatures, discarding any readings outside the specified range. Use a list comprehension with a condition to implement this filtering."
   ]
  },
  {
   "cell_type": "code",
   "execution_count": null,
   "id": "9a36d60a",
   "metadata": {},
   "outputs": [],
   "source": [
    "# Test case \n",
    "data = [22.5, 25.3, -10.0, 30.5, 29.0, 35.5, -23.1]\n",
    "min_valid = 0\n",
    "max_valid = 35.0"
   ]
  },
  {
   "cell_type": "code",
   "execution_count": null,
   "id": "1f355dd4",
   "metadata": {},
   "outputs": [],
   "source": []
  },
  {
   "cell_type": "markdown",
   "id": "7b1e448c",
   "metadata": {},
   "source": [
    "6. Write a Python function `count_consecutive_above_threshold(numbers, threshold)` that takes a list of numbers and a threshold value as input. The function should use a while loop to find the maximum number of consecutive elements in the list that are above the given threshold."
   ]
  },
  {
   "cell_type": "code",
   "execution_count": null,
   "id": "62354475",
   "metadata": {},
   "outputs": [],
   "source": [
    "# Test case \n",
    "numbers = [1, 3, 5, 7, 4, 1, 6, 8, 10, 2]\n",
    "\n",
    "threshold = 5"
   ]
  },
  {
   "cell_type": "code",
   "execution_count": null,
   "id": "5bbefc7a",
   "metadata": {},
   "outputs": [],
   "source": []
  }
 ],
 "metadata": {
  "kernelspec": {
   "display_name": "Python 3 (ipykernel)",
   "language": "python",
   "name": "python3"
  },
  "language_info": {
   "codemirror_mode": {
    "name": "ipython",
    "version": 3
   },
   "file_extension": ".py",
   "mimetype": "text/x-python",
   "name": "python",
   "nbconvert_exporter": "python",
   "pygments_lexer": "ipython3",
   "version": "3.10.9"
  }
 },
 "nbformat": 4,
 "nbformat_minor": 5
}
