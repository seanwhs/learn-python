{
 "cells": [
  {
   "cell_type": "markdown",
   "id": "fd18bbe9",
   "metadata": {},
   "source": [
    "\n",
    "## Programming for Data Science\n",
    "\n",
    "### Lecture 2: Data Structures, Part 1\n",
    "\n",
    "### Instructor: Farhad Pourkamali \n",
    "\n",
    "\n",
    "[![Open In Colab](https://colab.research.google.com/assets/colab-badge.svg)](https://colab.research.google.com/github/farhad-pourkamali/CUSucceedProgrammingForDataScience/blob/main/Lecture2_DataStructures_Part1.ipynb)\n"
   ]
  },
  {
   "cell_type": "markdown",
   "id": "63f85fce",
   "metadata": {},
   "source": [
    "### Introduction\n",
    "<hr style=\"border:2px solid gray\">\n",
    "\n",
    "* In Python, a `variable` is a symbolic name that represents or refers to a value. It is like a container that holds information.\n",
    "    * You can think of it as a label for a piece of data stored in the computer's memory.\n",
    "\n",
    "* A `data structure`, on the other hand, is a way of organizing and storing data so that it can be used efficiently. \n",
    "    * Python provides several built-in data structures, such as\n",
    "        * lists\n",
    "        * tuples\n",
    "        * sets\n",
    "        * dictionaries\n",
    "        \n",
    "* These structures allow you to organize and manipulate data in different ways based on your needs.\n",
    "    * For example, a list is an ordered collection of items that can be of different types, and a dictionary is an unordered collection of key-value pairs. "
   ]
  },
  {
   "cell_type": "code",
   "execution_count": 1,
   "id": "8f44c23a",
   "metadata": {},
   "outputs": [
    {
     "data": {
      "text/plain": [
       "2"
      ]
     },
     "execution_count": 1,
     "metadata": {},
     "output_type": "execute_result"
    }
   ],
   "source": [
    "# Use the assignment operator\n",
    "# The value to the right of the \"equal sign\" \n",
    "# is assigned to the variable on the left of the equal sign\n",
    "# Like x <- 2\n",
    "\n",
    "x = 2\n",
    "\n",
    "x"
   ]
  },
  {
   "cell_type": "code",
   "execution_count": 2,
   "id": "97a2c6ce",
   "metadata": {},
   "outputs": [
    {
     "data": {
      "text/plain": [
       "5"
      ]
     },
     "execution_count": 2,
     "metadata": {},
     "output_type": "execute_result"
    }
   ],
   "source": [
    "y = 3 + 2\n",
    "\n",
    "y"
   ]
  },
  {
   "cell_type": "code",
   "execution_count": 3,
   "id": "46c336ca",
   "metadata": {},
   "outputs": [
    {
     "name": "stdout",
     "output_type": "stream",
     "text": [
      "Variable   Type    Data/Info\n",
      "----------------------------\n",
      "x          int     2\n",
      "y          int     5\n"
     ]
    }
   ],
   "source": [
    "# List all the variables in the notebook\n",
    "\n",
    "%whos"
   ]
  },
  {
   "cell_type": "markdown",
   "id": "e026d9d3",
   "metadata": {},
   "source": [
    "* When naming variables in Python, it's important to follow some general rules to write clean and readable code.\n",
    "    * Variable names must begin with a letter (a-z, A-Z) or an underscore (_). It's a convention to use underscores for multi-word variable names (snake_case).\n",
    "    * Don't use Python keywords or built-in function names as variable names. For example, avoid names like type, if, else, for, and so on.\n",
    "    * Conventionally, variable names are written in lowercase letters. This is known as snake_case and is widely adopted in the Python community.\n",
    "    * A variable name in Python cannot start with a number. "
   ]
  },
  {
   "cell_type": "code",
   "execution_count": 4,
   "id": "193cc514",
   "metadata": {},
   "outputs": [],
   "source": [
    "age = 25\n",
    "user_name = \"Christina\"\n",
    "total_score = 100\n",
    "is_valid_input = True"
   ]
  },
  {
   "cell_type": "code",
   "execution_count": 5,
   "id": "87eeed58",
   "metadata": {},
   "outputs": [
    {
     "data": {
      "text/plain": [
       "2"
      ]
     },
     "execution_count": 5,
     "metadata": {},
     "output_type": "execute_result"
    }
   ],
   "source": [
    "my_variable1 = 2\n",
    "\n",
    "my_variable1 "
   ]
  },
  {
   "cell_type": "code",
   "execution_count": 6,
   "id": "17211626",
   "metadata": {},
   "outputs": [
    {
     "ename": "SyntaxError",
     "evalue": "invalid decimal literal (752939674.py, line 1)",
     "output_type": "error",
     "traceback": [
      "\u001b[0;36m  Cell \u001b[0;32mIn[6], line 1\u001b[0;36m\u001b[0m\n\u001b[0;31m    1variable = 3\u001b[0m\n\u001b[0m    ^\u001b[0m\n\u001b[0;31mSyntaxError\u001b[0m\u001b[0;31m:\u001b[0m invalid decimal literal\n"
     ]
    }
   ],
   "source": [
    "1variable = 3"
   ]
  },
  {
   "cell_type": "code",
   "execution_count": 7,
   "id": "f7e06c48",
   "metadata": {},
   "outputs": [
    {
     "data": {
      "text/plain": [
       "2"
      ]
     },
     "execution_count": 7,
     "metadata": {},
     "output_type": "execute_result"
    }
   ],
   "source": [
    "_variable = 2\n",
    "\n",
    "_variable"
   ]
  },
  {
   "cell_type": "markdown",
   "id": "23f85b51",
   "metadata": {},
   "source": [
    "* In Python, the fundamental data types include:\n",
    "\n",
    "    * Integers (`int`): Represents whole numbers without any decimal points.\n",
    "\n",
    "    * Floating-point numbers (`float`): Represents numbers with decimal points.\n",
    "\n",
    "    * Strings (`str`): Represents sequences of characters, such as text.\n",
    "\n",
    "    * Booleans (`bool`): Represents either True or False values.\n",
    "\n",
    "    * NoneType (`None`): Represents the absence of a value or a null value."
   ]
  },
  {
   "cell_type": "code",
   "execution_count": 8,
   "id": "24382405",
   "metadata": {},
   "outputs": [
    {
     "data": {
      "text/plain": [
       "int"
      ]
     },
     "execution_count": 8,
     "metadata": {},
     "output_type": "execute_result"
    }
   ],
   "source": [
    "x = 5\n",
    "\n",
    "type(x)"
   ]
  },
  {
   "cell_type": "code",
   "execution_count": 9,
   "id": "94596a99",
   "metadata": {},
   "outputs": [
    {
     "data": {
      "text/plain": [
       "float"
      ]
     },
     "execution_count": 9,
     "metadata": {},
     "output_type": "execute_result"
    }
   ],
   "source": [
    "a = 3.14\n",
    "\n",
    "type(a)"
   ]
  },
  {
   "cell_type": "code",
   "execution_count": 10,
   "id": "49f6e415",
   "metadata": {},
   "outputs": [
    {
     "data": {
      "text/plain": [
       "str"
      ]
     },
     "execution_count": 10,
     "metadata": {},
     "output_type": "execute_result"
    }
   ],
   "source": [
    "# Strings are enclosed in either single (') or double (\") quotes. \n",
    "\n",
    "name = \"John\"\n",
    "\n",
    "type(name)"
   ]
  },
  {
   "cell_type": "markdown",
   "id": "b2a2dd4a",
   "metadata": {},
   "source": [
    "The `len` function in Python is used to get the length or the number of items in an object. When working with strings, `len` returns the number of characters in the string."
   ]
  },
  {
   "cell_type": "code",
   "execution_count": 11,
   "id": "23b4e404",
   "metadata": {},
   "outputs": [
    {
     "data": {
      "text/plain": [
       "13"
      ]
     },
     "execution_count": 11,
     "metadata": {},
     "output_type": "execute_result"
    }
   ],
   "source": [
    "my_string = \"Hello, World!\"\n",
    "\n",
    "length = len(my_string)\n",
    "\n",
    "length "
   ]
  },
  {
   "cell_type": "markdown",
   "id": "138cacba",
   "metadata": {},
   "source": [
    "* Strings also have indices that enable us to determine the location of each character."
   ]
  },
  {
   "cell_type": "code",
   "execution_count": 12,
   "id": "012044dd",
   "metadata": {},
   "outputs": [
    {
     "name": "stdout",
     "output_type": "stream",
     "text": [
      "The first character is: P\n",
      "The second character is: y\n"
     ]
    }
   ],
   "source": [
    "my_string = \"Python\"\n",
    "first_character = my_string[0]  # accessing the first character using index\n",
    "second_character = my_string[1]  # accessing the second character using index\n",
    "\n",
    "print(f\"The first character is: {first_character}\")\n",
    "print(f\"The second character is: {second_character}\")"
   ]
  },
  {
   "cell_type": "markdown",
   "id": "45cdb944",
   "metadata": {},
   "source": [
    "* The `print(f\"\")` syntax is called an f-string, which stands for \"formatted string literal.\" It's a convenient way to embed expressions or variables within a string in a concise and readable manner.\n",
    "    * Inside the string, you can use curly braces `{}` to enclose expressions or variables."
   ]
  },
  {
   "cell_type": "markdown",
   "id": "8097cd54",
   "metadata": {},
   "source": [
    "* In Python, `slicing` is a technique used to extract a portion of a sequence, such as a string, list, or tuple. The syntax for slicing is `[start:end:step]`, where:\n",
    "\n",
    "    * `start` is the index of the first element you want.\n",
    "    * `end` is the index of the element just after the last element you want.\n",
    "    * `step` is the number of indices between each slice (optional, default is 1).\n",
    "    \n",
    "* The slicing is inclusive on the left side (at the start index) and exclusive on the right side (up to, but not including, the end index)."
   ]
  },
  {
   "cell_type": "code",
   "execution_count": 13,
   "id": "9cc127da",
   "metadata": {},
   "outputs": [
    {
     "data": {
      "text/plain": [
       "'Python'"
      ]
     },
     "execution_count": 13,
     "metadata": {},
     "output_type": "execute_result"
    }
   ],
   "source": [
    "my_string"
   ]
  },
  {
   "cell_type": "code",
   "execution_count": 14,
   "id": "949cb14e",
   "metadata": {},
   "outputs": [
    {
     "data": {
      "text/plain": [
       "'yth'"
      ]
     },
     "execution_count": 14,
     "metadata": {},
     "output_type": "execute_result"
    }
   ],
   "source": [
    "my_string[1:4]"
   ]
  },
  {
   "cell_type": "code",
   "execution_count": 15,
   "id": "e1f71ea5",
   "metadata": {},
   "outputs": [
    {
     "data": {
      "text/plain": [
       "'yth'"
      ]
     },
     "execution_count": 15,
     "metadata": {},
     "output_type": "execute_result"
    }
   ],
   "source": [
    "my_string[1:4:1]"
   ]
  },
  {
   "cell_type": "code",
   "execution_count": 16,
   "id": "646e1975",
   "metadata": {},
   "outputs": [
    {
     "data": {
      "text/plain": [
       "'yh'"
      ]
     },
     "execution_count": 16,
     "metadata": {},
     "output_type": "execute_result"
    }
   ],
   "source": [
    "my_string[1:4:2]"
   ]
  },
  {
   "cell_type": "markdown",
   "id": "a7b887af",
   "metadata": {},
   "source": [
    "* If you don't specify values for `start`, `end`, and `step` in a slicing operation, Python will use default values. The default values are as follows:\n",
    "\n",
    "    * `start` defaults to the beginning of the sequence.\n",
    "    * `end` defaults to the end of the sequence.\n",
    "    * `step` defaults to 1."
   ]
  },
  {
   "cell_type": "code",
   "execution_count": 17,
   "id": "0b88cd47",
   "metadata": {},
   "outputs": [
    {
     "data": {
      "text/plain": [
       "'Pyth'"
      ]
     },
     "execution_count": 17,
     "metadata": {},
     "output_type": "execute_result"
    }
   ],
   "source": [
    "my_string[:4]"
   ]
  },
  {
   "cell_type": "code",
   "execution_count": 18,
   "id": "c5e46a7b",
   "metadata": {},
   "outputs": [
    {
     "data": {
      "text/plain": [
       "'ython'"
      ]
     },
     "execution_count": 18,
     "metadata": {},
     "output_type": "execute_result"
    }
   ],
   "source": [
    "my_string[1:]"
   ]
  },
  {
   "cell_type": "markdown",
   "id": "113999b3",
   "metadata": {},
   "source": [
    "* When slicing strings, you have the option to use negative indices, indicating counting from the end of the string. For instance, -1 represents the last character, -2 denotes the second-to-last character, and so forth."
   ]
  },
  {
   "cell_type": "code",
   "execution_count": 19,
   "id": "50e3ec2f",
   "metadata": {},
   "outputs": [
    {
     "data": {
      "text/plain": [
       "'Python'"
      ]
     },
     "execution_count": 19,
     "metadata": {},
     "output_type": "execute_result"
    }
   ],
   "source": [
    "my_string"
   ]
  },
  {
   "cell_type": "code",
   "execution_count": 20,
   "id": "5c6c1ba4",
   "metadata": {},
   "outputs": [
    {
     "data": {
      "text/plain": [
       "'th'"
      ]
     },
     "execution_count": 20,
     "metadata": {},
     "output_type": "execute_result"
    }
   ],
   "source": [
    "my_string[2:-2]"
   ]
  },
  {
   "cell_type": "code",
   "execution_count": 21,
   "id": "22c2fd1f",
   "metadata": {},
   "outputs": [
    {
     "data": {
      "text/plain": [
       "'nohtyP'"
      ]
     },
     "execution_count": 21,
     "metadata": {},
     "output_type": "execute_result"
    }
   ],
   "source": [
    "my_string = \"Python\"\n",
    "\n",
    "# Slicing with a negative step (-1) to pass through the sequence \n",
    "# in reverse\n",
    "\n",
    "my_string[::-1]"
   ]
  },
  {
   "cell_type": "markdown",
   "id": "d522c952",
   "metadata": {},
   "source": [
    "* In Python, a string is an object equipped with various methods for manipulation (a concept known as object oriented programming, which we'll explore later). To utilize these methods, follow the pattern `my_string.method_name`."
   ]
  },
  {
   "cell_type": "code",
   "execution_count": 22,
   "id": "770e764c",
   "metadata": {},
   "outputs": [
    {
     "data": {
      "text/plain": [
       "'PYTHON'"
      ]
     },
     "execution_count": 22,
     "metadata": {},
     "output_type": "execute_result"
    }
   ],
   "source": [
    "# Turn my_string to upper case\n",
    "my_string.upper()"
   ]
  },
  {
   "cell_type": "code",
   "execution_count": 23,
   "id": "f48f56ff",
   "metadata": {},
   "outputs": [
    {
     "data": {
      "text/plain": [
       "'Python'"
      ]
     },
     "execution_count": 23,
     "metadata": {},
     "output_type": "execute_result"
    }
   ],
   "source": [
    "my_string"
   ]
  },
  {
   "cell_type": "code",
   "execution_count": 24,
   "id": "571cd5d2",
   "metadata": {},
   "outputs": [
    {
     "data": {
      "text/plain": [
       "'python'"
      ]
     },
     "execution_count": 24,
     "metadata": {},
     "output_type": "execute_result"
    }
   ],
   "source": [
    "my_string.lower()"
   ]
  },
  {
   "cell_type": "code",
   "execution_count": 25,
   "id": "bb88af20",
   "metadata": {},
   "outputs": [
    {
     "data": {
      "text/plain": [
       "True"
      ]
     },
     "execution_count": 25,
     "metadata": {},
     "output_type": "execute_result"
    }
   ],
   "source": [
    "# Checks if the string starts with a specified prefix\n",
    "\n",
    "my_string.startswith(\"P\")"
   ]
  },
  {
   "cell_type": "code",
   "execution_count": 26,
   "id": "bdcff58e",
   "metadata": {},
   "outputs": [
    {
     "data": {
      "text/plain": [
       "2"
      ]
     },
     "execution_count": 26,
     "metadata": {},
     "output_type": "execute_result"
    }
   ],
   "source": [
    "# Finds the index of the first occurrence of a substring\n",
    "\n",
    "my_string.find(\"th\")"
   ]
  },
  {
   "cell_type": "code",
   "execution_count": 27,
   "id": "46e7a48c",
   "metadata": {},
   "outputs": [
    {
     "data": {
      "text/plain": [
       "'Python'"
      ]
     },
     "execution_count": 27,
     "metadata": {},
     "output_type": "execute_result"
    }
   ],
   "source": [
    "my_string"
   ]
  },
  {
   "cell_type": "markdown",
   "id": "b3667deb",
   "metadata": {},
   "source": [
    "### List\n",
    "<hr style=\"border:2px solid gray\">\n",
    "\n",
    "* Here are a few key points about lists in Python:\n",
    "\n",
    "    * Ordered Collection: Lists are ordered collections of items, and each item has an index that denotes its position in the list.\n",
    "\n",
    "    * Mutable: Lists are mutable, which means you can modify their elements by assigning new values, adding or removing items.\n",
    "\n",
    "    * Heterogeneous Elements: A list can contain elements of different data types, including numbers, strings, or even other lists.\n",
    "\n",
    "    * Defined using Square Brackets: Lists are defined using square brackets `[]`. \n",
    "\n",
    "\n",
    "    * Common Operations: Lists support common operations like concatenation (+), repetition (*), and the len() function.\n",
    "\n",
    "    * Methods: Lists come with a variety of built-in methods for operations like adding, removing, sorting, and more.\n",
    "\n",
    "    * Dynamic Size: Lists in Python can grow or shrink dynamically. You can add or remove elements as needed."
   ]
  },
  {
   "cell_type": "code",
   "execution_count": 28,
   "id": "87b3b0fd",
   "metadata": {},
   "outputs": [
    {
     "data": {
      "text/plain": [
       "[1, 2, 3]"
      ]
     },
     "execution_count": 28,
     "metadata": {},
     "output_type": "execute_result"
    }
   ],
   "source": [
    "list_1 = [1, 2, 3]\n",
    "\n",
    "list_1"
   ]
  },
  {
   "cell_type": "code",
   "execution_count": 29,
   "id": "cbcafb7b",
   "metadata": {},
   "outputs": [
    {
     "data": {
      "text/plain": [
       "list"
      ]
     },
     "execution_count": 29,
     "metadata": {},
     "output_type": "execute_result"
    }
   ],
   "source": [
    "type(list_1)"
   ]
  },
  {
   "cell_type": "code",
   "execution_count": 30,
   "id": "50166e96",
   "metadata": {},
   "outputs": [
    {
     "data": {
      "text/plain": [
       "['Apple', 'Orange']"
      ]
     },
     "execution_count": 30,
     "metadata": {},
     "output_type": "execute_result"
    }
   ],
   "source": [
    "list_2 = [\"Apple\", \"Orange\"]\n",
    "\n",
    "list_2"
   ]
  },
  {
   "cell_type": "code",
   "execution_count": 31,
   "id": "2597c3ec",
   "metadata": {},
   "outputs": [
    {
     "data": {
      "text/plain": [
       "[1, 2, 3, 'Apple', 'Orange']"
      ]
     },
     "execution_count": 31,
     "metadata": {},
     "output_type": "execute_result"
    }
   ],
   "source": [
    "# Concatenation\n",
    "list_3 = list_1 + list_2\n",
    "\n",
    "list_3"
   ]
  },
  {
   "cell_type": "code",
   "execution_count": 32,
   "id": "d7366f06",
   "metadata": {},
   "outputs": [
    {
     "data": {
      "text/plain": [
       "5"
      ]
     },
     "execution_count": 32,
     "metadata": {},
     "output_type": "execute_result"
    }
   ],
   "source": [
    "len(list_3)"
   ]
  },
  {
   "cell_type": "code",
   "execution_count": 33,
   "id": "ccabec7e",
   "metadata": {},
   "outputs": [
    {
     "data": {
      "text/plain": [
       "[[1, 2, 3], ['Apple', 'Orange']]"
      ]
     },
     "execution_count": 33,
     "metadata": {},
     "output_type": "execute_result"
    }
   ],
   "source": [
    "# How about this one?\n",
    "\n",
    "list_4 = [list_1, list_2]\n",
    "\n",
    "list_4"
   ]
  },
  {
   "cell_type": "code",
   "execution_count": 34,
   "id": "ff9c90ee",
   "metadata": {},
   "outputs": [
    {
     "data": {
      "text/plain": [
       "2"
      ]
     },
     "execution_count": 34,
     "metadata": {},
     "output_type": "execute_result"
    }
   ],
   "source": [
    "len(list_4)"
   ]
  },
  {
   "cell_type": "code",
   "execution_count": 35,
   "id": "9ce4bfcd",
   "metadata": {},
   "outputs": [
    {
     "data": {
      "text/plain": [
       "[1, 2, 3, 'Apple', 'Orange']"
      ]
     },
     "execution_count": 35,
     "metadata": {},
     "output_type": "execute_result"
    }
   ],
   "source": [
    "list_3"
   ]
  },
  {
   "cell_type": "code",
   "execution_count": 36,
   "id": "1c0b85be",
   "metadata": {},
   "outputs": [
    {
     "data": {
      "text/plain": [
       "[1, 2]"
      ]
     },
     "execution_count": 36,
     "metadata": {},
     "output_type": "execute_result"
    }
   ],
   "source": [
    "list_3[:2]"
   ]
  },
  {
   "cell_type": "code",
   "execution_count": 37,
   "id": "ecce2cd1",
   "metadata": {},
   "outputs": [
    {
     "data": {
      "text/plain": [
       "'Orange'"
      ]
     },
     "execution_count": 37,
     "metadata": {},
     "output_type": "execute_result"
    }
   ],
   "source": [
    "list_3[-1]"
   ]
  },
  {
   "cell_type": "markdown",
   "id": "976e7007",
   "metadata": {},
   "source": [
    "* New items can be added to an existing list by using the `append` method from the list."
   ]
  },
  {
   "cell_type": "code",
   "execution_count": 38,
   "id": "7fdf2c32",
   "metadata": {},
   "outputs": [
    {
     "data": {
      "text/plain": [
       "[1, 2, 3, 'Apple', 'Orange']"
      ]
     },
     "execution_count": 38,
     "metadata": {},
     "output_type": "execute_result"
    }
   ],
   "source": [
    "list_3"
   ]
  },
  {
   "cell_type": "code",
   "execution_count": 39,
   "id": "ddc29d1b",
   "metadata": {},
   "outputs": [
    {
     "data": {
      "text/plain": [
       "[1, 2, 3, 'Apple', 'Orange', '4']"
      ]
     },
     "execution_count": 39,
     "metadata": {},
     "output_type": "execute_result"
    }
   ],
   "source": [
    "list_3.append('4')\n",
    "\n",
    "list_3"
   ]
  },
  {
   "cell_type": "markdown",
   "id": "ae8677d8",
   "metadata": {},
   "source": [
    "* You have the option to create an `empty list` initially and then add new elements to it later using the `append` method."
   ]
  },
  {
   "cell_type": "code",
   "execution_count": 40,
   "id": "3b8d1e3a",
   "metadata": {},
   "outputs": [
    {
     "data": {
      "text/plain": [
       "[1, 'two']"
      ]
     },
     "execution_count": 40,
     "metadata": {},
     "output_type": "execute_result"
    }
   ],
   "source": [
    "my_list = []  # Creating an empty list\n",
    "\n",
    "my_list.append(1)  # Adding the element 1 to the list\n",
    "\n",
    "my_list.append(\"two\")  # Adding the string \"two\" to the list\n",
    "\n",
    "my_list"
   ]
  },
  {
   "cell_type": "markdown",
   "id": "5c854a3a",
   "metadata": {},
   "source": [
    "* The `insert` method is commonly used for modifying lists in Python.\n",
    "\n",
    "    * The syntax is `insert(index, element)`\n",
    "\n",
    "        * The insert method is used to insert an element at a specific index in the list.\n",
    "        * The existing elements at and after the specified index are shifted to accommodate the new element."
   ]
  },
  {
   "cell_type": "code",
   "execution_count": 41,
   "id": "42e13c6e",
   "metadata": {},
   "outputs": [
    {
     "data": {
      "text/plain": [
       "[1, 'three', 'two']"
      ]
     },
     "execution_count": 41,
     "metadata": {},
     "output_type": "execute_result"
    }
   ],
   "source": [
    "my_list.insert(1, \"three\")\n",
    "\n",
    "my_list"
   ]
  },
  {
   "cell_type": "code",
   "execution_count": 42,
   "id": "07df2d6b",
   "metadata": {},
   "outputs": [
    {
     "data": {
      "text/plain": [
       "True"
      ]
     },
     "execution_count": 42,
     "metadata": {},
     "output_type": "execute_result"
    }
   ],
   "source": [
    "# We can check if an element is in the list using the operator \"in\"\n",
    "\n",
    "\"three\" in my_list"
   ]
  },
  {
   "cell_type": "code",
   "execution_count": 43,
   "id": "74545e9d",
   "metadata": {},
   "outputs": [
    {
     "data": {
      "text/plain": [
       "False"
      ]
     },
     "execution_count": 43,
     "metadata": {},
     "output_type": "execute_result"
    }
   ],
   "source": [
    "\"four\" in my_list"
   ]
  },
  {
   "cell_type": "markdown",
   "id": "51383ebd",
   "metadata": {},
   "source": [
    "### Tuple\n",
    "<hr style=\"border:2px solid gray\">\n",
    "\n",
    "* Here are some key points about tuples in Python:\n",
    "\n",
    "    * Ordered Collection: Tuples are ordered collections of elements, similar to lists, and each element has an index.\n",
    "\n",
    "    * Immutable: Tuples are immutable, meaning once they are created, their elements cannot be modified or changed. However, you can create a new tuple with modifications.\n",
    "\n",
    "    * Heterogeneous Elements: Like lists, tuples can contain elements of different data types.\n",
    "\n",
    "    * Defined using Parentheses: Tuples are defined using parentheses `()`. \n",
    "\n",
    "    * Common Operations: Tuples support common operations like concatenation (+), repetition (*), and the len() function.\n",
    "\n",
    "    * Single Element Tuple: A tuple with a single element must have a trailing comma. For example: `single_element_tuple = (42,)`\n",
    "\n",
    "    * Packing and Unpacking: Tuples support packing multiple values into a single tuple and unpacking values into multiple variables."
   ]
  },
  {
   "cell_type": "code",
   "execution_count": 44,
   "id": "6640f006",
   "metadata": {},
   "outputs": [
    {
     "data": {
      "text/plain": [
       "int"
      ]
     },
     "execution_count": 44,
     "metadata": {},
     "output_type": "execute_result"
    }
   ],
   "source": [
    "# This is NOT a tuple\n",
    "\n",
    "single_element_tuple = (42)\n",
    "\n",
    "type(single_element_tuple)"
   ]
  },
  {
   "cell_type": "code",
   "execution_count": 45,
   "id": "b374d4ff",
   "metadata": {},
   "outputs": [
    {
     "data": {
      "text/plain": [
       "tuple"
      ]
     },
     "execution_count": 45,
     "metadata": {},
     "output_type": "execute_result"
    }
   ],
   "source": [
    "# This is a tuple\n",
    "\n",
    "single_element_tuple = (42,)\n",
    "\n",
    "type(single_element_tuple)"
   ]
  },
  {
   "cell_type": "code",
   "execution_count": 46,
   "id": "74514b47",
   "metadata": {},
   "outputs": [
    {
     "data": {
      "text/plain": [
       "(2, 4, 6)"
      ]
     },
     "execution_count": 46,
     "metadata": {},
     "output_type": "execute_result"
    }
   ],
   "source": [
    "# Another example \n",
    "\n",
    "my_tuple = (2, 4, 6)\n",
    "\n",
    "my_tuple"
   ]
  },
  {
   "cell_type": "code",
   "execution_count": 47,
   "id": "823d28e2",
   "metadata": {},
   "outputs": [
    {
     "data": {
      "text/plain": [
       "tuple"
      ]
     },
     "execution_count": 47,
     "metadata": {},
     "output_type": "execute_result"
    }
   ],
   "source": [
    "type(my_tuple)"
   ]
  },
  {
   "cell_type": "code",
   "execution_count": 48,
   "id": "e083669e",
   "metadata": {},
   "outputs": [
    {
     "ename": "TypeError",
     "evalue": "'tuple' object does not support item assignment",
     "output_type": "error",
     "traceback": [
      "\u001b[0;31m---------------------------------------------------------------------------\u001b[0m",
      "\u001b[0;31mTypeError\u001b[0m                                 Traceback (most recent call last)",
      "Cell \u001b[0;32mIn[48], line 3\u001b[0m\n\u001b[1;32m      1\u001b[0m \u001b[38;5;66;03m# Immutable\u001b[39;00m\n\u001b[0;32m----> 3\u001b[0m my_tuple[\u001b[38;5;241m2\u001b[39m] \u001b[38;5;241m=\u001b[39m \u001b[38;5;241m8\u001b[39m\n",
      "\u001b[0;31mTypeError\u001b[0m: 'tuple' object does not support item assignment"
     ]
    }
   ],
   "source": [
    "# Immutable\n",
    "\n",
    "my_tuple[2] = 8"
   ]
  },
  {
   "cell_type": "code",
   "execution_count": 49,
   "id": "1035bf66",
   "metadata": {},
   "outputs": [
    {
     "data": {
      "text/plain": [
       "3"
      ]
     },
     "execution_count": 49,
     "metadata": {},
     "output_type": "execute_result"
    }
   ],
   "source": [
    "len(my_tuple)"
   ]
  },
  {
   "cell_type": "markdown",
   "id": "d5f09084",
   "metadata": {},
   "source": [
    "* `Packing` refers to the process of combining multiple values into a single tuple.\n",
    "You create a tuple by grouping values together, and Python automatically packs them into a tuple."
   ]
  },
  {
   "cell_type": "code",
   "execution_count": 50,
   "id": "775f8aba",
   "metadata": {},
   "outputs": [
    {
     "data": {
      "text/plain": [
       "(1, 2, 'three')"
      ]
     },
     "execution_count": 50,
     "metadata": {},
     "output_type": "execute_result"
    }
   ],
   "source": [
    "packed_tuple = 1, 2, \"three\"\n",
    "\n",
    "packed_tuple"
   ]
  },
  {
   "cell_type": "code",
   "execution_count": 51,
   "id": "1bd7bb33",
   "metadata": {},
   "outputs": [
    {
     "data": {
      "text/plain": [
       "tuple"
      ]
     },
     "execution_count": 51,
     "metadata": {},
     "output_type": "execute_result"
    }
   ],
   "source": [
    "type(packed_tuple)"
   ]
  },
  {
   "cell_type": "markdown",
   "id": "6c4cdbc2",
   "metadata": {},
   "source": [
    "* `Unpacking` is the opposite of packing. It involves extracting values from a tuple and assigning them to individual variables."
   ]
  },
  {
   "cell_type": "code",
   "execution_count": 52,
   "id": "73336656",
   "metadata": {},
   "outputs": [
    {
     "name": "stdout",
     "output_type": "stream",
     "text": [
      "1 2 three\n"
     ]
    }
   ],
   "source": [
    "my_tuple = (1, 2, \"three\")\n",
    "\n",
    "a, b, c = my_tuple\n",
    "\n",
    "print(a, b, c)"
   ]
  },
  {
   "cell_type": "code",
   "execution_count": 53,
   "id": "aac1cd1d",
   "metadata": {},
   "outputs": [
    {
     "data": {
      "text/plain": [
       "int"
      ]
     },
     "execution_count": 53,
     "metadata": {},
     "output_type": "execute_result"
    }
   ],
   "source": [
    "type(a)"
   ]
  },
  {
   "cell_type": "code",
   "execution_count": 54,
   "id": "8f46d81b",
   "metadata": {},
   "outputs": [
    {
     "name": "stdout",
     "output_type": "stream",
     "text": [
      "1\n",
      "[2, 3, 4, 5]\n"
     ]
    }
   ],
   "source": [
    "my_tuple = (1, 2, 3, 4, 5)\n",
    "\n",
    "# Unpacking with the * (asterisk) operator\n",
    "first, *rest = my_tuple # capture multiple elements into a single variable\n",
    "\n",
    "print(first)  # Output: 1\n",
    "print(rest)   # Output: [2, 3, 4, 5]"
   ]
  },
  {
   "cell_type": "markdown",
   "id": "ccd4d26e",
   "metadata": {},
   "source": [
    "* The `zip` function in Python is used to combine elements from two or more iterables (such as lists) and create tuples from corresponding elements. It pairs elements at the same position in each iterable, creating tuples containing elements from the input iterables."
   ]
  },
  {
   "cell_type": "code",
   "execution_count": 55,
   "id": "f72302e6",
   "metadata": {},
   "outputs": [
    {
     "name": "stdout",
     "output_type": "stream",
     "text": [
      "[(1, 'a'), (2, 'b'), (3, 'c')]\n"
     ]
    }
   ],
   "source": [
    "list1 = [1, 2, 3]\n",
    "list2 = ['a', 'b', 'c']\n",
    "\n",
    "# Using zip to create tuples from two lists\n",
    "zipped_tuples = zip(list1, list2)\n",
    "\n",
    "# Converting the result to a list for better visibility\n",
    "result_list = list(zipped_tuples)\n",
    "\n",
    "print(result_list)"
   ]
  },
  {
   "cell_type": "markdown",
   "id": "ea5f4fe5",
   "metadata": {},
   "source": [
    "### Set\n",
    "<hr style=\"border:2px solid gray\">\n",
    "\n",
    "* Here are some key points about sets in Python:\n",
    "\n",
    "    * Unordered Collection: Sets are an unordered collection of unique elements. Each element in a set must be unique.\n",
    "\n",
    "    * Mutable: Sets are mutable, meaning you can add and remove elements after the set is created.\n",
    "\n",
    "    * No Duplicate Elements: Sets automatically enforce uniqueness, so duplicate elements are not allowed.\n",
    "\n",
    "    * Defined using Curly Braces: Sets are defined using curly braces `{}`, but without key-value pairs.\n",
    "\n",
    "\n",
    "    * No Indexing: Sets do not support indexing or slicing because they are unordered."
   ]
  },
  {
   "cell_type": "code",
   "execution_count": 56,
   "id": "b5d8d409",
   "metadata": {},
   "outputs": [
    {
     "data": {
      "text/plain": [
       "{1, 2, 3, 4, 5}"
      ]
     },
     "execution_count": 56,
     "metadata": {},
     "output_type": "execute_result"
    }
   ],
   "source": [
    "my_set = {1, 2, 3, 4}\n",
    "\n",
    "my_set.add(5)\n",
    "\n",
    "my_set"
   ]
  },
  {
   "cell_type": "code",
   "execution_count": 57,
   "id": "e8b1b56a",
   "metadata": {},
   "outputs": [
    {
     "data": {
      "text/plain": [
       "5"
      ]
     },
     "execution_count": 57,
     "metadata": {},
     "output_type": "execute_result"
    }
   ],
   "source": [
    "len(my_set)"
   ]
  },
  {
   "cell_type": "code",
   "execution_count": 58,
   "id": "04ebaa23",
   "metadata": {},
   "outputs": [
    {
     "data": {
      "text/plain": [
       "{1, 3, 4, 5}"
      ]
     },
     "execution_count": 58,
     "metadata": {},
     "output_type": "execute_result"
    }
   ],
   "source": [
    "my_set.remove(2)\n",
    "\n",
    "my_set"
   ]
  },
  {
   "cell_type": "code",
   "execution_count": 59,
   "id": "00dc459e",
   "metadata": {},
   "outputs": [
    {
     "data": {
      "text/plain": [
       "{1, 3, 4, 5}"
      ]
     },
     "execution_count": 59,
     "metadata": {},
     "output_type": "execute_result"
    }
   ],
   "source": [
    "my_set.add(1)\n",
    "\n",
    "my_set"
   ]
  },
  {
   "cell_type": "code",
   "execution_count": 60,
   "id": "8041a557",
   "metadata": {},
   "outputs": [
    {
     "ename": "TypeError",
     "evalue": "'set' object is not subscriptable",
     "output_type": "error",
     "traceback": [
      "\u001b[0;31m---------------------------------------------------------------------------\u001b[0m",
      "\u001b[0;31mTypeError\u001b[0m                                 Traceback (most recent call last)",
      "Cell \u001b[0;32mIn[60], line 1\u001b[0m\n\u001b[0;32m----> 1\u001b[0m \u001b[43mmy_set\u001b[49m\u001b[43m[\u001b[49m\u001b[38;5;241;43m2\u001b[39;49m\u001b[43m]\u001b[49m\n",
      "\u001b[0;31mTypeError\u001b[0m: 'set' object is not subscriptable"
     ]
    }
   ],
   "source": [
    "my_set[2]"
   ]
  },
  {
   "cell_type": "markdown",
   "id": "7582fdf5",
   "metadata": {},
   "source": [
    "### Dictionary\n",
    "<hr style=\"border:2px solid gray\">\n",
    "\n",
    "* Here are some key points about dictionaries in Python:\n",
    "\n",
    "    * Unordered Collection: Dictionaries are an unordered collection of key-value pairs. Each key must be unique within a dictionary.\n",
    "\n",
    "    * Mutable: Dictionaries are mutable, meaning you can add, modify, or remove key-value pairs after the dictionary is created.\n",
    "\n",
    "    * Key-Value Pairs: Each item in a dictionary consists of a key and its corresponding value, separated by a colon. For example: `my_dict = {'name': 'John', 'age': 25}`\n",
    "\n",
    "    * Defined using Curly Braces: Dictionaries are defined using curly braces `{}`.\n",
    "\n",
    "    * Accessing Values: Values in a dictionary are accessed using their respective keys.\n",
    "\n",
    "    * Common Operations: Dictionaries support common operations like adding items (`my_dict['key'] = 'value'`) and checking for the existence of keys (`'key' in my_dict`)."
   ]
  },
  {
   "cell_type": "code",
   "execution_count": 61,
   "id": "de485da3",
   "metadata": {},
   "outputs": [
    {
     "name": "stdout",
     "output_type": "stream",
     "text": [
      "{'name': 'John', 'age': 25, 'city': 'New York'}\n"
     ]
    }
   ],
   "source": [
    "my_dict = {'name': 'John', 'age': 25, 'city': 'New York'}\n",
    "\n",
    "print(my_dict)"
   ]
  },
  {
   "cell_type": "code",
   "execution_count": 62,
   "id": "c618366d",
   "metadata": {},
   "outputs": [
    {
     "data": {
      "text/plain": [
       "dict"
      ]
     },
     "execution_count": 62,
     "metadata": {},
     "output_type": "execute_result"
    }
   ],
   "source": [
    "type(my_dict)"
   ]
  },
  {
   "cell_type": "code",
   "execution_count": 63,
   "id": "67f27eb8",
   "metadata": {},
   "outputs": [
    {
     "data": {
      "text/plain": [
       "'John'"
      ]
     },
     "execution_count": 63,
     "metadata": {},
     "output_type": "execute_result"
    }
   ],
   "source": [
    "# We need to use the key of the element\n",
    "\n",
    "my_dict['name']"
   ]
  },
  {
   "cell_type": "code",
   "execution_count": 64,
   "id": "e4a19a01",
   "metadata": {},
   "outputs": [
    {
     "data": {
      "text/plain": [
       "dict_keys(['name', 'age', 'city'])"
      ]
     },
     "execution_count": 64,
     "metadata": {},
     "output_type": "execute_result"
    }
   ],
   "source": [
    "# Get all the keys in a dictionary by using the keys method\n",
    "\n",
    "my_dict.keys()"
   ]
  },
  {
   "cell_type": "code",
   "execution_count": 65,
   "id": "3748e50b",
   "metadata": {},
   "outputs": [
    {
     "data": {
      "text/plain": [
       "dict_values(['John', 25, 'New York'])"
      ]
     },
     "execution_count": 65,
     "metadata": {},
     "output_type": "execute_result"
    }
   ],
   "source": [
    "# Get all the values in a dictionary by using the values method\n",
    "\n",
    "my_dict.values()"
   ]
  },
  {
   "cell_type": "code",
   "execution_count": 66,
   "id": "16bd1a48",
   "metadata": {},
   "outputs": [
    {
     "data": {
      "text/plain": [
       "3"
      ]
     },
     "execution_count": 66,
     "metadata": {},
     "output_type": "execute_result"
    }
   ],
   "source": [
    "# Get the size of a dictionary by using the len function\n",
    "\n",
    "len(my_dict)"
   ]
  },
  {
   "cell_type": "markdown",
   "id": "92b8b024",
   "metadata": {},
   "source": [
    "* You can create an empty dictionary by using curly braces `{}`. After creating an empty dictionary, you can add key-value pairs to it later by assigning values to specific keys. This is a common approach when you don't know the dictionary's content upfront, and you want to build it dynamically by adding elements later in your code."
   ]
  },
  {
   "cell_type": "code",
   "execution_count": 67,
   "id": "1edc8c80",
   "metadata": {},
   "outputs": [
    {
     "data": {
      "text/plain": [
       "{}"
      ]
     },
     "execution_count": 67,
     "metadata": {},
     "output_type": "execute_result"
    }
   ],
   "source": [
    "my_dict = {}\n",
    "\n",
    "my_dict"
   ]
  },
  {
   "cell_type": "code",
   "execution_count": 68,
   "id": "fb53f99e",
   "metadata": {},
   "outputs": [
    {
     "data": {
      "text/plain": [
       "{'name': 'John', 'age': 25}"
      ]
     },
     "execution_count": 68,
     "metadata": {},
     "output_type": "execute_result"
    }
   ],
   "source": [
    "my_dict['name'] = 'John'\n",
    "\n",
    "my_dict['age'] = 25\n",
    "\n",
    "my_dict"
   ]
  },
  {
   "cell_type": "code",
   "execution_count": 69,
   "id": "60f81f5c",
   "metadata": {},
   "outputs": [
    {
     "data": {
      "text/plain": [
       "False"
      ]
     },
     "execution_count": 69,
     "metadata": {},
     "output_type": "execute_result"
    }
   ],
   "source": [
    "# Is the key \"city\" in this dictionary?\n",
    "\n",
    "\"city\" in my_dict"
   ]
  },
  {
   "cell_type": "code",
   "execution_count": 70,
   "id": "98b7d0ee",
   "metadata": {},
   "outputs": [
    {
     "data": {
      "text/plain": [
       "True"
      ]
     },
     "execution_count": 70,
     "metadata": {},
     "output_type": "execute_result"
    }
   ],
   "source": [
    "\"name\" in my_dict"
   ]
  },
  {
   "cell_type": "markdown",
   "id": "e5b34e29",
   "metadata": {},
   "source": [
    "Use `my_dict.items()` to returns a view of all key-value pairs in the dictionary as tuples."
   ]
  },
  {
   "cell_type": "code",
   "execution_count": 71,
   "id": "d239c001",
   "metadata": {},
   "outputs": [
    {
     "data": {
      "text/plain": [
       "{'name': 'John', 'age': 25}"
      ]
     },
     "execution_count": 71,
     "metadata": {},
     "output_type": "execute_result"
    }
   ],
   "source": [
    "my_dict"
   ]
  },
  {
   "cell_type": "code",
   "execution_count": 72,
   "id": "2c4359bd",
   "metadata": {},
   "outputs": [
    {
     "data": {
      "text/plain": [
       "dict_items([('name', 'John'), ('age', 25)])"
      ]
     },
     "execution_count": 72,
     "metadata": {},
     "output_type": "execute_result"
    }
   ],
   "source": [
    "my_dict.items()"
   ]
  },
  {
   "cell_type": "markdown",
   "id": "22fa1525",
   "metadata": {},
   "source": [
    "### HW 2"
   ]
  },
  {
   "cell_type": "markdown",
   "id": "40746696",
   "metadata": {},
   "source": [
    "1. What value will y have after the following lines of code are executed?"
   ]
  },
  {
   "cell_type": "code",
   "execution_count": null,
   "id": "3864b244",
   "metadata": {},
   "outputs": [],
   "source": [
    "x = 2\n",
    "y = x + 3\n",
    "x = 3\n",
    "y"
   ]
  },
  {
   "cell_type": "markdown",
   "id": "a01389f6",
   "metadata": {},
   "source": [
    "2. Get the last word \"great\" from \"Python is great!\"? You can search how to split a string into a list of substrings based on spaces."
   ]
  },
  {
   "cell_type": "markdown",
   "id": "a3c20ca4",
   "metadata": {},
   "source": [
    "3. Create a dictionary that has the keys \"E\", \"F\", \"G\" with values \"2\", \"3\", \"-1\" individually. Print all the keys in the dictionary."
   ]
  },
  {
   "cell_type": "markdown",
   "id": "7ffc815d",
   "metadata": {},
   "source": [
    "4. Create a Python list that contains four elements: `my_arr=[1,2,3,4]`. Reverse the order of the elements in the array using the slicing technique we discussed: `[start:end:step]`. Print both the original array and the reversed array."
   ]
  },
  {
   "cell_type": "markdown",
   "id": "ffd876f8",
   "metadata": {},
   "source": [
    "5. Try to modify an element in a tuple and observe the error. Explain the error message. "
   ]
  },
  {
   "cell_type": "markdown",
   "id": "5611be9b",
   "metadata": {},
   "source": [
    "6. Get the unique element from the tuple (2, 3, 2, 3, 1, 2, 5) using an appropriate data structure."
   ]
  },
  {
   "cell_type": "markdown",
   "id": "479f72fb",
   "metadata": {},
   "source": [
    "7. Create two tuples, (1, 2, 3) and (4, 5, 6). Concatenate these tuples and print the result."
   ]
  },
  {
   "cell_type": "markdown",
   "id": "983b1376",
   "metadata": {},
   "source": [
    "8. Given a Python list `[1, 2, 3, 4, 5]`, perform the following operations: (a) append the number 6 to the end of the list and (b) insert the number 0 at the beginning of the list.\n",
    "Print the modified list.\n"
   ]
  },
  {
   "cell_type": "markdown",
   "id": "5ab28976",
   "metadata": {},
   "source": [
    "9. Divide the given list into three equal parts, ensuring that your code accommodates lists of varying sizes."
   ]
  },
  {
   "cell_type": "code",
   "execution_count": null,
   "id": "9b231afd",
   "metadata": {},
   "outputs": [],
   "source": [
    "sample_list = [11, 32, 8, 23, 14, 29, 78, 45, 89]\n"
   ]
  },
  {
   "cell_type": "markdown",
   "id": "715c5fb4",
   "metadata": {},
   "source": [
    "10. Find the intersection (common) of two sets and remove those elements from the first set. You can use the `intersection()` and `remove()` method of a set."
   ]
  },
  {
   "cell_type": "code",
   "execution_count": null,
   "id": "d35e7fe0",
   "metadata": {},
   "outputs": [],
   "source": [
    "first_set = {23, 42, 65, 57, 78, 83, 29}\n",
    "\n",
    "second_set = {57, 83, 29, 67, 73, 43, 48}"
   ]
  },
  {
   "cell_type": "code",
   "execution_count": null,
   "id": "687e7cba",
   "metadata": {},
   "outputs": [],
   "source": []
  }
 ],
 "metadata": {
  "kernelspec": {
   "display_name": "Python 3 (ipykernel)",
   "language": "python",
   "name": "python3"
  },
  "language_info": {
   "codemirror_mode": {
    "name": "ipython",
    "version": 3
   },
   "file_extension": ".py",
   "mimetype": "text/x-python",
   "name": "python",
   "nbconvert_exporter": "python",
   "pygments_lexer": "ipython3",
   "version": "3.10.9"
  }
 },
 "nbformat": 4,
 "nbformat_minor": 5
}
