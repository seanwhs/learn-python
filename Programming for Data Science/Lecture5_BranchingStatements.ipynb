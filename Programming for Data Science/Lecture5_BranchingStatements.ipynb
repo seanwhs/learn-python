{
 "cells": [
  {
   "cell_type": "markdown",
   "id": "4367dde8",
   "metadata": {},
   "source": [
    "\n",
    "## Programming for Data Science\n",
    "\n",
    "### Lecture 5: Branching Statements\n",
    "\n",
    "### Instructor: Farhad Pourkamali \n",
    "\n",
    "\n",
    "[![Open In Colab](https://colab.research.google.com/assets/colab-badge.svg)](https://colab.research.google.com/github/farhad-pourkamali/CUSucceedProgrammingForDataScience/blob/main/Lecture5_BranchingStatements.ipynb)\n"
   ]
  },
  {
   "cell_type": "markdown",
   "id": "f4a913ca",
   "metadata": {},
   "source": [
    "### Introduction\n",
    "<hr style=\"border:2px solid gray\">\n",
    "\n",
    "* If-Else Statement Overview:\n",
    "\n",
    "    * A branching statement, also known as an If-Else Statement, is a code construct used for conditional execution.\n",
    "    * It allows you to execute specific blocks of code only if certain conditions are met.\n",
    "    \n",
    "* Logical Conditions:\n",
    "\n",
    "    * Conditions in an If-Else Statement are represented as logical expressions.\n",
    "    * Logical expressions evaluate to either `True` or `False`.\n",
    "    \n",
    "* Syntax of a Simple If Statement:\n",
    "    * The indented code block is executed only if the logical expression evaluates to True.\n",
    "    \n",
    "    * If the logical expression is False, the code block is skipped, and the program moves to the next statement.\n",
    "```\n",
    "if logical_expression:\n",
    "    # code block\n",
    "\n",
    "```\n",
    "\n",
    "* Syntax of If-Else Statement:\n",
    "    * The indented code block 1 is executed if the logical expression is True.\n",
    "\n",
    "    * If the logical expression is False, the indented code block 2 is executed.\n",
    "\n",
    "```\n",
    "if logical_expression:\n",
    "    # code block 1\n",
    "else:\n",
    "    # code block 2\n",
    "\n",
    "```\n",
    "* Extension\n",
    "    * The first True condition encountered determines the code block to be executed, and subsequent conditions are not evaluated.\n",
    "        * Hence, Python will not check the rest of the statements once it reaches a true statement.\n",
    "    \n",
    "    * If none of the logical expressions are True, the else block (code block X) is executed.\n",
    "\n",
    "```\n",
    "if logical_expression_P:\n",
    "    # code block 1\n",
    "elif logical_expression_Q:\n",
    "    # code block 2\n",
    "elif logical_expression_R:\n",
    "    # code block 3\n",
    "else:\n",
    "    # code block X\n",
    "```\n",
    "    \n",
    "    \n",
    "        "
   ]
  },
  {
   "cell_type": "markdown",
   "id": "ac991897",
   "metadata": {},
   "source": [
    "* Create a function called `device_status(temp, desired_temp)` that returns a string. If the `temp` is less than 5 degrees below the `desired_temp`, the function should return \"Heat\". If the `temp` is more than 5 degrees above the `desired_temp`, it should return \"Cool\". Otherwise, it should return \"Off\"."
   ]
  },
  {
   "cell_type": "code",
   "execution_count": 1,
   "id": "c90d9cc0",
   "metadata": {},
   "outputs": [
    {
     "data": {
      "text/plain": [
       "'Heat'"
      ]
     },
     "execution_count": 1,
     "metadata": {},
     "output_type": "execute_result"
    }
   ],
   "source": [
    "def device_status(temp, desired_temp=65):\n",
    "    \"\"\"\n",
    "    Update the status based on temperature\n",
    "    \"\"\"\n",
    "    \n",
    "    if temp < desired_temp - 5:\n",
    "        result = \"Heat\"\n",
    "        \n",
    "    elif temp > desired_temp + 5:\n",
    "        result = \"Cool\"\n",
    "        \n",
    "    else: \n",
    "        result = \"Off\"\n",
    "        \n",
    "    return result \n",
    "\n",
    "device_status(temp= 40)"
   ]
  },
  {
   "cell_type": "markdown",
   "id": "b77e2ddf",
   "metadata": {},
   "source": [
    "* In the following example, the first True condition encountered is the second elif statement, and the output is \"Even\". The subsequent conditions are not evaluated once a True condition is found."
   ]
  },
  {
   "cell_type": "code",
   "execution_count": 2,
   "id": "6ee1a6d5",
   "metadata": {},
   "outputs": [
    {
     "data": {
      "text/plain": [
       "'Even'"
      ]
     },
     "execution_count": 2,
     "metadata": {},
     "output_type": "execute_result"
    }
   ],
   "source": [
    "def check_condition(value):\n",
    "    if value < 0:\n",
    "        result = \"Negative\"\n",
    "    elif value % 2 == 0:\n",
    "        result = \"Even\"\n",
    "    elif value % 3 == 0:\n",
    "        result = \"Multiple of 3\"\n",
    "    else:\n",
    "        result = \"Other\"\n",
    "    return result\n",
    "\n",
    "# Example usage:\n",
    "check_condition(6)"
   ]
  },
  {
   "cell_type": "markdown",
   "id": "0b7cc93a",
   "metadata": {},
   "source": [
    "* Let's consider an example where we use an if statement along with `isinstance()` to determine the type of a variable. The syntax is `isinstance(object, type)`. "
   ]
  },
  {
   "cell_type": "code",
   "execution_count": 3,
   "id": "8c0e0011",
   "metadata": {},
   "outputs": [],
   "source": [
    "def process_variable(variable):\n",
    "    \"\"\"\n",
    "    Process a variable based on its type.\n",
    "\n",
    "    Args:\n",
    "        variable: A variable of any type.\n",
    "\n",
    "    Returns:\n",
    "        str: A string indicating the type of the variable.\n",
    "    \"\"\"\n",
    "    if isinstance(variable, int):\n",
    "        result = \"Variable is an integer.\"\n",
    "        \n",
    "    elif isinstance(variable, str):\n",
    "        result = \"Variable is a string.\"\n",
    "        \n",
    "    elif isinstance(variable, list):\n",
    "        result = \"Variable is a list.\"\n",
    "        \n",
    "    else:\n",
    "        result = \"Variable has an unknown type.\"\n",
    "\n",
    "    return result"
   ]
  },
  {
   "cell_type": "code",
   "execution_count": 4,
   "id": "eb1aa113",
   "metadata": {},
   "outputs": [
    {
     "name": "stdout",
     "output_type": "stream",
     "text": [
      "Variable is an integer.\n",
      "Variable is a string.\n",
      "Variable is a list.\n",
      "Variable has an unknown type.\n"
     ]
    }
   ],
   "source": [
    "# Example usage:\n",
    "value1 = 42\n",
    "output1 = process_variable(value1)\n",
    "print(output1)\n",
    "# Output: Variable is an integer.\n",
    "\n",
    "value2 = \"hello\"\n",
    "output2 = process_variable(value2)\n",
    "print(output2)\n",
    "# Output: Variable is a string.\n",
    "\n",
    "value3 = [1, 2, 3]\n",
    "output3 = process_variable(value3)\n",
    "print(output3)\n",
    "# Output: Variable is a list.\n",
    "\n",
    "value4 = 3.14\n",
    "output4 = process_variable(value4)\n",
    "print(output4)\n",
    "# Output: Variable has an unknown type.\n"
   ]
  },
  {
   "cell_type": "markdown",
   "id": "76ae1443",
   "metadata": {},
   "source": [
    "* Here's an example of a function that finds the sum of `rows` or `columns` of a 2D NumPy array based on the given input. If the input array doesn't have a rank of 2 (i.e., it's not a 2D array), the function returns `None`."
   ]
  },
  {
   "cell_type": "code",
   "execution_count": 5,
   "id": "888f53dd",
   "metadata": {},
   "outputs": [],
   "source": [
    "import numpy as np\n",
    "\n",
    "def sum_rows_columns(array, axis):\n",
    "    \"\"\"\n",
    "    Find the sum of rows or columns of a 2D NumPy array.\n",
    "\n",
    "    Args:\n",
    "        array (numpy.ndarray): The 2D array.\n",
    "        axis (str): Specify 'rows' or 'columns' to calculate the sum along the corresponding axis.\n",
    "\n",
    "    Returns:\n",
    "        numpy.ndarray or None: The sum of rows or columns, or None if the input is not a 2D array.\n",
    "    \"\"\"\n",
    "    \n",
    "    # Check if the array is not 2D\n",
    "    # If a function encounters a return statement, \n",
    "    # it immediately exits the function and returns the specified value.\n",
    "    \n",
    "    if array.ndim != 2:\n",
    "        return None\n",
    "    \n",
    "    if axis == 'rows':\n",
    "        result = np.sum(array, axis=1)\n",
    "        \n",
    "    elif axis == 'columns':\n",
    "        result = np.sum(array, axis=0)\n",
    "        \n",
    "    else: \n",
    "        result = \"axis is invalid!\"\n",
    "\n",
    "    return result\n"
   ]
  },
  {
   "cell_type": "code",
   "execution_count": 6,
   "id": "b616f18c",
   "metadata": {},
   "outputs": [
    {
     "data": {
      "text/plain": [
       "array([[1, 2, 3],\n",
       "       [4, 5, 6],\n",
       "       [7, 8, 9]])"
      ]
     },
     "execution_count": 6,
     "metadata": {},
     "output_type": "execute_result"
    }
   ],
   "source": [
    "\n",
    "# Example usage:\n",
    "matrix = np.array([[1, 2, 3], [4, 5, 6], [7, 8, 9]])\n",
    "\n",
    "matrix"
   ]
  },
  {
   "cell_type": "code",
   "execution_count": 7,
   "id": "d3a622d1",
   "metadata": {},
   "outputs": [
    {
     "name": "stdout",
     "output_type": "stream",
     "text": [
      "Sum of rows: [ 6 15 24]\n",
      "Sum of columns: [12 15 18]\n",
      "Invalid result: axis is invalid!\n"
     ]
    }
   ],
   "source": [
    "# Sum of rows\n",
    "sum_rows = sum_rows_columns(matrix, axis='rows')\n",
    "print(\"Sum of rows:\", sum_rows)\n",
    "\n",
    "# Sum of columns\n",
    "sum_columns = sum_rows_columns(matrix, axis='columns')\n",
    "print(\"Sum of columns:\", sum_columns)\n",
    "\n",
    "# Invalid axis (should return None)\n",
    "invalid_result = sum_rows_columns(matrix, axis='invalid')\n",
    "print(\"Invalid result:\", invalid_result)\n"
   ]
  },
  {
   "cell_type": "code",
   "execution_count": 8,
   "id": "db2a0639",
   "metadata": {},
   "outputs": [
    {
     "name": "stdout",
     "output_type": "stream",
     "text": [
      "Non-2D result: None\n"
     ]
    }
   ],
   "source": [
    "# Invalid input (not a 2D array, should return None)\n",
    "non_2d_array = np.array([1, 2, 3])\n",
    "non_2d_result = sum_rows_columns(non_2d_array, axis='rows')\n",
    "print(\"Non-2D result:\", non_2d_result)"
   ]
  },
  {
   "cell_type": "code",
   "execution_count": 9,
   "id": "99bf15d1",
   "metadata": {},
   "outputs": [
    {
     "data": {
      "text/plain": [
       "1"
      ]
     },
     "execution_count": 9,
     "metadata": {},
     "output_type": "execute_result"
    }
   ],
   "source": [
    "non_2d_array.ndim"
   ]
  },
  {
   "cell_type": "markdown",
   "id": "d8d43ce3",
   "metadata": {},
   "source": [
    "### Ternary operator\n",
    "<hr style=\"border:2px solid gray\">\n",
    "\n",
    "* Purpose:\n",
    "\n",
    "    * The ternary operator is a concise way to write a conditional expression in a single line.\n",
    "* Syntax:\n",
    "\n",
    "    * The basic syntax of the ternary operator is:\n",
    "    ```\n",
    "    expression_if_true if condition else expression_if_false\n",
    "\n",
    "    ```\n",
    "    * If the condition is True, the expression before the if keyword is evaluated.\n",
    "    \n",
    "    * If the condition is False, the expression after the else keyword is evaluated."
   ]
  },
  {
   "cell_type": "code",
   "execution_count": 10,
   "id": "7a4d56f6",
   "metadata": {},
   "outputs": [
    {
     "name": "stdout",
     "output_type": "stream",
     "text": [
      "Even\n"
     ]
    }
   ],
   "source": [
    "x = 10\n",
    "\n",
    "result = \"Even\" if x % 2 == 0 else \"Odd\"\n",
    "\n",
    "print(result)"
   ]
  },
  {
   "cell_type": "code",
   "execution_count": 11,
   "id": "9c5fba46",
   "metadata": {},
   "outputs": [
    {
     "name": "stdout",
     "output_type": "stream",
     "text": [
      "Python version: 3.10.9 (main, Mar  1 2023, 12:20:14) [Clang 14.0.6 ]\n"
     ]
    }
   ],
   "source": [
    "import sys\n",
    "\n",
    "# \"sys.version\" is a string containing the Python version.\n",
    "\n",
    "print(\"Python version:\", sys.version) "
   ]
  },
  {
   "cell_type": "code",
   "execution_count": 12,
   "id": "4bede70c",
   "metadata": {},
   "outputs": [
    {
     "data": {
      "text/plain": [
       "'3'"
      ]
     },
     "execution_count": 12,
     "metadata": {},
     "output_type": "execute_result"
    }
   ],
   "source": [
    "sys.version[0]"
   ]
  },
  {
   "cell_type": "code",
   "execution_count": 13,
   "id": "e76c1e52",
   "metadata": {},
   "outputs": [
    {
     "name": "stdout",
     "output_type": "stream",
     "text": [
      "Machine Learning Compatibility: Compatible\n"
     ]
    }
   ],
   "source": [
    "# Using the ternary operator to determine compatibility\n",
    "ml_compatible = True if int(sys.version[0]) > 2 else False\n",
    "\n",
    "# Print the result\n",
    "\n",
    "print(f\"Machine Learning Compatibility: {'Compatible' if ml_compatible else 'Not Compatible'}\")\n",
    "\n"
   ]
  },
  {
   "cell_type": "markdown",
   "id": "84761671",
   "metadata": {},
   "source": [
    "### HW 5"
   ]
  },
  {
   "cell_type": "markdown",
   "id": "069320cb",
   "metadata": {},
   "source": [
    "1. Write a function called `is_odd` that returns \"Odd\" if the input is an odd number and\n",
    "\"Even\" if it is even. You can assume that input will be a positive integer."
   ]
  },
  {
   "cell_type": "markdown",
   "id": "9aa1d5e2",
   "metadata": {},
   "source": [
    "2. Write a Python function named `categorize_input` that takes a single input variable and returns a string describing the type and characteristic of the input. The function should use if, elif, and else statements to branch its logic based on the input type and specific conditions.\n",
    "\n",
    "Requirements:\n",
    "\n",
    "* If the input is an integer:\n",
    "\n",
    "    * Return \"Positive Integer\" if the number is greater than 0.\n",
    "    * Return \"Negative Integer\" if the number is less than 0.\n",
    "    * Return \"Zero\" if the number is 0.\n",
    "    \n",
    "* If the input is a float:\n",
    "\n",
    "    * Return \"Positive Float\" if the number is greater than 0.\n",
    "    * Return \"Negative Float\" if the number is less than 0.\n",
    "    * Return \"Zero Float\" if the number is 0.0."
   ]
  },
  {
   "cell_type": "markdown",
   "id": "e678a160",
   "metadata": {},
   "source": [
    "3. Write a Python function named `calculate_tax` that takes two arguments: `income` (a float or integer representing the annual income of an individual) and `status` (a string representing the tax filing status, which can be either \"single\" or \"married\"). The function should calculate and return the amount of tax owed based on the given income and filing status using a simplified tax bracket system.\n",
    "\n",
    "Simplified Tax Brackets for the Purpose of This Problem:\n",
    "* For single filers:\n",
    "\n",
    "    * Income up to $\\$9,875$: taxed at $10\\%$\n",
    "    * Income over $\\$9,875$ to $\\$40,125$: taxed at $12\\%$\n",
    "    * Income over $\\$40,125$: taxed at $22\\%$\n",
    "    \n",
    "* For married filers:\n",
    "\n",
    "    * Income up to $\\$19,750$: taxed at $10\\%$\n",
    "    * Income over $\\$19,750$ to $\\$80,250$: taxed at $12\\%$\n",
    "    * Income over $\\$80,250$: taxed at $22\\%$\n"
   ]
  },
  {
   "cell_type": "markdown",
   "id": "1bd40bf0",
   "metadata": {},
   "source": [
    "4. Write a Python function named `solve_quadratic` that takes three arguments: `a`, `b`, and `c`, which are the coefficients of a quadratic equation in the form $ax^2+bx+c$. The function should return the roots of the equation. Depending on the discriminant $D=b^2-4ac$, the function will need to handle two different cases:\n",
    "If $D>0$, there are two distinct real roots. Use the formula $x=\\frac{-b\\pm \\sqrt{D}}{2a}$ to calculate them. If $D=0$, there is one repeated real root and use the formula $x=\\frac{-b}{2a}$. What does `solve_quadratic(1, -3, 2)` return? How about `solve_quadratic(1, -2, 1)`?\n"
   ]
  }
 ],
 "metadata": {
  "kernelspec": {
   "display_name": "Python 3 (ipykernel)",
   "language": "python",
   "name": "python3"
  },
  "language_info": {
   "codemirror_mode": {
    "name": "ipython",
    "version": 3
   },
   "file_extension": ".py",
   "mimetype": "text/x-python",
   "name": "python",
   "nbconvert_exporter": "python",
   "pygments_lexer": "ipython3",
   "version": "3.10.9"
  }
 },
 "nbformat": 4,
 "nbformat_minor": 5
}
