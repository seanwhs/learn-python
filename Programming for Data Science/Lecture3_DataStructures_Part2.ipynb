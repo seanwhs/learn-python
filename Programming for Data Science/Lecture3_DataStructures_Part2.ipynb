{
 "cells": [
  {
   "cell_type": "markdown",
   "id": "4367dde8",
   "metadata": {},
   "source": [
    "\n",
    "## Programming for Data Science\n",
    "\n",
    "### Lecture 3: Data Structures, Part 2\n",
    "\n",
    "### Instructor: Farhad Pourkamali \n",
    "\n",
    "\n",
    "\n",
    "[![Open In Colab](https://colab.research.google.com/assets/colab-badge.svg)](https://colab.research.google.com/github/farhad-pourkamali/CUSucceedProgrammingForDataScience/blob/main/Lecture3_DataStructures_Part2.ipynb)\n"
   ]
  },
  {
   "cell_type": "markdown",
   "id": "f4a913ca",
   "metadata": {},
   "source": [
    "### Introduction\n",
    "<hr style=\"border:2px solid gray\">\n",
    "\n",
    "* NumPy (https://numpy.org/) is the fundamental library for scientific computing and data science with Python.\n",
    "\n",
    "* It provides support for large, multi-dimensional arrays and matrices, along with a collection of mathematical functions, random number generators, linear algebra routines, and more.\n",
    "\n",
    "* The fundamental data structure in NumPy is the `ndarray`, which stands for N-dimensional array.\n",
    "    * `ndarrays` can have multiple dimensions, allowing for the representation of matrices, tensors, and other multi-dimensional data structures.\n",
    "    \n",
    "    * `ndarrays` are more memory-efficient and faster than built-in Python lists, especially for large data sets. This efficiency is crucial for numerical and scientific computing.\n",
    "    * Many other libraries in the Python ecosystem, such as pandas, scikit-learn, and TensorFlow, build upon NumPy. \n"
   ]
  },
  {
   "cell_type": "markdown",
   "id": "846843ac",
   "metadata": {},
   "source": [
    "* To utilize NumPy, it must be imported first. A common practice is to import it with the abbreviated name \"np\"."
   ]
  },
  {
   "cell_type": "code",
   "execution_count": 1,
   "id": "78ff6fac",
   "metadata": {},
   "outputs": [
    {
     "name": "stdout",
     "output_type": "stream",
     "text": [
      "1.26.2\n"
     ]
    }
   ],
   "source": [
    "import numpy as np \n",
    "\n",
    "print(np.__version__)"
   ]
  },
  {
   "cell_type": "markdown",
   "id": "cf756409",
   "metadata": {},
   "source": [
    "* In the context of a NumPy ndarray, an `axis` represents a specific dimension along which the array is defined. \n",
    "\n",
    "* The number of axes in an ndarray is referred to as its \"rank\".\n",
    "    * For example, a 1D array has a rank of 1, a 2D array has a rank of 2, and so on. \n"
   ]
  },
  {
   "cell_type": "markdown",
   "id": "9be8ff21",
   "metadata": {},
   "source": [
    "\n",
    "<img src=\"numpy.png\" width=600>\n",
    "\n",
    "* Imagine a 2D array or matrix like a table. The rows are like the horizontal lines in the table, and the columns are like the vertical columns. So, when you look at a matrix, think of rows as the things going from left to right, and columns as the things going from top to bottom. \n",
    "\n",
    "\n",
    "$$\\mathbf{A}=\\begin{bmatrix}a_{11}&\\ldots&a_{1m}\\\\\n",
    "\\vdots&&\\vdots\\\\a_{n1}&&a_{nm}\\end{bmatrix}\\in\\mathbb{R}^{n\\times m}$$"
   ]
  },
  {
   "cell_type": "code",
   "execution_count": 2,
   "id": "ae1f1f53",
   "metadata": {},
   "outputs": [
    {
     "data": {
      "text/plain": [
       "array([0., 0., 0., 0.])"
      ]
     },
     "execution_count": 2,
     "metadata": {},
     "output_type": "execute_result"
    }
   ],
   "source": [
    "a = np.zeros(4)\n",
    "\n",
    "a\n"
   ]
  },
  {
   "cell_type": "code",
   "execution_count": 3,
   "id": "6254bc87",
   "metadata": {},
   "outputs": [
    {
     "data": {
      "text/plain": [
       "(4,)"
      ]
     },
     "execution_count": 3,
     "metadata": {},
     "output_type": "execute_result"
    }
   ],
   "source": [
    "# shape \n",
    "\n",
    "a.shape"
   ]
  },
  {
   "cell_type": "code",
   "execution_count": 4,
   "id": "9042a807",
   "metadata": {},
   "outputs": [
    {
     "data": {
      "text/plain": [
       "1"
      ]
     },
     "execution_count": 4,
     "metadata": {},
     "output_type": "execute_result"
    }
   ],
   "source": [
    "# Number of axes or rank\n",
    "\n",
    "a.ndim"
   ]
  },
  {
   "cell_type": "code",
   "execution_count": 5,
   "id": "bdadb3f7",
   "metadata": {},
   "outputs": [
    {
     "data": {
      "text/plain": [
       "numpy.ndarray"
      ]
     },
     "execution_count": 5,
     "metadata": {},
     "output_type": "execute_result"
    }
   ],
   "source": [
    "type(a)"
   ]
  },
  {
   "cell_type": "code",
   "execution_count": 6,
   "id": "828a9002",
   "metadata": {},
   "outputs": [
    {
     "data": {
      "text/plain": [
       "array([[0., 0., 0.],\n",
       "       [0., 0., 0.]])"
      ]
     },
     "execution_count": 6,
     "metadata": {},
     "output_type": "execute_result"
    }
   ],
   "source": [
    "# 2D array: provide a tuple with the desired number of rows and columns\n",
    "\n",
    "A = np.zeros((2,3))\n",
    "\n",
    "A"
   ]
  },
  {
   "cell_type": "code",
   "execution_count": 7,
   "id": "2df94443",
   "metadata": {},
   "outputs": [
    {
     "data": {
      "text/plain": [
       "(2, 3)"
      ]
     },
     "execution_count": 7,
     "metadata": {},
     "output_type": "execute_result"
    }
   ],
   "source": [
    "A.shape"
   ]
  },
  {
   "cell_type": "code",
   "execution_count": 8,
   "id": "38c10097",
   "metadata": {},
   "outputs": [
    {
     "data": {
      "text/plain": [
       "2"
      ]
     },
     "execution_count": 8,
     "metadata": {},
     "output_type": "execute_result"
    }
   ],
   "source": [
    "A.ndim"
   ]
  },
  {
   "cell_type": "code",
   "execution_count": 9,
   "id": "76287a12",
   "metadata": {},
   "outputs": [
    {
     "data": {
      "text/plain": [
       "array([[[0., 0., 0.],\n",
       "        [0., 0., 0.],\n",
       "        [0., 0., 0.]],\n",
       "\n",
       "       [[0., 0., 0.],\n",
       "        [0., 0., 0.],\n",
       "        [0., 0., 0.]]])"
      ]
     },
     "execution_count": 9,
     "metadata": {},
     "output_type": "execute_result"
    }
   ],
   "source": [
    "# 3D array \n",
    "\n",
    "B = np.zeros((2,3,3))\n",
    "\n",
    "B"
   ]
  },
  {
   "cell_type": "code",
   "execution_count": 10,
   "id": "25ab7560",
   "metadata": {},
   "outputs": [
    {
     "data": {
      "text/plain": [
       "(2, 3, 3)"
      ]
     },
     "execution_count": 10,
     "metadata": {},
     "output_type": "execute_result"
    }
   ],
   "source": [
    "B.shape"
   ]
  },
  {
   "cell_type": "code",
   "execution_count": 11,
   "id": "918bc34f",
   "metadata": {},
   "outputs": [
    {
     "data": {
      "text/plain": [
       "3"
      ]
     },
     "execution_count": 11,
     "metadata": {},
     "output_type": "execute_result"
    }
   ],
   "source": [
    "B.ndim\n"
   ]
  },
  {
   "cell_type": "code",
   "execution_count": 12,
   "id": "c2ae7671",
   "metadata": {},
   "outputs": [
    {
     "data": {
      "text/plain": [
       "array([[1., 1., 1., 1.],\n",
       "       [1., 1., 1., 1.],\n",
       "       [1., 1., 1., 1.]])"
      ]
     },
     "execution_count": 12,
     "metadata": {},
     "output_type": "execute_result"
    }
   ],
   "source": [
    "# 3x4 matrix full of ones\n",
    "\n",
    "np.ones((3,4))\n"
   ]
  },
  {
   "cell_type": "code",
   "execution_count": 13,
   "id": "1eab0d4a",
   "metadata": {},
   "outputs": [
    {
     "data": {
      "text/plain": [
       "array([[7, 7, 7],\n",
       "       [7, 7, 7]])"
      ]
     },
     "execution_count": 13,
     "metadata": {},
     "output_type": "execute_result"
    }
   ],
   "source": [
    "# np.full creates ndarray with a specified shape and \n",
    "# fills it with a constant value\n",
    "\n",
    "# Create a 2x3 array filled with the value 7\n",
    "\n",
    "filled_array = np.full((2, 3), 7)\n",
    "\n",
    "filled_array"
   ]
  },
  {
   "cell_type": "markdown",
   "id": "51fe29cf",
   "metadata": {},
   "source": [
    "* You have the option to employ the `np.array` function to transform a Python's list."
   ]
  },
  {
   "cell_type": "code",
   "execution_count": 14,
   "id": "95afe973",
   "metadata": {},
   "outputs": [
    {
     "data": {
      "text/plain": [
       "array([1, 4, 3])"
      ]
     },
     "execution_count": 14,
     "metadata": {},
     "output_type": "execute_result"
    }
   ],
   "source": [
    "x = np.array([1, 4, 3])\n",
    "\n",
    "x"
   ]
  },
  {
   "cell_type": "code",
   "execution_count": 15,
   "id": "112c3110",
   "metadata": {},
   "outputs": [
    {
     "data": {
      "text/plain": [
       "(3,)"
      ]
     },
     "execution_count": 15,
     "metadata": {},
     "output_type": "execute_result"
    }
   ],
   "source": [
    "x.shape"
   ]
  },
  {
   "cell_type": "code",
   "execution_count": 16,
   "id": "67510cb1",
   "metadata": {},
   "outputs": [
    {
     "data": {
      "text/plain": [
       "array([[2, 4, 5],\n",
       "       [9, 2, 7]])"
      ]
     },
     "execution_count": 16,
     "metadata": {},
     "output_type": "execute_result"
    }
   ],
   "source": [
    "y = np.array([[2, 4, 5], [9, 2, 7]])\n",
    "\n",
    "y"
   ]
  },
  {
   "cell_type": "code",
   "execution_count": 17,
   "id": "d02978c7",
   "metadata": {},
   "outputs": [
    {
     "data": {
      "text/plain": [
       "(2, 3)"
      ]
     },
     "execution_count": 17,
     "metadata": {},
     "output_type": "execute_result"
    }
   ],
   "source": [
    "y.shape"
   ]
  },
  {
   "cell_type": "code",
   "execution_count": 18,
   "id": "afebda5a",
   "metadata": {},
   "outputs": [
    {
     "data": {
      "text/plain": [
       "2"
      ]
     },
     "execution_count": 18,
     "metadata": {},
     "output_type": "execute_result"
    }
   ],
   "source": [
    "y.ndim"
   ]
  },
  {
   "cell_type": "markdown",
   "id": "e5a1e59c",
   "metadata": {},
   "source": [
    "* `np.arange` is a NumPy function used to create an ndarray with regularly spaced values within a specified range. The syntax for `np.arange` is as follows:\n",
    "\n",
    "    * `np.arange([start, ]stop, [step, ], dtype=None)`\n",
    "\n",
    "        * `start`: (Optional) The start of the range. If not specified, the default is 0.\n",
    "        * `stop`: The end of the range (exclusive). The created array will not include this value.\n",
    "        * `step`: (Optional) The step size between values. If not specified, the default is 1.\n",
    "        * `dtype`: (Optional) Data type of the array. If not specified, the data type is inferred.\n"
   ]
  },
  {
   "cell_type": "code",
   "execution_count": 19,
   "id": "23368a7b",
   "metadata": {},
   "outputs": [
    {
     "data": {
      "text/plain": [
       "array([0, 1, 2, 3, 4, 5, 6, 7, 8, 9])"
      ]
     },
     "execution_count": 19,
     "metadata": {},
     "output_type": "execute_result"
    }
   ],
   "source": [
    "z = np.arange(10)\n",
    "\n",
    "z"
   ]
  },
  {
   "cell_type": "code",
   "execution_count": 20,
   "id": "6e6ef18b",
   "metadata": {},
   "outputs": [
    {
     "data": {
      "text/plain": [
       "array([0, 2, 4, 6, 8])"
      ]
     },
     "execution_count": 20,
     "metadata": {},
     "output_type": "execute_result"
    }
   ],
   "source": [
    "t = np.arange(0, 10, 2)\n",
    "\n",
    "t"
   ]
  },
  {
   "cell_type": "code",
   "execution_count": 21,
   "id": "bd66be75",
   "metadata": {},
   "outputs": [
    {
     "data": {
      "text/plain": [
       "array([1, 2, 3, 4])"
      ]
     },
     "execution_count": 21,
     "metadata": {},
     "output_type": "execute_result"
    }
   ],
   "source": [
    "np.arange(1, 5)\n"
   ]
  },
  {
   "cell_type": "markdown",
   "id": "069ae3a4",
   "metadata": {},
   "source": [
    "* `np.linspace` creates an array with a specified number of evenly spaced values over a specified range (inclusive endpoints)."
   ]
  },
  {
   "cell_type": "code",
   "execution_count": 22,
   "id": "1def0c7e",
   "metadata": {},
   "outputs": [
    {
     "data": {
      "text/plain": [
       "array([ 0. ,  2.5,  5. ,  7.5, 10. ])"
      ]
     },
     "execution_count": 22,
     "metadata": {},
     "output_type": "execute_result"
    }
   ],
   "source": [
    "np.linspace(0, 10, 5)"
   ]
  },
  {
   "cell_type": "markdown",
   "id": "12960122",
   "metadata": {},
   "source": [
    "### Random numbers\n",
    "<hr style=\"border:2px solid gray\">\n",
    "\n",
    "* `np.random` is a submodule in NumPy that provides functions for generating random numbers. Here are some key distributions available in numpy.random along with brief explanations:\n",
    "\n",
    "1. Uniform Distribution:\n",
    "    * Function: `np.random.rand()`\n",
    "    * Description: Generates random numbers from a uniform distribution over the interval $[0, 1)$."
   ]
  },
  {
   "cell_type": "code",
   "execution_count": 23,
   "id": "5b664c91",
   "metadata": {},
   "outputs": [
    {
     "data": {
      "text/plain": [
       "array([0.68400166, 0.89658574, 0.37392833, 0.34418198, 0.29328848])"
      ]
     },
     "execution_count": 23,
     "metadata": {},
     "output_type": "execute_result"
    }
   ],
   "source": [
    "# Uniform \n",
    "\n",
    "np.random.rand(5)"
   ]
  },
  {
   "cell_type": "markdown",
   "id": "1712fa54",
   "metadata": {},
   "source": [
    "2. Normal (Gaussian) Distribution:\n",
    "    * Function: `np.random.randn()`\n",
    "    * Description: Generates random numbers from a standard normal distribution (mean=0, standard deviation=1)."
   ]
  },
  {
   "cell_type": "code",
   "execution_count": 24,
   "id": "8bbe8cb3",
   "metadata": {},
   "outputs": [
    {
     "data": {
      "text/plain": [
       "array([ 2.73815073,  0.79264182, -1.78950834, -0.44839618,  0.08471108])"
      ]
     },
     "execution_count": 24,
     "metadata": {},
     "output_type": "execute_result"
    }
   ],
   "source": [
    "# Normal \n",
    "\n",
    "np.random.randn(5)"
   ]
  },
  {
   "cell_type": "code",
   "execution_count": 25,
   "id": "90e631a6",
   "metadata": {},
   "outputs": [
    {
     "data": {
      "text/plain": [
       "array([11.42366573, 10.03669191, 10.05378577, 10.48300035, 10.36884011])"
      ]
     },
     "execution_count": 25,
     "metadata": {},
     "output_type": "execute_result"
    }
   ],
   "source": [
    "# We can change the mean and standard deviation\n",
    "\n",
    "np.random.normal(loc=10, scale=1, size=5) # loc: mean, scale: Standard deviation"
   ]
  },
  {
   "cell_type": "markdown",
   "id": "dbef30e2",
   "metadata": {},
   "source": [
    "https://numpy.org/doc/stable/reference/random/generated/numpy.random.normal.html"
   ]
  },
  {
   "cell_type": "markdown",
   "id": "a3970897",
   "metadata": {},
   "source": [
    "3. Uniform Integer Distribution:\n",
    "\n",
    "    * Function: `np.random.randint()`\n",
    "    * Description: Generates random integers from a specified range."
   ]
  },
  {
   "cell_type": "code",
   "execution_count": 26,
   "id": "6ca832fc",
   "metadata": {},
   "outputs": [
    {
     "data": {
      "text/plain": [
       "array([[4, 4, 1, 3, 3],\n",
       "       [4, 1, 1, 4, 4]])"
      ]
     },
     "execution_count": 26,
     "metadata": {},
     "output_type": "execute_result"
    }
   ],
   "source": [
    "np.random.randint(1, 5, size=(2, 5))"
   ]
  },
  {
   "cell_type": "markdown",
   "id": "69e044be",
   "metadata": {},
   "source": [
    "4. Binomial Distribution:\n",
    "    * Function: `np.random.binomial()`\n",
    "    * Description: Generates random numbers from a binomial distribution with specified number of trials and probability of success.\n",
    "    * The probability mass function (PMF) of a binomial distribution is given by the following equation:\n",
    "    $$P(X = k) = \\binom{n}{k} p^k (1-p)^{n-k}\n",
    "$$\n",
    "    * $n$: the number of trials or experiments. \n",
    "    * $k$: the number of successes.\n",
    "    * $p$: the probability of success on a single trial.\n",
    "    "
   ]
  },
  {
   "cell_type": "code",
   "execution_count": 27,
   "id": "875af686",
   "metadata": {},
   "outputs": [
    {
     "data": {
      "text/plain": [
       "array([7, 7, 7, 7, 9])"
      ]
     },
     "execution_count": 27,
     "metadata": {},
     "output_type": "execute_result"
    }
   ],
   "source": [
    "np.random.binomial(n=10, p=0.7, size=5)"
   ]
  },
  {
   "cell_type": "markdown",
   "id": "6d48ec74",
   "metadata": {},
   "source": [
    "* `np.random.seed` is a function that initializes the random number generator with a specified seed value. This is useful when you want to ensure reproducibility in your code."
   ]
  },
  {
   "cell_type": "code",
   "execution_count": 28,
   "id": "cffc983a",
   "metadata": {},
   "outputs": [
    {
     "data": {
      "text/plain": [
       "array([0.37454012, 0.95071431, 0.73199394, 0.59865848, 0.15601864])"
      ]
     },
     "execution_count": 28,
     "metadata": {},
     "output_type": "execute_result"
    }
   ],
   "source": [
    "# Set a seed value (e.g., 42)\n",
    "np.random.seed(42)\n",
    "\n",
    "# Generate random numbers\n",
    "np.random.rand(5)"
   ]
  },
  {
   "cell_type": "markdown",
   "id": "0d6c2cec",
   "metadata": {},
   "source": [
    "### Reshaping an array\n",
    "<hr style=\"border:2px solid gray\">\n",
    "\n",
    "* Altering the configuration of an `ndarray` is easily achieved by adjusting its shape attribute. It's important to note that the total size of the array must remain unchanged during this operation."
   ]
  },
  {
   "cell_type": "code",
   "execution_count": 29,
   "id": "dff46b70",
   "metadata": {},
   "outputs": [
    {
     "data": {
      "text/plain": [
       "array([ 0,  1,  2,  3,  4,  5,  6,  7,  8,  9, 10, 11])"
      ]
     },
     "execution_count": 29,
     "metadata": {},
     "output_type": "execute_result"
    }
   ],
   "source": [
    "a = np.arange(12)\n",
    "\n",
    "a"
   ]
  },
  {
   "cell_type": "code",
   "execution_count": 30,
   "id": "04974f1f",
   "metadata": {},
   "outputs": [
    {
     "data": {
      "text/plain": [
       "array([[ 0,  1,  2,  3],\n",
       "       [ 4,  5,  6,  7],\n",
       "       [ 8,  9, 10, 11]])"
      ]
     },
     "execution_count": 30,
     "metadata": {},
     "output_type": "execute_result"
    }
   ],
   "source": [
    "a.shape = (3, 4)\n",
    "\n",
    "a"
   ]
  },
  {
   "cell_type": "code",
   "execution_count": 31,
   "id": "f8750ab6",
   "metadata": {},
   "outputs": [
    {
     "data": {
      "text/plain": [
       "2"
      ]
     },
     "execution_count": 31,
     "metadata": {},
     "output_type": "execute_result"
    }
   ],
   "source": [
    "a.ndim"
   ]
  },
  {
   "cell_type": "code",
   "execution_count": 32,
   "id": "6e22ca97",
   "metadata": {},
   "outputs": [
    {
     "data": {
      "text/plain": [
       "(3, 4)"
      ]
     },
     "execution_count": 32,
     "metadata": {},
     "output_type": "execute_result"
    }
   ],
   "source": [
    "a.shape"
   ]
  },
  {
   "cell_type": "markdown",
   "id": "c7264300",
   "metadata": {},
   "source": [
    "* The `reshape` function returns a new `ndarray` object pointing at the same data. This means that modifying one array will also modify the other."
   ]
  },
  {
   "cell_type": "code",
   "execution_count": 33,
   "id": "247192c2",
   "metadata": {},
   "outputs": [
    {
     "data": {
      "text/plain": [
       "array([[ 0,  1],\n",
       "       [ 2,  3],\n",
       "       [ 4,  5],\n",
       "       [ 6,  7],\n",
       "       [ 8,  9],\n",
       "       [10, 11]])"
      ]
     },
     "execution_count": 33,
     "metadata": {},
     "output_type": "execute_result"
    }
   ],
   "source": [
    "b = a.reshape(6,2)\n",
    "\n",
    "b"
   ]
  },
  {
   "cell_type": "code",
   "execution_count": 34,
   "id": "60148a80",
   "metadata": {},
   "outputs": [
    {
     "data": {
      "text/plain": [
       "array([[20,  1,  2,  3],\n",
       "       [ 4,  5,  6,  7],\n",
       "       [ 8,  9, 10, 11]])"
      ]
     },
     "execution_count": 34,
     "metadata": {},
     "output_type": "execute_result"
    }
   ],
   "source": [
    "# change a \n",
    "a[0, 0] = 20\n",
    "\n",
    "a"
   ]
  },
  {
   "cell_type": "code",
   "execution_count": 35,
   "id": "e4537739",
   "metadata": {},
   "outputs": [
    {
     "data": {
      "text/plain": [
       "array([[20,  1],\n",
       "       [ 2,  3],\n",
       "       [ 4,  5],\n",
       "       [ 6,  7],\n",
       "       [ 8,  9],\n",
       "       [10, 11]])"
      ]
     },
     "execution_count": 35,
     "metadata": {},
     "output_type": "execute_result"
    }
   ],
   "source": [
    "# check b \n",
    "\n",
    "b"
   ]
  },
  {
   "cell_type": "markdown",
   "id": "2ae3332f",
   "metadata": {},
   "source": [
    "The `ravel` function is used to flatten a multi-dimensional array into a one-dimensional array. It returns a flattened view of the input array without creating a new copy of the data. "
   ]
  },
  {
   "cell_type": "code",
   "execution_count": 36,
   "id": "6d424f60",
   "metadata": {},
   "outputs": [
    {
     "data": {
      "text/plain": [
       "array([20,  1,  2,  3,  4,  5,  6,  7,  8,  9, 10, 11])"
      ]
     },
     "execution_count": 36,
     "metadata": {},
     "output_type": "execute_result"
    }
   ],
   "source": [
    "# Use the ravel function \n",
    "\n",
    "b.ravel()"
   ]
  },
  {
   "cell_type": "markdown",
   "id": "68696487",
   "metadata": {},
   "source": [
    "### Mathematical and statistical functions\n",
    "<hr style=\"border:2px solid gray\">\n",
    "\n",
    "* Here are some key points about mathematical and statistical functions in NumPy:\n",
    "    1. Element-wise Operations\n",
    "        * np.power, np.equal, np.greater,...\n",
    "    \n",
    "    2. Universal Functions\n",
    "        * np.sin, np.cos, np.sinh, np.exp, no.log, ...\n",
    "    \n",
    "    3. Descriptive Statistics\n",
    "        * np.mean, np.std, np.min, np.max, np.percentile, ...\n",
    "    \n",
    "    4. Linear Algebra \n",
    "        * np.dot, np.linalg.inv, np.linalg.eig, ...\n",
    "\n"
   ]
  },
  {
   "cell_type": "code",
   "execution_count": 37,
   "id": "18a3fd9b",
   "metadata": {},
   "outputs": [
    {
     "data": {
      "text/plain": [
       "array([2, 3, 8])"
      ]
     },
     "execution_count": 37,
     "metadata": {},
     "output_type": "execute_result"
    }
   ],
   "source": [
    "my_array = np.array([2, 3, 8])\n",
    "\n",
    "my_array"
   ]
  },
  {
   "cell_type": "code",
   "execution_count": 38,
   "id": "162c7c0d",
   "metadata": {},
   "outputs": [
    {
     "data": {
      "text/plain": [
       "array([ 4,  9, 64])"
      ]
     },
     "execution_count": 38,
     "metadata": {},
     "output_type": "execute_result"
    }
   ],
   "source": [
    "np.power(my_array, 2)"
   ]
  },
  {
   "cell_type": "code",
   "execution_count": 39,
   "id": "7b63d8fd",
   "metadata": {},
   "outputs": [
    {
     "data": {
      "text/plain": [
       "array([2, 5, 6])"
      ]
     },
     "execution_count": 39,
     "metadata": {},
     "output_type": "execute_result"
    }
   ],
   "source": [
    "my_array2 = np.array([2, 5, 6])\n",
    "\n",
    "my_array2"
   ]
  },
  {
   "cell_type": "code",
   "execution_count": 40,
   "id": "17539ce2",
   "metadata": {},
   "outputs": [
    {
     "data": {
      "text/plain": [
       "array([ True, False, False])"
      ]
     },
     "execution_count": 40,
     "metadata": {},
     "output_type": "execute_result"
    }
   ],
   "source": [
    "np.equal(my_array, my_array2)"
   ]
  },
  {
   "cell_type": "code",
   "execution_count": 41,
   "id": "bb8554b0",
   "metadata": {},
   "outputs": [
    {
     "data": {
      "text/plain": [
       "array([False, False,  True])"
      ]
     },
     "execution_count": 41,
     "metadata": {},
     "output_type": "execute_result"
    }
   ],
   "source": [
    "np.greater(my_array, my_array2)"
   ]
  },
  {
   "cell_type": "code",
   "execution_count": 42,
   "id": "e12e9739",
   "metadata": {},
   "outputs": [
    {
     "data": {
      "text/plain": [
       "2.5"
      ]
     },
     "execution_count": 42,
     "metadata": {},
     "output_type": "execute_result"
    }
   ],
   "source": [
    "# Create a 2x2 array\n",
    "my_array = np.array([[1, 2],\n",
    "                     [3, 4]])\n",
    "\n",
    "# Calculate overall mean\n",
    "overall_mean = np.mean(my_array)\n",
    "\n",
    "overall_mean"
   ]
  },
  {
   "cell_type": "code",
   "execution_count": 43,
   "id": "f58a17b4",
   "metadata": {},
   "outputs": [
    {
     "data": {
      "text/plain": [
       "array([2., 3.])"
      ]
     },
     "execution_count": 43,
     "metadata": {},
     "output_type": "execute_result"
    }
   ],
   "source": [
    "# Calculate mean along axis 0 (column-wise)\n",
    "mean_axis_0 = np.mean(my_array, axis=0)\n",
    "\n",
    "mean_axis_0"
   ]
  },
  {
   "cell_type": "code",
   "execution_count": 44,
   "id": "7dcdf60c",
   "metadata": {},
   "outputs": [
    {
     "data": {
      "text/plain": [
       "array([1.5, 3.5])"
      ]
     },
     "execution_count": 44,
     "metadata": {},
     "output_type": "execute_result"
    }
   ],
   "source": [
    "# Calculate mean along axis 1 (row-wise)\n",
    "mean_axis_1 = np.mean(my_array, axis=1)\n",
    "\n",
    "mean_axis_1"
   ]
  },
  {
   "cell_type": "markdown",
   "id": "1ade7e8e",
   "metadata": {},
   "source": [
    "* The dot product (also known as the scalar product or inner product) of two vectors $\\mathbf{a}$ and $\\mathbf{b}$\n",
    "\n",
    "$$\\langle \\mathbf{a},  \\mathbf{b}\\rangle = a_1 \\cdot b_1 + a_2 \\cdot b_2 + \\ldots + a_n \\cdot b_n$$\n"
   ]
  },
  {
   "cell_type": "code",
   "execution_count": 45,
   "id": "fbf18abb",
   "metadata": {},
   "outputs": [
    {
     "data": {
      "text/plain": [
       "32"
      ]
     },
     "execution_count": 45,
     "metadata": {},
     "output_type": "execute_result"
    }
   ],
   "source": [
    "# Define two 1-D arrays\n",
    "vector_a = np.array([1, 2, 3])\n",
    "vector_b = np.array([4, 5, 6])\n",
    "\n",
    "# Calculate the dot product using np.dot\n",
    "dot_product = np.dot(vector_a, vector_b)\n",
    "\n",
    "dot_product"
   ]
  },
  {
   "cell_type": "markdown",
   "id": "bee3b4ac",
   "metadata": {},
   "source": [
    "* Matrix-vector multiplication\n",
    "\n",
    "* Method 1 \n",
    "$$\\begin{bmatrix}a_{11} & \\ldots & a_{1n}\\\\\\vdots & & \\vdots\\\\a_{m1}&\\ldots &a_{mn}\\end{bmatrix}\\begin{bmatrix}x_1\\\\\\vdots\\\\x_n\\end{bmatrix}=x_1\\begin{bmatrix}a_{11}\\\\\\vdots\\\\a_{m1}\\end{bmatrix}+\\ldots+x_n\\begin{bmatrix}a_{1n}\\\\\\vdots\\\\a_{mn}\\end{bmatrix}$$\n",
    "\n",
    "* Method 2\n",
    "$$\\begin{bmatrix}a_{11} & \\ldots & a_{1n}\\\\\\vdots & & \\vdots\\\\a_{m1}&\\ldots &a_{mn}\\end{bmatrix}\\begin{bmatrix}x_1\\\\\\vdots\\\\x_n\\end{bmatrix}=\\begin{bmatrix}\\sum_{i=1}^n a_{1i}x_i\\\\\\vdots\\\\\\sum_{i=1}^na_{mi}x_i\\end{bmatrix}$$"
   ]
  },
  {
   "cell_type": "code",
   "execution_count": 46,
   "id": "dac71c8b",
   "metadata": {},
   "outputs": [
    {
     "name": "stdout",
     "output_type": "stream",
     "text": [
      "[25 58]\n"
     ]
    }
   ],
   "source": [
    "A = np.array([[1,2,3],[4,5,6]])\n",
    "\n",
    "x = np.array([2,4,5]) \n",
    "\n",
    "z = np.matmul(A,x)\n",
    "\n",
    "print(z)"
   ]
  },
  {
   "cell_type": "code",
   "execution_count": 47,
   "id": "c4ac7322",
   "metadata": {},
   "outputs": [
    {
     "data": {
      "text/plain": [
       "((2, 3), (3,), (2,))"
      ]
     },
     "execution_count": 47,
     "metadata": {},
     "output_type": "execute_result"
    }
   ],
   "source": [
    "A.shape, x.shape, z.shape"
   ]
  },
  {
   "cell_type": "code",
   "execution_count": 48,
   "id": "424f7238",
   "metadata": {},
   "outputs": [
    {
     "data": {
      "text/plain": [
       "array([[1, 2, 3],\n",
       "       [4, 5, 6]])"
      ]
     },
     "execution_count": 48,
     "metadata": {},
     "output_type": "execute_result"
    }
   ],
   "source": [
    "A"
   ]
  },
  {
   "cell_type": "code",
   "execution_count": 49,
   "id": "0289b572",
   "metadata": {},
   "outputs": [
    {
     "data": {
      "text/plain": [
       "(25, 58)"
      ]
     },
     "execution_count": 49,
     "metadata": {},
     "output_type": "execute_result"
    }
   ],
   "source": [
    "# verify your result \n",
    "\n",
    "np.dot(A[0,:], x), np.dot(A[1,:], x)"
   ]
  },
  {
   "cell_type": "markdown",
   "id": "dcdf31b9",
   "metadata": {},
   "source": [
    "### Array indexing\n",
    "<hr style=\"border:2px solid gray\">\n",
    "\n",
    "* One-dimensional NumPy arrays can be accessed more or less like regular Python lists.\n"
   ]
  },
  {
   "cell_type": "code",
   "execution_count": 50,
   "id": "3dc03479",
   "metadata": {},
   "outputs": [
    {
     "data": {
      "text/plain": [
       "3"
      ]
     },
     "execution_count": 50,
     "metadata": {},
     "output_type": "execute_result"
    }
   ],
   "source": [
    "my_array = np.array([1, 2, 3, 4, 5])\n",
    "\n",
    "element = my_array[2]  # Accesses the element at index 2 \n",
    "\n",
    "element"
   ]
  },
  {
   "cell_type": "code",
   "execution_count": 51,
   "id": "90cad126",
   "metadata": {},
   "outputs": [
    {
     "data": {
      "text/plain": [
       "array([3, 4, 5])"
      ]
     },
     "execution_count": 51,
     "metadata": {},
     "output_type": "execute_result"
    }
   ],
   "source": [
    "my_array[2:]"
   ]
  },
  {
   "cell_type": "markdown",
   "id": "6dafd27b",
   "metadata": {},
   "source": [
    "* For two-Dimensional arrays, use two indices separated by a comma to access elements in a 2D array.\n"
   ]
  },
  {
   "cell_type": "code",
   "execution_count": 52,
   "id": "9ca7f343",
   "metadata": {},
   "outputs": [
    {
     "data": {
      "text/plain": [
       "array([[1, 2, 3],\n",
       "       [4, 5, 6]])"
      ]
     },
     "execution_count": 52,
     "metadata": {},
     "output_type": "execute_result"
    }
   ],
   "source": [
    "my_2d_array = np.array([[1, 2, 3], [4, 5, 6]])\n",
    "\n",
    "my_2d_array\n"
   ]
  },
  {
   "cell_type": "code",
   "execution_count": 53,
   "id": "937cd3c6",
   "metadata": {},
   "outputs": [
    {
     "data": {
      "text/plain": [
       "6"
      ]
     },
     "execution_count": 53,
     "metadata": {},
     "output_type": "execute_result"
    }
   ],
   "source": [
    "my_2d_array[1, 2]  # Accesses the element at row 1, column 2 "
   ]
  },
  {
   "cell_type": "code",
   "execution_count": 54,
   "id": "ec9a8631",
   "metadata": {},
   "outputs": [
    {
     "data": {
      "text/plain": [
       "array([[2, 3],\n",
       "       [5, 6]])"
      ]
     },
     "execution_count": 54,
     "metadata": {},
     "output_type": "execute_result"
    }
   ],
   "source": [
    "my_2d_array[:, 1:3]  # Selects columns 1 to 2 for all rows"
   ]
  },
  {
   "cell_type": "markdown",
   "id": "17f5412b",
   "metadata": {},
   "source": [
    "* In NumPy, the ellipsis (`...`) is a convenient shorthand for representing multiple colons in array slicing. It is often used when you have arrays with more than two dimensions, and you want to specify a slice along a particular dimension without explicitly writing out all the colons."
   ]
  },
  {
   "cell_type": "code",
   "execution_count": 55,
   "id": "a069d60a",
   "metadata": {},
   "outputs": [
    {
     "data": {
      "text/plain": [
       "array([[[0.15599452, 0.05808361, 0.86617615, 0.60111501, 0.70807258],\n",
       "        [0.02058449, 0.96990985, 0.83244264, 0.21233911, 0.18182497],\n",
       "        [0.18340451, 0.30424224, 0.52475643, 0.43194502, 0.29122914],\n",
       "        [0.61185289, 0.13949386, 0.29214465, 0.36636184, 0.45606998]],\n",
       "\n",
       "       [[0.78517596, 0.19967378, 0.51423444, 0.59241457, 0.04645041],\n",
       "        [0.60754485, 0.17052412, 0.06505159, 0.94888554, 0.96563203],\n",
       "        [0.80839735, 0.30461377, 0.09767211, 0.68423303, 0.44015249],\n",
       "        [0.12203823, 0.49517691, 0.03438852, 0.9093204 , 0.25877998]],\n",
       "\n",
       "       [[0.66252228, 0.31171108, 0.52006802, 0.54671028, 0.18485446],\n",
       "        [0.96958463, 0.77513282, 0.93949894, 0.89482735, 0.59789998],\n",
       "        [0.92187424, 0.0884925 , 0.19598286, 0.04522729, 0.32533033],\n",
       "        [0.38867729, 0.27134903, 0.82873751, 0.35675333, 0.28093451]]])"
      ]
     },
     "execution_count": 55,
     "metadata": {},
     "output_type": "execute_result"
    }
   ],
   "source": [
    "arr_3d = np.random.rand(3, 4, 5)\n",
    "\n",
    "arr_3d"
   ]
  },
  {
   "cell_type": "code",
   "execution_count": 56,
   "id": "97052665",
   "metadata": {},
   "outputs": [
    {
     "data": {
      "text/plain": [
       "array([[0.66252228, 0.31171108, 0.52006802, 0.54671028, 0.18485446],\n",
       "       [0.96958463, 0.77513282, 0.93949894, 0.89482735, 0.59789998],\n",
       "       [0.92187424, 0.0884925 , 0.19598286, 0.04522729, 0.32533033],\n",
       "       [0.38867729, 0.27134903, 0.82873751, 0.35675333, 0.28093451]])"
      ]
     },
     "execution_count": 56,
     "metadata": {},
     "output_type": "execute_result"
    }
   ],
   "source": [
    "slice_result = arr_3d[2, :, :]  # Without ellipsis\n",
    "\n",
    "slice_result"
   ]
  },
  {
   "cell_type": "code",
   "execution_count": 57,
   "id": "231f8fbb",
   "metadata": {},
   "outputs": [
    {
     "data": {
      "text/plain": [
       "array([[0.66252228, 0.31171108, 0.52006802, 0.54671028, 0.18485446],\n",
       "       [0.96958463, 0.77513282, 0.93949894, 0.89482735, 0.59789998],\n",
       "       [0.92187424, 0.0884925 , 0.19598286, 0.04522729, 0.32533033],\n",
       "       [0.38867729, 0.27134903, 0.82873751, 0.35675333, 0.28093451]])"
      ]
     },
     "execution_count": 57,
     "metadata": {},
     "output_type": "execute_result"
    }
   ],
   "source": [
    "ellipsis_result = arr_3d[2, ...]  # With ellipsis\n",
    "\n",
    "ellipsis_result"
   ]
  },
  {
   "cell_type": "markdown",
   "id": "f870a969",
   "metadata": {},
   "source": [
    "* Boolean indexing in NumPy involves using boolean arrays (arrays of True and False values) to index or filter elements from another array. The boolean array acts as a mask, indicating which elements from the original array should be included in the result."
   ]
  },
  {
   "cell_type": "code",
   "execution_count": 58,
   "id": "fc2c0848",
   "metadata": {},
   "outputs": [
    {
     "name": "stdout",
     "output_type": "stream",
     "text": [
      "[1 3 5]\n"
     ]
    }
   ],
   "source": [
    "arr = np.array([1, 2, 3, 4, 5])\n",
    "\n",
    "mask = np.array([True, False, True, False, True])\n",
    "\n",
    "result = arr[mask]\n",
    "\n",
    "print(result)"
   ]
  },
  {
   "cell_type": "markdown",
   "id": "870de46f",
   "metadata": {},
   "source": [
    "* Let's say you have an array and you want to select only the elements that are greater than a certain threshold."
   ]
  },
  {
   "cell_type": "code",
   "execution_count": 59,
   "id": "39dad882",
   "metadata": {},
   "outputs": [
    {
     "name": "stdout",
     "output_type": "stream",
     "text": [
      "[10 12]\n"
     ]
    }
   ],
   "source": [
    "arr = np.array([10, 5, 8, 12, 3])\n",
    "\n",
    "threshold = 8\n",
    "\n",
    "# Create a boolean array based on the condition (elements greater than the threshold)\n",
    "mask = arr > threshold\n",
    "\n",
    "# Use boolean indexing to select elements greater than the threshold\n",
    "result = arr[mask]\n",
    "\n",
    "print(result)"
   ]
  },
  {
   "cell_type": "markdown",
   "id": "90a764c2",
   "metadata": {},
   "source": [
    "### Concatenating arrays \n",
    "<hr style=\"border:2px solid gray\">\n",
    "\n",
    "* `np.concatenate` is a NumPy function used for concatenating (joining together) arrays along a specified axis. \n",
    "    * Syntax: `np.concatenate((array1, array2, ...), axis=0)`\n",
    "    * Parameters:\n",
    "\n",
    "        * arrays: Sequence of arrays to be concatenated.\n",
    "        * axis: Axis along which the arrays will be joined. Default is 0 (along rows)."
   ]
  },
  {
   "cell_type": "code",
   "execution_count": 60,
   "id": "8bcba564",
   "metadata": {},
   "outputs": [
    {
     "data": {
      "text/plain": [
       "(array([[1, 2],\n",
       "        [3, 4]]),\n",
       " array([[5, 6]]))"
      ]
     },
     "execution_count": 60,
     "metadata": {},
     "output_type": "execute_result"
    }
   ],
   "source": [
    "arr1 = np.array([[1, 2], [3, 4]])\n",
    "arr2 = np.array([[5, 6]])\n",
    "\n",
    "arr1, arr2"
   ]
  },
  {
   "cell_type": "code",
   "execution_count": 61,
   "id": "7652bf98",
   "metadata": {},
   "outputs": [
    {
     "name": "stdout",
     "output_type": "stream",
     "text": [
      "[[1 2]\n",
      " [3 4]\n",
      " [5 6]]\n"
     ]
    }
   ],
   "source": [
    "# Concatenate along rows (axis=0)\n",
    "result = np.concatenate((arr1, arr2), axis=0)\n",
    "\n",
    "print(result)"
   ]
  },
  {
   "cell_type": "markdown",
   "id": "97aa1272",
   "metadata": {},
   "source": [
    "### Saving and loading arrays \n",
    "\n",
    "<hr style=\"border:2px solid gray\">\n",
    "\n",
    "* The functions `np.savetxt` and `np.loadtxt` in NumPy are used for saving and loading arrays to and from text files, respectively.\n",
    "    * Syntax: `np.savetxt(fname, arr)`\n",
    "    * Parameters:\n",
    "        * fname: File name or file object where the data will be saved.\n",
    "        * arr: Array or data to be saved."
   ]
  },
  {
   "cell_type": "code",
   "execution_count": 62,
   "id": "d0ff11b9",
   "metadata": {},
   "outputs": [
    {
     "data": {
      "text/plain": [
       "array([[1., 2., 3.],\n",
       "       [4., 5., 6.]])"
      ]
     },
     "execution_count": 62,
     "metadata": {},
     "output_type": "execute_result"
    }
   ],
   "source": [
    "arr = np.array([[1., 2, 3], [4, 5, 6]])\n",
    "\n",
    "arr"
   ]
  },
  {
   "cell_type": "code",
   "execution_count": 63,
   "id": "7571d5a1",
   "metadata": {},
   "outputs": [
    {
     "data": {
      "text/plain": [
       "array([[1., 2., 3.],\n",
       "       [4., 5., 6.]])"
      ]
     },
     "execution_count": 63,
     "metadata": {},
     "output_type": "execute_result"
    }
   ],
   "source": [
    "# Save to a text file\n",
    "np.savetxt('my_array.txt', arr)\n",
    "\n",
    "# Load from a text file\n",
    "loaded_arr = np.loadtxt('my_array.txt')\n",
    "\n",
    "loaded_arr"
   ]
  },
  {
   "cell_type": "markdown",
   "id": "d8703de1",
   "metadata": {},
   "source": [
    "### HW 3"
   ]
  },
  {
   "cell_type": "markdown",
   "id": "e31d1038",
   "metadata": {},
   "source": [
    "1. Consider the following Numpy array. Write a Python code that finds the count of zero elements in the array."
   ]
  },
  {
   "cell_type": "code",
   "execution_count": null,
   "id": "1573462b",
   "metadata": {},
   "outputs": [],
   "source": [
    "arr = np.array([0, 5, 0, 3, 7, 0, 8, 0, 2])\n"
   ]
  },
  {
   "cell_type": "markdown",
   "id": "9bc95603",
   "metadata": {},
   "source": [
    "2. Given a 2D Numpy array, write a Python code that takes the org_array and returns a new array with a border of 0s around it. The border should consist of 0s on all sides (shown below)."
   ]
  },
  {
   "cell_type": "code",
   "execution_count": null,
   "id": "dc2c2af9",
   "metadata": {},
   "outputs": [],
   "source": [
    "org_arr = np.array([[1, 2, 3],\n",
    "                   [4, 5, 6],\n",
    "                   [7, 8, 9]])\n",
    "\n",
    "desired_arr = np.array(\n",
    "       [[0, 0, 0, 0, 0],\n",
    "       [0, 1, 2, 3, 0],\n",
    "       [0, 4, 5, 6, 0],\n",
    "       [0, 7, 8, 9, 0],\n",
    "       [0, 0, 0, 0, 0]])\n",
    "\n",
    "print(f\"Your solution should be:\\n {desired_arr}\" )"
   ]
  },
  {
   "cell_type": "markdown",
   "id": "067ea869",
   "metadata": {},
   "source": [
    "3. Create a 2×4 zero array. Change the second column in the array to 1."
   ]
  },
  {
   "cell_type": "markdown",
   "id": "4c3a40b8",
   "metadata": {},
   "source": [
    "4. Given a NumPy array `arr`, devise a solution to find the value that occurs most frequently in the array using `np.unique()`: https://numpy.org/doc/stable/reference/generated/numpy.unique.html."
   ]
  },
  {
   "cell_type": "code",
   "execution_count": null,
   "id": "19fca5e5",
   "metadata": {},
   "outputs": [],
   "source": [
    "arr = np.array([1, 2, 2, 3, 3, 3, 4, 4, 4, 4])\n"
   ]
  },
  {
   "cell_type": "markdown",
   "id": "404ca931",
   "metadata": {},
   "source": [
    "5. Given a 2D NumPy array `matrix`, find the sums of each row and each column in two separate arrays: `sums_of_rows` and `sums_of_columns`. "
   ]
  },
  {
   "cell_type": "code",
   "execution_count": null,
   "id": "24e363a0",
   "metadata": {},
   "outputs": [],
   "source": [
    "matrix = np.array([[2, 4, 6],\n",
    "                   [1, 3, 5],\n",
    "                   [7, 8, 9],\n",
    "                   [10, 11, 12]])\n",
    "\n",
    "matrix"
   ]
  },
  {
   "cell_type": "markdown",
   "id": "8a5cf46f",
   "metadata": {},
   "source": [
    "6. Write down the shapes of `matrix`, `sums_of_rows`, and `sums_of_columns`. "
   ]
  },
  {
   "cell_type": "markdown",
   "id": "898c7b87",
   "metadata": {},
   "source": [
    "7. Consider two NumPy arrays, `array1` and `array2`, both of length `n`. Your task is to write a Python code that generates a new 2D NumPy array with rows containing all possible combinations of elements from `array1` and `array2`. To solve this problem, `np.repeat` and `np.tile` are useful NumPy functions. \n",
    "    * `np.repeat(array, reps)` repeats each element of the array a specified number of times: https://numpy.org/doc/stable/reference/generated/numpy.repeat.html. \n",
    "    * `np.tile(array, reps)` constructs an array by repeating the entire array a specified number of times: https://numpy.org/doc/stable/reference/generated/numpy.tile.html."
   ]
  },
  {
   "cell_type": "code",
   "execution_count": null,
   "id": "0a9f8600",
   "metadata": {},
   "outputs": [],
   "source": [
    "array1 = np.array([1, 2])\n",
    "\n",
    "array2 = np.array([3, 4])"
   ]
  },
  {
   "cell_type": "markdown",
   "id": "82565019",
   "metadata": {},
   "source": [
    "8. Write a Python code to get the common items between two python numpy arrays `a` and `b`?"
   ]
  },
  {
   "cell_type": "code",
   "execution_count": null,
   "id": "201b6843",
   "metadata": {},
   "outputs": [],
   "source": [
    "a = np.array([1,2,3,2,3,4,3,4,5,6])\n",
    "\n",
    "b = np.array([7,2,10,2,7,4,9,4,9,8])"
   ]
  },
  {
   "cell_type": "markdown",
   "id": "e57ad69f",
   "metadata": {},
   "source": [
    "9. Write a Python code to normalize the following array so the values range exactly between 0 and 1? Min-max scaling is a normalization technique used to scale and transform the values of a dataset into a specific range, usually between 0 and 1. The formula for min-max scaling is:\n",
    "$$X_{\\text{scaled}} = \\frac{X - X_{\\text{min}}}{X_{\\text{max}} - X_{\\text{min}}}\n",
    "$$"
   ]
  },
  {
   "cell_type": "code",
   "execution_count": null,
   "id": "e8f610e4",
   "metadata": {},
   "outputs": [],
   "source": [
    "unnormalized_arr = np.array([3, 2, 8, 9, 1, 4])"
   ]
  },
  {
   "cell_type": "markdown",
   "id": "afadc753",
   "metadata": {},
   "source": [
    "10. You have a list of exam scores. Create a new NumPy array called `result` such that for each score, if it's greater than or equal to 60, assign the corresponding value in `result` as \"Pass\", otherwise assign it as \"Fail\". `np.where` is a NumPy function that returns the indices of elements in an input array that satisfy a specified condition (https://numpy.org/doc/stable/reference/generated/numpy.where.html)."
   ]
  },
  {
   "cell_type": "code",
   "execution_count": null,
   "id": "37ed2164",
   "metadata": {},
   "outputs": [],
   "source": [
    "exam_scores = np.array([75, 48, 90, 30, 65, 80])\n"
   ]
  },
  {
   "cell_type": "code",
   "execution_count": null,
   "id": "6b6760be",
   "metadata": {},
   "outputs": [],
   "source": []
  }
 ],
 "metadata": {
  "kernelspec": {
   "display_name": "Python 3 (ipykernel)",
   "language": "python",
   "name": "python3"
  },
  "language_info": {
   "codemirror_mode": {
    "name": "ipython",
    "version": 3
   },
   "file_extension": ".py",
   "mimetype": "text/x-python",
   "name": "python",
   "nbconvert_exporter": "python",
   "pygments_lexer": "ipython3",
   "version": "3.10.9"
  }
 },
 "nbformat": 4,
 "nbformat_minor": 5
}
