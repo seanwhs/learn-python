{
 "cells": [
  {
   "cell_type": "markdown",
   "id": "4367dde8",
   "metadata": {},
   "source": [
    "\n",
    "## Programming for Data Science\n",
    "\n",
    "### Lecture 9: Modules and Packages\n",
    "\n",
    "### Instructor: Farhad Pourkamali \n",
    "\n",
    "\n",
    "[![Open In Colab](https://colab.research.google.com/assets/colab-badge.svg)](https://colab.research.google.com/github/farhad-pourkamali/CUSucceedProgrammingForDataScience/blob/main/Lecture9_ModulesPackages.ipynb)\n"
   ]
  },
  {
   "cell_type": "markdown",
   "id": "f4a913ca",
   "metadata": {},
   "source": [
    "### Introduction\n",
    "<hr style=\"border:2px solid gray\">\n",
    "\n",
    "* In Python, `functions`, `modules`, and `packages` are essential constructs that facilitate code modularization, promoting code reuse, maintainability, and readability in large and complex projects.\n",
    "\n",
    "* Functions\n",
    "    * Functions in Python are blocks of reusable code that perform a specific task.\n",
    "    * They are defined using the `def` keyword followed by a function name, parameters, and a block of code."
   ]
  },
  {
   "cell_type": "code",
   "execution_count": 1,
   "id": "ffd8ab39",
   "metadata": {},
   "outputs": [],
   "source": [
    "def is_prime(num):\n",
    "    \"\"\"\n",
    "    Check if a given number is prime.\n",
    "    \n",
    "    A prime number is a number that has exactly two distinct positive divisors: 1 and itself.\n",
    "\n",
    "    Parameters:\n",
    "    - num (int): The input number to check.\n",
    "\n",
    "    Returns:\n",
    "    - bool: True if the number is prime, False otherwise.\n",
    "    \"\"\"\n",
    "    \n",
    "    foundPrimes = range(2, int(num**0.5)+1)\n",
    "    \n",
    "    for factor in foundPrimes:\n",
    "        if num % factor == 0:\n",
    "            return False\n",
    "        \n",
    "    return True "
   ]
  },
  {
   "cell_type": "code",
   "execution_count": 2,
   "id": "1b30c5ca",
   "metadata": {},
   "outputs": [
    {
     "name": "stdout",
     "output_type": "stream",
     "text": [
      "True False False True\n"
     ]
    }
   ],
   "source": [
    "print(is_prime(3), is_prime(4), is_prime(9), is_prime(11))"
   ]
  },
  {
   "cell_type": "code",
   "execution_count": 3,
   "id": "d03fe193",
   "metadata": {},
   "outputs": [],
   "source": [
    "def list_primes(num_max):\n",
    "    \"\"\"\n",
    "    Generate a list of prime numbers up to a specified maximum.\n",
    "\n",
    "    This function iterates through all numbers from 2 up to (but not including) the specified maximum number. \n",
    "    \n",
    "    Parameters:\n",
    "    - num_max (int): The upper limit (exclusive) for checking prime numbers. \n",
    "\n",
    "    Returns:\n",
    "    - list: A list of prime numbers less than `num_max`.\n",
    "    \n",
    "    \"\"\"\n",
    "    \n",
    "    my_list = []\n",
    "    \n",
    "    for num in range(2, num_max):\n",
    "        if is_prime(num):\n",
    "            my_list.append(num)\n",
    "            \n",
    "    return my_list "
   ]
  },
  {
   "cell_type": "code",
   "execution_count": 4,
   "id": "407fc1b4",
   "metadata": {},
   "outputs": [
    {
     "data": {
      "text/plain": [
       "[2, 3, 5, 7, 11, 13, 17, 19]"
      ]
     },
     "execution_count": 4,
     "metadata": {},
     "output_type": "execute_result"
    }
   ],
   "source": [
    "list_primes(20)"
   ]
  },
  {
   "cell_type": "markdown",
   "id": "36fad178",
   "metadata": {},
   "source": [
    "### Restart Kernel\n",
    "\n",
    "Click on the \"Kernel\" menu above and select \"Restart & Clear Output.\""
   ]
  },
  {
   "cell_type": "markdown",
   "id": "e453d1c9",
   "metadata": {},
   "source": [
    "* Modules\n",
    "    * A module is a file containing Python code, including variables, functions, and classes.\n",
    "    * They allow organizing code into separate files for better maintainability.\n",
    "    * Modules can be reused across different parts of a project or in other projects.\n",
    "    * Create a module named `primes.py`.\n",
    "    * When the interpreter executes the `import primes` statement, it searches for `primes.py`."
   ]
  },
  {
   "cell_type": "code",
   "execution_count": 5,
   "id": "0e06d9a0",
   "metadata": {},
   "outputs": [],
   "source": [
    "import primes"
   ]
  },
  {
   "cell_type": "markdown",
   "id": "4008d162",
   "metadata": {},
   "source": [
    "* Note that `import primes` does not make the module contents directly accessible."
   ]
  },
  {
   "cell_type": "code",
   "execution_count": 6,
   "id": "d1bbd82e",
   "metadata": {},
   "outputs": [
    {
     "name": "stdout",
     "output_type": "stream",
     "text": [
      "False\n"
     ]
    }
   ],
   "source": [
    "print(is_prime(4))"
   ]
  },
  {
   "cell_type": "markdown",
   "id": "803007ae",
   "metadata": {},
   "source": [
    "* The module contents are only accessible when prefixed with `primes` via dot notation."
   ]
  },
  {
   "cell_type": "code",
   "execution_count": 7,
   "id": "c5050155",
   "metadata": {},
   "outputs": [
    {
     "name": "stdout",
     "output_type": "stream",
     "text": [
      "False\n"
     ]
    }
   ],
   "source": [
    "print(primes.is_prime(4))"
   ]
  },
  {
   "cell_type": "markdown",
   "id": "ba715d9f",
   "metadata": {},
   "source": [
    "* The `from <module_name> import <name(s)>` syntax in Python is used to import specific names (functions, classes, or variables) directly. This allows you to use those names without referencing the module they belong to."
   ]
  },
  {
   "cell_type": "code",
   "execution_count": 8,
   "id": "087b4978",
   "metadata": {},
   "outputs": [
    {
     "name": "stdout",
     "output_type": "stream",
     "text": [
      "False\n"
     ]
    }
   ],
   "source": [
    "from primes import is_prime\n",
    "\n",
    "print(is_prime(4))"
   ]
  },
  {
   "cell_type": "markdown",
   "id": "a85ca1f3",
   "metadata": {},
   "source": [
    "* This syntax allows you to import all names (functions, classes, and variables) from a module:\n",
    "\n",
    "```\n",
    "from module_name import *\n",
    "\n",
    "```\n",
    "\n",
    "* This isn’t necessarily recommended in large-scale production code."
   ]
  },
  {
   "cell_type": "code",
   "execution_count": 9,
   "id": "ce3ce1c0",
   "metadata": {},
   "outputs": [
    {
     "name": "stdout",
     "output_type": "stream",
     "text": [
      "False [2, 3, 5, 7]\n"
     ]
    }
   ],
   "source": [
    "from primes import *\n",
    "\n",
    "print(is_prime(4), list_primes(10))"
   ]
  },
  {
   "cell_type": "markdown",
   "id": "04625dfa",
   "metadata": {},
   "source": [
    "### The time module\n",
    "\n",
    "* The `time` module in Python provides various time-related functions, allowing you to work with time values and perform operations such as measuring time intervals, formatting time, and pausing the execution of a program."
   ]
  },
  {
   "cell_type": "code",
   "execution_count": 10,
   "id": "92046bd6",
   "metadata": {},
   "outputs": [
    {
     "data": {
      "text/plain": [
       "module"
      ]
     },
     "execution_count": 10,
     "metadata": {},
     "output_type": "execute_result"
    }
   ],
   "source": [
    "import time\n",
    "\n",
    "type(time)"
   ]
  },
  {
   "cell_type": "markdown",
   "id": "d7d4d472",
   "metadata": {},
   "source": [
    "* The `process_time()` function in the `time` module is useful for measuring the `CPU time` consumed by a specific process.\n",
    "\n",
    "* To utilize `process_time`, begin by invoking the function and assigning the result to a variable, let's say `t0`, just before initiating the execution of the code.\n",
    "\n",
    "* Subsequently, after the execution, invoke `process_time` again (saving the result in a variable, `t1`). \n",
    "\n",
    "* The disparity `t1 - t0` represents the elapsed time and serves as a metric to gauge the efficiency of your program's execution speed.\n"
   ]
  },
  {
   "cell_type": "code",
   "execution_count": 11,
   "id": "69f09d7c",
   "metadata": {},
   "outputs": [
    {
     "name": "stdout",
     "output_type": "stream",
     "text": [
      "Elapsed Process Time: 1.566\n"
     ]
    }
   ],
   "source": [
    "# Start measuring process time\n",
    "start_process_time = time.process_time()\n",
    "\n",
    "# Code to measure (e.g., some CPU-intensive computation)\n",
    "for num in range(10**7):\n",
    "    num_sq = num ** 2\n",
    "\n",
    "# Stop measuring process time\n",
    "end_process_time = time.process_time()\n",
    "\n",
    "# Calculate elapsed process time\n",
    "elapsed_process_time = end_process_time - start_process_time\n",
    "\n",
    "print(f\"Elapsed Process Time: {elapsed_process_time:0.3f}\")"
   ]
  },
  {
   "cell_type": "markdown",
   "id": "ed7855d9",
   "metadata": {},
   "source": [
    "### The math module \n",
    "\n",
    "* The `math` module in Python provides a set of mathematical functions for performing operations related to mathematics. \n",
    "\n",
    "* These functions cover a wide range of mathematical operations, including basic arithmetic, trigonometry, logarithms, exponentiation, and more. "
   ]
  },
  {
   "cell_type": "code",
   "execution_count": 12,
   "id": "2af663c4",
   "metadata": {},
   "outputs": [
    {
     "data": {
      "text/plain": [
       "module"
      ]
     },
     "execution_count": 12,
     "metadata": {},
     "output_type": "execute_result"
    }
   ],
   "source": [
    "import math \n",
    "\n",
    "type(math)"
   ]
  },
  {
   "cell_type": "code",
   "execution_count": 13,
   "id": "b5c65a45",
   "metadata": {},
   "outputs": [
    {
     "name": "stdout",
     "output_type": "stream",
     "text": [
      "Square Root: 5.0\n",
      "Sine of 30 degrees: 0.49999999999999994\n",
      "Factorial of 5: 120\n"
     ]
    }
   ],
   "source": [
    "import math\n",
    "\n",
    "# Calculate the square root\n",
    "sqrt_result = math.sqrt(25)\n",
    "\n",
    "# Calculate the sine of 30 degrees\n",
    "sin_result = math.sin(math.radians(30))\n",
    "\n",
    "# Calculate the factorial of 5\n",
    "factorial_result = math.factorial(5)\n",
    "\n",
    "print(\"Square Root:\", sqrt_result)\n",
    "print(\"Sine of 30 degrees:\", sin_result)\n",
    "print(\"Factorial of 5:\", factorial_result)\n"
   ]
  },
  {
   "cell_type": "markdown",
   "id": "18e8d0d3",
   "metadata": {},
   "source": [
    "### The os module\n",
    "* The `os` module provides a way of interacting with the operating system.\n",
    "\n",
    "* It includes functions for file and directory manipulation, environment variables, and more."
   ]
  },
  {
   "cell_type": "code",
   "execution_count": 14,
   "id": "b2dac34d",
   "metadata": {},
   "outputs": [
    {
     "name": "stdout",
     "output_type": "stream",
     "text": [
      "/Users/farhad/Library/CloudStorage/OneDrive-TheUniversityofColoradoDenver/Teaching/2024_spring/MATH1376/Lectures\n"
     ]
    }
   ],
   "source": [
    "import os\n",
    "\n",
    "current_directory = os.getcwd()\n",
    "\n",
    "print(current_directory)  \n"
   ]
  },
  {
   "cell_type": "markdown",
   "id": "72ff3456",
   "metadata": {},
   "source": [
    "### The NumPy random module\n",
    "\n",
    "* `numpy.random` is a module within the NumPy package for generating random numbers. \n",
    "* It includes various distributions (uniform, normal, etc.) and functions for random sampling, permutation, and seed generation. "
   ]
  },
  {
   "cell_type": "code",
   "execution_count": 15,
   "id": "b4654884",
   "metadata": {},
   "outputs": [
    {
     "data": {
      "text/plain": [
       "module"
      ]
     },
     "execution_count": 15,
     "metadata": {},
     "output_type": "execute_result"
    }
   ],
   "source": [
    "import numpy.random \n",
    "\n",
    "type(numpy.random)"
   ]
  },
  {
   "cell_type": "code",
   "execution_count": 16,
   "id": "c7ea29a9",
   "metadata": {},
   "outputs": [
    {
     "name": "stdout",
     "output_type": "stream",
     "text": [
      "Random Numbers: [-0.45729927  0.1953599  -0.31408132 -0.09394116 -1.47712394]\n"
     ]
    }
   ],
   "source": [
    "# Generate an array of 5 random numbers from a standard normal distribution\n",
    "random_numbers = numpy.random.randn(5)\n",
    "\n",
    "print(\"Random Numbers:\", random_numbers)\n"
   ]
  },
  {
   "cell_type": "markdown",
   "id": "b187314f",
   "metadata": {},
   "source": [
    "* Packages\n",
    "\n",
    "    *  In Python, a package is a way of organizing related `modules` into a single directory hierarchy.\n",
    "    * A package can contain sub-packages, modules, and even other packages.\n",
    "    * It helps in organizing and structuring large codebases.\n",
    "    \n",
    "* Importing modules within packages in Python involves specifying the module's path relative to the package. Here are several possible syntaxes.\n",
    "\n",
    "    1. Import a module directly from the package using its absolute path.\n",
    "    ```\n",
    "    from package_name import module_name\n",
    "\n",
    "    ```"
   ]
  },
  {
   "cell_type": "code",
   "execution_count": 17,
   "id": "dd33489d",
   "metadata": {},
   "outputs": [
    {
     "data": {
      "text/plain": [
       "array([-0.29447578,  0.90756962, -0.29821876,  0.22940491,  0.30447027])"
      ]
     },
     "execution_count": 17,
     "metadata": {},
     "output_type": "execute_result"
    }
   ],
   "source": [
    "from numpy import random \n",
    "\n",
    "random.randn(5)"
   ]
  },
  {
   "cell_type": "markdown",
   "id": "90608aae",
   "metadata": {},
   "source": [
    "2. Import a module with an alias.\n",
    "```\n",
    "from package_name import module_name as alias_name\n",
    "\n",
    "```"
   ]
  },
  {
   "cell_type": "code",
   "execution_count": 18,
   "id": "5e7944b9",
   "metadata": {},
   "outputs": [
    {
     "data": {
      "text/plain": [
       "array([ 0.14908361, -0.0727114 , -0.34022533,  1.41234252, -0.35403399])"
      ]
     },
     "execution_count": 18,
     "metadata": {},
     "output_type": "execute_result"
    }
   ],
   "source": [
    "from numpy import random as rdm\n",
    "\n",
    "rdm.randn(5)"
   ]
  },
  {
   "cell_type": "markdown",
   "id": "eadab8cb",
   "metadata": {},
   "source": [
    "3. Import specific names from a module within the package.\n",
    "```\n",
    "from package_name.module_name import name1, name2\n",
    "\n",
    "```"
   ]
  },
  {
   "cell_type": "code",
   "execution_count": 19,
   "id": "aaf6bb98",
   "metadata": {},
   "outputs": [
    {
     "data": {
      "text/plain": [
       "array([ 0.5812908 , -1.6451087 , -0.15608294, -2.69660932,  0.30348029])"
      ]
     },
     "execution_count": 19,
     "metadata": {},
     "output_type": "execute_result"
    }
   ],
   "source": [
    "from numpy.random import randn\n",
    "\n",
    "randn(5)"
   ]
  },
  {
   "cell_type": "markdown",
   "id": "dea7161b",
   "metadata": {},
   "source": [
    "### scikit-learn Overview"
   ]
  },
  {
   "cell_type": "markdown",
   "id": "5370dfb7",
   "metadata": {},
   "source": [
    "* scikit-learn (sklearn):\n",
    "\n",
    "    * scikit-learn is a machine learning library in Python that provides tools for data analysis and modeling.\n",
    "    * It is built on NumPy, SciPy, and Matplotlib, and it is designed to be user-friendly and efficient.\n",
    "    * scikit-learn offers a wide range of machine learning algorithms for classification, regression, clustering, dimensionality reduction, and more.\n",
    "    * It follows a consistent API design, making it easy to use and switch between different algorithms.\n",
    "    * The library includes `modules` for data preprocessing, model evaluation, and model selection.\n",
    "    \n",
    "* The `linear_model` Module\n",
    "    * The `linear_model` module in scikit-learn focuses on linear models for regression and classification."
   ]
  },
  {
   "cell_type": "code",
   "execution_count": 20,
   "id": "c10b1be0",
   "metadata": {},
   "outputs": [
    {
     "name": "stdout",
     "output_type": "stream",
     "text": [
      "Coefficients: [2.]\n",
      "Predictions: [8.]\n"
     ]
    }
   ],
   "source": [
    "import numpy as np \n",
    "\n",
    "from sklearn.linear_model import LinearRegression\n",
    "\n",
    "# Example data\n",
    "X = np.array([[1], [2], [3]])\n",
    "y = np.array([2, 4, 6])\n",
    "\n",
    "# Create a linear regression model\n",
    "model = LinearRegression(fit_intercept=False)\n",
    "\n",
    "# Train the model\n",
    "model.fit(X, y)\n",
    "\n",
    "# Make predictions\n",
    "predictions = model.predict([[4]])\n",
    "\n",
    "# Get coefficients\n",
    "coefficients = model.coef_\n",
    "\n",
    "print(\"Coefficients:\", coefficients)\n",
    "\n",
    "print(\"Predictions:\", predictions)"
   ]
  },
  {
   "cell_type": "markdown",
   "id": "53f71165",
   "metadata": {},
   "source": [
    "### HW 9"
   ]
  },
  {
   "cell_type": "markdown",
   "id": "3c671945",
   "metadata": {},
   "source": [
    "1. Create a Python `module` named `math_operations.py`. Inside the module, define three functions:\n",
    "    * `add_numbers(a, b)`: Takes two numbers, a and b, and returns their sum.\n",
    "    * `multiply_numbers(a, b)`: Takes two numbers, a and b, and returns their product.\n",
    "    * `power_of_two(n)`: Takes a number n and returns its square.\n",
    "\n",
    "Import the module `math_operations` into this notebook. Use the functions from the module to \n",
    "add two numbers and print the result, multiply two numbers and print the result, and\n",
    "calculate the square of a number and print the result.\n"
   ]
  },
  {
   "cell_type": "code",
   "execution_count": null,
   "id": "05345440",
   "metadata": {},
   "outputs": [],
   "source": []
  },
  {
   "cell_type": "markdown",
   "id": "de0687d0",
   "metadata": {},
   "source": [
    "2. Given a 1D numpy array containing random floating-point numbers, apply min-max scaling to transform all the elements of the array so that they fall within the range of 0 to 1.\n",
    "\n",
    "* Import the `preprocessing` module from `sklearn`.\n",
    "* Initialize a `MinMaxScaler` object with the feature range set to (0, 1).\n",
    "* Reshape the given 1D numpy array to 2D since `MinMaxScaler` expects a 2D array. You can use the `.reshape(-1, 1)` method for this purpose.\n",
    "* `Fit` the scaler to the data and then `transform` the data using the scaler.\n",
    "* Convert the scaled data back to a 1D numpy array.\n",
    "* Print the original array and the scaled array to show the transformation.\n",
    "\n",
    "https://scikit-learn.org/stable/modules/generated/sklearn.preprocessing.MinMaxScaler.html"
   ]
  },
  {
   "cell_type": "code",
   "execution_count": null,
   "id": "9b215489",
   "metadata": {},
   "outputs": [],
   "source": [
    "import numpy as np\n",
    "\n",
    "# Given 1D numpy array\n",
    "original_array = np.array([34, 47, 22, 15, 63, 55])\n"
   ]
  },
  {
   "cell_type": "code",
   "execution_count": null,
   "id": "0be7a810",
   "metadata": {},
   "outputs": [],
   "source": []
  },
  {
   "cell_type": "markdown",
   "id": "5446d8fc",
   "metadata": {},
   "source": [
    "3. Outliers are observations that lie an abnormal distance from other values in a random sample from a population. In a sense, they can significantly skew your data, leading to inaccurate analyses and interpretations. The Interquartile Range (IQR) method is a simple yet effective way to detect outliers, relying on quartile measures that are resistant to the extreme values.\n",
    "\n",
    "* Import the necessary `numpy` library for data handling.\n",
    "* Generate a 1D numpy array with 100 random elements to represent your dataset.\n",
    "\n",
    "* Quartile Calculation:\n",
    "\n",
    "    * Calculate the first quartile (Q1) and third quartile (Q3) of your dataset. These represent the 25th and 75th percentiles, respectively.\n",
    "    * Interquartile Range Computation: Determine the Interquartile Range (IQR) by subtracting Q1 from Q3. The IQR represents the middle 50% of your data and is used to gauge the dataset's spread.\n",
    "    \n",
    "* Outlier Identification:\n",
    "\n",
    "    * Define outliers as those points that fall below Q1 - 1.5 * IQR or above Q3 + 1.5 * IQR. Identify and print these outlier values from your dataset."
   ]
  },
  {
   "cell_type": "code",
   "execution_count": null,
   "id": "72bb8187",
   "metadata": {},
   "outputs": [],
   "source": [
    "import numpy as np\n",
    "\n",
    "# do not change the seed\n",
    "np.random.seed(31)\n",
    "\n",
    "data = np.random.randn(100)\n",
    "\n",
    "data"
   ]
  },
  {
   "cell_type": "code",
   "execution_count": null,
   "id": "aa843434",
   "metadata": {},
   "outputs": [],
   "source": []
  }
 ],
 "metadata": {
  "kernelspec": {
   "display_name": "Python 3 (ipykernel)",
   "language": "python",
   "name": "python3"
  },
  "language_info": {
   "codemirror_mode": {
    "name": "ipython",
    "version": 3
   },
   "file_extension": ".py",
   "mimetype": "text/x-python",
   "name": "python",
   "nbconvert_exporter": "python",
   "pygments_lexer": "ipython3",
   "version": "3.10.9"
  }
 },
 "nbformat": 4,
 "nbformat_minor": 5
}
