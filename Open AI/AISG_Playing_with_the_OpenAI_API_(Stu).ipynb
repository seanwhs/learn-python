{
  "nbformat": 4,
  "nbformat_minor": 0,
  "metadata": {
    "colab": {
      "provenance": []
    },
    "kernelspec": {
      "name": "python3",
      "display_name": "Python 3"
    },
    "language_info": {
      "name": "python"
    }
  },
  "cells": [
    {
      "cell_type": "markdown",
      "source": [
        "# **Setting Up**\n",
        "---"
      ],
      "metadata": {
        "id": "bRMVusp91Uw3"
      }
    },
    {
      "cell_type": "markdown",
      "source": [
        "**OA-1: Installing the necessary packages**"
      ],
      "metadata": {
        "id": "Kz2jm3ll1awO"
      }
    },
    {
      "cell_type": "markdown",
      "source": [
        "The Python Package Index serves as a platform for developers to upload and share software developed by their companies and individuals with the Python community"
      ],
      "metadata": {
        "id": "cKRGONE41d5D"
      }
    },
    {
      "cell_type": "markdown",
      "source": [
        "In this case, we will be using the openai package which gives us the ability to connect to models such as \"`gpt-3.5`\" & \"`gpt-4`\" which is the model we talk to in the ChatGPT interface"
      ],
      "metadata": {
        "id": "wlbx12ue2Eeq"
      }
    },
    {
      "cell_type": "markdown",
      "source": [
        "To install the required Python Packages for development, we will use `pip` which is the package installer for Python"
      ],
      "metadata": {
        "id": "lWpznKIO2i_Q"
      }
    },
    {
      "cell_type": "code",
      "execution_count": null,
      "metadata": {
        "id": "5QpEUuqxtDVM",
        "colab": {
          "base_uri": "https://localhost:8080/"
        },
        "outputId": "d19e209f-f776-4ec8-af5f-ff41040878a8"
      },
      "outputs": [
        {
          "output_type": "stream",
          "name": "stdout",
          "text": [
            "\u001b[2K     \u001b[90m━━━━━━━━━━━━━━━━━━━━━━━━━━━━━━━━━━━━━━━━\u001b[0m \u001b[32m227.4/227.4 kB\u001b[0m \u001b[31m5.3 MB/s\u001b[0m eta \u001b[36m0:00:00\u001b[0m\n",
            "\u001b[2K     \u001b[90m━━━━━━━━━━━━━━━━━━━━━━━━━━━━━━━━━━━━━━━━\u001b[0m \u001b[32m52.0/52.0 kB\u001b[0m \u001b[31m6.8 MB/s\u001b[0m eta \u001b[36m0:00:00\u001b[0m\n",
            "\u001b[2K     \u001b[90m━━━━━━━━━━━━━━━━━━━━━━━━━━━━━━━━━━━━━━━━\u001b[0m \u001b[32m1.8/1.8 MB\u001b[0m \u001b[31m57.8 MB/s\u001b[0m eta \u001b[36m0:00:00\u001b[0m\n",
            "\u001b[2K     \u001b[90m━━━━━━━━━━━━━━━━━━━━━━━━━━━━━━━━━━━━━━━━\u001b[0m \u001b[32m75.6/75.6 kB\u001b[0m \u001b[31m10.7 MB/s\u001b[0m eta \u001b[36m0:00:00\u001b[0m\n",
            "\u001b[2K     \u001b[90m━━━━━━━━━━━━━━━━━━━━━━━━━━━━━━━━━━━━━━━━\u001b[0m \u001b[32m3.1/3.1 MB\u001b[0m \u001b[31m54.0 MB/s\u001b[0m eta \u001b[36m0:00:00\u001b[0m\n",
            "\u001b[2K     \u001b[90m━━━━━━━━━━━━━━━━━━━━━━━━━━━━━━━━━━━━━━━━\u001b[0m \u001b[32m77.8/77.8 kB\u001b[0m \u001b[31m9.7 MB/s\u001b[0m eta \u001b[36m0:00:00\u001b[0m\n",
            "\u001b[2K     \u001b[90m━━━━━━━━━━━━━━━━━━━━━━━━━━━━━━━━━━━━━━━━\u001b[0m \u001b[32m58.3/58.3 kB\u001b[0m \u001b[31m7.3 MB/s\u001b[0m eta \u001b[36m0:00:00\u001b[0m\n",
            "\u001b[?25h"
          ]
        }
      ],
      "source": [
        "!pip install -q openai cohere tiktoken"
      ]
    },
    {
      "cell_type": "code",
      "source": [
        "!pip install IPython"
      ],
      "metadata": {
        "colab": {
          "base_uri": "https://localhost:8080/"
        },
        "id": "k1TDZgxnQhMv",
        "outputId": "dc68b10e-d6bb-45b2-fa28-ce473dadab22"
      },
      "execution_count": null,
      "outputs": [
        {
          "output_type": "stream",
          "name": "stdout",
          "text": [
            "Requirement already satisfied: IPython in /usr/local/lib/python3.10/dist-packages (7.34.0)\n",
            "Requirement already satisfied: setuptools>=18.5 in /usr/local/lib/python3.10/dist-packages (from IPython) (67.7.2)\n",
            "Collecting jedi>=0.16 (from IPython)\n",
            "  Downloading jedi-0.19.1-py2.py3-none-any.whl (1.6 MB)\n",
            "\u001b[2K     \u001b[90m━━━━━━━━━━━━━━━━━━━━━━━━━━━━━━━━━━━━━━━━\u001b[0m \u001b[32m1.6/1.6 MB\u001b[0m \u001b[31m24.7 MB/s\u001b[0m eta \u001b[36m0:00:00\u001b[0m\n",
            "\u001b[?25hRequirement already satisfied: decorator in /usr/local/lib/python3.10/dist-packages (from IPython) (4.4.2)\n",
            "Requirement already satisfied: pickleshare in /usr/local/lib/python3.10/dist-packages (from IPython) (0.7.5)\n",
            "Requirement already satisfied: traitlets>=4.2 in /usr/local/lib/python3.10/dist-packages (from IPython) (5.7.1)\n",
            "Requirement already satisfied: prompt-toolkit!=3.0.0,!=3.0.1,<3.1.0,>=2.0.0 in /usr/local/lib/python3.10/dist-packages (from IPython) (3.0.43)\n",
            "Requirement already satisfied: pygments in /usr/local/lib/python3.10/dist-packages (from IPython) (2.16.1)\n",
            "Requirement already satisfied: backcall in /usr/local/lib/python3.10/dist-packages (from IPython) (0.2.0)\n",
            "Requirement already satisfied: matplotlib-inline in /usr/local/lib/python3.10/dist-packages (from IPython) (0.1.6)\n",
            "Requirement already satisfied: pexpect>4.3 in /usr/local/lib/python3.10/dist-packages (from IPython) (4.9.0)\n",
            "Requirement already satisfied: parso<0.9.0,>=0.8.3 in /usr/local/lib/python3.10/dist-packages (from jedi>=0.16->IPython) (0.8.3)\n",
            "Requirement already satisfied: ptyprocess>=0.5 in /usr/local/lib/python3.10/dist-packages (from pexpect>4.3->IPython) (0.7.0)\n",
            "Requirement already satisfied: wcwidth in /usr/local/lib/python3.10/dist-packages (from prompt-toolkit!=3.0.0,!=3.0.1,<3.1.0,>=2.0.0->IPython) (0.2.13)\n",
            "Installing collected packages: jedi\n",
            "Successfully installed jedi-0.19.1\n"
          ]
        }
      ]
    },
    {
      "cell_type": "code",
      "source": [
        "from google.colab import userdata"
      ],
      "metadata": {
        "id": "yWy-nSKUcrrv"
      },
      "execution_count": null,
      "outputs": []
    },
    {
      "cell_type": "markdown",
      "source": [
        "**Importing the Package**"
      ],
      "metadata": {
        "id": "EF4IdyJT3API"
      }
    },
    {
      "cell_type": "markdown",
      "source": [
        "After installing the package, we will use the `import` statement to use the additional functionalities provided by OpenAI."
      ],
      "metadata": {
        "id": "J0A-b6Lu3KGc"
      }
    },
    {
      "cell_type": "code",
      "source": [],
      "metadata": {
        "id": "7tQebYdJGeOf"
      },
      "execution_count": null,
      "outputs": []
    },
    {
      "cell_type": "markdown",
      "source": [
        "**What is an Application Programming Interface (API)?**\n",
        "\n",
        "You can think of API as a way to send our own requests to OpenAI servers and get the model responses. It's like a set of commands and rules a developer would use to interact with the OpenAI models.\n",
        "\n",
        "**OA-2: API Keys**\n",
        "\n",
        "The API Key is a unique identifier that confirms our identity and gives us the ability to communicate with the OpenAI server.\n",
        "\n",
        "With the API Key, OpenAI can track how much we are using their services which is used for billing purposes\n",
        "\n",
        "That being said, it is **important not to share any of your keys in public to prevent misuse by trolls or being accidentally billed**"
      ],
      "metadata": {
        "id": "Dewimty1BY7c"
      }
    },
    {
      "cell_type": "markdown",
      "source": [
        "`client = OpenAI()`\n",
        "\n",
        "This line of code is telling your program \"Hey, let's start talking to the AI models\" Through the client, we will be able to send requests and receive the A.I. responses"
      ],
      "metadata": {
        "id": "WTtiyA1BANJ2"
      }
    },
    {
      "cell_type": "code",
      "source": [],
      "metadata": {
        "id": "5u1TvG1IGmm4"
      },
      "execution_count": null,
      "outputs": []
    },
    {
      "cell_type": "markdown",
      "source": [
        "**OA-3: Using the API**\n"
      ],
      "metadata": {
        "id": "q0dZmQcUL0Uh"
      }
    },
    {
      "cell_type": "markdown",
      "source": [
        "To start our conversation with the A.I. model, we will use the Completions API to make a request to the OpenAI server\n",
        "`client.chat.completions.create()`\n",
        "\n",
        "In our request, we would need to specify two mandatory fields:\n",
        "\n",
        "`messages`: which is a list of messages comprising of the conversation\n",
        "\n",
        "`model`: Through this course we will be using the `gpt-3.5-turbo` model (same as ChatGPT)"
      ],
      "metadata": {
        "id": "zlAtLtAOMD1B"
      }
    },
    {
      "cell_type": "code",
      "source": [
        "response = client.chat.completions.create(\n",
        "    model = \"gpt-3.5-turbo\",\n",
        "    messages = [{'role': 'user', 'content': 'How should we use AI responsibly?'}]\n",
        ")"
      ],
      "metadata": {
        "id": "FcDB-biw4daW"
      },
      "execution_count": null,
      "outputs": []
    },
    {
      "cell_type": "code",
      "source": [
        "response"
      ],
      "metadata": {
        "id": "BQmAYFt7TBaz"
      },
      "execution_count": null,
      "outputs": []
    },
    {
      "cell_type": "markdown",
      "source": [
        "**OA-4: Accessing A.I. message**"
      ],
      "metadata": {
        "id": "He77MCo0ORJY"
      }
    },
    {
      "cell_type": "code",
      "source": [],
      "metadata": {
        "id": "_CFAfhH0-tKO"
      },
      "execution_count": null,
      "outputs": []
    },
    {
      "cell_type": "markdown",
      "source": [
        "**OA-5: Three Different Roles**\n",
        "\n",
        "## **OpenAI Chat Completion API: Understanding the Three Roles**\n",
        "\n",
        "**System**\n",
        "\n",
        "The 'System' role is used to guide the behavior and scope of the model throughout the conversation. It is particularly important because:\n",
        "- System messages are not part of the conversation and are not accessible to the end-user.\n",
        "- They can control the model's interactions more definitively than user messages.\n",
        "- System instructions can be used to set high-level directions for the conversation, ensuring that the model adheres to specific guidelines or behaves in a certain manner.\n",
        "- Examples of system instructions include setting the tone of the conversation, specifying the type of responses (e.g., HTML format), or controlling the length of responses.\n",
        "\n",
        "2. **User**\n",
        "\n",
        "The 'User' role represents the human participant in the conversation. Key points include:\n",
        "- Providing inputs such as questions, statements, or prompts to guide the conversation.\n",
        "- User messages can influence the model's behavior but do not have the same level of control as system messages.\n",
        "- The user can change the direction or context of the conversation, but the model will give precedence to system instructions if there is a conflict.\n",
        "\n",
        "3. **Assistant**\n",
        "\n",
        "The 'Assistant' is the AI model itself, which generates responses based on inputs from both the system and the user. Its functionality includes:\n",
        "- Creating replies that are coherent and contextually relevant to both user inputs and system instructions.\n",
        "- Maintaining a consistent flow of conversation.\n",
        "- The assistant's role can be detailed in the system instructions to specify its behavior, expertise, or personality traits for more tailored interactions.\n",
        "\n"
      ],
      "metadata": {
        "id": "dRmSv67jTDX1"
      }
    },
    {
      "cell_type": "code",
      "source": [],
      "metadata": {
        "colab": {
          "base_uri": "https://localhost:8080/"
        },
        "id": "BPfBET-9Tvs4",
        "outputId": "e815bd1c-d24c-44bc-b149-5b3b1c219efa"
      },
      "execution_count": null,
      "outputs": [
        {
          "output_type": "stream",
          "name": "stdout",
          "text": [
            "Singapore's National Day is celebrated on August 9th.\n"
          ]
        }
      ]
    },
    {
      "cell_type": "code",
      "source": [],
      "metadata": {
        "colab": {
          "base_uri": "https://localhost:8080/"
        },
        "id": "wmaCAZInUqC7",
        "outputId": "a54b3187-b53d-41fc-c830-f67f91b494c3"
      },
      "execution_count": null,
      "outputs": [
        {
          "output_type": "stream",
          "name": "stdout",
          "text": [
            "Teachers' Day in Singapore is celebrated on the first Friday of September every year. Since National Day is on August 9th, Teachers' Day is typically around 3-4 weeks after National Day. The exact number of days may vary depending on the specific year.\n"
          ]
        }
      ]
    },
    {
      "cell_type": "markdown",
      "source": [
        "**OA-6: Hyperparameter Tuning**\n"
      ],
      "metadata": {
        "id": "yjjGceALZM2J"
      }
    },
    {
      "cell_type": "markdown",
      "source": [
        "`temperature`: Controls the randomness in the AI's reponse. Lower values make the AI more deterministic, while higher values produce more varied output\n",
        "\n",
        "`max_tokens`: Determines the maximum length of the A.I. response\n",
        "\n",
        "`frequency_penalty`: Reduces the likelihood of the AI repeating the same line or phrase.\n",
        "\n",
        "`presence_penalty`: Influence the AI to introduce new concepts and ideas. Higher values will encourage more novel content"
      ],
      "metadata": {
        "id": "1yHCKLw9Zxu8"
      }
    },
    {
      "cell_type": "code",
      "source": [
        "response = client.chat.completions.create(\n",
        "    model = 'gpt-3.5-turbo',\n",
        "    temperature = 0,\n",
        "    messages = [{'role': 'system', 'content': 'You are a Singaporean'},\n",
        "                {'role': 'user', 'content': \"Explain some parts of Singapore's Smart Nation Initiatives\"},\n",
        "                ]\n",
        ")\n",
        "print(response.choices[0].message.content)"
      ],
      "metadata": {
        "id": "_Y8l6VlCabkV"
      },
      "execution_count": null,
      "outputs": []
    },
    {
      "cell_type": "code",
      "source": [
        "response = client.chat.completions.create(\n",
        "    model = 'gpt-3.5-turbo',\n",
        "    temperature = 1.2,\n",
        "    messages = [{'role': 'system', 'content': 'You are a Singaporean'},\n",
        "                {'role': 'user', 'content': \"Explain some parts of Singapore's Smart Nation Initiatives\"},\n",
        "                ]\n",
        ")\n",
        "print(response.choices[0].message.content)"
      ],
      "metadata": {
        "id": "k1ovPPyla0ng"
      },
      "execution_count": null,
      "outputs": []
    },
    {
      "cell_type": "code",
      "source": [],
      "metadata": {
        "id": "Ksm-ooSCcpNI"
      },
      "execution_count": null,
      "outputs": []
    }
  ]
}