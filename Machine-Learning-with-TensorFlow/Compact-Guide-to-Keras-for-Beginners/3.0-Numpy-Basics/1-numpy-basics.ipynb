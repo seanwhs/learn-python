{
 "cells": [
  {
   "cell_type": "code",
   "execution_count": 2,
   "metadata": {},
   "outputs": [],
   "source": [
    "import numpy as np"
   ]
  },
  {
   "cell_type": "markdown",
   "metadata": {},
   "source": [
    "Create Numpy Array"
   ]
  },
  {
   "cell_type": "code",
   "execution_count": 8,
   "metadata": {},
   "outputs": [
    {
     "name": "stdout",
     "output_type": "stream",
     "text": [
      "[1, 2, 3]\n",
      "<class 'list'>\n",
      "-------------------\n",
      "[1 2 3]\n",
      "<class 'numpy.ndarray'>\n",
      "(3,)\n"
     ]
    }
   ],
   "source": [
    "myList = [1,2,3]            #define list\n",
    "print(myList)\n",
    "print(type(myList))\n",
    "print('-------------------')\n",
    "myArray = np.array(myList)  #Convert list to np array\n",
    "print(myArray)\n",
    "print(type(myArray))\n",
    "print(myArray.shape)"
   ]
  },
  {
   "cell_type": "markdown",
   "metadata": {},
   "source": [
    "Access data from numpy arrays"
   ]
  },
  {
   "cell_type": "code",
   "execution_count": 17,
   "metadata": {},
   "outputs": [
    {
     "name": "stdout",
     "output_type": "stream",
     "text": [
      "np Array:: \n",
      "[['1' '2' '3']\n",
      " ['4' '5' '6']\n",
      " ['a' 'b' 'c']\n",
      " ['hello' 'there' 'learner']]\n",
      "\n",
      "np Array Shape::(4, 3)\n",
      "\n",
      "First row:: ['1' '2' '3']\n",
      "Second row:: ['4' '5' '6']\n",
      "Last row:: ['hello' 'there' 'learner']\n",
      "\n",
      "Specific Row & Column:: 3\n",
      "Specific Whole Column:: ['3' '6' 'c' 'learner']\n"
     ]
    }
   ],
   "source": [
    "myList = [[1,2,3],[4,5,6], ['a', 'b', 'c'], ['hello','there','learner']]\n",
    "myArray = np.array(myList)\n",
    "print(f'np Array:: \\n{myArray}')\n",
    "print()\n",
    "print(f'np Array Shape::{myArray.shape}')\n",
    "print()\n",
    "print(f'First row:: {myArray[0]}')\n",
    "print(f'Second row:: {myArray[1]}')\n",
    "print(f'Last row:: {myArray[-1]}')\n",
    "print()\n",
    "print(f'Specific Row & Column:: {myArray[0, 2]}')\n",
    "print(f'Specific Whole Column:: {myArray[:, 2]}')"
   ]
  },
  {
   "cell_type": "markdown",
   "metadata": {},
   "source": [
    "Arithmetic Operations"
   ]
  },
  {
   "cell_type": "code",
   "execution_count": 18,
   "metadata": {},
   "outputs": [
    {
     "name": "stdout",
     "output_type": "stream",
     "text": [
      "Sum::[5 5 5]\n",
      "Product::[6 6 6]\n"
     ]
    }
   ],
   "source": [
    "num1 = np.array([2,2,2])\n",
    "num2 = np.array([3,3,3])\n",
    "\n",
    "print(f'Sum::{num1+num2}')\n",
    "print(f'Product::{num1*num2}')"
   ]
  }
 ],
 "metadata": {
  "kernelspec": {
   "display_name": "Python 3",
   "language": "python",
   "name": "python3"
  },
  "language_info": {
   "codemirror_mode": {
    "name": "ipython",
    "version": 3
   },
   "file_extension": ".py",
   "mimetype": "text/x-python",
   "name": "python",
   "nbconvert_exporter": "python",
   "pygments_lexer": "ipython3",
   "version": "3.12.4"
  }
 },
 "nbformat": 4,
 "nbformat_minor": 2
}
