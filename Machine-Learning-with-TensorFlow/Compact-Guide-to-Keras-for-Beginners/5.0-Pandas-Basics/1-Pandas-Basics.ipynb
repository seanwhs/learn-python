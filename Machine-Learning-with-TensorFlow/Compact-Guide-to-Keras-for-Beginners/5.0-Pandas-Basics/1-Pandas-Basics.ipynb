{
 "cells": [
  {
   "cell_type": "markdown",
   "metadata": {},
   "source": [
    "* Pandas provide data structures and functionality to quickly manipulate and analyse data\n",
    "* Series: One dimensional array. Contains single list with index\n",
    "* Dataframes: Multi dimensional arrays where rows and columns can be labelled\n",
    "* A dataframe is actually a collection of series"
   ]
  },
  {
   "cell_type": "code",
   "execution_count": 1,
   "metadata": {},
   "outputs": [],
   "source": [
    "import numpy as np\n",
    "import pandas as pd"
   ]
  },
  {
   "cell_type": "code",
   "execution_count": 11,
   "metadata": {},
   "outputs": [
    {
     "name": "stdout",
     "output_type": "stream",
     "text": [
      "0    1\n",
      "1    2\n",
      "2    3\n",
      "3    4\n",
      "dtype: int32\n",
      "-------------\n",
      "a    1\n",
      "b    2\n",
      "c    3\n",
      "d    4\n",
      "dtype: int32\n"
     ]
    }
   ],
   "source": [
    "#Series\n",
    "myArray = np.array([1,2,3,4])\n",
    "indexes = ['a', 'b', 'c', 'd']\n",
    "mySeriesA = pd.Series(myArray)\n",
    "mySeriesB = pd.Series(myArray, index = indexes)\n",
    "print(mySeriesA)\n",
    "print('-------------')\n",
    "print(mySeriesB)"
   ]
  },
  {
   "cell_type": "code",
   "execution_count": 14,
   "metadata": {},
   "outputs": [
    {
     "name": "stdout",
     "output_type": "stream",
     "text": [
      "Label-based indexing with loc:\n",
      "4\n",
      "Index-based indexing with iloc:\n",
      "4\n"
     ]
    }
   ],
   "source": [
    "print('Label-based indexing with loc:')\n",
    "print(mySeriesB.loc['d'])\n",
    "print('Index-based indexing with iloc:')\n",
    "print(mySeriesB.iloc[3])"
   ]
  },
  {
   "cell_type": "code",
   "execution_count": 23,
   "metadata": {},
   "outputs": [
    {
     "name": "stdout",
     "output_type": "stream",
     "text": [
      "   0  1  2\n",
      "0  1  2  3\n",
      "1  4  5  6\n",
      "------------------------------------\n",
      "       col_1  col_2  col_3\n",
      "row_1      1      2      3\n",
      "row_2      4      5      6\n",
      "------------------------------------\n",
      "row_1    2\n",
      "row_2    5\n",
      "Name: col_2, dtype: int32\n",
      "------------------------------------\n",
      "row_1    2\n",
      "row_2    5\n",
      "Name: col_2, dtype: int32\n",
      "------------------------------------\n",
      "Element in col_1, row_2 is: 4\n"
     ]
    }
   ],
   "source": [
    "# Define the array and labels\n",
    "myArray = np.array([[1,2,3],[4,5,6]])\n",
    "rownames = ['row_1', 'row_2']\n",
    "colnames = ['col_1', 'col_2', 'col_3']\n",
    "\n",
    "# Create DataFrames\n",
    "df1 = pd.DataFrame(myArray)                                     #uses default row and column labels\n",
    "df2 = pd.DataFrame(myArray, index=rownames, columns=colnames)   #uses specified row and column labels\n",
    "\n",
    "# Print DataFrames\n",
    "print(df1)\n",
    "print('------------------------------------')\n",
    "print(df2)\n",
    "print('------------------------------------')\n",
    "\n",
    "# Accessing a column by name\n",
    "print(df2['col_2'])\n",
    "print('------------------------------------')\n",
    "\n",
    "# Accessing a column using dot notation (if column names are valid)\n",
    "print(df2.col_2)\n",
    "print('------------------------------------')\n",
    "\n",
    "# Accessing a specific element in col_1 and row_2\n",
    "# Correct way to access element: Use .loc[] for label-based indexing\n",
    "print(f'Element in col_1, row_2 is: {df2.loc[\"row_2\", \"col_1\"]}')\n"
   ]
  },
  {
   "cell_type": "code",
   "execution_count": null,
   "metadata": {},
   "outputs": [],
   "source": []
  }
 ],
 "metadata": {
  "kernelspec": {
   "display_name": "Python 3",
   "language": "python",
   "name": "python3"
  },
  "language_info": {
   "codemirror_mode": {
    "name": "ipython",
    "version": 3
   },
   "file_extension": ".py",
   "mimetype": "text/x-python",
   "name": "python",
   "nbconvert_exporter": "python",
   "pygments_lexer": "ipython3",
   "version": "3.12.4"
  }
 },
 "nbformat": 4,
 "nbformat_minor": 2
}
