{
 "cells": [
  {
   "cell_type": "markdown",
   "metadata": {},
   "source": [
    "If-Then-Else-Conditional"
   ]
  },
  {
   "cell_type": "code",
   "execution_count": 5,
   "metadata": {},
   "outputs": [
    {
     "name": "stdout",
     "output_type": "stream",
     "text": [
      "That is fast\n"
     ]
    }
   ],
   "source": [
    "value = 99 #modify this to see impact\n",
    "if value == 99:\n",
    "    print('That is fast')\n",
    "elif value > 200:\n",
    "    print('That is too fast')\n",
    "else:\n",
    "    print('This is safe')"
   ]
  },
  {
   "cell_type": "markdown",
   "metadata": {},
   "source": [
    "For-Loop"
   ]
  },
  {
   "cell_type": "code",
   "execution_count": 8,
   "metadata": {},
   "outputs": [
    {
     "name": "stdout",
     "output_type": "stream",
     "text": [
      "0\n",
      "1\n",
      "2\n",
      "3\n",
      "4\n"
     ]
    }
   ],
   "source": [
    "for i in range(5):\n",
    "    print(i)"
   ]
  },
  {
   "cell_type": "markdown",
   "metadata": {},
   "source": [
    "While-Loop"
   ]
  },
  {
   "cell_type": "code",
   "execution_count": 10,
   "metadata": {},
   "outputs": [
    {
     "name": "stdout",
     "output_type": "stream",
     "text": [
      "0\n",
      "1\n",
      "2\n",
      "3\n",
      "4\n"
     ]
    }
   ],
   "source": [
    "i = 0\n",
    "while i < 5:\n",
    "    print(i)\n",
    "    i += 1"
   ]
  },
  {
   "cell_type": "markdown",
   "metadata": {},
   "source": [
    "List-and-Tuples"
   ]
  },
  {
   "cell_type": "code",
   "execution_count": 13,
   "metadata": {},
   "outputs": [
    {
     "name": "stdout",
     "output_type": "stream",
     "text": [
      "(1, 2, 3)\n",
      "1\n"
     ]
    },
    {
     "ename": "TypeError",
     "evalue": "'tuple' object does not support item assignment",
     "output_type": "error",
     "traceback": [
      "\u001b[1;31m---------------------------------------------------------------------------\u001b[0m",
      "\u001b[1;31mTypeError\u001b[0m                                 Traceback (most recent call last)",
      "Cell \u001b[1;32mIn[13], line 5\u001b[0m\n\u001b[0;32m      3\u001b[0m \u001b[38;5;28mprint\u001b[39m(a)\n\u001b[0;32m      4\u001b[0m \u001b[38;5;28mprint\u001b[39m(a[\u001b[38;5;241m0\u001b[39m])\n\u001b[1;32m----> 5\u001b[0m \u001b[43ma\u001b[49m\u001b[43m[\u001b[49m\u001b[38;5;241;43m0\u001b[39;49m\u001b[43m]\u001b[49m \u001b[38;5;241m=\u001b[39m \u001b[38;5;241m5\u001b[39m\n",
      "\u001b[1;31mTypeError\u001b[0m: 'tuple' object does not support item assignment"
     ]
    }
   ],
   "source": [
    "# Tuples are immutable (read-only) collections of items\n",
    "a=(1,2,3)\n",
    "print(a)\n",
    "print(a[0])\n",
    "a[0] = 5"
   ]
  },
  {
   "cell_type": "code",
   "execution_count": 21,
   "metadata": {},
   "outputs": [
    {
     "name": "stdout",
     "output_type": "stream",
     "text": [
      "3\n",
      "[1, 2, 3]\n",
      "1\n",
      "---------------------------\n",
      "4\n",
      "[1, 2, 3, 'Hello World']\n",
      "1\n"
     ]
    }
   ],
   "source": [
    "# Lists are mutable and can be indexed using array notation\n",
    "myList = [1,2,3]\n",
    "print(len(myList))\n",
    "print(myList)\n",
    "print(myList[0])\n",
    "print('---------------------------')\n",
    "myList.append(\"Hello World\")\n",
    "print(len(myList))\n",
    "print(myList)\n",
    "print(myList[0])"
   ]
  },
  {
   "cell_type": "markdown",
   "metadata": {},
   "source": [
    "Dictionaries"
   ]
  },
  {
   "cell_type": "code",
   "execution_count": 27,
   "metadata": {},
   "outputs": [
    {
     "name": "stdout",
     "output_type": "stream",
     "text": [
      "{'a': 1, 'b': 2, 'c': 3}\n",
      "value of \"a\":: 1\n",
      "----------------------\n",
      "{'a': 'Hello World!', 'b': 2, 'c': 3}\n",
      "value of \"a\":: Hello World!\n",
      "----------------------\n",
      "Keys::dict_keys(['a', 'b', 'c'])\n",
      "Values::dict_values(['Hello World!', 2, 3])\n",
      "----------------------\n",
      "a\n",
      "b\n",
      "c\n",
      "----------------------\n",
      "Hello World!\n",
      "2\n",
      "3\n"
     ]
    }
   ],
   "source": [
    "# Dictionaries are mappings of name value 9aka key value) pairs\n",
    "# Use curly brackets\n",
    "myDict = {'a':1, 'b':2, 'c':3}\n",
    "print(myDict)\n",
    "print(f'value of \"a\":: {myDict['a']}')\n",
    "print('----------------------')\n",
    "myDict['a'] = \"Hello World!\"\n",
    "print(myDict)\n",
    "print(f'value of \"a\":: {myDict['a']}')\n",
    "print('----------------------')\n",
    "print(f'Keys::{myDict.keys()}')\n",
    "print(f'Values::{myDict.values()}')\n",
    "print('----------------------')\n",
    "for key in myDict.keys():\n",
    "    print(key)\n",
    "print('----------------------')\n",
    "for key in myDict.keys():\n",
    "    print(myDict[key])"
   ]
  },
  {
   "cell_type": "markdown",
   "metadata": {},
   "source": [
    "Functions"
   ]
  },
  {
   "cell_type": "code",
   "execution_count": 28,
   "metadata": {},
   "outputs": [
    {
     "name": "stdout",
     "output_type": "stream",
     "text": [
      "3\n"
     ]
    }
   ],
   "source": [
    "def mySum(a,b):\n",
    "    return a +b\n",
    "\n",
    "result = mySum(1,2)\n",
    "print(result)"
   ]
  }
 ],
 "metadata": {
  "kernelspec": {
   "display_name": "Python 3",
   "language": "python",
   "name": "python3"
  },
  "language_info": {
   "codemirror_mode": {
    "name": "ipython",
    "version": 3
   },
   "file_extension": ".py",
   "mimetype": "text/x-python",
   "name": "python",
   "nbconvert_exporter": "python",
   "pygments_lexer": "ipython3",
   "version": "3.12.4"
  }
 },
 "nbformat": 4,
 "nbformat_minor": 2
}
