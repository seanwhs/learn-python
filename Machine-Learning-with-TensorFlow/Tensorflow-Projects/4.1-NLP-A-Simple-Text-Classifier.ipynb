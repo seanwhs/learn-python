{
 "cells": [
  {
   "cell_type": "markdown",
   "metadata": {},
   "source": [
    "## A Simple Text Classifier"
   ]
  },
  {
   "cell_type": "markdown",
   "metadata": {},
   "source": [
    "#### Data loading and preprocessing\n"
   ]
  },
  {
   "cell_type": "code",
   "execution_count": 19,
   "metadata": {},
   "outputs": [],
   "source": [
    "import pandas as pd\n",
    "import numpy as np\n",
    "from sklearn.feature_extraction.text import CountVectorizer\n",
    "from sklearn.preprocessing import StandardScaler\n",
    "import tensorflow as tf\n"
   ]
  },
  {
   "cell_type": "code",
   "execution_count": 20,
   "metadata": {},
   "outputs": [
    {
     "data": {
      "text/html": [
       "<div>\n",
       "<style scoped>\n",
       "    .dataframe tbody tr th:only-of-type {\n",
       "        vertical-align: middle;\n",
       "    }\n",
       "\n",
       "    .dataframe tbody tr th {\n",
       "        vertical-align: top;\n",
       "    }\n",
       "\n",
       "    .dataframe thead th {\n",
       "        text-align: right;\n",
       "    }\n",
       "</style>\n",
       "<table border=\"1\" class=\"dataframe\">\n",
       "  <thead>\n",
       "    <tr style=\"text-align: right;\">\n",
       "      <th></th>\n",
       "      <th>0</th>\n",
       "      <th>1</th>\n",
       "      <th>2</th>\n",
       "      <th>3</th>\n",
       "      <th>4</th>\n",
       "      <th>5</th>\n",
       "    </tr>\n",
       "  </thead>\n",
       "  <tbody>\n",
       "    <tr>\n",
       "      <th>1531194</th>\n",
       "      <td>4</td>\n",
       "      <td>2177966647</td>\n",
       "      <td>Mon Jun 15 06:59:36 PDT 2009</td>\n",
       "      <td>NO_QUERY</td>\n",
       "      <td>PRINCESS_ACLF</td>\n",
       "      <td>IS SO GOIN GROCERY SHOPPING LATER. I LOVE FOOD...</td>\n",
       "    </tr>\n",
       "    <tr>\n",
       "      <th>756007</th>\n",
       "      <td>0</td>\n",
       "      <td>2288525608</td>\n",
       "      <td>Mon Jun 22 19:16:30 PDT 2009</td>\n",
       "      <td>NO_QUERY</td>\n",
       "      <td>mhernan31</td>\n",
       "      <td>@Nasamoah i was like omaaan.. and with the 8 k...</td>\n",
       "    </tr>\n",
       "    <tr>\n",
       "      <th>525846</th>\n",
       "      <td>0</td>\n",
       "      <td>2194060468</td>\n",
       "      <td>Tue Jun 16 09:17:27 PDT 2009</td>\n",
       "      <td>NO_QUERY</td>\n",
       "      <td>itsliambitch</td>\n",
       "      <td>uhh im sitting in ummm mcsalad waiting for my ...</td>\n",
       "    </tr>\n",
       "  </tbody>\n",
       "</table>\n",
       "</div>"
      ],
      "text/plain": [
       "         0           1                             2         3              4  \\\n",
       "1531194  4  2177966647  Mon Jun 15 06:59:36 PDT 2009  NO_QUERY  PRINCESS_ACLF   \n",
       "756007   0  2288525608  Mon Jun 22 19:16:30 PDT 2009  NO_QUERY      mhernan31   \n",
       "525846   0  2194060468  Tue Jun 16 09:17:27 PDT 2009  NO_QUERY   itsliambitch   \n",
       "\n",
       "                                                         5  \n",
       "1531194  IS SO GOIN GROCERY SHOPPING LATER. I LOVE FOOD...  \n",
       "756007   @Nasamoah i was like omaaan.. and with the 8 k...  \n",
       "525846   uhh im sitting in ummm mcsalad waiting for my ...  "
      ]
     },
     "execution_count": 20,
     "metadata": {},
     "output_type": "execute_result"
    }
   ],
   "source": [
    "data = pd.read_csv('data/training.1600000.processed.noemoticon.csv', encoding='latin-1', header=None) #default encoding is utf-8\n",
    "data = data.sample(frac=1)\n",
    "data.head(3)\n",
    "# print(data[5][0])"
   ]
  },
  {
   "cell_type": "code",
   "execution_count": 21,
   "metadata": {},
   "outputs": [],
   "source": [
    "# train-test split\n",
    "train_size = int(0.7*len(data))\n",
    "features = data[5]\n",
    "targets = data[0]\n",
    "X_train, X_test = features.values[:train_size], features.values[train_size:]\n",
    "y_train, y_test = targets.values[:train_size], targets.values[train_size:]\n",
    "\n",
    "y_train[y_train==2] = 1\n",
    "y_train[y_train==4] = 2\n",
    "\n",
    "y_test[y_test==2] = 1\n",
    "y_test[y_test==4] = 2"
   ]
  },
  {
   "cell_type": "code",
   "execution_count": 23,
   "metadata": {},
   "outputs": [],
   "source": [
    "# count vectorize them\n",
    "count_vectorizer = CountVectorizer(max_features=100)\n",
    "X_train_num = count_vectorizer.fit_transform(X_train).toarray()\n",
    "X_test_num = count_vectorizer.transform(X_test).toarray()"
   ]
  },
  {
   "cell_type": "code",
   "execution_count": 24,
   "metadata": {},
   "outputs": [
    {
     "name": "stdout",
     "output_type": "stream",
     "text": [
      "@glynis_crawford Thank you for the #FF love! \n",
      "[0 0 0 0 0 0 0 0 0 0 0 0 0 0 0 0 0 0 1 0 0 0 0 0 0 0 0 0 0 0 0 0 0 0 0 0 0\n",
      " 0 0 0 0 0 0 0 0 0 0 1 0 0 0 0 0 0 0 0 0 0 0 0 0 0 0 0 0 0 0 0 0 0 0 0 0 0\n",
      " 0 0 1 0 0 0 0 0 0 0 0 0 0 0 0 0 0 0 0 0 0 0 0 0 1 0]\n"
     ]
    }
   ],
   "source": [
    "# Inspect an instance\n",
    "instance = 46544\n",
    "print(X_train[instance])\n",
    "print(X_train_num[instance])"
   ]
  },
  {
   "cell_type": "markdown",
   "metadata": {},
   "source": [
    "#### Text classification"
   ]
  },
  {
   "cell_type": "code",
   "execution_count": 25,
   "metadata": {},
   "outputs": [
    {
     "name": "stdout",
     "output_type": "stream",
     "text": [
      "[2 0 0 ... 0 2 2]\n",
      "Epoch 1/2\n",
      "\u001b[1m15750/15750\u001b[0m \u001b[32m━━━━━━━━━━━━━━━━━━━━\u001b[0m\u001b[37m\u001b[0m \u001b[1m56s\u001b[0m 3ms/step - accuracy: 0.6527 - loss: 0.6255 - val_accuracy: 0.6683 - val_loss: 0.6058\n",
      "Epoch 2/2\n",
      "\u001b[1m15750/15750\u001b[0m \u001b[32m━━━━━━━━━━━━━━━━━━━━\u001b[0m\u001b[37m\u001b[0m \u001b[1m49s\u001b[0m 3ms/step - accuracy: 0.6630 - loss: 0.6098 - val_accuracy: 0.6687 - val_loss: 0.6035\n"
     ]
    },
    {
     "data": {
      "text/plain": [
       "<keras.src.callbacks.history.History at 0x1a654575a30>"
      ]
     },
     "execution_count": 25,
     "metadata": {},
     "output_type": "execute_result"
    }
   ],
   "source": [
    "model = tf.keras.models.Sequential([\n",
    "    tf.keras.layers.Dense(256, activation=tf.nn.leaky_relu), # x if x > 0 else alpha*x \n",
    "    tf.keras.layers.Dropout(0.5),\n",
    "    tf.keras.layers.Dense(3)\n",
    "])\n",
    "\n",
    "adam_optimizer = tf.keras.optimizers.Adam()\n",
    "model.compile(\n",
    "    optimizer=adam_optimizer,\n",
    "    loss=tf.keras.losses.SparseCategoricalCrossentropy(from_logits=True),\n",
    "    metrics=[\n",
    "      'accuracy',\n",
    "    ]\n",
    ")\n",
    "\n",
    "print(y_train)\n",
    "model.fit(X_train_num, \n",
    "          y_train,\n",
    "          batch_size=64,\n",
    "          epochs=2,\n",
    "          validation_split=0.1,\n",
    "          verbose=1)"
   ]
  },
  {
   "cell_type": "code",
   "execution_count": null,
   "metadata": {},
   "outputs": [],
   "source": []
  }
 ],
 "metadata": {
  "kernelspec": {
   "display_name": "Python 3",
   "language": "python",
   "name": "python3"
  },
  "language_info": {
   "codemirror_mode": {
    "name": "ipython",
    "version": 3
   },
   "file_extension": ".py",
   "mimetype": "text/x-python",
   "name": "python",
   "nbconvert_exporter": "python",
   "pygments_lexer": "ipython3",
   "version": "3.12.4"
  }
 },
 "nbformat": 4,
 "nbformat_minor": 2
}
