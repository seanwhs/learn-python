{
 "cells": [
  {
   "cell_type": "markdown",
   "metadata": {},
   "source": [
    "## Getting Started with TensorFlow 2.0"
   ]
  },
  {
   "cell_type": "markdown",
   "metadata": {},
   "source": [
    "### Introduction\n",
    "\n",
    "In this notebook, we will explore a simple linear regression problem using TensorFlow. Linear regression is a fundamental technique in machine learning where the goal is to model the relationship between a dependent variable \\( y \\) and one or more independent variables \\( X \\).\n",
    "\n",
    "#### Objectives\n",
    "\n",
    "1. **Generate and Visualize Data**: We will create a synthetic dataset consisting of noisy linear data. This data will be used to train our linear regression model.\n",
    "2. **Implement a Linear Model**: We will define a custom linear model class using TensorFlow. This class will include methods for computing loss, training the model, and making predictions.\n",
    "3. **Train the Model**: We will train our linear model on the generated data and monitor the loss to observe how well the model is fitting the data.\n",
    "4. **Visualize the Results**: Finally, we will plot the original data and the model's predictions to visualize the fit of our linear regression model."
   ]
  },
  {
   "cell_type": "markdown",
   "metadata": {},
   "source": [
    "#### Imports"
   ]
  },
  {
   "cell_type": "code",
   "execution_count": 1,
   "metadata": {},
   "outputs": [
    {
     "name": "stdout",
     "output_type": "stream",
     "text": [
      " tensorflow version:: 2.17.0\n"
     ]
    }
   ],
   "source": [
    "import numpy as np\n",
    "import tensorflow as tf\n",
    "import matplotlib.pyplot as plt\n",
    "\n",
    "# Print TensorFlow version to verify installation\n",
    "print(f' tensorflow version:: {tf.__version__}')"
   ]
  },
  {
   "cell_type": "markdown",
   "metadata": {},
   "source": [
    "#### Generate Toy Data"
   ]
  },
  {
   "cell_type": "code",
   "execution_count": 2,
   "metadata": {},
   "outputs": [],
   "source": [
    "# Set random seeds for reproducibility\n",
    "np.random.seed(42)       # NumPy random seed\n",
    "tf.random.set_seed(42)   # TensorFlow random seed"
   ]
  },
  {
   "cell_type": "code",
   "execution_count": 3,
   "metadata": {},
   "outputs": [],
   "source": [
    "# Random linear data: 100 between 0-50\n",
    "n=100\n",
    "X = np.linspace(0,50,n)     # Linear range of X values\n",
    "y = np.linspace(0,50,n)     # Linear range of y values\n",
    "\n",
    "# Adding noise to random linear data\n",
    "X += np.random.uniform(-10,10,n)    # Add random noise to X\n",
    "y += np.random.uniform(-10,10,n)    # Add random noise to y"
   ]
  },
  {
   "cell_type": "markdown",
   "metadata": {},
   "source": [
    "#### Show the data"
   ]
  },
  {
   "cell_type": "code",
   "execution_count": 4,
   "metadata": {},
   "outputs": [
    {
     "data": {
      "image/png": "[encoded data removed]",
      "text/plain": [
       "<Figure size 640x480 with 1 Axes>"
      ]
     },
     "metadata": {},
     "output_type": "display_data"
    }
   ],
   "source": [
    "# Plot of the training data and visualize it\n",
    "plt.scatter(X, y)\n",
    "plt.xlabel('X')\n",
    "plt.ylabel('y')\n",
    "plt.title('Training Data')\n",
    "plt.show()"
   ]
  },
  {
   "cell_type": "markdown",
   "metadata": {},
   "source": [
    "#### Linear Regression Model Class"
   ]
  },
  {
   "cell_type": "code",
   "execution_count": 5,
   "metadata": {},
   "outputs": [],
   "source": [
    "# Define a simple linear model class\n",
    "class LinearModel:\n",
    "    def __init__(self):\n",
    "        # Initialize weight (W) and bias (b) as TensorFlow variables\n",
    "        self.W = tf.Variable(13.0)      # Initial guess for weight\n",
    "        self.b = tf.Variable(4.0)       # Initial guess for bias\n",
    "\n",
    "    def loss(self, y, y_pred):\n",
    "        # Compute mean squared error loss\n",
    "        return tf.reduce_mean(tf.square(y-y_pred))\n",
    "    \n",
    "    def train(self, X, y, lr=0.0001, epochs=150, verbose=True):\n",
    "        # Define the training step\n",
    "        def train_step():\n",
    "            with tf.GradientTape() as t:\n",
    "                current_loss = self.loss(y, self.predict(X))\n",
    "\n",
    "            # Compute gradients of loss with respect to W and b\n",
    "            dW, db = t.gradient(current_loss, [self.W, self.b])\n",
    "            \n",
    "            # Update weight and bias using the computed gradients\n",
    "            self.W.assign_sub(lr*dW) #W -= lr*dW\n",
    "            self.b.assign_sub(lr*db)\n",
    "\n",
    "            return current_loss\n",
    "                \n",
    "        # Perform training over a number of epochs\n",
    "        for epoch in range(epochs):\n",
    "            current_loss = train_step()     # Perform one training step\n",
    "            if verbose:\n",
    "                # Print loss every epoch\n",
    "                print(f'Epoch:: {epoch}. Loss::{current_loss.numpy()}') #eager execution\n",
    "\n",
    "    # Predict y values based on input X using the linear model\n",
    "    def predict(self, X):\n",
    "        return self.W*X + self.b"
   ]
  },
  {
   "cell_type": "markdown",
   "metadata": {},
   "source": [
    "#### Using the Model"
   ]
  },
  {
   "cell_type": "code",
   "execution_count": 6,
   "metadata": {},
   "outputs": [
    {
     "name": "stdout",
     "output_type": "stream",
     "text": [
      "Epoch:: 0. Loss::124765.109375\n",
      "Epoch:: 1. Loss::86082.9765625\n",
      "Epoch:: 2. Loss::59400.33984375\n",
      "Epoch:: 3. Loss::40994.8515625\n",
      "Epoch:: 4. Loss::28298.88671875\n",
      "Epoch:: 5. Loss::19541.3046875\n",
      "Epoch:: 6. Loss::13500.388671875\n",
      "Epoch:: 7. Loss::9333.4111328125\n",
      "Epoch:: 8. Loss::6459.06103515625\n",
      "Epoch:: 9. Loss::4476.35546875\n",
      "Epoch:: 10. Loss::3108.700927734375\n",
      "Epoch:: 11. Loss::2165.302978515625\n",
      "Epoch:: 12. Loss::1514.5535888671875\n",
      "Epoch:: 13. Loss::1065.671875\n",
      "Epoch:: 14. Loss::756.03662109375\n",
      "Epoch:: 15. Loss::542.452392578125\n",
      "Epoch:: 16. Loss::395.1237487792969\n",
      "Epoch:: 17. Loss::293.4975280761719\n",
      "Epoch:: 18. Loss::223.3964080810547\n",
      "Epoch:: 19. Loss::175.04122924804688\n",
      "Epoch:: 20. Loss::141.68617248535156\n",
      "Epoch:: 21. Loss::118.67814636230469\n",
      "Epoch:: 22. Loss::102.80734252929688\n",
      "Epoch:: 23. Loss::91.85980224609375\n",
      "Epoch:: 24. Loss::84.3082504272461\n",
      "Epoch:: 25. Loss::79.0992660522461\n",
      "Epoch:: 26. Loss::75.50613403320312\n",
      "Epoch:: 27. Loss::73.02761840820312\n",
      "Epoch:: 28. Loss::71.31796264648438\n",
      "Epoch:: 29. Loss::70.13866424560547\n",
      "Epoch:: 30. Loss::69.3251724243164\n",
      "Epoch:: 31. Loss::68.76404571533203\n",
      "Epoch:: 32. Loss::68.37698364257812\n",
      "Epoch:: 33. Loss::68.1099853515625\n",
      "Epoch:: 34. Loss::67.92581176757812\n",
      "Epoch:: 35. Loss::67.79878234863281\n",
      "Epoch:: 36. Loss::67.71114349365234\n",
      "Epoch:: 37. Loss::67.65069580078125\n",
      "Epoch:: 38. Loss::67.60900115966797\n",
      "Epoch:: 39. Loss::67.58024597167969\n",
      "Epoch:: 40. Loss::67.5604019165039\n",
      "Epoch:: 41. Loss::67.54671478271484\n",
      "Epoch:: 42. Loss::67.53726959228516\n",
      "Epoch:: 43. Loss::67.53075408935547\n",
      "Epoch:: 44. Loss::67.52627563476562\n",
      "Epoch:: 45. Loss::67.5231704711914\n",
      "Epoch:: 46. Loss::67.52102661132812\n",
      "Epoch:: 47. Loss::67.51956176757812\n",
      "Epoch:: 48. Loss::67.51853942871094\n",
      "Epoch:: 49. Loss::67.5178451538086\n",
      "Epoch:: 50. Loss::67.5173568725586\n",
      "Epoch:: 51. Loss::67.51702117919922\n",
      "Epoch:: 52. Loss::67.51679992675781\n",
      "Epoch:: 53. Loss::67.51663208007812\n",
      "Epoch:: 54. Loss::67.51652526855469\n",
      "Epoch:: 55. Loss::67.51644897460938\n",
      "Epoch:: 56. Loss::67.51639556884766\n",
      "Epoch:: 57. Loss::67.51636505126953\n",
      "Epoch:: 58. Loss::67.5163345336914\n",
      "Epoch:: 59. Loss::67.51632690429688\n",
      "Epoch:: 60. Loss::67.51631164550781\n",
      "Epoch:: 61. Loss::67.51629638671875\n",
      "Epoch:: 62. Loss::67.51629638671875\n",
      "Epoch:: 63. Loss::67.51628875732422\n",
      "Epoch:: 64. Loss::67.51628875732422\n",
      "Epoch:: 65. Loss::67.51628112792969\n",
      "Epoch:: 66. Loss::67.51628112792969\n",
      "Epoch:: 67. Loss::67.51628875732422\n",
      "Epoch:: 68. Loss::67.51628112792969\n",
      "Epoch:: 69. Loss::67.51628875732422\n",
      "Epoch:: 70. Loss::67.51628112792969\n",
      "Epoch:: 71. Loss::67.51628112792969\n",
      "Epoch:: 72. Loss::67.51628112792969\n",
      "Epoch:: 73. Loss::67.51628112792969\n",
      "Epoch:: 74. Loss::67.51628112792969\n",
      "Epoch:: 75. Loss::67.51627349853516\n",
      "Epoch:: 76. Loss::67.51628112792969\n",
      "Epoch:: 77. Loss::67.51628112792969\n",
      "Epoch:: 78. Loss::67.51628112792969\n",
      "Epoch:: 79. Loss::67.51628112792969\n",
      "Epoch:: 80. Loss::67.51628112792969\n",
      "Epoch:: 81. Loss::67.51628112792969\n",
      "Epoch:: 82. Loss::67.51628112792969\n",
      "Epoch:: 83. Loss::67.51628112792969\n",
      "Epoch:: 84. Loss::67.51628112792969\n",
      "Epoch:: 85. Loss::67.51628112792969\n",
      "Epoch:: 86. Loss::67.51628112792969\n",
      "Epoch:: 87. Loss::67.51628112792969\n",
      "Epoch:: 88. Loss::67.51628112792969\n",
      "Epoch:: 89. Loss::67.51628112792969\n",
      "Epoch:: 90. Loss::67.51628112792969\n",
      "Epoch:: 91. Loss::67.51628112792969\n",
      "Epoch:: 92. Loss::67.51628112792969\n",
      "Epoch:: 93. Loss::67.51627349853516\n",
      "Epoch:: 94. Loss::67.51628112792969\n",
      "Epoch:: 95. Loss::67.51628112792969\n",
      "Epoch:: 96. Loss::67.51628112792969\n",
      "Epoch:: 97. Loss::67.51628112792969\n",
      "Epoch:: 98. Loss::67.51627349853516\n",
      "Epoch:: 99. Loss::67.51627349853516\n",
      "Epoch:: 100. Loss::67.51628112792969\n",
      "Epoch:: 101. Loss::67.51628112792969\n",
      "Epoch:: 102. Loss::67.51628112792969\n",
      "Epoch:: 103. Loss::67.51628112792969\n",
      "Epoch:: 104. Loss::67.51628112792969\n",
      "Epoch:: 105. Loss::67.51628112792969\n",
      "Epoch:: 106. Loss::67.51628112792969\n",
      "Epoch:: 107. Loss::67.51627349853516\n",
      "Epoch:: 108. Loss::67.51628112792969\n",
      "Epoch:: 109. Loss::67.51628112792969\n",
      "Epoch:: 110. Loss::67.51628112792969\n",
      "Epoch:: 111. Loss::67.51628112792969\n",
      "Epoch:: 112. Loss::67.51626586914062\n",
      "Epoch:: 113. Loss::67.51628112792969\n",
      "Epoch:: 114. Loss::67.51628112792969\n",
      "Epoch:: 115. Loss::67.51627349853516\n",
      "Epoch:: 116. Loss::67.51628112792969\n",
      "Epoch:: 117. Loss::67.51628112792969\n",
      "Epoch:: 118. Loss::67.51626586914062\n",
      "Epoch:: 119. Loss::67.51627349853516\n",
      "Epoch:: 120. Loss::67.51627349853516\n",
      "Epoch:: 121. Loss::67.51627349853516\n",
      "Epoch:: 122. Loss::67.51627349853516\n",
      "Epoch:: 123. Loss::67.51628112792969\n",
      "Epoch:: 124. Loss::67.51627349853516\n",
      "Epoch:: 125. Loss::67.51626586914062\n",
      "Epoch:: 126. Loss::67.51627349853516\n",
      "Epoch:: 127. Loss::67.51628112792969\n",
      "Epoch:: 128. Loss::67.51627349853516\n",
      "Epoch:: 129. Loss::67.51627349853516\n",
      "Epoch:: 130. Loss::67.51627349853516\n",
      "Epoch:: 131. Loss::67.51627349853516\n",
      "Epoch:: 132. Loss::67.51627349853516\n",
      "Epoch:: 133. Loss::67.51627349853516\n",
      "Epoch:: 134. Loss::67.51627349853516\n",
      "Epoch:: 135. Loss::67.51626586914062\n",
      "Epoch:: 136. Loss::67.51626586914062\n",
      "Epoch:: 137. Loss::67.51626586914062\n",
      "Epoch:: 138. Loss::67.51627349853516\n",
      "Epoch:: 139. Loss::67.51627349853516\n",
      "Epoch:: 140. Loss::67.51626586914062\n",
      "Epoch:: 141. Loss::67.51628112792969\n",
      "Epoch:: 142. Loss::67.51626586914062\n",
      "Epoch:: 143. Loss::67.51627349853516\n",
      "Epoch:: 144. Loss::67.51626586914062\n",
      "Epoch:: 145. Loss::67.51627349853516\n",
      "Epoch:: 146. Loss::67.51626586914062\n",
      "Epoch:: 147. Loss::67.51627349853516\n",
      "Epoch:: 148. Loss::67.51626586914062\n",
      "Epoch:: 149. Loss::67.51627349853516\n"
     ]
    },
    {
     "data": {
      "image/png": "[encoded data removed]",
      "text/plain": [
       "<Figure size 640x480 with 1 Axes>"
      ]
     },
     "metadata": {},
     "output_type": "display_data"
    }
   ],
   "source": [
    "# Instantiate and train the linear model\n",
    "model = LinearModel()\n",
    "model.train(X,y)\n",
    "\n",
    "# Plot the original data and the linear regression line\n",
    "plt.scatter(X,y, label='data')\n",
    "plt.plot(X, model.predict(X), 'r-', label='predicted') # Plot the fitted line\n",
    "plt.legend()    # Show legend\n",
    "plt.show()      # Display the plot"
   ]
  },
  {
   "cell_type": "code",
   "execution_count": null,
   "metadata": {},
   "outputs": [],
   "source": []
  }
 ],
 "metadata": {
  "kernelspec": {
   "display_name": "Python 3",
   "language": "python",
   "name": "python3"
  },
  "language_info": {
   "codemirror_mode": {
    "name": "ipython",
    "version": 3
   },
   "file_extension": ".py",
   "mimetype": "text/x-python",
   "name": "python",
   "nbconvert_exporter": "python",
   "pygments_lexer": "ipython3",
   "version": "3.12.4"
  }
 },
 "nbformat": 4,
 "nbformat_minor": 2
}
