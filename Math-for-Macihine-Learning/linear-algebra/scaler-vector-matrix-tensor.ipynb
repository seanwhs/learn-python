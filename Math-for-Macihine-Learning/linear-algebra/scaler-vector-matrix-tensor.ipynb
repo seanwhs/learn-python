{
 "cells": [
  {
   "cell_type": "markdown",
   "metadata": {},
   "source": [
    "## Scalers, Vectors, Matrices and Tensors\n",
    "Here's a comprehensive guide to using scalars, vectors, matrices, and tensors in Python, primarily using the NumPy library."
   ]
  },
  {
   "cell_type": "code",
   "execution_count": 41,
   "metadata": {},
   "outputs": [
    {
     "name": "stdout",
     "output_type": "stream",
     "text": [
      "Python Version:: 3.12.4 (tags/v3.12.4:8e8a4ba, Jun  6 2024, 19:30:16) [MSC v.1940 64 bit (AMD64)]\n",
      "Numpy Version:: 2.0.0\n"
     ]
    }
   ],
   "source": [
    "import sys\n",
    "import numpy as np\n",
    "print(f'Python Version:: {sys.version}')\n",
    "print(f'Numpy Version:: {np.__version__}')"
   ]
  },
  {
   "cell_type": "markdown",
   "metadata": {},
   "source": [
    "#### Scalers - A scalar is a single number."
   ]
  },
  {
   "cell_type": "code",
   "execution_count": 6,
   "metadata": {},
   "outputs": [
    {
     "name": "stdout",
     "output_type": "stream",
     "text": [
      "Scaler:: 5\n"
     ]
    }
   ],
   "source": [
    "import numpy as np\n",
    "scaler = np.array(5) # Defines scaler\n",
    "print(f'Scaler:: {scaler}')"
   ]
  },
  {
   "cell_type": "markdown",
   "metadata": {},
   "source": [
    "#### Vectors - A Vector is a single dimensional array"
   ]
  },
  {
   "cell_type": "code",
   "execution_count": 43,
   "metadata": {},
   "outputs": [
    {
     "name": "stdout",
     "output_type": "stream",
     "text": [
      "vector:: [1 2 3 4 5]\n",
      "vector dimensions:: (5,)\n",
      "vector size:: 5\n"
     ]
    }
   ],
   "source": [
    "vector = np.array([1,2,3,4,5]) # Define a vector\n",
    "print(f'vector:: {vector}')\n",
    "print(f'vector dimensions:: {vector.shape}')\n",
    "print(f'vector size:: {vector.size}')"
   ]
  },
  {
   "cell_type": "markdown",
   "metadata": {},
   "source": [
    "#### Matrices - A Matrix is a 2 dimensional array"
   ]
  },
  {
   "cell_type": "code",
   "execution_count": 51,
   "metadata": {},
   "outputs": [
    {
     "name": "stdout",
     "output_type": "stream",
     "text": [
      "matrix::\n",
      "[[ 1  2  3  4  5]\n",
      " [ 6  7  8  9 10]]\n",
      "--------------------------------\n",
      "matrix shape:: (2, 5)\n",
      "matrix size:: 10\n",
      "--------------------------------\n",
      "another matrix::\n",
      "[[ 1  2  3  4  5]\n",
      " [ 6  7  8  9 10]]\n"
     ]
    }
   ],
   "source": [
    "matrix = np.array([[1,2,3,4,5], [6,7,8,9,10]])\n",
    "print(f'matrix::\\n{matrix}')\n",
    "print('--------------------------------')\n",
    "print(f'matrix shape:: {matrix.shape}')\n",
    "print(f'matrix size:: {matrix.size}')\n",
    "print('--------------------------------')\n",
    "another_matrix = np.array([[1,2,3,4,5], [6,7,8,9,10]])\n",
    "print(f'another matrix::\\n{another_matrix}')\n"
   ]
  },
  {
   "cell_type": "code",
   "execution_count": 61,
   "metadata": {},
   "outputs": [
    {
     "name": "stdout",
     "output_type": "stream",
     "text": [
      "np.ones((4,3)::\n",
      "[[1. 1. 1.]\n",
      " [1. 1. 1.]\n",
      " [1. 1. 1.]\n",
      " [1. 1. 1.]]\n",
      "matrix shape:: (4, 3)\n",
      "matrix size:: 12\n",
      "--------------------------------\n",
      "np.zeros((3,3)::\n",
      "[[0. 0. 0.]\n",
      " [0. 0. 0.]\n",
      " [0. 0. 0.]]\n",
      "matrix shape:: (3, 3)\n",
      "matrix size:: 9\n",
      "--------------------------------\n",
      "np.zeros((5,5)::\n",
      "[[0. 0. 0. 0. 0.]\n",
      " [0. 0. 0. 0. 0.]\n",
      " [0. 0. 0. 0. 0.]\n",
      " [0. 0. 0. 0. 0.]\n",
      " [0. 0. 0. 0. 0.]]\n",
      "matrix shape:: (5, 5)\n",
      "matrix size:: 25\n"
     ]
    }
   ],
   "source": [
    "# define a matrix of a given dimension\n",
    "matrix_a = np.ones((4,3))\n",
    "print(f'np.ones((4,3)::\\n{matrix_a}')\n",
    "print(f'matrix shape:: {matrix_a.shape}')\n",
    "print(f'matrix size:: {matrix_a.size}')\n",
    "print('--------------------------------')\n",
    "matrix_b = np.zeros((3,3))\n",
    "print(f'np.zeros((3,3)::\\n{matrix_b}')\n",
    "print(f'matrix shape:: {matrix_b.shape}')\n",
    "print(f'matrix size:: {matrix_b.size}')\n",
    "print('--------------------------------')\n",
    "matrix_c = np.zeros((5,5))\n",
    "print(f'np.zeros((5,5)::\\n{matrix_c}')\n",
    "print(f'matrix shape:: {matrix_c.shape}')\n",
    "print(f'matrix size:: {matrix_c.size}')"
   ]
  },
  {
   "cell_type": "markdown",
   "metadata": {},
   "source": [
    "#### Tensors - A tensor is a multi-dimensional array. Tensors generalize scalars, vectors, and matrices to higher dimensions."
   ]
  },
  {
   "cell_type": "code",
   "execution_count": 9,
   "metadata": {},
   "outputs": [
    {
     "name": "stdout",
     "output_type": "stream",
     "text": [
      "tensor:: [[[ 1  2  3  4  5]\n",
      "  [ 6  7  8  9 10]\n",
      "  [11 12 13 14 15]]]\n"
     ]
    }
   ],
   "source": [
    "tensor = np.array([[[1,2,3,4,5], [6,7,8,9,10], [11,12,13,14,15]]])\n",
    "print(f'tensor:: {tensor}')"
   ]
  },
  {
   "cell_type": "markdown",
   "metadata": {},
   "source": [
    "## Operations"
   ]
  },
  {
   "cell_type": "code",
   "execution_count": 12,
   "metadata": {},
   "outputs": [
    {
     "name": "stdout",
     "output_type": "stream",
     "text": [
      "a:: 2, b:: 2\n",
      "--------------------------------\n",
      "Scaler Addition, (a+b)::  3\n",
      "Scaler Subtraction, (a-b)::  -1\n",
      "Scaler MUltiplication, (a*b)::  2\n",
      "Scaler Division::, (a/b)  0.5\n"
     ]
    }
   ],
   "source": [
    "## Scaler Operations\n",
    "\n",
    "a = 1\n",
    "b = 2\n",
    "\n",
    "print(f'a:: {b}, b:: {b}')\n",
    "print('--------------------------------')\n",
    "print('Scaler Addition, (a+b):: ', a+b)\n",
    "print('Scaler Subtraction, (a-b):: ', a-b)\n",
    "print('Scaler MUltiplication, (a*b):: ', a*b)\n",
    "print('Scaler Division::, (a/b) ', a/b)"
   ]
  },
  {
   "cell_type": "code",
   "execution_count": 16,
   "metadata": {},
   "outputs": [
    {
     "name": "stdout",
     "output_type": "stream",
     "text": [
      "a:: [1 2 3 4 5], b:: [ 6  7  8  9 10]\n",
      "-------------------------------------------------\n",
      "Vecotr Addition,         (a+b)::  [ 7  9 11 13 15]\n",
      "Vecotr Subtraction,      (a-b)::  [-5 -5 -5 -5 -5]\n",
      "Vecotr MUltiplication,   (a*b)::  [ 6 14 24 36 50]\n",
      "Vecotr Division,         (a/b)::  [0.16666667 0.28571429 0.375      0.44444444 0.5       ]\n"
     ]
    }
   ],
   "source": [
    "# Vector Operations\n",
    "a = np.array([1,2,3,4,5])\n",
    "b = np.array([6,7,8,9,10])\n",
    "\n",
    "print(f'a:: {a}, b:: {b}')\n",
    "print('-------------------------------------------------')\n",
    "print('Vector Addition,         (a+b):: ', a+b)\n",
    "print('Vector Subtraction,      (a-b):: ', a-b)\n",
    "print('Vector MUltiplication,   (a*b):: ', a*b)\n",
    "print('Vector Division,         (a/b):: ', a/b)"
   ]
  },
  {
   "cell_type": "code",
   "execution_count": 29,
   "metadata": {},
   "outputs": [
    {
     "name": "stdout",
     "output_type": "stream",
     "text": [
      "a:: [[1 2]],\n",
      "b:: [[ 6  7]\n",
      " [ 8  9]\n",
      " [10 11]]\n",
      "-------------------------------------------------\n",
      "Matrix Addition\\, (a+b)::\n",
      " [[ 7  9]\n",
      " [ 9 11]\n",
      " [11 13]]\n",
      "Matrix Subtraction\\, (a-b)::\n",
      " [[-5 -5]\n",
      " [-7 -7]\n",
      " [-9 -9]]\n"
     ]
    },
    {
     "name": "stderr",
     "output_type": "stream",
     "text": [
      "<>:7: SyntaxWarning: invalid escape sequence '\\,'\n",
      "<>:8: SyntaxWarning: invalid escape sequence '\\,'\n",
      "<>:7: SyntaxWarning: invalid escape sequence '\\,'\n",
      "<>:8: SyntaxWarning: invalid escape sequence '\\,'\n",
      "C:\\Users\\Sean\\AppData\\Local\\Temp\\ipykernel_11328\\2978799259.py:7: SyntaxWarning: invalid escape sequence '\\,'\n",
      "  print('Matrix Addition\\, (a+b)::\\n', a+b)\n",
      "C:\\Users\\Sean\\AppData\\Local\\Temp\\ipykernel_11328\\2978799259.py:8: SyntaxWarning: invalid escape sequence '\\,'\n",
      "  print('Matrix Subtraction\\, (a-b)::\\n', a-b)\n"
     ]
    }
   ],
   "source": [
    "# Matrix Operations\n",
    "a = np.array([[1,2]])\n",
    "b = np.array([[6,7],[8,9],[10,11]])\n",
    "\n",
    "print(f'a:: {a},\\nb:: {b}')\n",
    "print('-------------------------------------------------')\n",
    "print('Matrix Addition\\, (a+b)::\\n', a+b)\n",
    "print('Matrix Subtraction\\, (a-b)::\\n', a-b)"
   ]
  },
  {
   "cell_type": "code",
   "execution_count": 39,
   "metadata": {},
   "outputs": [
    {
     "name": "stdout",
     "output_type": "stream",
     "text": [
      "a:: [[1 2 3]]\n",
      "b:: [[ 6  7]\n",
      " [ 8  9]\n",
      " [10 11]]\n",
      "-------------------------------------------------\n",
      "Matrix Multiplication, (a*b)::  [[52 58]]\n",
      "Matrix Division, (a/b)::  [[ 2.5 -2. ]]\n"
     ]
    }
   ],
   "source": [
    "import numpy as np\n",
    "\n",
    "# Define the matrices\n",
    "a = np.array([[1, 2, 3]])\n",
    "b = np.array([[6, 7], [8, 9], [10, 11]])\n",
    "\n",
    "print(f'a:: {a}\\nb:: {b}')\n",
    "print('-------------------------------------------------')\n",
    "print('Matrix Multiplication, (a*b):: ', np.dot(a, b))\n",
    "\n",
    "# To perform the matrix division a/b, we need to ensure that the dimensions align correctly.\n",
    "# Since a is a 1×3 matrix and the pseudo-inverse of b will be a 2×3 matrix,\n",
    "# we should transpose the result of the pseudo-inverse to get a 3×2 matrix,\n",
    "# which can then be multiplied by a.\n",
    "\n",
    "# To perform matrix division a/b:\n",
    "# - Compute the pseudo-inverse of b.\n",
    "# - Transpose the pseudo-inverse to match dimensions.\n",
    "# - Multiply a by the transposed pseudo-inverse.\n",
    "\n",
    "# Compute the pseudo-inverse of b\n",
    "b_pseudo_inverse = np.linalg.pinv(b)\n",
    "\n",
    "# Perform the matrix multiplication a * b_pseudo_inverse.T\n",
    "print('Matrix Division, (a/b):: ', np.dot(a, b_pseudo_inverse.T))\n"
   ]
  },
  {
   "cell_type": "code",
   "execution_count": 40,
   "metadata": {},
   "outputs": [
    {
     "name": "stdout",
     "output_type": "stream",
     "text": [
      "Tensor Sum:\n",
      "[[[10 12]\n",
      "  [14 16]]\n",
      "\n",
      " [[18 20]\n",
      "  [22 24]]]\n",
      "Tensor Element-wise Product:\n",
      "[[[  9  20]\n",
      "  [ 33  48]]\n",
      "\n",
      " [[ 65  84]\n",
      "  [105 128]]]\n"
     ]
    }
   ],
   "source": [
    "# Tensor Operations\n",
    "a = np.array([[[1, 2], [3, 4]], [[5, 6], [7, 8]]])\n",
    "b = np.array([[[9, 10], [11, 12]], [[13, 14], [15, 16]]])\n",
    "\n",
    "# Tensor addition\n",
    "tensor_sum = a + b\n",
    "\n",
    "# Tensor element-wise multiplication\n",
    "tensor_elementwise_product = a * b\n",
    "\n",
    "print(\"Tensor Sum:\")\n",
    "print(tensor_sum)\n",
    "print(\"Tensor Element-wise Product:\")\n",
    "print(tensor_elementwise_product)\n"
   ]
  },
  {
   "cell_type": "code",
   "execution_count": null,
   "metadata": {},
   "outputs": [],
   "source": []
  }
 ],
 "metadata": {
  "kernelspec": {
   "display_name": "Python 3",
   "language": "python",
   "name": "python3"
  },
  "language_info": {
   "codemirror_mode": {
    "name": "ipython",
    "version": 3
   },
   "file_extension": ".py",
   "mimetype": "text/x-python",
   "name": "python",
   "nbconvert_exporter": "python",
   "pygments_lexer": "ipython3",
   "version": "3.12.4"
  }
 },
 "nbformat": 4,
 "nbformat_minor": 2
}
