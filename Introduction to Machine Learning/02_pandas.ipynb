{
  "nbformat": 4,
  "nbformat_minor": 0,
  "metadata": {
    "colab": {
      "name": "02_pandas.ipynb",
      "provenance": []
    },
    "kernelspec": {
      "name": "python3",
      "display_name": "Python 3"
    },
    "language_info": {
      "name": "python"
    }
  },
  "cells": [
    {
      "cell_type": "markdown",
      "source": [
        "[![Open In Colab](https://colab.research.google.com/assets/colab-badge.svg)](https://colab.research.google.com/drive/153cW4XF3kVfXzdJPpPX-09ad0XTmA665?usp=sharing)"
      ],
      "metadata": {
        "id": "X6AwScmLI109"
      }
    },
    {
      "cell_type": "markdown",
      "source": [
        "https://www.kaggle.com/kashnitsky/topic-1-exploratory-data-analysis-with-pandas"
      ],
      "metadata": {
        "id": "W_qpAKQBA1FA"
      }
    },
    {
      "cell_type": "code",
      "execution_count": null,
      "metadata": {
        "id": "ZAJ7POGc-ZA5"
      },
      "outputs": [],
      "source": [
        "import numpy as np\n",
        "import pandas as pd\n",
        "\n",
        "pd.set_option(\"display.precision\", 2)"
      ]
    },
    {
      "cell_type": "code",
      "source": [
        "df = pd.read_csv(\"telecom_churn.csv\")\n",
        "df.head()"
      ],
      "metadata": {
        "id": "Nj_abPi5Ahpg"
      },
      "execution_count": null,
      "outputs": []
    },
    {
      "cell_type": "code",
      "source": [
        "df.describe()"
      ],
      "metadata": {
        "id": "xwt-RIoiAnod"
      },
      "execution_count": null,
      "outputs": []
    },
    {
      "cell_type": "code",
      "source": [
        "print(df.shape)"
      ],
      "metadata": {
        "id": "vfEO0Dl_Asxt"
      },
      "execution_count": null,
      "outputs": []
    },
    {
      "cell_type": "code",
      "source": [
        "print(df.columns)"
      ],
      "metadata": {
        "id": "asiG0--VA7Am"
      },
      "execution_count": null,
      "outputs": []
    },
    {
      "cell_type": "code",
      "source": [
        "type(df.columns)"
      ],
      "metadata": {
        "id": "Ess3rWRaA-jL"
      },
      "execution_count": null,
      "outputs": []
    },
    {
      "cell_type": "code",
      "source": [
        "print(df.info())"
      ],
      "metadata": {
        "id": "wTA0NlHbA_u6"
      },
      "execution_count": null,
      "outputs": []
    },
    {
      "cell_type": "code",
      "source": [
        "df['Churn']"
      ],
      "metadata": {
        "id": "XTJpkhE6BOvj"
      },
      "execution_count": null,
      "outputs": []
    },
    {
      "cell_type": "code",
      "source": [
        "df[\"Churn\"] = df[\"Churn\"].astype(\"int64\")"
      ],
      "metadata": {
        "id": "K8CNuO-tBgoO"
      },
      "execution_count": null,
      "outputs": []
    },
    {
      "cell_type": "code",
      "source": [
        "df[\"Churn\"]"
      ],
      "metadata": {
        "id": "qcTeeV6cBn2W"
      },
      "execution_count": null,
      "outputs": []
    },
    {
      "cell_type": "code",
      "source": [
        "df[\"Churn\"].value_counts()"
      ],
      "metadata": {
        "id": "MMZVF8HIBo3Y"
      },
      "execution_count": null,
      "outputs": []
    },
    {
      "cell_type": "code",
      "source": [
        "df[\"Churn\"].value_counts(normalize=True)"
      ],
      "metadata": {
        "id": "qaq0vdqFBul7"
      },
      "execution_count": null,
      "outputs": []
    },
    {
      "cell_type": "code",
      "source": [
        "df.sort_values(by=\"Total day charge\", ascending=False).head(10)"
      ],
      "metadata": {
        "id": "QHNNR2teB076"
      },
      "execution_count": null,
      "outputs": []
    },
    {
      "cell_type": "code",
      "source": [
        "df[\"Churn\"].mean()"
      ],
      "metadata": {
        "id": "H4rJUBzuB8hT"
      },
      "execution_count": null,
      "outputs": []
    },
    {
      "cell_type": "markdown",
      "source": [
        "How much time (on average) do churned users spend on the phone during daytime?"
      ],
      "metadata": {
        "id": "m56YqwzfCwJn"
      }
    },
    {
      "cell_type": "code",
      "source": [
        "df[df[\"Churn\"] == 1][\"Total day minutes\"].mean()"
      ],
      "metadata": {
        "id": "28Cm1R3VCwe4"
      },
      "execution_count": null,
      "outputs": []
    },
    {
      "cell_type": "markdown",
      "source": [
        "What is the maximum length of international calls among loyal users (Churn == 0) who do not have an international plan?\n",
        "\n"
      ],
      "metadata": {
        "id": "zpgyDO2UDA0N"
      }
    },
    {
      "cell_type": "code",
      "source": [
        "df[(df[\"Churn\"] == 0) & (df[\"International plan\"] == \"No\")][\"Total intl minutes\"].max()"
      ],
      "metadata": {
        "id": "5BgeoQubC1Or"
      },
      "execution_count": null,
      "outputs": []
    },
    {
      "cell_type": "code",
      "source": [
        "df.iloc[0:5, 0:3]"
      ],
      "metadata": {
        "id": "mifhCwnhDEDK"
      },
      "execution_count": null,
      "outputs": []
    },
    {
      "cell_type": "markdown",
      "source": [
        "Applying Functions to Cells, Columns and Rows."
      ],
      "metadata": {
        "id": "hAl-8CN7DVXv"
      }
    },
    {
      "cell_type": "code",
      "source": [
        "df.apply(np.max)"
      ],
      "metadata": {
        "id": "n2GMI09WDUrJ"
      },
      "execution_count": null,
      "outputs": []
    },
    {
      "cell_type": "code",
      "source": [
        "df[df[\"State\"].apply(lambda state: state[0] == \"W\")].head(10)"
      ],
      "metadata": {
        "id": "udChyEbJDQLD"
      },
      "execution_count": null,
      "outputs": []
    },
    {
      "cell_type": "code",
      "source": [
        "df[df[\"State\"].apply(lambda state: state[0] == \"W\")][\"State\"].unique()"
      ],
      "metadata": {
        "id": "uCC1Be4LEe6O"
      },
      "execution_count": null,
      "outputs": []
    },
    {
      "cell_type": "code",
      "source": [
        "df_grouped = df.groupby(['State'])\n",
        "df_grouped.apply(print)"
      ],
      "metadata": {
        "id": "8XB-AISkEoXh"
      },
      "execution_count": null,
      "outputs": []
    },
    {
      "cell_type": "code",
      "source": [
        "df_grouped.get_group('MA') "
      ],
      "metadata": {
        "id": "TbdlJ_8KGHBz"
      },
      "execution_count": null,
      "outputs": []
    },
    {
      "cell_type": "code",
      "source": [
        "df.head()"
      ],
      "metadata": {
        "id": "oFwBna4KGUh3"
      },
      "execution_count": null,
      "outputs": []
    },
    {
      "cell_type": "code",
      "source": [
        "df.index"
      ],
      "metadata": {
        "id": "fz6rHlNgH2Sx"
      },
      "execution_count": null,
      "outputs": []
    },
    {
      "cell_type": "code",
      "source": [
        "X = df.drop(['State', 'Churn'], axis=1).to_numpy()\n",
        "y = df['Churn'].to_numpy()"
      ],
      "metadata": {
        "id": "uO0sNnJAH3JJ"
      },
      "execution_count": null,
      "outputs": []
    },
    {
      "cell_type": "code",
      "source": [
        "X.shape, y.shape"
      ],
      "metadata": {
        "id": "cAFU4-RSH8Wg"
      },
      "execution_count": null,
      "outputs": []
    },
    {
      "cell_type": "code",
      "source": [
        "from sklearn.model_selection import train_test_split"
      ],
      "metadata": {
        "id": "jYMD7y7ZH9Dq"
      },
      "execution_count": null,
      "outputs": []
    },
    {
      "cell_type": "code",
      "source": [
        "X_train, X_test, y_train, y_test = train_test_split(X, y, test_size=0.3333, random_state=42)"
      ],
      "metadata": {
        "id": "M66jV89jH9qe"
      },
      "execution_count": null,
      "outputs": []
    },
    {
      "cell_type": "code",
      "source": [
        "X_train.shape, y_train.shape"
      ],
      "metadata": {
        "id": "qw2CtdBMIkGC"
      },
      "execution_count": null,
      "outputs": []
    },
    {
      "cell_type": "code",
      "source": [
        "X_test.shape, y_test.shape"
      ],
      "metadata": {
        "id": "nEjayxZqIlT6"
      },
      "execution_count": null,
      "outputs": []
    },
    {
      "cell_type": "code",
      "source": [
        ""
      ],
      "metadata": {
        "id": "uDJ3BcrsIprD"
      },
      "execution_count": null,
      "outputs": []
    }
  ]
}