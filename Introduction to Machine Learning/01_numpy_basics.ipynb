{
  "nbformat": 4,
  "nbformat_minor": 0,
  "metadata": {
    "colab": {
      "name": "01_numpy_basics",
      "provenance": [],
      "collapsed_sections": []
    },
    "kernelspec": {
      "name": "python3",
      "display_name": "Python 3"
    },
    "language_info": {
      "name": "python"
    }
  },
  "cells": [
    {
      "cell_type": "markdown",
      "source": [
        "[![Open In Colab](https://colab.research.google.com/assets/colab-badge.svg)](https://colab.research.google.com/drive/1Q3uUS0RZH-deTWIAQeOVbJ4AdNH90zQN?usp=sharing)"
      ],
      "metadata": {
        "id": "x8IXJI1wB6HL"
      }
    },
    {
      "cell_type": "markdown",
      "source": [
        "### NumPy Arrays\n",
        "- NumPy array are by default Homogeneous, which means data inside an array must be of the same Datatype. \n",
        "- NumPy offers comprehensive mathematical functions, random number generators, linear algebra routines, Fourier transforms, and more.\n"
      ],
      "metadata": {
        "id": "Hui3yJAuCF1Q"
      }
    },
    {
      "cell_type": "code",
      "execution_count": null,
      "metadata": {
        "id": "pmqVa2kUBnAB"
      },
      "outputs": [],
      "source": [
        "import numpy as np\n",
        "print(np.__version__)"
      ]
    },
    {
      "cell_type": "code",
      "source": [
        "np.zeros(3)"
      ],
      "metadata": {
        "id": "r7NRC32rB4ay"
      },
      "execution_count": null,
      "outputs": []
    },
    {
      "cell_type": "code",
      "source": [
        "type(np.zeros(3))"
      ],
      "metadata": {
        "id": "2mrSWgfnF8Zc"
      },
      "execution_count": null,
      "outputs": []
    },
    {
      "cell_type": "code",
      "source": [
        "np.zeros((3,2))"
      ],
      "metadata": {
        "id": "lv1JhfV8F_pN"
      },
      "execution_count": null,
      "outputs": []
    },
    {
      "cell_type": "code",
      "source": [
        "np.zeros((3,2,2))"
      ],
      "metadata": {
        "id": "OMJtP9zkGEYE"
      },
      "execution_count": null,
      "outputs": []
    },
    {
      "cell_type": "code",
      "source": [
        "np.zeros(3).shape"
      ],
      "metadata": {
        "id": "sSu1DrRdGH79"
      },
      "execution_count": null,
      "outputs": []
    },
    {
      "cell_type": "code",
      "source": [
        "np.zeros((3,2)).shape"
      ],
      "metadata": {
        "id": "-n6qLbAmGO_P"
      },
      "execution_count": null,
      "outputs": []
    },
    {
      "cell_type": "code",
      "source": [
        "np.zeros(3).ndim"
      ],
      "metadata": {
        "id": "WdTdU-jFGQc_"
      },
      "execution_count": null,
      "outputs": []
    },
    {
      "cell_type": "code",
      "source": [
        "np.zeros((3,2)).ndim"
      ],
      "metadata": {
        "id": "66MLgB8hGY96"
      },
      "execution_count": null,
      "outputs": []
    },
    {
      "cell_type": "code",
      "source": [
        "np.ones((2,3))"
      ],
      "metadata": {
        "id": "G4M4CdH5GagJ"
      },
      "execution_count": null,
      "outputs": []
    },
    {
      "cell_type": "code",
      "source": [
        "np.array([[1,2,3,4],[10,20,30,40]])"
      ],
      "metadata": {
        "id": "8SwsATGIGlil"
      },
      "execution_count": null,
      "outputs": []
    },
    {
      "cell_type": "code",
      "source": [
        "np.arange(5)"
      ],
      "metadata": {
        "id": "pB4zLMKHG03e"
      },
      "execution_count": null,
      "outputs": []
    },
    {
      "cell_type": "code",
      "source": [
        "np.arange(0,5,0.5)"
      ],
      "metadata": {
        "id": "Rg4pdNLtG8hE"
      },
      "execution_count": null,
      "outputs": []
    },
    {
      "cell_type": "code",
      "source": [
        "np.linspace(0,4.5,10)"
      ],
      "metadata": {
        "id": "O_gybIjDHHld"
      },
      "execution_count": null,
      "outputs": []
    },
    {
      "cell_type": "code",
      "source": [
        "n= 1000000 \n",
        "a = np.random.rand(n)\n",
        "b = np.random.rand(n)"
      ],
      "metadata": {
        "id": "nSeDy2TLHO1s"
      },
      "execution_count": null,
      "outputs": []
    },
    {
      "cell_type": "code",
      "source": [
        "import time \n",
        "\"\"\"\n",
        "Record multiple running times.\n",
        "\"\"\"\n",
        "class Timer: \n",
        "    def __init__(self):\n",
        "        self.times = []\n",
        "\n",
        "    def start(self):\n",
        "        self.tik = time.time()\n",
        "    \n",
        "    def stop(self):\n",
        "        self.times.append(time.time() - self.tik)\n",
        "        return self.times[-1]"
      ],
      "metadata": {
        "id": "AX7M5iyIHvGR"
      },
      "execution_count": null,
      "outputs": []
    },
    {
      "cell_type": "code",
      "source": [
        "timer = Timer()\n",
        "\n",
        "timer.start()\n",
        "c = np.zeros(n)\n",
        "for i in range(n):\n",
        "    c[i] = a[i] + b[i]\n",
        "timer.stop()\n",
        "\n",
        "timer.start()\n",
        "c = a + b\n",
        "timer.stop()"
      ],
      "metadata": {
        "id": "udZpE00aHvmB"
      },
      "execution_count": null,
      "outputs": []
    },
    {
      "cell_type": "code",
      "source": [
        "timer.times"
      ],
      "metadata": {
        "id": "ke9dFUneIXzM"
      },
      "execution_count": null,
      "outputs": []
    },
    {
      "cell_type": "code",
      "source": [
        "print(\"speedup is: %s\" % (timer.times[0]/timer.times[1]))"
      ],
      "metadata": {
        "id": "N5KSgdptIfz4"
      },
      "execution_count": null,
      "outputs": []
    },
    {
      "cell_type": "code",
      "source": [
        "a = np.array([[1,2,3,4],[10,20,30,40]])\n",
        "print(a)"
      ],
      "metadata": {
        "id": "7V6txMKhItUT"
      },
      "execution_count": null,
      "outputs": []
    },
    {
      "cell_type": "code",
      "source": [
        "b = a.reshape(4,2)\n",
        "print(b)"
      ],
      "metadata": {
        "id": "UPCTPc4-JFm4"
      },
      "execution_count": null,
      "outputs": []
    },
    {
      "cell_type": "code",
      "source": [
        "b[0,1] = -1"
      ],
      "metadata": {
        "id": "JhyPh7LSJOc1"
      },
      "execution_count": null,
      "outputs": []
    },
    {
      "cell_type": "code",
      "source": [
        "print(b)"
      ],
      "metadata": {
        "id": "9R_KRM_XJSWa"
      },
      "execution_count": null,
      "outputs": []
    },
    {
      "cell_type": "code",
      "source": [
        "print(a)"
      ],
      "metadata": {
        "id": "5R-2oVR3JTV9"
      },
      "execution_count": null,
      "outputs": []
    },
    {
      "cell_type": "code",
      "source": [
        "c = np.array([3,4,5,6,7,8,9])"
      ],
      "metadata": {
        "id": "IFy8JQqgJUX5"
      },
      "execution_count": null,
      "outputs": []
    },
    {
      "cell_type": "code",
      "source": [
        "c > 6"
      ],
      "metadata": {
        "id": "VpjFjX6yJe_f"
      },
      "execution_count": null,
      "outputs": []
    },
    {
      "cell_type": "code",
      "source": [
        "c[c>6]"
      ],
      "metadata": {
        "id": "pCjmgPtmJh58"
      },
      "execution_count": null,
      "outputs": []
    }
  ]
}