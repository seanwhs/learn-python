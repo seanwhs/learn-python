{
  "nbformat": 4,
  "nbformat_minor": 0,
  "metadata": {
    "colab": {
      "name": "02_numpy_advanced.ipynb",
      "provenance": []
    },
    "kernelspec": {
      "name": "python3",
      "display_name": "Python 3"
    },
    "language_info": {
      "name": "python"
    }
  },
  "cells": [
    {
      "cell_type": "markdown",
      "source": [
        "[![Open In Colab](https://colab.research.google.com/assets/colab-badge.svg)](https://colab.research.google.com/drive/1Bf200avbNSsFw4lSbxdgswDStwrkP21p?usp=sharing)"
      ],
      "metadata": {
        "id": "p6m1M9Cb1OdT"
      }
    },
    {
      "cell_type": "code",
      "execution_count": null,
      "metadata": {
        "id": "8VRxmfxe1FTi"
      },
      "outputs": [],
      "source": [
        "import numpy as np"
      ]
    },
    {
      "cell_type": "code",
      "source": [
        "x = np.array([3,4])"
      ],
      "metadata": {
        "id": "alCqDRlH3hNM"
      },
      "execution_count": null,
      "outputs": []
    },
    {
      "cell_type": "code",
      "source": [
        "import math \n",
        "\n",
        "def vector_norm(vector):\n",
        "    squares = [elements**2 for elements in vector]\n",
        "    return math.sqrt(sum(squares))"
      ],
      "metadata": {
        "id": "F3sQEGB_3kms"
      },
      "execution_count": null,
      "outputs": []
    },
    {
      "cell_type": "code",
      "source": [
        "vector_norm(x)"
      ],
      "metadata": {
        "id": "0Hag9wcH383c"
      },
      "execution_count": null,
      "outputs": []
    },
    {
      "cell_type": "code",
      "source": [
        "from numpy import linalg \n",
        "linalg.norm(x)"
      ],
      "metadata": {
        "id": "hqT8iEgj3_Sy"
      },
      "execution_count": null,
      "outputs": []
    },
    {
      "cell_type": "markdown",
      "source": [
        "### NumPy linear algebra functions\n",
        "https://numpy.org/doc/stable/reference/routines.linalg.html"
      ],
      "metadata": {
        "id": "QHqC4sZh4Ugo"
      }
    },
    {
      "cell_type": "code",
      "source": [
        "y = np.array([2,3])"
      ],
      "metadata": {
        "id": "1dm2jbva4K9A"
      },
      "execution_count": null,
      "outputs": []
    },
    {
      "cell_type": "code",
      "source": [
        "np.dot(x,y)"
      ],
      "metadata": {
        "id": "h9797Fah4jbL"
      },
      "execution_count": null,
      "outputs": []
    },
    {
      "cell_type": "code",
      "source": [
        "np.dot(x,y) == np.dot(y,x)"
      ],
      "metadata": {
        "id": "Y1xplS5q4lTA"
      },
      "execution_count": null,
      "outputs": []
    },
    {
      "cell_type": "code",
      "source": [
        "A = np.array([[1,2,3],[4,5,6]])\n",
        "print(A)"
      ],
      "metadata": {
        "id": "H5lYDvKJ4qcM"
      },
      "execution_count": null,
      "outputs": []
    },
    {
      "cell_type": "code",
      "source": [
        "x = np.array([2,4,5]).reshape(-1,1)\n",
        "print(x)"
      ],
      "metadata": {
        "id": "BsnCBBZO4wEk"
      },
      "execution_count": null,
      "outputs": []
    },
    {
      "cell_type": "code",
      "source": [
        "z = np.matmul(A,x)\n",
        "print(z)"
      ],
      "metadata": {
        "id": "NTIXPURu43xE"
      },
      "execution_count": null,
      "outputs": []
    },
    {
      "cell_type": "code",
      "source": [
        "A.shape, x.shape, z.shape"
      ],
      "metadata": {
        "id": "ncb_cJ3z49RO"
      },
      "execution_count": null,
      "outputs": []
    },
    {
      "cell_type": "code",
      "source": [
        "D = np.array([\n",
        "            [2, 3, 5, 7],\n",
        "            [11, 13, 17, 19],\n",
        "            [23, 29, 31, 37]\n",
        "])\n",
        "\n",
        "A = np.array([[3], [4], [5]])"
      ],
      "metadata": {
        "id": "j0YkC-N85KZA"
      },
      "execution_count": null,
      "outputs": []
    },
    {
      "cell_type": "code",
      "source": [
        "try:\n",
        "    np.matmul(D, A)\n",
        "except ValueError as e:\n",
        "    print(\"ValueError\", e)"
      ],
      "metadata": {
        "id": "h5rY92-N5kzt"
      },
      "execution_count": null,
      "outputs": []
    },
    {
      "cell_type": "code",
      "source": [
        "F = np.array([[5,2],\n",
        "              [4,1],\n",
        "              [9,3]])\n",
        "print(F)"
      ],
      "metadata": {
        "id": "xRzOZN-F57lY"
      },
      "execution_count": null,
      "outputs": []
    },
    {
      "cell_type": "code",
      "source": [
        "A = np.array([\n",
        "        [10, 20, 30],\n",
        "        [40, 50, 60]\n",
        "])\n",
        "print(A)"
      ],
      "metadata": {
        "id": "hHQEwAr76coM"
      },
      "execution_count": null,
      "outputs": []
    },
    {
      "cell_type": "code",
      "source": [
        "A.dot(F)"
      ],
      "metadata": {
        "id": "cSeM0iFj6l_q"
      },
      "execution_count": null,
      "outputs": []
    },
    {
      "cell_type": "code",
      "source": [
        "F.dot(A)"
      ],
      "metadata": {
        "id": "F_SSDKoR6sGM"
      },
      "execution_count": null,
      "outputs": []
    },
    {
      "cell_type": "code",
      "source": [
        "A"
      ],
      "metadata": {
        "id": "9AriEnfi6trq"
      },
      "execution_count": null,
      "outputs": []
    },
    {
      "cell_type": "code",
      "source": [
        "A.T"
      ],
      "metadata": {
        "id": "IpyBP3S46yLV"
      },
      "execution_count": null,
      "outputs": []
    },
    {
      "cell_type": "code",
      "source": [
        "E = np.array([[1,1.5], [0,1]])\n",
        "print(E)"
      ],
      "metadata": {
        "id": "bzyMfajZ6y1w"
      },
      "execution_count": null,
      "outputs": []
    },
    {
      "cell_type": "code",
      "source": [
        "E_inv = linalg.inv(E)\n",
        "print(E_inv)"
      ],
      "metadata": {
        "id": "uYWWPGNG63xE"
      },
      "execution_count": null,
      "outputs": []
    },
    {
      "cell_type": "code",
      "source": [
        "np.matmul(E, E_inv) "
      ],
      "metadata": {
        "id": "-ogby2_768ZV"
      },
      "execution_count": null,
      "outputs": []
    },
    {
      "cell_type": "code",
      "source": [
        "np.matmul(E, E_inv)  == np.eye(2)"
      ],
      "metadata": {
        "id": "5Biwhrpn6_B0"
      },
      "execution_count": null,
      "outputs": []
    },
    {
      "cell_type": "code",
      "source": [
        "np.eye(2)"
      ],
      "metadata": {
        "id": "7D7QhwU07YOh"
      },
      "execution_count": null,
      "outputs": []
    },
    {
      "cell_type": "markdown",
      "source": [
        "How to extract all numbers between a given range from a numpy array?\n"
      ],
      "metadata": {
        "id": "DxSyNMVW711A"
      }
    },
    {
      "cell_type": "code",
      "source": [
        "# Get all numbers between 8 and 12\n",
        "a = np.array([2, 6, 1, 9, 10, 3, 27])"
      ],
      "metadata": {
        "id": "J8H1FAmw7dmY"
      },
      "execution_count": null,
      "outputs": []
    },
    {
      "cell_type": "code",
      "source": [
        "index = np.where(np.logical_and(a >= 8, a <=12))\n",
        "print(index)"
      ],
      "metadata": {
        "id": "jVp8NSRM8ATD"
      },
      "execution_count": null,
      "outputs": []
    },
    {
      "cell_type": "code",
      "source": [
        "a[index]"
      ],
      "metadata": {
        "id": "y1xcW5lu8Ip0"
      },
      "execution_count": null,
      "outputs": []
    },
    {
      "cell_type": "code",
      "source": [
        "c = np.array([1,2,3])"
      ],
      "metadata": {
        "id": "jSNaq5Qw9mHG"
      },
      "execution_count": null,
      "outputs": []
    },
    {
      "cell_type": "code",
      "source": [
        "mu, med, sd = np.mean(c), np.median(c), np.std(c)\n",
        "print(mu, med, sd)"
      ],
      "metadata": {
        "id": "-2rUcruH93pR"
      },
      "execution_count": null,
      "outputs": []
    },
    {
      "cell_type": "code",
      "source": [
        "math.sqrt(sum([(item - mu)**2 for item in c])/3)"
      ],
      "metadata": {
        "id": "RBBY16qz9667"
      },
      "execution_count": null,
      "outputs": []
    },
    {
      "cell_type": "code",
      "source": [
        "d = (c - mu)/sd\n",
        "print(d)"
      ],
      "metadata": {
        "id": "gpvObcdq-S62"
      },
      "execution_count": null,
      "outputs": []
    },
    {
      "cell_type": "code",
      "source": [
        "print(np.mean(d), np.std(d))"
      ],
      "metadata": {
        "id": "ATc-z7xp-ZD1"
      },
      "execution_count": null,
      "outputs": []
    }
  ]
}