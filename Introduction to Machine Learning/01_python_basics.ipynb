{
  "cells": [
    {
      "cell_type": "markdown",
      "source": [
        "[![Open In Colab](https://colab.research.google.com/assets/colab-badge.svg)](https://colab.research.google.com/drive/1nx7EDYFZvWRHaV2aXjabisSK58QtSm0o#scrollTo=kVEavBR6gdiA)"
      ],
      "metadata": {
        "id": "kVEavBR6gdiA"
      }
    },
    {
      "cell_type": "markdown",
      "source": [
        "### Data Types and Type Conversion\n",
        "\n",
        "- Every value in a program has a specific type.\n",
        "\n",
        "- Integer (int): represents positive or negative whole numbers.\n",
        "\n",
        "- Floating point number (float): represents real numbers like 3.14159.\n",
        "\n",
        "- Character string (usually called “string”, str): text.\n",
        "Written in either single quotes or double quotes (as long as they match).\n",
        "\n",
        "    - The quote marks aren’t printed when the string is displayed.\n",
        "\n"
      ],
      "metadata": {
        "id": "zsBLZL0WhWbf"
      }
    },
    {
      "cell_type": "code",
      "execution_count": null,
      "metadata": {
        "id": "hkT7qfMlJUPk"
      },
      "outputs": [],
      "source": [
        "print(type(5), type(5.2), type(\"5\"))"
      ]
    },
    {
      "cell_type": "code",
      "source": [
        "a = \"5\"\n",
        "b = int(a)\n",
        "print(b, type(b))"
      ],
      "metadata": {
        "id": "Klw-7xfaiOQz"
      },
      "execution_count": null,
      "outputs": []
    },
    {
      "cell_type": "code",
      "source": [
        "print(\"This is a string.\")"
      ],
      "metadata": {
        "id": "JRV40OTdjZ_G"
      },
      "execution_count": null,
      "outputs": []
    },
    {
      "cell_type": "code",
      "source": [
        "print(5+2,'\\t', 5-2,'\\t', 5*2,'\\t', 5/2,'\\t', 5//2,'\\t', 5**2)"
      ],
      "metadata": {
        "id": "zk2Xhp4Giboe"
      },
      "execution_count": null,
      "outputs": []
    },
    {
      "cell_type": "markdown",
      "source": [
        "### Lists in Python \n",
        "- Lists are one of the most powerful tools in python. \n",
        "- They are just like the arrays declared in other languages. \n",
        "- The most powerful thing is that list need not be always homogeneous.\n",
        "-  Lists are mutable, i.e., they can be altered once declared."
      ],
      "metadata": {
        "id": "4UWeM0_3jpOJ"
      }
    },
    {
      "cell_type": "code",
      "source": [
        "alist = [1, \"a\" , 2 , 5.3]\n",
        "print(alist)"
      ],
      "metadata": {
        "id": "riVq6n7Ti_Uy"
      },
      "execution_count": null,
      "outputs": []
    },
    {
      "cell_type": "code",
      "source": [
        "print(alist[0],'\\t', alist[1], '\\t', alist[1:3], '\\t', len(alist))"
      ],
      "metadata": {
        "id": "RwLsgtoSkHx_"
      },
      "execution_count": null,
      "outputs": []
    },
    {
      "cell_type": "code",
      "source": [
        "blist = []\n",
        "blist.append(4)\n",
        "print(blist)"
      ],
      "metadata": {
        "id": "i_WYQelLkW8G"
      },
      "execution_count": null,
      "outputs": []
    },
    {
      "cell_type": "code",
      "source": [
        "blist.pop()"
      ],
      "metadata": {
        "id": "pEuQACLIkfQY"
      },
      "execution_count": null,
      "outputs": []
    },
    {
      "cell_type": "code",
      "source": [
        "print(blist)"
      ],
      "metadata": {
        "id": "3v4FpU-skwLf"
      },
      "execution_count": null,
      "outputs": []
    },
    {
      "cell_type": "code",
      "source": [
        "alist = [1, \"a\" , 2 , 5.3]\n",
        "alist.index(5.3)"
      ],
      "metadata": {
        "id": "MNJBY2R3kxos"
      },
      "execution_count": null,
      "outputs": []
    },
    {
      "cell_type": "code",
      "source": [
        "alist[0] = 0\n",
        "print(alist)"
      ],
      "metadata": {
        "id": "WxyPdrQ6kzfY"
      },
      "execution_count": null,
      "outputs": []
    },
    {
      "cell_type": "markdown",
      "source": [
        "### Tuples in Python \n",
        "- Tuples are just like lists with the exception that tuples cannot be changed once declared."
      ],
      "metadata": {
        "id": "MPAtgwuNlJg4"
      }
    },
    {
      "cell_type": "code",
      "source": [
        "t = (1, \"a\", \"string\", 1+2)\n",
        "print(t,'\\t', type(t))\n",
        "print(t[1])"
      ],
      "metadata": {
        "id": "4hmd9jq1k_Sk"
      },
      "execution_count": null,
      "outputs": []
    },
    {
      "cell_type": "markdown",
      "source": [
        "### Dictionaries in Python\n",
        "- Dictionary holds key:value pairs.\n",
        "- Indexing of Python Dictionary is done with the help of keys."
      ],
      "metadata": {
        "id": "6o4eAd9Jlobk"
      }
    },
    {
      "cell_type": "code",
      "source": [
        "d = {}\n",
        "d[\"fall2021\"] = 50 \n",
        "d[\"spring2022\"] = 80\n",
        "print(d)"
      ],
      "metadata": {
        "id": "sQFnhIeflVqy"
      },
      "execution_count": null,
      "outputs": []
    },
    {
      "cell_type": "code",
      "source": [
        "print(d.keys())"
      ],
      "metadata": {
        "id": "z1QzJwyJmChe"
      },
      "execution_count": null,
      "outputs": []
    },
    {
      "cell_type": "code",
      "source": [
        "print(d.items())"
      ],
      "metadata": {
        "id": "o2TXYo7jmHxG"
      },
      "execution_count": null,
      "outputs": []
    },
    {
      "cell_type": "markdown",
      "source": [
        "### Sets in Python\n",
        "- Set does not allow any duplicate element."
      ],
      "metadata": {
        "id": "SPtaz2Pomcmq"
      }
    },
    {
      "cell_type": "code",
      "source": [
        "my_set = set([1, 2, 2, 4, 4, 6, 7])\n",
        "print(my_set)"
      ],
      "metadata": {
        "id": "ZjABTSl3mKnA"
      },
      "execution_count": null,
      "outputs": []
    },
    {
      "cell_type": "code",
      "source": [
        "type(my_set)"
      ],
      "metadata": {
        "id": "bOtotsKUmzVv"
      },
      "execution_count": null,
      "outputs": []
    },
    {
      "cell_type": "markdown",
      "source": [
        "### Iterate over a list in Python\n",
        "- Method 1: Using For loop \n",
        "- Method 2: For loop and range()\n",
        "- Method 3: Using while loop \n",
        "- Method 4: Using list comprehension\n",
        "- Method 5: Using enumerate()"
      ],
      "metadata": {
        "id": "GaeNx9dZqh9O"
      }
    },
    {
      "cell_type": "code",
      "source": [
        "alist = [1, 3, 5, 7, 9]"
      ],
      "metadata": {
        "id": "8546fDyvm1eV"
      },
      "execution_count": null,
      "outputs": []
    },
    {
      "cell_type": "code",
      "source": [
        "for item in alist:\n",
        "    print(item)"
      ],
      "metadata": {
        "id": "rxpqwy6qm3lQ"
      },
      "execution_count": null,
      "outputs": []
    },
    {
      "cell_type": "code",
      "source": [
        "for index in range(len(alist)):\n",
        "    print(alist[index])"
      ],
      "metadata": {
        "id": "dxnUYoJrrvVf"
      },
      "execution_count": null,
      "outputs": []
    },
    {
      "cell_type": "code",
      "source": [
        "i = 0 \n",
        "while i < len(alist):\n",
        "    print(alist[i])\n",
        "    i += 1"
      ],
      "metadata": {
        "id": "TPcli0DVr0xY"
      },
      "execution_count": null,
      "outputs": []
    },
    {
      "cell_type": "code",
      "source": [
        "for i, val in enumerate(alist):\n",
        "    print (\"index\", i, \", value:\",val)"
      ],
      "metadata": {
        "id": "e7lkPjTlsJAH"
      },
      "execution_count": null,
      "outputs": []
    },
    {
      "cell_type": "markdown",
      "source": [
        "### if statement"
      ],
      "metadata": {
        "id": "oBmv7i_8tYy4"
      }
    },
    {
      "cell_type": "code",
      "source": [
        "x = 5\n",
        "\n",
        "if x < 0:\n",
        "    print('Negative')\n",
        "elif x == 0:\n",
        "    print('Zero')\n",
        "else:\n",
        "    print('Positive')"
      ],
      "metadata": {
        "id": "9M4LtZkAsY59"
      },
      "execution_count": null,
      "outputs": []
    },
    {
      "cell_type": "markdown",
      "source": [
        "### Defining Functions"
      ],
      "metadata": {
        "id": "ctPF9qlStutC"
      }
    },
    {
      "cell_type": "code",
      "source": [
        "def square(num):\n",
        "    num_new = num ** 2\n",
        "    return num_new"
      ],
      "metadata": {
        "id": "oUr2PrPdtoa6"
      },
      "execution_count": null,
      "outputs": []
    },
    {
      "cell_type": "code",
      "source": [
        "square(4)"
      ],
      "metadata": {
        "id": "7D8zOWeqt5Ur"
      },
      "execution_count": null,
      "outputs": []
    },
    {
      "cell_type": "code",
      "source": [
        "import time \n",
        "start_time = time.time()\n",
        "\n",
        "for i in range(1000000):\n",
        "    square(i)\n",
        "\n",
        "end_time = time.time()\n",
        "print(\"running time %s seconds\" % (end_time - start_time))"
      ],
      "metadata": {
        "id": "44aXnMCz5FfG"
      },
      "execution_count": null,
      "outputs": []
    },
    {
      "cell_type": "markdown",
      "source": [
        "### Defining Classes"
      ],
      "metadata": {
        "id": "DK-evnNwt_V6"
      }
    },
    {
      "cell_type": "code",
      "source": [
        "import time \n",
        "\"\"\"\n",
        "Record multiple running times.\n",
        "\"\"\"\n",
        "class Timer: \n",
        "    def __init__(self):\n",
        "        self.times = []\n",
        "\n",
        "    def start(self):\n",
        "        self.tik = time.time()\n",
        "    \n",
        "    def stop(self):\n",
        "        self.times.append(time.time() - self.tik)\n",
        "        return self.times[-1]"
      ],
      "metadata": {
        "id": "kWQA3Om2t6qf"
      },
      "execution_count": null,
      "outputs": []
    },
    {
      "cell_type": "code",
      "source": [
        "timer = Timer()\n",
        "\n",
        "timer.start()\n",
        "for i in range(100):\n",
        "    square(i)\n",
        "\n",
        "print(timer.stop())\n",
        "\n",
        "timer.start()\n",
        "for i in range(10000):\n",
        "    square(i)\n",
        "\n",
        "print(timer.stop())\n",
        "\n",
        "timer.start()\n",
        "for i in range(1000000):\n",
        "    square(i)\n",
        "\n",
        "print(timer.stop())"
      ],
      "metadata": {
        "id": "jWvaMb6R6f1f"
      },
      "execution_count": null,
      "outputs": []
    },
    {
      "cell_type": "code",
      "source": [
        "timer.times"
      ],
      "metadata": {
        "id": "kcmTaBf76kdo"
      },
      "execution_count": null,
      "outputs": []
    }
  ],
  "metadata": {
    "colab": {
      "name": "python_basics.ipynb",
      "provenance": [],
      "collapsed_sections": []
    },
    "kernelspec": {
      "display_name": "Python 3",
      "name": "python3"
    },
    "language_info": {
      "name": "python"
    }
  },
  "nbformat": 4,
  "nbformat_minor": 0
}