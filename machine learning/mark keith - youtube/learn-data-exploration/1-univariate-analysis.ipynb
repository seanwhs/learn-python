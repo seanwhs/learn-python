{
 "cells": [
  {
   "cell_type": "markdown",
   "metadata": {},
   "source": [
    "# Univariate Analysis"
   ]
  },
  {
   "cell_type": "markdown",
   "metadata": {},
   "source": [
    "## 1: General Information   \n",
    "https://www.youtube.com/watch?v=78ut-S-QOEQ&list=PLe9UEU4oeAuV7RtCbL76hca5ELO_IELk4&index=1 \n",
    "\n",
    "The following information about the dataset by writing code to generate these metrics:\n",
    "\n",
    "- Number of rows and columns\n",
    "- Number of unique values in each feature\n",
    "- The data type of each feature"
   ]
  },
  {
   "cell_type": "markdown",
   "metadata": {},
   "source": [
    "## 1. Initial Exploration"
   ]
  },
  {
   "cell_type": "code",
   "execution_count": 1,
   "metadata": {},
   "outputs": [],
   "source": [
    "# Import Libraries\n",
    "import pandas as pd\n",
    "import numpy as np"
   ]
  },
  {
   "cell_type": "code",
   "execution_count": 2,
   "metadata": {},
   "outputs": [
    {
     "data": {
      "text/html": [
       "<div>\n",
       "<style scoped>\n",
       "    .dataframe tbody tr th:only-of-type {\n",
       "        vertical-align: middle;\n",
       "    }\n",
       "\n",
       "    .dataframe tbody tr th {\n",
       "        vertical-align: top;\n",
       "    }\n",
       "\n",
       "    .dataframe thead th {\n",
       "        text-align: right;\n",
       "    }\n",
       "</style>\n",
       "<table border=\"1\" class=\"dataframe\">\n",
       "  <thead>\n",
       "    <tr style=\"text-align: right;\">\n",
       "      <th></th>\n",
       "      <th>age</th>\n",
       "      <th>sex</th>\n",
       "      <th>bmi</th>\n",
       "      <th>children</th>\n",
       "      <th>smoker</th>\n",
       "      <th>region</th>\n",
       "      <th>charges</th>\n",
       "    </tr>\n",
       "  </thead>\n",
       "  <tbody>\n",
       "    <tr>\n",
       "      <th>0</th>\n",
       "      <td>19</td>\n",
       "      <td>female</td>\n",
       "      <td>27.900</td>\n",
       "      <td>0</td>\n",
       "      <td>yes</td>\n",
       "      <td>southwest</td>\n",
       "      <td>16884.92400</td>\n",
       "    </tr>\n",
       "    <tr>\n",
       "      <th>1</th>\n",
       "      <td>18</td>\n",
       "      <td>male</td>\n",
       "      <td>33.770</td>\n",
       "      <td>1</td>\n",
       "      <td>no</td>\n",
       "      <td>southeast</td>\n",
       "      <td>1725.55230</td>\n",
       "    </tr>\n",
       "    <tr>\n",
       "      <th>2</th>\n",
       "      <td>28</td>\n",
       "      <td>male</td>\n",
       "      <td>33.000</td>\n",
       "      <td>3</td>\n",
       "      <td>no</td>\n",
       "      <td>southeast</td>\n",
       "      <td>4449.46200</td>\n",
       "    </tr>\n",
       "    <tr>\n",
       "      <th>3</th>\n",
       "      <td>33</td>\n",
       "      <td>male</td>\n",
       "      <td>22.705</td>\n",
       "      <td>0</td>\n",
       "      <td>no</td>\n",
       "      <td>northwest</td>\n",
       "      <td>21984.47061</td>\n",
       "    </tr>\n",
       "    <tr>\n",
       "      <th>4</th>\n",
       "      <td>32</td>\n",
       "      <td>male</td>\n",
       "      <td>28.880</td>\n",
       "      <td>0</td>\n",
       "      <td>no</td>\n",
       "      <td>northwest</td>\n",
       "      <td>3866.85520</td>\n",
       "    </tr>\n",
       "  </tbody>\n",
       "</table>\n",
       "</div>"
      ],
      "text/plain": [
       "   age     sex     bmi  children smoker     region      charges\n",
       "0   19  female  27.900         0    yes  southwest  16884.92400\n",
       "1   18    male  33.770         1     no  southeast   1725.55230\n",
       "2   28    male  33.000         3     no  southeast   4449.46200\n",
       "3   33    male  22.705         0     no  northwest  21984.47061\n",
       "4   32    male  28.880         0     no  northwest   3866.85520"
      ]
     },
     "execution_count": 2,
     "metadata": {},
     "output_type": "execute_result"
    }
   ],
   "source": [
    "# Load the dataset\n",
    "file_path='./data/insurance.csv'\n",
    "df = pd.read_csv(file_path)\n",
    "\n",
    "# Display the first few rows of the dataset\n",
    "df.head()"
   ]
  },
  {
   "cell_type": "markdown",
   "metadata": {},
   "source": [
    "#### Initial Data Peek: \n",
    "- The head() function provides an initial glimpse into the dataset, showing the first few rows and columns. It helps to quickly understand the structure and content of the dataset.\n"
   ]
  },
  {
   "cell_type": "markdown",
   "metadata": {},
   "source": [
    "## 2. Descriptive Statistics"
   ]
  },
  {
   "cell_type": "code",
   "execution_count": 3,
   "metadata": {},
   "outputs": [
    {
     "data": {
      "text/html": [
       "<div>\n",
       "<style scoped>\n",
       "    .dataframe tbody tr th:only-of-type {\n",
       "        vertical-align: middle;\n",
       "    }\n",
       "\n",
       "    .dataframe tbody tr th {\n",
       "        vertical-align: top;\n",
       "    }\n",
       "\n",
       "    .dataframe thead th {\n",
       "        text-align: right;\n",
       "    }\n",
       "</style>\n",
       "<table border=\"1\" class=\"dataframe\">\n",
       "  <thead>\n",
       "    <tr style=\"text-align: right;\">\n",
       "      <th></th>\n",
       "      <th>age</th>\n",
       "      <th>bmi</th>\n",
       "      <th>children</th>\n",
       "      <th>charges</th>\n",
       "    </tr>\n",
       "  </thead>\n",
       "  <tbody>\n",
       "    <tr>\n",
       "      <th>count</th>\n",
       "      <td>1338.000000</td>\n",
       "      <td>1338.000000</td>\n",
       "      <td>1338.000000</td>\n",
       "      <td>1338.000000</td>\n",
       "    </tr>\n",
       "    <tr>\n",
       "      <th>mean</th>\n",
       "      <td>39.207025</td>\n",
       "      <td>30.663397</td>\n",
       "      <td>1.094918</td>\n",
       "      <td>13270.422265</td>\n",
       "    </tr>\n",
       "    <tr>\n",
       "      <th>std</th>\n",
       "      <td>14.049960</td>\n",
       "      <td>6.098187</td>\n",
       "      <td>1.205493</td>\n",
       "      <td>12110.011237</td>\n",
       "    </tr>\n",
       "    <tr>\n",
       "      <th>min</th>\n",
       "      <td>18.000000</td>\n",
       "      <td>15.960000</td>\n",
       "      <td>0.000000</td>\n",
       "      <td>1121.873900</td>\n",
       "    </tr>\n",
       "    <tr>\n",
       "      <th>25%</th>\n",
       "      <td>27.000000</td>\n",
       "      <td>26.296250</td>\n",
       "      <td>0.000000</td>\n",
       "      <td>4740.287150</td>\n",
       "    </tr>\n",
       "    <tr>\n",
       "      <th>50%</th>\n",
       "      <td>39.000000</td>\n",
       "      <td>30.400000</td>\n",
       "      <td>1.000000</td>\n",
       "      <td>9382.033000</td>\n",
       "    </tr>\n",
       "    <tr>\n",
       "      <th>75%</th>\n",
       "      <td>51.000000</td>\n",
       "      <td>34.693750</td>\n",
       "      <td>2.000000</td>\n",
       "      <td>16639.912515</td>\n",
       "    </tr>\n",
       "    <tr>\n",
       "      <th>max</th>\n",
       "      <td>64.000000</td>\n",
       "      <td>53.130000</td>\n",
       "      <td>5.000000</td>\n",
       "      <td>63770.428010</td>\n",
       "    </tr>\n",
       "  </tbody>\n",
       "</table>\n",
       "</div>"
      ],
      "text/plain": [
       "               age          bmi     children       charges\n",
       "count  1338.000000  1338.000000  1338.000000   1338.000000\n",
       "mean     39.207025    30.663397     1.094918  13270.422265\n",
       "std      14.049960     6.098187     1.205493  12110.011237\n",
       "min      18.000000    15.960000     0.000000   1121.873900\n",
       "25%      27.000000    26.296250     0.000000   4740.287150\n",
       "50%      39.000000    30.400000     1.000000   9382.033000\n",
       "75%      51.000000    34.693750     2.000000  16639.912515\n",
       "max      64.000000    53.130000     5.000000  63770.428010"
      ]
     },
     "execution_count": 3,
     "metadata": {},
     "output_type": "execute_result"
    }
   ],
   "source": [
    "# Display summary statistics of numerical columns\n",
    "df.describe()"
   ]
  },
  {
   "cell_type": "markdown",
   "metadata": {},
   "source": [
    "#### Summary Statistics: \n",
    "- describe() provides statistical summary such as count, mean, standard deviation, minimum, and maximum values. It gives an overview of the central tendency, dispersion, and range of numerical features.\n"
   ]
  },
  {
   "cell_type": "code",
   "execution_count": 4,
   "metadata": {},
   "outputs": [
    {
     "data": {
      "text/plain": [
       "(1338, 7)"
      ]
     },
     "execution_count": 4,
     "metadata": {},
     "output_type": "execute_result"
    }
   ],
   "source": [
    "# Display the dimensions of the dataset (rows, columns)\n",
    "df.shape"
   ]
  },
  {
   "cell_type": "markdown",
   "metadata": {},
   "source": [
    "#### Dataset Dimensions: \n",
    "- shape gives the number of rows and columns in the dataset, which helps to understand its size and scope."
   ]
  },
  {
   "cell_type": "code",
   "execution_count": 5,
   "metadata": {},
   "outputs": [
    {
     "data": {
      "text/plain": [
       "Index(['age', 'sex', 'bmi', 'children', 'smoker', 'region', 'charges'], dtype='object')"
      ]
     },
     "execution_count": 5,
     "metadata": {},
     "output_type": "execute_result"
    }
   ],
   "source": [
    "# Display the column names\n",
    "df.columns"
   ]
  },
  {
   "cell_type": "markdown",
   "metadata": {},
   "source": [
    "#### Column Names: \n",
    "- columns lists all the column names present in the dataset, which is essential for understanding the available variables.\n"
   ]
  },
  {
   "cell_type": "markdown",
   "metadata": {},
   "source": [
    "## 3. Count of Non-Missing Values"
   ]
  },
  {
   "cell_type": "code",
   "execution_count": 6,
   "metadata": {},
   "outputs": [
    {
     "name": "stdout",
     "output_type": "stream",
     "text": [
      "Non-Missing Values:\n",
      "age: 1338\n",
      "sex: 1338\n",
      "bmi: 1338\n",
      "chidren: 1338\n",
      "smoker: 1338\n",
      "region: 1338\n",
      "charges: 1338\n"
     ]
    }
   ],
   "source": [
    "# Print the count of non-empty values for each feature\n",
    "print('Non-Missing Values:')\n",
    "print(f'age: {df['age'].count()}')\n",
    "print(f'sex: {df['sex'].count()}')\n",
    "print(f'bmi: {df['bmi'].count()}')\n",
    "print(f'chidren: {df['children'].count()}')\n",
    "print(f'smoker: {df['smoker'].count()}')\n",
    "print(f'region: {df['region'].count()}')\n",
    "print(f'charges: {df['charges'].count()}')"
   ]
  },
  {
   "cell_type": "markdown",
   "metadata": {},
   "source": [
    "#### Data Completeness: \n",
    "- The count of non-missing values (count()) for each column shows how complete the data is. It identifies columns that may have missing values, which could impact subsequent analyses."
   ]
  },
  {
   "cell_type": "markdown",
   "metadata": {},
   "source": [
    "## 4. Unique Values"
   ]
  },
  {
   "cell_type": "code",
   "execution_count": 7,
   "metadata": {},
   "outputs": [
    {
     "name": "stdout",
     "output_type": "stream",
     "text": [
      "Unique Values:\n",
      "age: 47\n",
      "sex: 2\n",
      "bmi: 548\n",
      "chidren: 6\n",
      "smoker: 2\n",
      "region: 4\n",
      "charges: 1337\n"
     ]
    }
   ],
   "source": [
    "# Count of unique values for each column\n",
    "print('Unique Values:')\n",
    "print(f'age: {df['age'].nunique()}')\n",
    "print(f'sex: {df['sex'].nunique()}')\n",
    "print(f'bmi: {df['bmi'].nunique()}')\n",
    "print(f'chidren: {df['children'].nunique()}')\n",
    "print(f'smoker: {df['smoker'].nunique()}')\n",
    "print(f'region: {df['region'].nunique()}')\n",
    "print(f'charges: {df['charges'].nunique()}')"
   ]
  },
  {
   "cell_type": "markdown",
   "metadata": {},
   "source": [
    "#### Categorical vs. Continuous: \n",
    "- The number of unique values (nunique()) in each column distinguishes between categorical and continuous variables. It helps in understanding the diversity and granularity of data within each feature."
   ]
  },
  {
   "cell_type": "markdown",
   "metadata": {},
   "source": [
    "## 5. Data Types"
   ]
  },
  {
   "cell_type": "code",
   "execution_count": 8,
   "metadata": {},
   "outputs": [
    {
     "name": "stdout",
     "output_type": "stream",
     "text": [
      "Data Types:\n",
      "age: int64\n",
      "sex: object\n",
      "bmi: float64\n",
      "chidren: int64\n",
      "smoker: object\n",
      "region: object\n",
      "charges: float64\n"
     ]
    }
   ],
   "source": [
    "# Display data types of each column\n",
    "print('Data Types:')\n",
    "print(f'age: {df['age'].dtype}')\n",
    "print(f'sex: {df['sex'].dtype}')\n",
    "print(f'bmi: {df['bmi'].dtype}')\n",
    "print(f'chidren: {df['children'].dtype}')\n",
    "print(f'smoker: {df['smoker'].dtype}')\n",
    "print(f'region: {df['region'].dtype}')\n",
    "print(f'charges: {df['charges'].dtype}')"
   ]
  },
  {
   "cell_type": "markdown",
   "metadata": {},
   "source": [
    "#### Data Format: \n",
    "- dtype indicates the data type of each column (e.g., integer, float, object). It's crucial for ensuring data compatibility and correctness in subsequent operations."
   ]
  },
  {
   "cell_type": "markdown",
   "metadata": {},
   "source": [
    "## 6. Numeric Check"
   ]
  },
  {
   "cell_type": "code",
   "execution_count": 9,
   "metadata": {},
   "outputs": [
    {
     "name": "stdout",
     "output_type": "stream",
     "text": [
      "Is Numeric?\n",
      "age: False\n",
      "sex: False\n",
      "bmi: False\n",
      "chidren: False\n",
      "smoker: False\n",
      "region: False\n",
      "charges: False\n"
     ]
    }
   ],
   "source": [
    "# Check if each column is numeric\n",
    "print('Is Numeric?')\n",
    "print(f'age: {pd.api.types.is_number(df[\"age\"])}')\n",
    "print(f'sex: {pd.api.types.is_number(df[\"sex\"])}')\n",
    "print(f'bmi: {pd.api.types.is_number(df[\"bmi\"])}')\n",
    "print(f'chidren: {pd.api.types.is_number(df[\"children\"])}')\n",
    "print(f'smoker: {pd.api.types.is_number(df[\"smoker\"])}')\n",
    "print(f'region: {pd.api.types.is_number(df[\"region\"])}')\n",
    "print(f'charges: {pd.api.types.is_number(df[\"charges\"])}')"
   ]
  },
  {
   "cell_type": "markdown",
   "metadata": {},
   "source": [
    "#### Numeric Assessment: \n",
    "- is_number() checks if each column is numeric (integer or float). It's essential for identifying columns suitable for numerical computations and statistical analysis."
   ]
  },
  {
   "cell_type": "markdown",
   "metadata": {},
   "source": [
    "## 7. Missing Values"
   ]
  },
  {
   "cell_type": "code",
   "execution_count": 10,
   "metadata": {},
   "outputs": [
    {
     "name": "stdout",
     "output_type": "stream",
     "text": [
      "Missing Values:\n",
      "age: 0\n",
      "sex: 0\n",
      "bmi: 0\n",
      "chidren: 0\n",
      "smoker: 0\n",
      "region: 0\n",
      "charges: 0\n"
     ]
    }
   ],
   "source": [
    "# Count missing values for each column\n",
    "print('Missing Values:')\n",
    "print(f'age: {df[\"age\"].isnull().sum()}')\n",
    "print(f'sex: {df[\"sex\"].isnull().sum()}')\n",
    "print(f'bmi: {df[\"bmi\"].isnull().sum()}')\n",
    "print(f'chidren: {df[\"children\"].isnull().sum()}')\n",
    "print(f'smoker: {df[\"smoker\"].isnull().sum()}')\n",
    "print(f'region: {df[\"region\"].isnull().sum()}')\n",
    "print(f'charges: {df[\"charges\"].isnull().sum()}')"
   ]
  },
  {
   "cell_type": "markdown",
   "metadata": {},
   "source": [
    "#### Data Integrity: \n",
    "- The count of missing values (isnull().sum()) identifies columns with missing data points. Handling missing data appropriately is crucial for ensuring the reliability and validity of analyses."
   ]
  },
  {
   "cell_type": "markdown",
   "metadata": {},
   "source": [
    "## 8. Range of Insurance Charges"
   ]
  },
  {
   "cell_type": "code",
   "execution_count": 11,
   "metadata": {},
   "outputs": [
    {
     "name": "stdout",
     "output_type": "stream",
     "text": [
      "Range for Insurance Charges\n",
      "Count: 1338\n",
      "Min: 1121.8739\n",
      "Max: 63770.42801\n"
     ]
    }
   ],
   "source": [
    "# Display the range of insurance charges\n",
    "print('Range for Insurance Charges')\n",
    "print(f'Count: {df[\"charges\"].count()}')\n",
    "print(f'Min: {df[\"charges\"].min()}')\n",
    "print(f'Max: {df[\"charges\"].max()}')"
   ]
  },
  {
   "cell_type": "markdown",
   "metadata": {},
   "source": [
    "#### Data Range: \n",
    "- The range (min() and max()) provides the smallest and largest values in the \"charges\" column, indicating the spread or variability of insurance charges."
   ]
  },
  {
   "cell_type": "markdown",
   "metadata": {},
   "source": [
    "## 9. Quartiles and Interquartile Range (IQR)"
   ]
  },
  {
   "cell_type": "code",
   "execution_count": 12,
   "metadata": {},
   "outputs": [
    {
     "name": "stdout",
     "output_type": "stream",
     "text": [
      "\n",
      "Q1(25%): 4740.28715\n",
      "Q2(50%): 9382.033\n",
      "Q3(75%): 16639.912515\n",
      "IQR: 11899.625365\n"
     ]
    }
   ],
   "source": [
    "print()\n",
    "print(f'Q1(25%): {df[\"charges\"].quantile(0.25)}')\n",
    "print(f'Q2(50%): {df[\"charges\"].quantile(0.5)}')\n",
    "print(f'Q3(75%): {df[\"charges\"].quantile(0.75)}')\n",
    "print(f'IQR: {df[\"charges\"].quantile(0.75) - df[\"charges\"].quantile(0.25) }')"
   ]
  },
  {
   "cell_type": "markdown",
   "metadata": {},
   "source": [
    "#### Percentiles and IQR: \n",
    "- Percentiles (quantile()) such as Q1 (25th percentile), Q2 (median), and Q3 (75th percentile) provide insights into the distribution of charges. The Interquartile Range (IQR) measures the spread of the middle 50% of values, useful for identifying outliers."
   ]
  },
  {
   "cell_type": "markdown",
   "metadata": {},
   "source": [
    "## 10. Measures of Central Tendency\n"
   ]
  },
  {
   "cell_type": "code",
   "execution_count": 13,
   "metadata": {},
   "outputs": [
    {
     "name": "stdout",
     "output_type": "stream",
     "text": [
      "Mean: 13270.422265141257\n",
      "Median: 9382.033\n",
      "Mode: 1639.5631\n"
     ]
    }
   ],
   "source": [
    "# Calculate mean, median, and mode\n",
    "print(f'Mean: {df[\"charges\"].mean()}')\n",
    "print(f'Median: {df[\"charges\"].median()}')\n",
    "print(f'Mode: {df[\"charges\"].mode().values[0]}')"
   ]
  },
  {
   "cell_type": "markdown",
   "metadata": {},
   "source": [
    "#### Central Tendency: \n",
    "- Mean (mean()), median (median()), and mode (mode()) provide different measures of the central tendency of charges. They describe typical values and the most common value in the distribution."
   ]
  },
  {
   "cell_type": "markdown",
   "metadata": {},
   "source": [
    "## 11. Standard Deviation"
   ]
  },
  {
   "cell_type": "code",
   "execution_count": 14,
   "metadata": {},
   "outputs": [
    {
     "name": "stdout",
     "output_type": "stream",
     "text": [
      "\n",
      "Standard Deviation with pandas (default: sample): 12110.011236694001\n",
      "Standard Deviation with numpy (default: population): 12105.484975561612\n",
      "Standard Deviation with numpy (ddof=1, sample): 12110.011236694001\n"
     ]
    }
   ],
   "source": [
    "# Calculate standard deviation using pandas and numpy\n",
    "print()\n",
    "print(f'Standard Deviation with pandas (default: sample): {df[\"charges\"].std()}')  # sample standard deviation\n",
    "print(f'Standard Deviation with numpy (default: population): {np.std(df[\"charges\"])}')  # population standard deviation\n",
    "print(f'Standard Deviation with numpy (ddof=1, sample): {np.std(df[\"charges\"], ddof=1)}')  # 'ddof=1' uses sample standard deviation, default is 'ddof=0'"
   ]
  },
  {
   "cell_type": "markdown",
   "metadata": {},
   "source": [
    "#### Data Dispersion: \n",
    "- Standard deviation (std()) measures the spread of charges around the mean. Using Pandas and NumPy provides insights into the variability of the data."
   ]
  },
  {
   "cell_type": "markdown",
   "metadata": {},
   "source": [
    "## 12. Skewness and Kurtosis"
   ]
  },
  {
   "cell_type": "code",
   "execution_count": 15,
   "metadata": {},
   "outputs": [
    {
     "name": "stdout",
     "output_type": "stream",
     "text": [
      "\n",
      "Skew and Kurtosis Using Pandas\n",
      "Skew Using pandas: 1.5158796580240388\n",
      "Kurtosis Using pandas: 1.6062986532967907\n",
      "Skew and Kurtosis Using Scipy\n",
      "Skew Using Scipy: 1.5158796580240383\n",
      "Kurtosis Using Scipy: 1.6062986532967916\n"
     ]
    }
   ],
   "source": [
    "# Calculate skewness and kurtosis using Pandas and Scipy\n",
    "print()\n",
    "print('Skew and Kurtosis Using Pandas')\n",
    "print(f'Skew Using pandas: {df[\"charges\"].skew()}')\n",
    "print(f'Kurtosis Using pandas: {df[\"charges\"].kurt()}')\n",
    "\n",
    "from scipy.stats import skew, kurtosis\n",
    "\n",
    "print('Skew and Kurtosis Using Scipy')\n",
    "print(f'Skew Using Scipy: {skew(df[\"charges\"], bias=False)}')\n",
    "print(f'Kurtosis Using Scipy: {kurtosis(df[\"charges\"], bias=False)}')\n"
   ]
  },
  {
   "cell_type": "markdown",
   "metadata": {},
   "source": [
    "#### Distribution Shape: \n",
    "- Skewness (skew()) measures the asymmetry of the distribution of charges. Kurtosis (kurt()) measures the tailedness or peakedness compared to a normal distribution. Calculating these metrics helps understand the shape and nature of the distribution."
   ]
  },
  {
   "cell_type": "markdown",
   "metadata": {},
   "source": [
    "## 13. Visualizing Data"
   ]
  },
  {
   "cell_type": "code",
   "execution_count": 16,
   "metadata": {},
   "outputs": [],
   "source": [
    "import matplotlib.pylab as plt\n",
    "import seaborn as sns"
   ]
  },
  {
   "cell_type": "code",
   "execution_count": 17,
   "metadata": {},
   "outputs": [
    {
     "data": {
      "image/png": "[encoded data removed]",
      "text/plain": [
       "<Figure size 640x480 with 1 Axes>"
      ]
     },
     "metadata": {},
     "output_type": "display_data"
    }
   ],
   "source": [
    "# Histogram\n",
    "ax = df['charges'].plot(kind='hist', title='Insurance Crages')\n",
    "ax.set_xlabel('Insurance Charges (Dollars)')\n",
    "ax.set_ylabel('Frequancy)')\n",
    "plt.show()"
   ]
  },
  {
   "cell_type": "code",
   "execution_count": 18,
   "metadata": {},
   "outputs": [
    {
     "data": {
      "image/png": "[encoded data removed]",
      "text/plain": [
       "<Figure size 640x480 with 1 Axes>"
      ]
     },
     "metadata": {},
     "output_type": "display_data"
    }
   ],
   "source": [
    "# kde\n",
    "ax = df['charges'].plot(kind='kde', title='Insurance Charges')\n",
    "ax.set_xlabel('Insurance Charges (Dollars)')\n",
    "plt.show()"
   ]
  },
  {
   "cell_type": "code",
   "execution_count": 19,
   "metadata": {},
   "outputs": [
    {
     "data": {
      "image/png": "[encoded data removed]",
      "text/plain": [
       "<Figure size 640x480 with 1 Axes>"
      ]
     },
     "metadata": {},
     "output_type": "display_data"
    }
   ],
   "source": [
    "# Box Plot\n",
    "ax = df['charges'].plot(kind='box',title='Insurance Charges')\n",
    "ax.set_ylabel('Insurance Charges (Dollars)')\n",
    "plt.show()"
   ]
  }
 ],
 "metadata": {
  "kernelspec": {
   "display_name": "Python 3",
   "language": "python",
   "name": "python3"
  },
  "language_info": {
   "codemirror_mode": {
    "name": "ipython",
    "version": 3
   },
   "file_extension": ".py",
   "mimetype": "text/x-python",
   "name": "python",
   "nbconvert_exporter": "python",
   "pygments_lexer": "ipython3",
   "version": "3.12.4"
  }
 },
 "nbformat": 4,
 "nbformat_minor": 2
}
