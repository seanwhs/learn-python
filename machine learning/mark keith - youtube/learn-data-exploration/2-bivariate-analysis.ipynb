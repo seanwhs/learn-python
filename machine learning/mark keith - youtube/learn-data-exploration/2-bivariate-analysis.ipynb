{
 "cells": [
  {
   "cell_type": "markdown",
   "metadata": {},
   "source": [
    "# Bivariate: Num/Num: Statistics"
   ]
  },
  {
   "cell_type": "markdown",
   "metadata": {},
   "source": [
    "## 1. Correlation in Numpy and Pandas"
   ]
  },
  {
   "cell_type": "markdown",
   "metadata": {},
   "source": [
    "#### 1a. Compute Correlation Matrix using Numpy"
   ]
  },
  {
   "cell_type": "code",
   "execution_count": 2,
   "metadata": {},
   "outputs": [
    {
     "name": "stdout",
     "output_type": "stream",
     "text": [
      "Pearson Correlation: \n",
      "[[1.         0.92989745]\n",
      " [0.92989745 1.        ]]\n",
      "\n",
      "Correlation Coefficient rounded to 2 decimal palces: 0.93\n"
     ]
    }
   ],
   "source": [
    "import numpy as np\n",
    "\n",
    "# Example data: heights in inches\n",
    "height = [60, 62, 65, 68, 70, 74]\n",
    "\n",
    "# Example data: weights in pounds\n",
    "weight = [140, 138, 150, 166, 190, 250]\n",
    "\n",
    "# Compute the Pearson correlation coefficient between height and weight\n",
    "r = np.corrcoef(height, weight)\n",
    "print(f'Pearson Correlation: \\n{r}')\n",
    "\n",
    "# Print the correlation coefficient rounded to two decimal places\n",
    "print(f'\\nCorrelation Coefficient rounded to 2 decimal palces: {round(r[0][1], 2)}')"
   ]
  },
  {
   "cell_type": "markdown",
   "metadata": {},
   "source": [
    "#### In this code:\n",
    "\n",
    "- r = np.corrcoef(height, weight) computes the correlation coefficient matrix.\n",
    "- print(f'Pearson Correlation Matrix: \\n{r}') prints the entire correlation matrix, which is a 2x2 matrix where r[0][1] (or r[1][0], depending on numpy version) is the correlation coefficient between height and weight.\n",
    "- print(f'\\nCorrelation Coefficient rounded to 2 decimal places: {round(r[0][1], 2)}') prints the correlation coefficient rounded to two decimal places.    \n",
    "\n",
    "This will output both the full Pearson correlation matrix and the correlation coefficient between height and weight rounded to two decimal places. The correlation matrix provides additional context by showing how each variable correlates with itself (diagonal elements) and with the other variable (off-diagonal elements)."
   ]
  },
  {
   "cell_type": "markdown",
   "metadata": {},
   "source": [
    "#### 1a. Compute Correlation Matrix using pandas"
   ]
  },
  {
   "cell_type": "code",
   "execution_count": 3,
   "metadata": {},
   "outputs": [
    {
     "data": {
      "text/html": [
       "<div>\n",
       "<style scoped>\n",
       "    .dataframe tbody tr th:only-of-type {\n",
       "        vertical-align: middle;\n",
       "    }\n",
       "\n",
       "    .dataframe tbody tr th {\n",
       "        vertical-align: top;\n",
       "    }\n",
       "\n",
       "    .dataframe thead th {\n",
       "        text-align: right;\n",
       "    }\n",
       "</style>\n",
       "<table border=\"1\" class=\"dataframe\">\n",
       "  <thead>\n",
       "    <tr style=\"text-align: right;\">\n",
       "      <th></th>\n",
       "      <th>age</th>\n",
       "      <th>bmi</th>\n",
       "      <th>children</th>\n",
       "      <th>charges</th>\n",
       "    </tr>\n",
       "  </thead>\n",
       "  <tbody>\n",
       "    <tr>\n",
       "      <th>age</th>\n",
       "      <td>1.000000</td>\n",
       "      <td>0.109272</td>\n",
       "      <td>0.042469</td>\n",
       "      <td>0.299008</td>\n",
       "    </tr>\n",
       "    <tr>\n",
       "      <th>bmi</th>\n",
       "      <td>0.109272</td>\n",
       "      <td>1.000000</td>\n",
       "      <td>0.012759</td>\n",
       "      <td>0.198341</td>\n",
       "    </tr>\n",
       "    <tr>\n",
       "      <th>children</th>\n",
       "      <td>0.042469</td>\n",
       "      <td>0.012759</td>\n",
       "      <td>1.000000</td>\n",
       "      <td>0.067998</td>\n",
       "    </tr>\n",
       "    <tr>\n",
       "      <th>charges</th>\n",
       "      <td>0.299008</td>\n",
       "      <td>0.198341</td>\n",
       "      <td>0.067998</td>\n",
       "      <td>1.000000</td>\n",
       "    </tr>\n",
       "  </tbody>\n",
       "</table>\n",
       "</div>"
      ],
      "text/plain": [
       "               age       bmi  children   charges\n",
       "age       1.000000  0.109272  0.042469  0.299008\n",
       "bmi       0.109272  1.000000  0.012759  0.198341\n",
       "children  0.042469  0.012759  1.000000  0.067998\n",
       "charges   0.299008  0.198341  0.067998  1.000000"
      ]
     },
     "execution_count": 3,
     "metadata": {},
     "output_type": "execute_result"
    }
   ],
   "source": [
    "import pandas as pd\n",
    "\n",
    "file_path = './data/insurance.csv'\n",
    "df = pd.read_csv(file_path)\n",
    "\n",
    "# Compute the correlation matrix for numeric columns\n",
    "df.corr(numeric_only=True)"
   ]
  },
  {
   "cell_type": "markdown",
   "metadata": {},
   "source": [
    "#### 1c. Compute Correlation between Individual Independant and Dependant variables"
   ]
  },
  {
   "cell_type": "code",
   "execution_count": 4,
   "metadata": {},
   "outputs": [
    {
     "name": "stdout",
     "output_type": "stream",
     "text": [
      "Age vs Charges: 0.2990081933306476\n"
     ]
    }
   ],
   "source": [
    "# Age Vs Charges\n",
    "print(f'Age vs Charges: {df['charges'].corr(df['age'])}')"
   ]
  },
  {
   "cell_type": "code",
   "execution_count": 5,
   "metadata": {},
   "outputs": [
    {
     "name": "stdout",
     "output_type": "stream",
     "text": [
      "BMI vs Charges: 0.19834096883362878\n"
     ]
    }
   ],
   "source": [
    "# BMI Vs Charges\n",
    "print(f'BMI vs Charges: {df['charges'].corr(df['bmi'])}')"
   ]
  },
  {
   "cell_type": "code",
   "execution_count": 6,
   "metadata": {},
   "outputs": [
    {
     "name": "stdout",
     "output_type": "stream",
     "text": [
      "Children vs Charges: 0.06799822684790469\n"
     ]
    }
   ],
   "source": [
    "# children Vs Charges\n",
    "print(f'Children vs Charges: {df['charges'].corr(df['children'])}')"
   ]
  },
  {
   "cell_type": "markdown",
   "metadata": {},
   "source": [
    "## 2. Correlation and p-values using scipy"
   ]
  },
  {
   "cell_type": "code",
   "execution_count": 7,
   "metadata": {},
   "outputs": [
    {
     "name": "stdout",
     "output_type": "stream",
     "text": [
      "Correlation and p-values using scipy: 0.2990081933306476, 4.886693331718663e-29\n",
      "Correlation: 0.299\n",
      "p-value: 5.0000000000000004e-29\n"
     ]
    }
   ],
   "source": [
    "from scipy import stats\n",
    "\n",
    "# Compute Pearson correlation coefficient and p-value between 'charges' and 'age'\n",
    "corr, p_value = stats.pearsonr(df['charges'], df['age'])\n",
    "\n",
    "# Print correlation and p-value using a formatted string\n",
    "print(f'Correlation and p-values using scipy: {corr}, {p_value}')\n",
    "\n",
    "# Alternatively, separate into correlation coefficient and p-value and round to 4 decimal places\n",
    "r, p = stats.pearsonr(df['charges'], df['age'])\n",
    "print(f'Correlation: {round(r, 4)}')\n",
    "print(f'p-value: {round(p, 29)}')\n"
   ]
  },
  {
   "cell_type": "markdown",
   "metadata": {},
   "source": [
    "#### Interpretation:\n",
    "\n",
    "- The correlation coefficient of 0.299 suggests that there is a positive linear relationship between 'charges' and 'age'. As age increases, charges tend to increase as well, but the strength of this relationship is relatively weak.\n",
    "- The very small p-value (approximately \n",
    "5\n",
    "×\n",
    "1\n",
    "0\n",
    "−\n",
    "29\n",
    "5×10 \n",
    "−29\n",
    " ) indicates that this observed correlation is statistically significant. Therefore, we can reject the null hypothesis and conclude that there is strong evidence to support the claim that there is a correlation between 'charges' and 'age' in your dataset.\n",
    "- It's important to note that correlation does not imply causation. While these two variables are correlated, this does not necessarily mean that one variable causes the changes in the other."
   ]
  },
  {
   "cell_type": "code",
   "execution_count": 8,
   "metadata": {},
   "outputs": [
    {
     "name": "stdout",
     "output_type": "stream",
     "text": [
      "              r      p\n",
      "age       0.299  0.000\n",
      "bmi       0.198  0.000\n",
      "children  0.068  0.013\n"
     ]
    }
   ],
   "source": [
    "# Initialize an empty DataFrame to store correlation coefficients and p-values\n",
    "corr_df = pd.DataFrame(columns=['r', 'p'])\n",
    "\n",
    "# Iterate through each column in df\n",
    "for col in df:\n",
    "    # Check if the column is numeric\n",
    "    if pd.api.types.is_numeric_dtype(df[col]) and col != 'charges':\n",
    "        # Compute Pearson correlation coefficient and p-value between 'charges' and the current column\n",
    "        r, p = stats.pearsonr(df['charges'], df[col])\n",
    "        # Store results in corr_df, rounded to 3 decimal places\n",
    "        corr_df.loc[col] = [round(r, 3), round(p, 3)]\n",
    "\n",
    "# Print the resulting DataFrame\n",
    "print(corr_df)"
   ]
  },
  {
   "cell_type": "markdown",
   "metadata": {},
   "source": [
    "#### Explanation:\n",
    "\n",
    "- corr_df = pd.DataFrame(columns=['r', 'p']): Creates an empty DataFrame corr_df with columns 'r' (correlation coefficient) and 'p' (p-value).\n",
    "- for col in df:: Iterates through each column (col) in the DataFrame df.\n",
    "- if pd.api.types.is_numeric_dtype(df[col]) and col != 'charges':: Checks if the current column (col) is numeric using pd.api.types.is_numeric_dtype() and ensures it is not the 'charges' column.\n",
    "- r, p = stats.pearsonr(df['charges'], df[col]): Computes the Pearson correlation coefficient (r) and p-value (p) between 'charges' and the current numeric column (col) in df.\n",
    "- corr_df.loc[col] = [round(r, 3), round(p, 3)]: Stores the computed correlation coefficient and p-value rounded to 3 decimal places in the corr_df DataFrame, with the column name (col) as the index.\n",
    "- print(corr_df): Prints the resulting DataFrame corr_df, which contains the correlation coefficients (r) and p-values (p) for each numeric column in relation to 'charges'."
   ]
  },
  {
   "cell_type": "markdown",
   "metadata": {},
   "source": [
    "#### Interpretation\n",
    "\n",
    "The provided DataFrame `corr_df` contains correlation coefficients (r) and their corresponding p-values (p) between the 'charges' column and each numeric column in the original DataFrame `df`. Here’s how to interpret the results:\n",
    "\n",
    "1. **Column Names (`age`, `bmi`, `children`)**:\n",
    "   - These are the names of columns from the original DataFrame `df`.\n",
    "\n",
    "2. **Correlation Coefficients (`r`)**:\n",
    "   - `r` represents the Pearson correlation coefficient between 'charges' and each respective column (`age`, `bmi`, `children`).\n",
    "   - The correlation coefficient (`r`) ranges from -1 to 1:\n",
    "     - A positive value indicates a positive correlation (as one variable increases, the other tends to increase).\n",
    "     - A negative value indicates a negative correlation (as one variable increases, the other tends to decrease).\n",
    "     - The magnitude (absolute value) of `r` indicates the strength of the correlation: closer to 1 indicates a stronger correlation, closer to 0 indicates a weaker correlation.\n",
    "   - Examples:\n",
    "     - For `age`, `r = 0.299`: There is a moderately positive correlation between 'charges' and 'age'.\n",
    "     - For `bmi`, `r = 0.198`: There is a weak positive correlation between 'charges' and 'bmi'.\n",
    "     - For `children`, `r = 0.068`: There is a very weak positive correlation between 'charges' and 'children'.\n",
    "\n",
    "3. **P-values (`p`)**:\n",
    "   - `p` indicates the significance of the correlation coefficient.\n",
    "   - A low p-value (typically < 0.05) suggests that the observed correlation is statistically significant, meaning it is unlikely to have occurred by chance.\n",
    "   - Examples:\n",
    "     - For `age`, `p = 0.000`: The correlation between 'charges' and 'age' is statistically significant.\n",
    "     - For `bmi`, `p = 0.000`: The correlation between 'charges' and 'bmi' is statistically significant.\n",
    "     - For `children`, `p = 0.013`: The correlation between 'charges' and 'children' is statistically significant, but less so compared to the others.\n",
    "\n",
    "In summary, based on the `corr_df` DataFrame:\n",
    "- 'age' and 'bmi' have positive correlations with 'charges', with 'age' showing a stronger correlation.\n",
    "- 'children' also shows a positive correlation with 'charges', but it is much weaker compared to 'age' and 'bmi'.\n",
    "\n",
    "All correlations reported have p-values less than 0.05, indicating that they are statistically significant."
   ]
  },
  {
   "cell_type": "code",
   "execution_count": 21,
   "metadata": {},
   "outputs": [
    {
     "name": "stdout",
     "output_type": "stream",
     "text": [
      "Index(['age', 'bmi', 'children', 'charges'], dtype='object')\n",
      "               age       bmi  children   charges\n",
      "age       1.000000  0.109272  0.042469  0.299008\n",
      "bmi       0.109272  1.000000  0.012759  0.198341\n",
      "children  0.042469  0.012759  1.000000  0.067998\n",
      "charges   0.299008  0.198341  0.067998  1.000000\n"
     ]
    },
    {
     "data": {
      "image/png": "[encoded data removed]",
      "text/plain": [
       "<Figure size 640x480 with 2 Axes>"
      ]
     },
     "metadata": {},
     "output_type": "display_data"
    }
   ],
   "source": [
    "import matplotlib.pylab as plt\n",
    "import seaborn as sns\n",
    "\n",
    "numeric_df = df.select_dtypes(include=['number'])\n",
    "print(numeric_df.columns)\n",
    "print(numeric_df.corr())\n",
    "\n",
    "ax = sns.heatmap(data=numeric_df.corr(), annot=True)\n",
    "plt.show()"
   ]
  },
  {
   "cell_type": "code",
   "execution_count": null,
   "metadata": {},
   "outputs": [],
   "source": []
  }
 ],
 "metadata": {
  "kernelspec": {
   "display_name": "Python 3",
   "language": "python",
   "name": "python3"
  },
  "language_info": {
   "codemirror_mode": {
    "name": "ipython",
    "version": 3
   },
   "file_extension": ".py",
   "mimetype": "text/x-python",
   "name": "python",
   "nbconvert_exporter": "python",
   "pygments_lexer": "ipython3",
   "version": "3.12.4"
  }
 },
 "nbformat": 4,
 "nbformat_minor": 2
}
