{
 "cells": [
  {
   "cell_type": "markdown",
   "metadata": {},
   "source": [
    "## Casting"
   ]
  },
  {
   "cell_type": "code",
   "execution_count": 1,
   "metadata": {},
   "outputs": [
    {
     "name": "stdout",
     "output_type": "stream",
     "text": [
      "Casting in Python\n",
      "\n",
      "int     1  casted as float is   1.0\n",
      "float   2.4  casted as int is     2\n",
      "\n",
      "str     2  casted as int is     2\n",
      "str     1.2  casted as float is   1.2\n"
     ]
    }
   ],
   "source": [
    "num1 = 1\n",
    "num2 = 2.4\n",
    "str1 = '2'\n",
    "str2 = '1.2'\n",
    "\n",
    "print('Casting in Python')\n",
    "print(f'\\nint     {num1}  casted as float is   {float(num1)}')\n",
    "print(f'float   {num2}  casted as int is     {int(num2)}')\n",
    "print(f'\\nstr     {str1}  casted as int is     {int(str1)}')\n",
    "print(f'str     {str2}  casted as float is   {float(str2)}')"
   ]
  },
  {
   "cell_type": "markdown",
   "metadata": {},
   "source": [
    "## input(), type()"
   ]
  },
  {
   "cell_type": "code",
   "execution_count": 2,
   "metadata": {},
   "outputs": [],
   "source": [
    "# Doesn't work in juoyter notebook.. \n",
    "# Jupyter does not have a terminal for data input\n",
    "\n",
    "# response = input('Type Something')\n",
    "# print(f'You typed: {response}')"
   ]
  },
  {
   "cell_type": "code",
   "execution_count": 3,
   "metadata": {},
   "outputs": [
    {
     "name": "stdout",
     "output_type": "stream",
     "text": [
      "<class 'int'> <class 'str'> <class 'float'> <class 'bool'>\n"
     ]
    }
   ],
   "source": [
    "integer = 1\n",
    "string = 'name'\n",
    "floating_point = 1.22\n",
    "boolean = True\n",
    "print(type(integer), type(string), type(floating_point), type(boolean))"
   ]
  },
  {
   "cell_type": "markdown",
   "metadata": {},
   "source": [
    "## IPO"
   ]
  },
  {
   "cell_type": "code",
   "execution_count": 4,
   "metadata": {},
   "outputs": [
    {
     "name": "stdout",
     "output_type": "stream",
     "text": [
      "Average Age is:: 66\n"
     ]
    }
   ],
   "source": [
    "# 1. Input\n",
    "age1 = 12\n",
    "age2 = 22\n",
    "age3 = 32\n",
    "# 2. Process\n",
    "avg_age = age1 + age2 + age3\n",
    "# 3. Output\n",
    "print(f'Average Age is:: {avg_age}')"
   ]
  },
  {
   "cell_type": "markdown",
   "metadata": {},
   "source": [
    "## if..elif..else"
   ]
  },
  {
   "cell_type": "code",
   "execution_count": 5,
   "metadata": {},
   "outputs": [
    {
     "name": "stdout",
     "output_type": "stream",
     "text": [
      "\"0\" is zero\n"
     ]
    }
   ],
   "source": [
    "x = 0\n",
    "\n",
    "if x > 0:\n",
    "    print(f'\"{x}\" is a positive number')\n",
    "elif x < 0:\n",
    "    print(f'\"{x}\" is a negative number')\n",
    "else:\n",
    "    print(f'\"{x}\" is zero')"
   ]
  },
  {
   "cell_type": "markdown",
   "metadata": {},
   "source": [
    "# and, or not operators"
   ]
  },
  {
   "cell_type": "code",
   "execution_count": 6,
   "metadata": {},
   "outputs": [
    {
     "name": "stdout",
     "output_type": "stream",
     "text": [
      "True\n",
      "False\n"
     ]
    }
   ],
   "source": [
    "# and operator\n",
    "print(6>5 and 3>2)\n",
    "print(6>5 and 3<2)\n"
   ]
  },
  {
   "cell_type": "code",
   "execution_count": 7,
   "metadata": {},
   "outputs": [
    {
     "name": "stdout",
     "output_type": "stream",
     "text": [
      "True\n",
      "False\n"
     ]
    }
   ],
   "source": [
    "# or operator\n",
    "print(6>5 or 3<2)\n",
    "print(6<5 or 3<2)\n"
   ]
  },
  {
   "cell_type": "code",
   "execution_count": 8,
   "metadata": {},
   "outputs": [
    {
     "name": "stdout",
     "output_type": "stream",
     "text": [
      "False\n",
      "False\n",
      "True\n"
     ]
    }
   ],
   "source": [
    "# not operator\n",
    "print (not(6>5))\n",
    "print (not(6>5) or 3<2)\n",
    "print (not(6>5) or 3>2)"
   ]
  },
  {
   "cell_type": "markdown",
   "metadata": {},
   "source": [
    "## Python: Nested If, Flow Control, Decision Making"
   ]
  },
  {
   "cell_type": "code",
   "execution_count": 9,
   "metadata": {},
   "outputs": [
    {
     "name": "stdout",
     "output_type": "stream",
     "text": [
      "25 is odd but NOT divisible by 3\n"
     ]
    }
   ],
   "source": [
    "# check if number is both odd and divisible by 3\n",
    "x = 25  # Try 25, 26, 27, 28, 29\n",
    "if x % 2 == 1:\n",
    "    if x % 3 == 0:\n",
    "        print (f'{x} is odd and is divisible by 3')\n",
    "    else:\n",
    "        print (f'{x} is odd but NOT divisible by 3')\n",
    "else:\n",
    "    if x % 3 == 0:\n",
    "        print (f'{x} is NOT odd but is divisible by 3')\n",
    "    else:\n",
    "        print (f'{x} is NEITHER odd NOR divisible by 3')\n",
    "\n"
   ]
  },
  {
   "cell_type": "markdown",
   "metadata": {},
   "source": [
    "## Python: Collections (Data Structures): Lists"
   ]
  },
  {
   "cell_type": "code",
   "execution_count": 10,
   "metadata": {},
   "outputs": [
    {
     "name": "stdout",
     "output_type": "stream",
     "text": [
      "name list:: ['Sean', 'Mary', 'Magdalene', 'James', 'Nancy'] \n",
      "\n",
      "modified name list:: ['Sean', 'Bruce', 'Magdalene', 'James', 'Nancy'] \n",
      "\n",
      "record1:: ['Sean', 4, 3.23, False]\n",
      "record2:: ['Bruce', 12, 6.98, True]\n",
      "record3:: ['Magdalene', 4, 5.43, False]\n",
      "record4:: ['James', 45, 7.55, True]\n",
      "record5:: ['Nancy', 55, 6.12, False]\n",
      "\n",
      " List of lists(records)::  [['Sean', 4, 3.23, False], ['Bruce', 12, 6.98, True], ['Magdalene', 4, 5.43, False], ['James', 45, 7.55, True], ['Nancy', 55, 6.12, False]]\n"
     ]
    }
   ],
   "source": [
    "names =['Sean', 'Mary', 'Magdalene', 'James', 'Nancy']\n",
    "age = [4,12,4,45,55]\n",
    "height = [3.23, 6.98, 5.43, 7.55, 6.12]\n",
    "tallEnoughToRide = [False, True, False, True, False]\n",
    "\n",
    "print(f'name list:: {names} \\n')\n",
    "names[1] = \"Bruce\"\n",
    "print(f'modified name list:: {names} \\n')\n",
    "\n",
    "\n",
    "count = 0\n",
    "records=[]\n",
    "while count < len(names):\n",
    "    record =[]\n",
    "    record.append(names[count])\n",
    "    record.append(age[count])\n",
    "    record.append(height[count])\n",
    "    record.append(tallEnoughToRide[count])\n",
    "    print(f'record{count+1}:: {record}')\n",
    "    count += 1\n",
    "\n",
    "    records.append(record)\n",
    "print (f'\\n List of lists(records)::  {records}')\n",
    "\n",
    "\n"
   ]
  },
  {
   "cell_type": "code",
   "execution_count": 11,
   "metadata": {},
   "outputs": [
    {
     "name": "stdout",
     "output_type": "stream",
     "text": [
      "5\n",
      "55\n",
      "3.23\n",
      "2\n",
      "3\n",
      "['Bruce', 'James', 'Magdalene', 'Nancy', 'Sean']\n",
      "['Sean', 'Nancy', 'Magdalene', 'James', 'Bruce']\n"
     ]
    }
   ],
   "source": [
    "print(len(records))\n",
    "print(max(age))\n",
    "print(min(height))\n",
    "print(age.count(4))\n",
    "print(names.index('James'))\n",
    "names.sort() # must be executed before printing, does not return a value\n",
    "print(names)\n",
    "names.reverse() # must be executed before printing, does not return a value\n",
    "print(names)"
   ]
  },
  {
   "cell_type": "code",
   "execution_count": 12,
   "metadata": {},
   "outputs": [
    {
     "data": {
      "text/plain": [
       "6.98"
      ]
     },
     "execution_count": 12,
     "metadata": {},
     "output_type": "execute_result"
    }
   ],
   "source": [
    "# print Bruce's height from list of lists:\n",
    "records[1][2]"
   ]
  },
  {
   "cell_type": "markdown",
   "metadata": {},
   "source": []
  },
  {
   "cell_type": "code",
   "execution_count": 13,
   "metadata": {},
   "outputs": [
    {
     "name": "stdout",
     "output_type": "stream",
     "text": [
      "['Sean', 'Mary', 'Magdalene', 'James', 'Nancy']\n",
      "['Sean', 'Mary']\n",
      "['Sean', 'Mary']\n",
      "Magdalene\n",
      "['Magdalene', 'James', 'Nancy']\n",
      "['Magdalene', 'James']\n",
      "Magdalene\n",
      "James\n",
      "Magdalene\n",
      "['Sean', 'Mary', 'Magdalene', 'James', 'Nancy', 'New Guy']\n",
      "['Sean', 'Mary', 'Magdalene', 'James', 'Nancy']\n",
      "Nancy\n",
      "['Sean', 'Mary', 'Magdalene', 'James']\n",
      "Mary\n",
      "['Sean', 'Magdalene', 'James']\n"
     ]
    }
   ],
   "source": [
    "names = ['Sean', 'Mary', 'Magdalene', 'James', 'Nancy']\n",
    "\n",
    "# Printing the entire list\n",
    "print(names)\n",
    "\n",
    "# Slicing to get elements from index 0 to 1 (exclusive of index 2)\n",
    "print(names[0:2])  # Output: ['Sean', 'Mary']\n",
    "\n",
    "# Using shorthand for slicing\n",
    "print(names[:2])   # Output: ['Sean', 'Mary']\n",
    "\n",
    "# Accessing elements from the end using negative indices\n",
    "print(names[-3])   # Output: 'Magdalene'\n",
    "\n",
    "# Slicing to get elements from index -3 (inclusive) to the end\n",
    "print(names[-3:])  # Output: ['Magdalene', 'James', 'Nancy']\n",
    "\n",
    "# Slicing to get elements from index -3 (inclusive) to -1 (exclusive)\n",
    "print(names[-3:-1])  # Output: ['Magdalene', 'James']\n",
    "\n",
    "\n",
    "member1, member2 = names[-3:-1]\n",
    "print(member1)\n",
    "print(member2)\n",
    "\n",
    "name1, name2, name3, name4, name5 = names\n",
    "print(name3) # try accessing all 5 variables\n",
    "\n",
    "names.append(\"New Guy\")\n",
    "print(names)\n",
    "\n",
    "names.remove('New Guy')\n",
    "print(names)\n",
    "\n",
    "popped = names.pop()\n",
    "print(popped)\n",
    "print(names)\n",
    "\n",
    "popped1 = names.pop(1)\n",
    "print(popped1)\n",
    "print(names)"
   ]
  },
  {
   "cell_type": "code",
   "execution_count": 14,
   "metadata": {},
   "outputs": [
    {
     "name": "stdout",
     "output_type": "stream",
     "text": [
      "[]\n"
     ]
    }
   ],
   "source": [
    "names = ['Sean', 'Mary', 'Magdalene', 'James', 'Nancy']\n",
    "names.clear()\n",
    "print(names)"
   ]
  },
  {
   "cell_type": "markdown",
   "metadata": {},
   "source": [
    "## Python: Collections: Dictionaries"
   ]
  },
  {
   "cell_type": "code",
   "execution_count": 15,
   "metadata": {},
   "outputs": [
    {
     "name": "stdout",
     "output_type": "stream",
     "text": [
      "\n",
      " Print entire dictionary:\n",
      "{1: 'Sean', 2: 'Mary', 3: 'Magdalene', 4: 'James', 5: 'Nancy'}\n",
      "{'p1': 4, 'p2': 12, 'p3': 4, 'p4': 45, 'p5': 55}\n",
      "{'p1': ['Sean', 4, 3.23, False], 'p2': ['Bruce', 12, 6.98, True], 'p3': ['Magdalene', 4, 5.43, False], 'p4': ['James', 45, 7.55, True], 'p5': ['Nancy', 55, 6.12, False]}\n",
      "\n",
      " Access individual elements:\n",
      "Mary\n",
      "45\n",
      "['Sean', 4, 3.23, False]\n",
      "False\n",
      "\n",
      " Access using dictionary methods:\n",
      "names.keys():: dict_keys([1, 2, 3, 4, 5])\n",
      "data.keys():: dict_keys(['p1', 'p2', 'p3', 'p4', 'p5'])\n",
      "\n",
      "names.values():: dict_values(['Sean', 'Mary', 'Magdalene', 'James', 'Nancy'])\n",
      "data.values():: dict_values([['Sean', 4, 3.23, False], ['Bruce', 12, 6.98, True], ['Magdalene', 4, 5.43, False], ['James', 45, 7.55, True], ['Nancy', 55, 6.12, False]])\n",
      "\n",
      "names.items():: dict_items([(1, 'Sean'), (2, 'Mary'), (3, 'Magdalene'), (4, 'James'), (5, 'Nancy')])\n",
      "data.items():: dict_items([('p1', ['Sean', 4, 3.23, False]), ('p2', ['Bruce', 12, 6.98, True]), ('p3', ['Magdalene', 4, 5.43, False]), ('p4', ['James', 45, 7.55, True]), ('p5', ['Nancy', 55, 6.12, False])])\n"
     ]
    }
   ],
   "source": [
    "# Defining dictionaries\n",
    "names = {1:'Sean', 2:'Mary', 3:'Magdalene', 4:'James', 5:'Nancy'}    # integer key\n",
    "age = {'p1':4, 'p2':12, 'p3':4, 'p4':45, 'p5':55}                     # text key\n",
    "height = {'p1':3.23, 'p2':6.98, 'p3':5.43, 'p4':7.55, 'p5':6.12}\n",
    "tallEnoughToRide = {'p1':False, 'p2':True, 'p3':False, 'p4':True, 'p5':False}\n",
    "data = {\n",
    "    'p1': ['Sean', 4, 3.23, False],\n",
    "    'p2': ['Bruce', 12, 6.98, True],\n",
    "    'p3': ['Magdalene', 4, 5.43, False],\n",
    "    'p4': ['James', 45, 7.55, True],\n",
    "    'p5': ['Nancy', 55, 6.12, False]\n",
    "}\n",
    "\n",
    "print('\\n Print entire dictionary:')\n",
    "print(names)         # Output: {1: 'Sean', 2: 'Mary', 3: 'Magdalene', 4: 'James', 5: 'Nancy'}\n",
    "print(age)           # Output: {'p1': 4, 'p2': 12, 'p3': 4, 'p4': 45, 'p5': 55}\n",
    "print(data)          # Output: {'p1': ['Sean', 4, 3.23, False], 'p2': ['Bruce', 12, 6.98, True], 'p3': ['Magdalene', 4, 5.43, False], 'p4': ['James', 45, 7.55, True], 'p5': ['Nancy', 55, 6.12, False]}\n",
    "\n",
    "\n",
    "print('\\n Access individual elements:')\n",
    "print(names[2])         # Output: 'Mary'\n",
    "print(age['p4'])        # Output: 45\n",
    "print(data['p1'])       # Output: ['Sean', 4, 3.23, False]\n",
    "print(data['p1'][3])    # Output: False\n",
    "\n",
    "print('\\n Access using dictionary methods:')\n",
    "print(f'names.keys():: {names.keys()}')\n",
    "print(f'data.keys():: {data.keys()}')\n",
    "print(f'\\nnames.values():: {names.values()}')\n",
    "print(f'data.values():: {data.values()}')\n",
    "print(f'\\nnames.items():: {names.items()}')\n",
    "print(f'data.items():: {data.items()}')\n"
   ]
  },
  {
   "cell_type": "code",
   "execution_count": 16,
   "metadata": {},
   "outputs": [
    {
     "name": "stdout",
     "output_type": "stream",
     "text": [
      "Original Age:: 12\n",
      "Updated Age -- Using Index :: 10\n",
      "Updated Age -- Using function :: 14\n"
     ]
    },
    {
     "name": "stdout",
     "output_type": "stream",
     "text": [
      "49.6 ns ± 2.83 ns per loop (mean ± std. dev. of 7 runs, 10,000,000 loops each)\n",
      "194 ns ± 46 ns per loop (mean ± std. dev. of 7 runs, 1,000,000 loops each)\n"
     ]
    }
   ],
   "source": [
    "# Defining dictionaries\n",
    "names = {1:'Sean', 2:'Mary', 3:'Magdalene', 4:'James', 5:'Nancy'}    # integer key\n",
    "age = {'p1':4, 'p2':12, 'p3':4, 'p4':45, 'p5':55}                     # text key\n",
    "height = {'p1':3.23, 'p2':6.98, 'p3':5.43, 'p4':7.55, 'p5':6.12}\n",
    "tallEnoughToRide = {'p1':False, 'p2':True, 'p3':False, 'p4':True, 'p5':False}\n",
    "data = {\n",
    "    'p1': ['Sean', 4, 3.23, False],\n",
    "    'p2': ['Bruce', 12, 6.98, True],\n",
    "    'p3': ['Magdalene', 4, 5.43, False],\n",
    "    'p4': ['James', 45, 7.55, True],\n",
    "    'p5': ['Nancy', 55, 6.12, False]\n",
    "}\n",
    "\n",
    "# Updating Dictionaries\n",
    "print(f'Original Age:: {age['p2']}')\n",
    "age['p2']=10\n",
    "print(f'Updated Age -- Using Index :: {age['p2']}')\n",
    "age.update(p2=14)\n",
    "print(f'Updated Age -- Using function :: {age['p2']}')\n",
    "\n",
    "# Timing Execution with %timeit\n",
    "%timeit age['p3'] = 5\n",
    "%timeit age.update(p3=5) "
   ]
  },
  {
   "cell_type": "code",
   "execution_count": 17,
   "metadata": {},
   "outputs": [
    {
     "name": "stdout",
     "output_type": "stream",
     "text": [
      "{'p1': 4, 'p2': 12, 'p3': 4, 'p4': 45, 'p5': 55, 'p7': 38}\n",
      "{'p1': 4, 'p2': 12, 'p3': 4, 'p4': 45, 'p5': 55, 'p7': 38, 'p6': 9, 'p8': 17, 'p9': 4, 'p10': 48, 'p11': 25}\n",
      "{'p1': 4, 'p2': 12, 'p3': 4, 'p4': 45, 'p5': 55, 'p7': 38, 'p6': 9, 'p8': 17, 'p9': 4, 'p10': 48, 'p11': 25}\n",
      "270 ns ± 42.7 ns per loop (mean ± std. dev. of 7 runs, 1,000,000 loops each)\n",
      "552 ns ± 46.6 ns per loop (mean ± std. dev. of 7 runs, 1,000,000 loops each)\n"
     ]
    }
   ],
   "source": [
    "# Defining dictionaries\n",
    "names = {1:'Sean', 2:'Mary', 3:'Magdalene', 4:'James', 5:'Nancy'}    # integer key\n",
    "age = {'p1':4, 'p2':12, 'p3':4, 'p4':45, 'p5':55}                     # text key\n",
    "height = {'p1':3.23, 'p2':6.98, 'p3':5.43, 'p4':7.55, 'p5':6.12}\n",
    "tallEnoughToRide = {'p1':False, 'p2':True, 'p3':False, 'p4':True, 'p5':False}\n",
    "data = {\n",
    "    'p1': ['Sean', 4, 3.23, False],\n",
    "    'p2': ['Bruce', 12, 6.98, True],\n",
    "    'p3': ['Magdalene', 4, 5.43, False],\n",
    "    'p4': ['James', 45, 7.55, True],\n",
    "    'p5': ['Nancy', 55, 6.12, False]\n",
    "}\n",
    "\n",
    "# Inserting Elements into age Dictionary\n",
    "age['p7'] = 38\n",
    "print(age)\n",
    "\n",
    "# Updating age Dictionary with Multiple Key-Value Pairs\n",
    "newAge = {'p6':9, 'p8':17, 'p9':4, 'p10':48, 'p11':25}                     # text key\n",
    "age.update(newAge)\n",
    "print(age)\n",
    "\n",
    "# Using Dictionary Unpacking to Merge Dictionaries\n",
    "coolAge = {**age, **{'p6':9, 'p8':17, 'p9':4, 'p10':48, 'p11':25}}\n",
    "print(coolAge)\n",
    "\n",
    "# Timing Performance with %timeit\n",
    "%timeit age.update(newAge)\n",
    "%timeit coolAge = {**age, **{'p6':9, 'p8':17, 'p9':4, 'p10':48, 'p11':25}}\n"
   ]
  },
  {
   "cell_type": "code",
   "execution_count": 18,
   "metadata": {},
   "outputs": [
    {
     "name": "stdout",
     "output_type": "stream",
     "text": [
      "Dict contains: {1: 'Sean', 2: 'Mary', 3: 'Magdalene', 4: 'James', 5: 'Nancy'}\n",
      "\"Sean\" is removed using pop(). \n",
      "Dict now contains: {2: 'Mary', 3: 'Magdalene', 4: 'James', 5: 'Nancy'}\n",
      "Dictionary is emptied using clera(). \n",
      "Dict now contains: {}\n"
     ]
    }
   ],
   "source": [
    "# Defining dictionaries\n",
    "names = {1:'Sean', 2:'Mary', 3:'Magdalene', 4:'James', 5:'Nancy'}    # integer key\n",
    "age = {'p1':4, 'p2':12, 'p3':4, 'p4':45, 'p5':55}                     # text key\n",
    "height = {'p1':3.23, 'p2':6.98, 'p3':5.43, 'p4':7.55, 'p5':6.12}\n",
    "tallEnoughToRide = {'p1':False, 'p2':True, 'p3':False, 'p4':True, 'p5':False}\n",
    "data = {\n",
    "    'p1': ['Sean', 4, 3.23, False],\n",
    "    'p2': ['Bruce', 12, 6.98, True],\n",
    "    'p3': ['Magdalene', 4, 5.43, False],\n",
    "    'p4': ['James', 45, 7.55, True],\n",
    "    'p5': ['Nancy', 55, 6.12, False]\n",
    "}\n",
    "\n",
    "print(f'Dict contains: {names}')\n",
    "popped = names.pop(1)\n",
    "print(f'\"{popped}\" is removed using pop(). \\nDict now contains: {names}')\n",
    "names.clear()\n",
    "print(f'Dictionary is emptied using clera(). \\nDict now contains: {names}')\n"
   ]
  },
  {
   "cell_type": "code",
   "execution_count": 19,
   "metadata": {},
   "outputs": [
    {
     "name": "stdout",
     "output_type": "stream",
     "text": [
      "5\n",
      "['James', 'Magdalene', 'Mary', 'Nancy', 'Sean']\n",
      "[1, 2, 3, 4, 5]\n",
      "[(1, 'Sean'), (2, 'Mary'), (3, 'Magdalene'), (4, 'James'), (5, 'Nancy')]\n",
      "<class 'dict'>\n",
      "<class 'int'>\n"
     ]
    }
   ],
   "source": [
    "# Defining dictionaries\n",
    "names = {1:'Sean', 2:'Mary', 3:'Magdalene', 4:'James', 5:'Nancy'}    # integer key\n",
    "age = {'p1':4, 'p2':12, 'p3':4, 'p4':45, 'p5':55}                     # text key\n",
    "height = {'p1':3.23, 'p2':6.98, 'p3':5.43, 'p4':7.55, 'p5':6.12}\n",
    "tallEnoughToRide = {'p1':False, 'p2':True, 'p3':False, 'p4':True, 'p5':False}\n",
    "data = {\n",
    "    'p1': ['Sean', 4, 3.23, False],\n",
    "    'p2': ['Bruce', 12, 6.98, True],\n",
    "    'p3': ['Magdalene', 4, 5.43, False],\n",
    "    'p4': ['James', 45, 7.55, True],\n",
    "    'p5': ['Nancy', 55, 6.12, False]\n",
    "}\n",
    "\n",
    "# Operations on dictionaries\n",
    "print(len(names))                # Output: 5\n",
    "print(sorted(names.values()))    # Output: ['James', 'Magdalene', 'Mary', 'Nancy', 'Sean']\n",
    "print(sorted(names.keys()))      # Output: [1, 2, 3, 4, 5]\n",
    "print(sorted(names.items()))     # Output: [(1, 'Sean'), (2, 'Mary'), (3, 'Magdalene'), (4, 'James'), (5, 'Nancy')]\n",
    "print(type(age))                 # Output: <class 'dict'>\n",
    "print(type(age['p1']))           # Output: <class 'int'>\n"
   ]
  },
  {
   "cell_type": "markdown",
   "metadata": {},
   "source": [
    "## Python: Collections: Sets, set()"
   ]
  },
  {
   "cell_type": "code",
   "execution_count": 20,
   "metadata": {},
   "outputs": [
    {
     "name": "stdout",
     "output_type": "stream",
     "text": [
      "{'p', 'o', 'n', 's'}\n",
      "{'o', 'n', 's'}\n",
      "{'p'}\n",
      "set()\n",
      "{'o', 's', 'p', 'n'}\n",
      "{'s', 'o', 'n'}\n"
     ]
    }
   ],
   "source": [
    "x_set=set('spoon')\n",
    "y_set=set('soon')\n",
    "\n",
    "print(x_set)\n",
    "print(y_set)\n",
    "\n",
    "print(x_set - y_set) # All elements in x_set but not in y_set\n",
    "print(y_set - x_set) # All elements in y_set but not in x_set\n",
    "print(x_set | y_set) # Unique objects x_set or  y_set or both\n",
    "print(x_set & y_set) # Objects in both x_set or  y_set \n"
   ]
  },
  {
   "cell_type": "code",
   "execution_count": 21,
   "metadata": {},
   "outputs": [
    {
     "name": "stdout",
     "output_type": "stream",
     "text": [
      "{18, 19, 20, 21}\n",
      "{16, 18, 21, 22}\n",
      "{19, 20}\n",
      "{16, 22}\n",
      "{16, 18, 19, 20, 21, 22}\n",
      "{18, 21}\n"
     ]
    }
   ],
   "source": [
    "age1 = [18,19,20,21,18,19]\n",
    "age2 = [18,16,22,21,18,16]\n",
    "\n",
    "age1_set = set(age1)\n",
    "age2_set = set(age2)\n",
    "\n",
    "print(age1_set)\n",
    "print(age2_set)\n",
    "\n",
    "print(age1_set - age2_set) # All elements in age1_set but not in age2_set\n",
    "print(age2_set - age1_set) # All elements in age2_set but not in age1_set\n",
    "print(age1_set | age2_set) # Unique objects age1_set or  age2_set or both\n",
    "print(age1_set & age2_set) # Objects in both age1_set or  age2_set "
   ]
  },
  {
   "cell_type": "code",
   "execution_count": 22,
   "metadata": {},
   "outputs": [
    {
     "name": "stdout",
     "output_type": "stream",
     "text": [
      "{3.23, 5.43, 6.12, 6.98, 7.55}\n",
      "{4.83, 5.28, 6.12, 6.98, 6.35}\n",
      "{3.23, 5.43, 7.55}\n",
      "{4.83, 5.28, 6.35}\n",
      "{3.23, 4.83, 5.43, 6.12, 7.55, 6.98, 5.28, 6.35}\n",
      "{6.12, 6.98}\n"
     ]
    }
   ],
   "source": [
    "height1 = {'p1':3.23, 'p2':6.98, 'p3':5.43, 'p4':7.55, 'p5':6.12}\n",
    "height2 = {'p1':5.28, 'p2':6.98, 'p3':4.83, 'p4':6.35, 'p5':6.12}\n",
    "\n",
    "height1_set = set(list(height1.values())) # Cast dictionary values into a list\n",
    "height2_set = set(list(height2.values())) # Cast dictionary values into a list\n",
    "\n",
    "print(height1_set)\n",
    "print(height2_set)\n",
    "\n",
    "print(height1_set - height2_set) # All elements in height1_set but not in height2_set\n",
    "print(height2_set - height1_set) # All elements in height2_set but not in height1_set\n",
    "print(height1_set | height2_set) # Unique objects height1_set or  height2_set or both\n",
    "print(height1_set & height2_set) # Objects in both height1_set or  height2_set "
   ]
  },
  {
   "cell_type": "code",
   "execution_count": 23,
   "metadata": {},
   "outputs": [
    {
     "name": "stdout",
     "output_type": "stream",
     "text": [
      "{'p1', 'p2', 'p4', 'p3', 'p5'}\n",
      "{'p1', 'p2', 'p4', 'p3', 'p5'}\n",
      "set()\n",
      "set()\n",
      "{'p1', 'p2', 'p4', 'p3', 'p5'}\n",
      "{'p1', 'p2', 'p4', 'p3', 'p5'}\n"
     ]
    }
   ],
   "source": [
    "height1 = {'p1':3.23, 'p2':6.98, 'p3':5.43, 'p4':7.55, 'p5':6.12}\n",
    "height2 = {'p1':5.28, 'p2':6.98, 'p3':4.83, 'p4':6.35, 'p5':6.12}\n",
    "\n",
    "height1_set = set(list(height1.keys())) # Cast dictionary keys into a list\n",
    "height2_set = set(list(height2.keys())) # Cast dictionary keys into a list\n",
    "\n",
    "print(height1_set)\n",
    "print(height2_set)\n",
    "\n",
    "print(height1_set - height2_set) # All elements in height1_set but not in height2_set\n",
    "print(height2_set - height1_set) # All elements in height2_set but not in height1_set\n",
    "print(height1_set | height2_set) # Unique objects height1_set or  height2_set or both\n",
    "print(height1_set & height2_set) # Objects in both height1_set or  height2_set "
   ]
  },
  {
   "cell_type": "markdown",
   "metadata": {},
   "source": [
    "## Python: For loop, While loop"
   ]
  },
  {
   "cell_type": "code",
   "execution_count": 24,
   "metadata": {},
   "outputs": [
    {
     "name": "stdout",
     "output_type": "stream",
     "text": [
      "for loop:\n",
      "\n",
      "Ender's List\n",
      "Life is Good\n",
      "Praise and Worship\n",
      "Last Train\n",
      "The Nightingale\n",
      "Jurassic Park\n",
      "\n",
      "while loop:\n",
      "\n",
      "Jurassic Park\n",
      "Jurassic Park\n",
      "Jurassic Park\n",
      "Jurassic Park\n",
      "Jurassic Park\n"
     ]
    }
   ],
   "source": [
    "bookList = [\"Ender's List\", \"Life is Good\", \"Praise and Worship\", 'Last Train', 'The Nightingale', 'Jurassic Park']\n",
    "\n",
    "print('for loop:\\n')\n",
    "for book in bookList:\n",
    "    print(book)\n",
    "\n",
    "print('\\nwhile loop:\\n')\n",
    "count = 1\n",
    "while count < len(bookList):\n",
    "    print(book)\n",
    "    count += 1"
   ]
  },
  {
   "cell_type": "code",
   "execution_count": 25,
   "metadata": {},
   "outputs": [
    {
     "name": "stdout",
     "output_type": "stream",
     "text": [
      "Self Destruct In...\n",
      "10...\n",
      "9...\n",
      "8...\n",
      "7...\n",
      "6...\n",
      "5...\n",
      "4...\n",
      "3...\n",
      "2...\n",
      "1...\n",
      "Explosion!!!\n"
     ]
    }
   ],
   "source": [
    "print('Self Destruct In...')\n",
    "count = 10\n",
    "while count != 0:\n",
    "    print(str(count) + \"...\")\n",
    "    count -= 1\n",
    "print('Explosion!!!')"
   ]
  },
  {
   "cell_type": "code",
   "execution_count": 26,
   "metadata": {},
   "outputs": [
    {
     "name": "stdout",
     "output_type": "stream",
     "text": [
      "male\n",
      "female\n",
      "male\n",
      "female\n",
      "female\n",
      "male\n",
      "female\n",
      "male\n"
     ]
    }
   ],
   "source": [
    "# loops for data cleaning\n",
    "gender = ['Male', 'Female', 'm','female', 'f', 'M', 'F', 'male']\n",
    "\n",
    "for item in gender:\n",
    "    item_lower = item.lower()\n",
    "    if 'f' in item_lower:\n",
    "        print('female')\n",
    "    else:\n",
    "        print('male')\n",
    "\n"
   ]
  },
  {
   "cell_type": "markdown",
   "metadata": {},
   "source": [
    "## Python: Nested Loops"
   ]
  },
  {
   "cell_type": "code",
   "execution_count": 27,
   "metadata": {},
   "outputs": [
    {
     "name": "stdout",
     "output_type": "stream",
     "text": [
      "nested for loop:\n",
      "\n",
      "Sean Wong\n",
      "Sean Lee\n",
      "Sean Soong\n",
      "Sean Yu\n",
      "Sean Tang\n",
      "Sam Wong\n",
      "Sam Lee\n",
      "Sam Soong\n",
      "Sam Yu\n",
      "Sam Tang\n",
      "Simon Wong\n",
      "Simon Lee\n",
      "Simon Soong\n",
      "Simon Yu\n",
      "Simon Tang\n",
      "Samantha Wong\n",
      "Samantha Lee\n",
      "Samantha Soong\n",
      "Samantha Yu\n",
      "Samantha Tang\n",
      "Simean Wong\n",
      "Simean Lee\n",
      "Simean Soong\n",
      "Simean Yu\n",
      "Simean Tang\n"
     ]
    }
   ],
   "source": [
    "# Create every combination of first and last names\n",
    "firstNames = ['Sean', 'Sam', 'Simon', 'Samantha', 'Simean']\n",
    "lastNames = ['Wong', 'Lee', 'Soong', 'Yu', 'Tang']\n",
    "\n",
    "print('nested for loop:\\n')\n",
    "for fn in firstNames:\n",
    "    for ln in lastNames:\n",
    "        print(fn, ln)"
   ]
  },
  {
   "cell_type": "code",
   "execution_count": 28,
   "metadata": {},
   "outputs": [
    {
     "name": "stdout",
     "output_type": "stream",
     "text": [
      "\n",
      "nested while loop:\n",
      "\n",
      "Sean Wong\n",
      "Sean Lee\n",
      "Sean Soong\n",
      "Sean Yu\n",
      "Sean Tang\n",
      "Sam Wong\n",
      "Sam Lee\n",
      "Sam Soong\n",
      "Sam Yu\n",
      "Sam Tang\n",
      "Simon Wong\n",
      "Simon Lee\n",
      "Simon Soong\n",
      "Simon Yu\n",
      "Simon Tang\n",
      "Samantha Wong\n",
      "Samantha Lee\n",
      "Samantha Soong\n",
      "Samantha Yu\n",
      "Samantha Tang\n",
      "Simean Wong\n",
      "Simean Lee\n",
      "Simean Soong\n",
      "Simean Yu\n",
      "Simean Tang\n"
     ]
    }
   ],
   "source": [
    "# Create every combination of first and last names\n",
    "firstNames = ['Sean', 'Sam', 'Simon', 'Samantha', 'Simean']\n",
    "lastNames = ['Wong', 'Lee', 'Soong', 'Yu', 'Tang']\n",
    "\n",
    "print('\\nnested while loop:\\n')\n",
    "fcount = 0\n",
    "while fcount < len(firstNames):\n",
    "    lcount = 0\n",
    "    while lcount < len(lastNames):\n",
    "        print(firstNames[fcount], lastNames[lcount])\n",
    "        lcount += 1\n",
    "    fcount += 1"
   ]
  },
  {
   "cell_type": "code",
   "execution_count": 29,
   "metadata": {},
   "outputs": [
    {
     "name": "stdout",
     "output_type": "stream",
     "text": [
      "(1, 1)\n",
      "(1, 2)\n",
      "(1, 3)\n",
      "(1, 4)\n",
      "(1, 5)\n",
      "(1, 6)\n",
      "(1, 7)\n",
      "(1, 8)\n",
      "(1, 9)\n",
      "(1, 10)\n",
      "(2, 1)\n",
      "(2, 2)\n",
      "(2, 3)\n",
      "(2, 4)\n",
      "(2, 5)\n",
      "(2, 6)\n",
      "(2, 7)\n",
      "(2, 8)\n",
      "(2, 9)\n",
      "(2, 10)\n",
      "(3, 1)\n",
      "(3, 2)\n",
      "(3, 3)\n",
      "(3, 4)\n",
      "(3, 5)\n",
      "(3, 6)\n",
      "(3, 7)\n",
      "(3, 8)\n",
      "(3, 9)\n",
      "(3, 10)\n",
      "(4, 1)\n",
      "(4, 2)\n",
      "(4, 3)\n",
      "(4, 4)\n",
      "(4, 5)\n",
      "(4, 6)\n",
      "(4, 7)\n",
      "(4, 8)\n",
      "(4, 9)\n",
      "(4, 10)\n",
      "(5, 1)\n",
      "(5, 2)\n",
      "(5, 3)\n",
      "(5, 4)\n",
      "(5, 5)\n",
      "(5, 6)\n",
      "(5, 7)\n",
      "(5, 8)\n",
      "(5, 9)\n",
      "(5, 10)\n",
      "(6, 1)\n",
      "(6, 2)\n",
      "(6, 3)\n",
      "(6, 4)\n",
      "(6, 5)\n",
      "(6, 6)\n",
      "(6, 7)\n",
      "(6, 8)\n",
      "(6, 9)\n",
      "(6, 10)\n",
      "(7, 1)\n",
      "(7, 2)\n",
      "(7, 3)\n",
      "(7, 4)\n",
      "(7, 5)\n",
      "(7, 6)\n",
      "(7, 7)\n",
      "(7, 8)\n",
      "(7, 9)\n",
      "(7, 10)\n",
      "(8, 1)\n",
      "(8, 2)\n",
      "(8, 3)\n",
      "(8, 4)\n",
      "(8, 5)\n",
      "(8, 6)\n",
      "(8, 7)\n",
      "(8, 8)\n",
      "(8, 9)\n",
      "(8, 10)\n",
      "(9, 1)\n",
      "(9, 2)\n",
      "(9, 3)\n",
      "(9, 4)\n",
      "(9, 5)\n",
      "(9, 6)\n",
      "(9, 7)\n",
      "(9, 8)\n",
      "(9, 9)\n",
      "(9, 10)\n",
      "(10, 1)\n",
      "(10, 2)\n",
      "(10, 3)\n",
      "(10, 4)\n",
      "(10, 5)\n",
      "(10, 6)\n",
      "(10, 7)\n",
      "(10, 8)\n",
      "(10, 9)\n",
      "(10, 10)\n"
     ]
    }
   ],
   "source": [
    "column = 1\n",
    "row = 1\n",
    "\n",
    "while column <= 10:\n",
    "    while row <= 10:\n",
    "        print(f'({column}, {row})')\n",
    "        row += 1\n",
    "    column += 1\n",
    "    row = 1"
   ]
  },
  {
   "cell_type": "markdown",
   "metadata": {},
   "source": [
    "## Python: Break, Continue, Else (in loops)"
   ]
  },
  {
   "cell_type": "code",
   "execution_count": 30,
   "metadata": {},
   "outputs": [
    {
     "name": "stdout",
     "output_type": "stream",
     "text": [
      "0\n",
      "1\n",
      "2\n",
      "3\n",
      "4\n"
     ]
    }
   ],
   "source": [
    "## break is useful for searching for a string\n",
    "count = 0\n",
    "x = 1\n",
    "while x == 1:\n",
    "    print(count)\n",
    "    count += 1\n",
    "    if count >= 5:\n",
    "        break"
   ]
  },
  {
   "cell_type": "code",
   "execution_count": 31,
   "metadata": {},
   "outputs": [
    {
     "name": "stdout",
     "output_type": "stream",
     "text": [
      "0\n",
      "2\n",
      "4\n",
      "6\n",
      "8\n"
     ]
    },
    {
     "data": {
      "text/plain": [
       "' \\n0 % 2 == 0: Even number, so prints 0.\\n1 % 2 == 1: Odd number, continue skips printing.\\n2 % 2 == 0: Even number, so prints 2.\\n3 % 2 == 1: Odd number, continue skips printing.\\n4 % 2 == 0: Even number, so prints 4.\\n5 % 2 == 1: Odd number, continue skips printing.\\n6 % 2 == 0: Even number, so prints 6.\\n7 % 2 == 1: Odd number, continue skips printing.\\n8 % 2 == 0: Even number, so prints 8.\\n9 % 2 == 1: Odd number, continue skips printing.\\n'"
      ]
     },
     "execution_count": 31,
     "metadata": {},
     "output_type": "execute_result"
    }
   ],
   "source": [
    "# If x is odd, the continue statement is executed, \n",
    "# which skips the remaining code in the loop and proceeds to the next iteration.\n",
    "for x in range(10):\n",
    "    if x % 2 == 1:\n",
    "        continue\n",
    "    print(x)\n",
    "\n",
    "\n",
    "\"\"\" \n",
    "0 % 2 == 0: Even number, so prints 0.\n",
    "1 % 2 == 1: Odd number, continue skips printing.\n",
    "2 % 2 == 0: Even number, so prints 2.\n",
    "3 % 2 == 1: Odd number, continue skips printing.\n",
    "4 % 2 == 0: Even number, so prints 4.\n",
    "5 % 2 == 1: Odd number, continue skips printing.\n",
    "6 % 2 == 0: Even number, so prints 6.\n",
    "7 % 2 == 1: Odd number, continue skips printing.\n",
    "8 % 2 == 0: Even number, so prints 8.\n",
    "9 % 2 == 1: Odd number, continue skips printing.\n",
    "\"\"\""
   ]
  },
  {
   "cell_type": "code",
   "execution_count": 32,
   "metadata": {},
   "outputs": [
    {
     "name": "stdout",
     "output_type": "stream",
     "text": [
      "0\n",
      "1\n",
      "2\n",
      "3\n",
      "4\n",
      "count reach the end::  5\n"
     ]
    }
   ],
   "source": [
    "count = 0\n",
    "while count<5:\n",
    "    print(count)\n",
    "    count += 1\n",
    "else:\n",
    "    print('count reach the end:: ', count)"
   ]
  },
  {
   "cell_type": "code",
   "execution_count": 33,
   "metadata": {},
   "outputs": [
    {
     "name": "stdout",
     "output_type": "stream",
     "text": [
      "21\n",
      "22\n",
      "23\n",
      "24\n"
     ]
    },
    {
     "data": {
      "text/plain": [
       "' \\nAfter i reaches 25 (which is divisible by 5), the break statement terminates the loop. \\nTherefore, the else block is not executed, and the message within it \\n(\"This will never be printed because break does not allow \\'else\\' statement\") is not printed.\\n'"
      ]
     },
     "execution_count": 33,
     "metadata": {},
     "output_type": "execute_result"
    }
   ],
   "source": [
    "for i in range (21,30):\n",
    "    if (i % 5 == 0):\n",
    "        break\n",
    "    print (i)\n",
    "else:\n",
    "    print('This will never be printed because break does not allow \"else\" statement ')       \n",
    "\n",
    "''' \n",
    "After i reaches 25 (which is divisible by 5), the break statement terminates the loop. \n",
    "Therefore, the else block is not executed, and the message within it \n",
    "(\"This will never be printed because break does not allow 'else' statement\") is not printed.\n",
    "'''"
   ]
  }
 ],
 "metadata": {
  "kernelspec": {
   "display_name": "Python 3",
   "language": "python",
   "name": "python3"
  },
  "language_info": {
   "codemirror_mode": {
    "name": "ipython",
    "version": 3
   },
   "file_extension": ".py",
   "mimetype": "text/x-python",
   "name": "python",
   "nbconvert_exporter": "python",
   "pygments_lexer": "ipython3",
   "version": "3.12.4"
  }
 },
 "nbformat": 4,
 "nbformat_minor": 2
}
