{
 "cells": [
  {
   "cell_type": "markdown",
   "metadata": {},
   "source": [
    "## Python: Pandas, Dataframes"
   ]
  },
  {
   "cell_type": "code",
   "execution_count": 35,
   "metadata": {},
   "outputs": [
    {
     "name": "stdout",
     "output_type": "stream",
     "text": [
      "df.head():\n",
      "   age     sex     bmi  children smoker     region      charges\n",
      "0   19  female  27.900         0    yes  southwest  16884.92400\n",
      "1   18    male  33.770         1     no  southeast   1725.55230\n",
      "2   28    male  33.000         3     no  southeast   4449.46200\n",
      "3   33    male  22.705         0     no  northwest  21984.47061\n",
      "4   32    male  28.880         0     no  northwest   3866.85520\n"
     ]
    }
   ],
   "source": [
    "import pandas as pd\n",
    "file_path='./data/insurance.csv'\n",
    "df = pd.read_csv(file_path)\n",
    "print(f'df.head():\\n{df.head()}')"
   ]
  },
  {
   "cell_type": "code",
   "execution_count": 36,
   "metadata": {},
   "outputs": [
    {
     "name": "stdout",
     "output_type": "stream",
     "text": [
      "\n",
      "df.shape:\n",
      "(1338, 7)\n"
     ]
    }
   ],
   "source": [
    "print(f'\\ndf.shape:\\n{df.shape}')\n"
   ]
  },
  {
   "cell_type": "code",
   "execution_count": 37,
   "metadata": {},
   "outputs": [
    {
     "name": "stdout",
     "output_type": "stream",
     "text": [
      "\n",
      "df.columns:\n",
      "Index(['age', 'sex', 'bmi', 'children', 'smoker', 'region', 'charges'], dtype='object')\n"
     ]
    }
   ],
   "source": [
    "print(f'\\ndf.columns:\\n{df.columns}')"
   ]
  },
  {
   "cell_type": "code",
   "execution_count": 38,
   "metadata": {},
   "outputs": [
    {
     "name": "stdout",
     "output_type": "stream",
     "text": [
      "\n",
      "df.describe():\n",
      "               age          bmi     children       charges\n",
      "count  1338.000000  1338.000000  1338.000000   1338.000000\n",
      "mean     39.207025    30.663397     1.094918  13270.422265\n",
      "std      14.049960     6.098187     1.205493  12110.011237\n",
      "min      18.000000    15.960000     0.000000   1121.873900\n",
      "25%      27.000000    26.296250     0.000000   4740.287150\n",
      "50%      39.000000    30.400000     1.000000   9382.033000\n",
      "75%      51.000000    34.693750     2.000000  16639.912515\n",
      "max      64.000000    53.130000     5.000000  63770.428010\n"
     ]
    }
   ],
   "source": [
    "print(f'\\ndf.describe():\\n{df.describe()}')"
   ]
  },
  {
   "cell_type": "code",
   "execution_count": 39,
   "metadata": {},
   "outputs": [
    {
     "name": "stdout",
     "output_type": "stream",
     "text": [
      "<class 'pandas.core.frame.DataFrame'>\n",
      "RangeIndex: 1338 entries, 0 to 1337\n",
      "Data columns (total 7 columns):\n",
      " #   Column    Non-Null Count  Dtype  \n",
      "---  ------    --------------  -----  \n",
      " 0   age       1338 non-null   int64  \n",
      " 1   sex       1338 non-null   object \n",
      " 2   bmi       1338 non-null   float64\n",
      " 3   children  1338 non-null   int64  \n",
      " 4   smoker    1338 non-null   object \n",
      " 5   region    1338 non-null   object \n",
      " 6   charges   1338 non-null   float64\n",
      "dtypes: float64(2), int64(2), object(3)\n",
      "memory usage: 73.3+ KB\n",
      "\n",
      "df.info():\n",
      "None\n"
     ]
    }
   ],
   "source": [
    "print(f'\\ndf.info():\\n{df.info()}')"
   ]
  },
  {
   "cell_type": "code",
   "execution_count": 40,
   "metadata": {},
   "outputs": [
    {
     "name": "stdout",
     "output_type": "stream",
     "text": [
      "\n",
      "df.isnull():\n",
      "        age    sex    bmi  children  smoker  region  charges\n",
      "0     False  False  False     False   False   False    False\n",
      "1     False  False  False     False   False   False    False\n",
      "2     False  False  False     False   False   False    False\n",
      "3     False  False  False     False   False   False    False\n",
      "4     False  False  False     False   False   False    False\n",
      "...     ...    ...    ...       ...     ...     ...      ...\n",
      "1333  False  False  False     False   False   False    False\n",
      "1334  False  False  False     False   False   False    False\n",
      "1335  False  False  False     False   False   False    False\n",
      "1336  False  False  False     False   False   False    False\n",
      "1337  False  False  False     False   False   False    False\n",
      "\n",
      "[1338 rows x 7 columns]\n",
      "\n",
      "df.isnull().sum():\n",
      "age         0\n",
      "sex         0\n",
      "bmi         0\n",
      "children    0\n",
      "smoker      0\n",
      "region      0\n",
      "charges     0\n",
      "dtype: int64\n"
     ]
    }
   ],
   "source": [
    "print(f'\\ndf.isnull():\\n{df.isnull()}')\n",
    "print(f'\\ndf.isnull().sum():\\n{df.isnull().sum()}')"
   ]
  },
  {
   "cell_type": "code",
   "execution_count": 41,
   "metadata": {},
   "outputs": [
    {
     "name": "stdout",
     "output_type": "stream",
     "text": [
      "\n",
      "df.isna():\n",
      "        age    sex    bmi  children  smoker  region  charges\n",
      "0     False  False  False     False   False   False    False\n",
      "1     False  False  False     False   False   False    False\n",
      "2     False  False  False     False   False   False    False\n",
      "3     False  False  False     False   False   False    False\n",
      "4     False  False  False     False   False   False    False\n",
      "...     ...    ...    ...       ...     ...     ...      ...\n",
      "1333  False  False  False     False   False   False    False\n",
      "1334  False  False  False     False   False   False    False\n",
      "1335  False  False  False     False   False   False    False\n",
      "1336  False  False  False     False   False   False    False\n",
      "1337  False  False  False     False   False   False    False\n",
      "\n",
      "[1338 rows x 7 columns]\n",
      "\n",
      "df.isna().sum():\n",
      "age         0\n",
      "sex         0\n",
      "bmi         0\n",
      "children    0\n",
      "smoker      0\n",
      "region      0\n",
      "charges     0\n",
      "dtype: int64\n"
     ]
    }
   ],
   "source": [
    "print(f'\\ndf.isna():\\n{df.isna()}')\n",
    "print(f'\\ndf.isna().sum():\\n{df.isna().sum()}')"
   ]
  },
  {
   "cell_type": "markdown",
   "metadata": {},
   "source": [
    "* In pandas, both df.isna() and df.isnull() are methods that are used to check for missing or NaN (Not a Number) values in a DataFrame.\n",
    "\n",
    "* df.isna() and df.isnull() are essentially the same and are interchangeable. \n",
    "* They both return a DataFrame of the same shape as the original, where each element is either True or False, indicating whether that particular element is missing (NaN) or not."
   ]
  },
  {
   "cell_type": "code",
   "execution_count": 42,
   "metadata": {},
   "outputs": [
    {
     "name": "stdout",
     "output_type": "stream",
     "text": [
      "\n",
      "df.age:\n",
      "0       19\n",
      "1       18\n",
      "2       28\n",
      "3       33\n",
      "4       32\n",
      "        ..\n",
      "1333    50\n",
      "1334    18\n",
      "1335    18\n",
      "1336    21\n",
      "1337    61\n",
      "Name: age, Length: 1338, dtype: int64\n",
      "\n",
      "df['age']:\n",
      "0       19\n",
      "1       18\n",
      "2       28\n",
      "3       33\n",
      "4       32\n",
      "        ..\n",
      "1333    50\n",
      "1334    18\n",
      "1335    18\n",
      "1336    21\n",
      "1337    61\n",
      "Name: age, Length: 1338, dtype: int64\n"
     ]
    }
   ],
   "source": [
    "print(f'\\ndf.age:\\n{df.age}')\n",
    "print(f\"\\ndf['age']:\\n{df['age']}\")"
   ]
  },
  {
   "cell_type": "code",
   "execution_count": 43,
   "metadata": {},
   "outputs": [
    {
     "name": "stdout",
     "output_type": "stream",
     "text": [
      "df.head(3):\n",
      "   age     sex    bmi  children smoker     region     charges\n",
      "0   19  female  27.90         0    yes  southwest  16884.9240\n",
      "1   18    male  33.77         1     no  southeast   1725.5523\n",
      "2   28    male  33.00         3     no  southeast   4449.4620\n",
      "\n",
      "df.iloc[0]:\n",
      "age                19\n",
      "sex            female\n",
      "bmi              27.9\n",
      "children            0\n",
      "smoker            yes\n",
      "region      southwest\n",
      "charges     16884.924\n",
      "Name: 0, dtype: object\n",
      "\n",
      "df.iloc[2]:\n",
      "age                28\n",
      "sex              male\n",
      "bmi              33.0\n",
      "children            3\n",
      "smoker             no\n",
      "region      southeast\n",
      "charges      4449.462\n",
      "Name: 2, dtype: object\n"
     ]
    }
   ],
   "source": [
    "print(f'df.head(3):\\n{df.head(3)}')\n",
    "print(f'\\ndf.iloc[0]:\\n{df.iloc[0]}')\n",
    "print(f'\\ndf.iloc[2]:\\n{df.iloc[2]}')\n",
    "\n"
   ]
  },
  {
   "cell_type": "code",
   "execution_count": 66,
   "metadata": {},
   "outputs": [
    {
     "name": "stdout",
     "output_type": "stream",
     "text": [
      "   id  heartRate1  heartRate2  heartRate3\n",
      "0  p1          81          71          61\n",
      "1  p2          72          82          75\n",
      "2  p3          63          68          83\n",
      "3  p4          74          72          79\n",
      "4  p5          65          85          68\n"
     ]
    }
   ],
   "source": [
    "# Define the heartRates dictionary\n",
    "heartRates = {\n",
    "    'id': ['p1', 'p2', 'p3', 'p4', 'p5'],\n",
    "    'heartRate1': [81, 72, 63, 74, 65],\n",
    "    'heartRate2': [71, 82, 68, 72, 85],\n",
    "    'heartRate3': [61, 75, 83, 79, 68],\n",
    "}\n",
    "\n",
    "# Create a DataFrame from heartRates\n",
    "hr_df = pd.DataFrame(heartRates)\n",
    "\n",
    "# Display the first few rows of the DataFrame\n",
    "print(hr_df.head())"
   ]
  },
  {
   "cell_type": "code",
   "execution_count": 67,
   "metadata": {},
   "outputs": [
    {
     "name": "stdout",
     "output_type": "stream",
     "text": [
      "\n",
      "hr_df['heartRate1']:\n",
      "0    81\n",
      "1    72\n",
      "2    63\n",
      "3    74\n",
      "4    65\n",
      "Name: heartRate1, dtype: int64\n",
      "\n",
      "hr_df'iloc[0]:\n",
      "id            p1\n",
      "heartRate1    81\n",
      "heartRate2    71\n",
      "heartRate3    61\n",
      "Name: 0, dtype: object\n",
      "\n",
      "hr_df'iloc[3]:\n",
      "id            p4\n",
      "heartRate1    74\n",
      "heartRate2    72\n",
      "heartRate3    79\n",
      "Name: 3, dtype: object\n"
     ]
    }
   ],
   "source": [
    "# Access and print the 'heartRate1' column\n",
    "print(f\"\\nhr_df['heartRate1']:\\n{hr_df['heartRate1']}\")\n",
    "\n",
    "# Access and print the first row using iloc\n",
    "print(f\"\\nhr_df'iloc[0]:\\n{hr_df.iloc[0]}\")\n",
    "\n",
    "# Access and print the fourth row using iloc\n",
    "print(f\"\\nhr_df'iloc[3]:\\n{hr_df.iloc[3]}\")"
   ]
  },
  {
   "cell_type": "code",
   "execution_count": 68,
   "metadata": {},
   "outputs": [
    {
     "name": "stdout",
     "output_type": "stream",
     "text": [
      "\n",
      "hr_df:\n",
      "   id  heartRate1  heartRate2  heartRate3\n",
      "0  p1          65          71          61\n",
      "1  p2          72          82          75\n",
      "2  p3          63          68          83\n",
      "3  p4          74          72          79\n",
      "4  p5          65          85          68\n"
     ]
    },
    {
     "name": "stderr",
     "output_type": "stream",
     "text": [
      "C:\\Users\\Sean\\AppData\\Local\\Temp\\ipykernel_16112\\1789816851.py:2: FutureWarning: ChainedAssignmentError: behaviour will change in pandas 3.0!\n",
      "You are setting values through chained assignment. Currently this works in certain cases, but when using Copy-on-Write (which will become the default behaviour in pandas 3.0) this will never work to update the original DataFrame or Series, because the intermediate object on which we are setting values will behave as a copy.\n",
      "A typical example is when you are setting values in a column of a DataFrame, like:\n",
      "\n",
      "df[\"col\"][row_indexer] = value\n",
      "\n",
      "Use `df.loc[row_indexer, \"col\"] = values` instead, to perform the assignment in a single step and ensure this keeps updating the original `df`.\n",
      "\n",
      "See the caveats in the documentation: https://pandas.pydata.org/pandas-docs/stable/user_guide/indexing.html#returning-a-view-versus-a-copy\n",
      "\n",
      "  hr_df['heartRate1'][0] = 65\n",
      "C:\\Users\\Sean\\AppData\\Local\\Temp\\ipykernel_16112\\1789816851.py:2: SettingWithCopyWarning: \n",
      "A value is trying to be set on a copy of a slice from a DataFrame\n",
      "\n",
      "See the caveats in the documentation: https://pandas.pydata.org/pandas-docs/stable/user_guide/indexing.html#returning-a-view-versus-a-copy\n",
      "  hr_df['heartRate1'][0] = 65\n"
     ]
    }
   ],
   "source": [
    "# Change the value of 'heartRate1' for the first row ('p1')\n",
    "hr_df['heartRate1'][0] = 65\n",
    "\n",
    "# Print the updated first row\n",
    "print(f\"\\nhr_df:\\n{hr_df}\")"
   ]
  },
  {
   "cell_type": "code",
   "execution_count": 69,
   "metadata": {},
   "outputs": [
    {
     "name": "stdout",
     "output_type": "stream",
     "text": [
      "\n",
      "hr_df['heartRate3'][3]: 79\n"
     ]
    }
   ],
   "source": [
    "# Access and print the value of 'heartRate3' for the fourth row ('p4')\n",
    "print(f\"\\nhr_df['heartRate3'][3]: {hr_df['heartRate3'][3]}\")"
   ]
  },
  {
   "cell_type": "code",
   "execution_count": 70,
   "metadata": {},
   "outputs": [
    {
     "name": "stdout",
     "output_type": "stream",
     "text": [
      "['id', 'heartRate1', 'heartRate2', 'heartRate3']\n",
      "['p1', np.int64(65), np.int64(71), np.int64(61)]\n",
      "['p1', 65, 71, 61]\n"
     ]
    }
   ],
   "source": [
    "# Get the column names as a list\n",
    "columns = list(hr_df)\n",
    "print(columns)\n",
    "\n",
    "# Get the values of the first row as a list\n",
    "row1 = list(hr_df.iloc[0])\n",
    "print(row1)\n",
    "\n",
    "# Convert any np.int64 values in row1 to Python int\n",
    "row1 = [int(item) if isinstance(item, np.int64) else item for item in row1]\n",
    "print(row1)"
   ]
  },
  {
   "cell_type": "markdown",
   "metadata": {},
   "source": [
    "* A list comprehension ([int(item) if isinstance(item, np.int64) else item for item in row1]) iterates through each item in row1. \n",
    "* If the item is of type np.int64, it converts it to a Python int. \n",
    "* This ensures that numeric values are represented as native Python integers rather than NumPy integers."
   ]
  },
  {
   "cell_type": "code",
   "execution_count": 71,
   "metadata": {},
   "outputs": [
    {
     "name": "stdout",
     "output_type": "stream",
     "text": [
      "p1\n",
      "65\n",
      "71\n",
      "61\n"
     ]
    }
   ],
   "source": [
    "# Iterate through each column and print the value of the first row\n",
    "for i in columns:\n",
    "    print(hr_df[i][0])"
   ]
  },
  {
   "cell_type": "code",
   "execution_count": 72,
   "metadata": {},
   "outputs": [
    {
     "data": {
      "text/plain": [
       "[65, 72, 63, 74, 65]"
      ]
     },
     "execution_count": 72,
     "metadata": {},
     "output_type": "execute_result"
    }
   ],
   "source": [
    "# Get the values of 'heartRate1' column as a list\n",
    "c = list(hr_df['heartRate1'])\n",
    "c"
   ]
  },
  {
   "cell_type": "code",
   "execution_count": 73,
   "metadata": {},
   "outputs": [
    {
     "name": "stdout",
     "output_type": "stream",
     "text": [
      "65\n",
      "72\n",
      "63\n",
      "74\n",
      "65\n"
     ]
    }
   ],
   "source": [
    "# Print each item in the 'heartRate1' column\n",
    "for item in c:\n",
    "    print(item)"
   ]
  },
  {
   "cell_type": "markdown",
   "metadata": {},
   "source": [
    "## Python: Write to CSV, Pandas"
   ]
  },
  {
   "cell_type": "code",
   "execution_count": 75,
   "metadata": {},
   "outputs": [],
   "source": [
    "hr_df.to_csv('./data/heart-rate.csv')"
   ]
  },
  {
   "cell_type": "markdown",
   "metadata": {},
   "source": [
    "## Python: Declaring and calling functions"
   ]
  },
  {
   "cell_type": "code",
   "execution_count": 78,
   "metadata": {},
   "outputs": [
    {
     "name": "stdout",
     "output_type": "stream",
     "text": [
      "15\n"
     ]
    }
   ],
   "source": [
    "numbers = [1,2,3,4,5]\n",
    "\n",
    "def SumList(list):\n",
    "    sum = 0\n",
    "    for num in list:\n",
    "        sum += num\n",
    "    return sum\n",
    "\n",
    "total = SumList(numbers)\n",
    "print(total)\n"
   ]
  },
  {
   "cell_type": "code",
   "execution_count": 79,
   "metadata": {},
   "outputs": [
    {
     "name": "stdout",
     "output_type": "stream",
     "text": [
      "['Sean is awesome']\n"
     ]
    }
   ],
   "source": [
    "def search(list, query):\n",
    "    matching_items=[]\n",
    "    for item in list:\n",
    "        if query in item:\n",
    "            matching_items.append(item)\n",
    "    return matching_items\n",
    "\n",
    "words = ['Hi There', 'Winner takes all', 'Sean is awesome']\n",
    "results = search(words, 'awesome')\n",
    "print(results)"
   ]
  },
  {
   "cell_type": "markdown",
   "metadata": {},
   "source": [
    "## Python: Functions without parameter"
   ]
  },
  {
   "cell_type": "code",
   "execution_count": 91,
   "metadata": {},
   "outputs": [
    {
     "name": "stdout",
     "output_type": "stream",
     "text": [
      "Today's date is -- 9/7/2024\n",
      "Time now is -- 14:54:12\n"
     ]
    }
   ],
   "source": [
    "from datetime import datetime\n",
    "\n",
    "def check_time():\n",
    "    now = datetime.now()\n",
    "    day = now.day\n",
    "    month = now.month\n",
    "    year = now.year\n",
    "    print(f\"Today's date is -- {day}/{month}/{year}\")\n",
    "    print(f\"Time now is -- {now.hour}:{now.minute}:{now.second}\")\n",
    "\n",
    "check_time()"
   ]
  },
  {
   "cell_type": "markdown",
   "metadata": {},
   "source": [
    "## Python: Calling functions from a separate .py file"
   ]
  },
  {
   "cell_type": "code",
   "execution_count": 2,
   "metadata": {},
   "outputs": [
    {
     "name": "stdout",
     "output_type": "stream",
     "text": [
      "Today's date  is 9/7/2024\n",
      "Time now is 15:28:1\n",
      "Average of [1, 2, 3, 4, 5] is:: 3.0\n"
     ]
    }
   ],
   "source": [
    "import sys\n",
    "sys.path.append('./functions')\n",
    "from myFunctions import time_check, calculate_average\n",
    "\n",
    "time_check()\n",
    "numbers = [1,2,3,4,5]\n",
    "\n",
    "average = calculate_average(numbers)\n",
    "print(f'Average of {numbers} is:: {average}')"
   ]
  },
  {
   "cell_type": "markdown",
   "metadata": {},
   "source": [
    "## Python: Converting to and from JSON"
   ]
  },
  {
   "cell_type": "code",
   "execution_count": 5,
   "metadata": {},
   "outputs": [
    {
     "data": {
      "text/html": [
       "<div>\n",
       "<style scoped>\n",
       "    .dataframe tbody tr th:only-of-type {\n",
       "        vertical-align: middle;\n",
       "    }\n",
       "\n",
       "    .dataframe tbody tr th {\n",
       "        vertical-align: top;\n",
       "    }\n",
       "\n",
       "    .dataframe thead th {\n",
       "        text-align: right;\n",
       "    }\n",
       "</style>\n",
       "<table border=\"1\" class=\"dataframe\">\n",
       "  <thead>\n",
       "    <tr style=\"text-align: right;\">\n",
       "      <th></th>\n",
       "      <th>age</th>\n",
       "      <th>sex</th>\n",
       "      <th>bmi</th>\n",
       "      <th>children</th>\n",
       "      <th>smoker</th>\n",
       "      <th>region</th>\n",
       "      <th>charges</th>\n",
       "    </tr>\n",
       "  </thead>\n",
       "  <tbody>\n",
       "    <tr>\n",
       "      <th>0</th>\n",
       "      <td>19</td>\n",
       "      <td>female</td>\n",
       "      <td>27.90</td>\n",
       "      <td>0</td>\n",
       "      <td>yes</td>\n",
       "      <td>southwest</td>\n",
       "      <td>16884.9240</td>\n",
       "    </tr>\n",
       "    <tr>\n",
       "      <th>1</th>\n",
       "      <td>18</td>\n",
       "      <td>male</td>\n",
       "      <td>33.77</td>\n",
       "      <td>1</td>\n",
       "      <td>no</td>\n",
       "      <td>southeast</td>\n",
       "      <td>1725.5523</td>\n",
       "    </tr>\n",
       "    <tr>\n",
       "      <th>2</th>\n",
       "      <td>28</td>\n",
       "      <td>male</td>\n",
       "      <td>33.00</td>\n",
       "      <td>3</td>\n",
       "      <td>no</td>\n",
       "      <td>southeast</td>\n",
       "      <td>4449.4620</td>\n",
       "    </tr>\n",
       "  </tbody>\n",
       "</table>\n",
       "</div>"
      ],
      "text/plain": [
       "   age     sex    bmi  children smoker     region     charges\n",
       "0   19  female  27.90         0    yes  southwest  16884.9240\n",
       "1   18    male  33.77         1     no  southeast   1725.5523\n",
       "2   28    male  33.00         3     no  southeast   4449.4620"
      ]
     },
     "execution_count": 5,
     "metadata": {},
     "output_type": "execute_result"
    }
   ],
   "source": [
    "import pandas as pd\n",
    "import json\n",
    "\n",
    "file_path='./data/insurance.csv'\n",
    "df = pd.read_csv(file_path)\n",
    "df = df.head(3)\n",
    "df"
   ]
  },
  {
   "cell_type": "code",
   "execution_count": 20,
   "metadata": {},
   "outputs": [
    {
     "name": "stdout",
     "output_type": "stream",
     "text": [
      "df.to_json results in data type: <class 'str'>\n",
      "json.loads results in data type: <class 'dict'>\n",
      "\n",
      "json string:\n",
      "{\"age\":{\"0\":19,\"1\":18,\"2\":28},\"sex\":{\"0\":\"female\",\"1\":\"male\",\"2\":\"male\"},\"bmi\":{\"0\":27.9,\"1\":33.77,\"2\":33.0},\"children\":{\"0\":0,\"1\":1,\"2\":3},\"smoker\":{\"0\":\"yes\",\"1\":\"no\",\"2\":\"no\"},\"region\":{\"0\":\"southwest\",\"1\":\"southeast\",\"2\":\"southeast\"},\"charges\":{\"0\":16884.924,\"1\":1725.5523,\"2\":4449.462}}\n",
      "json dictionary:\n",
      "Columns Orientation: {'age': {'0': 19, '1': 18, '2': 28}, 'sex': {'0': 'female', '1': 'male', '2': 'male'}, 'bmi': {'0': 27.9, '1': 33.77, '2': 33.0}, 'children': {'0': 0, '1': 1, '2': 3}, 'smoker': {'0': 'yes', '1': 'no', '2': 'no'}, 'region': {'0': 'southwest', '1': 'southeast', '2': 'southeast'}, 'charges': {'0': 16884.924, '1': 1725.5523, '2': 4449.462}}\n"
     ]
    }
   ],
   "source": [
    "# Convert dataframe to json string\n",
    "json_string = df.to_json() # default orientation = colimns\n",
    "print(f'df.to_json results in data type: {type(json_string)}')\n",
    "\n",
    "# convert json string to json dictionary\n",
    "json_dict = json.loads(json_string)\n",
    "print(f'json.loads results in data type: {type(json_dict)}')\n",
    "\n",
    "print()\n",
    "print('json string:')\n",
    "print(json_string)\n",
    "print('json dictionary:')\n",
    "print(f'Columns Orientation: {json_dict}')"
   ]
  },
  {
   "cell_type": "code",
   "execution_count": 15,
   "metadata": {},
   "outputs": [
    {
     "data": {
      "text/plain": [
       "{'0': 19, '1': 18, '2': 28}"
      ]
     },
     "execution_count": 15,
     "metadata": {},
     "output_type": "execute_result"
    }
   ],
   "source": [
    "json_dict['age']"
   ]
  },
  {
   "cell_type": "code",
   "execution_count": 17,
   "metadata": {},
   "outputs": [
    {
     "data": {
      "text/plain": [
       "19"
      ]
     },
     "execution_count": 17,
     "metadata": {},
     "output_type": "execute_result"
    }
   ],
   "source": [
    "json_dict['age']['0']"
   ]
  },
  {
   "cell_type": "code",
   "execution_count": 21,
   "metadata": {},
   "outputs": [
    {
     "data": {
      "text/html": [
       "<div>\n",
       "<style scoped>\n",
       "    .dataframe tbody tr th:only-of-type {\n",
       "        vertical-align: middle;\n",
       "    }\n",
       "\n",
       "    .dataframe tbody tr th {\n",
       "        vertical-align: top;\n",
       "    }\n",
       "\n",
       "    .dataframe thead th {\n",
       "        text-align: right;\n",
       "    }\n",
       "</style>\n",
       "<table border=\"1\" class=\"dataframe\">\n",
       "  <thead>\n",
       "    <tr style=\"text-align: right;\">\n",
       "      <th></th>\n",
       "      <th>age</th>\n",
       "      <th>sex</th>\n",
       "      <th>bmi</th>\n",
       "      <th>children</th>\n",
       "      <th>smoker</th>\n",
       "      <th>region</th>\n",
       "      <th>charges</th>\n",
       "    </tr>\n",
       "  </thead>\n",
       "  <tbody>\n",
       "    <tr>\n",
       "      <th>0</th>\n",
       "      <td>19</td>\n",
       "      <td>female</td>\n",
       "      <td>27.90</td>\n",
       "      <td>0</td>\n",
       "      <td>yes</td>\n",
       "      <td>southwest</td>\n",
       "      <td>16884.9240</td>\n",
       "    </tr>\n",
       "    <tr>\n",
       "      <th>1</th>\n",
       "      <td>18</td>\n",
       "      <td>male</td>\n",
       "      <td>33.77</td>\n",
       "      <td>1</td>\n",
       "      <td>no</td>\n",
       "      <td>southeast</td>\n",
       "      <td>1725.5523</td>\n",
       "    </tr>\n",
       "    <tr>\n",
       "      <th>2</th>\n",
       "      <td>28</td>\n",
       "      <td>male</td>\n",
       "      <td>33.00</td>\n",
       "      <td>3</td>\n",
       "      <td>no</td>\n",
       "      <td>southeast</td>\n",
       "      <td>4449.4620</td>\n",
       "    </tr>\n",
       "  </tbody>\n",
       "</table>\n",
       "</div>"
      ],
      "text/plain": [
       "   age     sex    bmi  children smoker     region     charges\n",
       "0   19  female  27.90         0    yes  southwest  16884.9240\n",
       "1   18    male  33.77         1     no  southeast   1725.5523\n",
       "2   28    male  33.00         3     no  southeast   4449.4620"
      ]
     },
     "execution_count": 21,
     "metadata": {},
     "output_type": "execute_result"
    }
   ],
   "source": [
    "df_columns = pd.DataFrame(json_dict)\n",
    "df_columns"
   ]
  },
  {
   "cell_type": "code",
   "execution_count": 23,
   "metadata": {},
   "outputs": [
    {
     "name": "stdout",
     "output_type": "stream",
     "text": [
      "Split Orientation: {'columns': ['age', 'sex', 'bmi', 'children', 'smoker', 'region', 'charges'], 'index': [0, 1, 2], 'data': [[19, 'female', 27.9, 0, 'yes', 'southwest', 16884.924], [18, 'male', 33.77, 1, 'no', 'southeast', 1725.5523], [28, 'male', 33.0, 3, 'no', 'southeast', 4449.462]]}\n"
     ]
    }
   ],
   "source": [
    "# Split Orientation\n",
    "json_string = df.to_json(orient='split')\n",
    "json_dict = json.loads(json_string)\n",
    "print(f'Split Orientation: {json_dict}')"
   ]
  },
  {
   "cell_type": "code",
   "execution_count": 24,
   "metadata": {},
   "outputs": [
    {
     "data": {
      "text/plain": [
       "['age', 'sex', 'bmi', 'children', 'smoker', 'region', 'charges']"
      ]
     },
     "execution_count": 24,
     "metadata": {},
     "output_type": "execute_result"
    }
   ],
   "source": [
    "json_dict['columns']"
   ]
  },
  {
   "cell_type": "code",
   "execution_count": 25,
   "metadata": {},
   "outputs": [
    {
     "data": {
      "text/plain": [
       "'charges'"
      ]
     },
     "execution_count": 25,
     "metadata": {},
     "output_type": "execute_result"
    }
   ],
   "source": [
    "json_dict['columns'][6]"
   ]
  },
  {
   "cell_type": "code",
   "execution_count": 26,
   "metadata": {},
   "outputs": [
    {
     "data": {
      "text/plain": [
       "[[19, 'female', 27.9, 0, 'yes', 'southwest', 16884.924],\n",
       " [18, 'male', 33.77, 1, 'no', 'southeast', 1725.5523],\n",
       " [28, 'male', 33.0, 3, 'no', 'southeast', 4449.462]]"
      ]
     },
     "execution_count": 26,
     "metadata": {},
     "output_type": "execute_result"
    }
   ],
   "source": [
    "json_dict['data']"
   ]
  },
  {
   "cell_type": "code",
   "execution_count": 27,
   "metadata": {},
   "outputs": [
    {
     "data": {
      "text/plain": [
       "33.77"
      ]
     },
     "execution_count": 27,
     "metadata": {},
     "output_type": "execute_result"
    }
   ],
   "source": [
    "json_dict['data'][1][2]"
   ]
  },
  {
   "cell_type": "code",
   "execution_count": 28,
   "metadata": {},
   "outputs": [
    {
     "name": "stdout",
     "output_type": "stream",
     "text": [
      "Records Orientation: [{'age': 19, 'sex': 'female', 'bmi': 27.9, 'children': 0, 'smoker': 'yes', 'region': 'southwest', 'charges': 16884.924}, {'age': 18, 'sex': 'male', 'bmi': 33.77, 'children': 1, 'smoker': 'no', 'region': 'southeast', 'charges': 1725.5523}, {'age': 28, 'sex': 'male', 'bmi': 33.0, 'children': 3, 'smoker': 'no', 'region': 'southeast', 'charges': 4449.462}]\n"
     ]
    }
   ],
   "source": [
    "# Records Orientation\n",
    "json_string = df.to_json(orient='records')\n",
    "json_dict = json.loads(json_string)\n",
    "print(f'Records Orientation: {json_dict}')"
   ]
  },
  {
   "cell_type": "code",
   "execution_count": 31,
   "metadata": {},
   "outputs": [
    {
     "data": {
      "text/plain": [
       "{'age': 18,\n",
       " 'sex': 'male',\n",
       " 'bmi': 33.77,\n",
       " 'children': 1,\n",
       " 'smoker': 'no',\n",
       " 'region': 'southeast',\n",
       " 'charges': 1725.5523}"
      ]
     },
     "execution_count": 31,
     "metadata": {},
     "output_type": "execute_result"
    }
   ],
   "source": [
    "json_dict[1]"
   ]
  },
  {
   "cell_type": "code",
   "execution_count": 33,
   "metadata": {},
   "outputs": [
    {
     "data": {
      "text/plain": [
       "1725.5523"
      ]
     },
     "execution_count": 33,
     "metadata": {},
     "output_type": "execute_result"
    }
   ],
   "source": [
    "json_dict[1]['charges']"
   ]
  },
  {
   "cell_type": "code",
   "execution_count": 37,
   "metadata": {},
   "outputs": [
    {
     "name": "stdout",
     "output_type": "stream",
     "text": [
      "Index Orientation: {'0': {'age': 19, 'sex': 'female', 'bmi': 27.9, 'children': 0, 'smoker': 'yes', 'region': 'southwest', 'charges': 16884.924}, '1': {'age': 18, 'sex': 'male', 'bmi': 33.77, 'children': 1, 'smoker': 'no', 'region': 'southeast', 'charges': 1725.5523}, '2': {'age': 28, 'sex': 'male', 'bmi': 33.0, 'children': 3, 'smoker': 'no', 'region': 'southeast', 'charges': 4449.462}}\n"
     ]
    }
   ],
   "source": [
    "# Index Orientation\n",
    "json_string = df.to_json(orient='index')\n",
    "json_dict = json.loads(json_string)\n",
    "print(f'Index Orientation: {json_dict}')"
   ]
  },
  {
   "cell_type": "code",
   "execution_count": 38,
   "metadata": {},
   "outputs": [
    {
     "data": {
      "text/plain": [
       "{'age': 19,\n",
       " 'sex': 'female',\n",
       " 'bmi': 27.9,\n",
       " 'children': 0,\n",
       " 'smoker': 'yes',\n",
       " 'region': 'southwest',\n",
       " 'charges': 16884.924}"
      ]
     },
     "execution_count": 38,
     "metadata": {},
     "output_type": "execute_result"
    }
   ],
   "source": [
    "json_dict['0']"
   ]
  },
  {
   "cell_type": "code",
   "execution_count": 39,
   "metadata": {},
   "outputs": [
    {
     "data": {
      "text/plain": [
       "27.9"
      ]
     },
     "execution_count": 39,
     "metadata": {},
     "output_type": "execute_result"
    }
   ],
   "source": [
    "json_dict['0']['bmi']"
   ]
  },
  {
   "cell_type": "code",
   "execution_count": 40,
   "metadata": {},
   "outputs": [
    {
     "name": "stdout",
     "output_type": "stream",
     "text": [
      "Values Orientation: [[19, 'female', 27.9, 0, 'yes', 'southwest', 16884.924], [18, 'male', 33.77, 1, 'no', 'southeast', 1725.5523], [28, 'male', 33.0, 3, 'no', 'southeast', 4449.462]]\n"
     ]
    }
   ],
   "source": [
    "# Values Orientation\n",
    "json_string = df.to_json(orient='values')\n",
    "json_dict = json.loads(json_string)\n",
    "print(f'Values Orientation: {json_dict}')"
   ]
  },
  {
   "cell_type": "code",
   "execution_count": 41,
   "metadata": {},
   "outputs": [
    {
     "data": {
      "text/plain": [
       "[19, 'female', 27.9, 0, 'yes', 'southwest', 16884.924]"
      ]
     },
     "execution_count": 41,
     "metadata": {},
     "output_type": "execute_result"
    }
   ],
   "source": [
    "json_dict[0]"
   ]
  },
  {
   "cell_type": "code",
   "execution_count": 42,
   "metadata": {},
   "outputs": [
    {
     "data": {
      "text/plain": [
       "'female'"
      ]
     },
     "execution_count": 42,
     "metadata": {},
     "output_type": "execute_result"
    }
   ],
   "source": [
    "json_dict[0][1]"
   ]
  },
  {
   "cell_type": "code",
   "execution_count": 43,
   "metadata": {},
   "outputs": [
    {
     "name": "stdout",
     "output_type": "stream",
     "text": [
      "Table Orientation: {'schema': {'fields': [{'name': 'index', 'type': 'integer'}, {'name': 'age', 'type': 'integer'}, {'name': 'sex', 'type': 'string'}, {'name': 'bmi', 'type': 'number'}, {'name': 'children', 'type': 'integer'}, {'name': 'smoker', 'type': 'string'}, {'name': 'region', 'type': 'string'}, {'name': 'charges', 'type': 'number'}], 'primaryKey': ['index'], 'pandas_version': '1.4.0'}, 'data': [{'index': 0, 'age': 19, 'sex': 'female', 'bmi': 27.9, 'children': 0, 'smoker': 'yes', 'region': 'southwest', 'charges': 16884.924}, {'index': 1, 'age': 18, 'sex': 'male', 'bmi': 33.77, 'children': 1, 'smoker': 'no', 'region': 'southeast', 'charges': 1725.5523}, {'index': 2, 'age': 28, 'sex': 'male', 'bmi': 33.0, 'children': 3, 'smoker': 'no', 'region': 'southeast', 'charges': 4449.462}]}\n"
     ]
    }
   ],
   "source": [
    "# Table Orientation\n",
    "json_string = df.to_json(orient='table')\n",
    "json_dict = json.loads(json_string)\n",
    "print(f'Table Orientation: {json_dict}')"
   ]
  },
  {
   "cell_type": "code",
   "execution_count": 44,
   "metadata": {},
   "outputs": [
    {
     "data": {
      "text/plain": [
       "{'fields': [{'name': 'index', 'type': 'integer'},\n",
       "  {'name': 'age', 'type': 'integer'},\n",
       "  {'name': 'sex', 'type': 'string'},\n",
       "  {'name': 'bmi', 'type': 'number'},\n",
       "  {'name': 'children', 'type': 'integer'},\n",
       "  {'name': 'smoker', 'type': 'string'},\n",
       "  {'name': 'region', 'type': 'string'},\n",
       "  {'name': 'charges', 'type': 'number'}],\n",
       " 'primaryKey': ['index'],\n",
       " 'pandas_version': '1.4.0'}"
      ]
     },
     "execution_count": 44,
     "metadata": {},
     "output_type": "execute_result"
    }
   ],
   "source": [
    "json_dict['schema']"
   ]
  },
  {
   "cell_type": "code",
   "execution_count": 45,
   "metadata": {},
   "outputs": [
    {
     "data": {
      "text/plain": [
       "[{'name': 'index', 'type': 'integer'},\n",
       " {'name': 'age', 'type': 'integer'},\n",
       " {'name': 'sex', 'type': 'string'},\n",
       " {'name': 'bmi', 'type': 'number'},\n",
       " {'name': 'children', 'type': 'integer'},\n",
       " {'name': 'smoker', 'type': 'string'},\n",
       " {'name': 'region', 'type': 'string'},\n",
       " {'name': 'charges', 'type': 'number'}]"
      ]
     },
     "execution_count": 45,
     "metadata": {},
     "output_type": "execute_result"
    }
   ],
   "source": [
    "json_dict['schema']['fields']"
   ]
  },
  {
   "cell_type": "code",
   "execution_count": 48,
   "metadata": {},
   "outputs": [
    {
     "data": {
      "text/plain": [
       "{'name': 'age', 'type': 'integer'}"
      ]
     },
     "execution_count": 48,
     "metadata": {},
     "output_type": "execute_result"
    }
   ],
   "source": [
    "json_dict['schema']['fields'][1]"
   ]
  },
  {
   "cell_type": "code",
   "execution_count": 50,
   "metadata": {},
   "outputs": [
    {
     "data": {
      "text/plain": [
       "'age'"
      ]
     },
     "execution_count": 50,
     "metadata": {},
     "output_type": "execute_result"
    }
   ],
   "source": [
    "json_dict['schema']['fields'][1]['name']"
   ]
  },
  {
   "cell_type": "code",
   "execution_count": 51,
   "metadata": {},
   "outputs": [
    {
     "data": {
      "text/plain": [
       "[{'index': 0,\n",
       "  'age': 19,\n",
       "  'sex': 'female',\n",
       "  'bmi': 27.9,\n",
       "  'children': 0,\n",
       "  'smoker': 'yes',\n",
       "  'region': 'southwest',\n",
       "  'charges': 16884.924},\n",
       " {'index': 1,\n",
       "  'age': 18,\n",
       "  'sex': 'male',\n",
       "  'bmi': 33.77,\n",
       "  'children': 1,\n",
       "  'smoker': 'no',\n",
       "  'region': 'southeast',\n",
       "  'charges': 1725.5523},\n",
       " {'index': 2,\n",
       "  'age': 28,\n",
       "  'sex': 'male',\n",
       "  'bmi': 33.0,\n",
       "  'children': 3,\n",
       "  'smoker': 'no',\n",
       "  'region': 'southeast',\n",
       "  'charges': 4449.462}]"
      ]
     },
     "execution_count": 51,
     "metadata": {},
     "output_type": "execute_result"
    }
   ],
   "source": [
    "json_dict['data']"
   ]
  },
  {
   "cell_type": "code",
   "execution_count": 52,
   "metadata": {},
   "outputs": [
    {
     "data": {
      "text/plain": [
       "{'index': 0,\n",
       " 'age': 19,\n",
       " 'sex': 'female',\n",
       " 'bmi': 27.9,\n",
       " 'children': 0,\n",
       " 'smoker': 'yes',\n",
       " 'region': 'southwest',\n",
       " 'charges': 16884.924}"
      ]
     },
     "execution_count": 52,
     "metadata": {},
     "output_type": "execute_result"
    }
   ],
   "source": [
    "json_dict['data'][0]"
   ]
  },
  {
   "cell_type": "code",
   "execution_count": 53,
   "metadata": {},
   "outputs": [
    {
     "data": {
      "text/plain": [
       "27.9"
      ]
     },
     "execution_count": 53,
     "metadata": {},
     "output_type": "execute_result"
    }
   ],
   "source": [
    "json_dict['data'][0]['bmi']"
   ]
  },
  {
   "cell_type": "markdown",
   "metadata": {},
   "source": [
    "## Python: write to sqlite database from pandas dataframe"
   ]
  },
  {
   "cell_type": "code",
   "execution_count": 1,
   "metadata": {},
   "outputs": [
    {
     "data": {
      "text/html": [
       "<div>\n",
       "<style scoped>\n",
       "    .dataframe tbody tr th:only-of-type {\n",
       "        vertical-align: middle;\n",
       "    }\n",
       "\n",
       "    .dataframe tbody tr th {\n",
       "        vertical-align: top;\n",
       "    }\n",
       "\n",
       "    .dataframe thead th {\n",
       "        text-align: right;\n",
       "    }\n",
       "</style>\n",
       "<table border=\"1\" class=\"dataframe\">\n",
       "  <thead>\n",
       "    <tr style=\"text-align: right;\">\n",
       "      <th></th>\n",
       "      <th>age</th>\n",
       "      <th>sex</th>\n",
       "      <th>bmi</th>\n",
       "      <th>children</th>\n",
       "      <th>smoker</th>\n",
       "      <th>region</th>\n",
       "      <th>charges</th>\n",
       "    </tr>\n",
       "  </thead>\n",
       "  <tbody>\n",
       "    <tr>\n",
       "      <th>0</th>\n",
       "      <td>19</td>\n",
       "      <td>female</td>\n",
       "      <td>27.90</td>\n",
       "      <td>0</td>\n",
       "      <td>yes</td>\n",
       "      <td>southwest</td>\n",
       "      <td>16884.9240</td>\n",
       "    </tr>\n",
       "    <tr>\n",
       "      <th>1</th>\n",
       "      <td>18</td>\n",
       "      <td>male</td>\n",
       "      <td>33.77</td>\n",
       "      <td>1</td>\n",
       "      <td>no</td>\n",
       "      <td>southeast</td>\n",
       "      <td>1725.5523</td>\n",
       "    </tr>\n",
       "    <tr>\n",
       "      <th>2</th>\n",
       "      <td>28</td>\n",
       "      <td>male</td>\n",
       "      <td>33.00</td>\n",
       "      <td>3</td>\n",
       "      <td>no</td>\n",
       "      <td>southeast</td>\n",
       "      <td>4449.4620</td>\n",
       "    </tr>\n",
       "  </tbody>\n",
       "</table>\n",
       "</div>"
      ],
      "text/plain": [
       "   age     sex    bmi  children smoker     region     charges\n",
       "0   19  female  27.90         0    yes  southwest  16884.9240\n",
       "1   18    male  33.77         1     no  southeast   1725.5523\n",
       "2   28    male  33.00         3     no  southeast   4449.4620"
      ]
     },
     "execution_count": 1,
     "metadata": {},
     "output_type": "execute_result"
    }
   ],
   "source": [
    "import sqlite3\n",
    "import pandas as pd\n",
    "\n",
    "file_path = './data/insurance.csv'\n",
    "df = pd.read_csv(file_path)\n",
    "df.head(3)"
   ]
  },
  {
   "cell_type": "code",
   "execution_count": 2,
   "metadata": {},
   "outputs": [],
   "source": [
    "path_to_db = './data/insurance.db'\n",
    "conn = sqlite3.connect(path_to_db)"
   ]
  },
  {
   "cell_type": "code",
   "execution_count": 3,
   "metadata": {},
   "outputs": [
    {
     "data": {
      "text/plain": [
       "<sqlite3.Cursor at 0x1f994f1ba40>"
      ]
     },
     "execution_count": 3,
     "metadata": {},
     "output_type": "execute_result"
    }
   ],
   "source": [
    "create_sql =    'CREATE TABLE IF NOT EXISTS customers(age INTEGER, sex TEXT, bmi REAL, \\\n",
    "                children INTEGER, smoker TEXT, region TEXT, charges REAL )'\n",
    "cursor = conn.cursor()\n",
    "cursor.execute(create_sql)"
   ]
  },
  {
   "cell_type": "code",
   "execution_count": 4,
   "metadata": {},
   "outputs": [],
   "source": [
    "# Row by Row Method\n",
    "for row in df.itertuples():\n",
    "    insert_sql = f\"INSERT INTO customers (age, sex, bmi, children, smoker, region, charges) \\\n",
    "        VALUES ({row[1]}, '{row[2]}', {row[3]}, {row[4]}, '{row[5]}', '{row[6]}', {row[7]})\"\n",
    "    cursor.execute(insert_sql)\n",
    "\n"
   ]
  },
  {
   "cell_type": "code",
   "execution_count": 5,
   "metadata": {},
   "outputs": [],
   "source": [
    "conn.commit()"
   ]
  },
  {
   "cell_type": "code",
   "execution_count": 6,
   "metadata": {},
   "outputs": [],
   "source": [
    "path2_to_db = './data/insurance2.db'\n",
    "conn2 = sqlite3.connect(path2_to_db)\n",
    "\n",
    "# Dataframe all at once method\n",
    "df.to_sql(name='customers', con=conn2, if_exists='replace', index=False)\n",
    "conn2.commit()\n"
   ]
  },
  {
   "cell_type": "code",
   "execution_count": null,
   "metadata": {},
   "outputs": [],
   "source": []
  }
 ],
 "metadata": {
  "kernelspec": {
   "display_name": "Python 3",
   "language": "python",
   "name": "python3"
  },
  "language_info": {
   "codemirror_mode": {
    "name": "ipython",
    "version": 3
   },
   "file_extension": ".py",
   "mimetype": "text/x-python",
   "name": "python",
   "nbconvert_exporter": "python",
   "pygments_lexer": "ipython3",
   "version": "3.12.4"
  }
 },
 "nbformat": 4,
 "nbformat_minor": 2
}
