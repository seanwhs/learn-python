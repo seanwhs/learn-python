{
 "cells": [
  {
   "cell_type": "code",
   "execution_count": 8,
   "metadata": {},
   "outputs": [],
   "source": [
    "import pandas as pd\n",
    "from sklearn.tree import DecisionTreeClassifier\n",
    "from sklearn import tree\n",
    "\n",
    "# Import Data File into a dataframe\n",
    "data_path=\"../data/music.csv\"\n",
    "music_data = pd.read_csv(data_path)\n",
    "# Split data into input set and output set\n",
    "\n",
    "# Input set (X): drop 'genre' column\n",
    "X = music_data.drop(columns=[\"genre\"]) \n",
    "\n",
    "# Output set (y): select only the 'genre' column\n",
    "y = music_data['genre'] \n",
    "\n",
    "# Build Model\n",
    "model = DecisionTreeClassifier() # Create instance of DEscisionTreeClassifier\n",
    "\n",
    "# Fit Model - Train Model\n",
    "model.fit(X,y)\n",
    "\n",
    "tree.export_graphviz(\n",
    "    model, out_file=\"music_recommender.dot\", \n",
    "    feature_names=['age', 'gender'],\n",
    "    class_names=sorted(y.unique()),\n",
    "    label='all',\n",
    "    rounded = True,\n",
    "    filled=True,\n",
    "    )"
   ]
  },
  {
   "cell_type": "code",
   "execution_count": null,
   "metadata": {},
   "outputs": [],
   "source": []
  }
 ],
 "metadata": {
  "kernelspec": {
   "display_name": "Python 3",
   "language": "python",
   "name": "python3"
  },
  "language_info": {
   "codemirror_mode": {
    "name": "ipython",
    "version": 3
   },
   "file_extension": ".py",
   "mimetype": "text/x-python",
   "name": "python",
   "nbconvert_exporter": "python",
   "pygments_lexer": "ipython3",
   "version": "3.12.4"
  }
 },
 "nbformat": 4,
 "nbformat_minor": 2
}
