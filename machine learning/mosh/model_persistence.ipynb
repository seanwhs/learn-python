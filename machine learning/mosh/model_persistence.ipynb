{
 "cells": [
  {
   "cell_type": "code",
   "execution_count": 7,
   "metadata": {},
   "outputs": [
    {
     "data": {
      "text/plain": [
       "['music-recommender.joblib']"
      ]
     },
     "execution_count": 7,
     "metadata": {},
     "output_type": "execute_result"
    }
   ],
   "source": [
    "import pandas as pd\n",
    "from sklearn.tree import DecisionTreeClassifier\n",
    "import joblib # joblib object has methods for saving and loading models \n",
    "\n",
    "# Import Data File into a dataframe\n",
    "data_path=\"../data/music.csv\"\n",
    "music_data = pd.read_csv(data_path)\n",
    "# Split data into input set and output set\n",
    "\n",
    "# Input set (X): drop 'genre' column\n",
    "X = music_data.drop(columns=[\"genre\"]) \n",
    "\n",
    "# Output set (y): select only the 'genre' column\n",
    "y = music_data['genre'] \n",
    "\n",
    "# Build Model\n",
    "model = DecisionTreeClassifier() # Create instance of DEscisionTreeClassifier\n",
    "\n",
    "# Fit Model - Train Model\n",
    "model.fit(X,y)\n",
    "\n",
    "# save model\n",
    "joblib.dump(model, 'music-recommender.joblib')"
   ]
  },
  {
   "cell_type": "code",
   "execution_count": 10,
   "metadata": {},
   "outputs": [
    {
     "name": "stdout",
     "output_type": "stream",
     "text": [
      "['HipHop' 'Dance']\n"
     ]
    },
    {
     "name": "stderr",
     "output_type": "stream",
     "text": [
      "d:\\Users\\Sean\\AppData\\Local\\Programs\\Python\\Python312\\Lib\\site-packages\\sklearn\\base.py:493: UserWarning: X does not have valid feature names, but DecisionTreeClassifier was fitted with feature names\n",
      "  warnings.warn(\n"
     ]
    }
   ],
   "source": [
    "# load model\n",
    "model = joblib.load(\"music-recommender.joblib\")\n",
    "\n",
    "# predict genre for 21 year-old male and 22 year-old female\n",
    "predictions = model.predict([[21,1], [22,0]]) # predict() takes in a 2D array\n",
    "print(predictions)"
   ]
  }
 ],
 "metadata": {
  "kernelspec": {
   "display_name": "Python 3",
   "language": "python",
   "name": "python3"
  },
  "language_info": {
   "codemirror_mode": {
    "name": "ipython",
    "version": 3
   },
   "file_extension": ".py",
   "mimetype": "text/x-python",
   "name": "python",
   "nbconvert_exporter": "python",
   "pygments_lexer": "ipython3",
   "version": "3.12.4"
  }
 },
 "nbformat": 4,
 "nbformat_minor": 2
}
