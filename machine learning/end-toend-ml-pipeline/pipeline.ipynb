{
 "cells": [
  {
   "cell_type": "markdown",
   "metadata": {},
   "source": [
    "## Build and End to End ML Pipeline \n",
    "### Steps:       \n",
    "* Load the data.    \n",
    "* Perform data preprocessing.  \n",
    "* Split the data.  \n",
    "* Apply transformations to the data using the fit() method.    \n",
    "* Finally, predict the output on the test set and evaluate the performance of the model.   \n",
    "\n",
    "https://www.labellerr.com/blog/end-to-end-ml-pipeline/      \n",
    "\n",
    "![Pipeline Image](pipeline.webp)\n"
   ]
  },
  {
   "cell_type": "markdown",
   "metadata": {},
   "source": []
  }
 ],
 "metadata": {
  "language_info": {
   "name": "python"
  }
 },
 "nbformat": 4,
 "nbformat_minor": 2
}
